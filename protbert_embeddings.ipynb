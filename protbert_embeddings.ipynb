{
  "nbformat": 4,
  "nbformat_minor": 0,
  "metadata": {
    "colab": {
      "provenance": [],
      "collapsed_sections": [],
      "include_colab_link": true
    },
    "kernelspec": {
      "name": "python3",
      "display_name": "Python 3"
    },
    "language_info": {
      "name": "python"
    },
    "accelerator": "GPU"
  },
  "cells": [
    {
      "cell_type": "markdown",
      "metadata": {
        "id": "view-in-github",
        "colab_type": "text"
      },
      "source": [
        "<a href=\"https://colab.research.google.com/github/isaacfinberg/Novozymes-Enzyme-Stability-Prediction/blob/isaac.develop/protbert_embeddings.ipynb\" target=\"_parent\"><img src=\"https://colab.research.google.com/assets/colab-badge.svg\" alt=\"Open In Colab\"/></a>"
      ]
    },
    {
      "cell_type": "code",
      "execution_count": 1,
      "metadata": {
        "colab": {
          "base_uri": "https://localhost:8080/"
        },
        "id": "aRcmomNzmFaQ",
        "outputId": "e548bda8-63b3-4d7d-ae77-02ccf948c161"
      },
      "outputs": [
        {
          "output_type": "stream",
          "name": "stdout",
          "text": [
            "Drive already mounted at /content/drive; to attempt to forcibly remount, call drive.mount(\"/content/drive\", force_remount=True).\n"
          ]
        }
      ],
      "source": [
        "from google.colab import drive; drive.mount('/content/drive')   # OK to enable, if your kaggle.json is stored in Google Drive"
      ]
    },
    {
      "cell_type": "code",
      "source": [
        "!pip -q install --upgrade --force-reinstall --no-deps kaggle > log  \n",
        "!mkdir -p ~/.kaggle                                          \n",
        "!cp /content/drive/MyDrive/kaggle.json ~/.kaggle/kaggle.json >log \n",
        "!cp kaggle.json ~/.kaggle/kaggle.json > log              \n",
        "!chmod 600 ~/.kaggle/kaggle.json                            \n",
        "!kaggle config set -n competition -v novozymes-enzyme-stability-prediction   \n",
        "!kaggle competitions download -c novozymes-enzyme-stability-prediction         \n",
        "!unzip -o *.zip >> log                           \n",
        "# !kaggle competitions leaderboard --show                "
      ],
      "metadata": {
        "colab": {
          "base_uri": "https://localhost:8080/"
        },
        "id": "o0g4XjhLmk9i",
        "outputId": "74da8474-0f07-4b49-b6be-1e16471a84d8"
      },
      "execution_count": 2,
      "outputs": [
        {
          "output_type": "stream",
          "name": "stdout",
          "text": [
            "cp: cannot stat 'kaggle.json': No such file or directory\n",
            "- competition is now set to: novozymes-enzyme-stability-prediction\n",
            "novozymes-enzyme-stability-prediction.zip: Skipping, found more recently modified local copy (use --force to force download)\n"
          ]
        }
      ]
    },
    {
      "cell_type": "code",
      "source": [
        "import pandas as pd\n",
        "import numpy as np\n",
        "\n",
        "# df = pd.read_csv('train.csv', low_memory=False); df"
      ],
      "metadata": {
        "id": "Me3nVTXsmpsC"
      },
      "execution_count": 3,
      "outputs": []
    },
    {
      "cell_type": "code",
      "source": [
        "# df_test = pd.read_csv('test.csv', low_memory=False)\n",
        "# df_test.head()"
      ],
      "metadata": {
        "id": "Q1vCptuf2H5g"
      },
      "execution_count": 4,
      "outputs": []
    },
    {
      "cell_type": "markdown",
      "source": [
        "# Read/Format Embeddings"
      ],
      "metadata": {
        "id": "sldwAh_r7cCH"
      }
    },
    {
      "cell_type": "code",
      "source": [
        "emb_train = pd.read_csv('/content/drive/MyDrive/kaggle_deep_learning/final project/train_embeddings.csv').set_index('seq_id')\n",
        "emb_test = pd.read_csv('/content/drive/MyDrive/kaggle_deep_learning/final project/test_embeddings.csv', engine='python', error_bad_lines=False).set_index('seq_id')"
      ],
      "metadata": {
        "colab": {
          "base_uri": "https://localhost:8080/"
        },
        "id": "Z0rDX3NcyDyV",
        "outputId": "d0bf4eb2-fa25-421a-e43a-7d26b3e6da29"
      },
      "execution_count": 5,
      "outputs": [
        {
          "output_type": "stream",
          "name": "stderr",
          "text": [
            "/usr/local/lib/python3.7/dist-packages/IPython/core/interactiveshell.py:3326: FutureWarning: The error_bad_lines argument has been deprecated and will be removed in a future version.\n",
            "\n",
            "\n",
            "  exec(code_obj, self.user_global_ns, self.user_ns)\n",
            "Skipping line 26697: unexpected end of data\n"
          ]
        }
      ]
    },
    {
      "cell_type": "code",
      "source": [
        "emb_train['bert_embedding'] = emb_train['bert_embedding'].apply(lambda x: x.strip('][').split(', '))\n",
        "emb_test['bert_embedding'] = emb_test['bert_embedding'].apply(lambda x: x.strip('][').split(', '))\n",
        "emb_train = emb_train[['bert_embedding', 'tm']]\n",
        "emb_test = emb_test[['bert_embedding', 'tm']]"
      ],
      "metadata": {
        "id": "8LHkjhS80tsy"
      },
      "execution_count": 7,
      "outputs": []
    },
    {
      "cell_type": "code",
      "source": [
        "data = []\n",
        "for i in emb_train.index:\n",
        "  emb = {j:float(emb_train.loc[i, 'bert_embedding'][j]) for j in range(1024)}\n",
        "  emb.update({'tm': emb_train.loc[i, 'tm']})\n",
        "  data.append(emb)"
      ],
      "metadata": {
        "id": "tBr4VkSn1Fel"
      },
      "execution_count": 34,
      "outputs": []
    },
    {
      "cell_type": "code",
      "source": [
        "data = pd.DataFrame(data)\n",
        "data.head()"
      ],
      "metadata": {
        "colab": {
          "base_uri": "https://localhost:8080/",
          "height": 300
        },
        "id": "stHUhuRh37br",
        "outputId": "1ab9a8d2-45f7-44ae-fb9d-9ef1ba2e4f4d"
      },
      "execution_count": 35,
      "outputs": [
        {
          "output_type": "execute_result",
          "data": {
            "text/plain": [
              "          0         1         2         3         4         5         6  \\\n",
              "0 -0.256925  0.271155 -0.244614 -0.259322 -0.277600 -0.271604 -0.269424   \n",
              "1 -0.265456  0.280060 -0.252809 -0.267916 -0.286670 -0.280521 -0.278284   \n",
              "2 -0.260598  0.274973 -0.248154 -0.263019 -0.281481 -0.275426 -0.273225   \n",
              "3 -0.244937  0.258626 -0.233111 -0.247241 -0.264832 -0.259059 -0.256959   \n",
              "4 -0.282981  0.298361 -0.269637 -0.285574 -0.305312 -0.298844 -0.296492   \n",
              "\n",
              "          7         8         9  ...      1015      1016      1017      1018  \\\n",
              "0 -0.266613  0.250350 -0.262595  ... -0.254393  0.268699 -0.266278 -0.264293   \n",
              "1 -0.275400  0.258703 -0.271277  ... -0.262856  0.277541 -0.275056 -0.273019   \n",
              "2 -0.270386  0.253953 -0.266327  ... -0.258039  0.272493 -0.270047 -0.268041   \n",
              "3 -0.254255  0.238619 -0.250390  ... -0.242503  0.256261 -0.253933 -0.252023   \n",
              "4 -0.293455  0.275860 -0.289115  ... -0.280240  0.295709 -0.293094 -0.290949   \n",
              "\n",
              "       1019      1020      1021      1022      1023    tm  \n",
              "0 -0.248284  0.254902  0.258594  0.241834 -0.264002  75.7  \n",
              "1 -0.256581  0.263378  0.267170  0.249951 -0.272721  50.5  \n",
              "2 -0.251865  0.258553  0.262284  0.245344 -0.267748  40.5  \n",
              "3 -0.236635  0.242993  0.246541  0.230441 -0.251743  47.2  \n",
              "4 -0.273620  0.280789  0.284788  0.266621 -0.290635  49.5  \n",
              "\n",
              "[5 rows x 1025 columns]"
            ],
            "text/html": [
              "\n",
              "  <div id=\"df-f6d793c6-9705-4524-abd2-59924b06a19a\">\n",
              "    <div class=\"colab-df-container\">\n",
              "      <div>\n",
              "<style scoped>\n",
              "    .dataframe tbody tr th:only-of-type {\n",
              "        vertical-align: middle;\n",
              "    }\n",
              "\n",
              "    .dataframe tbody tr th {\n",
              "        vertical-align: top;\n",
              "    }\n",
              "\n",
              "    .dataframe thead th {\n",
              "        text-align: right;\n",
              "    }\n",
              "</style>\n",
              "<table border=\"1\" class=\"dataframe\">\n",
              "  <thead>\n",
              "    <tr style=\"text-align: right;\">\n",
              "      <th></th>\n",
              "      <th>0</th>\n",
              "      <th>1</th>\n",
              "      <th>2</th>\n",
              "      <th>3</th>\n",
              "      <th>4</th>\n",
              "      <th>5</th>\n",
              "      <th>6</th>\n",
              "      <th>7</th>\n",
              "      <th>8</th>\n",
              "      <th>9</th>\n",
              "      <th>...</th>\n",
              "      <th>1015</th>\n",
              "      <th>1016</th>\n",
              "      <th>1017</th>\n",
              "      <th>1018</th>\n",
              "      <th>1019</th>\n",
              "      <th>1020</th>\n",
              "      <th>1021</th>\n",
              "      <th>1022</th>\n",
              "      <th>1023</th>\n",
              "      <th>tm</th>\n",
              "    </tr>\n",
              "  </thead>\n",
              "  <tbody>\n",
              "    <tr>\n",
              "      <th>0</th>\n",
              "      <td>-0.256925</td>\n",
              "      <td>0.271155</td>\n",
              "      <td>-0.244614</td>\n",
              "      <td>-0.259322</td>\n",
              "      <td>-0.277600</td>\n",
              "      <td>-0.271604</td>\n",
              "      <td>-0.269424</td>\n",
              "      <td>-0.266613</td>\n",
              "      <td>0.250350</td>\n",
              "      <td>-0.262595</td>\n",
              "      <td>...</td>\n",
              "      <td>-0.254393</td>\n",
              "      <td>0.268699</td>\n",
              "      <td>-0.266278</td>\n",
              "      <td>-0.264293</td>\n",
              "      <td>-0.248284</td>\n",
              "      <td>0.254902</td>\n",
              "      <td>0.258594</td>\n",
              "      <td>0.241834</td>\n",
              "      <td>-0.264002</td>\n",
              "      <td>75.7</td>\n",
              "    </tr>\n",
              "    <tr>\n",
              "      <th>1</th>\n",
              "      <td>-0.265456</td>\n",
              "      <td>0.280060</td>\n",
              "      <td>-0.252809</td>\n",
              "      <td>-0.267916</td>\n",
              "      <td>-0.286670</td>\n",
              "      <td>-0.280521</td>\n",
              "      <td>-0.278284</td>\n",
              "      <td>-0.275400</td>\n",
              "      <td>0.258703</td>\n",
              "      <td>-0.271277</td>\n",
              "      <td>...</td>\n",
              "      <td>-0.262856</td>\n",
              "      <td>0.277541</td>\n",
              "      <td>-0.275056</td>\n",
              "      <td>-0.273019</td>\n",
              "      <td>-0.256581</td>\n",
              "      <td>0.263378</td>\n",
              "      <td>0.267170</td>\n",
              "      <td>0.249951</td>\n",
              "      <td>-0.272721</td>\n",
              "      <td>50.5</td>\n",
              "    </tr>\n",
              "    <tr>\n",
              "      <th>2</th>\n",
              "      <td>-0.260598</td>\n",
              "      <td>0.274973</td>\n",
              "      <td>-0.248154</td>\n",
              "      <td>-0.263019</td>\n",
              "      <td>-0.281481</td>\n",
              "      <td>-0.275426</td>\n",
              "      <td>-0.273225</td>\n",
              "      <td>-0.270386</td>\n",
              "      <td>0.253953</td>\n",
              "      <td>-0.266327</td>\n",
              "      <td>...</td>\n",
              "      <td>-0.258039</td>\n",
              "      <td>0.272493</td>\n",
              "      <td>-0.270047</td>\n",
              "      <td>-0.268041</td>\n",
              "      <td>-0.251865</td>\n",
              "      <td>0.258553</td>\n",
              "      <td>0.262284</td>\n",
              "      <td>0.245344</td>\n",
              "      <td>-0.267748</td>\n",
              "      <td>40.5</td>\n",
              "    </tr>\n",
              "    <tr>\n",
              "      <th>3</th>\n",
              "      <td>-0.244937</td>\n",
              "      <td>0.258626</td>\n",
              "      <td>-0.233111</td>\n",
              "      <td>-0.247241</td>\n",
              "      <td>-0.264832</td>\n",
              "      <td>-0.259059</td>\n",
              "      <td>-0.256959</td>\n",
              "      <td>-0.254255</td>\n",
              "      <td>0.238619</td>\n",
              "      <td>-0.250390</td>\n",
              "      <td>...</td>\n",
              "      <td>-0.242503</td>\n",
              "      <td>0.256261</td>\n",
              "      <td>-0.253933</td>\n",
              "      <td>-0.252023</td>\n",
              "      <td>-0.236635</td>\n",
              "      <td>0.242993</td>\n",
              "      <td>0.246541</td>\n",
              "      <td>0.230441</td>\n",
              "      <td>-0.251743</td>\n",
              "      <td>47.2</td>\n",
              "    </tr>\n",
              "    <tr>\n",
              "      <th>4</th>\n",
              "      <td>-0.282981</td>\n",
              "      <td>0.298361</td>\n",
              "      <td>-0.269637</td>\n",
              "      <td>-0.285574</td>\n",
              "      <td>-0.305312</td>\n",
              "      <td>-0.298844</td>\n",
              "      <td>-0.296492</td>\n",
              "      <td>-0.293455</td>\n",
              "      <td>0.275860</td>\n",
              "      <td>-0.289115</td>\n",
              "      <td>...</td>\n",
              "      <td>-0.280240</td>\n",
              "      <td>0.295709</td>\n",
              "      <td>-0.293094</td>\n",
              "      <td>-0.290949</td>\n",
              "      <td>-0.273620</td>\n",
              "      <td>0.280789</td>\n",
              "      <td>0.284788</td>\n",
              "      <td>0.266621</td>\n",
              "      <td>-0.290635</td>\n",
              "      <td>49.5</td>\n",
              "    </tr>\n",
              "  </tbody>\n",
              "</table>\n",
              "<p>5 rows × 1025 columns</p>\n",
              "</div>\n",
              "      <button class=\"colab-df-convert\" onclick=\"convertToInteractive('df-f6d793c6-9705-4524-abd2-59924b06a19a')\"\n",
              "              title=\"Convert this dataframe to an interactive table.\"\n",
              "              style=\"display:none;\">\n",
              "        \n",
              "  <svg xmlns=\"http://www.w3.org/2000/svg\" height=\"24px\"viewBox=\"0 0 24 24\"\n",
              "       width=\"24px\">\n",
              "    <path d=\"M0 0h24v24H0V0z\" fill=\"none\"/>\n",
              "    <path d=\"M18.56 5.44l.94 2.06.94-2.06 2.06-.94-2.06-.94-.94-2.06-.94 2.06-2.06.94zm-11 1L8.5 8.5l.94-2.06 2.06-.94-2.06-.94L8.5 2.5l-.94 2.06-2.06.94zm10 10l.94 2.06.94-2.06 2.06-.94-2.06-.94-.94-2.06-.94 2.06-2.06.94z\"/><path d=\"M17.41 7.96l-1.37-1.37c-.4-.4-.92-.59-1.43-.59-.52 0-1.04.2-1.43.59L10.3 9.45l-7.72 7.72c-.78.78-.78 2.05 0 2.83L4 21.41c.39.39.9.59 1.41.59.51 0 1.02-.2 1.41-.59l7.78-7.78 2.81-2.81c.8-.78.8-2.07 0-2.86zM5.41 20L4 18.59l7.72-7.72 1.47 1.35L5.41 20z\"/>\n",
              "  </svg>\n",
              "      </button>\n",
              "      \n",
              "  <style>\n",
              "    .colab-df-container {\n",
              "      display:flex;\n",
              "      flex-wrap:wrap;\n",
              "      gap: 12px;\n",
              "    }\n",
              "\n",
              "    .colab-df-convert {\n",
              "      background-color: #E8F0FE;\n",
              "      border: none;\n",
              "      border-radius: 50%;\n",
              "      cursor: pointer;\n",
              "      display: none;\n",
              "      fill: #1967D2;\n",
              "      height: 32px;\n",
              "      padding: 0 0 0 0;\n",
              "      width: 32px;\n",
              "    }\n",
              "\n",
              "    .colab-df-convert:hover {\n",
              "      background-color: #E2EBFA;\n",
              "      box-shadow: 0px 1px 2px rgba(60, 64, 67, 0.3), 0px 1px 3px 1px rgba(60, 64, 67, 0.15);\n",
              "      fill: #174EA6;\n",
              "    }\n",
              "\n",
              "    [theme=dark] .colab-df-convert {\n",
              "      background-color: #3B4455;\n",
              "      fill: #D2E3FC;\n",
              "    }\n",
              "\n",
              "    [theme=dark] .colab-df-convert:hover {\n",
              "      background-color: #434B5C;\n",
              "      box-shadow: 0px 1px 3px 1px rgba(0, 0, 0, 0.15);\n",
              "      filter: drop-shadow(0px 1px 2px rgba(0, 0, 0, 0.3));\n",
              "      fill: #FFFFFF;\n",
              "    }\n",
              "  </style>\n",
              "\n",
              "      <script>\n",
              "        const buttonEl =\n",
              "          document.querySelector('#df-f6d793c6-9705-4524-abd2-59924b06a19a button.colab-df-convert');\n",
              "        buttonEl.style.display =\n",
              "          google.colab.kernel.accessAllowed ? 'block' : 'none';\n",
              "\n",
              "        async function convertToInteractive(key) {\n",
              "          const element = document.querySelector('#df-f6d793c6-9705-4524-abd2-59924b06a19a');\n",
              "          const dataTable =\n",
              "            await google.colab.kernel.invokeFunction('convertToInteractive',\n",
              "                                                     [key], {});\n",
              "          if (!dataTable) return;\n",
              "\n",
              "          const docLinkHtml = 'Like what you see? Visit the ' +\n",
              "            '<a target=\"_blank\" href=https://colab.research.google.com/notebooks/data_table.ipynb>data table notebook</a>'\n",
              "            + ' to learn more about interactive tables.';\n",
              "          element.innerHTML = '';\n",
              "          dataTable['output_type'] = 'display_data';\n",
              "          await google.colab.output.renderOutput(dataTable, element);\n",
              "          const docLink = document.createElement('div');\n",
              "          docLink.innerHTML = docLinkHtml;\n",
              "          element.appendChild(docLink);\n",
              "        }\n",
              "      </script>\n",
              "    </div>\n",
              "  </div>\n",
              "  "
            ]
          },
          "metadata": {},
          "execution_count": 35
        }
      ]
    },
    {
      "cell_type": "markdown",
      "source": [
        "# Tree based regressor"
      ],
      "metadata": {
        "id": "nXEN_K8l7fr_"
      }
    },
    {
      "cell_type": "code",
      "source": [
        "from sklearn.ensemble import GradientBoostingRegressor\n",
        "from sklearn.feature_extraction import text\n",
        "from sklearn.random_projection import GaussianRandomProjection\n",
        "from scipy import stats\n",
        "import tensorflow as tf\n",
        "from tensorflow.keras.layers import Dense, BatchNormalization, Flatten, Dropout\n",
        "from sklearn.model_selection import train_test_split\n",
        "from sklearn.preprocessing import StandardScaler\n",
        "from xgboost import XGBRegressor\n",
        "\n",
        "SEED = 0"
      ],
      "metadata": {
        "id": "Lpi1LR-v970J"
      },
      "execution_count": 37,
      "outputs": []
    },
    {
      "cell_type": "code",
      "source": [
        "train_X, test_X, train_y, test_y = train_test_split(data.iloc[:, :-1], data['tm'], test_size=1000, random_state=SEED, shuffle=True)"
      ],
      "metadata": {
        "id": "bc0jlf3X3PyQ"
      },
      "execution_count": 38,
      "outputs": []
    },
    {
      "cell_type": "code",
      "source": [
        "regressor = GradientBoostingRegressor(loss='squared_error', learning_rate=0.1, n_estimators=100, subsample=1.0, criterion='friedman_mse', \n",
        "                                      min_samples_split=2, min_samples_leaf=1, min_weight_fraction_leaf=0.0, max_depth=3, min_impurity_decrease=0.0, \n",
        "                                      init=None, random_state=None, max_features=None, alpha=0.9, verbose=0, max_leaf_nodes=None, warm_start=False, \n",
        "                                      validation_fraction=0.1, n_iter_no_change=None, tol=0.0001, ccp_alpha=0.0)\n",
        "regressor.fit(train_X, train_y)"
      ],
      "metadata": {
        "colab": {
          "base_uri": "https://localhost:8080/"
        },
        "id": "KXmKHiRM7qjV",
        "outputId": "97a29085-f2ec-4d55-d961-acecdf9f7d1d"
      },
      "execution_count": 39,
      "outputs": [
        {
          "output_type": "execute_result",
          "data": {
            "text/plain": [
              "GradientBoostingRegressor()"
            ]
          },
          "metadata": {},
          "execution_count": 39
        }
      ]
    },
    {
      "cell_type": "code",
      "source": [
        "regressor2 = XGBRegressor()\n",
        "regressor2.fit(train_X, train_y)"
      ],
      "metadata": {
        "colab": {
          "base_uri": "https://localhost:8080/"
        },
        "id": "VRnEFTnhCaib",
        "outputId": "6823290b-a8f8-473f-a4fb-66747d4b31db"
      },
      "execution_count": 41,
      "outputs": [
        {
          "output_type": "stream",
          "name": "stdout",
          "text": [
            "[00:13:56] WARNING: /workspace/src/objective/regression_obj.cu:152: reg:linear is now deprecated in favor of reg:squarederror.\n"
          ]
        },
        {
          "output_type": "execute_result",
          "data": {
            "text/plain": [
              "XGBRegressor()"
            ]
          },
          "metadata": {},
          "execution_count": 41
        }
      ]
    },
    {
      "cell_type": "code",
      "source": [
        "preds = regressor2.predict(test_X)\n",
        "spearman = stats.spearmanr(test_y, preds)\n",
        "print(spearman)"
      ],
      "metadata": {
        "colab": {
          "base_uri": "https://localhost:8080/"
        },
        "id": "sD3jRldV84PF",
        "outputId": "f738c79c-dcdd-4aa8-97bf-c669cfbf543e"
      },
      "execution_count": 42,
      "outputs": [
        {
          "output_type": "stream",
          "name": "stdout",
          "text": [
            "SpearmanrResult(correlation=0.05260756335281955, pvalue=0.09637892359018889)\n"
          ]
        }
      ]
    },
    {
      "cell_type": "code",
      "source": [
        "from matplotlib import pyplot as plt\n",
        "%matplotlib inline\n",
        "\n",
        "plt.hist(preds)\n",
        "plt.hist(test_y)"
      ],
      "metadata": {
        "colab": {
          "base_uri": "https://localhost:8080/",
          "height": 336
        },
        "id": "VcM5TRWd8YFh",
        "outputId": "ec4af20b-53de-497b-f962-d137447758d3"
      },
      "execution_count": 48,
      "outputs": [
        {
          "output_type": "execute_result",
          "data": {
            "text/plain": [
              "(array([  1.,  29.,  60., 335., 395.,  87.,  49.,  39.,   4.,   1.]),\n",
              " array([  0. ,  11.6,  23.2,  34.8,  46.4,  58. ,  69.6,  81.2,  92.8,\n",
              "        104.4, 116. ]),\n",
              " <a list of 10 Patch objects>)"
            ]
          },
          "metadata": {},
          "execution_count": 48
        },
        {
          "output_type": "display_data",
          "data": {
            "text/plain": [
              "<Figure size 432x288 with 1 Axes>"
            ],
            "image/png": "[encoded data removed]"
          },
          "metadata": {
            "needs_background": "light"
          }
        }
      ]
    },
    {
      "cell_type": "code",
      "source": [
        "# test_final = trans_seq.transform(df_test['protein_sequence'])\n",
        "# test_final = projector.transform(test_final)\n",
        "# # test_final = scaler.transform(test_final)"
      ],
      "metadata": {
        "id": "Uoa8lv00A8MT"
      },
      "execution_count": null,
      "outputs": []
    },
    {
      "cell_type": "code",
      "source": [
        "# test_final = trans_seq.transform(df_test['protein_sequence'])\n",
        "# test_final = projector.transform(test_final)\n",
        "# test_final = scaler.transform(test_final)\n",
        "# predictions = model.predict(test_final)\n",
        "\n",
        "# ToCSV = lambda df_tmp, fname: df_tmp.to_csv(f'{fname}.csv', index_label='seq_id')\n",
        "# pY = pd.DataFrame(predictions, index=range(31390,len(predictions)+31390), columns=['tm'])\n",
        "# ToCSV(pY, './MySubmission')"
      ],
      "metadata": {
        "id": "4zhwrBQZr624",
        "outputId": "1cacca16-d764-4316-a72c-606bd86fac29",
        "colab": {
          "base_uri": "https://localhost:8080/"
        }
      },
      "execution_count": null,
      "outputs": [
        {
          "output_type": "stream",
          "name": "stdout",
          "text": [
            "76/76 [==============================] - 0s 2ms/step\n"
          ]
        }
      ]
    }
  ]
}