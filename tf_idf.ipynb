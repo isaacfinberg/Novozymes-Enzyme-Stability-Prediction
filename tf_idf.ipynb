{
  "nbformat": 4,
  "nbformat_minor": 0,
  "metadata": {
    "colab": {
      "provenance": [],
      "collapsed_sections": []
    },
    "kernelspec": {
      "name": "python3",
      "display_name": "Python 3"
    },
    "language_info": {
      "name": "python"
    },
    "accelerator": "GPU"
  },
  "cells": [
    {
      "cell_type": "code",
      "execution_count": null,
      "metadata": {
        "colab": {
          "base_uri": "https://localhost:8080/"
        },
        "id": "aRcmomNzmFaQ",
        "outputId": "aa45478c-f637-46bf-bc0b-05793b49fa9f"
      },
      "outputs": [
        {
          "output_type": "stream",
          "name": "stdout",
          "text": [
            "Mounted at /content/drive\n"
          ]
        }
      ],
      "source": [
        "from google.colab import drive; drive.mount('/content/drive')   # OK to enable, if your kaggle.json is stored in Google Drive"
      ]
    },
    {
      "cell_type": "code",
      "source": [
        "!pip -q install --upgrade --force-reinstall --no-deps kaggle > log  \n",
        "!mkdir -p ~/.kaggle                                          \n",
        "!cp /content/drive/MyDrive/kaggle.json ~/.kaggle/kaggle.json >log \n",
        "!cp kaggle.json ~/.kaggle/kaggle.json > log              \n",
        "!chmod 600 ~/.kaggle/kaggle.json                            \n",
        "!kaggle config set -n competition -v novozymes-enzyme-stability-prediction   \n",
        "!kaggle competitions download -c novozymes-enzyme-stability-prediction         \n",
        "!unzip -o *.zip >> log                           \n",
        "# !kaggle competitions leaderboard --show                "
      ],
      "metadata": {
        "colab": {
          "base_uri": "https://localhost:8080/"
        },
        "id": "o0g4XjhLmk9i",
        "outputId": "154fcc39-a84b-4842-952c-ed3bf93ca9ff"
      },
      "execution_count": null,
      "outputs": [
        {
          "output_type": "stream",
          "name": "stdout",
          "text": [
            "cp: cannot stat 'kaggle.json': No such file or directory\n",
            "- competition is now set to: novozymes-enzyme-stability-prediction\n",
            "Downloading novozymes-enzyme-stability-prediction.zip to /content\n",
            " 85% 6.00M/7.06M [00:00<00:00, 62.0MB/s]\n",
            "100% 7.06M/7.06M [00:00<00:00, 71.0MB/s]\n"
          ]
        }
      ]
    },
    {
      "cell_type": "code",
      "source": [
        "import pandas as pd\n",
        "import numpy as np\n",
        "\n",
        "df = pd.read_csv('train.csv', low_memory=False); df"
      ],
      "metadata": {
        "colab": {
          "base_uri": "https://localhost:8080/",
          "height": 424
        },
        "id": "Me3nVTXsmpsC",
        "outputId": "3662918a-1a5d-4061-a6b9-d531336cb636"
      },
      "execution_count": null,
      "outputs": [
        {
          "output_type": "execute_result",
          "data": {
            "text/plain": [
              "       seq_id                                   protein_sequence   pH  \\\n",
              "0           0  AAAAKAAALALLGEAPEVVDIWLPAGWRQPFRVFRLERKGDGVLVG...  7.0   \n",
              "1           1  AAADGEPLHNEEERAGAGQVGRSLPQESEEQRTGSRPRRRRDLGSR...  7.0   \n",
              "2           2  AAAFSTPRATSYRILSSAGSGSTRADAPQVRRLHTTRDLLAKDYYA...  7.0   \n",
              "3           3  AAASGLRTAIPAQPLRHLLQPAPRPCLRPFGLLSVRAGSARRSGLL...  7.0   \n",
              "4           4  AAATKSGPRRQSQGASVRTFTPFYFLVEPVDTLSVRGSSVILNCSA...  7.0   \n",
              "...       ...                                                ...  ...   \n",
              "31385   31385  YYMYSGGGSALAAGGGGAGRKGDWNDIDSIKKKDLHHSRGDEKAQG...  7.0   \n",
              "31386   31386  YYNDQHRLSSYSVETAMFLSWERAIVKPGAMFKKAVIGFNCNVDLI...  7.0   \n",
              "31387   31387  YYQRTLGAELLYKISFGEMPKSAQDSAENCPSGMQFPDTAIAHANV...  7.0   \n",
              "31388   31388  YYSFSDNITTVFLSRQAIDDDHSLSLGTISDVVESENGVVAADDAR...  7.0   \n",
              "31389   31389  YYVPDEYWQSLEVAHKLTFGYGYLTWEWVQGIRSYVYPLLIAGLYK...  7.0   \n",
              "\n",
              "                             data_source    tm  \n",
              "0      doi.org/10.1038/s41592-020-0801-4  75.7  \n",
              "1      doi.org/10.1038/s41592-020-0801-4  50.5  \n",
              "2      doi.org/10.1038/s41592-020-0801-4  40.5  \n",
              "3      doi.org/10.1038/s41592-020-0801-4  47.2  \n",
              "4      doi.org/10.1038/s41592-020-0801-4  49.5  \n",
              "...                                  ...   ...  \n",
              "31385  doi.org/10.1038/s41592-020-0801-4  51.8  \n",
              "31386  doi.org/10.1038/s41592-020-0801-4  37.2  \n",
              "31387  doi.org/10.1038/s41592-020-0801-4  64.6  \n",
              "31388  doi.org/10.1038/s41592-020-0801-4  50.7  \n",
              "31389  doi.org/10.1038/s41592-020-0801-4  37.6  \n",
              "\n",
              "[31390 rows x 5 columns]"
            ],
            "text/html": [
              "\n",
              "  <div id=\"df-94828cbf-f51f-45fc-a37b-412a780c06b0\">\n",
              "    <div class=\"colab-df-container\">\n",
              "      <div>\n",
              "<style scoped>\n",
              "    .dataframe tbody tr th:only-of-type {\n",
              "        vertical-align: middle;\n",
              "    }\n",
              "\n",
              "    .dataframe tbody tr th {\n",
              "        vertical-align: top;\n",
              "    }\n",
              "\n",
              "    .dataframe thead th {\n",
              "        text-align: right;\n",
              "    }\n",
              "</style>\n",
              "<table border=\"1\" class=\"dataframe\">\n",
              "  <thead>\n",
              "    <tr style=\"text-align: right;\">\n",
              "      <th></th>\n",
              "      <th>seq_id</th>\n",
              "      <th>protein_sequence</th>\n",
              "      <th>pH</th>\n",
              "      <th>data_source</th>\n",
              "      <th>tm</th>\n",
              "    </tr>\n",
              "  </thead>\n",
              "  <tbody>\n",
              "    <tr>\n",
              "      <th>0</th>\n",
              "      <td>0</td>\n",
              "      <td>AAAAKAAALALLGEAPEVVDIWLPAGWRQPFRVFRLERKGDGVLVG...</td>\n",
              "      <td>7.0</td>\n",
              "      <td>doi.org/10.1038/s41592-020-0801-4</td>\n",
              "      <td>75.7</td>\n",
              "    </tr>\n",
              "    <tr>\n",
              "      <th>1</th>\n",
              "      <td>1</td>\n",
              "      <td>AAADGEPLHNEEERAGAGQVGRSLPQESEEQRTGSRPRRRRDLGSR...</td>\n",
              "      <td>7.0</td>\n",
              "      <td>doi.org/10.1038/s41592-020-0801-4</td>\n",
              "      <td>50.5</td>\n",
              "    </tr>\n",
              "    <tr>\n",
              "      <th>2</th>\n",
              "      <td>2</td>\n",
              "      <td>AAAFSTPRATSYRILSSAGSGSTRADAPQVRRLHTTRDLLAKDYYA...</td>\n",
              "      <td>7.0</td>\n",
              "      <td>doi.org/10.1038/s41592-020-0801-4</td>\n",
              "      <td>40.5</td>\n",
              "    </tr>\n",
              "    <tr>\n",
              "      <th>3</th>\n",
              "      <td>3</td>\n",
              "      <td>AAASGLRTAIPAQPLRHLLQPAPRPCLRPFGLLSVRAGSARRSGLL...</td>\n",
              "      <td>7.0</td>\n",
              "      <td>doi.org/10.1038/s41592-020-0801-4</td>\n",
              "      <td>47.2</td>\n",
              "    </tr>\n",
              "    <tr>\n",
              "      <th>4</th>\n",
              "      <td>4</td>\n",
              "      <td>AAATKSGPRRQSQGASVRTFTPFYFLVEPVDTLSVRGSSVILNCSA...</td>\n",
              "      <td>7.0</td>\n",
              "      <td>doi.org/10.1038/s41592-020-0801-4</td>\n",
              "      <td>49.5</td>\n",
              "    </tr>\n",
              "    <tr>\n",
              "      <th>...</th>\n",
              "      <td>...</td>\n",
              "      <td>...</td>\n",
              "      <td>...</td>\n",
              "      <td>...</td>\n",
              "      <td>...</td>\n",
              "    </tr>\n",
              "    <tr>\n",
              "      <th>31385</th>\n",
              "      <td>31385</td>\n",
              "      <td>YYMYSGGGSALAAGGGGAGRKGDWNDIDSIKKKDLHHSRGDEKAQG...</td>\n",
              "      <td>7.0</td>\n",
              "      <td>doi.org/10.1038/s41592-020-0801-4</td>\n",
              "      <td>51.8</td>\n",
              "    </tr>\n",
              "    <tr>\n",
              "      <th>31386</th>\n",
              "      <td>31386</td>\n",
              "      <td>YYNDQHRLSSYSVETAMFLSWERAIVKPGAMFKKAVIGFNCNVDLI...</td>\n",
              "      <td>7.0</td>\n",
              "      <td>doi.org/10.1038/s41592-020-0801-4</td>\n",
              "      <td>37.2</td>\n",
              "    </tr>\n",
              "    <tr>\n",
              "      <th>31387</th>\n",
              "      <td>31387</td>\n",
              "      <td>YYQRTLGAELLYKISFGEMPKSAQDSAENCPSGMQFPDTAIAHANV...</td>\n",
              "      <td>7.0</td>\n",
              "      <td>doi.org/10.1038/s41592-020-0801-4</td>\n",
              "      <td>64.6</td>\n",
              "    </tr>\n",
              "    <tr>\n",
              "      <th>31388</th>\n",
              "      <td>31388</td>\n",
              "      <td>YYSFSDNITTVFLSRQAIDDDHSLSLGTISDVVESENGVVAADDAR...</td>\n",
              "      <td>7.0</td>\n",
              "      <td>doi.org/10.1038/s41592-020-0801-4</td>\n",
              "      <td>50.7</td>\n",
              "    </tr>\n",
              "    <tr>\n",
              "      <th>31389</th>\n",
              "      <td>31389</td>\n",
              "      <td>YYVPDEYWQSLEVAHKLTFGYGYLTWEWVQGIRSYVYPLLIAGLYK...</td>\n",
              "      <td>7.0</td>\n",
              "      <td>doi.org/10.1038/s41592-020-0801-4</td>\n",
              "      <td>37.6</td>\n",
              "    </tr>\n",
              "  </tbody>\n",
              "</table>\n",
              "<p>31390 rows × 5 columns</p>\n",
              "</div>\n",
              "      <button class=\"colab-df-convert\" onclick=\"convertToInteractive('df-94828cbf-f51f-45fc-a37b-412a780c06b0')\"\n",
              "              title=\"Convert this dataframe to an interactive table.\"\n",
              "              style=\"display:none;\">\n",
              "        \n",
              "  <svg xmlns=\"http://www.w3.org/2000/svg\" height=\"24px\"viewBox=\"0 0 24 24\"\n",
              "       width=\"24px\">\n",
              "    <path d=\"M0 0h24v24H0V0z\" fill=\"none\"/>\n",
              "    <path d=\"M18.56 5.44l.94 2.06.94-2.06 2.06-.94-2.06-.94-.94-2.06-.94 2.06-2.06.94zm-11 1L8.5 8.5l.94-2.06 2.06-.94-2.06-.94L8.5 2.5l-.94 2.06-2.06.94zm10 10l.94 2.06.94-2.06 2.06-.94-2.06-.94-.94-2.06-.94 2.06-2.06.94z\"/><path d=\"M17.41 7.96l-1.37-1.37c-.4-.4-.92-.59-1.43-.59-.52 0-1.04.2-1.43.59L10.3 9.45l-7.72 7.72c-.78.78-.78 2.05 0 2.83L4 21.41c.39.39.9.59 1.41.59.51 0 1.02-.2 1.41-.59l7.78-7.78 2.81-2.81c.8-.78.8-2.07 0-2.86zM5.41 20L4 18.59l7.72-7.72 1.47 1.35L5.41 20z\"/>\n",
              "  </svg>\n",
              "      </button>\n",
              "      \n",
              "  <style>\n",
              "    .colab-df-container {\n",
              "      display:flex;\n",
              "      flex-wrap:wrap;\n",
              "      gap: 12px;\n",
              "    }\n",
              "\n",
              "    .colab-df-convert {\n",
              "      background-color: #E8F0FE;\n",
              "      border: none;\n",
              "      border-radius: 50%;\n",
              "      cursor: pointer;\n",
              "      display: none;\n",
              "      fill: #1967D2;\n",
              "      height: 32px;\n",
              "      padding: 0 0 0 0;\n",
              "      width: 32px;\n",
              "    }\n",
              "\n",
              "    .colab-df-convert:hover {\n",
              "      background-color: #E2EBFA;\n",
              "      box-shadow: 0px 1px 2px rgba(60, 64, 67, 0.3), 0px 1px 3px 1px rgba(60, 64, 67, 0.15);\n",
              "      fill: #174EA6;\n",
              "    }\n",
              "\n",
              "    [theme=dark] .colab-df-convert {\n",
              "      background-color: #3B4455;\n",
              "      fill: #D2E3FC;\n",
              "    }\n",
              "\n",
              "    [theme=dark] .colab-df-convert:hover {\n",
              "      background-color: #434B5C;\n",
              "      box-shadow: 0px 1px 3px 1px rgba(0, 0, 0, 0.15);\n",
              "      filter: drop-shadow(0px 1px 2px rgba(0, 0, 0, 0.3));\n",
              "      fill: #FFFFFF;\n",
              "    }\n",
              "  </style>\n",
              "\n",
              "      <script>\n",
              "        const buttonEl =\n",
              "          document.querySelector('#df-94828cbf-f51f-45fc-a37b-412a780c06b0 button.colab-df-convert');\n",
              "        buttonEl.style.display =\n",
              "          google.colab.kernel.accessAllowed ? 'block' : 'none';\n",
              "\n",
              "        async function convertToInteractive(key) {\n",
              "          const element = document.querySelector('#df-94828cbf-f51f-45fc-a37b-412a780c06b0');\n",
              "          const dataTable =\n",
              "            await google.colab.kernel.invokeFunction('convertToInteractive',\n",
              "                                                     [key], {});\n",
              "          if (!dataTable) return;\n",
              "\n",
              "          const docLinkHtml = 'Like what you see? Visit the ' +\n",
              "            '<a target=\"_blank\" href=https://colab.research.google.com/notebooks/data_table.ipynb>data table notebook</a>'\n",
              "            + ' to learn more about interactive tables.';\n",
              "          element.innerHTML = '';\n",
              "          dataTable['output_type'] = 'display_data';\n",
              "          await google.colab.output.renderOutput(dataTable, element);\n",
              "          const docLink = document.createElement('div');\n",
              "          docLink.innerHTML = docLinkHtml;\n",
              "          element.appendChild(docLink);\n",
              "        }\n",
              "      </script>\n",
              "    </div>\n",
              "  </div>\n",
              "  "
            ]
          },
          "metadata": {},
          "execution_count": 3
        }
      ]
    },
    {
      "cell_type": "code",
      "source": [
        "df_test = pd.read_csv('test.csv', low_memory=False)\n",
        "df_test.shape"
      ],
      "metadata": {
        "id": "Q1vCptuf2H5g",
        "outputId": "1ace9f40-5cad-484d-a3be-8206980a7a55",
        "colab": {
          "base_uri": "https://localhost:8080/"
        }
      },
      "execution_count": null,
      "outputs": [
        {
          "output_type": "execute_result",
          "data": {
            "text/plain": [
              "(2413, 4)"
            ]
          },
          "metadata": {},
          "execution_count": 9
        }
      ]
    },
    {
      "cell_type": "code",
      "source": [
        "from sklearn.ensemble import GradientBoostingRegressor\n",
        "from sklearn.feature_extraction import text\n",
        "from sklearn.random_projection import GaussianRandomProjection\n",
        "from scipy import stats\n",
        "import tensorflow as tf\n",
        "from tensorflow.keras.layers import Dense, BatchNormalization, Flatten, Dropout\n",
        "from sklearn.model_selection import train_test_split\n",
        "from sklearn.preprocessing import StandardScaler\n",
        "\n",
        "SEED = 0"
      ],
      "metadata": {
        "id": "Lpi1LR-v970J"
      },
      "execution_count": null,
      "outputs": []
    },
    {
      "cell_type": "code",
      "source": [
        "train_X, test_X, train_y, test_y = train_test_split(df['protein_sequence'], df['tm'], test_size=1000, random_state=SEED, shuffle=True)"
      ],
      "metadata": {
        "id": "bc0jlf3X3PyQ"
      },
      "execution_count": null,
      "outputs": []
    },
    {
      "cell_type": "code",
      "source": [
        "tfidf = text.TfidfVectorizer(analyzer='char', ngram_range=(1,3))\n",
        "trans_seq = tfidf.fit(train_X)\n",
        "trigram = trans_seq.transform(train_X)\n",
        "trigram_test = trans_seq.transform(test_X)"
      ],
      "metadata": {
        "id": "AhNuns3I_xw3"
      },
      "execution_count": null,
      "outputs": []
    },
    {
      "cell_type": "code",
      "source": [
        "project = GaussianRandomProjection(random_state=0, eps=0.2)\n",
        "projector = project.fit(trigram) \n",
        "trigram_reduce = projector.transform(trigram)\n",
        "trigram_reduce_test = projector.transform(trigram_test)"
      ],
      "metadata": {
        "id": "btLcH7eIsX8C"
      },
      "execution_count": null,
      "outputs": []
    },
    {
      "cell_type": "code",
      "source": [
        "trigram_reduce.shape"
      ],
      "metadata": {
        "id": "nScZXF7swT35",
        "outputId": "ddb9ebb6-f0f2-4905-d238-aaaa7fced17c",
        "colab": {
          "base_uri": "https://localhost:8080/"
        }
      },
      "execution_count": null,
      "outputs": [
        {
          "output_type": "execute_result",
          "data": {
            "text/plain": [
              "(30390, 2381)"
            ]
          },
          "metadata": {},
          "execution_count": 104
        }
      ]
    },
    {
      "cell_type": "code",
      "source": [
        "tf.random.set_seed(SEED)\n",
        "\n",
        "callbacks = [tf.keras.callbacks.EarlyStopping(\n",
        "                monitor=\"val_loss\",\n",
        "                min_delta=0.0001,\n",
        "                patience=10,\n",
        "                verbose=0,\n",
        "                mode=\"auto\",\n",
        "                baseline=None,\n",
        "                restore_best_weights=True)\n",
        "            ]\n",
        "\n",
        "Init = tf.keras.initializers.Orthogonal(seed=SEED)\n",
        "\n",
        "scaler = StandardScaler().fit(trigram_reduce)\n",
        "trigram_reduce_in = scaler.transform(trigram_reduce)\n",
        "trigram_reduce_test_in = scaler.transform(trigram_reduce_test)\n",
        "\n",
        "model = tf.keras.models.Sequential([\n",
        "    Flatten(input_shape=[trigram_reduce_in.shape[1]], name='input'),\n",
        "    Dense(512, activation=\"relu\", kernel_initializer=Init, name='hidden1'),#, use_bias=False),\n",
        "    BatchNormalization(momentum=0.9),\n",
        "    Dropout(0.5),\n",
        "    Dense(512, activation=\"relu\", kernel_initializer=Init, name='hidden2'),#, use_bias=False),\n",
        "    BatchNormalization(momentum=0.9),\n",
        "    Dropout(0.5),\n",
        "    Dense(512, activation=\"relu\", kernel_initializer=Init, name='hidden3'),#, use_bias=False),\n",
        "    BatchNormalization(momentum=0.9),\n",
        "    Dropout(0.5),\n",
        "    Dense(512, activation=\"relu\", kernel_initializer=Init, name='hidden4'),#, use_bias=False),\n",
        "    Dense(1, activation='linear', kernel_initializer=Init, name='output')])\n",
        "model.summary()\n",
        "model.compile(loss=\"mse\", optimizer=tf.keras.optimizers.Adam(learning_rate=0.001, beta_1=0.95, beta_2=0.999))\n",
        "hist = model.fit(trigram_reduce_in, train_y, epochs=70, validation_split=0.3, batch_size=4096, shuffle=True, callbacks=callbacks)"
      ],
      "metadata": {
        "id": "xekxJzkcy_ZN",
        "outputId": "74c3f89b-dc13-41e9-c7a8-1288b5540b4c",
        "colab": {
          "base_uri": "https://localhost:8080/"
        }
      },
      "execution_count": null,
      "outputs": [
        {
          "output_type": "stream",
          "name": "stdout",
          "text": [
            "Model: \"sequential_35\"\n",
            "_________________________________________________________________\n",
            " Layer (type)                Output Shape              Param #   \n",
            "=================================================================\n",
            " input (Flatten)             (None, 2381)              0         \n",
            "                                                                 \n",
            " hidden1 (Dense)             (None, 512)               1219584   \n",
            "                                                                 \n",
            " batch_normalization_94 (Bat  (None, 512)              2048      \n",
            " chNormalization)                                                \n",
            "                                                                 \n",
            " dropout_19 (Dropout)        (None, 512)               0         \n",
            "                                                                 \n",
            " hidden2 (Dense)             (None, 512)               262656    \n",
            "                                                                 \n",
            " batch_normalization_95 (Bat  (None, 512)              2048      \n",
            " chNormalization)                                                \n",
            "                                                                 \n",
            " dropout_20 (Dropout)        (None, 512)               0         \n",
            "                                                                 \n",
            " hidden3 (Dense)             (None, 512)               262656    \n",
            "                                                                 \n",
            " batch_normalization_96 (Bat  (None, 512)              2048      \n",
            " chNormalization)                                                \n",
            "                                                                 \n",
            " dropout_21 (Dropout)        (None, 512)               0         \n",
            "                                                                 \n",
            " hidden4 (Dense)             (None, 512)               262656    \n",
            "                                                                 \n",
            " output (Dense)              (None, 1)                 513       \n",
            "                                                                 \n",
            "=================================================================\n",
            "Total params: 2,014,209\n",
            "Trainable params: 2,011,137\n",
            "Non-trainable params: 3,072\n",
            "_________________________________________________________________\n",
            "Epoch 1/70\n",
            "6/6 [==============================] - 2s 175ms/step - loss: 2490.1882 - val_loss: 2431.4609\n",
            "Epoch 2/70\n",
            "6/6 [==============================] - 0s 53ms/step - loss: 2123.0510 - val_loss: 1784.2169\n",
            "Epoch 3/70\n",
            "6/6 [==============================] - 0s 52ms/step - loss: 1660.7133 - val_loss: 1224.2682\n",
            "Epoch 4/70\n",
            "6/6 [==============================] - 0s 51ms/step - loss: 1049.8845 - val_loss: 1057.4109\n",
            "Epoch 5/70\n",
            "6/6 [==============================] - 0s 51ms/step - loss: 487.9915 - val_loss: 1149.9423\n",
            "Epoch 6/70\n",
            "6/6 [==============================] - 0s 48ms/step - loss: 236.5229 - val_loss: 1261.9172\n",
            "Epoch 7/70\n",
            "6/6 [==============================] - 0s 49ms/step - loss: 277.4760 - val_loss: 683.1116\n",
            "Epoch 8/70\n",
            "6/6 [==============================] - 0s 49ms/step - loss: 192.8781 - val_loss: 170.7101\n",
            "Epoch 9/70\n",
            "6/6 [==============================] - 0s 50ms/step - loss: 144.8995 - val_loss: 137.6656\n",
            "Epoch 10/70\n",
            "6/6 [==============================] - 0s 48ms/step - loss: 163.1993 - val_loss: 129.2886\n",
            "Epoch 11/70\n",
            "6/6 [==============================] - 0s 51ms/step - loss: 137.3476 - val_loss: 113.2287\n",
            "Epoch 12/70\n",
            "6/6 [==============================] - 0s 49ms/step - loss: 122.9378 - val_loss: 116.2102\n",
            "Epoch 13/70\n",
            "6/6 [==============================] - 0s 48ms/step - loss: 128.2016 - val_loss: 112.8849\n",
            "Epoch 14/70\n",
            "6/6 [==============================] - 0s 47ms/step - loss: 115.2580 - val_loss: 101.4348\n",
            "Epoch 15/70\n",
            "6/6 [==============================] - 0s 46ms/step - loss: 113.1495 - val_loss: 103.6285\n",
            "Epoch 16/70\n",
            "6/6 [==============================] - 0s 49ms/step - loss: 113.1544 - val_loss: 101.5541\n",
            "Epoch 17/70\n",
            "6/6 [==============================] - 0s 48ms/step - loss: 107.0092 - val_loss: 97.0894\n",
            "Epoch 18/70\n",
            "6/6 [==============================] - 0s 45ms/step - loss: 105.1754 - val_loss: 97.1740\n",
            "Epoch 19/70\n",
            "6/6 [==============================] - 0s 48ms/step - loss: 104.8776 - val_loss: 96.9443\n",
            "Epoch 20/70\n",
            "6/6 [==============================] - 0s 48ms/step - loss: 102.2528 - val_loss: 96.5815\n",
            "Epoch 21/70\n",
            "6/6 [==============================] - 0s 46ms/step - loss: 100.6024 - val_loss: 97.3562\n",
            "Epoch 22/70\n",
            "6/6 [==============================] - 0s 48ms/step - loss: 98.2895 - val_loss: 95.4258\n",
            "Epoch 23/70\n",
            "6/6 [==============================] - 0s 50ms/step - loss: 97.2003 - val_loss: 93.7881\n",
            "Epoch 24/70\n",
            "6/6 [==============================] - 0s 48ms/step - loss: 96.6247 - val_loss: 93.7090\n",
            "Epoch 25/70\n",
            "6/6 [==============================] - 0s 46ms/step - loss: 94.2166 - val_loss: 93.7201\n",
            "Epoch 26/70\n",
            "6/6 [==============================] - 0s 50ms/step - loss: 92.1556 - val_loss: 93.5645\n",
            "Epoch 27/70\n",
            "6/6 [==============================] - 0s 49ms/step - loss: 90.9466 - val_loss: 92.3778\n",
            "Epoch 28/70\n",
            "6/6 [==============================] - 0s 45ms/step - loss: 89.9565 - val_loss: 92.4199\n",
            "Epoch 29/70\n",
            "6/6 [==============================] - 0s 49ms/step - loss: 88.7805 - val_loss: 91.6133\n",
            "Epoch 30/70\n",
            "6/6 [==============================] - 0s 50ms/step - loss: 87.0723 - val_loss: 91.3377\n",
            "Epoch 31/70\n",
            "6/6 [==============================] - 0s 46ms/step - loss: 85.6055 - val_loss: 91.8711\n",
            "Epoch 32/70\n",
            "6/6 [==============================] - 0s 49ms/step - loss: 84.6866 - val_loss: 91.3138\n",
            "Epoch 33/70\n",
            "6/6 [==============================] - 0s 48ms/step - loss: 84.2621 - val_loss: 90.9843\n",
            "Epoch 34/70\n",
            "6/6 [==============================] - 0s 46ms/step - loss: 82.1373 - val_loss: 91.9560\n",
            "Epoch 35/70\n",
            "6/6 [==============================] - 0s 48ms/step - loss: 81.4851 - val_loss: 89.7964\n",
            "Epoch 36/70\n",
            "6/6 [==============================] - 0s 51ms/step - loss: 79.4751 - val_loss: 89.4878\n",
            "Epoch 37/70\n",
            "6/6 [==============================] - 0s 46ms/step - loss: 78.7871 - val_loss: 89.9219\n",
            "Epoch 38/70\n",
            "6/6 [==============================] - 0s 47ms/step - loss: 77.3719 - val_loss: 89.4540\n",
            "Epoch 39/70\n",
            "6/6 [==============================] - 0s 47ms/step - loss: 77.2843 - val_loss: 89.1704\n",
            "Epoch 40/70\n",
            "6/6 [==============================] - 0s 45ms/step - loss: 75.2216 - val_loss: 89.3074\n",
            "Epoch 41/70\n",
            "6/6 [==============================] - 0s 46ms/step - loss: 75.6766 - val_loss: 89.2166\n",
            "Epoch 42/70\n",
            "6/6 [==============================] - 0s 49ms/step - loss: 73.8811 - val_loss: 89.0429\n",
            "Epoch 43/70\n",
            "6/6 [==============================] - 0s 45ms/step - loss: 72.4191 - val_loss: 91.1143\n",
            "Epoch 44/70\n",
            "6/6 [==============================] - 0s 47ms/step - loss: 72.5916 - val_loss: 89.1649\n",
            "Epoch 45/70\n",
            "6/6 [==============================] - 0s 45ms/step - loss: 71.8494 - val_loss: 89.7480\n",
            "Epoch 46/70\n",
            "6/6 [==============================] - 0s 48ms/step - loss: 71.3090 - val_loss: 89.5926\n",
            "Epoch 47/70\n",
            "6/6 [==============================] - 0s 45ms/step - loss: 69.9416 - val_loss: 89.7359\n",
            "Epoch 48/70\n",
            "6/6 [==============================] - 0s 45ms/step - loss: 69.9052 - val_loss: 90.1256\n",
            "Epoch 49/70\n",
            "6/6 [==============================] - 0s 47ms/step - loss: 68.6434 - val_loss: 90.0497\n",
            "Epoch 50/70\n",
            "6/6 [==============================] - 0s 47ms/step - loss: 68.1375 - val_loss: 90.0052\n",
            "Epoch 51/70\n",
            "6/6 [==============================] - 0s 48ms/step - loss: 67.6461 - val_loss: 89.7133\n",
            "Epoch 52/70\n",
            "6/6 [==============================] - 0s 48ms/step - loss: 66.7368 - val_loss: 89.7149\n"
          ]
        }
      ]
    },
    {
      "cell_type": "code",
      "source": [
        "preds = model.predict(trigram_reduce_test_in)\n",
        "spearman = stats.spearmanr(test_y, preds)\n",
        "print(spearman)"
      ],
      "metadata": {
        "id": "syT2xMOJ1vXl",
        "outputId": "34769753-0c9a-42ec-cafc-0437b2dc79de",
        "colab": {
          "base_uri": "https://localhost:8080/"
        }
      },
      "execution_count": null,
      "outputs": [
        {
          "output_type": "stream",
          "name": "stdout",
          "text": [
            "32/32 [==============================] - 0s 2ms/step\n",
            "SpearmanrResult(correlation=0.5747182645504592, pvalue=5.699718094192912e-89)\n"
          ]
        }
      ]
    },
    {
      "cell_type": "code",
      "source": [
        "test_final = trans_seq.transform(df_test['protein_sequence'])\n",
        "test_final = projector.transform(test_final)\n",
        "# test_final = scaler.transform(test_final)"
      ],
      "metadata": {
        "id": "Uoa8lv00A8MT"
      },
      "execution_count": null,
      "outputs": []
    },
    {
      "cell_type": "code",
      "source": [
        "from sklearn.preprocessing import PowerTransformer\n",
        "power_trans = PowerTransformer().fit(trigram_reduce)"
      ],
      "metadata": {
        "id": "dBVsiuNCBkI-",
        "outputId": "64cd0cfb-2ee3-4def-f3ec-cf6984174298",
        "colab": {
          "base_uri": "https://localhost:8080/",
          "height": 372
        }
      },
      "execution_count": null,
      "outputs": [
        {
          "output_type": "execute_result",
          "data": {
            "text/plain": [
              "(array([0.00072925, 0.00817528, 0.04037743, 0.17686237, 0.36163135,\n",
              "        0.36071019, 0.1736767 , 0.03550297, 0.00782984, 0.00092116]),\n",
              " array([-4.2771735 , -3.41984684, -2.56252019, -1.70519353, -0.84786687,\n",
              "         0.00945978,  0.86678644,  1.7241131 ,  2.58143975,  3.43876641,\n",
              "         4.29609307]),\n",
              " <a list of 10 Patch objects>)"
            ]
          },
          "metadata": {},
          "execution_count": 151
        },
        {
          "output_type": "display_data",
          "data": {
            "text/plain": [
              "<Figure size 432x288 with 1 Axes>"
            ],
            "image/png": "[encoded data removed]"
          },
          "metadata": {
            "needs_background": "light"
          }
        }
      ]
    },
    {
      "cell_type": "code",
      "source": [
        "plt.hist(power_trans.transform(test_final)[:, 300], density=True)\n",
        "plt.hist(power_trans.transform(trigram_reduce)[:, 300], density=True)"
      ],
      "metadata": {
        "id": "6jwg-I16EjgV",
        "outputId": "6cf7dc6c-0de5-4e2d-d5c6-36ca5b115e96",
        "colab": {
          "base_uri": "https://localhost:8080/",
          "height": 390
        }
      },
      "execution_count": null,
      "outputs": [
        {
          "output_type": "execute_result",
          "data": {
            "text/plain": [
              "(array([2.27665939e-04, 3.64265502e-03, 3.61988843e-02, 1.55078449e-01,\n",
              "        3.38880750e-01, 3.74168971e-01, 1.91011723e-01, 4.56849651e-02,\n",
              "        7.32325437e-03, 9.10663756e-04]),\n",
              " array([-4.42711595, -3.55990952, -2.69270309, -1.82549666, -0.95829023,\n",
              "        -0.0910838 ,  0.77612263,  1.64332906,  2.51053549,  3.37774192,\n",
              "         4.24494835]),\n",
              " <a list of 10 Patch objects>)"
            ]
          },
          "metadata": {},
          "execution_count": 153
        },
        {
          "output_type": "display_data",
          "data": {
            "text/plain": [
              "<Figure size 432x288 with 1 Axes>"
            ],
            "image/png": "[encoded data removed]"
          },
          "metadata": {
            "needs_background": "light"
          }
        }
      ]
    },
    {
      "cell_type": "code",
      "source": [
        "plt.hist(test_final[:, 300], density=True)\n",
        "plt.hist(trigram_reduce[:, 300], density=True)"
      ],
      "metadata": {
        "id": "wNx6c5IUExjU",
        "outputId": "90b9d573-1bf4-40ac-ed8e-5b04b3616d95",
        "colab": {
          "base_uri": "https://localhost:8080/",
          "height": 390
        }
      },
      "execution_count": null,
      "outputs": [
        {
          "output_type": "execute_result",
          "data": {
            "text/plain": [
              "(array([8.13788688e-03, 1.24780932e-01, 7.62248738e-01, 5.55003885e+00,\n",
              "        1.62866243e+01, 2.62636736e+01, 2.44516375e+01, 7.71742939e+00,\n",
              "        1.16914308e+00, 1.03079901e-01]),\n",
              " array([-0.05116757, -0.03903707, -0.02690656, -0.01477606, -0.00264555,\n",
              "         0.00948495,  0.02161546,  0.03374597,  0.04587647,  0.05800698,\n",
              "         0.07013748]),\n",
              " <a list of 10 Patch objects>)"
            ]
          },
          "metadata": {},
          "execution_count": 154
        },
        {
          "output_type": "display_data",
          "data": {
            "text/plain": [
              "<Figure size 432x288 with 1 Axes>"
            ],
            "image/png": "[encoded data removed]"
          },
          "metadata": {
            "needs_background": "light"
          }
        }
      ]
    },
    {
      "cell_type": "code",
      "source": [
        "from matplotlib import pyplot as plt\n",
        "%matplotlib inline\n",
        "\n",
        "plt.plot(test_y, preds, '.')"
      ],
      "metadata": {
        "id": "ycpGquaB4-4n",
        "outputId": "a886cfbd-8783-45bc-eb42-ab3d01b411d0",
        "colab": {
          "base_uri": "https://localhost:8080/",
          "height": 283
        }
      },
      "execution_count": null,
      "outputs": [
        {
          "output_type": "execute_result",
          "data": {
            "text/plain": [
              "[<matplotlib.lines.Line2D at 0x7f4abd8f0990>]"
            ]
          },
          "metadata": {},
          "execution_count": 96
        },
        {
          "output_type": "display_data",
          "data": {
            "text/plain": [
              "<Figure size 432x288 with 1 Axes>"
            ],
            "image/png": "[encoded data removed]"
          },
          "metadata": {
            "needs_background": "light"
          }
        }
      ]
    },
    {
      "cell_type": "code",
      "source": [
        "# model = GradientBoostingRegressor().fit(trigram_reduce[:20000], df['tm'][:20000])"
      ],
      "metadata": {
        "id": "RIoJx_VCwbSc"
      },
      "execution_count": null,
      "outputs": []
    },
    {
      "cell_type": "code",
      "source": [
        "# characters = 'ABCDEFGHIJKLMNOPQRSTUVWXYZ'\n",
        "# char_to_num = {}\n",
        "# for x in range(len(characters)):\n",
        "#     char_to_num[characters[x]] = x\n",
        "\n",
        "# def frequency_by_letter(protein_sequence):\n",
        "#   frequencies = np.zeros((26))\n",
        "#   for letter in protein_sequence:\n",
        "#     char_num = char_to_num[letter]\n",
        "#     frequencies[char_num] = frequencies[char_num] + 1\n",
        "#   return frequencies\n",
        "\n",
        "# letter_frequencies = df.protein_sequence.apply(frequency_by_letter)"
      ],
      "metadata": {
        "id": "UfYvipZTm2UF"
      },
      "execution_count": null,
      "outputs": []
    },
    {
      "cell_type": "code",
      "source": [
        "# df.insert(3, 'letter_frequencies', letter_frequencies, True)\n",
        "# df"
      ],
      "metadata": {
        "id": "STISyqx5pAJx"
      },
      "execution_count": null,
      "outputs": []
    },
    {
      "cell_type": "code",
      "source": [
        "# from sklearn.ensemble import RandomForestRegressor\n",
        "# from sklearn.model_selection import train_test_split\n",
        "\n",
        "# model = RandomForestRegressor(max_depth=500, random_state=0)\n",
        "\n",
        "# X = np.stack(df.letter_frequencies.values, axis=0)\n",
        "# y = np.asarray(df.tm.values)\n",
        "\n",
        "# X_train, X_test, y_train, y_test = train_test_split(X, y, test_size=0.5, random_state=0)\n",
        "\n",
        "# print(X_train.shape)\n",
        "# print(y_train.shape)\n",
        "\n",
        "# model.fit(X_train, y_train)"
      ],
      "metadata": {
        "id": "bRkBw9DhpFkR"
      },
      "execution_count": null,
      "outputs": []
    },
    {
      "cell_type": "code",
      "source": [
        "# from scipy.stats import spearmanr\n",
        "\n",
        "# y_pred = model.predict(X_test)\n",
        "# y_true = y_test\n",
        "\n",
        "# correlation = spearmanr(y_true,y_pred)[0]\n",
        "# print('Spearman R on test set: %f' % correlation)"
      ],
      "metadata": {
        "id": "390VT4kdracK"
      },
      "execution_count": null,
      "outputs": []
    },
    {
      "cell_type": "code",
      "source": [
        "df_test = pd.read_csv('test.csv', low_memory=False); df_test\n",
        "test_final = trans_seq.transform(df_test['protein_sequence'])\n",
        "test_final = projector.transform(test_final)\n",
        "test_final = scaler.transform(test_final)\n",
        "predictions = model.predict(test_final)\n",
        "# letter_frequencies = df_test.protein_sequence.apply(frequency_by_letter)\n",
        "# df_test.insert(3, 'letter_frequencies', letter_frequencies, True)\n",
        "# predictions = model.predict(np.stack(df_test.letter_frequencies,axis=0))\n",
        "\n",
        "\n",
        "ToCSV = lambda df_tmp, fname: df_tmp.to_csv(f'{fname}.csv', index_label='seq_id')\n",
        "pY = pd.DataFrame(predictions, index=range(31390,len(predictions)+31390), columns=['tm'])\n",
        "ToCSV(pY, './MySubmission')"
      ],
      "metadata": {
        "id": "4zhwrBQZr624",
        "outputId": "1cacca16-d764-4316-a72c-606bd86fac29",
        "colab": {
          "base_uri": "https://localhost:8080/"
        }
      },
      "execution_count": null,
      "outputs": [
        {
          "output_type": "stream",
          "name": "stdout",
          "text": [
            "76/76 [==============================] - 0s 2ms/step\n"
          ]
        }
      ]
    },
    {
      "cell_type": "code",
      "source": [
        "plt.hist(predictions, density=True)\n",
        "plt.hist(df['tm'], density=True)"
      ],
      "metadata": {
        "id": "v5injoXYF1Rj",
        "outputId": "76d12d57-44ab-40dd-ba45-885628dee0d5",
        "colab": {
          "base_uri": "https://localhost:8080/",
          "height": 372
        }
      },
      "execution_count": null,
      "outputs": [
        {
          "output_type": "execute_result",
          "data": {
            "text/plain": [
              "(array([3.18572794e-04, 5.52760275e-03, 4.64970368e-03, 3.98969867e-02,\n",
              "        1.66800824e-02, 5.37196414e-03, 3.11763604e-03, 7.61170111e-04,\n",
              "        9.72741355e-06, 2.43185339e-06]),\n",
              " array([ -1. ,  12.1,  25.2,  38.3,  51.4,  64.5,  77.6,  90.7, 103.8,\n",
              "        116.9, 130. ]),\n",
              " <a list of 10 Patch objects>)"
            ]
          },
          "metadata": {},
          "execution_count": 172
        },
        {
          "output_type": "display_data",
          "data": {
            "text/plain": [
              "<Figure size 432x288 with 1 Axes>"
            ],
            "image/png": "[encoded data removed]"
          },
          "metadata": {
            "needs_background": "light"
          }
        }
      ]
    },
    {
      "cell_type": "code",
      "source": [
        "predictions.max()"
      ],
      "metadata": {
        "id": "DVNPT1MfF6bd",
        "outputId": "dc24b931-832b-4b22-d7e6-808817c086fa",
        "colab": {
          "base_uri": "https://localhost:8080/"
        }
      },
      "execution_count": null,
      "outputs": [
        {
          "output_type": "execute_result",
          "data": {
            "text/plain": [
              "52.692093"
            ]
          },
          "metadata": {},
          "execution_count": 166
        }
      ]
    },
    {
      "cell_type": "code",
      "source": [
        "predictions.min()"
      ],
      "metadata": {
        "id": "ZuZ1itJjGRR1",
        "outputId": "9c678f63-037a-4873-d571-96542dd7c6b3",
        "colab": {
          "base_uri": "https://localhost:8080/"
        }
      },
      "execution_count": null,
      "outputs": [
        {
          "output_type": "execute_result",
          "data": {
            "text/plain": [
              "49.74254"
            ]
          },
          "metadata": {},
          "execution_count": 167
        }
      ]
    },
    {
      "cell_type": "code",
      "source": [
        "pY"
      ],
      "metadata": {
        "id": "S2FxlgIHGYdX",
        "outputId": "d7e01435-c48d-431f-88d9-b2b5bc5849ae",
        "colab": {
          "base_uri": "https://localhost:8080/",
          "height": 424
        }
      },
      "execution_count": null,
      "outputs": [
        {
          "output_type": "execute_result",
          "data": {
            "text/plain": [
              "              tm\n",
              "31390  52.043087\n",
              "31391  51.593826\n",
              "31392  51.934589\n",
              "31393  51.150570\n",
              "31394  51.559582\n",
              "...          ...\n",
              "33798  52.238678\n",
              "33799  52.043015\n",
              "33800  51.456749\n",
              "33801  52.170467\n",
              "33802  52.395618\n",
              "\n",
              "[2413 rows x 1 columns]"
            ],
            "text/html": [
              "\n",
              "  <div id=\"df-1c3072d8-e858-44c4-9492-3d66dcfe7277\">\n",
              "    <div class=\"colab-df-container\">\n",
              "      <div>\n",
              "<style scoped>\n",
              "    .dataframe tbody tr th:only-of-type {\n",
              "        vertical-align: middle;\n",
              "    }\n",
              "\n",
              "    .dataframe tbody tr th {\n",
              "        vertical-align: top;\n",
              "    }\n",
              "\n",
              "    .dataframe thead th {\n",
              "        text-align: right;\n",
              "    }\n",
              "</style>\n",
              "<table border=\"1\" class=\"dataframe\">\n",
              "  <thead>\n",
              "    <tr style=\"text-align: right;\">\n",
              "      <th></th>\n",
              "      <th>tm</th>\n",
              "    </tr>\n",
              "  </thead>\n",
              "  <tbody>\n",
              "    <tr>\n",
              "      <th>31390</th>\n",
              "      <td>52.043087</td>\n",
              "    </tr>\n",
              "    <tr>\n",
              "      <th>31391</th>\n",
              "      <td>51.593826</td>\n",
              "    </tr>\n",
              "    <tr>\n",
              "      <th>31392</th>\n",
              "      <td>51.934589</td>\n",
              "    </tr>\n",
              "    <tr>\n",
              "      <th>31393</th>\n",
              "      <td>51.150570</td>\n",
              "    </tr>\n",
              "    <tr>\n",
              "      <th>31394</th>\n",
              "      <td>51.559582</td>\n",
              "    </tr>\n",
              "    <tr>\n",
              "      <th>...</th>\n",
              "      <td>...</td>\n",
              "    </tr>\n",
              "    <tr>\n",
              "      <th>33798</th>\n",
              "      <td>52.238678</td>\n",
              "    </tr>\n",
              "    <tr>\n",
              "      <th>33799</th>\n",
              "      <td>52.043015</td>\n",
              "    </tr>\n",
              "    <tr>\n",
              "      <th>33800</th>\n",
              "      <td>51.456749</td>\n",
              "    </tr>\n",
              "    <tr>\n",
              "      <th>33801</th>\n",
              "      <td>52.170467</td>\n",
              "    </tr>\n",
              "    <tr>\n",
              "      <th>33802</th>\n",
              "      <td>52.395618</td>\n",
              "    </tr>\n",
              "  </tbody>\n",
              "</table>\n",
              "<p>2413 rows × 1 columns</p>\n",
              "</div>\n",
              "      <button class=\"colab-df-convert\" onclick=\"convertToInteractive('df-1c3072d8-e858-44c4-9492-3d66dcfe7277')\"\n",
              "              title=\"Convert this dataframe to an interactive table.\"\n",
              "              style=\"display:none;\">\n",
              "        \n",
              "  <svg xmlns=\"http://www.w3.org/2000/svg\" height=\"24px\"viewBox=\"0 0 24 24\"\n",
              "       width=\"24px\">\n",
              "    <path d=\"M0 0h24v24H0V0z\" fill=\"none\"/>\n",
              "    <path d=\"M18.56 5.44l.94 2.06.94-2.06 2.06-.94-2.06-.94-.94-2.06-.94 2.06-2.06.94zm-11 1L8.5 8.5l.94-2.06 2.06-.94-2.06-.94L8.5 2.5l-.94 2.06-2.06.94zm10 10l.94 2.06.94-2.06 2.06-.94-2.06-.94-.94-2.06-.94 2.06-2.06.94z\"/><path d=\"M17.41 7.96l-1.37-1.37c-.4-.4-.92-.59-1.43-.59-.52 0-1.04.2-1.43.59L10.3 9.45l-7.72 7.72c-.78.78-.78 2.05 0 2.83L4 21.41c.39.39.9.59 1.41.59.51 0 1.02-.2 1.41-.59l7.78-7.78 2.81-2.81c.8-.78.8-2.07 0-2.86zM5.41 20L4 18.59l7.72-7.72 1.47 1.35L5.41 20z\"/>\n",
              "  </svg>\n",
              "      </button>\n",
              "      \n",
              "  <style>\n",
              "    .colab-df-container {\n",
              "      display:flex;\n",
              "      flex-wrap:wrap;\n",
              "      gap: 12px;\n",
              "    }\n",
              "\n",
              "    .colab-df-convert {\n",
              "      background-color: #E8F0FE;\n",
              "      border: none;\n",
              "      border-radius: 50%;\n",
              "      cursor: pointer;\n",
              "      display: none;\n",
              "      fill: #1967D2;\n",
              "      height: 32px;\n",
              "      padding: 0 0 0 0;\n",
              "      width: 32px;\n",
              "    }\n",
              "\n",
              "    .colab-df-convert:hover {\n",
              "      background-color: #E2EBFA;\n",
              "      box-shadow: 0px 1px 2px rgba(60, 64, 67, 0.3), 0px 1px 3px 1px rgba(60, 64, 67, 0.15);\n",
              "      fill: #174EA6;\n",
              "    }\n",
              "\n",
              "    [theme=dark] .colab-df-convert {\n",
              "      background-color: #3B4455;\n",
              "      fill: #D2E3FC;\n",
              "    }\n",
              "\n",
              "    [theme=dark] .colab-df-convert:hover {\n",
              "      background-color: #434B5C;\n",
              "      box-shadow: 0px 1px 3px 1px rgba(0, 0, 0, 0.15);\n",
              "      filter: drop-shadow(0px 1px 2px rgba(0, 0, 0, 0.3));\n",
              "      fill: #FFFFFF;\n",
              "    }\n",
              "  </style>\n",
              "\n",
              "      <script>\n",
              "        const buttonEl =\n",
              "          document.querySelector('#df-1c3072d8-e858-44c4-9492-3d66dcfe7277 button.colab-df-convert');\n",
              "        buttonEl.style.display =\n",
              "          google.colab.kernel.accessAllowed ? 'block' : 'none';\n",
              "\n",
              "        async function convertToInteractive(key) {\n",
              "          const element = document.querySelector('#df-1c3072d8-e858-44c4-9492-3d66dcfe7277');\n",
              "          const dataTable =\n",
              "            await google.colab.kernel.invokeFunction('convertToInteractive',\n",
              "                                                     [key], {});\n",
              "          if (!dataTable) return;\n",
              "\n",
              "          const docLinkHtml = 'Like what you see? Visit the ' +\n",
              "            '<a target=\"_blank\" href=https://colab.research.google.com/notebooks/data_table.ipynb>data table notebook</a>'\n",
              "            + ' to learn more about interactive tables.';\n",
              "          element.innerHTML = '';\n",
              "          dataTable['output_type'] = 'display_data';\n",
              "          await google.colab.output.renderOutput(dataTable, element);\n",
              "          const docLink = document.createElement('div');\n",
              "          docLink.innerHTML = docLinkHtml;\n",
              "          element.appendChild(docLink);\n",
              "        }\n",
              "      </script>\n",
              "    </div>\n",
              "  </div>\n",
              "  "
            ]
          },
          "metadata": {},
          "execution_count": 173
        }
      ]
    },
    {
      "cell_type": "code",
      "source": [],
      "metadata": {
        "id": "kuAY1QuBGcUQ"
      },
      "execution_count": null,
      "outputs": []
    }
  ]
}