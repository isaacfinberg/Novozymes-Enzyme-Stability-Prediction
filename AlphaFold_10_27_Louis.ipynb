{
  "nbformat": 4,
  "nbformat_minor": 0,
  "metadata": {
    "accelerator": "GPU",
    "colab": {
      "provenance": [],
      "collapsed_sections": [],
      "include_colab_link": true
    },
    "kernelspec": {
      "display_name": "Python 3 (ipykernel)",
      "language": "python",
      "name": "python3"
    },
    "language_info": {
      "codemirror_mode": {
        "name": "ipython",
        "version": 3
      },
      "file_extension": ".py",
      "mimetype": "text/x-python",
      "name": "python",
      "nbconvert_exporter": "python",
      "pygments_lexer": "ipython3",
      "version": "3.8.10"
    }
  },
  "cells": [
    {
      "cell_type": "markdown",
      "metadata": {
        "id": "view-in-github",
        "colab_type": "text"
      },
      "source": [
        "<a href=\"https://colab.research.google.com/github/isaacfinberg/Novozymes-Enzyme-Stability-Prediction/blob/develop/AlphaFold_10_27_Louis.ipynb\" target=\"_parent\"><img src=\"https://colab.research.google.com/assets/colab-badge.svg\" alt=\"Open In Colab\"/></a>"
      ]
    },
    {
      "cell_type": "code",
      "source": [
        "from google.colab import drive\n",
        "drive.mount('/content/gdrive')"
      ],
      "metadata": {
        "colab": {
          "base_uri": "https://localhost:8080/"
        },
        "id": "F2xMO4tITxLM",
        "outputId": "9605475b-3cd2-44b6-ca15-605679d10eaa"
      },
      "execution_count": 8,
      "outputs": [
        {
          "output_type": "stream",
          "name": "stdout",
          "text": [
            "Mounted at /content/gdrive\n"
          ]
        }
      ]
    },
    {
      "cell_type": "code",
      "source": [
        "import pandas as pd\n",
        "\n",
        "df = pd.read_csv('https://raw.githubusercontent.com/isaacfinberg/Novozymes-Enzyme-Stability-Prediction/main/MutationsDeltaTM.csv')\n",
        "df"
      ],
      "metadata": {
        "colab": {
          "base_uri": "https://localhost:8080/",
          "height": 505
        },
        "id": "1sHVW-EkYi5y",
        "outputId": "3c22008b-a791-429c-f7db-9731007b9f22"
      },
      "execution_count": null,
      "outputs": [
        {
          "output_type": "execute_result",
          "data": {
            "text/plain": [
              "      Unnamed: 0                                   mutated_sequence pdb_id  \\\n",
              "0              0  MNIFEMLRIDERLRLKIYKDTEGYYTIGIGHLLTKSPSLNAAKSEL...   2LZM   \n",
              "1              1  MNIFEMLRIDERLRLKIYKDTEGYYTIGIGHLLTKSPSLNAAKSEL...   2LZM   \n",
              "2              2  MNIFEMLRIDERLRLKIYKDTEGYYTIGIGHLLTKSPSLNAAKSEL...   2LZM   \n",
              "3              3  MNIFEMLRIDERLRLKIYKDTEGYYTIGIGHLLTKSPSLNAAKSEL...   2LZM   \n",
              "4              4  MNIFEMLRIDERLRLKIYKDTEGYYTIGIGHLLTKSPSLNAAKSEL...   2LZM   \n",
              "...          ...                                                ...    ...   \n",
              "4377         993  MQTLLVSSLVVSLAAALPHYIRSNGIEASLLTDPKDVSGRTVDYII...   1CF3   \n",
              "4378         994  MQTLLVSSLVVSLAAALPHYIRSNGIEASLLTDPKDVSGRTVDYII...   1CF3   \n",
              "4379         995  MQTLLVSSLVVSLAAALPHYIRSNGIEASLLTDPKDVSGRTVDYII...   1CF3   \n",
              "4380         996  MNIFEMLRIDERLRLKIYKDTEGYYTIGIGHLLTKSPSLNAAKSEL...   2LZM   \n",
              "4381         997  MKKYTCTVCGYIYNPEDGDPDNGVNPGTDFKDLPDDWVCPLCGVGK...   1IRO   \n",
              "\n",
              "                                            wt_sequence          mutations  \\\n",
              "0     MNIFEMLRIDERLRLKIYKDTEGYYTIGIGHLLTKSPSLNAAKSEL...              W138Y   \n",
              "1     MNIFEMLRIDERLRLKIYKDTEGYYTIGIGHLLTKSPSLNAAKSEL...  W138Y,W126Y,W158Y   \n",
              "2     MNIFEMLRIDERLRLKIYKDTEGYYTIGIGHLLTKSPSLNAAKSEL...  W138Y,W126Y,W158Y   \n",
              "3     MNIFEMLRIDERLRLKIYKDTEGYYTIGIGHLLTKSPSLNAAKSEL...              E128A   \n",
              "4     MNIFEMLRIDERLRLKIYKDTEGYYTIGIGHLLTKSPSLNAAKSEL...              V131A   \n",
              "...                                                 ...                ...   \n",
              "4377  MQTLLVSSLVVSLAAALPHYIRSNGIEASLLTDPKDVSGRTVDYII...              V442G   \n",
              "4378  MQTLLVSSLVVSLAAALPHYIRSNGIEASLLTDPKDVSGRTVDYII...              S444N   \n",
              "4379  MQTLLVSSLVVSLAAALPHYIRSNGIEASLLTDPKDVSGRTVDYII...              D473N   \n",
              "4380  MNIFEMLRIDERLRLKIYKDTEGYYTIGIGHLLTKSPSLNAAKSEL...              W138Y   \n",
              "4381  MKKYTCTVCGYIYNPEDGDPDNGVNPGTDFKDIPDDWVCPLCGVGK...               I33L   \n",
              "\n",
              "      delta_tm  \n",
              "0         -6.3  \n",
              "1         -6.2  \n",
              "2         -6.6  \n",
              "3          0.6  \n",
              "4          1.0  \n",
              "...        ...  \n",
              "4377       2.0  \n",
              "4378       3.0  \n",
              "4379       4.0  \n",
              "4380      -6.3  \n",
              "4381       4.8  \n",
              "\n",
              "[4382 rows x 6 columns]"
            ],
            "text/html": [
              "\n",
              "  <div id=\"df-1ab83a7a-df42-4136-87ad-de0d837ec188\">\n",
              "    <div class=\"colab-df-container\">\n",
              "      <div>\n",
              "<style scoped>\n",
              "    .dataframe tbody tr th:only-of-type {\n",
              "        vertical-align: middle;\n",
              "    }\n",
              "\n",
              "    .dataframe tbody tr th {\n",
              "        vertical-align: top;\n",
              "    }\n",
              "\n",
              "    .dataframe thead th {\n",
              "        text-align: right;\n",
              "    }\n",
              "</style>\n",
              "<table border=\"1\" class=\"dataframe\">\n",
              "  <thead>\n",
              "    <tr style=\"text-align: right;\">\n",
              "      <th></th>\n",
              "      <th>Unnamed: 0</th>\n",
              "      <th>mutated_sequence</th>\n",
              "      <th>pdb_id</th>\n",
              "      <th>wt_sequence</th>\n",
              "      <th>mutations</th>\n",
              "      <th>delta_tm</th>\n",
              "    </tr>\n",
              "  </thead>\n",
              "  <tbody>\n",
              "    <tr>\n",
              "      <th>0</th>\n",
              "      <td>0</td>\n",
              "      <td>MNIFEMLRIDERLRLKIYKDTEGYYTIGIGHLLTKSPSLNAAKSEL...</td>\n",
              "      <td>2LZM</td>\n",
              "      <td>MNIFEMLRIDERLRLKIYKDTEGYYTIGIGHLLTKSPSLNAAKSEL...</td>\n",
              "      <td>W138Y</td>\n",
              "      <td>-6.3</td>\n",
              "    </tr>\n",
              "    <tr>\n",
              "      <th>1</th>\n",
              "      <td>1</td>\n",
              "      <td>MNIFEMLRIDERLRLKIYKDTEGYYTIGIGHLLTKSPSLNAAKSEL...</td>\n",
              "      <td>2LZM</td>\n",
              "      <td>MNIFEMLRIDERLRLKIYKDTEGYYTIGIGHLLTKSPSLNAAKSEL...</td>\n",
              "      <td>W138Y,W126Y,W158Y</td>\n",
              "      <td>-6.2</td>\n",
              "    </tr>\n",
              "    <tr>\n",
              "      <th>2</th>\n",
              "      <td>2</td>\n",
              "      <td>MNIFEMLRIDERLRLKIYKDTEGYYTIGIGHLLTKSPSLNAAKSEL...</td>\n",
              "      <td>2LZM</td>\n",
              "      <td>MNIFEMLRIDERLRLKIYKDTEGYYTIGIGHLLTKSPSLNAAKSEL...</td>\n",
              "      <td>W138Y,W126Y,W158Y</td>\n",
              "      <td>-6.6</td>\n",
              "    </tr>\n",
              "    <tr>\n",
              "      <th>3</th>\n",
              "      <td>3</td>\n",
              "      <td>MNIFEMLRIDERLRLKIYKDTEGYYTIGIGHLLTKSPSLNAAKSEL...</td>\n",
              "      <td>2LZM</td>\n",
              "      <td>MNIFEMLRIDERLRLKIYKDTEGYYTIGIGHLLTKSPSLNAAKSEL...</td>\n",
              "      <td>E128A</td>\n",
              "      <td>0.6</td>\n",
              "    </tr>\n",
              "    <tr>\n",
              "      <th>4</th>\n",
              "      <td>4</td>\n",
              "      <td>MNIFEMLRIDERLRLKIYKDTEGYYTIGIGHLLTKSPSLNAAKSEL...</td>\n",
              "      <td>2LZM</td>\n",
              "      <td>MNIFEMLRIDERLRLKIYKDTEGYYTIGIGHLLTKSPSLNAAKSEL...</td>\n",
              "      <td>V131A</td>\n",
              "      <td>1.0</td>\n",
              "    </tr>\n",
              "    <tr>\n",
              "      <th>...</th>\n",
              "      <td>...</td>\n",
              "      <td>...</td>\n",
              "      <td>...</td>\n",
              "      <td>...</td>\n",
              "      <td>...</td>\n",
              "      <td>...</td>\n",
              "    </tr>\n",
              "    <tr>\n",
              "      <th>4377</th>\n",
              "      <td>993</td>\n",
              "      <td>MQTLLVSSLVVSLAAALPHYIRSNGIEASLLTDPKDVSGRTVDYII...</td>\n",
              "      <td>1CF3</td>\n",
              "      <td>MQTLLVSSLVVSLAAALPHYIRSNGIEASLLTDPKDVSGRTVDYII...</td>\n",
              "      <td>V442G</td>\n",
              "      <td>2.0</td>\n",
              "    </tr>\n",
              "    <tr>\n",
              "      <th>4378</th>\n",
              "      <td>994</td>\n",
              "      <td>MQTLLVSSLVVSLAAALPHYIRSNGIEASLLTDPKDVSGRTVDYII...</td>\n",
              "      <td>1CF3</td>\n",
              "      <td>MQTLLVSSLVVSLAAALPHYIRSNGIEASLLTDPKDVSGRTVDYII...</td>\n",
              "      <td>S444N</td>\n",
              "      <td>3.0</td>\n",
              "    </tr>\n",
              "    <tr>\n",
              "      <th>4379</th>\n",
              "      <td>995</td>\n",
              "      <td>MQTLLVSSLVVSLAAALPHYIRSNGIEASLLTDPKDVSGRTVDYII...</td>\n",
              "      <td>1CF3</td>\n",
              "      <td>MQTLLVSSLVVSLAAALPHYIRSNGIEASLLTDPKDVSGRTVDYII...</td>\n",
              "      <td>D473N</td>\n",
              "      <td>4.0</td>\n",
              "    </tr>\n",
              "    <tr>\n",
              "      <th>4380</th>\n",
              "      <td>996</td>\n",
              "      <td>MNIFEMLRIDERLRLKIYKDTEGYYTIGIGHLLTKSPSLNAAKSEL...</td>\n",
              "      <td>2LZM</td>\n",
              "      <td>MNIFEMLRIDERLRLKIYKDTEGYYTIGIGHLLTKSPSLNAAKSEL...</td>\n",
              "      <td>W138Y</td>\n",
              "      <td>-6.3</td>\n",
              "    </tr>\n",
              "    <tr>\n",
              "      <th>4381</th>\n",
              "      <td>997</td>\n",
              "      <td>MKKYTCTVCGYIYNPEDGDPDNGVNPGTDFKDLPDDWVCPLCGVGK...</td>\n",
              "      <td>1IRO</td>\n",
              "      <td>MKKYTCTVCGYIYNPEDGDPDNGVNPGTDFKDIPDDWVCPLCGVGK...</td>\n",
              "      <td>I33L</td>\n",
              "      <td>4.8</td>\n",
              "    </tr>\n",
              "  </tbody>\n",
              "</table>\n",
              "<p>4382 rows × 6 columns</p>\n",
              "</div>\n",
              "      <button class=\"colab-df-convert\" onclick=\"convertToInteractive('df-1ab83a7a-df42-4136-87ad-de0d837ec188')\"\n",
              "              title=\"Convert this dataframe to an interactive table.\"\n",
              "              style=\"display:none;\">\n",
              "        \n",
              "  <svg xmlns=\"http://www.w3.org/2000/svg\" height=\"24px\"viewBox=\"0 0 24 24\"\n",
              "       width=\"24px\">\n",
              "    <path d=\"M0 0h24v24H0V0z\" fill=\"none\"/>\n",
              "    <path d=\"M18.56 5.44l.94 2.06.94-2.06 2.06-.94-2.06-.94-.94-2.06-.94 2.06-2.06.94zm-11 1L8.5 8.5l.94-2.06 2.06-.94-2.06-.94L8.5 2.5l-.94 2.06-2.06.94zm10 10l.94 2.06.94-2.06 2.06-.94-2.06-.94-.94-2.06-.94 2.06-2.06.94z\"/><path d=\"M17.41 7.96l-1.37-1.37c-.4-.4-.92-.59-1.43-.59-.52 0-1.04.2-1.43.59L10.3 9.45l-7.72 7.72c-.78.78-.78 2.05 0 2.83L4 21.41c.39.39.9.59 1.41.59.51 0 1.02-.2 1.41-.59l7.78-7.78 2.81-2.81c.8-.78.8-2.07 0-2.86zM5.41 20L4 18.59l7.72-7.72 1.47 1.35L5.41 20z\"/>\n",
              "  </svg>\n",
              "      </button>\n",
              "      \n",
              "  <style>\n",
              "    .colab-df-container {\n",
              "      display:flex;\n",
              "      flex-wrap:wrap;\n",
              "      gap: 12px;\n",
              "    }\n",
              "\n",
              "    .colab-df-convert {\n",
              "      background-color: #E8F0FE;\n",
              "      border: none;\n",
              "      border-radius: 50%;\n",
              "      cursor: pointer;\n",
              "      display: none;\n",
              "      fill: #1967D2;\n",
              "      height: 32px;\n",
              "      padding: 0 0 0 0;\n",
              "      width: 32px;\n",
              "    }\n",
              "\n",
              "    .colab-df-convert:hover {\n",
              "      background-color: #E2EBFA;\n",
              "      box-shadow: 0px 1px 2px rgba(60, 64, 67, 0.3), 0px 1px 3px 1px rgba(60, 64, 67, 0.15);\n",
              "      fill: #174EA6;\n",
              "    }\n",
              "\n",
              "    [theme=dark] .colab-df-convert {\n",
              "      background-color: #3B4455;\n",
              "      fill: #D2E3FC;\n",
              "    }\n",
              "\n",
              "    [theme=dark] .colab-df-convert:hover {\n",
              "      background-color: #434B5C;\n",
              "      box-shadow: 0px 1px 3px 1px rgba(0, 0, 0, 0.15);\n",
              "      filter: drop-shadow(0px 1px 2px rgba(0, 0, 0, 0.3));\n",
              "      fill: #FFFFFF;\n",
              "    }\n",
              "  </style>\n",
              "\n",
              "      <script>\n",
              "        const buttonEl =\n",
              "          document.querySelector('#df-1ab83a7a-df42-4136-87ad-de0d837ec188 button.colab-df-convert');\n",
              "        buttonEl.style.display =\n",
              "          google.colab.kernel.accessAllowed ? 'block' : 'none';\n",
              "\n",
              "        async function convertToInteractive(key) {\n",
              "          const element = document.querySelector('#df-1ab83a7a-df42-4136-87ad-de0d837ec188');\n",
              "          const dataTable =\n",
              "            await google.colab.kernel.invokeFunction('convertToInteractive',\n",
              "                                                     [key], {});\n",
              "          if (!dataTable) return;\n",
              "\n",
              "          const docLinkHtml = 'Like what you see? Visit the ' +\n",
              "            '<a target=\"_blank\" href=https://colab.research.google.com/notebooks/data_table.ipynb>data table notebook</a>'\n",
              "            + ' to learn more about interactive tables.';\n",
              "          element.innerHTML = '';\n",
              "          dataTable['output_type'] = 'display_data';\n",
              "          await google.colab.output.renderOutput(dataTable, element);\n",
              "          const docLink = document.createElement('div');\n",
              "          docLink.innerHTML = docLinkHtml;\n",
              "          element.appendChild(docLink);\n",
              "        }\n",
              "      </script>\n",
              "    </div>\n",
              "  </div>\n",
              "  "
            ]
          },
          "metadata": {},
          "execution_count": 48
        }
      ]
    },
    {
      "cell_type": "code",
      "source": [
        "!pip install -q --no-warn-conflicts \"colabfold[alphafold-minus-jax] @ git+https://github.com/sokrypton/ColabFold\"\n",
        "!pip install -q \"jax[cuda11_cudnn805]>=0.3.8,<0.4\" -f https://storage.googleapis.com/jax-releases/jax_releases.html"
      ],
      "metadata": {
        "colab": {
          "base_uri": "https://localhost:8080/"
        },
        "id": "b8kjBxYxbSPW",
        "outputId": "bf428415-ddea-4a1e-e00b-c75587fedf86"
      },
      "execution_count": null,
      "outputs": [
        {
          "output_type": "stream",
          "name": "stdout",
          "text": [
            "  Installing build dependencies ... \u001b[?25l\u001b[?25hdone\n",
            "  Getting requirements to build wheel ... \u001b[?25l\u001b[?25hdone\n",
            "    Preparing wheel metadata ... \u001b[?25l\u001b[?25hdone\n"
          ]
        }
      ]
    },
    {
      "cell_type": "code",
      "source": [
        "PATH_PREFIX = '/content/gdrive/MyDrive/Kaggle/AlphaFold'\n",
        "jobname = 'test'\n",
        "queries_path=f\"{PATH_PREFIX}/{jobname}.csv\"\n",
        "\n",
        "use_amber = False\n",
        "custom_template_path = None\n",
        "use_templates = False\n",
        "msa_mode = \"MMseqs2 (UniRef+Environmental)\" \n",
        "a3m_file = f\"{jobname}.a3m\"\n",
        "pair_mode = \"unpaired+paired\"\n",
        "model_type = \"AlphaFold2-ptm\" \n",
        "num_recycles = 3\n",
        "save_to_google_drive = False\n",
        "dpi = 200"
      ],
      "metadata": {
        "id": "EiOr7NakSnHF"
      },
      "execution_count": null,
      "outputs": []
    },
    {
      "cell_type": "code",
      "source": [
        "from google.colab import files\n",
        "import os.path\n",
        "import re\n",
        "import hashlib\n",
        "import random\n",
        "import sys\n",
        "import warnings\n",
        "\n",
        "wt_done = {}\n",
        "job_paths = []\n",
        "\n",
        "for [i, row] in df.iterrows():\n",
        "\n",
        "  pdb_id = row['pdb_id']\n",
        "  mutations = row['mutations']\n",
        "  job_name = (pdb_id + '_WT').upper()\n",
        "\n",
        "  if job_name in wt_done:\n",
        "    continue\n",
        "\n",
        "  wt_done[job_name] = True\n",
        "\n",
        "  query_sequence = row['wt_sequence']\n",
        "  query_sequence = \"\".join(query_sequence.split())\n",
        "  \n",
        "  job_path = PATH_PREFIX + '/' + job_name\n",
        "  job_paths.append(job_path)\n",
        "\n",
        "  with open(f\"{job_path}.csv\", \"w\") as text_file:\n",
        "    text_file.write(f\"id,sequence\\n{job_name},{query_sequence}\")"
      ],
      "metadata": {
        "id": "Czrrj4LeRaFY"
      },
      "execution_count": null,
      "outputs": []
    },
    {
      "cell_type": "code",
      "metadata": {
        "id": "_sztQyz29DIC"
      },
      "source": [
        "from colabfold.download import download_alphafold_params, default_data_dir\n",
        "from colabfold.utils import setup_logging\n",
        "from colabfold.batch import get_queries, run, set_model_type\n",
        "from colabfold.colabfold import plot_protein\n",
        "from pathlib import Path\n",
        "import matplotlib.pyplot as plt\n",
        "\n",
        "def prediction_callback(unrelaxed_protein, length, prediction_result, input_features, type):\n",
        "  print('Done prediction')\n",
        "  #fig = plot_protein(unrelaxed_protein, Ls=length, dpi=150)\n",
        "  #plt.show()\n",
        "  #plt.close()\n",
        "\n",
        "model_type = set_model_type(is_complex, model_type)\n",
        "download_alphafold_params(model_type, Path(\".\"))"
      ],
      "execution_count": null,
      "outputs": []
    },
    {
      "cell_type": "code",
      "source": [
        "result_dir = PATH_PREFIX + '/Results'\n",
        "\n",
        "for job_path in job_paths:\n",
        "    \n",
        "  queries, is_complex = get_queries(f\"{job_path}.csv\")\n",
        "\n",
        "  run(\n",
        "      queries=queries,\n",
        "      result_dir=result_dir,\n",
        "      use_templates=use_templates,\n",
        "      custom_template_path=custom_template_path,\n",
        "      use_amber=use_amber,\n",
        "      msa_mode=msa_mode,    \n",
        "      model_type=model_type,\n",
        "      num_models=5,\n",
        "      num_recycles=num_recycles,\n",
        "      model_order=[1,2,3,4,5],\n",
        "      is_complex=is_complex,\n",
        "      data_dir=Path(\".\"),\n",
        "      keep_existing_results=False,\n",
        "      recompile_padding=1.0,\n",
        "      rank_by=\"auto\",\n",
        "      pair_mode=pair_mode,\n",
        "      stop_at_score=float(100),\n",
        "      prediction_callback=prediction_callback,\n",
        "      dpi=dpi\n",
        "  )"
      ],
      "metadata": {
        "colab": {
          "base_uri": "https://localhost:8080/"
        },
        "id": "npUdAKrPWADb",
        "outputId": "e7a1dd3d-93c4-4704-b1d6-d5fbfda45d10"
      },
      "execution_count": null,
      "outputs": [
        {
          "metadata": {
            "tags": null
          },
          "name": "stdout",
          "output_type": "stream",
          "text": [
            "2022-10-27 03:21:16,384 Found 5 citations for tools or databases\n",
            "2022-10-27 03:21:21,759 Query 1/1: 2LZM_WT (length 164)\n"
          ]
        },
        {
          "metadata": {
            "tags": null
          },
          "name": "stderr",
          "output_type": "stream",
          "text": [
            "COMPLETE: 100%|██████████| 150/150 [elapsed: 00:00 remaining: 00:00]\n"
          ]
        },
        {
          "metadata": {
            "tags": null
          },
          "name": "stdout",
          "output_type": "stream",
          "text": [
            "2022-10-27 03:21:22,876 Running model_1\n",
            "2022-10-27 03:22:36,044 model_1 took 70.9s (3 recycles) with pLDDT 95.9 and ptmscore 0.879\n",
            "Done prediction\n",
            "2022-10-27 03:22:39,736 Running model_2\n",
            "2022-10-27 03:23:35,053 model_2 took 52.9s (3 recycles) with pLDDT 96.6 and ptmscore 0.898\n",
            "Done prediction\n",
            "2022-10-27 03:23:38,740 Running model_3\n",
            "2022-10-27 03:24:33,608 model_3 took 52.6s (3 recycles) with pLDDT 96 and ptmscore 0.881\n",
            "Done prediction\n",
            "2022-10-27 03:24:37,247 Running model_4\n",
            "2022-10-27 03:25:32,038 model_4 took 52.5s (3 recycles) with pLDDT 96.8 and ptmscore 0.899\n",
            "Done prediction\n",
            "2022-10-27 03:25:35,807 Running model_5\n",
            "2022-10-27 03:26:30,654 model_5 took 52.6s (3 recycles) with pLDDT 96.9 and ptmscore 0.9\n",
            "Done prediction\n",
            "2022-10-27 03:26:34,352 reranking models by plddt\n",
            "2022-10-27 03:26:36,189 Done\n",
            "2022-10-27 03:26:36,206 Found 5 citations for tools or databases\n",
            "2022-10-27 03:26:40,842 Query 1/1: 2RN2_WT (length 155)\n"
          ]
        },
        {
          "metadata": {
            "tags": null
          },
          "name": "stderr",
          "output_type": "stream",
          "text": [
            "COMPLETE: 100%|██████████| 150/150 [elapsed: 00:00 remaining: 00:00]\n"
          ]
        },
        {
          "metadata": {
            "tags": null
          },
          "name": "stdout",
          "output_type": "stream",
          "text": [
            "2022-10-27 03:26:43,157 Running model_1\n",
            "2022-10-27 03:28:07,786 model_1 took 79.0s (3 recycles) with pLDDT 94.1 and ptmscore 0.891\n",
            "Done prediction\n",
            "2022-10-27 03:28:15,821 Running model_2\n",
            "2022-10-27 03:29:06,887 model_2 took 45.8s (3 recycles) with pLDDT 94.3 and ptmscore 0.9\n",
            "Done prediction\n",
            "2022-10-27 03:29:10,403 Running model_3\n",
            "2022-10-27 03:30:01,514 model_3 took 45.7s (3 recycles) with pLDDT 93.9 and ptmscore 0.892\n",
            "Done prediction\n",
            "2022-10-27 03:30:05,090 Running model_4\n",
            "2022-10-27 03:30:56,212 model_4 took 45.8s (3 recycles) with pLDDT 91.3 and ptmscore 0.862\n",
            "Done prediction\n",
            "2022-10-27 03:30:59,748 Running model_5\n",
            "2022-10-27 03:31:50,779 model_5 took 45.7s (3 recycles) with pLDDT 92.2 and ptmscore 0.875\n",
            "Done prediction\n",
            "2022-10-27 03:31:54,252 reranking models by plddt\n",
            "2022-10-27 03:31:57,382 Done\n",
            "2022-10-27 03:31:57,400 Found 5 citations for tools or databases\n",
            "2022-10-27 03:32:02,033 Query 1/1: 1PML_WT (length 562)\n"
          ]
        },
        {
          "metadata": {
            "tags": null
          },
          "name": "stderr",
          "output_type": "stream",
          "text": [
            "COMPLETE: 100%|██████████| 150/150 [elapsed: 00:02 remaining: 00:00]\n"
          ]
        },
        {
          "metadata": {
            "tags": null
          },
          "name": "stdout",
          "output_type": "stream",
          "text": [
            "2022-10-27 03:32:07,917 Running model_1\n",
            "2022-10-27 03:40:41,202 model_1 took 489.9s (3 recycles) with pLDDT 83.3 and ptmscore 0.575\n",
            "Done prediction\n",
            "2022-10-27 03:41:54,438 Running model_2\n",
            "2022-10-27 03:49:31,105 model_2 took 433.8s (3 recycles) with pLDDT 82.7 and ptmscore 0.568\n",
            "Done prediction\n",
            "2022-10-27 03:49:43,700 Running model_3\n",
            "2022-10-27 03:57:20,052 model_3 took 434.4s (3 recycles) with pLDDT 83.6 and ptmscore 0.563\n",
            "Done prediction\n",
            "2022-10-27 03:57:32,628 Running model_4\n",
            "2022-10-27 04:05:08,639 model_4 took 433.9s (3 recycles) with pLDDT 83.8 and ptmscore 0.576\n",
            "Done prediction\n",
            "2022-10-27 04:05:21,357 Running model_5\n",
            "2022-10-27 04:12:57,867 model_5 took 434.2s (3 recycles) with pLDDT 81.5 and ptmscore 0.577\n",
            "Done prediction\n",
            "2022-10-27 04:13:10,298 reranking models by plddt\n",
            "2022-10-27 04:13:19,374 Done\n",
            "2022-10-27 04:13:19,393 Found 5 citations for tools or databases\n",
            "2022-10-27 04:13:23,972 Query 1/1: 1WQ5_WT (length 268)\n"
          ]
        },
        {
          "metadata": {
            "tags": null
          },
          "name": "stderr",
          "output_type": "stream",
          "text": [
            "COMPLETE: 100%|██████████| 150/150 [elapsed: 00:01 remaining: 00:00]\n"
          ]
        },
        {
          "metadata": {
            "tags": null
          },
          "name": "stdout",
          "output_type": "stream",
          "text": [
            "2022-10-27 04:13:26,151 Running model_1\n",
            "2022-10-27 04:16:02,432 model_1 took 150.2s (3 recycles) with pLDDT 93.9 and ptmscore 0.909\n",
            "Done prediction\n",
            "2022-10-27 04:16:14,539 Running model_2\n",
            "2022-10-27 04:18:16,018 model_2 took 115.6s (3 recycles) with pLDDT 93.7 and ptmscore 0.912\n",
            "Done prediction\n",
            "2022-10-27 04:18:21,885 Running model_3\n",
            "2022-10-27 04:20:23,669 model_3 took 115.9s (3 recycles) with pLDDT 94.2 and ptmscore 0.914\n",
            "Done prediction\n",
            "2022-10-27 04:20:29,487 Running model_4\n",
            "2022-10-27 04:22:31,329 model_4 took 115.9s (3 recycles) with pLDDT 94.2 and ptmscore 0.913\n",
            "Done prediction\n",
            "2022-10-27 04:22:37,196 Running model_5\n",
            "2022-10-27 04:24:38,924 model_5 took 115.8s (3 recycles) with pLDDT 93.9 and ptmscore 0.91\n",
            "Done prediction\n",
            "2022-10-27 04:24:44,737 reranking models by plddt\n",
            "2022-10-27 04:24:48,100 Done\n",
            "2022-10-27 04:24:48,122 Found 5 citations for tools or databases\n",
            "2022-10-27 04:24:52,587 Query 1/1: 1RN1_WT (length 130)\n"
          ]
        },
        {
          "metadata": {
            "tags": null
          },
          "name": "stderr",
          "output_type": "stream",
          "text": [
            "COMPLETE: 100%|██████████| 150/150 [elapsed: 00:00 remaining: 00:00]\n"
          ]
        },
        {
          "metadata": {
            "tags": null
          },
          "name": "stdout",
          "output_type": "stream",
          "text": [
            "2022-10-27 04:24:53,547 Running model_1\n",
            "2022-10-27 04:26:03,207 model_1 took 67.9s (3 recycles) with pLDDT 88.6 and ptmscore 0.755\n",
            "Done prediction\n",
            "2022-10-27 04:26:09,037 Running model_2\n",
            "2022-10-27 04:26:47,225 model_2 took 36.5s (3 recycles) with pLDDT 89 and ptmscore 0.76\n",
            "Done prediction\n",
            "2022-10-27 04:26:50,038 Running model_3\n",
            "2022-10-27 04:27:28,512 model_3 took 36.8s (3 recycles) with pLDDT 90.2 and ptmscore 0.766\n",
            "Done prediction\n",
            "2022-10-27 04:27:31,386 Running model_4\n",
            "2022-10-27 04:28:09,692 model_4 took 36.6s (3 recycles) with pLDDT 88.7 and ptmscore 0.756\n",
            "Done prediction\n",
            "2022-10-27 04:28:12,504 Running model_5\n",
            "2022-10-27 04:28:51,215 model_5 took 36.7s (3 recycles) with pLDDT 88.9 and ptmscore 0.765\n",
            "Done prediction\n",
            "2022-10-27 04:28:54,049 reranking models by plddt\n",
            "2022-10-27 04:28:55,713 Done\n",
            "2022-10-27 04:28:55,732 Found 5 citations for tools or databases\n",
            "2022-10-27 04:29:00,269 Query 1/1: 1ANK_WT (length 214)\n"
          ]
        },
        {
          "metadata": {
            "tags": null
          },
          "name": "stderr",
          "output_type": "stream",
          "text": [
            "COMPLETE: 100%|██████████| 150/150 [elapsed: 00:01 remaining: 00:00]\n"
          ]
        },
        {
          "metadata": {
            "tags": null
          },
          "name": "stdout",
          "output_type": "stream",
          "text": [
            "2022-10-27 04:29:02,901 Running model_1\n",
            "2022-10-27 04:31:05,986 model_1 took 115.6s (3 recycles) with pLDDT 94.6 and ptmscore 0.87\n",
            "Done prediction\n",
            "2022-10-27 04:31:15,728 Running model_2\n",
            "2022-10-27 04:32:42,214 model_2 took 79.2s (3 recycles) with pLDDT 92.7 and ptmscore 0.851\n",
            "Done prediction\n",
            "2022-10-27 04:32:46,974 Running model_3\n",
            "2022-10-27 04:34:13,326 model_3 took 79.1s (3 recycles) with pLDDT 96.1 and ptmscore 0.907\n",
            "Done prediction\n",
            "2022-10-27 04:34:18,065 Running model_4\n",
            "2022-10-27 04:35:44,713 model_4 took 79.1s (3 recycles) with pLDDT 92.4 and ptmscore 0.867\n",
            "Done prediction\n",
            "2022-10-27 04:35:49,483 Running model_5\n",
            "2022-10-27 04:37:15,949 model_5 took 79.1s (3 recycles) with pLDDT 94.3 and ptmscore 0.891\n",
            "Done prediction\n",
            "2022-10-27 04:37:20,683 reranking models by plddt\n",
            "2022-10-27 04:37:24,008 Done\n",
            "2022-10-27 04:37:24,026 Found 5 citations for tools or databases\n",
            "2022-10-27 04:37:28,597 Query 1/1: 1ORC_WT (length 66)\n"
          ]
        },
        {
          "metadata": {
            "tags": null
          },
          "name": "stderr",
          "output_type": "stream",
          "text": [
            "COMPLETE: 100%|██████████| 150/150 [elapsed: 00:00 remaining: 00:00]\n"
          ]
        },
        {
          "metadata": {
            "tags": null
          },
          "name": "stdout",
          "output_type": "stream",
          "text": [
            "2022-10-27 04:37:29,393 Running model_1\n",
            "2022-10-27 04:38:17,270 model_1 took 46.5s (3 recycles) with pLDDT 88.4 and ptmscore 0.678\n",
            "Done prediction\n",
            "2022-10-27 04:38:20,366 Running model_2\n",
            "2022-10-27 04:38:40,201 model_2 took 18.5s (3 recycles) with pLDDT 87 and ptmscore 0.65\n",
            "Done prediction\n",
            "2022-10-27 04:38:41,670 Running model_3\n",
            "2022-10-27 04:39:01,237 model_3 took 18.3s (3 recycles) with pLDDT 91.1 and ptmscore 0.735\n",
            "Done prediction\n",
            "2022-10-27 04:39:02,740 Running model_4\n",
            "2022-10-27 04:39:22,349 model_4 took 18.3s (3 recycles) with pLDDT 92.3 and ptmscore 0.753\n",
            "Done prediction\n",
            "2022-10-27 04:39:23,826 Running model_5\n",
            "2022-10-27 04:39:43,863 model_5 took 18.4s (3 recycles) with pLDDT 91.7 and ptmscore 0.734\n",
            "Done prediction\n",
            "2022-10-27 04:39:45,353 reranking models by plddt\n",
            "2022-10-27 04:39:46,715 Done\n",
            "2022-10-27 04:39:46,734 Found 5 citations for tools or databases\n",
            "2022-10-27 04:39:51,236 Query 1/1: 5CRO_WT (length 66)\n"
          ]
        },
        {
          "metadata": {
            "tags": null
          },
          "name": "stderr",
          "output_type": "stream",
          "text": [
            "COMPLETE: 100%|██████████| 150/150 [elapsed: 00:00 remaining: 00:00]\n"
          ]
        },
        {
          "metadata": {
            "tags": null
          },
          "name": "stdout",
          "output_type": "stream",
          "text": [
            "2022-10-27 04:39:51,912 Running model_1\n",
            "2022-10-27 04:40:33,231 model_1 took 40.0s (3 recycles) with pLDDT 88.4 and ptmscore 0.678\n",
            "Done prediction\n",
            "2022-10-27 04:40:34,722 Running model_2\n",
            "2022-10-27 04:40:54,607 model_2 took 18.6s (3 recycles) with pLDDT 87 and ptmscore 0.65\n",
            "Done prediction\n",
            "2022-10-27 04:40:56,065 Running model_3\n",
            "2022-10-27 04:41:15,803 model_3 took 18.4s (3 recycles) with pLDDT 91.1 and ptmscore 0.735\n",
            "Done prediction\n",
            "2022-10-27 04:41:17,269 Running model_4\n",
            "2022-10-27 04:41:36,760 model_4 took 18.2s (3 recycles) with pLDDT 92.3 and ptmscore 0.753\n",
            "Done prediction\n",
            "2022-10-27 04:41:38,250 Running model_5\n",
            "2022-10-27 04:41:57,871 model_5 took 18.3s (3 recycles) with pLDDT 91.7 and ptmscore 0.734\n",
            "Done prediction\n",
            "2022-10-27 04:41:59,333 reranking models by plddt\n",
            "2022-10-27 04:42:00,696 Done\n",
            "2022-10-27 04:42:00,712 Found 5 citations for tools or databases\n",
            "2022-10-27 04:42:05,273 Query 1/1: 1STN_WT (length 231)\n"
          ]
        },
        {
          "metadata": {
            "tags": null
          },
          "name": "stderr",
          "output_type": "stream",
          "text": [
            "COMPLETE: 100%|██████████| 150/150 [elapsed: 00:01 remaining: 00:00]\n"
          ]
        },
        {
          "metadata": {
            "tags": null
          },
          "name": "stdout",
          "output_type": "stream",
          "text": [
            "2022-10-27 04:42:07,690 Running model_1\n",
            "2022-10-27 04:44:19,864 model_1 took 126.2s (3 recycles) with pLDDT 79.2 and ptmscore 0.611\n",
            "Done prediction\n",
            "2022-10-27 04:44:30,348 Running model_2\n",
            "2022-10-27 04:46:04,604 model_2 took 88.4s (3 recycles) with pLDDT 78.9 and ptmscore 0.607\n",
            "Done prediction\n",
            "2022-10-27 04:46:09,678 Running model_3\n",
            "2022-10-27 04:47:44,013 model_3 took 88.3s (3 recycles) with pLDDT 80.6 and ptmscore 0.611\n",
            "Done prediction\n",
            "2022-10-27 04:47:49,173 Running model_4\n",
            "2022-10-27 04:49:23,694 model_4 took 88.3s (3 recycles) with pLDDT 80.3 and ptmscore 0.609\n",
            "Done prediction\n",
            "2022-10-27 04:49:28,750 Running model_5\n",
            "2022-10-27 04:51:03,108 model_5 took 88.4s (3 recycles) with pLDDT 78 and ptmscore 0.609\n",
            "Done prediction\n",
            "2022-10-27 04:51:08,263 reranking models by plddt\n",
            "2022-10-27 04:51:11,207 Done\n",
            "2022-10-27 04:51:11,224 Found 5 citations for tools or databases\n",
            "2022-10-27 04:51:15,721 Query 1/1: 1ARR_WT (length 53)\n"
          ]
        },
        {
          "metadata": {
            "tags": null
          },
          "name": "stderr",
          "output_type": "stream",
          "text": [
            "COMPLETE: 100%|██████████| 150/150 [elapsed: 00:00 remaining: 00:00]\n"
          ]
        },
        {
          "metadata": {
            "tags": null
          },
          "name": "stdout",
          "output_type": "stream",
          "text": [
            "2022-10-27 04:51:16,747 Running model_1\n",
            "2022-10-27 04:52:02,633 model_1 took 44.0s (3 recycles) with pLDDT 86.6 and ptmscore 0.601\n",
            "Done prediction\n",
            "2022-10-27 04:52:05,126 Running model_2\n",
            "2022-10-27 04:52:22,964 model_2 took 16.0s (3 recycles) with pLDDT 85.3 and ptmscore 0.597\n",
            "Done prediction\n",
            "2022-10-27 04:52:24,196 Running model_3\n",
            "2022-10-27 04:52:41,861 model_3 took 15.8s (3 recycles) with pLDDT 83.2 and ptmscore 0.532\n",
            "Done prediction\n",
            "2022-10-27 04:52:43,079 Running model_4\n",
            "2022-10-27 04:53:00,557 model_4 took 15.7s (3 recycles) with pLDDT 85.9 and ptmscore 0.591\n",
            "Done prediction\n",
            "2022-10-27 04:53:01,753 Running model_5\n",
            "2022-10-27 04:53:19,196 model_5 took 15.7s (3 recycles) with pLDDT 84.4 and ptmscore 0.562\n",
            "Done prediction\n",
            "2022-10-27 04:53:20,432 reranking models by plddt\n",
            "2022-10-27 04:53:21,936 Done\n",
            "2022-10-27 04:53:21,956 Found 5 citations for tools or databases\n",
            "2022-10-27 04:53:26,531 Query 1/1: 2WSY_WT (length 268)\n"
          ]
        },
        {
          "metadata": {
            "tags": null
          },
          "name": "stderr",
          "output_type": "stream",
          "text": [
            "COMPLETE: 100%|██████████| 150/150 [elapsed: 00:01 remaining: 00:00]\n"
          ]
        },
        {
          "metadata": {
            "tags": null
          },
          "name": "stdout",
          "output_type": "stream",
          "text": [
            "2022-10-27 04:53:28,623 Running model_1\n",
            "2022-10-27 04:55:49,244 model_1 took 134.7s (3 recycles) with pLDDT 93.1 and ptmscore 0.901\n",
            "Done prediction\n",
            "2022-10-27 04:55:55,124 Running model_2\n",
            "2022-10-27 04:57:56,455 model_2 took 115.5s (3 recycles) with pLDDT 93.7 and ptmscore 0.913\n",
            "Done prediction\n",
            "2022-10-27 04:58:02,304 Running model_3\n",
            "2022-10-27 05:00:04,037 model_3 took 115.8s (3 recycles) with pLDDT 94 and ptmscore 0.911\n",
            "Done prediction\n",
            "2022-10-27 05:00:09,887 Running model_4\n",
            "2022-10-27 05:02:11,602 model_4 took 115.8s (3 recycles) with pLDDT 93.9 and ptmscore 0.911\n",
            "Done prediction\n",
            "2022-10-27 05:02:17,440 Running model_5\n",
            "2022-10-27 05:04:19,169 model_5 took 115.7s (3 recycles) with pLDDT 94 and ptmscore 0.912\n",
            "Done prediction\n",
            "2022-10-27 05:04:25,073 reranking models by plddt\n",
            "2022-10-27 05:04:28,065 Done\n",
            "2022-10-27 05:04:28,084 Found 5 citations for tools or databases\n",
            "2022-10-27 05:04:32,641 Query 1/1: 1RX4_WT (length 159)\n"
          ]
        },
        {
          "metadata": {
            "tags": null
          },
          "name": "stderr",
          "output_type": "stream",
          "text": [
            "COMPLETE: 100%|██████████| 150/150 [elapsed: 00:01 remaining: 00:00]\n"
          ]
        },
        {
          "metadata": {
            "tags": null
          },
          "name": "stdout",
          "output_type": "stream",
          "text": [
            "2022-10-27 05:04:34,726 Running model_1\n",
            "2022-10-27 05:06:00,658 model_1 took 80.9s (3 recycles) with pLDDT 96.1 and ptmscore 0.901\n",
            "Done prediction\n",
            "2022-10-27 05:06:08,008 Running model_2\n",
            "2022-10-27 05:07:00,257 model_2 took 47.3s (3 recycles) with pLDDT 95.5 and ptmscore 0.903\n",
            "Done prediction\n",
            "2022-10-27 05:07:03,865 Running model_3\n",
            "2022-10-27 05:07:56,009 model_3 took 47.1s (3 recycles) with pLDDT 94.5 and ptmscore 0.897\n",
            "Done prediction\n",
            "2022-10-27 05:07:59,578 Running model_4\n",
            "2022-10-27 05:08:51,834 model_4 took 47.3s (3 recycles) with pLDDT 95.1 and ptmscore 0.904\n",
            "Done prediction\n",
            "2022-10-27 05:08:55,456 Running model_5\n",
            "2022-10-27 05:09:47,634 model_5 took 47.1s (3 recycles) with pLDDT 95.7 and ptmscore 0.912\n",
            "Done prediction\n",
            "2022-10-27 05:09:51,198 reranking models by plddt\n",
            "2022-10-27 05:09:53,792 Done\n",
            "2022-10-27 05:09:53,840 Found 5 citations for tools or databases\n",
            "2022-10-27 05:09:58,367 Query 1/1: 1LRP_WT (length 237)\n"
          ]
        },
        {
          "metadata": {
            "tags": null
          },
          "name": "stderr",
          "output_type": "stream",
          "text": [
            "COMPLETE: 100%|██████████| 150/150 [elapsed: 00:00 remaining: 00:00]\n"
          ]
        },
        {
          "metadata": {
            "tags": null
          },
          "name": "stdout",
          "output_type": "stream",
          "text": [
            "2022-10-27 05:09:59,748 Running model_1\n",
            "2022-10-27 05:12:13,978 model_1 took 130.2s (3 recycles) with pLDDT 84 and ptmscore 0.555\n",
            "Done prediction\n",
            "2022-10-27 05:12:25,042 Running model_2\n",
            "2022-10-27 05:14:00,880 model_2 took 92.4s (3 recycles) with pLDDT 82.5 and ptmscore 0.548\n",
            "Done prediction\n",
            "2022-10-27 05:14:06,282 Running model_3\n",
            "2022-10-27 05:15:42,051 model_3 took 92.4s (3 recycles) with pLDDT 81 and ptmscore 0.531\n",
            "Done prediction\n",
            "2022-10-27 05:15:47,365 Running model_4\n",
            "2022-10-27 05:17:23,075 model_4 took 92.3s (3 recycles) with pLDDT 79 and ptmscore 0.501\n",
            "Done prediction\n",
            "2022-10-27 05:17:28,305 Running model_5\n",
            "2022-10-27 05:19:04,061 model_5 took 92.4s (3 recycles) with pLDDT 80 and ptmscore 0.572\n",
            "Done prediction\n",
            "2022-10-27 05:19:09,349 reranking models by plddt\n",
            "2022-10-27 05:19:11,699 Done\n",
            "2022-10-27 05:19:11,742 Found 5 citations for tools or databases\n",
            "2022-10-27 05:19:16,864 Query 1/1: 1BPI_WT (length 100)\n"
          ]
        },
        {
          "metadata": {
            "tags": null
          },
          "name": "stderr",
          "output_type": "stream",
          "text": [
            "COMPLETE: 100%|██████████| 150/150 [elapsed: 00:00 remaining: 00:00]\n"
          ]
        },
        {
          "metadata": {
            "tags": null
          },
          "name": "stdout",
          "output_type": "stream",
          "text": [
            "2022-10-27 05:19:18,443 Running model_1\n",
            "2022-10-27 05:20:15,647 model_1 took 53.7s (3 recycles) with pLDDT 79 and ptmscore 0.6\n",
            "Done prediction\n",
            "2022-10-27 05:20:20,367 Running model_2\n",
            "2022-10-27 05:20:51,056 model_2 took 27.3s (3 recycles) with pLDDT 80.5 and ptmscore 0.612\n",
            "Done prediction\n",
            "2022-10-27 05:20:53,248 Running model_3\n",
            "2022-10-27 05:21:23,784 model_3 took 27.2s (3 recycles) with pLDDT 81.2 and ptmscore 0.614\n",
            "Done prediction\n",
            "2022-10-27 05:21:25,978 Running model_4\n",
            "2022-10-27 05:21:56,605 model_4 took 27.3s (3 recycles) with pLDDT 78.2 and ptmscore 0.6\n",
            "Done prediction\n",
            "2022-10-27 05:21:58,817 Running model_5\n",
            "2022-10-27 05:22:29,442 model_5 took 27.3s (3 recycles) with pLDDT 80.6 and ptmscore 0.648\n",
            "Done prediction\n",
            "2022-10-27 05:22:31,637 reranking models by plddt\n",
            "2022-10-27 05:22:33,632 Done\n",
            "2022-10-27 05:22:33,649 Found 5 citations for tools or databases\n",
            "2022-10-27 05:22:38,164 Query 1/1: 1PGA_WT (length 448)\n"
          ]
        },
        {
          "metadata": {
            "tags": null
          },
          "name": "stderr",
          "output_type": "stream",
          "text": [
            "COMPLETE: 100%|██████████| 150/150 [elapsed: 00:00 remaining: 00:00]\n"
          ]
        },
        {
          "metadata": {
            "tags": null
          },
          "name": "stdout",
          "output_type": "stream",
          "text": [
            "2022-10-27 05:22:39,010 Running model_1\n",
            "2022-10-27 05:28:04,106 model_1 took 323.0s (3 recycles) with pLDDT 63.8 and ptmscore 0.314\n",
            "Done prediction\n",
            "2022-10-27 05:28:24,659 Running model_2\n",
            "2022-10-27 05:33:04,263 model_2 took 277.4s (3 recycles) with pLDDT 64.3 and ptmscore 0.27\n",
            "Done prediction\n",
            "2022-10-27 05:33:13,929 Running model_3\n",
            "2022-10-27 05:37:53,829 model_3 took 277.8s (3 recycles) with pLDDT 65.7 and ptmscore 0.273\n",
            "Done prediction\n",
            "2022-10-27 05:38:03,576 Running model_4\n",
            "2022-10-27 05:42:43,057 model_4 took 277.3s (3 recycles) with pLDDT 65.8 and ptmscore 0.289\n",
            "Done prediction\n",
            "2022-10-27 05:42:52,698 Running model_5\n",
            "2022-10-27 05:47:31,484 model_5 took 276.6s (3 recycles) with pLDDT 65.6 and ptmscore 0.305\n",
            "Done prediction\n",
            "2022-10-27 05:47:41,225 reranking models by plddt\n",
            "2022-10-27 05:47:44,582 Done\n",
            "2022-10-27 05:47:44,627 Found 5 citations for tools or databases\n",
            "2022-10-27 05:47:49,191 Query 1/1: 2RN4_WT (length 155)\n"
          ]
        },
        {
          "metadata": {
            "tags": null
          },
          "name": "stderr",
          "output_type": "stream",
          "text": [
            "COMPLETE: 100%|██████████| 150/150 [elapsed: 00:01 remaining: 00:00]\n"
          ]
        },
        {
          "metadata": {
            "tags": null
          },
          "name": "stdout",
          "output_type": "stream",
          "text": [
            "2022-10-27 05:47:51,371 Running model_1\n",
            "2022-10-27 05:49:04,283 model_1 took 67.7s (3 recycles) with pLDDT 94.1 and ptmscore 0.891\n",
            "Done prediction\n",
            "2022-10-27 05:49:11,398 Running model_2\n",
            "2022-10-27 05:50:02,324 model_2 took 45.7s (3 recycles) with pLDDT 94.3 and ptmscore 0.9\n",
            "Done prediction\n",
            "2022-10-27 05:50:05,816 Running model_3\n",
            "2022-10-27 05:50:56,787 model_3 took 45.7s (3 recycles) with pLDDT 93.9 and ptmscore 0.892\n",
            "Done prediction\n",
            "2022-10-27 05:51:00,282 Running model_4\n",
            "2022-10-27 05:51:51,239 model_4 took 45.7s (3 recycles) with pLDDT 91.3 and ptmscore 0.862\n",
            "Done prediction\n",
            "2022-10-27 05:51:54,761 Running model_5\n",
            "2022-10-27 05:52:45,758 model_5 took 45.7s (3 recycles) with pLDDT 92.2 and ptmscore 0.875\n",
            "Done prediction\n",
            "2022-10-27 05:52:49,302 reranking models by plddt\n",
            "2022-10-27 05:52:52,000 Done\n",
            "2022-10-27 05:52:52,043 Found 5 citations for tools or databases\n",
            "2022-10-27 05:52:56,624 Query 1/1: 1RCH_WT (length 155)\n"
          ]
        },
        {
          "metadata": {
            "tags": null
          },
          "name": "stderr",
          "output_type": "stream",
          "text": [
            "COMPLETE: 100%|██████████| 150/150 [elapsed: 00:01 remaining: 00:00]\n"
          ]
        },
        {
          "metadata": {
            "tags": null
          },
          "name": "stdout",
          "output_type": "stream",
          "text": [
            "2022-10-27 05:52:59,424 Running model_1\n",
            "2022-10-27 05:54:12,638 model_1 took 67.8s (3 recycles) with pLDDT 94.1 and ptmscore 0.891\n",
            "Done prediction\n",
            "2022-10-27 05:54:16,138 Running model_2\n",
            "2022-10-27 05:55:06,992 model_2 took 45.5s (3 recycles) with pLDDT 94.3 and ptmscore 0.9\n",
            "Done prediction\n",
            "2022-10-27 05:55:10,548 Running model_3\n",
            "2022-10-27 05:56:01,675 model_3 took 45.7s (3 recycles) with pLDDT 93.9 and ptmscore 0.892\n",
            "Done prediction\n",
            "2022-10-27 05:56:05,223 Running model_4\n",
            "2022-10-27 05:56:56,253 model_4 took 45.7s (3 recycles) with pLDDT 91.3 and ptmscore 0.862\n",
            "Done prediction\n",
            "2022-10-27 05:56:59,810 Running model_5\n",
            "2022-10-27 05:57:50,880 model_5 took 45.7s (3 recycles) with pLDDT 92.2 and ptmscore 0.875\n",
            "Done prediction\n",
            "2022-10-27 05:57:54,379 reranking models by plddt\n",
            "2022-10-27 05:57:57,112 Done\n",
            "2022-10-27 05:57:57,130 Found 5 citations for tools or databases\n",
            "2022-10-27 05:58:01,703 Query 1/1: 2RN5_WT (length 155)\n"
          ]
        },
        {
          "metadata": {
            "tags": null
          },
          "name": "stderr",
          "output_type": "stream",
          "text": [
            "COMPLETE: 100%|██████████| 150/150 [elapsed: 00:01 remaining: 00:00]\n"
          ]
        },
        {
          "metadata": {
            "tags": null
          },
          "name": "stdout",
          "output_type": "stream",
          "text": [
            "2022-10-27 05:58:03,814 Running model_1\n",
            "2022-10-27 05:59:17,930 model_1 took 68.1s (3 recycles) with pLDDT 94.1 and ptmscore 0.891\n",
            "Done prediction\n",
            "2022-10-27 05:59:21,499 Running model_2\n",
            "2022-10-27 06:00:12,387 model_2 took 45.5s (3 recycles) with pLDDT 94.3 and ptmscore 0.9\n",
            "Done prediction\n",
            "2022-10-27 06:00:15,971 Running model_3\n",
            "2022-10-27 06:01:07,148 model_3 took 45.8s (3 recycles) with pLDDT 93.9 and ptmscore 0.892\n",
            "Done prediction\n",
            "2022-10-27 06:01:10,692 Running model_4\n",
            "2022-10-27 06:02:01,816 model_4 took 45.7s (3 recycles) with pLDDT 91.3 and ptmscore 0.862\n",
            "Done prediction\n",
            "2022-10-27 06:02:05,373 Running model_5\n",
            "2022-10-27 06:02:56,434 model_5 took 45.8s (3 recycles) with pLDDT 92.2 and ptmscore 0.875\n",
            "Done prediction\n",
            "2022-10-27 06:02:59,976 reranking models by plddt\n",
            "2022-10-27 06:03:02,695 Done\n",
            "2022-10-27 06:03:02,713 Found 5 citations for tools or databases\n",
            "2022-10-27 06:03:07,361 Query 1/1: 1BNI_WT (length 157)\n"
          ]
        },
        {
          "metadata": {
            "tags": null
          },
          "name": "stderr",
          "output_type": "stream",
          "text": [
            "COMPLETE: 100%|██████████| 150/150 [elapsed: 00:00 remaining: 00:00]\n"
          ]
        },
        {
          "metadata": {
            "tags": null
          },
          "name": "stdout",
          "output_type": "stream",
          "text": [
            "2022-10-27 06:03:08,537 Running model_1\n",
            "2022-10-27 06:04:30,834 model_1 took 79.7s (3 recycles) with pLDDT 82.5 and ptmscore 0.674\n",
            "Done prediction\n",
            "2022-10-27 06:04:38,233 Running model_2\n",
            "2022-10-27 06:05:27,010 model_2 took 46.2s (3 recycles) with pLDDT 82.1 and ptmscore 0.672\n",
            "Done prediction\n",
            "2022-10-27 06:05:30,559 Running model_3\n",
            "2022-10-27 06:06:19,374 model_3 took 46.3s (3 recycles) with pLDDT 81.5 and ptmscore 0.676\n",
            "Done prediction\n",
            "2022-10-27 06:06:22,886 Running model_4\n",
            "2022-10-27 06:07:11,761 model_4 took 46.3s (3 recycles) with pLDDT 81.3 and ptmscore 0.676\n",
            "Done prediction\n",
            "2022-10-27 06:07:15,353 Running model_5\n",
            "2022-10-27 06:08:04,157 model_5 took 46.2s (3 recycles) with pLDDT 81 and ptmscore 0.679\n",
            "Done prediction\n",
            "2022-10-27 06:08:07,717 reranking models by plddt\n",
            "2022-10-27 06:08:10,160 Done\n",
            "2022-10-27 06:08:10,177 Found 5 citations for tools or databases\n",
            "2022-10-27 06:08:14,718 Query 1/1: 2CI2_WT (length 84)\n"
          ]
        },
        {
          "metadata": {
            "tags": null
          },
          "name": "stderr",
          "output_type": "stream",
          "text": [
            "COMPLETE: 100%|██████████| 150/150 [elapsed: 00:00 remaining: 00:00]\n"
          ]
        },
        {
          "metadata": {
            "tags": null
          },
          "name": "stdout",
          "output_type": "stream",
          "text": [
            "2022-10-27 06:08:15,668 Running model_1\n",
            "2022-10-27 06:09:06,646 model_1 took 49.2s (3 recycles) with pLDDT 84.2 and ptmscore 0.693\n",
            "Done prediction\n",
            "2022-10-27 06:09:10,649 Running model_2\n",
            "2022-10-27 06:09:36,432 model_2 took 24.0s (3 recycles) with pLDDT 83.2 and ptmscore 0.676\n",
            "Done prediction\n",
            "2022-10-27 06:09:38,315 Running model_3\n",
            "2022-10-27 06:10:03,785 model_3 took 23.7s (3 recycles) with pLDDT 82.3 and ptmscore 0.68\n",
            "Done prediction\n",
            "2022-10-27 06:10:05,640 Running model_4\n",
            "2022-10-27 06:10:31,792 model_4 took 23.9s (3 recycles) with pLDDT 83.4 and ptmscore 0.7\n",
            "Done prediction\n",
            "2022-10-27 06:10:33,672 Running model_5\n",
            "2022-10-27 06:10:59,286 model_5 took 23.9s (3 recycles) with pLDDT 83.4 and ptmscore 0.699\n",
            "Done prediction\n",
            "2022-10-27 06:11:01,173 reranking models by plddt\n",
            "2022-10-27 06:11:02,638 Done\n",
            "2022-10-27 06:11:02,655 Found 5 citations for tools or databases\n",
            "2022-10-27 06:11:07,208 Query 1/1: 1QU7_WT (length 551)\n"
          ]
        },
        {
          "metadata": {
            "tags": null
          },
          "name": "stderr",
          "output_type": "stream",
          "text": [
            "COMPLETE: 100%|██████████| 150/150 [elapsed: 00:03 remaining: 00:00]\n"
          ]
        },
        {
          "metadata": {
            "tags": null
          },
          "name": "stdout",
          "output_type": "stream",
          "text": [
            "2022-10-27 06:11:15,346 Running model_1\n",
            "2022-10-27 06:19:38,028 model_1 took 473.8s (3 recycles) with pLDDT 86.5 and ptmscore 0.479\n",
            "Done prediction\n",
            "2022-10-27 06:20:02,976 Running model_2\n",
            "2022-10-27 06:27:30,892 model_2 took 419.6s (3 recycles) with pLDDT 86.2 and ptmscore 0.503\n",
            "Done prediction\n",
            "2022-10-27 06:27:42,842 Running model_3\n",
            "2022-10-27 06:35:11,077 model_3 took 419.6s (3 recycles) with pLDDT 87.7 and ptmscore 0.471\n",
            "Done prediction\n",
            "2022-10-27 06:35:23,086 Running model_4\n",
            "2022-10-27 06:42:50,390 model_4 took 419.4s (3 recycles) with pLDDT 86.9 and ptmscore 0.557\n",
            "Done prediction\n",
            "2022-10-27 06:43:02,425 Running model_5\n",
            "2022-10-27 06:50:30,513 model_5 took 419.8s (3 recycles) with pLDDT 86.3 and ptmscore 0.535\n",
            "Done prediction\n",
            "2022-10-27 06:50:42,384 reranking models by plddt\n",
            "2022-10-27 06:50:53,036 Done\n",
            "2022-10-27 06:50:53,137 Found 5 citations for tools or databases\n",
            "2022-10-27 06:51:04,660 Query 1/1: 3SSI_WT (length 144)\n"
          ]
        },
        {
          "metadata": {
            "tags": null
          },
          "name": "stderr",
          "output_type": "stream",
          "text": [
            "COMPLETE: 100%|██████████| 150/150 [elapsed: 00:01 remaining: 00:00]\n"
          ]
        },
        {
          "metadata": {
            "tags": null
          },
          "name": "stdout",
          "output_type": "stream",
          "text": [
            "2022-10-27 06:51:06,052 Running model_1\n",
            "2022-10-27 06:52:19,006 model_1 took 70.6s (3 recycles) with pLDDT 84 and ptmscore 0.688\n",
            "Done prediction\n",
            "2022-10-27 06:52:26,387 Running model_2\n",
            "2022-10-27 06:53:09,962 model_2 took 41.1s (3 recycles) with pLDDT 85.2 and ptmscore 0.696\n",
            "Done prediction\n",
            "2022-10-27 06:53:12,985 Running model_3\n",
            "2022-10-27 06:53:56,524 model_3 took 41.2s (3 recycles) with pLDDT 85.3 and ptmscore 0.702\n",
            "Done prediction\n",
            "2022-10-27 06:53:59,555 Running model_4\n",
            "2022-10-27 06:54:43,094 model_4 took 41.2s (3 recycles) with pLDDT 85 and ptmscore 0.711\n",
            "Done prediction\n",
            "2022-10-27 06:54:46,139 Running model_5\n",
            "2022-10-27 06:55:29,641 model_5 took 41.1s (3 recycles) with pLDDT 85.2 and ptmscore 0.706\n",
            "Done prediction\n",
            "2022-10-27 06:55:32,687 reranking models by plddt\n",
            "2022-10-27 06:55:34,523 Done\n",
            "2022-10-27 06:55:34,544 Found 5 citations for tools or databases\n",
            "2022-10-27 06:55:39,756 Query 1/1: 1C5G_WT (length 402)\n"
          ]
        },
        {
          "metadata": {
            "tags": null
          },
          "name": "stderr",
          "output_type": "stream",
          "text": [
            "COMPLETE: 100%|██████████| 150/150 [elapsed: 00:01 remaining: 00:00]\n"
          ]
        },
        {
          "metadata": {
            "tags": null
          },
          "name": "stdout",
          "output_type": "stream",
          "text": [
            "2022-10-27 06:55:42,455 Running model_1\n",
            "2022-10-27 07:00:32,746 model_1 took 281.9s (3 recycles) with pLDDT 87.5 and ptmscore 0.848\n",
            "Done prediction\n",
            "2022-10-27 07:00:51,466 Running model_2\n",
            "2022-10-27 07:04:56,127 model_2 took 236.1s (3 recycles) with pLDDT 87 and ptmscore 0.848\n",
            "Done prediction\n",
            "2022-10-27 07:05:05,256 Running model_3\n",
            "2022-10-27 07:09:09,659 model_3 took 236.2s (3 recycles) with pLDDT 88.3 and ptmscore 0.861\n",
            "Done prediction\n",
            "2022-10-27 07:09:18,750 Running model_4\n",
            "2022-10-27 07:13:23,037 model_4 took 236.1s (3 recycles) with pLDDT 89 and ptmscore 0.866\n",
            "Done prediction\n",
            "2022-10-27 07:13:32,021 Running model_5\n",
            "2022-10-27 07:17:36,065 model_5 took 236.2s (3 recycles) with pLDDT 88.2 and ptmscore 0.866\n",
            "Done prediction\n",
            "2022-10-27 07:17:45,036 reranking models by plddt\n",
            "2022-10-27 07:17:49,083 Done\n",
            "2022-10-27 07:17:49,104 Found 5 citations for tools or databases\n",
            "2022-10-27 07:17:53,740 Query 1/1: 1URK_WT (length 431)\n"
          ]
        },
        {
          "metadata": {
            "tags": null
          },
          "name": "stderr",
          "output_type": "stream",
          "text": [
            "COMPLETE: 100%|██████████| 150/150 [elapsed: 00:01 remaining: 00:00]\n"
          ]
        },
        {
          "metadata": {
            "tags": null
          },
          "name": "stdout",
          "output_type": "stream",
          "text": [
            "2022-10-27 07:17:58,322 Running model_1\n",
            "2022-10-27 07:23:30,562 model_1 took 316.0s (3 recycles) with pLDDT 83.7 and ptmscore 0.635\n",
            "Done prediction\n",
            "2022-10-27 07:23:50,124 Running model_2\n",
            "2022-10-27 07:28:32,476 model_2 took 266.4s (3 recycles) with pLDDT 83.8 and ptmscore 0.62\n",
            "Done prediction\n",
            "2022-10-27 07:28:42,292 Running model_3\n",
            "2022-10-27 07:33:24,522 model_3 took 266.5s (3 recycles) with pLDDT 82.3 and ptmscore 0.625\n",
            "Done prediction\n",
            "2022-10-27 07:33:34,124 Running model_4\n",
            "2022-10-27 07:38:16,756 model_4 took 266.7s (3 recycles) with pLDDT 84 and ptmscore 0.628\n",
            "Done prediction\n",
            "2022-10-27 07:38:26,424 Running model_5\n",
            "2022-10-27 07:43:09,088 model_5 took 266.9s (3 recycles) with pLDDT 83.4 and ptmscore 0.65\n",
            "Done prediction\n",
            "2022-10-27 07:43:18,777 reranking models by plddt\n",
            "2022-10-27 07:43:25,726 Done\n",
            "2022-10-27 07:43:25,763 Found 5 citations for tools or databases\n",
            "2022-10-27 07:43:30,330 Query 1/1: 4LYZ_WT (length 147)\n"
          ]
        },
        {
          "metadata": {
            "tags": null
          },
          "name": "stderr",
          "output_type": "stream",
          "text": [
            "COMPLETE: 100%|██████████| 150/150 [elapsed: 00:00 remaining: 00:00]\n"
          ]
        },
        {
          "metadata": {
            "tags": null
          },
          "name": "stdout",
          "output_type": "stream",
          "text": [
            "2022-10-27 07:43:31,499 Running model_1\n",
            "2022-10-27 07:44:49,214 model_1 took 75.2s (3 recycles) with pLDDT 92.2 and ptmscore 0.833\n",
            "Done prediction\n",
            "2022-10-27 07:44:56,129 Running model_2\n",
            "2022-10-27 07:45:41,651 model_2 took 43.0s (3 recycles) with pLDDT 92.8 and ptmscore 0.84\n",
            "Done prediction\n",
            "2022-10-27 07:45:44,898 Running model_3\n",
            "2022-10-27 07:46:30,389 model_3 took 43.0s (3 recycles) with pLDDT 93.3 and ptmscore 0.842\n",
            "Done prediction\n",
            "2022-10-27 07:46:33,652 Running model_4\n",
            "2022-10-27 07:47:19,716 model_4 took 43.0s (3 recycles) with pLDDT 93.2 and ptmscore 0.839\n",
            "Done prediction\n",
            "2022-10-27 07:47:22,967 Running model_5\n",
            "2022-10-27 07:48:08,433 model_5 took 42.9s (3 recycles) with pLDDT 93.6 and ptmscore 0.848\n",
            "Done prediction\n",
            "2022-10-27 07:48:11,653 reranking models by plddt\n",
            "2022-10-27 07:48:13,481 Done\n",
            "2022-10-27 07:48:13,528 Found 5 citations for tools or databases\n",
            "2022-10-27 07:48:18,072 Query 1/1: 1AXB_WT (length 286)\n"
          ]
        },
        {
          "metadata": {
            "tags": null
          },
          "name": "stderr",
          "output_type": "stream",
          "text": [
            "COMPLETE: 100%|██████████| 150/150 [elapsed: 00:01 remaining: 00:00]\n"
          ]
        },
        {
          "metadata": {
            "tags": null
          },
          "name": "stdout",
          "output_type": "stream",
          "text": [
            "2022-10-27 07:48:20,199 Running model_1\n",
            "2022-10-27 07:51:13,611 model_1 took 168.1s (3 recycles) with pLDDT 93.7 and ptmscore 0.883\n",
            "Done prediction\n",
            "2022-10-27 07:51:27,523 Running model_2\n",
            "2022-10-27 07:53:41,142 model_2 took 128.2s (3 recycles) with pLDDT 93.8 and ptmscore 0.887\n",
            "Done prediction\n",
            "2022-10-27 07:53:47,430 Running model_3\n",
            "2022-10-27 07:56:00,777 model_3 took 128.1s (3 recycles) with pLDDT 94.3 and ptmscore 0.89\n",
            "Done prediction\n",
            "2022-10-27 07:56:07,096 Running model_4\n",
            "2022-10-27 07:58:20,636 model_4 took 128.3s (3 recycles) with pLDDT 94.2 and ptmscore 0.887\n",
            "Done prediction\n",
            "2022-10-27 07:58:26,991 Running model_5\n",
            "2022-10-27 08:00:40,756 model_5 took 128.2s (3 recycles) with pLDDT 94.1 and ptmscore 0.891\n",
            "Done prediction\n",
            "2022-10-27 08:00:47,090 reranking models by plddt\n",
            "2022-10-27 08:00:49,930 Done\n",
            "2022-10-27 08:00:49,948 Found 5 citations for tools or databases\n",
            "2022-10-27 08:00:54,496 Query 1/1: 1ROP_WT (length 63)\n"
          ]
        },
        {
          "metadata": {
            "tags": null
          },
          "name": "stderr",
          "output_type": "stream",
          "text": [
            "COMPLETE: 100%|██████████| 150/150 [elapsed: 00:00 remaining: 00:00]\n"
          ]
        },
        {
          "metadata": {
            "tags": null
          },
          "name": "stdout",
          "output_type": "stream",
          "text": [
            "2022-10-27 08:00:55,168 Running model_1\n",
            "2022-10-27 08:01:44,004 model_1 took 47.6s (3 recycles) with pLDDT 92.8 and ptmscore 0.75\n",
            "Done prediction\n",
            "2022-10-27 08:01:46,934 Running model_2\n",
            "2022-10-27 08:02:06,077 model_2 took 17.9s (3 recycles) with pLDDT 92.7 and ptmscore 0.751\n",
            "Done prediction\n",
            "2022-10-27 08:02:07,487 Running model_3\n",
            "2022-10-27 08:02:26,445 model_3 took 17.6s (3 recycles) with pLDDT 93.8 and ptmscore 0.764\n",
            "Done prediction\n",
            "2022-10-27 08:02:27,874 Running model_4\n",
            "2022-10-27 08:02:46,724 model_4 took 17.5s (3 recycles) with pLDDT 93.2 and ptmscore 0.758\n",
            "Done prediction\n",
            "2022-10-27 08:02:48,113 Running model_5\n",
            "2022-10-27 08:03:06,938 model_5 took 17.5s (3 recycles) with pLDDT 93.8 and ptmscore 0.771\n",
            "Done prediction\n",
            "2022-10-27 08:03:08,437 reranking models by plddt\n",
            "2022-10-27 08:03:09,768 Done\n",
            "2022-10-27 08:03:09,788 Found 5 citations for tools or databases\n",
            "2022-10-27 08:03:14,326 Query 1/1: 1MBG_WT (length 636)\n"
          ]
        },
        {
          "metadata": {
            "tags": null
          },
          "name": "stderr",
          "output_type": "stream",
          "text": [
            "COMPLETE: 100%|██████████| 150/150 [elapsed: 00:01 remaining: 00:00]\n"
          ]
        },
        {
          "metadata": {
            "tags": null
          },
          "name": "stdout",
          "output_type": "stream",
          "text": [
            "2022-10-27 08:03:20,755 Running model_1\n",
            "2022-10-27 08:13:49,082 model_1 took 599.1s (3 recycles) with pLDDT 52.1 and ptmscore 0.372\n",
            "Done prediction\n",
            "2022-10-27 08:14:26,929 Running model_2\n",
            "2022-10-27 08:23:58,066 model_2 took 542.6s (3 recycles) with pLDDT 52.5 and ptmscore 0.333\n",
            "Done prediction\n",
            "2022-10-27 08:24:12,338 Running model_3\n",
            "2022-10-27 08:33:42,267 model_3 took 541.2s (3 recycles) with pLDDT 55.6 and ptmscore 0.367\n",
            "Done prediction\n",
            "2022-10-27 08:33:56,404 Running model_4\n",
            "2022-10-27 08:43:27,730 model_4 took 542.2s (3 recycles) with pLDDT 50.7 and ptmscore 0.377\n",
            "Done prediction\n",
            "2022-10-27 08:43:41,967 Running model_5\n",
            "2022-10-27 08:53:10,778 model_5 took 540.7s (3 recycles) with pLDDT 52.4 and ptmscore 0.367\n",
            "Done prediction\n",
            "2022-10-27 08:53:25,113 reranking models by plddt\n",
            "2022-10-27 08:53:35,767 Done\n",
            "2022-10-27 08:53:35,938 Found 5 citations for tools or databases\n",
            "2022-10-27 08:53:47,629 Query 1/1: 2HPR_WT (length 88)\n"
          ]
        },
        {
          "metadata": {
            "tags": null
          },
          "name": "stderr",
          "output_type": "stream",
          "text": [
            "COMPLETE: 100%|██████████| 150/150 [elapsed: 00:01 remaining: 00:00]\n"
          ]
        },
        {
          "metadata": {
            "tags": null
          },
          "name": "stdout",
          "output_type": "stream",
          "text": [
            "2022-10-27 08:53:49,152 Running model_1\n",
            "2022-10-27 08:54:42,872 model_1 took 50.8s (3 recycles) with pLDDT 95.5 and ptmscore 0.833\n",
            "Done prediction\n",
            "2022-10-27 08:54:46,899 Running model_2\n",
            "2022-10-27 08:55:14,158 model_2 took 24.4s (3 recycles) with pLDDT 96.6 and ptmscore 0.863\n",
            "Done prediction\n",
            "2022-10-27 08:55:16,071 Running model_3\n",
            "2022-10-27 08:55:43,089 model_3 took 24.1s (3 recycles) with pLDDT 97.5 and ptmscore 0.876\n",
            "Done prediction\n",
            "2022-10-27 08:55:44,963 Running model_4\n",
            "2022-10-27 08:56:12,188 model_4 took 24.4s (3 recycles) with pLDDT 97.7 and ptmscore 0.878\n",
            "Done prediction\n",
            "2022-10-27 08:56:14,068 Running model_5\n",
            "2022-10-27 08:56:41,291 model_5 took 24.3s (3 recycles) with pLDDT 96.9 and ptmscore 0.861\n",
            "Done prediction\n",
            "2022-10-27 08:56:43,137 reranking models by plddt\n",
            "2022-10-27 08:56:44,967 Done\n",
            "2022-10-27 08:56:44,985 Found 5 citations for tools or databases\n",
            "2022-10-27 08:56:49,572 Query 1/1: 2HIP_WT (length 71)\n"
          ]
        },
        {
          "metadata": {
            "tags": null
          },
          "name": "stderr",
          "output_type": "stream",
          "text": [
            "COMPLETE: 100%|██████████| 150/150 [elapsed: 00:00 remaining: 00:00]\n"
          ]
        },
        {
          "metadata": {
            "tags": null
          },
          "name": "stdout",
          "output_type": "stream",
          "text": [
            "2022-10-27 08:56:50,522 Running model_1\n",
            "2022-10-27 08:57:39,649 model_1 took 47.4s (3 recycles) with pLDDT 95.8 and ptmscore 0.817\n",
            "Done prediction\n",
            "2022-10-27 08:57:43,000 Running model_2\n",
            "2022-10-27 08:58:04,820 model_2 took 19.5s (3 recycles) with pLDDT 96.5 and ptmscore 0.846\n",
            "Done prediction\n",
            "2022-10-27 08:58:06,394 Running model_3\n",
            "2022-10-27 08:58:27,444 model_3 took 19.3s (3 recycles) with pLDDT 95.9 and ptmscore 0.823\n",
            "Done prediction\n",
            "2022-10-27 08:58:29,086 Running model_4\n",
            "2022-10-27 08:58:50,086 model_4 took 19.2s (3 recycles) with pLDDT 96.9 and ptmscore 0.842\n",
            "Done prediction\n",
            "2022-10-27 08:58:51,650 Running model_5\n",
            "2022-10-27 08:59:12,682 model_5 took 19.3s (3 recycles) with pLDDT 97 and ptmscore 0.854\n",
            "Done prediction\n",
            "2022-10-27 08:59:14,280 reranking models by plddt\n",
            "2022-10-27 08:59:15,745 Done\n",
            "2022-10-27 08:59:15,763 Found 5 citations for tools or databases\n",
            "2022-10-27 08:59:20,338 Query 1/1: 1DFO_WT (length 417)\n"
          ]
        },
        {
          "metadata": {
            "tags": null
          },
          "name": "stderr",
          "output_type": "stream",
          "text": [
            "COMPLETE: 100%|██████████| 150/150 [elapsed: 00:01 remaining: 00:00]\n"
          ]
        },
        {
          "metadata": {
            "tags": null
          },
          "name": "stdout",
          "output_type": "stream",
          "text": [
            "2022-10-27 08:59:23,902 Running model_1\n",
            "2022-10-27 09:04:34,162 model_1 took 298.8s (3 recycles) with pLDDT 97.2 and ptmscore 0.933\n",
            "Done prediction\n",
            "2022-10-27 09:04:53,541 Running model_2\n",
            "2022-10-27 09:09:16,805 model_2 took 252.2s (3 recycles) with pLDDT 97.5 and ptmscore 0.938\n",
            "Done prediction\n",
            "2022-10-27 09:09:25,875 Running model_3\n",
            "2022-10-27 09:13:49,378 model_3 took 252.2s (3 recycles) with pLDDT 97.6 and ptmscore 0.941\n",
            "Done prediction\n",
            "2022-10-27 09:13:58,560 Running model_4\n",
            "2022-10-27 09:18:21,943 model_4 took 252.1s (3 recycles) with pLDDT 97.6 and ptmscore 0.939\n",
            "Done prediction\n",
            "2022-10-27 09:18:31,106 Running model_5\n",
            "2022-10-27 09:22:54,494 model_5 took 252.2s (3 recycles) with pLDDT 97.9 and ptmscore 0.941\n",
            "Done prediction\n",
            "2022-10-27 09:23:03,838 reranking models by plddt\n",
            "2022-10-27 09:23:08,748 Done\n",
            "2022-10-27 09:23:08,798 Found 5 citations for tools or databases\n",
            "2022-10-27 09:23:13,394 Query 1/1: 1KDN_WT (length 155)\n"
          ]
        },
        {
          "metadata": {
            "tags": null
          },
          "name": "stderr",
          "output_type": "stream",
          "text": [
            "PENDING:   0%|          | 0/150 [elapsed: 00:00 remaining: ?]"
          ]
        },
        {
          "metadata": {
            "tags": null
          },
          "name": "stdout",
          "output_type": "stream",
          "text": [
            "2022-10-27 09:23:13,683 Sleeping for 9s. Reason: PENDING\n"
          ]
        },
        {
          "metadata": {
            "tags": null
          },
          "name": "stderr",
          "output_type": "stream",
          "text": [
            "RUNNING:   6%|▌         | 9/150 [elapsed: 00:09 remaining: 02:30]"
          ]
        },
        {
          "metadata": {
            "tags": null
          },
          "name": "stdout",
          "output_type": "stream",
          "text": [
            "2022-10-27 09:23:22,989 Sleeping for 6s. Reason: RUNNING\n"
          ]
        },
        {
          "metadata": {
            "tags": null
          },
          "name": "stderr",
          "output_type": "stream",
          "text": [
            "RUNNING:  10%|█         | 15/150 [elapsed: 00:15 remaining: 02:22]"
          ]
        },
        {
          "metadata": {
            "tags": null
          },
          "name": "stdout",
          "output_type": "stream",
          "text": [
            "2022-10-27 09:23:29,263 Sleeping for 10s. Reason: RUNNING\n"
          ]
        },
        {
          "metadata": {
            "tags": null
          },
          "name": "stderr",
          "output_type": "stream",
          "text": [
            "COMPLETE: 100%|██████████| 150/150 [elapsed: 00:27 remaining: 00:00]\n"
          ]
        },
        {
          "metadata": {
            "tags": null
          },
          "name": "stdout",
          "output_type": "stream",
          "text": [
            "2022-10-27 09:23:41,358 Running model_1\n",
            "2022-10-27 09:24:54,421 model_1 took 68.2s (3 recycles) with pLDDT 91.6 and ptmscore 0.863\n",
            "Done prediction\n",
            "2022-10-27 09:25:01,552 Running model_2\n",
            "2022-10-27 09:25:52,052 model_2 took 45.6s (3 recycles) with pLDDT 91.6 and ptmscore 0.87\n",
            "Done prediction\n",
            "2022-10-27 09:25:55,473 Running model_3\n",
            "2022-10-27 09:26:46,057 model_3 took 45.6s (3 recycles) with pLDDT 92.6 and ptmscore 0.879\n",
            "Done prediction\n",
            "2022-10-27 09:26:49,502 Running model_4\n",
            "2022-10-27 09:27:40,010 model_4 took 45.7s (3 recycles) with pLDDT 92 and ptmscore 0.872\n",
            "Done prediction\n",
            "2022-10-27 09:27:43,433 Running model_5\n",
            "2022-10-27 09:28:33,934 model_5 took 45.6s (3 recycles) with pLDDT 92.1 and ptmscore 0.874\n",
            "Done prediction\n",
            "2022-10-27 09:28:37,363 reranking models by plddt\n",
            "2022-10-27 09:28:39,926 Done\n",
            "2022-10-27 09:28:39,974 Found 5 citations for tools or databases\n",
            "2022-10-27 09:28:44,573 Query 1/1: 1AVR_WT (length 320)\n"
          ]
        },
        {
          "metadata": {
            "tags": null
          },
          "name": "stderr",
          "output_type": "stream",
          "text": [
            "COMPLETE: 100%|██████████| 150/150 [elapsed: 00:01 remaining: 00:00]\n"
          ]
        },
        {
          "metadata": {
            "tags": null
          },
          "name": "stdout",
          "output_type": "stream",
          "text": [
            "2022-10-27 09:28:46,883 Running model_1\n",
            "2022-10-27 09:32:00,737 model_1 took 187.2s (3 recycles) with pLDDT 95.4 and ptmscore 0.915\n",
            "Done prediction\n",
            "2022-10-27 09:32:15,541 Running model_2\n",
            "2022-10-27 09:34:51,144 model_2 took 148.9s (3 recycles) with pLDDT 94.5 and ptmscore 0.914\n",
            "Done prediction\n",
            "2022-10-27 09:34:58,361 Running model_3\n",
            "2022-10-27 09:37:33,815 model_3 took 148.8s (3 recycles) with pLDDT 95.9 and ptmscore 0.926\n",
            "Done prediction\n",
            "2022-10-27 09:37:41,093 Running model_4\n",
            "2022-10-27 09:40:16,414 model_4 took 148.7s (3 recycles) with pLDDT 95.5 and ptmscore 0.921\n",
            "Done prediction\n",
            "2022-10-27 09:40:23,627 Running model_5\n",
            "2022-10-27 09:42:59,867 model_5 took 148.8s (3 recycles) with pLDDT 96.2 and ptmscore 0.925\n",
            "Done prediction\n",
            "2022-10-27 09:43:07,099 reranking models by plddt\n",
            "2022-10-27 09:43:10,421 Done\n",
            "2022-10-27 09:43:10,443 Found 5 citations for tools or databases\n",
            "2022-10-27 09:43:15,021 Query 1/1: 1TPE_WT (length 250)\n"
          ]
        },
        {
          "metadata": {
            "tags": null
          },
          "name": "stderr",
          "output_type": "stream",
          "text": [
            "COMPLETE: 100%|██████████| 150/150 [elapsed: 00:01 remaining: 00:00]\n"
          ]
        },
        {
          "metadata": {
            "tags": null
          },
          "name": "stdout",
          "output_type": "stream",
          "text": [
            "2022-10-27 09:43:17,974 Running model_1\n",
            "2022-10-27 09:45:45,715 model_1 took 139.6s (3 recycles) with pLDDT 96.4 and ptmscore 0.931\n",
            "Done prediction\n",
            "2022-10-27 09:45:57,244 Running model_2\n",
            "2022-10-27 09:47:45,790 model_2 took 100.6s (3 recycles) with pLDDT 95.9 and ptmscore 0.933\n",
            "Done prediction\n",
            "2022-10-27 09:47:51,444 Running model_3\n",
            "2022-10-27 09:49:39,899 model_3 took 100.5s (3 recycles) with pLDDT 96.7 and ptmscore 0.939\n",
            "Done prediction\n",
            "2022-10-27 09:49:45,385 Running model_4\n",
            "2022-10-27 09:51:33,982 model_4 took 100.6s (3 recycles) with pLDDT 96.6 and ptmscore 0.938\n",
            "Done prediction\n",
            "2022-10-27 09:51:39,530 Running model_5\n",
            "2022-10-27 09:53:28,870 model_5 took 100.6s (3 recycles) with pLDDT 96.9 and ptmscore 0.939\n",
            "Done prediction\n",
            "2022-10-27 09:53:34,383 reranking models by plddt\n",
            "2022-10-27 09:53:37,873 Done\n",
            "2022-10-27 09:53:37,892 Found 5 citations for tools or databases\n",
            "2022-10-27 09:53:42,436 Query 1/1: 1CSP_WT (length 67)\n"
          ]
        },
        {
          "metadata": {
            "tags": null
          },
          "name": "stderr",
          "output_type": "stream",
          "text": [
            "COMPLETE: 100%|██████████| 150/150 [elapsed: 00:01 remaining: 00:00]\n"
          ]
        },
        {
          "metadata": {
            "tags": null
          },
          "name": "stdout",
          "output_type": "stream",
          "text": [
            "2022-10-27 09:53:44,091 Running model_1\n",
            "2022-10-27 09:54:34,021 model_1 took 46.7s (3 recycles) with pLDDT 93.3 and ptmscore 0.772\n",
            "Done prediction\n",
            "2022-10-27 09:54:37,115 Running model_2\n",
            "2022-10-27 09:54:59,007 model_2 took 18.7s (3 recycles) with pLDDT 95.2 and ptmscore 0.815\n",
            "Done prediction\n",
            "2022-10-27 09:55:00,501 Running model_3\n",
            "2022-10-27 09:55:22,300 model_3 took 18.6s (3 recycles) with pLDDT 90 and ptmscore 0.73\n",
            "Done prediction\n",
            "2022-10-27 09:55:23,781 Running model_4\n",
            "2022-10-27 09:55:45,708 model_4 took 18.6s (3 recycles) with pLDDT 92.5 and ptmscore 0.763\n",
            "Done prediction\n",
            "2022-10-27 09:55:47,184 Running model_5\n",
            "2022-10-27 09:56:08,996 model_5 took 18.6s (3 recycles) with pLDDT 93.5 and ptmscore 0.791\n",
            "Done prediction\n",
            "2022-10-27 09:56:10,451 reranking models by plddt\n",
            "2022-10-27 09:56:13,180 Done\n",
            "2022-10-27 09:56:13,199 Found 5 citations for tools or databases\n",
            "2022-10-27 09:56:17,734 Query 1/1: 1N0J_WT (length 222)\n"
          ]
        },
        {
          "metadata": {
            "tags": null
          },
          "name": "stderr",
          "output_type": "stream",
          "text": [
            "COMPLETE: 100%|██████████| 150/150 [elapsed: 00:01 remaining: 00:00]\n"
          ]
        },
        {
          "metadata": {
            "tags": null
          },
          "name": "stdout",
          "output_type": "stream",
          "text": [
            "2022-10-27 09:56:20,394 Running model_1\n",
            "2022-10-27 09:58:27,926 model_1 took 120.1s (3 recycles) with pLDDT 92.6 and ptmscore 0.848\n",
            "Done prediction\n",
            "2022-10-27 09:58:38,493 Running model_2\n",
            "2022-10-27 10:00:08,723 model_2 took 83.0s (3 recycles) with pLDDT 92.7 and ptmscore 0.854\n",
            "Done prediction\n",
            "2022-10-27 10:00:13,650 Running model_3\n",
            "2022-10-27 10:01:43,982 model_3 took 83.1s (3 recycles) with pLDDT 92.7 and ptmscore 0.857\n",
            "Done prediction\n",
            "2022-10-27 10:01:48,928 Running model_4\n",
            "2022-10-27 10:03:19,307 model_4 took 83.0s (3 recycles) with pLDDT 92.7 and ptmscore 0.856\n",
            "Done prediction\n",
            "2022-10-27 10:03:24,348 Running model_5\n",
            "2022-10-27 10:04:54,606 model_5 took 83.0s (3 recycles) with pLDDT 92.6 and ptmscore 0.86\n",
            "Done prediction\n",
            "2022-10-27 10:04:59,535 reranking models by plddt\n",
            "2022-10-27 10:05:03,640 Done\n",
            "2022-10-27 10:05:03,660 Found 5 citations for tools or databases\n",
            "2022-10-27 10:05:08,285 Query 1/1: 1LZ1_WT (length 148)\n"
          ]
        },
        {
          "metadata": {
            "tags": null
          },
          "name": "stderr",
          "output_type": "stream",
          "text": [
            "COMPLETE: 100%|██████████| 150/150 [elapsed: 00:00 remaining: 00:00]\n"
          ]
        },
        {
          "metadata": {
            "tags": null
          },
          "name": "stdout",
          "output_type": "stream",
          "text": [
            "2022-10-27 10:05:09,505 Running model_1\n",
            "2022-10-27 10:06:24,560 model_1 took 72.6s (3 recycles) with pLDDT 92.3 and ptmscore 0.835\n",
            "Done prediction\n",
            "2022-10-27 10:06:31,513 Running model_2\n",
            "2022-10-27 10:07:17,168 model_2 took 43.2s (3 recycles) with pLDDT 92.7 and ptmscore 0.838\n",
            "Done prediction\n",
            "2022-10-27 10:07:20,466 Running model_3\n",
            "2022-10-27 10:08:06,223 model_3 took 43.2s (3 recycles) with pLDDT 93.1 and ptmscore 0.843\n",
            "Done prediction\n",
            "2022-10-27 10:08:09,636 Running model_4\n",
            "2022-10-27 10:08:55,316 model_4 took 43.2s (3 recycles) with pLDDT 93 and ptmscore 0.84\n",
            "Done prediction\n",
            "2022-10-27 10:08:58,650 Running model_5\n",
            "2022-10-27 10:09:44,401 model_5 took 43.2s (3 recycles) with pLDDT 93.9 and ptmscore 0.85\n",
            "Done prediction\n",
            "2022-10-27 10:09:47,688 reranking models by plddt\n",
            "2022-10-27 10:09:49,517 Done\n",
            "2022-10-27 10:09:49,536 Found 5 citations for tools or databases\n",
            "2022-10-27 10:09:54,074 Query 1/1: 1HUE_WT (length 90)\n"
          ]
        },
        {
          "metadata": {
            "tags": null
          },
          "name": "stderr",
          "output_type": "stream",
          "text": [
            "COMPLETE: 100%|██████████| 150/150 [elapsed: 00:01 remaining: 00:00]\n"
          ]
        },
        {
          "metadata": {
            "tags": null
          },
          "name": "stdout",
          "output_type": "stream",
          "text": [
            "2022-10-27 10:09:55,714 Running model_1\n",
            "2022-10-27 10:10:54,279 model_1 took 55.2s (3 recycles) with pLDDT 96.2 and ptmscore 0.76\n",
            "Done prediction\n",
            "2022-10-27 10:10:58,468 Running model_2\n",
            "2022-10-27 10:11:27,055 model_2 took 25.3s (3 recycles) with pLDDT 95.4 and ptmscore 0.746\n",
            "Done prediction\n",
            "2022-10-27 10:11:29,002 Running model_3\n",
            "2022-10-27 10:11:57,402 model_3 took 25.1s (3 recycles) with pLDDT 95.9 and ptmscore 0.749\n",
            "Done prediction\n",
            "2022-10-27 10:11:59,371 Running model_4\n",
            "2022-10-27 10:12:27,929 model_4 took 25.2s (3 recycles) with pLDDT 95.9 and ptmscore 0.756\n",
            "Done prediction\n",
            "2022-10-27 10:12:29,893 Running model_5\n",
            "2022-10-27 10:12:58,405 model_5 took 25.1s (3 recycles) with pLDDT 96.4 and ptmscore 0.762\n",
            "Done prediction\n",
            "2022-10-27 10:13:00,405 reranking models by plddt\n",
            "2022-10-27 10:13:02,342 Done\n",
            "2022-10-27 10:13:02,385 Found 5 citations for tools or databases\n",
            "2022-10-27 10:13:06,980 Query 1/1: 1SHF_WT (length 537)\n"
          ]
        },
        {
          "metadata": {
            "tags": null
          },
          "name": "stderr",
          "output_type": "stream",
          "text": [
            "COMPLETE: 100%|██████████| 150/150 [elapsed: 00:01 remaining: 00:00]\n"
          ]
        },
        {
          "metadata": {
            "tags": null
          },
          "name": "stdout",
          "output_type": "stream",
          "text": [
            "2022-10-27 10:13:12,316 Running model_1\n",
            "2022-10-27 10:21:04,641 model_1 took 451.2s (3 recycles) with pLDDT 79.3 and ptmscore 0.759\n",
            "Done prediction\n",
            "2022-10-27 10:21:29,689 Running model_2\n",
            "2022-10-27 10:28:30,522 model_2 took 400.2s (3 recycles) with pLDDT 79.7 and ptmscore 0.77\n",
            "Done prediction\n",
            "2022-10-27 10:28:42,523 Running model_3\n",
            "2022-10-27 10:35:43,204 model_3 took 400.0s (3 recycles) with pLDDT 80.7 and ptmscore 0.792\n",
            "Done prediction\n",
            "2022-10-27 10:35:55,300 Running model_4\n",
            "2022-10-27 10:42:56,303 model_4 took 399.5s (3 recycles) with pLDDT 80.5 and ptmscore 0.784\n",
            "Done prediction\n",
            "2022-10-27 10:43:08,303 Running model_5\n",
            "2022-10-27 10:50:08,769 model_5 took 399.6s (3 recycles) with pLDDT 79 and ptmscore 0.775\n",
            "Done prediction\n",
            "2022-10-27 10:50:21,093 reranking models by plddt\n",
            "2022-10-27 10:50:28,967 Done\n",
            "2022-10-27 10:50:28,989 Found 5 citations for tools or databases\n",
            "2022-10-27 10:50:40,020 Query 1/1: 1RGG_WT (length 96)\n"
          ]
        },
        {
          "metadata": {
            "tags": null
          },
          "name": "stderr",
          "output_type": "stream",
          "text": [
            "COMPLETE: 100%|██████████| 150/150 [elapsed: 00:01 remaining: 00:00]\n"
          ]
        },
        {
          "metadata": {
            "tags": null
          },
          "name": "stdout",
          "output_type": "stream",
          "text": [
            "2022-10-27 10:50:41,392 Running model_1\n",
            "2022-10-27 10:51:36,665 model_1 took 52.9s (3 recycles) with pLDDT 95.8 and ptmscore 0.877\n",
            "Done prediction\n",
            "2022-10-27 10:51:41,122 Running model_2\n",
            "2022-10-27 10:52:09,559 model_2 took 26.1s (3 recycles) with pLDDT 96.7 and ptmscore 0.893\n",
            "Done prediction\n",
            "2022-10-27 10:52:11,665 Running model_3\n",
            "2022-10-27 10:52:40,141 model_3 took 26.1s (3 recycles) with pLDDT 97.1 and ptmscore 0.899\n",
            "Done prediction\n",
            "2022-10-27 10:52:42,234 Running model_4\n",
            "2022-10-27 10:53:10,854 model_4 took 26.3s (3 recycles) with pLDDT 96.9 and ptmscore 0.897\n",
            "Done prediction\n",
            "2022-10-27 10:53:12,963 Running model_5\n",
            "2022-10-27 10:53:41,498 model_5 took 26.2s (3 recycles) with pLDDT 97.2 and ptmscore 0.899\n",
            "Done prediction\n",
            "2022-10-27 10:53:43,612 reranking models by plddt\n",
            "2022-10-27 10:53:45,246 Done\n",
            "2022-10-27 10:53:45,271 Found 5 citations for tools or databases\n",
            "2022-10-27 10:53:49,861 Query 1/1: 1KEV_WT (length 351)\n"
          ]
        },
        {
          "metadata": {
            "tags": null
          },
          "name": "stderr",
          "output_type": "stream",
          "text": [
            "COMPLETE: 100%|██████████| 150/150 [elapsed: 00:01 remaining: 00:00]\n"
          ]
        },
        {
          "metadata": {
            "tags": null
          },
          "name": "stdout",
          "output_type": "stream",
          "text": [
            "2022-10-27 10:53:51,815 Running model_1\n",
            "2022-10-27 10:57:47,263 model_1 took 229.6s (3 recycles) with pLDDT 96.9 and ptmscore 0.935\n",
            "Done prediction\n",
            "2022-10-27 10:58:03,187 Running model_2\n",
            "2022-10-27 11:01:13,663 model_2 took 184.9s (3 recycles) with pLDDT 96.7 and ptmscore 0.94\n",
            "Done prediction\n",
            "2022-10-27 11:01:21,287 Running model_3\n",
            "2022-10-27 11:04:31,350 model_3 took 184.4s (3 recycles) with pLDDT 97.2 and ptmscore 0.942\n",
            "Done prediction\n",
            "2022-10-27 11:04:39,169 Running model_4\n",
            "2022-10-27 11:07:49,275 model_4 took 184.4s (3 recycles) with pLDDT 96.9 and ptmscore 0.939\n",
            "Done prediction\n",
            "2022-10-27 11:07:56,880 Running model_5\n",
            "2022-10-27 11:11:07,233 model_5 took 184.7s (3 recycles) with pLDDT 97.1 and ptmscore 0.942\n",
            "Done prediction\n",
            "2022-10-27 11:11:14,965 reranking models by plddt\n",
            "2022-10-27 11:11:18,204 Done\n",
            "2022-10-27 11:11:18,224 Found 5 citations for tools or databases\n",
            "2022-10-27 11:11:22,802 Query 1/1: 1IOF_WT (length 208)\n"
          ]
        },
        {
          "metadata": {
            "tags": null
          },
          "name": "stderr",
          "output_type": "stream",
          "text": [
            "PENDING:   0%|          | 0/150 [elapsed: 00:00 remaining: ?]"
          ]
        },
        {
          "metadata": {
            "tags": null
          },
          "name": "stdout",
          "output_type": "stream",
          "text": [
            "2022-10-27 11:11:23,084 Sleeping for 10s. Reason: PENDING\n"
          ]
        },
        {
          "metadata": {
            "tags": null
          },
          "name": "stderr",
          "output_type": "stream",
          "text": [
            "RUNNING:   7%|▋         | 10/150 [elapsed: 00:10 remaining: 02:27]"
          ]
        },
        {
          "metadata": {
            "tags": null
          },
          "name": "stdout",
          "output_type": "stream",
          "text": [
            "2022-10-27 11:11:33,364 Sleeping for 7s. Reason: RUNNING\n"
          ]
        },
        {
          "metadata": {
            "tags": null
          },
          "name": "stderr",
          "output_type": "stream",
          "text": [
            "RUNNING:  11%|█▏        | 17/150 [elapsed: 00:17 remaining: 02:19]"
          ]
        },
        {
          "metadata": {
            "tags": null
          },
          "name": "stdout",
          "output_type": "stream",
          "text": [
            "2022-10-27 11:11:40,641 Sleeping for 5s. Reason: RUNNING\n"
          ]
        },
        {
          "metadata": {
            "tags": null
          },
          "name": "stderr",
          "output_type": "stream",
          "text": [
            "COMPLETE: 100%|██████████| 150/150 [elapsed: 00:23 remaining: 00:00]\n"
          ]
        },
        {
          "metadata": {
            "tags": null
          },
          "name": "stdout",
          "output_type": "stream",
          "text": [
            "2022-10-27 11:11:47,505 Running model_1\n",
            "2022-10-27 11:13:40,058 model_1 took 108.0s (3 recycles) with pLDDT 97.6 and ptmscore 0.927\n",
            "Done prediction\n",
            "2022-10-27 11:13:49,768 Running model_2\n",
            "2022-10-27 11:15:09,205 model_2 took 74.8s (3 recycles) with pLDDT 97.7 and ptmscore 0.933\n",
            "Done prediction\n",
            "2022-10-27 11:15:13,848 Running model_3\n",
            "2022-10-27 11:16:33,364 model_3 took 74.7s (3 recycles) with pLDDT 97.9 and ptmscore 0.937\n",
            "Done prediction\n",
            "2022-10-27 11:16:37,996 Running model_4\n",
            "2022-10-27 11:17:57,255 model_4 took 74.7s (3 recycles) with pLDDT 97.7 and ptmscore 0.936\n",
            "Done prediction\n",
            "2022-10-27 11:18:01,877 Running model_5\n",
            "2022-10-27 11:19:21,143 model_5 took 74.7s (3 recycles) with pLDDT 98.1 and ptmscore 0.937\n",
            "Done prediction\n",
            "2022-10-27 11:19:25,808 reranking models by plddt\n",
            "2022-10-27 11:19:28,511 Done\n",
            "2022-10-27 11:19:28,532 Found 5 citations for tools or databases\n",
            "2022-10-27 11:19:33,476 Query 1/1: 1POH_WT (length 85)\n"
          ]
        },
        {
          "metadata": {
            "tags": null
          },
          "name": "stderr",
          "output_type": "stream",
          "text": [
            "COMPLETE: 100%|██████████| 150/150 [elapsed: 00:00 remaining: 00:00]\n"
          ]
        },
        {
          "metadata": {
            "tags": null
          },
          "name": "stdout",
          "output_type": "stream",
          "text": [
            "2022-10-27 11:19:34,904 Running model_1\n",
            "2022-10-27 11:20:33,605 model_1 took 55.6s (3 recycles) with pLDDT 93.5 and ptmscore 0.825\n",
            "Done prediction\n",
            "2022-10-27 11:20:37,944 Running model_2\n",
            "2022-10-27 11:21:04,924 model_2 took 24.1s (3 recycles) with pLDDT 95.1 and ptmscore 0.859\n",
            "Done prediction\n",
            "2022-10-27 11:21:06,797 Running model_3\n",
            "2022-10-27 11:21:33,591 model_3 took 23.9s (3 recycles) with pLDDT 88.5 and ptmscore 0.738\n",
            "Done prediction\n",
            "2022-10-27 11:21:35,446 Running model_4\n",
            "2022-10-27 11:22:02,426 model_4 took 24.1s (3 recycles) with pLDDT 97 and ptmscore 0.873\n",
            "Done prediction\n",
            "2022-10-27 11:22:04,281 Running model_5\n",
            "2022-10-27 11:22:31,218 model_5 took 24.1s (3 recycles) with pLDDT 97.2 and ptmscore 0.873\n",
            "Done prediction\n",
            "2022-10-27 11:22:33,072 reranking models by plddt\n",
            "2022-10-27 11:22:34,879 Done\n",
            "2022-10-27 11:22:34,901 Found 5 citations for tools or databases\n",
            "2022-10-27 11:22:39,571 Query 1/1: 1QUW_WT (length 105)\n"
          ]
        },
        {
          "metadata": {
            "tags": null
          },
          "name": "stderr",
          "output_type": "stream",
          "text": [
            "PENDING:   0%|          | 0/150 [elapsed: 00:00 remaining: ?]"
          ]
        },
        {
          "metadata": {
            "tags": null
          },
          "name": "stdout",
          "output_type": "stream",
          "text": [
            "2022-10-27 11:22:39,851 Sleeping for 9s. Reason: PENDING\n"
          ]
        },
        {
          "metadata": {
            "tags": null
          },
          "name": "stderr",
          "output_type": "stream",
          "text": [
            "RUNNING:   6%|▌         | 9/150 [elapsed: 00:09 remaining: 02:29]"
          ]
        },
        {
          "metadata": {
            "tags": null
          },
          "name": "stdout",
          "output_type": "stream",
          "text": [
            "2022-10-27 11:22:49,135 Sleeping for 8s. Reason: RUNNING\n"
          ]
        },
        {
          "metadata": {
            "tags": null
          },
          "name": "stderr",
          "output_type": "stream",
          "text": [
            "RUNNING:  11%|█▏        | 17/150 [elapsed: 00:17 remaining: 02:19]"
          ]
        },
        {
          "metadata": {
            "tags": null
          },
          "name": "stdout",
          "output_type": "stream",
          "text": [
            "2022-10-27 11:22:57,418 Sleeping for 10s. Reason: RUNNING\n"
          ]
        },
        {
          "metadata": {
            "tags": null
          },
          "name": "stderr",
          "output_type": "stream",
          "text": [
            "RUNNING:  18%|█▊        | 27/150 [elapsed: 00:28 remaining: 02:07]"
          ]
        },
        {
          "metadata": {
            "tags": null
          },
          "name": "stdout",
          "output_type": "stream",
          "text": [
            "2022-10-27 11:23:07,717 Sleeping for 7s. Reason: RUNNING\n"
          ]
        },
        {
          "metadata": {
            "tags": null
          },
          "name": "stderr",
          "output_type": "stream",
          "text": [
            "RUNNING:  23%|██▎       | 34/150 [elapsed: 00:35 remaining: 02:00]"
          ]
        },
        {
          "metadata": {
            "tags": null
          },
          "name": "stdout",
          "output_type": "stream",
          "text": [
            "2022-10-27 11:23:14,992 Sleeping for 7s. Reason: RUNNING\n"
          ]
        },
        {
          "metadata": {
            "tags": null
          },
          "name": "stderr",
          "output_type": "stream",
          "text": [
            "COMPLETE: 100%|██████████| 150/150 [elapsed: 00:43 remaining: 00:00]\n"
          ]
        },
        {
          "metadata": {
            "tags": null
          },
          "name": "stdout",
          "output_type": "stream",
          "text": [
            "2022-10-27 11:23:23,851 Running model_1\n",
            "2022-10-27 11:24:27,138 model_1 took 59.2s (3 recycles) with pLDDT 93.5 and ptmscore 0.855\n",
            "Done prediction\n",
            "2022-10-27 11:24:32,479 Running model_2\n",
            "2022-10-27 11:25:05,179 model_2 took 28.7s (3 recycles) with pLDDT 93.2 and ptmscore 0.864\n",
            "Done prediction\n",
            "2022-10-27 11:25:07,518 Running model_3\n",
            "2022-10-27 11:25:40,498 model_3 took 29.0s (3 recycles) with pLDDT 95.2 and ptmscore 0.885\n",
            "Done prediction\n",
            "2022-10-27 11:25:42,828 Running model_4\n",
            "2022-10-27 11:26:15,743 model_4 took 28.9s (3 recycles) with pLDDT 94.7 and ptmscore 0.878\n",
            "Done prediction\n",
            "2022-10-27 11:26:18,080 Running model_5\n",
            "2022-10-27 11:26:50,958 model_5 took 28.8s (3 recycles) with pLDDT 94.2 and ptmscore 0.87\n",
            "Done prediction\n",
            "2022-10-27 11:26:53,333 reranking models by plddt\n",
            "2022-10-27 11:26:56,621 Done\n",
            "2022-10-27 11:26:56,646 Found 5 citations for tools or databases\n",
            "2022-10-27 11:27:01,376 Query 1/1: 1CYO_WT (length 134)\n"
          ]
        },
        {
          "metadata": {
            "tags": null
          },
          "name": "stderr",
          "output_type": "stream",
          "text": [
            "COMPLETE: 100%|██████████| 150/150 [elapsed: 00:01 remaining: 00:00]\n"
          ]
        },
        {
          "metadata": {
            "tags": null
          },
          "name": "stdout",
          "output_type": "stream",
          "text": [
            "2022-10-27 11:27:03,230 Running model_1\n",
            "2022-10-27 11:28:18,686 model_1 took 71.1s (3 recycles) with pLDDT 71.5 and ptmscore 0.547\n",
            "Done prediction\n",
            "2022-10-27 11:28:25,776 Running model_2\n",
            "2022-10-27 11:29:08,540 model_2 took 38.3s (3 recycles) with pLDDT 76.6 and ptmscore 0.579\n",
            "Done prediction\n",
            "2022-10-27 11:29:11,639 Running model_3\n",
            "2022-10-27 11:29:54,261 model_3 took 38.4s (3 recycles) with pLDDT 75.7 and ptmscore 0.593\n",
            "Done prediction\n",
            "2022-10-27 11:29:57,392 Running model_4\n",
            "2022-10-27 11:30:40,119 model_4 took 38.4s (3 recycles) with pLDDT 73.4 and ptmscore 0.524\n",
            "Done prediction\n",
            "2022-10-27 11:30:43,174 Running model_5\n",
            "2022-10-27 11:31:25,699 model_5 took 38.3s (3 recycles) with pLDDT 78.1 and ptmscore 0.585\n",
            "Done prediction\n",
            "2022-10-27 11:31:28,758 reranking models by plddt\n",
            "2022-10-27 11:31:31,209 Done\n",
            "2022-10-27 11:31:31,228 Found 5 citations for tools or databases\n",
            "2022-10-27 11:31:35,890 Query 1/1: 1I4N_WT (length 252)\n"
          ]
        },
        {
          "metadata": {
            "tags": null
          },
          "name": "stderr",
          "output_type": "stream",
          "text": [
            "COMPLETE: 100%|██████████| 150/150 [elapsed: 00:01 remaining: 00:00]\n"
          ]
        },
        {
          "metadata": {
            "tags": null
          },
          "name": "stdout",
          "output_type": "stream",
          "text": [
            "2022-10-27 11:31:37,894 Running model_1\n",
            "2022-10-27 11:34:00,844 model_1 took 137.6s (3 recycles) with pLDDT 94.7 and ptmscore 0.918\n",
            "Done prediction\n",
            "2022-10-27 11:34:13,792 Running model_2\n",
            "2022-10-27 11:35:59,840 model_2 took 100.9s (3 recycles) with pLDDT 94.8 and ptmscore 0.926\n",
            "Done prediction\n",
            "2022-10-27 11:36:05,591 Running model_3\n",
            "2022-10-27 11:37:51,663 model_3 took 100.8s (3 recycles) with pLDDT 96.1 and ptmscore 0.934\n",
            "Done prediction\n",
            "2022-10-27 11:37:57,371 Running model_4\n",
            "2022-10-27 11:39:43,306 model_4 took 100.8s (3 recycles) with pLDDT 95.5 and ptmscore 0.929\n",
            "Done prediction\n",
            "2022-10-27 11:39:49,032 Running model_5\n",
            "2022-10-27 11:41:34,872 model_5 took 100.7s (3 recycles) with pLDDT 95.5 and ptmscore 0.932\n",
            "Done prediction\n",
            "2022-10-27 11:41:40,573 reranking models by plddt\n",
            "2022-10-27 11:41:43,402 Done\n",
            "2022-10-27 11:41:43,422 Found 5 citations for tools or databases\n",
            "2022-10-27 11:41:48,084 Query 1/1: 1QND_WT (length 547)\n"
          ]
        },
        {
          "metadata": {
            "tags": null
          },
          "name": "stderr",
          "output_type": "stream",
          "text": [
            "COMPLETE: 100%|██████████| 150/150 [elapsed: 00:01 remaining: 00:00]\n"
          ]
        },
        {
          "metadata": {
            "tags": null
          },
          "name": "stdout",
          "output_type": "stream",
          "text": [
            "2022-10-27 11:41:54,481 Running model_1\n",
            "2022-10-27 11:50:01,977 model_1 took 466.3s (3 recycles) with pLDDT 91.1 and ptmscore 0.758\n",
            "Done prediction\n",
            "2022-10-27 11:50:29,177 Running model_2\n",
            "2022-10-27 11:57:43,745 model_2 took 413.9s (3 recycles) with pLDDT 90.5 and ptmscore 0.757\n",
            "Done prediction\n",
            "2022-10-27 11:57:55,594 Running model_3\n",
            "2022-10-27 12:05:08,904 model_3 took 413.0s (3 recycles) with pLDDT 91.3 and ptmscore 0.757\n",
            "Done prediction\n",
            "2022-10-27 12:05:20,899 Running model_4\n",
            "2022-10-27 12:12:34,768 model_4 took 413.2s (3 recycles) with pLDDT 90.7 and ptmscore 0.754\n",
            "Done prediction\n",
            "2022-10-27 12:12:46,917 Running model_5\n",
            "2022-10-27 12:20:00,603 model_5 took 413.4s (3 recycles) with pLDDT 91.2 and ptmscore 0.756\n",
            "Done prediction\n",
            "2022-10-27 12:20:12,496 reranking models by plddt\n",
            "2022-10-27 12:20:20,383 Done\n",
            "2022-10-27 12:20:20,469 Found 5 citations for tools or databases\n",
            "2022-10-27 12:20:25,271 Query 1/1: 1L63_WT (length 164)\n"
          ]
        },
        {
          "metadata": {
            "tags": null
          },
          "name": "stderr",
          "output_type": "stream",
          "text": [
            "COMPLETE: 100%|██████████| 150/150 [elapsed: 00:00 remaining: 00:00]\n"
          ]
        },
        {
          "metadata": {
            "tags": null
          },
          "name": "stdout",
          "output_type": "stream",
          "text": [
            "2022-10-27 12:20:26,377 Running model_1\n",
            "2022-10-27 12:21:41,265 model_1 took 72.6s (3 recycles) with pLDDT 95.9 and ptmscore 0.879\n",
            "Done prediction\n",
            "2022-10-27 12:21:49,548 Running model_2\n",
            "2022-10-27 12:22:44,562 model_2 took 52.7s (3 recycles) with pLDDT 96.6 and ptmscore 0.898\n",
            "Done prediction\n",
            "2022-10-27 12:22:48,262 Running model_3\n",
            "2022-10-27 12:23:43,020 model_3 took 52.5s (3 recycles) with pLDDT 96 and ptmscore 0.881\n",
            "Done prediction\n",
            "2022-10-27 12:23:46,683 Running model_4\n",
            "2022-10-27 12:24:41,385 model_4 took 52.5s (3 recycles) with pLDDT 96.8 and ptmscore 0.899\n",
            "Done prediction\n",
            "2022-10-27 12:24:45,075 Running model_5\n",
            "2022-10-27 12:25:39,976 model_5 took 52.6s (3 recycles) with pLDDT 96.9 and ptmscore 0.9\n",
            "Done prediction\n",
            "2022-10-27 12:25:43,675 reranking models by plddt\n",
            "2022-10-27 12:25:45,524 Done\n",
            "2022-10-27 12:25:45,548 Found 5 citations for tools or databases\n",
            "2022-10-27 12:25:50,211 Query 1/1: 1AM7_WT (length 158)\n"
          ]
        },
        {
          "metadata": {
            "tags": null
          },
          "name": "stderr",
          "output_type": "stream",
          "text": [
            "COMPLETE: 100%|██████████| 150/150 [elapsed: 00:00 remaining: 00:00]\n"
          ]
        },
        {
          "metadata": {
            "tags": null
          },
          "name": "stdout",
          "output_type": "stream",
          "text": [
            "2022-10-27 12:25:51,467 Running model_1\n",
            "2022-10-27 12:27:14,345 model_1 took 80.2s (3 recycles) with pLDDT 90.9 and ptmscore 0.87\n",
            "Done prediction\n",
            "2022-10-27 12:27:21,717 Running model_2\n",
            "2022-10-27 12:28:11,726 model_2 took 46.6s (3 recycles) with pLDDT 95.9 and ptmscore 0.911\n",
            "Done prediction\n",
            "2022-10-27 12:28:15,247 Running model_3\n",
            "2022-10-27 12:29:04,286 model_3 took 46.4s (3 recycles) with pLDDT 92.9 and ptmscore 0.891\n",
            "Done prediction\n",
            "2022-10-27 12:29:07,811 Running model_4\n",
            "2022-10-27 12:29:57,006 model_4 took 46.6s (3 recycles) with pLDDT 93.1 and ptmscore 0.894\n",
            "Done prediction\n",
            "2022-10-27 12:30:00,581 Running model_5\n",
            "2022-10-27 12:30:49,758 model_5 took 46.5s (3 recycles) with pLDDT 92.6 and ptmscore 0.895\n",
            "Done prediction\n",
            "2022-10-27 12:30:53,277 reranking models by plddt\n",
            "2022-10-27 12:30:55,192 Done\n",
            "2022-10-27 12:30:55,210 Found 5 citations for tools or databases\n",
            "2022-10-27 12:30:59,750 Query 1/1: 1ESF_WT (length 257)\n"
          ]
        },
        {
          "metadata": {
            "tags": null
          },
          "name": "stderr",
          "output_type": "stream",
          "text": [
            "PENDING:   0%|          | 0/150 [elapsed: 00:00 remaining: ?]"
          ]
        },
        {
          "metadata": {
            "tags": null
          },
          "name": "stdout",
          "output_type": "stream",
          "text": [
            "2022-10-27 12:31:00,029 Sleeping for 5s. Reason: PENDING\n"
          ]
        },
        {
          "metadata": {
            "tags": null
          },
          "name": "stderr",
          "output_type": "stream",
          "text": [
            "RUNNING:   3%|▎         | 5/150 [elapsed: 00:05 remaining: 02:41]"
          ]
        },
        {
          "metadata": {
            "tags": null
          },
          "name": "stdout",
          "output_type": "stream",
          "text": [
            "2022-10-27 12:31:05,335 Sleeping for 6s. Reason: RUNNING\n"
          ]
        },
        {
          "metadata": {
            "tags": null
          },
          "name": "stderr",
          "output_type": "stream",
          "text": [
            "COMPLETE: 100%|██████████| 150/150 [elapsed: 00:12 remaining: 00:00]\n"
          ]
        },
        {
          "metadata": {
            "tags": null
          },
          "name": "stdout",
          "output_type": "stream",
          "text": [
            "2022-10-27 12:31:12,024 Running model_1\n",
            "2022-10-27 12:33:35,949 model_1 took 142.5s (3 recycles) with pLDDT 88.2 and ptmscore 0.838\n",
            "Done prediction\n",
            "2022-10-27 12:33:49,359 Running model_2\n",
            "2022-10-27 12:35:36,437 model_2 took 105.6s (3 recycles) with pLDDT 88.5 and ptmscore 0.84\n",
            "Done prediction\n",
            "2022-10-27 12:35:42,375 Running model_3\n",
            "2022-10-27 12:37:29,327 model_3 took 105.5s (3 recycles) with pLDDT 89.3 and ptmscore 0.843\n",
            "Done prediction\n",
            "2022-10-27 12:37:35,115 Running model_4\n",
            "2022-10-27 12:39:22,036 model_4 took 105.5s (3 recycles) with pLDDT 88.6 and ptmscore 0.84\n",
            "Done prediction\n",
            "2022-10-27 12:39:27,822 Running model_5\n",
            "2022-10-27 12:41:14,820 model_5 took 105.5s (3 recycles) with pLDDT 89.5 and ptmscore 0.847\n",
            "Done prediction\n",
            "2022-10-27 12:41:20,665 reranking models by plddt\n",
            "2022-10-27 12:41:22,546 Done\n",
            "2022-10-27 12:41:22,565 Found 5 citations for tools or databases\n",
            "2022-10-27 12:41:27,224 Query 1/1: 1SEE_WT (length 257)\n"
          ]
        },
        {
          "metadata": {
            "tags": null
          },
          "name": "stderr",
          "output_type": "stream",
          "text": [
            "PENDING:   0%|          | 0/150 [elapsed: 00:00 remaining: ?]"
          ]
        },
        {
          "metadata": {
            "tags": null
          },
          "name": "stdout",
          "output_type": "stream",
          "text": [
            "2022-10-27 12:41:27,541 Sleeping for 10s. Reason: PENDING\n"
          ]
        },
        {
          "metadata": {
            "tags": null
          },
          "name": "stderr",
          "output_type": "stream",
          "text": [
            "RUNNING:   7%|▋         | 10/150 [elapsed: 00:10 remaining: 02:28]"
          ]
        },
        {
          "metadata": {
            "tags": null
          },
          "name": "stdout",
          "output_type": "stream",
          "text": [
            "2022-10-27 12:41:37,825 Sleeping for 7s. Reason: RUNNING\n"
          ]
        },
        {
          "metadata": {
            "tags": null
          },
          "name": "stderr",
          "output_type": "stream",
          "text": [
            "COMPLETE: 100%|██████████| 150/150 [elapsed: 00:18 remaining: 00:00]\n"
          ]
        },
        {
          "metadata": {
            "tags": null
          },
          "name": "stdout",
          "output_type": "stream",
          "text": [
            "2022-10-27 12:41:45,509 Running model_1\n",
            "2022-10-27 12:43:55,491 model_1 took 128.5s (3 recycles) with pLDDT 87.6 and ptmscore 0.831\n",
            "Done prediction\n",
            "2022-10-27 12:44:01,331 Running model_2\n",
            "2022-10-27 12:45:48,351 model_2 took 105.5s (3 recycles) with pLDDT 88.1 and ptmscore 0.843\n",
            "Done prediction\n",
            "2022-10-27 12:45:54,211 Running model_3\n",
            "2022-10-27 12:47:41,366 model_3 took 105.6s (3 recycles) with pLDDT 89.8 and ptmscore 0.848\n",
            "Done prediction\n",
            "2022-10-27 12:47:47,130 Running model_4\n",
            "2022-10-27 12:49:34,265 model_4 took 105.6s (3 recycles) with pLDDT 89 and ptmscore 0.843\n",
            "Done prediction\n",
            "2022-10-27 12:49:40,112 Running model_5\n",
            "2022-10-27 12:51:27,252 model_5 took 105.6s (3 recycles) with pLDDT 89.4 and ptmscore 0.849\n",
            "Done prediction\n",
            "2022-10-27 12:51:33,072 reranking models by plddt\n",
            "2022-10-27 12:51:34,940 Done\n",
            "2022-10-27 12:51:34,958 Found 5 citations for tools or databases\n",
            "2022-10-27 12:51:39,579 Query 1/1: 1HYW_WT (length 68)\n"
          ]
        },
        {
          "metadata": {
            "tags": null
          },
          "name": "stderr",
          "output_type": "stream",
          "text": [
            "PENDING:   0%|          | 0/150 [elapsed: 00:00 remaining: ?]"
          ]
        },
        {
          "metadata": {
            "tags": null
          },
          "name": "stdout",
          "output_type": "stream",
          "text": [
            "2022-10-27 12:51:39,853 Sleeping for 8s. Reason: PENDING\n"
          ]
        },
        {
          "metadata": {
            "tags": null
          },
          "name": "stderr",
          "output_type": "stream",
          "text": [
            "COMPLETE: 100%|██████████| 150/150 [elapsed: 00:08 remaining: 00:00]\n"
          ]
        },
        {
          "metadata": {
            "tags": null
          },
          "name": "stdout",
          "output_type": "stream",
          "text": [
            "2022-10-27 12:51:48,642 Running model_1\n",
            "2022-10-27 12:52:33,781 model_1 took 42.6s (3 recycles) with pLDDT 67.5 and ptmscore 0.421\n",
            "Done prediction\n",
            "2022-10-27 12:52:36,939 Running model_2\n",
            "2022-10-27 12:52:56,970 model_2 took 18.7s (3 recycles) with pLDDT 69.3 and ptmscore 0.476\n",
            "Done prediction\n",
            "2022-10-27 12:52:58,492 Running model_3\n",
            "2022-10-27 12:53:18,330 model_3 took 18.5s (3 recycles) with pLDDT 73.6 and ptmscore 0.483\n",
            "Done prediction\n",
            "2022-10-27 12:53:19,847 Running model_4\n",
            "2022-10-27 12:53:39,666 model_4 took 18.5s (3 recycles) with pLDDT 74.3 and ptmscore 0.508\n",
            "Done prediction\n",
            "2022-10-27 12:53:41,184 Running model_5\n",
            "2022-10-27 12:54:02,081 model_5 took 18.5s (3 recycles) with pLDDT 75.8 and ptmscore 0.522\n",
            "Done prediction\n",
            "2022-10-27 12:54:03,571 reranking models by plddt\n",
            "2022-10-27 12:54:04,946 Done\n",
            "2022-10-27 12:54:04,966 Found 5 citations for tools or databases\n",
            "2022-10-27 12:54:09,548 Query 1/1: 1C9O_WT (length 66)\n"
          ]
        },
        {
          "metadata": {
            "tags": null
          },
          "name": "stderr",
          "output_type": "stream",
          "text": [
            "COMPLETE: 100%|██████████| 150/150 [elapsed: 00:01 remaining: 00:00]\n"
          ]
        },
        {
          "metadata": {
            "tags": null
          },
          "name": "stdout",
          "output_type": "stream",
          "text": [
            "2022-10-27 12:54:11,168 Running model_1\n",
            "2022-10-27 12:54:54,760 model_1 took 40.3s (3 recycles) with pLDDT 93.8 and ptmscore 0.775\n",
            "Done prediction\n",
            "2022-10-27 12:54:57,826 Running model_2\n",
            "2022-10-27 12:55:19,637 model_2 took 18.6s (3 recycles) with pLDDT 96 and ptmscore 0.822\n",
            "Done prediction\n",
            "2022-10-27 12:55:21,107 Running model_3\n",
            "2022-10-27 12:55:42,661 model_3 took 18.3s (3 recycles) with pLDDT 93.6 and ptmscore 0.784\n",
            "Done prediction\n",
            "2022-10-27 12:55:44,160 Running model_4\n",
            "2022-10-27 12:56:05,706 model_4 took 18.3s (3 recycles) with pLDDT 95.6 and ptmscore 0.81\n",
            "Done prediction\n",
            "2022-10-27 12:56:07,160 Running model_5\n",
            "2022-10-27 12:56:28,870 model_5 took 18.5s (3 recycles) with pLDDT 95.9 and ptmscore 0.819\n",
            "Done prediction\n",
            "2022-10-27 12:56:30,342 reranking models by plddt\n",
            "2022-10-27 12:56:32,269 Done\n",
            "2022-10-27 12:56:32,315 Found 5 citations for tools or databases\n",
            "2022-10-27 12:56:36,876 Query 1/1: 1ONC_WT (length 104)\n"
          ]
        },
        {
          "metadata": {
            "tags": null
          },
          "name": "stderr",
          "output_type": "stream",
          "text": [
            "COMPLETE: 100%|██████████| 150/150 [elapsed: 00:00 remaining: 00:00]\n"
          ]
        },
        {
          "metadata": {
            "tags": null
          },
          "name": "stdout",
          "output_type": "stream",
          "text": [
            "2022-10-27 12:56:37,763 Running model_1\n",
            "2022-10-27 12:57:34,286 model_1 took 54.8s (3 recycles) with pLDDT 97 and ptmscore 0.872\n",
            "Done prediction\n",
            "2022-10-27 12:57:39,093 Running model_2\n",
            "2022-10-27 12:58:08,614 model_2 took 27.8s (3 recycles) with pLDDT 97.2 and ptmscore 0.876\n",
            "Done prediction\n",
            "2022-10-27 12:58:10,907 Running model_3\n",
            "2022-10-27 12:58:40,471 model_3 took 27.9s (3 recycles) with pLDDT 97.4 and ptmscore 0.886\n",
            "Done prediction\n",
            "2022-10-27 12:58:42,785 Running model_4\n",
            "2022-10-27 12:59:12,441 model_4 took 28.0s (3 recycles) with pLDDT 96.3 and ptmscore 0.879\n",
            "Done prediction\n",
            "2022-10-27 12:59:14,744 Running model_5\n",
            "2022-10-27 12:59:44,357 model_5 took 27.9s (3 recycles) with pLDDT 97.1 and ptmscore 0.88\n",
            "Done prediction\n",
            "2022-10-27 12:59:46,651 reranking models by plddt\n",
            "2022-10-27 12:59:48,207 Done\n",
            "2022-10-27 12:59:48,263 Found 5 citations for tools or databases\n",
            "2022-10-27 12:59:52,808 Query 1/1: 1TIN_WT (length 68)\n"
          ]
        },
        {
          "metadata": {
            "tags": null
          },
          "name": "stderr",
          "output_type": "stream",
          "text": [
            "COMPLETE: 100%|██████████| 150/150 [elapsed: 00:00 remaining: 00:00]\n"
          ]
        },
        {
          "metadata": {
            "tags": null
          },
          "name": "stdout",
          "output_type": "stream",
          "text": [
            "2022-10-27 12:59:53,742 Running model_1\n",
            "2022-10-27 13:00:33,021 model_1 took 37.7s (3 recycles) with pLDDT 94.5 and ptmscore 0.787\n",
            "Done prediction\n",
            "2022-10-27 13:00:34,502 Running model_2\n",
            "2022-10-27 13:00:55,036 model_2 took 18.9s (3 recycles) with pLDDT 91.3 and ptmscore 0.745\n",
            "Done prediction\n",
            "2022-10-27 13:00:56,515 Running model_3\n",
            "2022-10-27 13:01:16,622 model_3 took 18.5s (3 recycles) with pLDDT 95.5 and ptmscore 0.816\n",
            "Done prediction\n",
            "2022-10-27 13:01:18,080 Running model_4\n",
            "2022-10-27 13:01:38,211 model_4 took 18.5s (3 recycles) with pLDDT 96.4 and ptmscore 0.829\n",
            "Done prediction\n",
            "2022-10-27 13:01:39,684 Running model_5\n",
            "2022-10-27 13:01:59,808 model_5 took 18.5s (3 recycles) with pLDDT 90.9 and ptmscore 0.741\n",
            "Done prediction\n",
            "2022-10-27 13:02:01,376 reranking models by plddt\n",
            "2022-10-27 13:02:02,807 Done\n",
            "2022-10-27 13:02:02,858 Found 5 citations for tools or databases\n",
            "2022-10-27 13:02:07,376 Query 1/1: 2A36_WT (length 211)\n"
          ]
        },
        {
          "metadata": {
            "tags": null
          },
          "name": "stderr",
          "output_type": "stream",
          "text": [
            "COMPLETE: 100%|██████████| 150/150 [elapsed: 00:01 remaining: 00:00]\n"
          ]
        },
        {
          "metadata": {
            "tags": null
          },
          "name": "stdout",
          "output_type": "stream",
          "text": [
            "2022-10-27 13:02:09,448 Running model_1\n",
            "2022-10-27 13:04:08,626 model_1 took 113.7s (3 recycles) with pLDDT 88 and ptmscore 0.64\n",
            "Done prediction\n",
            "2022-10-27 13:04:18,451 Running model_2\n",
            "2022-10-27 13:05:41,618 model_2 took 77.7s (3 recycles) with pLDDT 89.9 and ptmscore 0.671\n",
            "Done prediction\n",
            "2022-10-27 13:05:46,439 Running model_3\n",
            "2022-10-27 13:07:09,626 model_3 took 77.6s (3 recycles) with pLDDT 89 and ptmscore 0.644\n",
            "Done prediction\n",
            "2022-10-27 13:07:14,412 Running model_4\n",
            "2022-10-27 13:08:37,411 model_4 took 77.6s (3 recycles) with pLDDT 87.4 and ptmscore 0.636\n",
            "Done prediction\n",
            "2022-10-27 13:08:42,261 Running model_5\n",
            "2022-10-27 13:10:05,289 model_5 took 77.6s (3 recycles) with pLDDT 89.6 and ptmscore 0.64\n",
            "Done prediction\n",
            "2022-10-27 13:10:10,191 reranking models by plddt\n",
            "2022-10-27 13:10:14,075 Done\n",
            "2022-10-27 13:10:14,095 Found 5 citations for tools or databases\n",
            "2022-10-27 13:10:18,643 Query 1/1: 1RTB_WT (length 150)\n"
          ]
        },
        {
          "metadata": {
            "tags": null
          },
          "name": "stderr",
          "output_type": "stream",
          "text": [
            "COMPLETE: 100%|██████████| 150/150 [elapsed: 00:00 remaining: 00:00]\n"
          ]
        },
        {
          "metadata": {
            "tags": null
          },
          "name": "stdout",
          "output_type": "stream",
          "text": [
            "2022-10-27 13:10:19,631 Running model_1\n",
            "2022-10-27 13:11:37,731 model_1 took 76.0s (3 recycles) with pLDDT 90.7 and ptmscore 0.776\n",
            "Done prediction\n",
            "2022-10-27 13:11:44,647 Running model_2\n",
            "2022-10-27 13:12:30,005 model_2 took 43.4s (3 recycles) with pLDDT 89.5 and ptmscore 0.774\n",
            "Done prediction\n",
            "2022-10-27 13:12:33,304 Running model_3\n",
            "2022-10-27 13:13:18,759 model_3 took 43.5s (3 recycles) with pLDDT 92 and ptmscore 0.787\n",
            "Done prediction\n",
            "2022-10-27 13:13:22,007 Running model_4\n",
            "2022-10-27 13:14:07,528 model_4 took 43.5s (3 recycles) with pLDDT 92 and ptmscore 0.787\n",
            "Done prediction\n",
            "2022-10-27 13:14:10,772 Running model_5\n",
            "2022-10-27 13:14:56,208 model_5 took 43.5s (3 recycles) with pLDDT 91.7 and ptmscore 0.792\n",
            "Done prediction\n",
            "2022-10-27 13:14:59,493 reranking models by plddt\n",
            "2022-10-27 13:15:01,228 Done\n",
            "2022-10-27 13:15:01,278 Found 5 citations for tools or databases\n",
            "2022-10-27 13:15:05,892 Query 1/1: 1OSI_WT (length 345)\n"
          ]
        },
        {
          "metadata": {
            "tags": null
          },
          "name": "stderr",
          "output_type": "stream",
          "text": [
            "PENDING:   0%|          | 0/150 [elapsed: 00:00 remaining: ?]"
          ]
        },
        {
          "metadata": {
            "tags": null
          },
          "name": "stdout",
          "output_type": "stream",
          "text": [
            "2022-10-27 13:15:06,185 Sleeping for 8s. Reason: PENDING\n"
          ]
        },
        {
          "metadata": {
            "tags": null
          },
          "name": "stderr",
          "output_type": "stream",
          "text": [
            "RUNNING:   5%|▌         | 8/150 [elapsed: 00:08 remaining: 02:32]"
          ]
        },
        {
          "metadata": {
            "tags": null
          },
          "name": "stdout",
          "output_type": "stream",
          "text": [
            "2022-10-27 13:15:14,478 Sleeping for 5s. Reason: RUNNING\n"
          ]
        },
        {
          "metadata": {
            "tags": null
          },
          "name": "stderr",
          "output_type": "stream",
          "text": [
            "RUNNING:   9%|▊         | 13/150 [elapsed: 00:13 remaining: 02:25]"
          ]
        },
        {
          "metadata": {
            "tags": null
          },
          "name": "stdout",
          "output_type": "stream",
          "text": [
            "2022-10-27 13:15:19,754 Sleeping for 9s. Reason: RUNNING\n"
          ]
        },
        {
          "metadata": {
            "tags": null
          },
          "name": "stderr",
          "output_type": "stream",
          "text": [
            "RUNNING:  15%|█▍        | 22/150 [elapsed: 00:23 remaining: 02:13]"
          ]
        },
        {
          "metadata": {
            "tags": null
          },
          "name": "stdout",
          "output_type": "stream",
          "text": [
            "2022-10-27 13:15:29,036 Sleeping for 9s. Reason: RUNNING\n"
          ]
        },
        {
          "metadata": {
            "tags": null
          },
          "name": "stderr",
          "output_type": "stream",
          "text": [
            "RUNNING:  21%|██        | 31/150 [elapsed: 00:32 remaining: 02:03]"
          ]
        },
        {
          "metadata": {
            "tags": null
          },
          "name": "stdout",
          "output_type": "stream",
          "text": [
            "2022-10-27 13:15:38,317 Sleeping for 5s. Reason: RUNNING\n"
          ]
        },
        {
          "metadata": {
            "tags": null
          },
          "name": "stderr",
          "output_type": "stream",
          "text": [
            "RUNNING:  24%|██▍       | 36/150 [elapsed: 00:37 remaining: 01:58]"
          ]
        },
        {
          "metadata": {
            "tags": null
          },
          "name": "stdout",
          "output_type": "stream",
          "text": [
            "2022-10-27 13:15:43,585 Sleeping for 10s. Reason: RUNNING\n"
          ]
        },
        {
          "metadata": {
            "tags": null
          },
          "name": "stderr",
          "output_type": "stream",
          "text": [
            "RUNNING:  31%|███       | 46/150 [elapsed: 00:47 remaining: 01:47]"
          ]
        },
        {
          "metadata": {
            "tags": null
          },
          "name": "stdout",
          "output_type": "stream",
          "text": [
            "2022-10-27 13:15:53,860 Sleeping for 7s. Reason: RUNNING\n"
          ]
        },
        {
          "metadata": {
            "tags": null
          },
          "name": "stderr",
          "output_type": "stream",
          "text": [
            "COMPLETE: 100%|██████████| 150/150 [elapsed: 00:56 remaining: 00:00]\n"
          ]
        },
        {
          "metadata": {
            "tags": null
          },
          "name": "stdout",
          "output_type": "stream",
          "text": [
            "2022-10-27 13:16:04,484 Running model_1\n",
            "2022-10-27 13:19:59,648 model_1 took 223.6s (3 recycles) with pLDDT 96.3 and ptmscore 0.924\n",
            "Done prediction\n",
            "2022-10-27 13:20:15,680 Running model_2\n",
            "2022-10-27 13:23:27,037 model_2 took 179.7s (3 recycles) with pLDDT 96.5 and ptmscore 0.929\n",
            "Done prediction\n",
            "2022-10-27 13:23:34,554 Running model_3\n",
            "2022-10-27 13:26:45,537 model_3 took 179.6s (3 recycles) with pLDDT 96.8 and ptmscore 0.931\n",
            "Done prediction\n",
            "2022-10-27 13:26:53,067 Running model_4\n",
            "2022-10-27 13:30:04,155 model_4 took 179.7s (3 recycles) with pLDDT 97.1 and ptmscore 0.935\n",
            "Done prediction\n",
            "2022-10-27 13:30:11,692 Running model_5\n",
            "2022-10-27 13:33:22,754 model_5 took 179.6s (3 recycles) with pLDDT 97.2 and ptmscore 0.934\n",
            "Done prediction\n",
            "2022-10-27 13:33:30,227 reranking models by plddt\n",
            "2022-10-27 13:33:34,888 Done\n",
            "2022-10-27 13:33:34,910 Found 5 citations for tools or databases\n",
            "2022-10-27 13:33:39,559 Query 1/1: 1WPW_WT (length 337)\n"
          ]
        },
        {
          "metadata": {
            "tags": null
          },
          "name": "stderr",
          "output_type": "stream",
          "text": [
            "COMPLETE: 100%|██████████| 150/150 [elapsed: 00:01 remaining: 00:00]\n"
          ]
        },
        {
          "metadata": {
            "tags": null
          },
          "name": "stdout",
          "output_type": "stream",
          "text": [
            "2022-10-27 13:33:43,231 Running model_1\n",
            "2022-10-27 13:37:29,280 model_1 took 214.9s (3 recycles) with pLDDT 96.3 and ptmscore 0.925\n",
            "Done prediction\n",
            "2022-10-27 13:37:44,736 Running model_2\n",
            "2022-10-27 13:40:47,905 model_2 took 172.3s (3 recycles) with pLDDT 96.4 and ptmscore 0.931\n",
            "Done prediction\n",
            "2022-10-27 13:40:55,476 Running model_3\n",
            "2022-10-27 13:43:58,745 model_3 took 172.2s (3 recycles) with pLDDT 96.6 and ptmscore 0.933\n",
            "Done prediction\n",
            "2022-10-27 13:44:06,154 Running model_4\n",
            "2022-10-27 13:47:09,397 model_4 took 172.3s (3 recycles) with pLDDT 96.9 and ptmscore 0.935\n",
            "Done prediction\n",
            "2022-10-27 13:47:16,826 Running model_5\n",
            "2022-10-27 13:50:20,090 model_5 took 172.2s (3 recycles) with pLDDT 96.9 and ptmscore 0.935\n",
            "Done prediction\n",
            "2022-10-27 13:50:27,560 reranking models by plddt\n",
            "2022-10-27 13:50:33,072 Done\n",
            "2022-10-27 13:50:33,091 Found 5 citations for tools or databases\n",
            "2022-10-27 13:50:37,593 Query 1/1: 1MJC_WT (length 70)\n"
          ]
        },
        {
          "metadata": {
            "tags": null
          },
          "name": "stderr",
          "output_type": "stream",
          "text": [
            "COMPLETE: 100%|██████████| 150/150 [elapsed: 00:01 remaining: 00:00]\n"
          ]
        },
        {
          "metadata": {
            "tags": null
          },
          "name": "stdout",
          "output_type": "stream",
          "text": [
            "2022-10-27 13:50:39,295 Running model_1\n",
            "2022-10-27 13:51:30,158 model_1 took 47.3s (3 recycles) with pLDDT 85.4 and ptmscore 0.672\n",
            "Done prediction\n",
            "2022-10-27 13:51:33,420 Running model_2\n",
            "2022-10-27 13:51:56,140 model_2 took 19.2s (3 recycles) with pLDDT 87.3 and ptmscore 0.718\n",
            "Done prediction\n",
            "2022-10-27 13:51:57,683 Running model_3\n",
            "2022-10-27 13:52:20,149 model_3 took 18.9s (3 recycles) with pLDDT 87 and ptmscore 0.704\n",
            "Done prediction\n",
            "2022-10-27 13:52:21,673 Running model_4\n",
            "2022-10-27 13:52:44,304 model_4 took 19.0s (3 recycles) with pLDDT 88.3 and ptmscore 0.723\n",
            "Done prediction\n",
            "2022-10-27 13:52:45,888 Running model_5\n",
            "2022-10-27 13:53:08,864 model_5 took 19.2s (3 recycles) with pLDDT 87.7 and ptmscore 0.731\n",
            "Done prediction\n",
            "2022-10-27 13:53:10,380 reranking models by plddt\n",
            "2022-10-27 13:53:12,445 Done\n",
            "2022-10-27 13:53:12,463 Found 5 citations for tools or databases\n",
            "2022-10-27 13:53:17,086 Query 1/1: 1RBP_WT (length 201)\n"
          ]
        },
        {
          "metadata": {
            "tags": null
          },
          "name": "stderr",
          "output_type": "stream",
          "text": [
            "COMPLETE: 100%|██████████| 150/150 [elapsed: 00:00 remaining: 00:00]\n"
          ]
        },
        {
          "metadata": {
            "tags": null
          },
          "name": "stdout",
          "output_type": "stream",
          "text": [
            "2022-10-27 13:53:17,922 Running model_1\n",
            "2022-10-27 13:55:06,466 model_1 took 107.0s (3 recycles) with pLDDT 88.7 and ptmscore 0.82\n",
            "Done prediction\n",
            "2022-10-27 13:55:15,739 Running model_2\n",
            "2022-10-27 13:56:28,786 model_2 took 71.5s (3 recycles) with pLDDT 89.3 and ptmscore 0.824\n",
            "Done prediction\n",
            "2022-10-27 13:56:33,401 Running model_3\n",
            "2022-10-27 13:57:46,046 model_3 took 71.1s (3 recycles) with pLDDT 90.2 and ptmscore 0.828\n",
            "Done prediction\n",
            "2022-10-27 13:57:50,586 Running model_4\n",
            "2022-10-27 13:59:03,314 model_4 took 71.2s (3 recycles) with pLDDT 89.5 and ptmscore 0.822\n",
            "Done prediction\n",
            "2022-10-27 13:59:07,851 Running model_5\n",
            "2022-10-27 14:00:20,403 model_5 took 71.0s (3 recycles) with pLDDT 89.5 and ptmscore 0.831\n",
            "Done prediction\n",
            "2022-10-27 14:00:24,953 reranking models by plddt\n",
            "2022-10-27 14:00:26,681 Done\n",
            "2022-10-27 14:00:26,698 Found 5 citations for tools or databases\n",
            "2022-10-27 14:00:31,297 Query 1/1: 1DIL_WT (length 382)\n"
          ]
        },
        {
          "metadata": {
            "tags": null
          },
          "name": "stderr",
          "output_type": "stream",
          "text": [
            "COMPLETE: 100%|██████████| 150/150 [elapsed: 00:00 remaining: 00:00]\n"
          ]
        },
        {
          "metadata": {
            "tags": null
          },
          "name": "stdout",
          "output_type": "stream",
          "text": [
            "2022-10-27 14:00:32,474 Running model_1\n",
            "2022-10-27 14:04:54,369 model_1 took 258.9s (3 recycles) with pLDDT 91.7 and ptmscore 0.921\n",
            "Done prediction\n",
            "2022-10-27 14:05:12,087 Running model_2\n",
            "2022-10-27 14:08:47,377 model_2 took 212.3s (3 recycles) with pLDDT 91.4 and ptmscore 0.924\n",
            "Done prediction\n",
            "2022-10-27 14:08:55,803 Running model_3\n",
            "2022-10-27 14:12:30,614 model_3 took 211.8s (3 recycles) with pLDDT 91.9 and ptmscore 0.927\n",
            "Done prediction\n",
            "2022-10-27 14:12:38,960 Running model_4\n",
            "2022-10-27 14:16:13,842 model_4 took 211.9s (3 recycles) with pLDDT 91.7 and ptmscore 0.923\n",
            "Done prediction\n",
            "2022-10-27 14:16:22,403 Running model_5\n",
            "2022-10-27 14:19:57,114 model_5 took 211.7s (3 recycles) with pLDDT 91.8 and ptmscore 0.924\n",
            "Done prediction\n",
            "2022-10-27 14:20:05,543 reranking models by plddt\n",
            "2022-10-27 14:20:08,195 Done\n",
            "2022-10-27 14:20:08,217 Found 5 citations for tools or databases\n",
            "2022-10-27 14:20:12,752 Query 1/1: 1A0N_WT (length 537)\n"
          ]
        },
        {
          "metadata": {
            "tags": null
          },
          "name": "stderr",
          "output_type": "stream",
          "text": [
            "COMPLETE: 100%|██████████| 150/150 [elapsed: 00:01 remaining: 00:00]\n"
          ]
        },
        {
          "metadata": {
            "tags": null
          },
          "name": "stdout",
          "output_type": "stream",
          "text": [
            "2022-10-27 14:20:18,282 Running model_1\n",
            "2022-10-27 14:27:40,187 model_1 took 421.2s (3 recycles) with pLDDT 79.3 and ptmscore 0.759\n",
            "Done prediction\n",
            "2022-10-27 14:28:05,041 Running model_2\n",
            "2022-10-27 14:35:05,591 model_2 took 399.8s (3 recycles) with pLDDT 79.7 and ptmscore 0.77\n",
            "Done prediction\n",
            "2022-10-27 14:35:17,848 Running model_3\n",
            "2022-10-27 14:42:18,685 model_3 took 399.5s (3 recycles) with pLDDT 80.7 and ptmscore 0.792\n",
            "Done prediction\n",
            "2022-10-27 14:42:30,656 Running model_4\n",
            "2022-10-27 14:49:31,337 model_4 took 399.8s (3 recycles) with pLDDT 80.5 and ptmscore 0.784\n",
            "Done prediction\n",
            "2022-10-27 14:49:43,280 Running model_5\n",
            "2022-10-27 14:56:43,095 model_5 took 399.5s (3 recycles) with pLDDT 79 and ptmscore 0.775\n",
            "Done prediction\n",
            "2022-10-27 14:56:55,104 reranking models by plddt\n",
            "2022-10-27 14:57:04,280 Done\n",
            "2022-10-27 14:57:04,346 Found 5 citations for tools or databases\n",
            "2022-10-27 14:57:16,577 Query 1/1: 1EL1_WT (length 129)\n"
          ]
        },
        {
          "metadata": {
            "tags": null
          },
          "name": "stderr",
          "output_type": "stream",
          "text": [
            "COMPLETE: 100%|██████████| 150/150 [elapsed: 00:00 remaining: 00:00]\n"
          ]
        },
        {
          "metadata": {
            "tags": null
          },
          "name": "stdout",
          "output_type": "stream",
          "text": [
            "2022-10-27 14:57:17,825 Running model_1\n",
            "2022-10-27 14:58:28,385 model_1 took 68.2s (3 recycles) with pLDDT 95.6 and ptmscore 0.888\n",
            "Done prediction\n",
            "2022-10-27 14:58:34,549 Running model_2\n",
            "2022-10-27 14:59:13,588 model_2 took 36.6s (3 recycles) with pLDDT 95.4 and ptmscore 0.893\n",
            "Done prediction\n",
            "2022-10-27 14:59:16,429 Running model_3\n",
            "2022-10-27 14:59:55,619 model_3 took 36.8s (3 recycles) with pLDDT 96.8 and ptmscore 0.904\n",
            "Done prediction\n",
            "2022-10-27 14:59:58,477 Running model_4\n",
            "2022-10-27 15:00:37,533 model_4 took 36.6s (3 recycles) with pLDDT 96.2 and ptmscore 0.901\n",
            "Done prediction\n",
            "2022-10-27 15:00:40,415 Running model_5\n",
            "2022-10-27 15:01:19,483 model_5 took 36.8s (3 recycles) with pLDDT 96.4 and ptmscore 0.905\n",
            "Done prediction\n",
            "2022-10-27 15:01:22,335 reranking models by plddt\n",
            "2022-10-27 15:01:24,119 Done\n",
            "2022-10-27 15:01:24,138 Found 5 citations for tools or databases\n",
            "2022-10-27 15:01:28,749 Query 1/1: 1JQ0_WT (length 879)\n"
          ]
        },
        {
          "metadata": {
            "tags": null
          },
          "name": "stderr",
          "output_type": "stream",
          "text": [
            "PENDING:   0%|          | 0/150 [elapsed: 00:00 remaining: ?]"
          ]
        },
        {
          "metadata": {
            "tags": null
          },
          "name": "stdout",
          "output_type": "stream",
          "text": [
            "2022-10-27 15:01:29,035 Sleeping for 7s. Reason: PENDING\n"
          ]
        },
        {
          "metadata": {
            "tags": null
          },
          "name": "stderr",
          "output_type": "stream",
          "text": [
            "RUNNING:   5%|▍         | 7/150 [elapsed: 00:07 remaining: 02:34]"
          ]
        },
        {
          "metadata": {
            "tags": null
          },
          "name": "stdout",
          "output_type": "stream",
          "text": [
            "2022-10-27 15:01:36,308 Sleeping for 10s. Reason: RUNNING\n"
          ]
        },
        {
          "metadata": {
            "tags": null
          },
          "name": "stderr",
          "output_type": "stream",
          "text": [
            "RUNNING:  11%|█▏        | 17/150 [elapsed: 00:17 remaining: 02:19]"
          ]
        },
        {
          "metadata": {
            "tags": null
          },
          "name": "stdout",
          "output_type": "stream",
          "text": [
            "2022-10-27 15:01:46,631 Sleeping for 9s. Reason: RUNNING\n"
          ]
        },
        {
          "metadata": {
            "tags": null
          },
          "name": "stderr",
          "output_type": "stream",
          "text": [
            "RUNNING:  17%|█▋        | 26/150 [elapsed: 00:27 remaining: 02:08]"
          ]
        },
        {
          "metadata": {
            "tags": null
          },
          "name": "stdout",
          "output_type": "stream",
          "text": [
            "2022-10-27 15:01:55,899 Sleeping for 6s. Reason: RUNNING\n"
          ]
        },
        {
          "metadata": {
            "tags": null
          },
          "name": "stderr",
          "output_type": "stream",
          "text": [
            "RUNNING:  21%|██▏       | 32/150 [elapsed: 00:33 remaining: 02:02]"
          ]
        },
        {
          "metadata": {
            "tags": null
          },
          "name": "stdout",
          "output_type": "stream",
          "text": [
            "2022-10-27 15:02:02,173 Sleeping for 7s. Reason: RUNNING\n"
          ]
        },
        {
          "metadata": {
            "tags": null
          },
          "name": "stderr",
          "output_type": "stream",
          "text": [
            "RUNNING:  26%|██▌       | 39/150 [elapsed: 00:40 remaining: 01:55]"
          ]
        },
        {
          "metadata": {
            "tags": null
          },
          "name": "stdout",
          "output_type": "stream",
          "text": [
            "2022-10-27 15:02:09,457 Sleeping for 8s. Reason: RUNNING\n"
          ]
        },
        {
          "metadata": {
            "tags": null
          },
          "name": "stderr",
          "output_type": "stream",
          "text": [
            "RUNNING:  31%|███▏      | 47/150 [elapsed: 00:48 remaining: 01:47]"
          ]
        },
        {
          "metadata": {
            "tags": null
          },
          "name": "stdout",
          "output_type": "stream",
          "text": [
            "2022-10-27 15:02:17,739 Sleeping for 10s. Reason: RUNNING\n"
          ]
        },
        {
          "metadata": {
            "tags": null
          },
          "name": "stderr",
          "output_type": "stream",
          "text": [
            "RUNNING:  38%|███▊      | 57/150 [elapsed: 00:59 remaining: 01:36]"
          ]
        },
        {
          "metadata": {
            "tags": null
          },
          "name": "stdout",
          "output_type": "stream",
          "text": [
            "2022-10-27 15:02:28,014 Sleeping for 8s. Reason: RUNNING\n"
          ]
        },
        {
          "metadata": {
            "tags": null
          },
          "name": "stderr",
          "output_type": "stream",
          "text": [
            "RUNNING:  43%|████▎     | 65/150 [elapsed: 01:07 remaining: 01:27]"
          ]
        },
        {
          "metadata": {
            "tags": null
          },
          "name": "stdout",
          "output_type": "stream",
          "text": [
            "2022-10-27 15:02:36,284 Sleeping for 7s. Reason: RUNNING\n"
          ]
        },
        {
          "metadata": {
            "tags": null
          },
          "name": "stderr",
          "output_type": "stream",
          "text": [
            "RUNNING:  48%|████▊     | 72/150 [elapsed: 01:14 remaining: 01:20]"
          ]
        },
        {
          "metadata": {
            "tags": null
          },
          "name": "stdout",
          "output_type": "stream",
          "text": [
            "2022-10-27 15:02:43,564 Sleeping for 10s. Reason: RUNNING\n"
          ]
        },
        {
          "metadata": {
            "tags": null
          },
          "name": "stderr",
          "output_type": "stream",
          "text": [
            "COMPLETE: 100%|██████████| 150/150 [elapsed: 01:26 remaining: 00:00]\n"
          ]
        },
        {
          "metadata": {
            "tags": null
          },
          "name": "stdout",
          "output_type": "stream",
          "text": [
            "2022-10-27 15:02:58,255 Running model_1\n",
            "2022-10-27 15:22:22,905 model_1 took 1143.6s (3 recycles) with pLDDT 69.1 and ptmscore 0.623\n",
            "Done prediction\n",
            "2022-10-27 15:23:30,595 Running model_2\n",
            "2022-10-27 15:41:34,801 model_2 took 1063.4s (3 recycles) with pLDDT 68.2 and ptmscore 0.62\n",
            "Done prediction\n",
            "2022-10-27 15:41:54,999 Running model_3\n",
            "2022-10-27 16:00:01,067 model_3 took 1064.8s (3 recycles) with pLDDT 68.6 and ptmscore 0.604\n",
            "Done prediction\n",
            "2022-10-27 16:00:21,205 Running model_4\n",
            "2022-10-27 16:18:24,614 model_4 took 1063.0s (3 recycles) with pLDDT 68 and ptmscore 0.618\n",
            "Done prediction\n",
            "2022-10-27 16:18:44,413 Running model_5\n",
            "2022-10-27 16:36:49,772 model_5 took 1064.6s (3 recycles) with pLDDT 66 and ptmscore 0.599\n",
            "Done prediction\n",
            "2022-10-27 16:37:09,813 reranking models by plddt\n",
            "2022-10-27 16:37:21,037 Done\n",
            "2022-10-27 16:37:21,108 Found 5 citations for tools or databases\n",
            "2022-10-27 16:37:33,042 Query 1/1: 3TIM_WT (length 250)\n"
          ]
        },
        {
          "metadata": {
            "tags": null
          },
          "name": "stderr",
          "output_type": "stream",
          "text": [
            "COMPLETE: 100%|██████████| 150/150 [elapsed: 00:01 remaining: 00:00]\n"
          ]
        },
        {
          "metadata": {
            "tags": null
          },
          "name": "stdout",
          "output_type": "stream",
          "text": [
            "2022-10-27 16:37:35,754 Running model_1\n",
            "2022-10-27 16:39:45,431 model_1 took 120.8s (3 recycles) with pLDDT 96.4 and ptmscore 0.931\n",
            "Done prediction\n",
            "2022-10-27 16:39:57,502 Running model_2\n",
            "2022-10-27 16:41:45,152 model_2 took 99.3s (3 recycles) with pLDDT 95.9 and ptmscore 0.933\n",
            "Done prediction\n",
            "2022-10-27 16:41:50,774 Running model_3\n",
            "2022-10-27 16:43:39,251 model_3 took 99.9s (3 recycles) with pLDDT 96.7 and ptmscore 0.939\n",
            "Done prediction\n",
            "2022-10-27 16:43:44,811 Running model_4\n",
            "2022-10-27 16:45:33,450 model_4 took 100.0s (3 recycles) with pLDDT 96.6 and ptmscore 0.938\n",
            "Done prediction\n",
            "2022-10-27 16:45:38,953 Running model_5\n",
            "2022-10-27 16:47:27,669 model_5 took 100.4s (3 recycles) with pLDDT 96.9 and ptmscore 0.939\n",
            "Done prediction\n",
            "2022-10-27 16:47:33,103 reranking models by plddt\n",
            "2022-10-27 16:47:36,689 Done\n",
            "2022-10-27 16:47:36,754 Found 5 citations for tools or databases\n",
            "2022-10-27 16:47:47,554 Query 1/1: 1GEH_WT (length 444)\n"
          ]
        },
        {
          "metadata": {
            "tags": null
          },
          "name": "stderr",
          "output_type": "stream",
          "text": [
            "COMPLETE: 100%|██████████| 150/150 [elapsed: 00:01 remaining: 00:00]\n"
          ]
        },
        {
          "metadata": {
            "tags": null
          },
          "name": "stdout",
          "output_type": "stream",
          "text": [
            "2022-10-27 16:47:50,042 Running model_1\n",
            "2022-10-27 16:53:19,794 model_1 took 321.5s (3 recycles) with pLDDT 93.7 and ptmscore 0.915\n",
            "Done prediction\n",
            "2022-10-27 16:53:41,886 Running model_2\n",
            "2022-10-27 16:58:26,910 model_2 took 277.0s (3 recycles) with pLDDT 94.4 and ptmscore 0.924\n",
            "Done prediction\n",
            "2022-10-27 16:58:36,939 Running model_3\n",
            "2022-10-27 17:03:23,170 model_3 took 278.3s (3 recycles) with pLDDT 95 and ptmscore 0.93\n",
            "Done prediction\n",
            "2022-10-27 17:03:33,137 Running model_4\n",
            "2022-10-27 17:08:18,869 model_4 took 277.7s (3 recycles) with pLDDT 94.9 and ptmscore 0.93\n",
            "Done prediction\n",
            "2022-10-27 17:08:28,860 Running model_5\n",
            "2022-10-27 17:13:14,284 model_5 took 277.6s (3 recycles) with pLDDT 95.8 and ptmscore 0.935\n",
            "Done prediction\n",
            "2022-10-27 17:13:24,336 reranking models by plddt\n",
            "2022-10-27 17:13:28,502 Done\n",
            "2022-10-27 17:13:28,529 Found 5 citations for tools or databases\n",
            "2022-10-27 17:13:35,639 Query 1/1: 1CM2_WT (length 85)\n"
          ]
        },
        {
          "metadata": {
            "tags": null
          },
          "name": "stderr",
          "output_type": "stream",
          "text": [
            "COMPLETE: 100%|██████████| 150/150 [elapsed: 00:00 remaining: 00:00]\n"
          ]
        },
        {
          "metadata": {
            "tags": null
          },
          "name": "stdout",
          "output_type": "stream",
          "text": [
            "2022-10-27 17:13:37,032 Running model_1\n",
            "2022-10-27 17:14:27,386 model_1 took 47.4s (3 recycles) with pLDDT 93.5 and ptmscore 0.825\n",
            "Done prediction\n",
            "2022-10-27 17:14:31,534 Running model_2\n",
            "2022-10-27 17:14:57,864 model_2 took 23.5s (3 recycles) with pLDDT 95.1 and ptmscore 0.859\n",
            "Done prediction\n",
            "2022-10-27 17:14:59,741 Running model_3\n",
            "2022-10-27 17:15:26,245 model_3 took 23.7s (3 recycles) with pLDDT 88.5 and ptmscore 0.738\n",
            "Done prediction\n",
            "2022-10-27 17:15:28,120 Running model_4\n",
            "2022-10-27 17:15:54,700 model_4 took 23.8s (3 recycles) with pLDDT 97 and ptmscore 0.873\n",
            "Done prediction\n",
            "2022-10-27 17:15:56,544 Running model_5\n",
            "2022-10-27 17:16:23,139 model_5 took 23.7s (3 recycles) with pLDDT 97.2 and ptmscore 0.873\n",
            "Done prediction\n",
            "2022-10-27 17:16:24,997 reranking models by plddt\n",
            "2022-10-27 17:16:27,996 Done\n",
            "2022-10-27 17:16:28,015 Found 5 citations for tools or databases\n",
            "2022-10-27 17:16:32,678 Query 1/1: 1OTR_WT (length 443)\n"
          ]
        },
        {
          "metadata": {
            "tags": null
          },
          "name": "stderr",
          "output_type": "stream",
          "text": [
            "PENDING:   0%|          | 0/150 [elapsed: 00:00 remaining: ?]"
          ]
        },
        {
          "metadata": {
            "tags": null
          },
          "name": "stdout",
          "output_type": "stream",
          "text": [
            "2022-10-27 17:16:32,964 Sleeping for 7s. Reason: PENDING\n"
          ]
        },
        {
          "metadata": {
            "tags": null
          },
          "name": "stderr",
          "output_type": "stream",
          "text": [
            "RUNNING:   5%|▍         | 7/150 [elapsed: 00:07 remaining: 02:34]"
          ]
        },
        {
          "metadata": {
            "tags": null
          },
          "name": "stdout",
          "output_type": "stream",
          "text": [
            "2022-10-27 17:16:40,250 Sleeping for 8s. Reason: RUNNING\n"
          ]
        },
        {
          "metadata": {
            "tags": null
          },
          "name": "stderr",
          "output_type": "stream",
          "text": [
            "RUNNING:  10%|█         | 15/150 [elapsed: 00:15 remaining: 02:22]"
          ]
        },
        {
          "metadata": {
            "tags": null
          },
          "name": "stdout",
          "output_type": "stream",
          "text": [
            "2022-10-27 17:16:48,530 Sleeping for 5s. Reason: RUNNING\n"
          ]
        },
        {
          "metadata": {
            "tags": null
          },
          "name": "stderr",
          "output_type": "stream",
          "text": [
            "RUNNING:  13%|█▎        | 20/150 [elapsed: 00:21 remaining: 02:16]"
          ]
        },
        {
          "metadata": {
            "tags": null
          },
          "name": "stdout",
          "output_type": "stream",
          "text": [
            "2022-10-27 17:16:53,803 Sleeping for 5s. Reason: RUNNING\n"
          ]
        },
        {
          "metadata": {
            "tags": null
          },
          "name": "stderr",
          "output_type": "stream",
          "text": [
            "RUNNING:  17%|█▋        | 25/150 [elapsed: 00:26 remaining: 02:11]"
          ]
        },
        {
          "metadata": {
            "tags": null
          },
          "name": "stdout",
          "output_type": "stream",
          "text": [
            "2022-10-27 17:16:59,088 Sleeping for 9s. Reason: RUNNING\n"
          ]
        },
        {
          "metadata": {
            "tags": null
          },
          "name": "stderr",
          "output_type": "stream",
          "text": [
            "COMPLETE: 100%|██████████| 150/150 [elapsed: 00:36 remaining: 00:00]\n"
          ]
        },
        {
          "metadata": {
            "tags": null
          },
          "name": "stdout",
          "output_type": "stream",
          "text": [
            "2022-10-27 17:17:08,824 Running model_1\n",
            "2022-10-27 17:22:30,538 model_1 took 320.1s (3 recycles) with pLDDT 63.3 and ptmscore 0.334\n",
            "Done prediction\n",
            "2022-10-27 17:22:51,874 Running model_2\n",
            "2022-10-27 17:27:27,708 model_2 took 274.2s (3 recycles) with pLDDT 64.8 and ptmscore 0.315\n",
            "Done prediction\n",
            "2022-10-27 17:27:37,835 Running model_3\n",
            "2022-10-27 17:32:13,081 model_3 took 273.6s (3 recycles) with pLDDT 66 and ptmscore 0.336\n",
            "Done prediction\n",
            "2022-10-27 17:32:23,232 Running model_4\n",
            "2022-10-27 17:36:58,778 model_4 took 273.9s (3 recycles) with pLDDT 64.4 and ptmscore 0.308\n",
            "Done prediction\n",
            "2022-10-27 17:37:08,878 Running model_5\n",
            "2022-10-27 17:41:44,355 model_5 took 273.9s (3 recycles) with pLDDT 66.3 and ptmscore 0.369\n",
            "Done prediction\n",
            "2022-10-27 17:41:54,545 reranking models by plddt\n",
            "2022-10-27 17:41:57,339 Done\n",
            "2022-10-27 17:41:57,360 Found 5 citations for tools or databases\n",
            "2022-10-27 17:42:02,012 Query 1/1: 1IHB_WT (length 168)\n"
          ]
        },
        {
          "metadata": {
            "tags": null
          },
          "name": "stderr",
          "output_type": "stream",
          "text": [
            "COMPLETE: 100%|██████████| 150/150 [elapsed: 00:01 remaining: 00:00]\n"
          ]
        },
        {
          "metadata": {
            "tags": null
          },
          "name": "stdout",
          "output_type": "stream",
          "text": [
            "2022-10-27 17:42:03,633 Running model_1\n",
            "2022-10-27 17:43:31,753 model_1 took 84.2s (3 recycles) with pLDDT 92.2 and ptmscore 0.858\n",
            "Done prediction\n",
            "2022-10-27 17:43:39,768 Running model_2\n",
            "2022-10-27 17:44:38,218 model_2 took 54.7s (3 recycles) with pLDDT 91.4 and ptmscore 0.854\n",
            "Done prediction\n",
            "2022-10-27 17:44:41,882 Running model_3\n",
            "2022-10-27 17:45:41,398 model_3 took 54.4s (3 recycles) with pLDDT 92 and ptmscore 0.853\n",
            "Done prediction\n",
            "2022-10-27 17:45:45,050 Running model_4\n",
            "2022-10-27 17:46:43,587 model_4 took 54.8s (3 recycles) with pLDDT 90.4 and ptmscore 0.84\n",
            "Done prediction\n",
            "2022-10-27 17:46:47,260 Running model_5\n",
            "2022-10-27 17:47:45,591 model_5 took 54.6s (3 recycles) with pLDDT 92.9 and ptmscore 0.874\n",
            "Done prediction\n",
            "2022-10-27 17:47:49,218 reranking models by plddt\n",
            "2022-10-27 17:47:51,469 Done\n",
            "2022-10-27 17:47:51,491 Found 5 citations for tools or databases\n",
            "2022-10-27 17:47:56,239 Query 1/1: 1HME_WT (length 215)\n"
          ]
        },
        {
          "metadata": {
            "tags": null
          },
          "name": "stderr",
          "output_type": "stream",
          "text": [
            "COMPLETE: 100%|██████████| 150/150 [elapsed: 00:01 remaining: 00:00]\n"
          ]
        },
        {
          "metadata": {
            "tags": null
          },
          "name": "stdout",
          "output_type": "stream",
          "text": [
            "2022-10-27 17:47:58,445 Running model_1\n",
            "2022-10-27 17:50:02,292 model_1 took 117.1s (3 recycles) with pLDDT 75.1 and ptmscore 0.413\n",
            "Done prediction\n",
            "2022-10-27 17:50:12,776 Running model_2\n",
            "2022-10-27 17:51:39,720 model_2 took 80.2s (3 recycles) with pLDDT 70.1 and ptmscore 0.344\n",
            "Done prediction\n",
            "2022-10-27 17:51:44,630 Running model_3\n",
            "2022-10-27 17:53:11,592 model_3 took 80.2s (3 recycles) with pLDDT 75.1 and ptmscore 0.377\n",
            "Done prediction\n",
            "2022-10-27 17:53:16,465 Running model_4\n",
            "2022-10-27 17:54:43,336 model_4 took 80.2s (3 recycles) with pLDDT 71.9 and ptmscore 0.365\n",
            "Done prediction\n",
            "2022-10-27 17:54:48,204 Running model_5\n",
            "2022-10-27 17:56:15,070 model_5 took 80.3s (3 recycles) with pLDDT 73.9 and ptmscore 0.428\n",
            "Done prediction\n",
            "2022-10-27 17:56:20,020 reranking models by plddt\n",
            "2022-10-27 17:56:23,142 Done\n",
            "2022-10-27 17:56:23,190 Found 5 citations for tools or databases\n",
            "2022-10-27 17:56:27,828 Query 1/1: 1.00E_21_WT (length 156)\n"
          ]
        },
        {
          "metadata": {
            "tags": null
          },
          "name": "stderr",
          "output_type": "stream",
          "text": [
            "COMPLETE: 100%|██████████| 150/150 [elapsed: 00:00 remaining: 00:00]\n"
          ]
        },
        {
          "output_type": "stream",
          "name": "stdout",
          "text": [
            "2022-10-27 17:56:28,836 Running model_1\n",
            "2022-10-27 17:57:45,711 model_1 took 74.8s (3 recycles) with pLDDT 90.8 and ptmscore 0.772\n",
            "Done prediction\n",
            "2022-10-27 17:57:52,995 Running model_2\n",
            "2022-10-27 17:58:41,999 model_2 took 45.6s (3 recycles) with pLDDT 90.4 and ptmscore 0.771\n",
            "Done prediction\n",
            "2022-10-27 17:58:45,475 Running model_3\n",
            "2022-10-27 17:59:33,030 model_3 took 45.5s (3 recycles) with pLDDT 91.7 and ptmscore 0.778\n",
            "Done prediction\n",
            "2022-10-27 17:59:36,661 Running model_4\n",
            "2022-10-27 18:00:24,438 model_4 took 45.7s (3 recycles) with pLDDT 91.3 and ptmscore 0.778\n",
            "Done prediction\n",
            "2022-10-27 18:00:27,908 Running model_5\n",
            "2022-10-27 18:01:15,517 model_5 took 45.6s (3 recycles) with pLDDT 91.6 and ptmscore 0.787\n",
            "Done prediction\n",
            "2022-10-27 18:01:19,050 reranking models by plddt\n",
            "2022-10-27 18:01:20,778 Done\n",
            "2022-10-27 18:01:20,820 Found 5 citations for tools or databases\n",
            "2022-10-27 18:01:25,456 Query 1/1: 2E0L_WT (length 156)\n"
          ]
        },
        {
          "output_type": "stream",
          "name": "stderr",
          "text": [
            "COMPLETE: 100%|██████████| 150/150 [elapsed: 00:00 remaining: 00:00]\n"
          ]
        },
        {
          "output_type": "stream",
          "name": "stdout",
          "text": [
            "2022-10-27 18:01:26,407 Running model_1\n",
            "2022-10-27 18:02:32,369 model_1 took 63.9s (3 recycles) with pLDDT 90.8 and ptmscore 0.772\n",
            "Done prediction\n",
            "2022-10-27 18:02:35,835 Running model_2\n",
            "2022-10-27 18:03:23,215 model_2 took 45.3s (3 recycles) with pLDDT 90.4 and ptmscore 0.771\n",
            "Done prediction\n",
            "2022-10-27 18:03:26,740 Running model_3\n",
            "2022-10-27 18:04:14,510 model_3 took 45.7s (3 recycles) with pLDDT 91.7 and ptmscore 0.778\n",
            "Done prediction\n",
            "2022-10-27 18:04:18,007 Running model_4\n",
            "2022-10-27 18:05:07,074 model_4 took 45.6s (3 recycles) with pLDDT 91.3 and ptmscore 0.778\n",
            "Done prediction\n",
            "2022-10-27 18:05:10,531 Running model_5\n",
            "2022-10-27 18:05:58,319 model_5 took 45.7s (3 recycles) with pLDDT 91.6 and ptmscore 0.787\n",
            "Done prediction\n",
            "2022-10-27 18:06:01,865 reranking models by plddt\n",
            "2022-10-27 18:06:03,616 Done\n",
            "2022-10-27 18:06:03,634 Found 5 citations for tools or databases\n",
            "2022-10-27 18:06:08,353 Query 1/1: 1DIV_WT (length 149)\n"
          ]
        },
        {
          "output_type": "stream",
          "name": "stderr",
          "text": [
            "COMPLETE: 100%|██████████| 150/150 [elapsed: 00:01 remaining: 00:00]\n"
          ]
        },
        {
          "output_type": "stream",
          "name": "stdout",
          "text": [
            "2022-10-27 18:06:10,083 Running model_1\n",
            "2022-10-27 18:07:31,007 model_1 took 76.6s (3 recycles) with pLDDT 90.1 and ptmscore 0.63\n",
            "Done prediction\n",
            "2022-10-27 18:07:38,383 Running model_2\n",
            "2022-10-27 18:08:26,263 model_2 took 43.6s (3 recycles) with pLDDT 85.2 and ptmscore 0.555\n",
            "Done prediction\n",
            "2022-10-27 18:08:29,601 Running model_3\n",
            "2022-10-27 18:09:17,457 model_3 took 43.7s (3 recycles) with pLDDT 86.5 and ptmscore 0.561\n",
            "Done prediction\n",
            "2022-10-27 18:09:20,767 Running model_4\n",
            "2022-10-27 18:10:08,603 model_4 took 43.7s (3 recycles) with pLDDT 89.3 and ptmscore 0.615\n",
            "Done prediction\n",
            "2022-10-27 18:10:11,933 Running model_5\n",
            "2022-10-27 18:10:59,753 model_5 took 43.6s (3 recycles) with pLDDT 82.9 and ptmscore 0.535\n",
            "Done prediction\n",
            "2022-10-27 18:11:03,019 reranking models by plddt\n",
            "2022-10-27 18:11:05,378 Done\n",
            "2022-10-27 18:11:05,397 Found 5 citations for tools or databases\n",
            "2022-10-27 18:11:10,091 Query 1/1: 1H8V_WT (length 234)\n"
          ]
        },
        {
          "output_type": "stream",
          "name": "stderr",
          "text": [
            "COMPLETE: 100%|██████████| 150/150 [elapsed: 00:00 remaining: 00:00]\n"
          ]
        },
        {
          "output_type": "stream",
          "name": "stdout",
          "text": [
            "2022-10-27 18:11:11,396 Running model_1\n",
            "2022-10-27 18:13:23,344 model_1 took 129.0s (3 recycles) with pLDDT 94.8 and ptmscore 0.893\n",
            "Done prediction\n",
            "2022-10-27 18:13:34,453 Running model_2\n",
            "2022-10-27 18:15:07,470 model_2 took 90.1s (3 recycles) with pLDDT 95 and ptmscore 0.896\n",
            "Done prediction\n",
            "2022-10-27 18:15:12,733 Running model_3\n",
            "2022-10-27 18:16:45,431 model_3 took 89.7s (3 recycles) with pLDDT 95.3 and ptmscore 0.902\n",
            "Done prediction\n",
            "2022-10-27 18:16:50,593 Running model_4\n",
            "2022-10-27 18:18:23,235 model_4 took 89.7s (3 recycles) with pLDDT 95.4 and ptmscore 0.901\n",
            "Done prediction\n",
            "2022-10-27 18:18:28,535 Running model_5\n",
            "2022-10-27 18:20:01,294 model_5 took 89.8s (3 recycles) with pLDDT 95.4 and ptmscore 0.901\n",
            "Done prediction\n",
            "2022-10-27 18:20:06,470 reranking models by plddt\n",
            "2022-10-27 18:20:08,600 Done\n",
            "2022-10-27 18:20:08,619 Found 5 citations for tools or databases\n",
            "2022-10-27 18:20:13,286 Query 1/1: 1KDX_WT (length 2441)\n"
          ]
        },
        {
          "output_type": "stream",
          "name": "stderr",
          "text": [
            "PENDING:   0%|          | 0/150 [elapsed: 00:00 remaining: ?]"
          ]
        },
        {
          "output_type": "stream",
          "name": "stdout",
          "text": [
            "2022-10-27 18:20:13,568 Sleeping for 7s. Reason: PENDING\n"
          ]
        },
        {
          "output_type": "stream",
          "name": "stderr",
          "text": [
            "RUNNING:   5%|▍         | 7/150 [elapsed: 00:07 remaining: 02:34]"
          ]
        },
        {
          "output_type": "stream",
          "name": "stdout",
          "text": [
            "2022-10-27 18:20:20,845 Sleeping for 10s. Reason: RUNNING\n"
          ]
        },
        {
          "output_type": "stream",
          "name": "stderr",
          "text": [
            "RUNNING:  11%|█▏        | 17/150 [elapsed: 00:17 remaining: 02:18]"
          ]
        },
        {
          "output_type": "stream",
          "name": "stdout",
          "text": [
            "2022-10-27 18:20:31,132 Sleeping for 9s. Reason: RUNNING\n"
          ]
        },
        {
          "output_type": "stream",
          "name": "stderr",
          "text": [
            "RUNNING:  17%|█▋        | 26/150 [elapsed: 00:27 remaining: 02:08]"
          ]
        },
        {
          "output_type": "stream",
          "name": "stdout",
          "text": [
            "2022-10-27 18:20:40,409 Sleeping for 6s. Reason: RUNNING\n"
          ]
        },
        {
          "output_type": "stream",
          "name": "stderr",
          "text": [
            "RUNNING:  21%|██▏       | 32/150 [elapsed: 00:33 remaining: 02:02]"
          ]
        },
        {
          "output_type": "stream",
          "name": "stdout",
          "text": [
            "2022-10-27 18:20:46,676 Sleeping for 5s. Reason: RUNNING\n"
          ]
        },
        {
          "output_type": "stream",
          "name": "stderr",
          "text": [
            "RUNNING:  25%|██▍       | 37/150 [elapsed: 00:38 remaining: 01:57]"
          ]
        },
        {
          "output_type": "stream",
          "name": "stdout",
          "text": [
            "2022-10-27 18:20:51,936 Sleeping for 8s. Reason: RUNNING\n"
          ]
        },
        {
          "output_type": "stream",
          "name": "stderr",
          "text": [
            "RUNNING:  30%|███       | 45/150 [elapsed: 00:46 remaining: 01:49]"
          ]
        },
        {
          "output_type": "stream",
          "name": "stdout",
          "text": [
            "2022-10-27 18:21:00,228 Sleeping for 6s. Reason: RUNNING\n"
          ]
        },
        {
          "output_type": "stream",
          "name": "stderr",
          "text": [
            "RUNNING:  34%|███▍      | 51/150 [elapsed: 00:53 remaining: 01:43]"
          ]
        },
        {
          "output_type": "stream",
          "name": "stdout",
          "text": [
            "2022-10-27 18:21:06,537 Sleeping for 5s. Reason: RUNNING\n"
          ]
        },
        {
          "output_type": "stream",
          "name": "stderr",
          "text": [
            "RUNNING:  37%|███▋      | 56/150 [elapsed: 00:58 remaining: 01:38]"
          ]
        },
        {
          "output_type": "stream",
          "name": "stdout",
          "text": [
            "2022-10-27 18:21:11,815 Sleeping for 10s. Reason: RUNNING\n"
          ]
        },
        {
          "output_type": "stream",
          "name": "stderr",
          "text": [
            "RUNNING:  44%|████▍     | 66/150 [elapsed: 01:08 remaining: 01:27]"
          ]
        },
        {
          "output_type": "stream",
          "name": "stdout",
          "text": [
            "2022-10-27 18:21:22,095 Sleeping for 8s. Reason: RUNNING\n"
          ]
        },
        {
          "output_type": "stream",
          "name": "stderr",
          "text": [
            "RUNNING:  49%|████▉     | 74/150 [elapsed: 01:17 remaining: 01:18]"
          ]
        },
        {
          "output_type": "stream",
          "name": "stdout",
          "text": [
            "2022-10-27 18:21:30,372 Sleeping for 7s. Reason: RUNNING\n"
          ]
        },
        {
          "output_type": "stream",
          "name": "stderr",
          "text": [
            "RUNNING:  54%|█████▍    | 81/150 [elapsed: 01:24 remaining: 01:11]"
          ]
        },
        {
          "output_type": "stream",
          "name": "stdout",
          "text": [
            "2022-10-27 18:21:37,651 Sleeping for 6s. Reason: RUNNING\n"
          ]
        },
        {
          "output_type": "stream",
          "name": "stderr",
          "text": [
            "RUNNING:  58%|█████▊    | 87/150 [elapsed: 01:30 remaining: 01:05]"
          ]
        },
        {
          "output_type": "stream",
          "name": "stdout",
          "text": [
            "2022-10-27 18:21:43,939 Sleeping for 10s. Reason: RUNNING\n"
          ]
        },
        {
          "output_type": "stream",
          "name": "stderr",
          "text": [
            "RUNNING:  65%|██████▍   | 97/150 [elapsed: 01:40 remaining: 00:54]"
          ]
        },
        {
          "output_type": "stream",
          "name": "stdout",
          "text": [
            "2022-10-27 18:21:54,223 Sleeping for 6s. Reason: RUNNING\n"
          ]
        },
        {
          "output_type": "stream",
          "name": "stderr",
          "text": [
            "RUNNING:  69%|██████▊   | 103/150 [elapsed: 01:47 remaining: 00:48]"
          ]
        },
        {
          "output_type": "stream",
          "name": "stdout",
          "text": [
            "2022-10-27 18:22:00,510 Sleeping for 6s. Reason: RUNNING\n"
          ]
        },
        {
          "output_type": "stream",
          "name": "stderr",
          "text": [
            "RUNNING:  73%|███████▎  | 109/150 [elapsed: 01:53 remaining: 00:42]"
          ]
        },
        {
          "output_type": "stream",
          "name": "stdout",
          "text": [
            "2022-10-27 18:22:06,810 Sleeping for 8s. Reason: RUNNING\n"
          ]
        },
        {
          "output_type": "stream",
          "name": "stderr",
          "text": [
            "RUNNING:  78%|███████▊  | 117/150 [elapsed: 02:01 remaining: 00:34]"
          ]
        },
        {
          "output_type": "stream",
          "name": "stdout",
          "text": [
            "2022-10-27 18:22:15,098 Sleeping for 6s. Reason: RUNNING\n"
          ]
        },
        {
          "output_type": "stream",
          "name": "stderr",
          "text": [
            "RUNNING:  82%|████████▏ | 123/150 [elapsed: 02:08 remaining: 00:28]"
          ]
        },
        {
          "output_type": "stream",
          "name": "stdout",
          "text": [
            "2022-10-27 18:22:21,378 Sleeping for 6s. Reason: RUNNING\n"
          ]
        },
        {
          "output_type": "stream",
          "name": "stderr",
          "text": [
            "RUNNING:  86%|████████▌ | 129/150 [elapsed: 02:14 remaining: 00:21]"
          ]
        },
        {
          "output_type": "stream",
          "name": "stdout",
          "text": [
            "2022-10-27 18:22:27,659 Sleeping for 8s. Reason: RUNNING\n"
          ]
        },
        {
          "output_type": "stream",
          "name": "stderr",
          "text": [
            "RUNNING:  91%|█████████▏| 137/150 [elapsed: 02:22 remaining: 00:13]"
          ]
        },
        {
          "output_type": "stream",
          "name": "stdout",
          "text": [
            "2022-10-27 18:22:35,945 Sleeping for 9s. Reason: RUNNING\n"
          ]
        },
        {
          "output_type": "stream",
          "name": "stderr",
          "text": [
            "RUNNING:  97%|█████████▋| 146/150 [elapsed: 02:31 remaining: 00:04]"
          ]
        },
        {
          "output_type": "stream",
          "name": "stdout",
          "text": [
            "2022-10-27 18:22:45,244 Sleeping for 5s. Reason: RUNNING\n"
          ]
        },
        {
          "output_type": "stream",
          "name": "stderr",
          "text": [
            "RUNNING: |          | 151/? [elapsed: 02:37 remaining: 00:00]"
          ]
        },
        {
          "output_type": "stream",
          "name": "stdout",
          "text": [
            "2022-10-27 18:22:50,538 Sleeping for 8s. Reason: RUNNING\n"
          ]
        },
        {
          "output_type": "stream",
          "name": "stderr",
          "text": [
            "RUNNING: |          | 159/? [elapsed: 02:45 remaining: 00:00]"
          ]
        },
        {
          "output_type": "stream",
          "name": "stdout",
          "text": [
            "2022-10-27 18:22:58,802 Sleeping for 10s. Reason: RUNNING\n"
          ]
        },
        {
          "output_type": "stream",
          "name": "stderr",
          "text": [
            "RUNNING: |          | 169/? [elapsed: 02:55 remaining: 00:00]"
          ]
        },
        {
          "output_type": "stream",
          "name": "stdout",
          "text": [
            "2022-10-27 18:23:09,075 Sleeping for 6s. Reason: RUNNING\n"
          ]
        },
        {
          "output_type": "stream",
          "name": "stderr",
          "text": [
            "COMPLETE: |          | 169/? [elapsed: 03:03 remaining: 00:00]\n"
          ]
        },
        {
          "output_type": "stream",
          "name": "stdout",
          "text": [
            "2022-10-27 18:23:29,202 Running model_1\n"
          ]
        }
      ]
    },
    {
      "cell_type": "code",
      "metadata": {
        "id": "KK7X9T44pWb7",
        "colab": {
          "base_uri": "https://localhost:8080/"
        },
        "outputId": "de44b393-8572-4b33-e397-0bbd4ea0d9e5"
      },
      "source": [
        "import py3Dmol\n",
        "import glob\n",
        "import matplotlib.pyplot as plt\n",
        "from colabfold.colabfold import plot_plddt_legend\n",
        "rank_num = 1\n",
        "color = \"lDDT\" \n",
        "show_sidechains = False \n",
        "show_mainchains = False \n",
        "\n",
        "pdb_filename = f\"{jobname}_unrelaxed_rank_{rank_num}_model_*.pdb\"\n",
        "pdb_file = glob.glob(pdb_filename)\n",
        "model_name = f\"rank_1\"\n",
        "model_data = open(pdb_file[0],'r').read()\n",
        "\n",
        "print(model_data)"
      ],
      "execution_count": null,
      "outputs": [
        {
          "output_type": "stream",
          "name": "stdout",
          "text": [
            "MODEL     1                                                                     \n",
            "ATOM      1  N   PRO A   1       4.113   2.954 -13.940  1.00 97.40           N  \n",
            "ATOM      2  CA  PRO A   1       2.785   2.550 -13.474  1.00 97.40           C  \n",
            "ATOM      3  C   PRO A   1       2.514   2.968 -12.030  1.00 97.40           C  \n",
            "ATOM      4  CB  PRO A   1       2.814   1.025 -13.605  1.00 97.40           C  \n",
            "ATOM      5  O   PRO A   1       3.404   2.880 -11.181  1.00 97.40           O  \n",
            "ATOM      6  CG  PRO A   1       3.924   0.745 -14.566  1.00 97.40           C  \n",
            "ATOM      7  CD  PRO A   1       4.994   1.781 -14.374  1.00 97.40           C  \n",
            "ATOM      8  N   ILE A   2       1.404   3.595 -11.900  1.00 98.43           N  \n",
            "ATOM      9  CA  ILE A   2       1.032   4.026 -10.557  1.00 98.43           C  \n",
            "ATOM     10  C   ILE A   2      -0.196   3.250 -10.086  1.00 98.43           C  \n",
            "ATOM     11  CB  ILE A   2       0.756   5.546 -10.508  1.00 98.43           C  \n",
            "ATOM     12  O   ILE A   2      -1.193   3.156 -10.807  1.00 98.43           O  \n",
            "ATOM     13  CG1 ILE A   2       2.013   6.330 -10.902  1.00 98.43           C  \n",
            "ATOM     14  CG2 ILE A   2       0.265   5.961  -9.118  1.00 98.43           C  \n",
            "ATOM     15  CD1 ILE A   2       1.774   7.820 -11.106  1.00 98.43           C  \n",
            "ATOM     16  N   ALA A   3      -0.116   2.625  -8.903  1.00 98.51           N  \n",
            "ATOM     17  CA  ALA A   3      -1.247   1.970  -8.251  1.00 98.51           C  \n",
            "ATOM     18  C   ALA A   3      -1.660   2.718  -6.987  1.00 98.51           C  \n",
            "ATOM     19  CB  ALA A   3      -0.903   0.520  -7.918  1.00 98.51           C  \n",
            "ATOM     20  O   ALA A   3      -0.812   3.089  -6.172  1.00 98.51           O  \n",
            "ATOM     21  N   GLN A   4      -2.946   3.088  -6.964  1.00 98.68           N  \n",
            "ATOM     22  CA  GLN A   4      -3.530   3.654  -5.752  1.00 98.68           C  \n",
            "ATOM     23  C   GLN A   4      -4.454   2.651  -5.067  1.00 98.68           C  \n",
            "ATOM     24  CB  GLN A   4      -4.295   4.938  -6.074  1.00 98.68           C  \n",
            "ATOM     25  O   GLN A   4      -5.385   2.133  -5.686  1.00 98.68           O  \n",
            "ATOM     26  CG  GLN A   4      -3.407   6.080  -6.550  1.00 98.68           C  \n",
            "ATOM     27  CD  GLN A   4      -4.186   7.351  -6.833  1.00 98.68           C  \n",
            "ATOM     28  NE2 GLN A   4      -4.327   8.199  -5.820  1.00 98.68           N  \n",
            "ATOM     29  OE1 GLN A   4      -4.657   7.569  -7.954  1.00 98.68           O  \n",
            "ATOM     30  N   ILE A   5      -4.108   2.426  -3.830  1.00 98.29           N  \n",
            "ATOM     31  CA  ILE A   5      -4.879   1.453  -3.063  1.00 98.29           C  \n",
            "ATOM     32  C   ILE A   5      -5.484   2.128  -1.834  1.00 98.29           C  \n",
            "ATOM     33  CB  ILE A   5      -4.008   0.249  -2.640  1.00 98.29           C  \n",
            "ATOM     34  O   ILE A   5      -4.770   2.761  -1.052  1.00 98.29           O  \n",
            "ATOM     35  CG1 ILE A   5      -3.394  -0.424  -3.873  1.00 98.29           C  \n",
            "ATOM     36  CG2 ILE A   5      -4.831  -0.751  -1.823  1.00 98.29           C  \n",
            "ATOM     37  CD1 ILE A   5      -2.376  -1.508  -3.543  1.00 98.29           C  \n",
            "ATOM     38  N   HIS A   6      -6.788   2.039  -1.773  1.00 97.64           N  \n",
            "ATOM     39  CA  HIS A   6      -7.516   2.510  -0.600  1.00 97.64           C  \n",
            "ATOM     40  C   HIS A   6      -7.912   1.349   0.306  1.00 97.64           C  \n",
            "ATOM     41  CB  HIS A   6      -8.760   3.294  -1.022  1.00 97.64           C  \n",
            "ATOM     42  O   HIS A   6      -8.537   0.388  -0.147  1.00 97.64           O  \n",
            "ATOM     43  CG  HIS A   6      -8.453   4.534  -1.800  1.00 97.64           C  \n",
            "ATOM     44  CD2 HIS A   6      -8.379   5.830  -1.415  1.00 97.64           C  \n",
            "ATOM     45  ND1 HIS A   6      -8.180   4.517  -3.151  1.00 97.64           N  \n",
            "ATOM     46  CE1 HIS A   6      -7.949   5.752  -3.563  1.00 97.64           C  \n",
            "ATOM     47  NE2 HIS A   6      -8.064   6.568  -2.529  1.00 97.64           N  \n",
            "ATOM     48  N   ILE A   7      -7.512   1.481   1.585  1.00 97.30           N  \n",
            "ATOM     49  CA  ILE A   7      -7.828   0.440   2.556  1.00 97.30           C  \n",
            "ATOM     50  C   ILE A   7      -8.296   1.077   3.862  1.00 97.30           C  \n",
            "ATOM     51  CB  ILE A   7      -6.613  -0.480   2.814  1.00 97.30           C  \n",
            "ATOM     52  O   ILE A   7      -8.075   2.268   4.094  1.00 97.30           O  \n",
            "ATOM     53  CG1 ILE A   7      -5.469   0.314   3.456  1.00 97.30           C  \n",
            "ATOM     54  CG2 ILE A   7      -6.154  -1.146   1.514  1.00 97.30           C  \n",
            "ATOM     55  CD1 ILE A   7      -4.280  -0.540   3.872  1.00 97.30           C  \n",
            "ATOM     56  N   LEU A   8      -9.065   0.320   4.637  1.00 96.81           N  \n",
            "ATOM     57  CA  LEU A   8      -9.374   0.787   5.985  1.00 96.81           C  \n",
            "ATOM     58  C   LEU A   8      -8.116   0.829   6.847  1.00 96.81           C  \n",
            "ATOM     59  CB  LEU A   8     -10.423  -0.116   6.637  1.00 96.81           C  \n",
            "ATOM     60  O   LEU A   8      -7.203   0.022   6.659  1.00 96.81           O  \n",
            "ATOM     61  CG  LEU A   8     -11.837  -0.040   6.059  1.00 96.81           C  \n",
            "ATOM     62  CD1 LEU A   8     -12.725  -1.110   6.686  1.00 96.81           C  \n",
            "ATOM     63  CD2 LEU A   8     -12.430   1.348   6.274  1.00 96.81           C  \n",
            "ATOM     64  N   GLU A   9      -8.082   1.712   7.796  1.00 96.62           N  \n",
            "ATOM     65  CA  GLU A   9      -6.960   1.783   8.728  1.00 96.62           C  \n",
            "ATOM     66  C   GLU A   9      -6.898   0.540   9.612  1.00 96.62           C  \n",
            "ATOM     67  CB  GLU A   9      -7.059   3.041   9.595  1.00 96.62           C  \n",
            "ATOM     68  O   GLU A   9      -7.875  -0.205   9.714  1.00 96.62           O  \n",
            "ATOM     69  CG  GLU A   9      -8.241   3.035  10.554  1.00 96.62           C  \n",
            "ATOM     70  CD  GLU A   9      -8.343   4.302  11.388  1.00 96.62           C  \n",
            "ATOM     71  OE1 GLU A   9      -9.169   4.346  12.327  1.00 96.62           O  \n",
            "ATOM     72  OE2 GLU A   9      -7.591   5.260  11.098  1.00 96.62           O  \n",
            "ATOM     73  N   GLY A  10      -5.707   0.242  10.163  1.00 96.64           N  \n",
            "ATOM     74  CA  GLY A  10      -5.613  -0.827  11.145  1.00 96.64           C  \n",
            "ATOM     75  C   GLY A  10      -4.641  -1.920  10.745  1.00 96.64           C  \n",
            "ATOM     76  O   GLY A  10      -4.338  -2.811  11.542  1.00 96.64           O  \n",
            "ATOM     77  N   ARG A  11      -4.112  -1.773   9.526  1.00 97.81           N  \n",
            "ATOM     78  CA  ARG A  11      -3.112  -2.761   9.135  1.00 97.81           C  \n",
            "ATOM     79  C   ARG A  11      -1.732  -2.382   9.662  1.00 97.81           C  \n",
            "ATOM     80  CB  ARG A  11      -3.068  -2.909   7.612  1.00 97.81           C  \n",
            "ATOM     81  O   ARG A  11      -1.423  -1.198   9.814  1.00 97.81           O  \n",
            "ATOM     82  CG  ARG A  11      -4.401  -3.299   6.993  1.00 97.81           C  \n",
            "ATOM     83  CD  ARG A  11      -5.091  -4.399   7.788  1.00 97.81           C  \n",
            "ATOM     84  NE  ARG A  11      -6.393  -4.738   7.220  1.00 97.81           N  \n",
            "ATOM     85  NH1 ARG A  11      -6.898  -6.340   8.806  1.00 97.81           N  \n",
            "ATOM     86  NH2 ARG A  11      -8.382  -5.882   7.120  1.00 97.81           N  \n",
            "ATOM     87  CZ  ARG A  11      -7.221  -5.653   7.717  1.00 97.81           C  \n",
            "ATOM     88  N   SER A  12      -0.946  -3.431   9.979  1.00 98.41           N  \n",
            "ATOM     89  CA  SER A  12       0.408  -3.193  10.468  1.00 98.41           C  \n",
            "ATOM     90  C   SER A  12       1.314  -2.674   9.356  1.00 98.41           C  \n",
            "ATOM     91  CB  SER A  12       0.997  -4.473  11.062  1.00 98.41           C  \n",
            "ATOM     92  O   SER A  12       1.008  -2.836   8.173  1.00 98.41           O  \n",
            "ATOM     93  OG  SER A  12       1.266  -5.422  10.045  1.00 98.41           O  \n",
            "ATOM     94  N   ASP A  13       2.453  -2.093   9.713  1.00 98.28           N  \n",
            "ATOM     95  CA  ASP A  13       3.441  -1.650   8.734  1.00 98.28           C  \n",
            "ATOM     96  C   ASP A  13       3.947  -2.821   7.895  1.00 98.28           C  \n",
            "ATOM     97  CB  ASP A  13       4.614  -0.957   9.432  1.00 98.28           C  \n",
            "ATOM     98  O   ASP A  13       4.198  -2.671   6.698  1.00 98.28           O  \n",
            "ATOM     99  CG  ASP A  13       4.262   0.426   9.952  1.00 98.28           C  \n",
            "ATOM    100  OD1 ASP A  13       3.159   0.929   9.648  1.00 98.28           O  \n",
            "ATOM    101  OD2 ASP A  13       5.096   1.018  10.670  1.00 98.28           O  \n",
            "ATOM    102  N   GLU A  14       4.084  -3.988   8.541  1.00 98.63           N  \n",
            "ATOM    103  CA  GLU A  14       4.535  -5.180   7.831  1.00 98.63           C  \n",
            "ATOM    104  C   GLU A  14       3.554  -5.572   6.730  1.00 98.63           C  \n",
            "ATOM    105  CB  GLU A  14       4.726  -6.346   8.805  1.00 98.63           C  \n",
            "ATOM    106  O   GLU A  14       3.964  -5.917   5.620  1.00 98.63           O  \n",
            "ATOM    107  CG  GLU A  14       5.885  -6.156   9.772  1.00 98.63           C  \n",
            "ATOM    108  CD  GLU A  14       5.557  -5.222  10.926  1.00 98.63           C  \n",
            "ATOM    109  OE1 GLU A  14       6.495  -4.679  11.553  1.00 98.63           O  \n",
            "ATOM    110  OE2 GLU A  14       4.353  -5.031  11.206  1.00 98.63           O  \n",
            "ATOM    111  N   GLN A  15       2.304  -5.547   7.014  1.00 98.65           N  \n",
            "ATOM    112  CA  GLN A  15       1.290  -5.871   6.017  1.00 98.65           C  \n",
            "ATOM    113  C   GLN A  15       1.307  -4.866   4.868  1.00 98.65           C  \n",
            "ATOM    114  CB  GLN A  15      -0.099  -5.913   6.657  1.00 98.65           C  \n",
            "ATOM    115  O   GLN A  15       1.204  -5.248   3.701  1.00 98.65           O  \n",
            "ATOM    116  CG  GLN A  15      -0.319  -7.112   7.569  1.00 98.65           C  \n",
            "ATOM    117  CD  GLN A  15      -1.663  -7.076   8.271  1.00 98.65           C  \n",
            "ATOM    118  NE2 GLN A  15      -2.536  -8.018   7.930  1.00 98.65           N  \n",
            "ATOM    119  OE1 GLN A  15      -1.915  -6.210   9.114  1.00 98.65           O  \n",
            "ATOM    120  N   LYS A  16       1.445  -3.597   5.163  1.00 98.67           N  \n",
            "ATOM    121  CA  LYS A  16       1.498  -2.563   4.133  1.00 98.67           C  \n",
            "ATOM    122  C   LYS A  16       2.737  -2.723   3.257  1.00 98.67           C  \n",
            "ATOM    123  CB  LYS A  16       1.481  -1.172   4.767  1.00 98.67           C  \n",
            "ATOM    124  O   LYS A  16       2.663  -2.575   2.035  1.00 98.67           O  \n",
            "ATOM    125  CG  LYS A  16       0.171  -0.823   5.459  1.00 98.67           C  \n",
            "ATOM    126  CD  LYS A  16       0.190   0.597   6.010  1.00 98.67           C  \n",
            "ATOM    127  CE  LYS A  16       0.950   0.677   7.327  1.00 98.67           C  \n",
            "ATOM    128  NZ  LYS A  16       0.910   2.052   7.908  1.00 98.67           N  \n",
            "ATOM    129  N   GLU A  17       3.852  -3.140   3.910  1.00 98.65           N  \n",
            "ATOM    130  CA  GLU A  17       5.074  -3.401   3.156  1.00 98.65           C  \n",
            "ATOM    131  C   GLU A  17       4.888  -4.569   2.191  1.00 98.65           C  \n",
            "ATOM    132  CB  GLU A  17       6.242  -3.683   4.105  1.00 98.65           C  \n",
            "ATOM    133  O   GLU A  17       5.314  -4.501   1.037  1.00 98.65           O  \n",
            "ATOM    134  CG  GLU A  17       7.581  -3.847   3.401  1.00 98.65           C  \n",
            "ATOM    135  CD  GLU A  17       8.740  -4.069   4.360  1.00 98.65           C  \n",
            "ATOM    136  OE1 GLU A  17       9.895  -4.202   3.896  1.00 98.65           O  \n",
            "ATOM    137  OE2 GLU A  17       8.490  -4.111   5.585  1.00 98.65           O  \n",
            "ATOM    138  N   THR A  18       4.284  -5.601   2.772  1.00 98.72           N  \n",
            "ATOM    139  CA  THR A  18       4.038  -6.777   1.944  1.00 98.72           C  \n",
            "ATOM    140  C   THR A  18       3.132  -6.429   0.766  1.00 98.72           C  \n",
            "ATOM    141  CB  THR A  18       3.403  -7.915   2.765  1.00 98.72           C  \n",
            "ATOM    142  O   THR A  18       3.396  -6.836  -0.367  1.00 98.72           O  \n",
            "ATOM    143  CG2 THR A  18       3.102  -9.125   1.887  1.00 98.72           C  \n",
            "ATOM    144  OG1 THR A  18       4.307  -8.307   3.806  1.00 98.72           O  \n",
            "ATOM    145  N   LEU A  19       2.072  -5.665   1.011  1.00 98.68           N  \n",
            "ATOM    146  CA  LEU A  19       1.154  -5.242  -0.040  1.00 98.68           C  \n",
            "ATOM    147  C   LEU A  19       1.888  -4.448  -1.116  1.00 98.68           C  \n",
            "ATOM    148  CB  LEU A  19       0.019  -4.399   0.547  1.00 98.68           C  \n",
            "ATOM    149  O   LEU A  19       1.741  -4.728  -2.308  1.00 98.68           O  \n",
            "ATOM    150  CG  LEU A  19      -1.004  -3.850  -0.450  1.00 98.68           C  \n",
            "ATOM    151  CD1 LEU A  19      -1.670  -4.993  -1.208  1.00 98.68           C  \n",
            "ATOM    152  CD2 LEU A  19      -2.045  -2.998   0.267  1.00 98.68           C  \n",
            "ATOM    153  N   ILE A  20       2.699  -3.476  -0.742  1.00 98.75           N  \n",
            "ATOM    154  CA  ILE A  20       3.435  -2.632  -1.677  1.00 98.75           C  \n",
            "ATOM    155  C   ILE A  20       4.353  -3.495  -2.540  1.00 98.75           C  \n",
            "ATOM    156  CB  ILE A  20       4.254  -1.550  -0.939  1.00 98.75           C  \n",
            "ATOM    157  O   ILE A  20       4.412  -3.323  -3.759  1.00 98.75           O  \n",
            "ATOM    158  CG1 ILE A  20       3.322  -0.489  -0.342  1.00 98.75           C  \n",
            "ATOM    159  CG2 ILE A  20       5.279  -0.911  -1.881  1.00 98.75           C  \n",
            "ATOM    160  CD1 ILE A  20       4.003   0.444   0.651  1.00 98.75           C  \n",
            "ATOM    161  N   ARG A  21       5.017  -4.478  -1.940  1.00 98.76           N  \n",
            "ATOM    162  CA  ARG A  21       5.935  -5.357  -2.657  1.00 98.76           C  \n",
            "ATOM    163  C   ARG A  21       5.189  -6.221  -3.668  1.00 98.76           C  \n",
            "ATOM    164  CB  ARG A  21       6.705  -6.245  -1.677  1.00 98.76           C  \n",
            "ATOM    165  O   ARG A  21       5.576  -6.291  -4.837  1.00 98.76           O  \n",
            "ATOM    166  CG  ARG A  21       7.706  -7.175  -2.344  1.00 98.76           C  \n",
            "ATOM    167  CD  ARG A  21       8.480  -7.997  -1.323  1.00 98.76           C  \n",
            "ATOM    168  NE  ARG A  21       7.585  -8.747  -0.445  1.00 98.76           N  \n",
            "ATOM    169  NH1 ARG A  21       7.074 -10.369  -2.009  1.00 98.76           N  \n",
            "ATOM    170  NH2 ARG A  21       6.149 -10.458   0.087  1.00 98.76           N  \n",
            "ATOM    171  CZ  ARG A  21       6.938  -9.856  -0.791  1.00 98.76           C  \n",
            "ATOM    172  N   GLU A  22       4.169  -6.737  -3.226  1.00 98.75           N  \n",
            "ATOM    173  CA  GLU A  22       3.456  -7.685  -4.077  1.00 98.75           C  \n",
            "ATOM    174  C   GLU A  22       2.784  -6.977  -5.250  1.00 98.75           C  \n",
            "ATOM    175  CB  GLU A  22       2.415  -8.460  -3.264  1.00 98.75           C  \n",
            "ATOM    176  O   GLU A  22       2.820  -7.468  -6.381  1.00 98.75           O  \n",
            "ATOM    177  CG  GLU A  22       3.017  -9.447  -2.275  1.00 98.75           C  \n",
            "ATOM    178  CD  GLU A  22       3.550 -10.709  -2.936  1.00 98.75           C  \n",
            "ATOM    179  OE1 GLU A  22       4.437 -11.371  -2.352  1.00 98.75           O  \n",
            "ATOM    180  OE2 GLU A  22       3.076 -11.037  -4.046  1.00 98.75           O  \n",
            "ATOM    181  N   VAL A  23       2.165  -5.881  -5.046  1.00 98.66           N  \n",
            "ATOM    182  CA  VAL A  23       1.523  -5.109  -6.105  1.00 98.66           C  \n",
            "ATOM    183  C   VAL A  23       2.573  -4.627  -7.103  1.00 98.66           C  \n",
            "ATOM    184  CB  VAL A  23       0.738  -3.907  -5.534  1.00 98.66           C  \n",
            "ATOM    185  O   VAL A  23       2.376  -4.724  -8.317  1.00 98.66           O  \n",
            "ATOM    186  CG1 VAL A  23       0.289  -2.973  -6.657  1.00 98.66           C  \n",
            "ATOM    187  CG2 VAL A  23      -0.463  -4.390  -4.724  1.00 98.66           C  \n",
            "ATOM    188  N   SER A  24       3.676  -4.083  -6.594  1.00 98.78           N  \n",
            "ATOM    189  CA  SER A  24       4.750  -3.616  -7.465  1.00 98.78           C  \n",
            "ATOM    190  C   SER A  24       5.240  -4.730  -8.384  1.00 98.78           C  \n",
            "ATOM    191  CB  SER A  24       5.917  -3.076  -6.637  1.00 98.78           C  \n",
            "ATOM    192  O   SER A  24       5.381  -4.529  -9.592  1.00 98.78           O  \n",
            "ATOM    193  OG  SER A  24       5.518  -1.943  -5.886  1.00 98.78           O  \n",
            "ATOM    194  N   GLU A  25       5.464  -5.970  -7.821  1.00 98.80           N  \n",
            "ATOM    195  CA  GLU A  25       5.948  -7.114  -8.589  1.00 98.80           C  \n",
            "ATOM    196  C   GLU A  25       4.916  -7.562  -9.620  1.00 98.80           C  \n",
            "ATOM    197  CB  GLU A  25       6.299  -8.277  -7.657  1.00 98.80           C  \n",
            "ATOM    198  O   GLU A  25       5.269  -7.901 -10.752  1.00 98.80           O  \n",
            "ATOM    199  CG  GLU A  25       7.567  -8.054  -6.846  1.00 98.80           C  \n",
            "ATOM    200  CD  GLU A  25       7.851  -9.172  -5.856  1.00 98.80           C  \n",
            "ATOM    201  OE1 GLU A  25       8.923  -9.153  -5.210  1.00 98.80           O  \n",
            "ATOM    202  OE2 GLU A  25       6.994 -10.074  -5.725  1.00 98.80           O  \n",
            "ATOM    203  N   ALA A  26       3.669  -7.539  -9.192  1.00 98.77           N  \n",
            "ATOM    204  CA  ALA A  26       2.602  -7.930 -10.109  1.00 98.77           C  \n",
            "ATOM    205  C   ALA A  26       2.539  -6.990 -11.309  1.00 98.77           C  \n",
            "ATOM    206  CB  ALA A  26       1.259  -7.953  -9.384  1.00 98.77           C  \n",
            "ATOM    207  O   ALA A  26       2.423  -7.439 -12.452  1.00 98.77           O  \n",
            "ATOM    208  N   ILE A  27       2.606  -5.752 -11.071  1.00 98.74           N  \n",
            "ATOM    209  CA  ILE A  27       2.536  -4.752 -12.132  1.00 98.74           C  \n",
            "ATOM    210  C   ILE A  27       3.755  -4.879 -13.042  1.00 98.74           C  \n",
            "ATOM    211  CB  ILE A  27       2.444  -3.322 -11.555  1.00 98.74           C  \n",
            "ATOM    212  O   ILE A  27       3.625  -4.881 -14.268  1.00 98.74           O  \n",
            "ATOM    213  CG1 ILE A  27       1.067  -3.089 -10.921  1.00 98.74           C  \n",
            "ATOM    214  CG2 ILE A  27       2.728  -2.282 -12.643  1.00 98.74           C  \n",
            "ATOM    215  CD1 ILE A  27       0.944  -1.766 -10.178  1.00 98.74           C  \n",
            "ATOM    216  N   SER A  28       4.915  -4.907 -12.393  1.00 98.71           N  \n",
            "ATOM    217  CA  SER A  28       6.141  -5.043 -13.172  1.00 98.71           C  \n",
            "ATOM    218  C   SER A  28       6.081  -6.258 -14.091  1.00 98.71           C  \n",
            "ATOM    219  CB  SER A  28       7.355  -5.151 -12.248  1.00 98.71           C  \n",
            "ATOM    220  O   SER A  28       6.387  -6.160 -15.281  1.00 98.71           O  \n",
            "ATOM    221  OG  SER A  28       8.543  -5.334 -12.998  1.00 98.71           O  \n",
            "ATOM    222  N   ARG A  29       5.644  -7.410 -13.575  1.00 98.57           N  \n",
            "ATOM    223  CA  ARG A  29       5.577  -8.654 -14.336  1.00 98.57           C  \n",
            "ATOM    224  C   ARG A  29       4.523  -8.568 -15.434  1.00 98.57           C  \n",
            "ATOM    225  CB  ARG A  29       5.276  -9.835 -13.411  1.00 98.57           C  \n",
            "ATOM    226  O   ARG A  29       4.757  -9.006 -16.563  1.00 98.57           O  \n",
            "ATOM    227  CG  ARG A  29       6.476 -10.309 -12.607  1.00 98.57           C  \n",
            "ATOM    228  CD  ARG A  29       6.218 -11.659 -11.952  1.00 98.57           C  \n",
            "ATOM    229  NE  ARG A  29       5.064 -11.614 -11.058  1.00 98.57           N  \n",
            "ATOM    230  NH1 ARG A  29       5.030 -13.887 -10.649  1.00 98.57           N  \n",
            "ATOM    231  NH2 ARG A  29       3.477 -12.517  -9.666  1.00 98.57           N  \n",
            "ATOM    232  CZ  ARG A  29       4.526 -12.673 -10.460  1.00 98.57           C  \n",
            "ATOM    233  N   SER A  30       3.445  -8.008 -15.212  1.00 98.62           N  \n",
            "ATOM    234  CA  SER A  30       2.295  -8.007 -16.110  1.00 98.62           C  \n",
            "ATOM    235  C   SER A  30       2.501  -7.041 -17.273  1.00 98.62           C  \n",
            "ATOM    236  CB  SER A  30       1.021  -7.637 -15.350  1.00 98.62           C  \n",
            "ATOM    237  O   SER A  30       2.048  -7.300 -18.389  1.00 98.62           O  \n",
            "ATOM    238  OG  SER A  30       0.717  -8.616 -14.371  1.00 98.62           O  \n",
            "ATOM    239  N   LEU A  31       3.216  -6.018 -16.973  1.00 98.37           N  \n",
            "ATOM    240  CA  LEU A  31       3.318  -4.971 -17.984  1.00 98.37           C  \n",
            "ATOM    241  C   LEU A  31       4.745  -4.862 -18.511  1.00 98.37           C  \n",
            "ATOM    242  CB  LEU A  31       2.870  -3.625 -17.409  1.00 98.37           C  \n",
            "ATOM    243  O   LEU A  31       5.043  -3.993 -19.333  1.00 98.37           O  \n",
            "ATOM    244  CG  LEU A  31       1.424  -3.546 -16.916  1.00 98.37           C  \n",
            "ATOM    245  CD1 LEU A  31       1.116  -2.145 -16.398  1.00 98.37           C  \n",
            "ATOM    246  CD2 LEU A  31       0.457  -3.934 -18.030  1.00 98.37           C  \n",
            "ATOM    247  N   ASP A  32       5.606  -5.749 -18.068  1.00 98.13           N  \n",
            "ATOM    248  CA  ASP A  32       7.012  -5.714 -18.455  1.00 98.13           C  \n",
            "ATOM    249  C   ASP A  32       7.614  -4.332 -18.212  1.00 98.13           C  \n",
            "ATOM    250  CB  ASP A  32       7.174  -6.106 -19.926  1.00 98.13           C  \n",
            "ATOM    251  O   ASP A  32       8.327  -3.800 -19.066  1.00 98.13           O  \n",
            "ATOM    252  CG  ASP A  32       8.600  -6.482 -20.286  1.00 98.13           C  \n",
            "ATOM    253  OD1 ASP A  32       9.357  -6.926 -19.395  1.00 98.13           O  \n",
            "ATOM    254  OD2 ASP A  32       8.972  -6.331 -21.470  1.00 98.13           O  \n",
            "ATOM    255  N   ALA A  33       7.319  -3.699 -17.114  1.00 98.44           N  \n",
            "ATOM    256  CA  ALA A  33       7.894  -2.429 -16.677  1.00 98.44           C  \n",
            "ATOM    257  C   ALA A  33       8.943  -2.648 -15.590  1.00 98.44           C  \n",
            "ATOM    258  CB  ALA A  33       6.797  -1.494 -16.173  1.00 98.44           C  \n",
            "ATOM    259  O   ALA A  33       8.858  -3.607 -14.820  1.00 98.44           O  \n",
            "ATOM    260  N   PRO A  34      10.059  -1.803 -15.673  1.00 98.53           N  \n",
            "ATOM    261  CA  PRO A  34      11.027  -1.913 -14.580  1.00 98.53           C  \n",
            "ATOM    262  C   PRO A  34      10.394  -1.696 -13.207  1.00 98.53           C  \n",
            "ATOM    263  CB  PRO A  34      12.040  -0.809 -14.894  1.00 98.53           C  \n",
            "ATOM    264  O   PRO A  34       9.586  -0.780 -13.034  1.00 98.53           O  \n",
            "ATOM    265  CG  PRO A  34      11.815  -0.483 -16.335  1.00 98.53           C  \n",
            "ATOM    266  CD  PRO A  34      10.382  -0.777 -16.673  1.00 98.53           C  \n",
            "ATOM    267  N   LEU A  35      10.752  -2.521 -12.281  1.00 98.40           N  \n",
            "ATOM    268  CA  LEU A  35      10.225  -2.443 -10.923  1.00 98.40           C  \n",
            "ATOM    269  C   LEU A  35      10.456  -1.058 -10.328  1.00 98.40           C  \n",
            "ATOM    270  CB  LEU A  35      10.873  -3.508 -10.034  1.00 98.40           C  \n",
            "ATOM    271  O   LEU A  35       9.603  -0.538  -9.605  1.00 98.40           O  \n",
            "ATOM    272  CG  LEU A  35      10.239  -3.721  -8.659  1.00 98.40           C  \n",
            "ATOM    273  CD1 LEU A  35       8.807  -4.226  -8.808  1.00 98.40           C  \n",
            "ATOM    274  CD2 LEU A  35      11.071  -4.694  -7.831  1.00 98.40           C  \n",
            "ATOM    275  N   THR A  36      11.497  -0.455 -10.723  1.00 98.39           N  \n",
            "ATOM    276  CA  THR A  36      11.904   0.835 -10.177  1.00 98.39           C  \n",
            "ATOM    277  C   THR A  36      10.964   1.942 -10.645  1.00 98.39           C  \n",
            "ATOM    278  CB  THR A  36      13.350   1.181 -10.581  1.00 98.39           C  \n",
            "ATOM    279  O   THR A  36      10.941   3.030 -10.067  1.00 98.39           O  \n",
            "ATOM    280  CG2 THR A  36      14.345   0.217  -9.944  1.00 98.39           C  \n",
            "ATOM    281  OG1 THR A  36      13.473   1.104 -12.007  1.00 98.39           O  \n",
            "ATOM    282  N   SER A  37      10.257   1.688 -11.731  1.00 98.41           N  \n",
            "ATOM    283  CA  SER A  37       9.347   2.694 -12.268  1.00 98.41           C  \n",
            "ATOM    284  C   SER A  37       7.962   2.579 -11.640  1.00 98.41           C  \n",
            "ATOM    285  CB  SER A  37       9.240   2.564 -13.788  1.00 98.41           C  \n",
            "ATOM    286  O   SER A  37       7.100   3.430 -11.865  1.00 98.41           O  \n",
            "ATOM    287  OG  SER A  37       8.504   1.406 -14.142  1.00 98.41           O  \n",
            "ATOM    288  N   VAL A  38       7.635   1.580 -10.794  1.00 98.67           N  \n",
            "ATOM    289  CA  VAL A  38       6.322   1.324 -10.212  1.00 98.67           C  \n",
            "ATOM    290  C   VAL A  38       6.182   2.087  -8.897  1.00 98.67           C  \n",
            "ATOM    291  CB  VAL A  38       6.087  -0.185  -9.980  1.00 98.67           C  \n",
            "ATOM    292  O   VAL A  38       7.058   2.013  -8.033  1.00 98.67           O  \n",
            "ATOM    293  CG1 VAL A  38       4.737  -0.425  -9.307  1.00 98.67           C  \n",
            "ATOM    294  CG2 VAL A  38       6.172  -0.947 -11.302  1.00 98.67           C  \n",
            "ATOM    295  N   ARG A  39       5.172   2.882  -8.762  1.00 98.71           N  \n",
            "ATOM    296  CA  ARG A  39       4.818   3.581  -7.531  1.00 98.71           C  \n",
            "ATOM    297  C   ARG A  39       3.507   3.054  -6.958  1.00 98.71           C  \n",
            "ATOM    298  CB  ARG A  39       4.713   5.088  -7.779  1.00 98.71           C  \n",
            "ATOM    299  O   ARG A  39       2.527   2.888  -7.688  1.00 98.71           O  \n",
            "ATOM    300  CG  ARG A  39       5.985   5.711  -8.332  1.00 98.71           C  \n",
            "ATOM    301  CD  ARG A  39       7.087   5.769  -7.283  1.00 98.71           C  \n",
            "ATOM    302  NE  ARG A  39       8.266   6.473  -7.779  1.00 98.71           N  \n",
            "ATOM    303  NH1 ARG A  39       9.318   4.577  -8.576  1.00 98.71           N  \n",
            "ATOM    304  NH2 ARG A  39      10.321   6.627  -8.793  1.00 98.71           N  \n",
            "ATOM    305  CZ  ARG A  39       9.299   5.891  -8.382  1.00 98.71           C  \n",
            "ATOM    306  N   VAL A  40       3.475   2.697  -5.687  1.00 98.69           N  \n",
            "ATOM    307  CA  VAL A  40       2.278   2.257  -4.978  1.00 98.69           C  \n",
            "ATOM    308  C   VAL A  40       1.969   3.223  -3.837  1.00 98.69           C  \n",
            "ATOM    309  CB  VAL A  40       2.439   0.820  -4.431  1.00 98.69           C  \n",
            "ATOM    310  O   VAL A  40       2.817   3.469  -2.976  1.00 98.69           O  \n",
            "ATOM    311  CG1 VAL A  40       1.178   0.381  -3.690  1.00 98.69           C  \n",
            "ATOM    312  CG2 VAL A  40       2.761  -0.149  -5.567  1.00 98.69           C  \n",
            "ATOM    313  N   ILE A  41       0.813   3.759  -3.885  1.00 98.69           N  \n",
            "ATOM    314  CA  ILE A  41       0.349   4.687  -2.859  1.00 98.69           C  \n",
            "ATOM    315  C   ILE A  41      -0.798   4.056  -2.073  1.00 98.69           C  \n",
            "ATOM    316  CB  ILE A  41      -0.100   6.032  -3.475  1.00 98.69           C  \n",
            "ATOM    317  O   ILE A  41      -1.810   3.656  -2.653  1.00 98.69           O  \n",
            "ATOM    318  CG1 ILE A  41       1.027   6.633  -4.323  1.00 98.69           C  \n",
            "ATOM    319  CG2 ILE A  41      -0.540   7.007  -2.379  1.00 98.69           C  \n",
            "ATOM    320  CD1 ILE A  41       0.577   7.766  -5.236  1.00 98.69           C  \n",
            "ATOM    321  N   ILE A  42      -0.598   3.932  -0.762  1.00 98.56           N  \n",
            "ATOM    322  CA  ILE A  42      -1.649   3.437   0.120  1.00 98.56           C  \n",
            "ATOM    323  C   ILE A  42      -2.297   4.608   0.857  1.00 98.56           C  \n",
            "ATOM    324  CB  ILE A  42      -1.100   2.406   1.131  1.00 98.56           C  \n",
            "ATOM    325  O   ILE A  42      -1.609   5.398   1.507  1.00 98.56           O  \n",
            "ATOM    326  CG1 ILE A  42      -0.527   1.189   0.395  1.00 98.56           C  \n",
            "ATOM    327  CG2 ILE A  42      -2.191   1.984   2.119  1.00 98.56           C  \n",
            "ATOM    328  CD1 ILE A  42       0.148   0.175   1.307  1.00 98.56           C  \n",
            "ATOM    329  N   THR A  43      -3.604   4.754   0.619  1.00 98.15           N  \n",
            "ATOM    330  CA  THR A  43      -4.416   5.693   1.384  1.00 98.15           C  \n",
            "ATOM    331  C   THR A  43      -5.301   4.953   2.384  1.00 98.15           C  \n",
            "ATOM    332  CB  THR A  43      -5.294   6.557   0.459  1.00 98.15           C  \n",
            "ATOM    333  O   THR A  43      -6.122   4.120   1.996  1.00 98.15           O  \n",
            "ATOM    334  CG2 THR A  43      -6.073   7.598   1.255  1.00 98.15           C  \n",
            "ATOM    335  OG1 THR A  43      -4.458   7.226  -0.493  1.00 98.15           O  \n",
            "ATOM    336  N   GLU A  44      -5.089   5.301   3.635  1.00 97.73           N  \n",
            "ATOM    337  CA  GLU A  44      -5.878   4.676   4.692  1.00 97.73           C  \n",
            "ATOM    338  C   GLU A  44      -7.065   5.551   5.086  1.00 97.73           C  \n",
            "ATOM    339  CB  GLU A  44      -5.006   4.390   5.918  1.00 97.73           C  \n",
            "ATOM    340  O   GLU A  44      -6.923   6.766   5.241  1.00 97.73           O  \n",
            "ATOM    341  CG  GLU A  44      -3.892   3.386   5.659  1.00 97.73           C  \n",
            "ATOM    342  CD  GLU A  44      -3.014   3.137   6.875  1.00 97.73           C  \n",
            "ATOM    343  OE1 GLU A  44      -3.301   2.195   7.649  1.00 97.73           O  \n",
            "ATOM    344  OE2 GLU A  44      -2.032   3.891   7.056  1.00 97.73           O  \n",
            "ATOM    345  N   MET A  45      -8.256   4.811   5.191  1.00 97.02           N  \n",
            "ATOM    346  CA  MET A  45      -9.480   5.500   5.590  1.00 97.02           C  \n",
            "ATOM    347  C   MET A  45      -9.915   5.071   6.987  1.00 97.02           C  \n",
            "ATOM    348  CB  MET A  45     -10.602   5.228   4.587  1.00 97.02           C  \n",
            "ATOM    349  O   MET A  45     -10.003   3.876   7.275  1.00 97.02           O  \n",
            "ATOM    350  CG  MET A  45     -10.311   5.743   3.187  1.00 97.02           C  \n",
            "ATOM    351  SD  MET A  45     -11.583   5.227   1.969  1.00 97.02           S  \n",
            "ATOM    352  CE  MET A  45     -11.223   3.452   1.862  1.00 97.02           C  \n",
            "ATOM    353  N   ALA A  46     -10.087   6.122   7.786  1.00 96.99           N  \n",
            "ATOM    354  CA  ALA A  46     -10.724   5.827   9.066  1.00 96.99           C  \n",
            "ATOM    355  C   ALA A  46     -12.081   5.159   8.863  1.00 96.99           C  \n",
            "ATOM    356  CB  ALA A  46     -10.881   7.103   9.890  1.00 96.99           C  \n",
            "ATOM    357  O   ALA A  46     -12.767   5.423   7.873  1.00 96.99           O  \n",
            "ATOM    358  N   LYS A  47     -12.515   4.273   9.750  1.00 95.22           N  \n",
            "ATOM    359  CA  LYS A  47     -13.755   3.514   9.614  1.00 95.22           C  \n",
            "ATOM    360  C   LYS A  47     -14.966   4.441   9.587  1.00 95.22           C  \n",
            "ATOM    361  CB  LYS A  47     -13.893   2.504  10.753  1.00 95.22           C  \n",
            "ATOM    362  O   LYS A  47     -15.999   4.106   9.003  1.00 95.22           O  \n",
            "ATOM    363  CG  LYS A  47     -12.859   1.388  10.721  1.00 95.22           C  \n",
            "ATOM    364  CD  LYS A  47     -13.073   0.394  11.855  1.00 95.22           C  \n",
            "ATOM    365  CE  LYS A  47     -12.024  -0.709  11.838  1.00 95.22           C  \n",
            "ATOM    366  NZ  LYS A  47     -12.224  -1.682  12.954  1.00 95.22           N  \n",
            "ATOM    367  N   GLY A  48     -14.905   5.586  10.150  1.00 96.30           N  \n",
            "ATOM    368  CA  GLY A  48     -15.987   6.557  10.136  1.00 96.30           C  \n",
            "ATOM    369  C   GLY A  48     -16.042   7.371   8.856  1.00 96.30           C  \n",
            "ATOM    370  O   GLY A  48     -16.962   8.168   8.660  1.00 96.30           O  \n",
            "ATOM    371  N   HIS A  49     -15.154   7.208   7.966  1.00 95.44           N  \n",
            "ATOM    372  CA  HIS A  49     -15.073   7.959   6.719  1.00 95.44           C  \n",
            "ATOM    373  C   HIS A  49     -15.378   7.069   5.519  1.00 95.44           C  \n",
            "ATOM    374  CB  HIS A  49     -13.690   8.594   6.564  1.00 95.44           C  \n",
            "ATOM    375  O   HIS A  49     -15.276   7.509   4.371  1.00 95.44           O  \n",
            "ATOM    376  CG  HIS A  49     -13.356   9.575   7.642  1.00 95.44           C  \n",
            "ATOM    377  CD2 HIS A  49     -14.034   9.937   8.756  1.00 95.44           C  \n",
            "ATOM    378  ND1 HIS A  49     -12.195  10.318   7.638  1.00 95.44           N  \n",
            "ATOM    379  CE1 HIS A  49     -12.174  11.096   8.708  1.00 95.44           C  \n",
            "ATOM    380  NE2 HIS A  49     -13.278  10.883   9.403  1.00 95.44           N  \n",
            "ATOM    381  N   PHE A  50     -15.689   5.790   5.824  1.00 95.85           N  \n",
            "ATOM    382  CA  PHE A  50     -15.919   4.856   4.728  1.00 95.85           C  \n",
            "ATOM    383  C   PHE A  50     -17.255   4.142   4.897  1.00 95.85           C  \n",
            "ATOM    384  CB  PHE A  50     -14.783   3.832   4.645  1.00 95.85           C  \n",
            "ATOM    385  O   PHE A  50     -17.531   3.571   5.954  1.00 95.85           O  \n",
            "ATOM    386  CG  PHE A  50     -14.773   3.039   3.366  1.00 95.85           C  \n",
            "ATOM    387  CD1 PHE A  50     -15.221   1.724   3.344  1.00 95.85           C  \n",
            "ATOM    388  CD2 PHE A  50     -14.316   3.610   2.185  1.00 95.85           C  \n",
            "ATOM    389  CE1 PHE A  50     -15.213   0.988   2.161  1.00 95.85           C  \n",
            "ATOM    390  CE2 PHE A  50     -14.305   2.880   0.999  1.00 95.85           C  \n",
            "ATOM    391  CZ  PHE A  50     -14.753   1.569   0.990  1.00 95.85           C  \n",
            "ATOM    392  N   GLY A  51     -18.127   4.220   3.838  1.00 95.09           N  \n",
            "ATOM    393  CA  GLY A  51     -19.420   3.555   3.839  1.00 95.09           C  \n",
            "ATOM    394  C   GLY A  51     -19.461   2.328   2.947  1.00 95.09           C  \n",
            "ATOM    395  O   GLY A  51     -18.876   2.323   1.862  1.00 95.09           O  \n",
            "ATOM    396  N   ILE A  52     -20.028   1.279   3.499  1.00 94.56           N  \n",
            "ATOM    397  CA  ILE A  52     -20.292   0.070   2.727  1.00 94.56           C  \n",
            "ATOM    398  C   ILE A  52     -21.789  -0.230   2.733  1.00 94.56           C  \n",
            "ATOM    399  CB  ILE A  52     -19.501  -1.137   3.279  1.00 94.56           C  \n",
            "ATOM    400  O   ILE A  52     -22.376  -0.468   3.791  1.00 94.56           O  \n",
            "ATOM    401  CG1 ILE A  52     -18.012  -0.792   3.397  1.00 94.56           C  \n",
            "ATOM    402  CG2 ILE A  52     -19.709  -2.369   2.393  1.00 94.56           C  \n",
            "ATOM    403  CD1 ILE A  52     -17.208  -1.790   4.218  1.00 94.56           C  \n",
            "ATOM    404  N   GLY A  53     -22.434  -0.184   1.584  1.00 94.84           N  \n",
            "ATOM    405  CA  GLY A  53     -23.863  -0.449   1.523  1.00 94.84           C  \n",
            "ATOM    406  C   GLY A  53     -24.688   0.542   2.323  1.00 94.84           C  \n",
            "ATOM    407  O   GLY A  53     -25.696   0.172   2.928  1.00 94.84           O  \n",
            "ATOM    408  N   GLY A  54     -24.308   1.779   2.454  1.00 96.19           N  \n",
            "ATOM    409  CA  GLY A  54     -25.052   2.832   3.125  1.00 96.19           C  \n",
            "ATOM    410  C   GLY A  54     -24.753   2.922   4.610  1.00 96.19           C  \n",
            "ATOM    411  O   GLY A  54     -25.394   3.687   5.333  1.00 96.19           O  \n",
            "ATOM    412  N   GLU A  55     -23.844   2.100   5.200  1.00 97.16           N  \n",
            "ATOM    413  CA  GLU A  55     -23.478   2.094   6.613  1.00 97.16           C  \n",
            "ATOM    414  C   GLU A  55     -21.987   2.362   6.798  1.00 97.16           C  \n",
            "ATOM    415  CB  GLU A  55     -23.856   0.759   7.261  1.00 97.16           C  \n",
            "ATOM    416  O   GLU A  55     -21.166   1.921   5.991  1.00 97.16           O  \n",
            "ATOM    417  CG  GLU A  55     -25.354   0.491   7.287  1.00 97.16           C  \n",
            "ATOM    418  CD  GLU A  55     -25.732  -0.717   8.129  1.00 97.16           C  \n",
            "ATOM    419  OE1 GLU A  55     -26.943  -0.955   8.340  1.00 97.16           O  \n",
            "ATOM    420  OE2 GLU A  55     -24.810  -1.431   8.583  1.00 97.16           O  \n",
            "ATOM    421  N   LEU A  56     -21.748   3.119   7.825  1.00 95.96           N  \n",
            "ATOM    422  CA  LEU A  56     -20.347   3.363   8.150  1.00 95.96           C  \n",
            "ATOM    423  C   LEU A  56     -19.599   2.050   8.356  1.00 95.96           C  \n",
            "ATOM    424  CB  LEU A  56     -20.231   4.233   9.404  1.00 95.96           C  \n",
            "ATOM    425  O   LEU A  56     -20.136   1.112   8.950  1.00 95.96           O  \n",
            "ATOM    426  CG  LEU A  56     -20.552   5.718   9.231  1.00 95.96           C  \n",
            "ATOM    427  CD1 LEU A  56     -20.589   6.414  10.588  1.00 95.96           C  \n",
            "ATOM    428  CD2 LEU A  56     -19.533   6.382   8.311  1.00 95.96           C  \n",
            "ATOM    429  N   ALA A  57     -18.361   2.063   7.868  1.00 93.86           N  \n",
            "ATOM    430  CA  ALA A  57     -17.540   0.875   8.086  1.00 93.86           C  \n",
            "ATOM    431  C   ALA A  57     -17.265   0.662   9.572  1.00 93.86           C  \n",
            "ATOM    432  CB  ALA A  57     -16.226   0.987   7.316  1.00 93.86           C  \n",
            "ATOM    433  O   ALA A  57     -16.929  -0.446   9.996  1.00 93.86           O  \n",
            "ATOM    434  N   SER A  58     -17.432   1.664  10.295  1.00 93.29           N  \n",
            "ATOM    435  CA  SER A  58     -17.229   1.587  11.738  1.00 93.29           C  \n",
            "ATOM    436  C   SER A  58     -18.376   0.850  12.420  1.00 93.29           C  \n",
            "ATOM    437  CB  SER A  58     -17.086   2.988  12.335  1.00 93.29           C  \n",
            "ATOM    438  O   SER A  58     -18.237   0.388  13.555  1.00 93.29           O  \n",
            "ATOM    439  OG  SER A  58     -18.237   3.770  12.064  1.00 93.29           O  \n",
            "ATOM    440  N   LYS A  59     -19.528   0.792  11.671  1.00 84.54           N  \n",
            "ATOM    441  CA  LYS A  59     -20.684   0.132  12.271  1.00 84.54           C  \n",
            "ATOM    442  C   LYS A  59     -20.725  -1.348  11.904  1.00 84.54           C  \n",
            "ATOM    443  CB  LYS A  59     -21.980   0.817  11.833  1.00 84.54           C  \n",
            "ATOM    444  O   LYS A  59     -21.090  -2.188  12.729  1.00 84.54           O  \n",
            "ATOM    445  CG  LYS A  59     -22.205   2.181  12.468  1.00 84.54           C  \n",
            "ATOM    446  CD  LYS A  59     -23.595   2.720  12.157  1.00 84.54           C  \n",
            "ATOM    447  CE  LYS A  59     -23.829   4.076  12.809  1.00 84.54           C  \n",
            "ATOM    448  NZ  LYS A  59     -25.195   4.604  12.515  1.00 84.54           N  \n",
            "TER     449      LYS A  59                                                      \n",
            "ENDMDL                                                                          \n",
            "END                                                                             \n",
            "\n"
          ]
        }
      ]
    },
    {
      "cell_type": "code",
      "metadata": {
        "id": "11l8k--10q0C",
        "colab": {
          "base_uri": "https://localhost:8080/",
          "height": 1000
        },
        "outputId": "075fa467-0cb8-4bd7-e8d6-2ff581b01fa1"
      },
      "source": [
        "!pip install py3Dmol\n",
        "!pip install colabfold\n",
        "import py3Dmol\n",
        "import glob\n",
        "import matplotlib.pyplot as plt\n",
        "from colabfold.colabfold import plot_plddt_legend"
      ],
      "execution_count": 9,
      "outputs": [
        {
          "output_type": "stream",
          "name": "stdout",
          "text": [
            "Looking in indexes: https://pypi.org/simple, https://us-python.pkg.dev/colab-wheels/public/simple/\n",
            "Requirement already satisfied: py3Dmol in /usr/local/lib/python3.7/dist-packages (1.8.1)\n",
            "Looking in indexes: https://pypi.org/simple, https://us-python.pkg.dev/colab-wheels/public/simple/\n",
            "Requirement already satisfied: colabfold in /usr/local/lib/python3.7/dist-packages (1.2.0)\n",
            "Requirement already satisfied: appdirs<2.0.0,>=1.4.4 in /usr/local/lib/python3.7/dist-packages (from colabfold) (1.4.4)\n",
            "Requirement already satisfied: numpy<2.0.0,>=1.19.0 in /usr/local/lib/python3.7/dist-packages (from colabfold) (1.21.6)\n",
            "Requirement already satisfied: dm-haiku<0.0.5,>=0.0.4 in /usr/local/lib/python3.7/dist-packages (from colabfold) (0.0.4)\n",
            "Requirement already satisfied: tensorflow-cpu<3.0.0,>=2.6.0 in /usr/local/lib/python3.7/dist-packages (from colabfold) (2.8.3)\n",
            "Requirement already satisfied: requests<3.0.0,>=2.26.0 in /usr/local/lib/python3.7/dist-packages (from colabfold) (2.28.1)\n",
            "Requirement already satisfied: matplotlib==3.1.3 in /usr/local/lib/python3.7/dist-packages (from colabfold) (3.1.3)\n",
            "Requirement already satisfied: py3Dmol<2.0.0,>=1.7.0 in /usr/local/lib/python3.7/dist-packages (from colabfold) (1.8.1)\n",
            "Requirement already satisfied: absl-py<0.14.0,>=0.13.0 in /usr/local/lib/python3.7/dist-packages (from colabfold) (0.13.0)\n",
            "Requirement already satisfied: tqdm<5.0.0,>=4.62.2 in /usr/local/lib/python3.7/dist-packages (from colabfold) (4.64.1)\n",
            "Requirement already satisfied: pandas<2.0.0,>=1.3.3 in /usr/local/lib/python3.7/dist-packages (from colabfold) (1.3.5)\n",
            "Requirement already satisfied: kiwisolver>=1.0.1 in /usr/local/lib/python3.7/dist-packages (from matplotlib==3.1.3->colabfold) (1.4.4)\n",
            "Requirement already satisfied: python-dateutil>=2.1 in /usr/local/lib/python3.7/dist-packages (from matplotlib==3.1.3->colabfold) (2.8.2)\n",
            "Requirement already satisfied: pyparsing!=2.0.4,!=2.1.2,!=2.1.6,>=2.0.1 in /usr/local/lib/python3.7/dist-packages (from matplotlib==3.1.3->colabfold) (3.0.9)\n",
            "Requirement already satisfied: cycler>=0.10 in /usr/local/lib/python3.7/dist-packages (from matplotlib==3.1.3->colabfold) (0.11.0)\n",
            "Requirement already satisfied: six in /usr/local/lib/python3.7/dist-packages (from absl-py<0.14.0,>=0.13.0->colabfold) (1.15.0)\n",
            "Requirement already satisfied: typing-extensions in /usr/local/lib/python3.7/dist-packages (from dm-haiku<0.0.5,>=0.0.4->colabfold) (4.1.1)\n",
            "Requirement already satisfied: tabulate>=0.8.9 in /usr/local/lib/python3.7/dist-packages (from dm-haiku<0.0.5,>=0.0.4->colabfold) (0.8.10)\n",
            "Requirement already satisfied: pytz>=2017.3 in /usr/local/lib/python3.7/dist-packages (from pandas<2.0.0,>=1.3.3->colabfold) (2022.5)\n",
            "Requirement already satisfied: idna<4,>=2.5 in /usr/local/lib/python3.7/dist-packages (from requests<3.0.0,>=2.26.0->colabfold) (2.10)\n",
            "Requirement already satisfied: charset-normalizer<3,>=2 in /usr/local/lib/python3.7/dist-packages (from requests<3.0.0,>=2.26.0->colabfold) (2.1.1)\n",
            "Requirement already satisfied: certifi>=2017.4.17 in /usr/local/lib/python3.7/dist-packages (from requests<3.0.0,>=2.26.0->colabfold) (2022.9.24)\n",
            "Requirement already satisfied: urllib3<1.27,>=1.21.1 in /usr/local/lib/python3.7/dist-packages (from requests<3.0.0,>=2.26.0->colabfold) (1.24.3)\n",
            "Requirement already satisfied: google-pasta>=0.1.1 in /usr/local/lib/python3.7/dist-packages (from tensorflow-cpu<3.0.0,>=2.6.0->colabfold) (0.2.0)\n",
            "Requirement already satisfied: astunparse>=1.6.0 in /usr/local/lib/python3.7/dist-packages (from tensorflow-cpu<3.0.0,>=2.6.0->colabfold) (1.6.3)\n",
            "Requirement already satisfied: opt-einsum>=2.3.2 in /usr/local/lib/python3.7/dist-packages (from tensorflow-cpu<3.0.0,>=2.6.0->colabfold) (3.3.0)\n",
            "Requirement already satisfied: flatbuffers>=1.12 in /usr/local/lib/python3.7/dist-packages (from tensorflow-cpu<3.0.0,>=2.6.0->colabfold) (1.12)\n",
            "Requirement already satisfied: tensorboard<2.9,>=2.8 in /usr/local/lib/python3.7/dist-packages (from tensorflow-cpu<3.0.0,>=2.6.0->colabfold) (2.8.0)\n",
            "Requirement already satisfied: keras<2.9,>=2.8.0rc0 in /usr/local/lib/python3.7/dist-packages (from tensorflow-cpu<3.0.0,>=2.6.0->colabfold) (2.8.0)\n",
            "Requirement already satisfied: termcolor>=1.1.0 in /usr/local/lib/python3.7/dist-packages (from tensorflow-cpu<3.0.0,>=2.6.0->colabfold) (2.0.1)\n",
            "Requirement already satisfied: protobuf<3.20,>=3.9.2 in /usr/local/lib/python3.7/dist-packages (from tensorflow-cpu<3.0.0,>=2.6.0->colabfold) (3.17.3)\n",
            "Requirement already satisfied: keras-preprocessing>=1.1.1 in /usr/local/lib/python3.7/dist-packages (from tensorflow-cpu<3.0.0,>=2.6.0->colabfold) (1.1.2)\n",
            "Requirement already satisfied: tensorflow-estimator<2.9,>=2.8 in /usr/local/lib/python3.7/dist-packages (from tensorflow-cpu<3.0.0,>=2.6.0->colabfold) (2.8.0)\n",
            "Requirement already satisfied: grpcio<2.0,>=1.24.3 in /usr/local/lib/python3.7/dist-packages (from tensorflow-cpu<3.0.0,>=2.6.0->colabfold) (1.50.0)\n",
            "Requirement already satisfied: h5py>=2.9.0 in /usr/local/lib/python3.7/dist-packages (from tensorflow-cpu<3.0.0,>=2.6.0->colabfold) (3.1.0)\n",
            "Requirement already satisfied: gast>=0.2.1 in /usr/local/lib/python3.7/dist-packages (from tensorflow-cpu<3.0.0,>=2.6.0->colabfold) (0.4.0)\n",
            "Requirement already satisfied: wrapt>=1.11.0 in /usr/local/lib/python3.7/dist-packages (from tensorflow-cpu<3.0.0,>=2.6.0->colabfold) (1.14.1)\n",
            "Requirement already satisfied: libclang>=9.0.1 in /usr/local/lib/python3.7/dist-packages (from tensorflow-cpu<3.0.0,>=2.6.0->colabfold) (14.0.6)\n",
            "Requirement already satisfied: setuptools in /usr/local/lib/python3.7/dist-packages (from tensorflow-cpu<3.0.0,>=2.6.0->colabfold) (57.4.0)\n",
            "Requirement already satisfied: tensorflow-io-gcs-filesystem>=0.23.1 in /usr/local/lib/python3.7/dist-packages (from tensorflow-cpu<3.0.0,>=2.6.0->colabfold) (0.27.0)\n",
            "Requirement already satisfied: wheel<1.0,>=0.23.0 in /usr/local/lib/python3.7/dist-packages (from astunparse>=1.6.0->tensorflow-cpu<3.0.0,>=2.6.0->colabfold) (0.37.1)\n",
            "Requirement already satisfied: cached-property in /usr/local/lib/python3.7/dist-packages (from h5py>=2.9.0->tensorflow-cpu<3.0.0,>=2.6.0->colabfold) (1.5.2)\n",
            "Requirement already satisfied: werkzeug>=0.11.15 in /usr/local/lib/python3.7/dist-packages (from tensorboard<2.9,>=2.8->tensorflow-cpu<3.0.0,>=2.6.0->colabfold) (1.0.1)\n",
            "Requirement already satisfied: tensorboard-plugin-wit>=1.6.0 in /usr/local/lib/python3.7/dist-packages (from tensorboard<2.9,>=2.8->tensorflow-cpu<3.0.0,>=2.6.0->colabfold) (1.8.1)\n",
            "Requirement already satisfied: tensorboard-data-server<0.7.0,>=0.6.0 in /usr/local/lib/python3.7/dist-packages (from tensorboard<2.9,>=2.8->tensorflow-cpu<3.0.0,>=2.6.0->colabfold) (0.6.1)\n",
            "Requirement already satisfied: markdown>=2.6.8 in /usr/local/lib/python3.7/dist-packages (from tensorboard<2.9,>=2.8->tensorflow-cpu<3.0.0,>=2.6.0->colabfold) (3.4.1)\n",
            "Requirement already satisfied: google-auth<3,>=1.6.3 in /usr/local/lib/python3.7/dist-packages (from tensorboard<2.9,>=2.8->tensorflow-cpu<3.0.0,>=2.6.0->colabfold) (1.35.0)\n",
            "Requirement already satisfied: google-auth-oauthlib<0.5,>=0.4.1 in /usr/local/lib/python3.7/dist-packages (from tensorboard<2.9,>=2.8->tensorflow-cpu<3.0.0,>=2.6.0->colabfold) (0.4.6)\n",
            "Requirement already satisfied: pyasn1-modules>=0.2.1 in /usr/local/lib/python3.7/dist-packages (from google-auth<3,>=1.6.3->tensorboard<2.9,>=2.8->tensorflow-cpu<3.0.0,>=2.6.0->colabfold) (0.2.8)\n",
            "Requirement already satisfied: cachetools<5.0,>=2.0.0 in /usr/local/lib/python3.7/dist-packages (from google-auth<3,>=1.6.3->tensorboard<2.9,>=2.8->tensorflow-cpu<3.0.0,>=2.6.0->colabfold) (4.2.4)\n",
            "Requirement already satisfied: rsa<5,>=3.1.4 in /usr/local/lib/python3.7/dist-packages (from google-auth<3,>=1.6.3->tensorboard<2.9,>=2.8->tensorflow-cpu<3.0.0,>=2.6.0->colabfold) (4.9)\n",
            "Requirement already satisfied: requests-oauthlib>=0.7.0 in /usr/local/lib/python3.7/dist-packages (from google-auth-oauthlib<0.5,>=0.4.1->tensorboard<2.9,>=2.8->tensorflow-cpu<3.0.0,>=2.6.0->colabfold) (1.3.1)\n",
            "Requirement already satisfied: importlib-metadata>=4.4 in /usr/local/lib/python3.7/dist-packages (from markdown>=2.6.8->tensorboard<2.9,>=2.8->tensorflow-cpu<3.0.0,>=2.6.0->colabfold) (4.13.0)\n",
            "Requirement already satisfied: zipp>=0.5 in /usr/local/lib/python3.7/dist-packages (from importlib-metadata>=4.4->markdown>=2.6.8->tensorboard<2.9,>=2.8->tensorflow-cpu<3.0.0,>=2.6.0->colabfold) (3.9.0)\n",
            "Requirement already satisfied: pyasn1<0.5.0,>=0.4.6 in /usr/local/lib/python3.7/dist-packages (from pyasn1-modules>=0.2.1->google-auth<3,>=1.6.3->tensorboard<2.9,>=2.8->tensorflow-cpu<3.0.0,>=2.6.0->colabfold) (0.4.8)\n",
            "Requirement already satisfied: oauthlib>=3.0.0 in /usr/local/lib/python3.7/dist-packages (from requests-oauthlib>=0.7.0->google-auth-oauthlib<0.5,>=0.4.1->tensorboard<2.9,>=2.8->tensorflow-cpu<3.0.0,>=2.6.0->colabfold) (3.2.2)\n"
          ]
        },
        {
          "output_type": "display_data",
          "data": {
            "application/3dmoljs_load.v0": "<div id=\"3dmolviewer_1666918640662496\"  style=\"position: relative; width: 640px; height: 480px\">\n        <p id=\"3dmolwarning_1666918640662496\" style=\"background-color:#ffcccc;color:black\">You appear to be running in JupyterLab (or JavaScript failed to load for some other reason).  You need to install the 3dmol extension: <br>\n        <tt>jupyter labextension install jupyterlab_3dmol</tt></p>\n        </div>\n<script>\n\nvar loadScriptAsync = function(uri){\n  return new Promise((resolve, reject) => {\n    var tag = document.createElement('script');\n    tag.src = uri;\n    tag.async = true;\n    tag.onload = () => {\n      resolve();\n    };\n  var firstScriptTag = document.getElementsByTagName('script')[0];\n  firstScriptTag.parentNode.insertBefore(tag, firstScriptTag);\n});\n};\n\nif(typeof $3Dmolpromise === 'undefined') {\n$3Dmolpromise = null;\n  $3Dmolpromise = loadScriptAsync('https://3dmol.org/build/3Dmol.js');\n}\n\nvar viewer_1666918640662496 = null;\nvar warn = document.getElementById(\"3dmolwarning_1666918640662496\");\nif(warn) {\n    warn.parentNode.removeChild(warn);\n}\n$3Dmolpromise.then(function() {\nviewer_1666918640662496 = $3Dmol.createViewer($(\"#3dmolviewer_1666918640662496\"),{backgroundColor:\"white\"});\nviewer_1666918640662496.zoomTo();\n\tviewer_1666918640662496.addModel(\"MODEL     1                                                                     \\nATOM      1  N   MET A   1       1.638 -17.573 -17.141  1.00 50.86           N  \\nATOM      2  CA  MET A   1       1.383 -17.641 -15.705  1.00 50.86           C  \\nATOM      3  C   MET A   1       0.432 -16.531 -15.268  1.00 50.86           C  \\nATOM      4  CB  MET A   1       2.692 -17.546 -14.920  1.00 50.86           C  \\nATOM      5  O   MET A   1       0.479 -15.422 -15.803  1.00 50.86           O  \\nATOM      6  CG  MET A   1       3.419 -18.874 -14.777  1.00 50.86           C  \\nATOM      7  SD  MET A   1       4.725 -18.826 -13.490  1.00 50.86           S  \\nATOM      8  CE  MET A   1       5.714 -20.266 -13.983  1.00 50.86           C  \\nATOM      9  N   SER A   2      -0.695 -16.829 -14.639  1.00 75.17           N  \\nATOM     10  CA  SER A   2      -1.673 -15.870 -14.138  1.00 75.17           C  \\nATOM     11  C   SER A   2      -1.047 -14.919 -13.124  1.00 75.17           C  \\nATOM     12  CB  SER A   2      -2.860 -16.596 -13.503  1.00 75.17           C  \\nATOM     13  O   SER A   2      -0.139 -15.304 -12.383  1.00 75.17           O  \\nATOM     14  OG  SER A   2      -2.482 -17.202 -12.279  1.00 75.17           O  \\nATOM     15  N   LYS A   3      -1.148 -13.567 -13.282  1.00 89.48           N  \\nATOM     16  CA  LYS A   3      -0.738 -12.506 -12.367  1.00 89.48           C  \\nATOM     17  C   LYS A   3      -1.279 -12.752 -10.962  1.00 89.48           C  \\nATOM     18  CB  LYS A   3      -1.208 -11.143 -12.879  1.00 89.48           C  \\nATOM     19  O   LYS A   3      -2.335 -13.367 -10.796  1.00 89.48           O  \\nATOM     20  CG  LYS A   3      -0.533 -10.700 -14.168  1.00 89.48           C  \\nATOM     21  CD  LYS A   3      -0.968  -9.298 -14.573  1.00 89.48           C  \\nATOM     22  CE  LYS A   3      -0.241  -8.825 -15.825  1.00 89.48           C  \\nATOM     23  NZ  LYS A   3      -0.606  -7.422 -16.181  1.00 89.48           N  \\nATOM     24  N   PRO A   4      -0.463 -12.444  -9.891  1.00 96.52           N  \\nATOM     25  CA  PRO A   4      -1.033 -12.492  -8.543  1.00 96.52           C  \\nATOM     26  C   PRO A   4      -2.358 -11.741  -8.434  1.00 96.52           C  \\nATOM     27  CB  PRO A   4       0.044 -11.828  -7.681  1.00 96.52           C  \\nATOM     28  O   PRO A   4      -2.639 -10.859  -9.250  1.00 96.52           O  \\nATOM     29  CG  PRO A   4       1.308 -11.981  -8.464  1.00 96.52           C  \\nATOM     30  CD  PRO A   4       0.977 -11.897  -9.926  1.00 96.52           C  \\nATOM     31  N   GLN A   5      -3.214 -12.212  -7.492  1.00 97.61           N  \\nATOM     32  CA  GLN A   5      -4.458 -11.489  -7.247  1.00 97.61           C  \\nATOM     33  C   GLN A   5      -4.204  -9.992  -7.097  1.00 97.61           C  \\nATOM     34  CB  GLN A   5      -5.157 -12.031  -5.999  1.00 97.61           C  \\nATOM     35  O   GLN A   5      -3.372  -9.576  -6.288  1.00 97.61           O  \\nATOM     36  CG  GLN A   5      -6.514 -11.395  -5.730  1.00 97.61           C  \\nATOM     37  CD  GLN A   5      -7.091 -11.791  -4.383  1.00 97.61           C  \\nATOM     38  NE2 GLN A   5      -8.416 -11.797  -4.285  1.00 97.61           N  \\nATOM     39  OE1 GLN A   5      -6.352 -12.089  -3.440  1.00 97.61           O  \\nATOM     40  N   PRO A   6      -4.843  -9.128  -7.826  1.00 98.44           N  \\nATOM     41  CA  PRO A   6      -4.637  -7.684  -7.690  1.00 98.44           C  \\nATOM     42  C   PRO A   6      -5.166  -7.135  -6.367  1.00 98.44           C  \\nATOM     43  CB  PRO A   6      -5.416  -7.103  -8.873  1.00 98.44           C  \\nATOM     44  O   PRO A   6      -6.063  -7.727  -5.763  1.00 98.44           O  \\nATOM     45  CG  PRO A   6      -6.502  -8.095  -9.139  1.00 98.44           C  \\nATOM     46  CD  PRO A   6      -5.980  -9.468  -8.825  1.00 98.44           C  \\nATOM     47  N   ILE A   7      -4.564  -5.945  -5.998  1.00 98.87           N  \\nATOM     48  CA  ILE A   7      -5.028  -5.176  -4.848  1.00 98.87           C  \\nATOM     49  C   ILE A   7      -5.362  -3.750  -5.282  1.00 98.87           C  \\nATOM     50  CB  ILE A   7      -3.977  -5.160  -3.716  1.00 98.87           C  \\nATOM     51  O   ILE A   7      -4.581  -3.112  -5.993  1.00 98.87           O  \\nATOM     52  CG1 ILE A   7      -3.728  -6.581  -3.198  1.00 98.87           C  \\nATOM     53  CG2 ILE A   7      -4.420  -4.232  -2.581  1.00 98.87           C  \\nATOM     54  CD1 ILE A   7      -2.640  -6.671  -2.137  1.00 98.87           C  \\nATOM     55  N   ALA A   8      -6.554  -3.327  -4.936  1.00 98.79           N  \\nATOM     56  CA  ALA A   8      -6.911  -1.912  -4.984  1.00 98.79           C  \\nATOM     57  C   ALA A   8      -7.031  -1.328  -3.579  1.00 98.79           C  \\nATOM     58  CB  ALA A   8      -8.216  -1.718  -5.751  1.00 98.79           C  \\nATOM     59  O   ALA A   8      -7.990  -1.617  -2.860  1.00 98.79           O  \\nATOM     60  N   ALA A   9      -5.977  -0.589  -3.231  1.00 98.89           N  \\nATOM     61  CA  ALA A   9      -5.905  -0.067  -1.868  1.00 98.89           C  \\nATOM     62  C   ALA A   9      -6.203   1.429  -1.838  1.00 98.89           C  \\nATOM     63  CB  ALA A   9      -4.531  -0.345  -1.264  1.00 98.89           C  \\nATOM     64  O   ALA A   9      -5.591   2.205  -2.576  1.00 98.89           O  \\nATOM     65  N   ALA A  10      -7.182   1.747  -1.053  1.00 98.75           N  \\nATOM     66  CA  ALA A  10      -7.558   3.141  -0.829  1.00 98.75           C  \\nATOM     67  C   ALA A  10      -6.907   3.689   0.437  1.00 98.75           C  \\nATOM     68  CB  ALA A  10      -9.077   3.275  -0.744  1.00 98.75           C  \\nATOM     69  O   ALA A  10      -7.309   3.341   1.550  1.00 98.75           O  \\nATOM     70  N   ASN A  11      -5.889   4.435   0.197  1.00 98.71           N  \\nATOM     71  CA  ASN A  11      -5.285   5.163   1.308  1.00 98.71           C  \\nATOM     72  C   ASN A  11      -5.846   6.577   1.423  1.00 98.71           C  \\nATOM     73  CB  ASN A  11      -3.763   5.206   1.157  1.00 98.71           C  \\nATOM     74  O   ASN A  11      -5.433   7.475   0.688  1.00 98.71           O  \\nATOM     75  CG  ASN A  11      -3.076   5.855   2.343  1.00 98.71           C  \\nATOM     76  ND2 ASN A  11      -1.848   6.315   2.139  1.00 98.71           N  \\nATOM     77  OD1 ASN A  11      -3.645   5.940   3.435  1.00 98.71           O  \\nATOM     78  N   TRP A  12      -6.717   6.743   2.399  1.00 98.41           N  \\nATOM     79  CA  TRP A  12      -7.459   7.996   2.491  1.00 98.41           C  \\nATOM     80  C   TRP A  12      -6.591   9.101   3.085  1.00 98.41           C  \\nATOM     81  CB  TRP A  12      -8.722   7.813   3.337  1.00 98.41           C  \\nATOM     82  O   TRP A  12      -6.958  10.278   3.041  1.00 98.41           O  \\nATOM     83  CG  TRP A  12      -9.804   7.031   2.654  1.00 98.41           C  \\nATOM     84  CD1 TRP A  12      -9.886   6.727   1.323  1.00 98.41           C  \\nATOM     85  CD2 TRP A  12     -10.962   6.459   3.268  1.00 98.41           C  \\nATOM     86  CE2 TRP A  12     -11.704   5.820   2.250  1.00 98.41           C  \\nATOM     87  CE3 TRP A  12     -11.446   6.423   4.583  1.00 98.41           C  \\nATOM     88  NE1 TRP A  12     -11.026   5.998   1.074  1.00 98.41           N  \\nATOM     89  CH2 TRP A  12     -13.354   5.133   3.801  1.00 98.41           C  \\nATOM     90  CZ2 TRP A  12     -12.904   5.153   2.506  1.00 98.41           C  \\nATOM     91  CZ3 TRP A  12     -12.640   5.758   4.836  1.00 98.41           C  \\nATOM     92  N   LYS A  13      -5.431   8.706   3.550  1.00 97.15           N  \\nATOM     93  CA  LYS A  13      -4.495   9.653   4.151  1.00 97.15           C  \\nATOM     94  C   LYS A  13      -5.165  10.461   5.258  1.00 97.15           C  \\nATOM     95  CB  LYS A  13      -3.926  10.593   3.087  1.00 97.15           C  \\nATOM     96  O   LYS A  13      -5.834   9.898   6.127  1.00 97.15           O  \\nATOM     97  CG  LYS A  13      -3.190   9.880   1.961  1.00 97.15           C  \\nATOM     98  CD  LYS A  13      -2.607  10.870   0.961  1.00 97.15           C  \\nATOM     99  CE  LYS A  13      -1.942  10.157  -0.209  1.00 97.15           C  \\nATOM    100  NZ  LYS A  13      -1.344  11.123  -1.178  1.00 97.15           N  \\nATOM    101  N   CYS A  14      -4.871  11.710   5.259  1.00 97.04           N  \\nATOM    102  CA  CYS A  14      -5.476  12.535   6.298  1.00 97.04           C  \\nATOM    103  C   CYS A  14      -6.673  13.306   5.755  1.00 97.04           C  \\nATOM    104  CB  CYS A  14      -4.449  13.510   6.874  1.00 97.04           C  \\nATOM    105  O   CYS A  14      -6.729  14.532   5.864  1.00 97.04           O  \\nATOM    106  SG  CYS A  14      -5.022  14.385   8.347  1.00 97.04           S  \\nATOM    107  N   ASN A  15      -7.707  12.633   5.129  1.00 98.26           N  \\nATOM    108  CA  ASN A  15      -8.859  13.274   4.504  1.00 98.26           C  \\nATOM    109  C   ASN A  15     -10.165  12.590   4.899  1.00 98.26           C  \\nATOM    110  CB  ASN A  15      -8.706  13.287   2.982  1.00 98.26           C  \\nATOM    111  O   ASN A  15     -10.157  11.446   5.357  1.00 98.26           O  \\nATOM    112  CG  ASN A  15      -7.506  14.091   2.523  1.00 98.26           C  \\nATOM    113  ND2 ASN A  15      -6.534  13.416   1.922  1.00 98.26           N  \\nATOM    114  OD1 ASN A  15      -7.453  15.310   2.706  1.00 98.26           O  \\nATOM    115  N   GLY A  16     -11.216  13.430   4.691  1.00 96.55           N  \\nATOM    116  CA  GLY A  16     -12.566  12.905   4.826  1.00 96.55           C  \\nATOM    117  C   GLY A  16     -13.291  13.430   6.051  1.00 96.55           C  \\nATOM    118  O   GLY A  16     -12.666  13.974   6.963  1.00 96.55           O  \\nATOM    119  N   SER A  17     -14.616  13.434   6.037  1.00 97.45           N  \\nATOM    120  CA  SER A  17     -15.535  13.654   7.149  1.00 97.45           C  \\nATOM    121  C   SER A  17     -16.426  12.437   7.378  1.00 97.45           C  \\nATOM    122  CB  SER A  17     -16.400  14.888   6.894  1.00 97.45           C  \\nATOM    123  O   SER A  17     -16.509  11.552   6.524  1.00 97.45           O  \\nATOM    124  OG  SER A  17     -17.335  14.642   5.857  1.00 97.45           O  \\nATOM    125  N   GLN A  18     -16.983  12.321   8.582  1.00 97.62           N  \\nATOM    126  CA  GLN A  18     -17.916  11.226   8.825  1.00 97.62           C  \\nATOM    127  C   GLN A  18     -18.939  11.114   7.698  1.00 97.62           C  \\nATOM    128  CB  GLN A  18     -18.630  11.415  10.165  1.00 97.62           C  \\nATOM    129  O   GLN A  18     -19.234  10.013   7.228  1.00 97.62           O  \\nATOM    130  CG  GLN A  18     -17.738  11.176  11.376  1.00 97.62           C  \\nATOM    131  CD  GLN A  18     -18.493  11.268  12.688  1.00 97.62           C  \\nATOM    132  NE2 GLN A  18     -17.789  11.054  13.794  1.00 97.62           N  \\nATOM    133  OE1 GLN A  18     -19.700  11.529  12.708  1.00 97.62           O  \\nATOM    134  N   GLN A  19     -19.448  12.316   7.264  1.00 98.23           N  \\nATOM    135  CA  GLN A  19     -20.479  12.316   6.231  1.00 98.23           C  \\nATOM    136  C   GLN A  19     -19.918  11.840   4.894  1.00 98.23           C  \\nATOM    137  CB  GLN A  19     -21.086  13.712   6.078  1.00 98.23           C  \\nATOM    138  O   GLN A  19     -20.488  10.953   4.256  1.00 98.23           O  \\nATOM    139  CG  GLN A  19     -22.195  13.789   5.038  1.00 98.23           C  \\nATOM    140  CD  GLN A  19     -22.790  15.180   4.916  1.00 98.23           C  \\nATOM    141  NE2 GLN A  19     -23.793  15.323   4.057  1.00 98.23           N  \\nATOM    142  OE1 GLN A  19     -22.351  16.118   5.590  1.00 98.23           O  \\nATOM    143  N   SER A  20     -18.804  12.464   4.461  1.00 98.29           N  \\nATOM    144  CA  SER A  20     -18.276  12.130   3.142  1.00 98.29           C  \\nATOM    145  C   SER A  20     -17.834  10.672   3.077  1.00 98.29           C  \\nATOM    146  CB  SER A  20     -17.101  13.044   2.788  1.00 98.29           C  \\nATOM    147  O   SER A  20     -18.060   9.994   2.073  1.00 98.29           O  \\nATOM    148  OG  SER A  20     -15.982  12.765   3.611  1.00 98.29           O  \\nATOM    149  N   LEU A  21     -17.264  10.124   4.110  1.00 98.56           N  \\nATOM    150  CA  LEU A  21     -16.767   8.753   4.136  1.00 98.56           C  \\nATOM    151  C   LEU A  21     -17.919   7.760   4.245  1.00 98.56           C  \\nATOM    152  CB  LEU A  21     -15.796   8.556   5.302  1.00 98.56           C  \\nATOM    153  O   LEU A  21     -17.866   6.674   3.663  1.00 98.56           O  \\nATOM    154  CG  LEU A  21     -14.488   9.346   5.236  1.00 98.56           C  \\nATOM    155  CD1 LEU A  21     -13.629   9.054   6.462  1.00 98.56           C  \\nATOM    156  CD2 LEU A  21     -13.729   9.017   3.955  1.00 98.56           C  \\nATOM    157  N   SER A  22     -18.937   8.147   4.985  1.00 98.31           N  \\nATOM    158  CA  SER A  22     -20.123   7.298   5.041  1.00 98.31           C  \\nATOM    159  C   SER A  22     -20.756   7.142   3.662  1.00 98.31           C  \\nATOM    160  CB  SER A  22     -21.148   7.872   6.019  1.00 98.31           C  \\nATOM    161  O   SER A  22     -21.172   6.045   3.285  1.00 98.31           O  \\nATOM    162  OG  SER A  22     -20.673   7.789   7.352  1.00 98.31           O  \\nATOM    163  N   GLU A  23     -20.849   8.246   2.948  1.00 98.55           N  \\nATOM    164  CA  GLU A  23     -21.387   8.197   1.592  1.00 98.55           C  \\nATOM    165  C   GLU A  23     -20.530   7.314   0.689  1.00 98.55           C  \\nATOM    166  CB  GLU A  23     -21.491   9.606   1.003  1.00 98.55           C  \\nATOM    167  O   GLU A  23     -21.057   6.515  -0.088  1.00 98.55           O  \\nATOM    168  CG  GLU A  23     -22.590  10.454   1.627  1.00 98.55           C  \\nATOM    169  CD  GLU A  23     -22.551  11.908   1.185  1.00 98.55           C  \\nATOM    170  OE1 GLU A  23     -23.431  12.694   1.604  1.00 98.55           O  \\nATOM    171  OE2 GLU A  23     -21.633  12.264   0.413  1.00 98.55           O  \\nATOM    172  N   LEU A  24     -19.269   7.466   0.837  1.00 98.66           N  \\nATOM    173  CA  LEU A  24     -18.345   6.672   0.035  1.00 98.66           C  \\nATOM    174  C   LEU A  24     -18.453   5.192   0.386  1.00 98.66           C  \\nATOM    175  CB  LEU A  24     -16.906   7.154   0.242  1.00 98.66           C  \\nATOM    176  O   LEU A  24     -18.488   4.340  -0.504  1.00 98.66           O  \\nATOM    177  CG  LEU A  24     -15.859   6.595  -0.722  1.00 98.66           C  \\nATOM    178  CD1 LEU A  24     -16.254   6.893  -2.165  1.00 98.66           C  \\nATOM    179  CD2 LEU A  24     -14.482   7.171  -0.410  1.00 98.66           C  \\nATOM    180  N   ILE A  25     -18.533   4.878   1.624  1.00 98.74           N  \\nATOM    181  CA  ILE A  25     -18.666   3.503   2.091  1.00 98.74           C  \\nATOM    182  C   ILE A  25     -19.968   2.903   1.566  1.00 98.74           C  \\nATOM    183  CB  ILE A  25     -18.623   3.422   3.634  1.00 98.74           C  \\nATOM    184  O   ILE A  25     -19.999   1.745   1.142  1.00 98.74           O  \\nATOM    185  CG1 ILE A  25     -17.204   3.701   4.144  1.00 98.74           C  \\nATOM    186  CG2 ILE A  25     -19.121   2.058   4.118  1.00 98.74           C  \\nATOM    187  CD1 ILE A  25     -17.124   3.952   5.643  1.00 98.74           C  \\nATOM    188  N   ASP A  26     -21.054   3.705   1.580  1.00 98.69           N  \\nATOM    189  CA  ASP A  26     -22.312   3.224   1.017  1.00 98.69           C  \\nATOM    190  C   ASP A  26     -22.147   2.848  -0.454  1.00 98.69           C  \\nATOM    191  CB  ASP A  26     -23.407   4.282   1.170  1.00 98.69           C  \\nATOM    192  O   ASP A  26     -22.673   1.827  -0.901  1.00 98.69           O  \\nATOM    193  CG  ASP A  26     -23.863   4.460   2.607  1.00 98.69           C  \\nATOM    194  OD1 ASP A  26     -23.585   3.578   3.449  1.00 98.69           O  \\nATOM    195  OD2 ASP A  26     -24.509   5.489   2.900  1.00 98.69           O  \\nATOM    196  N   LEU A  27     -21.439   3.682  -1.090  1.00 98.70           N  \\nATOM    197  CA  LEU A  27     -21.172   3.395  -2.495  1.00 98.70           C  \\nATOM    198  C   LEU A  27     -20.386   2.097  -2.645  1.00 98.70           C  \\nATOM    199  CB  LEU A  27     -20.403   4.549  -3.142  1.00 98.70           C  \\nATOM    200  O   LEU A  27     -20.737   1.244  -3.463  1.00 98.70           O  \\nATOM    201  CG  LEU A  27     -19.886   4.309  -4.561  1.00 98.70           C  \\nATOM    202  CD1 LEU A  27     -21.053   4.168  -5.533  1.00 98.70           C  \\nATOM    203  CD2 LEU A  27     -18.959   5.440  -4.992  1.00 98.70           C  \\nATOM    204  N   PHE A  28     -19.279   1.955  -1.849  1.00 98.64           N  \\nATOM    205  CA  PHE A  28     -18.477   0.739  -1.917  1.00 98.64           C  \\nATOM    206  C   PHE A  28     -19.333  -0.491  -1.637  1.00 98.64           C  \\nATOM    207  CB  PHE A  28     -17.313   0.806  -0.923  1.00 98.64           C  \\nATOM    208  O   PHE A  28     -19.220  -1.503  -2.332  1.00 98.64           O  \\nATOM    209  CG  PHE A  28     -16.293   1.862  -1.252  1.00 98.64           C  \\nATOM    210  CD1 PHE A  28     -16.273   2.461  -2.506  1.00 98.64           C  \\nATOM    211  CD2 PHE A  28     -15.355   2.256  -0.308  1.00 98.64           C  \\nATOM    212  CE1 PHE A  28     -15.329   3.439  -2.814  1.00 98.64           C  \\nATOM    213  CE2 PHE A  28     -14.409   3.232  -0.608  1.00 98.64           C  \\nATOM    214  CZ  PHE A  28     -14.398   3.822  -1.862  1.00 98.64           C  \\nATOM    215  N   ASN A  29     -20.200  -0.414  -0.706  1.00 98.67           N  \\nATOM    216  CA  ASN A  29     -21.039  -1.539  -0.307  1.00 98.67           C  \\nATOM    217  C   ASN A  29     -21.995  -1.949  -1.424  1.00 98.67           C  \\nATOM    218  CB  ASN A  29     -21.820  -1.202   0.964  1.00 98.67           C  \\nATOM    219  O   ASN A  29     -22.343  -3.125  -1.548  1.00 98.67           O  \\nATOM    220  CG  ASN A  29     -20.958  -1.255   2.210  1.00 98.67           C  \\nATOM    221  ND2 ASN A  29     -21.368  -0.532   3.246  1.00 98.67           N  \\nATOM    222  OD1 ASN A  29     -19.932  -1.939   2.242  1.00 98.67           O  \\nATOM    223  N   SER A  30     -22.372  -0.981  -2.210  1.00 98.17           N  \\nATOM    224  CA  SER A  30     -23.400  -1.234  -3.214  1.00 98.17           C  \\nATOM    225  C   SER A  30     -22.782  -1.613  -4.556  1.00 98.17           C  \\nATOM    226  CB  SER A  30     -24.297  -0.007  -3.384  1.00 98.17           C  \\nATOM    227  O   SER A  30     -23.494  -1.997  -5.486  1.00 98.17           O  \\nATOM    228  OG  SER A  30     -23.582   1.058  -3.988  1.00 98.17           O  \\nATOM    229  N   THR A  31     -21.492  -1.494  -4.657  1.00 97.80           N  \\nATOM    230  CA  THR A  31     -20.803  -1.742  -5.918  1.00 97.80           C  \\nATOM    231  C   THR A  31     -20.670  -3.241  -6.175  1.00 97.80           C  \\nATOM    232  CB  THR A  31     -19.407  -1.092  -5.929  1.00 97.80           C  \\nATOM    233  O   THR A  31     -20.339  -4.005  -5.267  1.00 97.80           O  \\nATOM    234  CG2 THR A  31     -18.684  -1.365  -7.244  1.00 97.80           C  \\nATOM    235  OG1 THR A  31     -19.545   0.324  -5.758  1.00 97.80           O  \\nATOM    236  N   SER A  32     -20.993  -3.620  -7.407  1.00 96.99           N  \\nATOM    237  CA  SER A  32     -20.787  -5.002  -7.829  1.00 96.99           C  \\nATOM    238  C   SER A  32     -19.360  -5.223  -8.319  1.00 96.99           C  \\nATOM    239  CB  SER A  32     -21.778  -5.380  -8.931  1.00 96.99           C  \\nATOM    240  O   SER A  32     -18.913  -4.568  -9.262  1.00 96.99           O  \\nATOM    241  OG  SER A  32     -23.106  -5.377  -8.436  1.00 96.99           O  \\nATOM    242  N   ILE A  33     -18.620  -6.029  -7.616  1.00 97.53           N  \\nATOM    243  CA  ILE A  33     -17.274  -6.442  -7.995  1.00 97.53           C  \\nATOM    244  C   ILE A  33     -17.265  -7.933  -8.324  1.00 97.53           C  \\nATOM    245  CB  ILE A  33     -16.252  -6.134  -6.878  1.00 97.53           C  \\nATOM    246  O   ILE A  33     -17.381  -8.774  -7.429  1.00 97.53           O  \\nATOM    247  CG1 ILE A  33     -16.275  -4.641  -6.531  1.00 97.53           C  \\nATOM    248  CG2 ILE A  33     -14.846  -6.578  -7.295  1.00 97.53           C  \\nATOM    249  CD1 ILE A  33     -15.418  -4.272  -5.327  1.00 97.53           C  \\nATOM    250  N   ASN A  34     -17.125  -8.284  -9.699  1.00 94.75           N  \\nATOM    251  CA  ASN A  34     -17.341  -9.655 -10.148  1.00 94.75           C  \\nATOM    252  C   ASN A  34     -16.035 -10.316 -10.579  1.00 94.75           C  \\nATOM    253  CB  ASN A  34     -18.357  -9.691 -11.292  1.00 94.75           C  \\nATOM    254  O   ASN A  34     -16.048 -11.383 -11.196  1.00 94.75           O  \\nATOM    255  CG  ASN A  34     -19.720  -9.174 -10.878  1.00 94.75           C  \\nATOM    256  ND2 ASN A  34     -20.365  -8.425 -11.765  1.00 94.75           N  \\nATOM    257  OD1 ASN A  34     -20.190  -9.444  -9.770  1.00 94.75           O  \\nATOM    258  N   HIS A  35     -14.914  -9.697 -10.254  1.00 96.16           N  \\nATOM    259  CA  HIS A  35     -13.640 -10.334 -10.566  1.00 96.16           C  \\nATOM    260  C   HIS A  35     -12.777 -10.482  -9.317  1.00 96.16           C  \\nATOM    261  CB  HIS A  35     -12.888  -9.534 -11.631  1.00 96.16           C  \\nATOM    262  O   HIS A  35     -13.113  -9.947  -8.259  1.00 96.16           O  \\nATOM    263  CG  HIS A  35     -12.455  -8.179 -11.169  1.00 96.16           C  \\nATOM    264  CD2 HIS A  35     -11.226  -7.687 -10.887  1.00 96.16           C  \\nATOM    265  ND1 HIS A  35     -13.344  -7.150 -10.945  1.00 96.16           N  \\nATOM    266  CE1 HIS A  35     -12.677  -6.080 -10.544  1.00 96.16           C  \\nATOM    267  NE2 HIS A  35     -11.390  -6.379 -10.501  1.00 96.16           N  \\nATOM    268  N   ASP A  36     -11.753 -11.338  -9.330  1.00 96.75           N  \\nATOM    269  CA  ASP A  36     -10.871 -11.655  -8.211  1.00 96.75           C  \\nATOM    270  C   ASP A  36      -9.934 -10.490  -7.902  1.00 96.75           C  \\nATOM    271  CB  ASP A  36     -10.060 -12.918  -8.508  1.00 96.75           C  \\nATOM    272  O   ASP A  36      -8.917 -10.309  -8.574  1.00 96.75           O  \\nATOM    273  CG  ASP A  36      -9.219 -13.374  -7.329  1.00 96.75           C  \\nATOM    274  OD1 ASP A  36      -9.510 -12.972  -6.181  1.00 96.75           O  \\nATOM    275  OD2 ASP A  36      -8.256 -14.140  -7.549  1.00 96.75           O  \\nATOM    276  N   VAL A  37     -10.404  -9.643  -6.866  1.00 98.39           N  \\nATOM    277  CA  VAL A  37      -9.596  -8.513  -6.420  1.00 98.39           C  \\nATOM    278  C   VAL A  37      -9.734  -8.343  -4.909  1.00 98.39           C  \\nATOM    279  CB  VAL A  37      -9.998  -7.207  -7.142  1.00 98.39           C  \\nATOM    280  O   VAL A  37     -10.811  -8.564  -4.349  1.00 98.39           O  \\nATOM    281  CG1 VAL A  37     -11.461  -6.866  -6.865  1.00 98.39           C  \\nATOM    282  CG2 VAL A  37      -9.088  -6.058  -6.713  1.00 98.39           C  \\nATOM    283  N   GLN A  38      -8.585  -8.017  -4.260  1.00 98.59           N  \\nATOM    284  CA  GLN A  38      -8.591  -7.626  -2.854  1.00 98.59           C  \\nATOM    285  C   GLN A  38      -8.670  -6.110  -2.705  1.00 98.59           C  \\nATOM    286  CB  GLN A  38      -7.347  -8.160  -2.142  1.00 98.59           C  \\nATOM    287  O   GLN A  38      -7.779  -5.389  -3.159  1.00 98.59           O  \\nATOM    288  CG  GLN A  38      -7.252  -7.750  -0.679  1.00 98.59           C  \\nATOM    289  CD  GLN A  38      -8.290  -8.432   0.191  1.00 98.59           C  \\nATOM    290  NE2 GLN A  38      -9.132  -7.638   0.844  1.00 98.59           N  \\nATOM    291  OE1 GLN A  38      -8.337  -9.664   0.274  1.00 98.59           O  \\nATOM    292  N   CYS A  39      -9.689  -5.648  -2.074  1.00 98.81           N  \\nATOM    293  CA  CYS A  39      -9.820  -4.219  -1.808  1.00 98.81           C  \\nATOM    294  C   CYS A  39      -9.466  -3.899  -0.361  1.00 98.81           C  \\nATOM    295  CB  CYS A  39     -11.240  -3.745  -2.113  1.00 98.81           C  \\nATOM    296  O   CYS A  39      -9.907  -4.591   0.558  1.00 98.81           O  \\nATOM    297  SG  CYS A  39     -11.754  -4.033  -3.820  1.00 98.81           S  \\nATOM    298  N   VAL A  40      -8.637  -2.807  -0.195  1.00 98.88           N  \\nATOM    299  CA  VAL A  40      -8.168  -2.387   1.121  1.00 98.88           C  \\nATOM    300  C   VAL A  40      -8.473  -0.905   1.330  1.00 98.88           C  \\nATOM    301  CB  VAL A  40      -6.655  -2.649   1.295  1.00 98.88           C  \\nATOM    302  O   VAL A  40      -8.211  -0.081   0.451  1.00 98.88           O  \\nATOM    303  CG1 VAL A  40      -6.199  -2.267   2.702  1.00 98.88           C  \\nATOM    304  CG2 VAL A  40      -6.331  -4.113   1.004  1.00 98.88           C  \\nATOM    305  N   VAL A  41      -9.043  -0.598   2.499  1.00 98.82           N  \\nATOM    306  CA  VAL A  41      -9.274   0.800   2.844  1.00 98.82           C  \\nATOM    307  C   VAL A  41      -8.466   1.166   4.087  1.00 98.82           C  \\nATOM    308  CB  VAL A  41     -10.774   1.086   3.080  1.00 98.82           C  \\nATOM    309  O   VAL A  41      -8.680   0.602   5.162  1.00 98.82           O  \\nATOM    310  CG1 VAL A  41     -10.982   2.520   3.562  1.00 98.82           C  \\nATOM    311  CG2 VAL A  41     -11.574   0.826   1.805  1.00 98.82           C  \\nATOM    312  N   ALA A  42      -7.505   2.050   3.845  1.00 98.73           N  \\nATOM    313  CA  ALA A  42      -6.742   2.586   4.969  1.00 98.73           C  \\nATOM    314  C   ALA A  42      -7.259   3.963   5.376  1.00 98.73           C  \\nATOM    315  CB  ALA A  42      -5.258   2.660   4.617  1.00 98.73           C  \\nATOM    316  O   ALA A  42      -7.041   4.949   4.668  1.00 98.73           O  \\nATOM    317  N   SER A  43      -7.959   4.033   6.515  1.00 97.17           N  \\nATOM    318  CA  SER A  43      -8.561   5.266   7.012  1.00 97.17           C  \\nATOM    319  C   SER A  43      -7.734   5.868   8.144  1.00 97.17           C  \\nATOM    320  CB  SER A  43      -9.990   5.010   7.493  1.00 97.17           C  \\nATOM    321  O   SER A  43      -6.836   5.214   8.678  1.00 97.17           O  \\nATOM    322  OG  SER A  43      -9.992   4.184   8.644  1.00 97.17           O  \\nATOM    323  N   THR A  44      -7.976   7.151   8.428  1.00 97.62           N  \\nATOM    324  CA  THR A  44      -7.411   7.730   9.642  1.00 97.62           C  \\nATOM    325  C   THR A  44      -7.836   6.930  10.871  1.00 97.62           C  \\nATOM    326  CB  THR A  44      -7.837   9.200   9.811  1.00 97.62           C  \\nATOM    327  O   THR A  44      -8.846   6.224  10.839  1.00 97.62           O  \\nATOM    328  CG2 THR A  44      -7.494  10.018   8.571  1.00 97.62           C  \\nATOM    329  OG1 THR A  44      -9.252   9.259  10.033  1.00 97.62           O  \\nATOM    330  N   PHE A  45      -7.104   7.072  11.942  1.00 97.86           N  \\nATOM    331  CA  PHE A  45      -7.389   6.284  13.136  1.00 97.86           C  \\nATOM    332  C   PHE A  45      -8.750   6.653  13.715  1.00 97.86           C  \\nATOM    333  CB  PHE A  45      -6.297   6.489  14.191  1.00 97.86           C  \\nATOM    334  O   PHE A  45      -9.461   5.793  14.239  1.00 97.86           O  \\nATOM    335  CG  PHE A  45      -4.987   5.836  13.842  1.00 97.86           C  \\nATOM    336  CD1 PHE A  45      -4.953   4.549  13.320  1.00 97.86           C  \\nATOM    337  CD2 PHE A  45      -3.788   6.510  14.037  1.00 97.86           C  \\nATOM    338  CE1 PHE A  45      -3.742   3.942  12.997  1.00 97.86           C  \\nATOM    339  CE2 PHE A  45      -2.574   5.910  13.717  1.00 97.86           C  \\nATOM    340  CZ  PHE A  45      -2.553   4.625  13.198  1.00 97.86           C  \\nATOM    341  N   VAL A  46      -9.119   7.971  13.560  1.00 97.39           N  \\nATOM    342  CA  VAL A  46     -10.355   8.441  14.175  1.00 97.39           C  \\nATOM    343  C   VAL A  46     -11.556   7.906  13.398  1.00 97.39           C  \\nATOM    344  CB  VAL A  46     -10.407   9.984  14.239  1.00 97.39           C  \\nATOM    345  O   VAL A  46     -12.684   7.926  13.896  1.00 97.39           O  \\nATOM    346  CG1 VAL A  46      -9.349  10.521  15.202  1.00 97.39           C  \\nATOM    347  CG2 VAL A  46     -10.218  10.582  12.846  1.00 97.39           C  \\nATOM    348  N   HIS A  47     -11.323   7.439  12.135  1.00 98.19           N  \\nATOM    349  CA  HIS A  47     -12.425   6.942  11.319  1.00 98.19           C  \\nATOM    350  C   HIS A  47     -12.435   5.418  11.275  1.00 98.19           C  \\nATOM    351  CB  HIS A  47     -12.339   7.508   9.900  1.00 98.19           C  \\nATOM    352  O   HIS A  47     -13.317   4.816  10.659  1.00 98.19           O  \\nATOM    353  CG  HIS A  47     -12.421   9.000   9.843  1.00 98.19           C  \\nATOM    354  CD2 HIS A  47     -13.319   9.862  10.374  1.00 98.19           C  \\nATOM    355  ND1 HIS A  47     -11.497   9.770   9.170  1.00 98.19           N  \\nATOM    356  CE1 HIS A  47     -11.826  11.046   9.291  1.00 98.19           C  \\nATOM    357  NE2 HIS A  47     -12.927  11.129  10.017  1.00 98.19           N  \\nATOM    358  N   LEU A  48     -11.528   4.696  11.904  1.00 97.37           N  \\nATOM    359  CA  LEU A  48     -11.368   3.249  11.811  1.00 97.37           C  \\nATOM    360  C   LEU A  48     -12.609   2.531  12.331  1.00 97.37           C  \\nATOM    361  CB  LEU A  48     -10.135   2.794  12.596  1.00 97.37           C  \\nATOM    362  O   LEU A  48     -13.084   1.576  11.711  1.00 97.37           O  \\nATOM    363  CG  LEU A  48      -8.802   2.829  11.845  1.00 97.37           C  \\nATOM    364  CD1 LEU A  48      -7.651   2.515  12.795  1.00 97.37           C  \\nATOM    365  CD2 LEU A  48      -8.821   1.849  10.677  1.00 97.37           C  \\nATOM    366  N   ALA A  49     -13.116   3.011  13.443  1.00 97.70           N  \\nATOM    367  CA  ALA A  49     -14.266   2.344  14.047  1.00 97.70           C  \\nATOM    368  C   ALA A  49     -15.476   2.389  13.118  1.00 97.70           C  \\nATOM    369  CB  ALA A  49     -14.607   2.983  15.391  1.00 97.70           C  \\nATOM    370  O   ALA A  49     -16.115   1.363  12.870  1.00 97.70           O  \\nATOM    371  N   MET A  50     -15.699   3.558  12.610  1.00 97.92           N  \\nATOM    372  CA  MET A  50     -16.835   3.725  11.708  1.00 97.92           C  \\nATOM    373  C   MET A  50     -16.640   2.914  10.432  1.00 97.92           C  \\nATOM    374  CB  MET A  50     -17.037   5.201  11.364  1.00 97.92           C  \\nATOM    375  O   MET A  50     -17.569   2.254   9.962  1.00 97.92           O  \\nATOM    376  CG  MET A  50     -18.182   5.454  10.397  1.00 97.92           C  \\nATOM    377  SD  MET A  50     -17.598   5.936   8.726  1.00 97.92           S  \\nATOM    378  CE  MET A  50     -17.008   7.618   9.065  1.00 97.92           C  \\nATOM    379  N   THR A  51     -15.464   2.978   9.863  1.00 97.76           N  \\nATOM    380  CA  THR A  51     -15.181   2.253   8.630  1.00 97.76           C  \\nATOM    381  C   THR A  51     -15.356   0.751   8.833  1.00 97.76           C  \\nATOM    382  CB  THR A  51     -13.755   2.542   8.126  1.00 97.76           C  \\nATOM    383  O   THR A  51     -15.966   0.073   8.003  1.00 97.76           O  \\nATOM    384  CG2 THR A  51     -13.490   1.848   6.794  1.00 97.76           C  \\nATOM    385  OG1 THR A  51     -13.592   3.956   7.956  1.00 97.76           O  \\nATOM    386  N   LYS A  52     -14.843   0.235   9.976  1.00 97.33           N  \\nATOM    387  CA  LYS A  52     -14.964  -1.184  10.298  1.00 97.33           C  \\nATOM    388  C   LYS A  52     -16.427  -1.591  10.448  1.00 97.33           C  \\nATOM    389  CB  LYS A  52     -14.195  -1.511  11.580  1.00 97.33           C  \\nATOM    390  O   LYS A  52     -16.838  -2.641   9.950  1.00 97.33           O  \\nATOM    391  CG  LYS A  52     -14.231  -2.983  11.964  1.00 97.33           C  \\nATOM    392  CD  LYS A  52     -13.405  -3.254  13.215  1.00 97.33           C  \\nATOM    393  CE  LYS A  52     -13.564  -4.692  13.690  1.00 97.33           C  \\nATOM    394  NZ  LYS A  52     -12.912  -4.913  15.016  1.00 97.33           N  \\nATOM    395  N   GLU A  53     -17.156  -0.779  11.040  1.00 97.47           N  \\nATOM    396  CA  GLU A  53     -18.557  -1.080  11.318  1.00 97.47           C  \\nATOM    397  C   GLU A  53     -19.398  -1.012  10.047  1.00 97.47           C  \\nATOM    398  CB  GLU A  53     -19.115  -0.120  12.371  1.00 97.47           C  \\nATOM    399  O   GLU A  53     -20.262  -1.862   9.821  1.00 97.47           O  \\nATOM    400  CG  GLU A  53     -20.566  -0.389  12.741  1.00 97.47           C  \\nATOM    401  CD  GLU A  53     -21.132   0.623  13.725  1.00 97.47           C  \\nATOM    402  OE1 GLU A  53     -22.339   0.545  14.049  1.00 97.47           O  \\nATOM    403  OE2 GLU A  53     -20.363   1.502  14.173  1.00 97.47           O  \\nATOM    404  N   ARG A  54     -19.146  -0.146   9.176  1.00 98.09           N  \\nATOM    405  CA  ARG A  54     -20.064   0.173   8.088  1.00 98.09           C  \\nATOM    406  C   ARG A  54     -19.648  -0.526   6.798  1.00 98.09           C  \\nATOM    407  CB  ARG A  54     -20.130   1.686   7.866  1.00 98.09           C  \\nATOM    408  O   ARG A  54     -20.484  -0.787   5.930  1.00 98.09           O  \\nATOM    409  CG  ARG A  54     -20.813   2.444   8.993  1.00 98.09           C  \\nATOM    410  CD  ARG A  54     -21.018   3.911   8.642  1.00 98.09           C  \\nATOM    411  NE  ARG A  54     -22.001   4.077   7.575  1.00 98.09           N  \\nATOM    412  NH1 ARG A  54     -21.575   6.325   7.251  1.00 98.09           N  \\nATOM    413  NH2 ARG A  54     -23.160   5.259   5.982  1.00 98.09           N  \\nATOM    414  CZ  ARG A  54     -22.243   5.220   6.938  1.00 98.09           C  \\nATOM    415  N   LEU A  55     -18.336  -0.654   6.620  1.00 98.23           N  \\nATOM    416  CA  LEU A  55     -17.867  -1.290   5.394  1.00 98.23           C  \\nATOM    417  C   LEU A  55     -18.151  -2.788   5.416  1.00 98.23           C  \\nATOM    418  CB  LEU A  55     -16.368  -1.046   5.203  1.00 98.23           C  \\nATOM    419  O   LEU A  55     -17.423  -3.553   6.052  1.00 98.23           O  \\nATOM    420  CG  LEU A  55     -15.776  -1.477   3.860  1.00 98.23           C  \\nATOM    421  CD1 LEU A  55     -16.485  -0.762   2.715  1.00 98.23           C  \\nATOM    422  CD2 LEU A  55     -14.277  -1.203   3.824  1.00 98.23           C  \\nATOM    423  N   SER A  56     -19.187  -3.250   4.635  1.00 97.86           N  \\nATOM    424  CA  SER A  56     -19.708  -4.609   4.744  1.00 97.86           C  \\nATOM    425  C   SER A  56     -19.470  -5.396   3.460  1.00 97.86           C  \\nATOM    426  CB  SER A  56     -21.202  -4.587   5.069  1.00 97.86           C  \\nATOM    427  O   SER A  56     -19.745  -6.596   3.401  1.00 97.86           O  \\nATOM    428  OG  SER A  56     -21.920  -3.864   4.085  1.00 97.86           O  \\nATOM    429  N   HIS A  57     -18.967  -4.699   2.465  1.00 98.41           N  \\nATOM    430  CA  HIS A  57     -18.675  -5.402   1.221  1.00 98.41           C  \\nATOM    431  C   HIS A  57     -17.632  -6.493   1.437  1.00 98.41           C  \\nATOM    432  CB  HIS A  57     -18.196  -4.421   0.151  1.00 98.41           C  \\nATOM    433  O   HIS A  57     -16.572  -6.239   2.013  1.00 98.41           O  \\nATOM    434  CG  HIS A  57     -18.244  -4.977  -1.237  1.00 98.41           C  \\nATOM    435  CD2 HIS A  57     -18.979  -4.615  -2.315  1.00 98.41           C  \\nATOM    436  ND1 HIS A  57     -17.467  -6.042  -1.639  1.00 98.41           N  \\nATOM    437  CE1 HIS A  57     -17.723  -6.311  -2.909  1.00 98.41           C  \\nATOM    438  NE2 HIS A  57     -18.637  -5.459  -3.342  1.00 98.41           N  \\nATOM    439  N   PRO A  58     -17.813  -7.746   0.936  1.00 97.09           N  \\nATOM    440  CA  PRO A  58     -16.949  -8.885   1.257  1.00 97.09           C  \\nATOM    441  C   PRO A  58     -15.559  -8.764   0.637  1.00 97.09           C  \\nATOM    442  CB  PRO A  58     -17.707 -10.079   0.669  1.00 97.09           C  \\nATOM    443  O   PRO A  58     -14.631  -9.462   1.054  1.00 97.09           O  \\nATOM    444  CG  PRO A  58     -18.604  -9.488  -0.370  1.00 97.09           C  \\nATOM    445  CD  PRO A  58     -19.037  -8.126   0.092  1.00 97.09           C  \\nATOM    446  N   LYS A  59     -15.393  -7.950  -0.342  1.00 97.98           N  \\nATOM    447  CA  LYS A  59     -14.101  -7.827  -1.012  1.00 97.98           C  \\nATOM    448  C   LYS A  59     -13.202  -6.826  -0.293  1.00 97.98           C  \\nATOM    449  CB  LYS A  59     -14.291  -7.407  -2.471  1.00 97.98           C  \\nATOM    450  O   LYS A  59     -12.012  -6.722  -0.597  1.00 97.98           O  \\nATOM    451  CG  LYS A  59     -14.963  -8.463  -3.336  1.00 97.98           C  \\nATOM    452  CD  LYS A  59     -14.013  -9.610  -3.658  1.00 97.98           C  \\nATOM    453  CE  LYS A  59     -14.620 -10.574  -4.668  1.00 97.98           C  \\nATOM    454  NZ  LYS A  59     -13.734 -11.752  -4.911  1.00 97.98           N  \\nATOM    455  N   PHE A  60     -13.821  -6.071   0.640  1.00 98.54           N  \\nATOM    456  CA  PHE A  60     -13.073  -5.004   1.294  1.00 98.54           C  \\nATOM    457  C   PHE A  60     -12.576  -5.452   2.664  1.00 98.54           C  \\nATOM    458  CB  PHE A  60     -13.939  -3.748   1.435  1.00 98.54           C  \\nATOM    459  O   PHE A  60     -13.271  -6.181   3.374  1.00 98.54           O  \\nATOM    460  CG  PHE A  60     -14.090  -2.968   0.157  1.00 98.54           C  \\nATOM    461  CD1 PHE A  60     -13.328  -1.829  -0.073  1.00 98.54           C  \\nATOM    462  CD2 PHE A  60     -14.995  -3.374  -0.815  1.00 98.54           C  \\nATOM    463  CE1 PHE A  60     -13.466  -1.105  -1.255  1.00 98.54           C  \\nATOM    464  CE2 PHE A  60     -15.138  -2.656  -1.999  1.00 98.54           C  \\nATOM    465  CZ  PHE A  60     -14.373  -1.522  -2.216  1.00 98.54           C  \\nATOM    466  N   VAL A  61     -11.362  -5.058   2.953  1.00 98.49           N  \\nATOM    467  CA  VAL A  61     -10.809  -5.135   4.301  1.00 98.49           C  \\nATOM    468  C   VAL A  61     -10.334  -3.753   4.744  1.00 98.49           C  \\nATOM    469  CB  VAL A  61      -9.645  -6.148   4.379  1.00 98.49           C  \\nATOM    470  O   VAL A  61     -10.164  -2.853   3.918  1.00 98.49           O  \\nATOM    471  CG1 VAL A  61     -10.126  -7.552   4.016  1.00 98.49           C  \\nATOM    472  CG2 VAL A  61      -8.501  -5.718   3.462  1.00 98.49           C  \\nATOM    473  N   ILE A  62     -10.160  -3.588   6.069  1.00 98.41           N  \\nATOM    474  CA  ILE A  62      -9.708  -2.297   6.577  1.00 98.41           C  \\nATOM    475  C   ILE A  62      -8.239  -2.389   6.985  1.00 98.41           C  \\nATOM    476  CB  ILE A  62     -10.567  -1.828   7.773  1.00 98.41           C  \\nATOM    477  O   ILE A  62      -7.764  -3.455   7.383  1.00 98.41           O  \\nATOM    478  CG1 ILE A  62     -10.450  -2.819   8.936  1.00 98.41           C  \\nATOM    479  CG2 ILE A  62     -12.028  -1.649   7.350  1.00 98.41           C  \\nATOM    480  CD1 ILE A  62     -11.034  -2.307  10.246  1.00 98.41           C  \\nATOM    481  N   ALA A  63      -7.505  -1.257   6.805  1.00 98.81           N  \\nATOM    482  CA  ALA A  63      -6.089  -1.179   7.153  1.00 98.81           C  \\nATOM    483  C   ALA A  63      -5.791   0.079   7.964  1.00 98.81           C  \\nATOM    484  CB  ALA A  63      -5.229  -1.210   5.892  1.00 98.81           C  \\nATOM    485  O   ALA A  63      -6.493   1.085   7.841  1.00 98.81           O  \\nATOM    486  N   ALA A  64      -4.827  -0.023   8.821  1.00 98.70           N  \\nATOM    487  CA  ALA A  64      -4.258   1.160   9.462  1.00 98.70           C  \\nATOM    488  C   ALA A  64      -3.224   1.828   8.562  1.00 98.70           C  \\nATOM    489  CB  ALA A  64      -3.631   0.788  10.803  1.00 98.70           C  \\nATOM    490  O   ALA A  64      -2.663   1.189   7.669  1.00 98.70           O  \\nATOM    491  N   GLN A  65      -2.976   3.135   8.887  1.00 98.58           N  \\nATOM    492  CA  GLN A  65      -2.062   3.882   8.030  1.00 98.58           C  \\nATOM    493  C   GLN A  65      -0.679   3.992   8.665  1.00 98.58           C  \\nATOM    494  CB  GLN A  65      -2.617   5.276   7.737  1.00 98.58           C  \\nATOM    495  O   GLN A  65       0.209   4.652   8.121  1.00 98.58           O  \\nATOM    496  CG  GLN A  65      -3.938   5.265   6.979  1.00 98.58           C  \\nATOM    497  CD  GLN A  65      -4.550   6.647   6.847  1.00 98.58           C  \\nATOM    498  NE2 GLN A  65      -5.342   6.847   5.799  1.00 98.58           N  \\nATOM    499  OE1 GLN A  65      -4.315   7.527   7.681  1.00 98.58           O  \\nATOM    500  N   ASN A  66      -0.513   3.415   9.813  1.00 98.65           N  \\nATOM    501  CA  ASN A  66       0.721   3.410  10.593  1.00 98.65           C  \\nATOM    502  C   ASN A  66       0.550   2.652  11.906  1.00 98.65           C  \\nATOM    503  CB  ASN A  66       1.192   4.841  10.862  1.00 98.65           C  \\nATOM    504  O   ASN A  66      -0.574   2.431  12.359  1.00 98.65           O  \\nATOM    505  CG  ASN A  66       2.589   4.895  11.448  1.00 98.65           C  \\nATOM    506  ND2 ASN A  66       2.837   5.884  12.299  1.00 98.65           N  \\nATOM    507  OD1 ASN A  66       3.438   4.056  11.138  1.00 98.65           O  \\nATOM    508  N   ALA A  67       1.693   2.276  12.443  1.00 98.48           N  \\nATOM    509  CA  ALA A  67       1.668   1.656  13.766  1.00 98.48           C  \\nATOM    510  C   ALA A  67       3.079   1.507  14.328  1.00 98.48           C  \\nATOM    511  CB  ALA A  67       0.977   0.297  13.703  1.00 98.48           C  \\nATOM    512  O   ALA A  67       4.053   1.454  13.572  1.00 98.48           O  \\nATOM    513  N   ILE A  68       3.134   1.474  15.638  1.00 98.19           N  \\nATOM    514  CA  ILE A  68       4.379   1.108  16.305  1.00 98.19           C  \\nATOM    515  C   ILE A  68       4.290  -0.330  16.811  1.00 98.19           C  \\nATOM    516  CB  ILE A  68       4.697   2.069  17.473  1.00 98.19           C  \\nATOM    517  O   ILE A  68       3.199  -0.898  16.896  1.00 98.19           O  \\nATOM    518  CG1 ILE A  68       3.584   2.016  18.526  1.00 98.19           C  \\nATOM    519  CG2 ILE A  68       4.897   3.497  16.959  1.00 98.19           C  \\nATOM    520  CD1 ILE A  68       3.909   2.769  19.809  1.00 98.19           C  \\nATOM    521  N   ALA A  69       5.471  -0.902  17.122  1.00 97.83           N  \\nATOM    522  CA  ALA A  69       5.595  -2.338  17.361  1.00 97.83           C  \\nATOM    523  C   ALA A  69       4.967  -2.728  18.696  1.00 97.83           C  \\nATOM    524  CB  ALA A  69       7.062  -2.758  17.324  1.00 97.83           C  \\nATOM    525  O   ALA A  69       4.271  -3.742  18.789  1.00 97.83           O  \\nATOM    526  N   LYS A  70       5.213  -1.940  19.750  1.00 97.01           N  \\nATOM    527  CA  LYS A  70       4.770  -2.347  21.080  1.00 97.01           C  \\nATOM    528  C   LYS A  70       4.003  -1.224  21.772  1.00 97.01           C  \\nATOM    529  CB  LYS A  70       5.964  -2.772  21.937  1.00 97.01           C  \\nATOM    530  O   LYS A  70       4.209  -0.047  21.469  1.00 97.01           O  \\nATOM    531  CG  LYS A  70       6.975  -1.661  22.184  1.00 97.01           C  \\nATOM    532  CD  LYS A  70       8.156  -2.155  23.009  1.00 97.01           C  \\nATOM    533  CE  LYS A  70       9.139  -1.030  23.308  1.00 97.01           C  \\nATOM    534  NZ  LYS A  70      10.293  -1.506  24.127  1.00 97.01           N  \\nATOM    535  N   SER A  71       3.164  -1.640  22.682  1.00 97.73           N  \\nATOM    536  CA  SER A  71       2.480  -0.690  23.553  1.00 97.73           C  \\nATOM    537  C   SER A  71       3.415  -0.157  24.633  1.00 97.73           C  \\nATOM    538  CB  SER A  71       1.258  -1.342  24.202  1.00 97.73           C  \\nATOM    539  O   SER A  71       4.375  -0.829  25.017  1.00 97.73           O  \\nATOM    540  OG  SER A  71       0.311  -1.725  23.220  1.00 97.73           O  \\nATOM    541  N   GLY A  72       3.225   1.109  25.011  1.00 97.09           N  \\nATOM    542  CA  GLY A  72       4.053   1.764  26.010  1.00 97.09           C  \\nATOM    543  C   GLY A  72       3.867   3.270  26.046  1.00 97.09           C  \\nATOM    544  O   GLY A  72       2.817   3.780  25.650  1.00 97.09           O  \\nATOM    545  N   ALA A  73       4.931   3.986  26.587  1.00 97.79           N  \\nATOM    546  CA  ALA A  73       4.845   5.433  26.763  1.00 97.79           C  \\nATOM    547  C   ALA A  73       5.111   6.162  25.448  1.00 97.79           C  \\nATOM    548  CB  ALA A  73       5.829   5.899  27.833  1.00 97.79           C  \\nATOM    549  O   ALA A  73       6.152   6.803  25.286  1.00 97.79           O  \\nATOM    550  N   PHE A  74       4.135   6.019  24.458  1.00 96.88           N  \\nATOM    551  CA  PHE A  74       4.210   6.623  23.132  1.00 96.88           C  \\nATOM    552  C   PHE A  74       2.947   7.421  22.829  1.00 96.88           C  \\nATOM    553  CB  PHE A  74       4.422   5.549  22.062  1.00 96.88           C  \\nATOM    554  O   PHE A  74       2.222   7.109  21.882  1.00 96.88           O  \\nATOM    555  CG  PHE A  74       5.643   4.699  22.288  1.00 96.88           C  \\nATOM    556  CD1 PHE A  74       6.911   5.191  22.004  1.00 96.88           C  \\nATOM    557  CD2 PHE A  74       5.523   3.407  22.784  1.00 96.88           C  \\nATOM    558  CE1 PHE A  74       8.044   4.407  22.212  1.00 96.88           C  \\nATOM    559  CE2 PHE A  74       6.650   2.618  22.994  1.00 96.88           C  \\nATOM    560  CZ  PHE A  74       7.909   3.119  22.707  1.00 96.88           C  \\nATOM    561  N   THR A  75       2.689   8.492  23.653  1.00 96.98           N  \\nATOM    562  CA  THR A  75       1.494   9.324  23.563  1.00 96.98           C  \\nATOM    563  C   THR A  75       1.248   9.763  22.122  1.00 96.98           C  \\nATOM    564  CB  THR A  75       1.607  10.564  24.469  1.00 96.98           C  \\nATOM    565  O   THR A  75       2.158  10.259  21.455  1.00 96.98           O  \\nATOM    566  CG2 THR A  75       0.384  11.464  24.323  1.00 96.98           C  \\nATOM    567  OG1 THR A  75       1.716  10.142  25.834  1.00 96.98           O  \\nATOM    568  N   GLY A  76       0.061   9.398  21.584  1.00 95.30           N  \\nATOM    569  CA  GLY A  76      -0.364   9.831  20.262  1.00 95.30           C  \\nATOM    570  C   GLY A  76      -0.224   8.750  19.207  1.00 95.30           C  \\nATOM    571  O   GLY A  76      -0.772   8.873  18.109  1.00 95.30           O  \\nATOM    572  N   GLU A  77       0.499   7.654  19.605  1.00 97.50           N  \\nATOM    573  CA  GLU A  77       0.725   6.572  18.651  1.00 97.50           C  \\nATOM    574  C   GLU A  77      -0.281   5.442  18.851  1.00 97.50           C  \\nATOM    575  CB  GLU A  77       2.153   6.034  18.777  1.00 97.50           C  \\nATOM    576  O   GLU A  77      -0.933   5.361  19.893  1.00 97.50           O  \\nATOM    577  CG  GLU A  77       3.222   7.010  18.308  1.00 97.50           C  \\nATOM    578  CD  GLU A  77       3.154   7.303  16.817  1.00 97.50           C  \\nATOM    579  OE1 GLU A  77       3.435   8.453  16.411  1.00 97.50           O  \\nATOM    580  OE2 GLU A  77       2.817   6.374  16.049  1.00 97.50           O  \\nATOM    581  N   VAL A  78      -0.420   4.632  17.798  1.00 98.27           N  \\nATOM    582  CA  VAL A  78      -1.213   3.407  17.848  1.00 98.27           C  \\nATOM    583  C   VAL A  78      -0.313   2.198  17.602  1.00 98.27           C  \\nATOM    584  CB  VAL A  78      -2.363   3.434  16.816  1.00 98.27           C  \\nATOM    585  O   VAL A  78       0.412   2.148  16.605  1.00 98.27           O  \\nATOM    586  CG1 VAL A  78      -3.173   2.140  16.878  1.00 98.27           C  \\nATOM    587  CG2 VAL A  78      -3.264   4.644  17.054  1.00 98.27           C  \\nATOM    588  N   SER A  79      -0.384   1.254  18.547  1.00 98.57           N  \\nATOM    589  CA  SER A  79       0.515   0.106  18.473  1.00 98.57           C  \\nATOM    590  C   SER A  79      -0.152  -1.074  17.775  1.00 98.57           C  \\nATOM    591  CB  SER A  79       0.970  -0.309  19.873  1.00 98.57           C  \\nATOM    592  O   SER A  79      -1.374  -1.102  17.621  1.00 98.57           O  \\nATOM    593  OG  SER A  79      -0.121  -0.804  20.631  1.00 98.57           O  \\nATOM    594  N   LEU A  80       0.646  -2.069  17.409  1.00 98.77           N  \\nATOM    595  CA  LEU A  80       0.167  -3.270  16.733  1.00 98.77           C  \\nATOM    596  C   LEU A  80      -0.806  -4.041  17.618  1.00 98.77           C  \\nATOM    597  CB  LEU A  80       1.342  -4.170  16.342  1.00 98.77           C  \\nATOM    598  O   LEU A  80      -1.848  -4.504  17.147  1.00 98.77           O  \\nATOM    599  CG  LEU A  80       2.285  -3.625  15.268  1.00 98.77           C  \\nATOM    600  CD1 LEU A  80       3.422  -4.609  15.012  1.00 98.77           C  \\nATOM    601  CD2 LEU A  80       1.520  -3.338  13.980  1.00 98.77           C  \\nATOM    602  N   PRO A  81      -0.472  -4.239  18.927  1.00 98.64           N  \\nATOM    603  CA  PRO A  81      -1.430  -4.956  19.773  1.00 98.64           C  \\nATOM    604  C   PRO A  81      -2.788  -4.262  19.845  1.00 98.64           C  \\nATOM    605  CB  PRO A  81      -0.749  -4.967  21.145  1.00 98.64           C  \\nATOM    606  O   PRO A  81      -3.825  -4.929  19.873  1.00 98.64           O  \\nATOM    607  CG  PRO A  81       0.715  -4.959  20.845  1.00 98.64           C  \\nATOM    608  CD  PRO A  81       0.956  -4.055  19.670  1.00 98.64           C  \\nATOM    609  N   ILE A  82      -2.790  -2.907  19.859  1.00 98.48           N  \\nATOM    610  CA  ILE A  82      -4.045  -2.164  19.890  1.00 98.48           C  \\nATOM    611  C   ILE A  82      -4.833  -2.429  18.609  1.00 98.48           C  \\nATOM    612  CB  ILE A  82      -3.801  -0.649  20.065  1.00 98.48           C  \\nATOM    613  O   ILE A  82      -6.038  -2.685  18.656  1.00 98.48           O  \\nATOM    614  CG1 ILE A  82      -3.284  -0.351  21.477  1.00 98.48           C  \\nATOM    615  CG2 ILE A  82      -5.080   0.142  19.772  1.00 98.48           C  \\nATOM    616  CD1 ILE A  82      -2.802   1.081  21.671  1.00 98.48           C  \\nATOM    617  N   LEU A  83      -4.162  -2.401  17.451  1.00 98.63           N  \\nATOM    618  CA  LEU A  83      -4.819  -2.658  16.174  1.00 98.63           C  \\nATOM    619  C   LEU A  83      -5.361  -4.083  16.118  1.00 98.63           C  \\nATOM    620  CB  LEU A  83      -3.848  -2.423  15.014  1.00 98.63           C  \\nATOM    621  O   LEU A  83      -6.471  -4.311  15.632  1.00 98.63           O  \\nATOM    622  CG  LEU A  83      -3.428  -0.974  14.764  1.00 98.63           C  \\nATOM    623  CD1 LEU A  83      -2.355  -0.912  13.683  1.00 98.63           C  \\nATOM    624  CD2 LEU A  83      -4.635  -0.127  14.376  1.00 98.63           C  \\nATOM    625  N   LYS A  84      -4.564  -5.046  16.586  1.00 98.19           N  \\nATOM    626  CA  LYS A  84      -5.018  -6.433  16.624  1.00 98.19           C  \\nATOM    627  C   LYS A  84      -6.274  -6.577  17.480  1.00 98.19           C  \\nATOM    628  CB  LYS A  84      -3.913  -7.346  17.158  1.00 98.19           C  \\nATOM    629  O   LYS A  84      -7.225  -7.255  17.087  1.00 98.19           O  \\nATOM    630  CG  LYS A  84      -4.220  -8.830  17.030  1.00 98.19           C  \\nATOM    631  CD  LYS A  84      -4.042  -9.317  15.598  1.00 98.19           C  \\nATOM    632  CE  LYS A  84      -4.161 -10.832  15.502  1.00 98.19           C  \\nATOM    633  NZ  LYS A  84      -3.921 -11.320  14.111  1.00 98.19           N  \\nATOM    634  N   ASP A  85      -6.234  -5.959  18.599  1.00 97.97           N  \\nATOM    635  CA  ASP A  85      -7.385  -5.992  19.496  1.00 97.97           C  \\nATOM    636  C   ASP A  85      -8.619  -5.389  18.829  1.00 97.97           C  \\nATOM    637  CB  ASP A  85      -7.073  -5.247  20.796  1.00 97.97           C  \\nATOM    638  O   ASP A  85      -9.737  -5.863  19.036  1.00 97.97           O  \\nATOM    639  CG  ASP A  85      -8.247  -5.219  21.759  1.00 97.97           C  \\nATOM    640  OD1 ASP A  85      -8.709  -6.298  22.190  1.00 97.97           O  \\nATOM    641  OD2 ASP A  85      -8.717  -4.108  22.088  1.00 97.97           O  \\nATOM    642  N   PHE A  86      -8.388  -4.418  17.965  1.00 97.76           N  \\nATOM    643  CA  PHE A  86      -9.474  -3.701  17.309  1.00 97.76           C  \\nATOM    644  C   PHE A  86     -10.005  -4.492  16.119  1.00 97.76           C  \\nATOM    645  CB  PHE A  86      -9.006  -2.316  16.852  1.00 97.76           C  \\nATOM    646  O   PHE A  86     -11.037  -4.141  15.545  1.00 97.76           O  \\nATOM    647  CG  PHE A  86     -10.131  -1.376  16.514  1.00 97.76           C  \\nATOM    648  CD1 PHE A  86     -10.453  -1.102  15.190  1.00 97.76           C  \\nATOM    649  CD2 PHE A  86     -10.868  -0.765  17.521  1.00 97.76           C  \\nATOM    650  CE1 PHE A  86     -11.495  -0.233  14.874  1.00 97.76           C  \\nATOM    651  CE2 PHE A  86     -11.909   0.106  17.213  1.00 97.76           C  \\nATOM    652  CZ  PHE A  86     -12.221   0.371  15.889  1.00 97.76           C  \\nATOM    653  N   GLY A  87      -9.248  -5.559  15.687  1.00 96.80           N  \\nATOM    654  CA  GLY A  87      -9.667  -6.416  14.590  1.00 96.80           C  \\nATOM    655  C   GLY A  87      -9.161  -5.945  13.239  1.00 96.80           C  \\nATOM    656  O   GLY A  87      -9.766  -6.240  12.206  1.00 96.80           O  \\nATOM    657  N   VAL A  88      -8.137  -5.082  13.210  1.00 98.36           N  \\nATOM    658  CA  VAL A  88      -7.467  -4.657  11.985  1.00 98.36           C  \\nATOM    659  C   VAL A  88      -6.291  -5.586  11.691  1.00 98.36           C  \\nATOM    660  CB  VAL A  88      -6.980  -3.194  12.083  1.00 98.36           C  \\nATOM    661  O   VAL A  88      -5.428  -5.796  12.548  1.00 98.36           O  \\nATOM    662  CG1 VAL A  88      -6.236  -2.787  10.812  1.00 98.36           C  \\nATOM    663  CG2 VAL A  88      -8.158  -2.256  12.340  1.00 98.36           C  \\nATOM    664  N   ASN A  89      -6.181  -6.049  10.419  1.00 97.49           N  \\nATOM    665  CA  ASN A  89      -5.161  -7.045  10.107  1.00 97.49           C  \\nATOM    666  C   ASN A  89      -4.271  -6.593   8.953  1.00 97.49           C  \\nATOM    667  CB  ASN A  89      -5.808  -8.393   9.783  1.00 97.49           C  \\nATOM    668  O   ASN A  89      -3.347  -7.307   8.560  1.00 97.49           O  \\nATOM    669  CG  ASN A  89      -6.553  -8.982  10.965  1.00 97.49           C  \\nATOM    670  ND2 ASN A  89      -7.821  -9.319  10.757  1.00 97.49           N  \\nATOM    671  OD1 ASN A  89      -5.995  -9.132  12.055  1.00 97.49           O  \\nATOM    672  N   TRP A  90      -4.551  -5.472   8.311  1.00 98.86           N  \\nATOM    673  CA  TRP A  90      -3.747  -4.870   7.252  1.00 98.86           C  \\nATOM    674  C   TRP A  90      -3.165  -3.535   7.703  1.00 98.86           C  \\nATOM    675  CB  TRP A  90      -4.584  -4.676   5.985  1.00 98.86           C  \\nATOM    676  O   TRP A  90      -3.814  -2.783   8.435  1.00 98.86           O  \\nATOM    677  CG  TRP A  90      -4.913  -5.952   5.270  1.00 98.86           C  \\nATOM    678  CD1 TRP A  90      -5.795  -6.917   5.671  1.00 98.86           C  \\nATOM    679  CD2 TRP A  90      -4.359  -6.404   4.031  1.00 98.86           C  \\nATOM    680  CE2 TRP A  90      -4.952  -7.653   3.739  1.00 98.86           C  \\nATOM    681  CE3 TRP A  90      -3.419  -5.874   3.137  1.00 98.86           C  \\nATOM    682  NE1 TRP A  90      -5.823  -7.942   4.754  1.00 98.86           N  \\nATOM    683  CH2 TRP A  90      -3.711  -7.838   1.732  1.00 98.86           C  \\nATOM    684  CZ2 TRP A  90      -4.634  -8.379   2.589  1.00 98.86           C  \\nATOM    685  CZ3 TRP A  90      -3.104  -6.598   1.994  1.00 98.86           C  \\nATOM    686  N   ILE A  91      -1.926  -3.224   7.177  1.00 98.86           N  \\nATOM    687  CA  ILE A  91      -1.329  -1.952   7.568  1.00 98.86           C  \\nATOM    688  C   ILE A  91      -0.418  -1.444   6.453  1.00 98.86           C  \\nATOM    689  CB  ILE A  91      -0.537  -2.082   8.889  1.00 98.86           C  \\nATOM    690  O   ILE A  91       0.234  -2.235   5.767  1.00 98.86           O  \\nATOM    691  CG1 ILE A  91      -0.057  -0.705   9.362  1.00 98.86           C  \\nATOM    692  CG2 ILE A  91       0.642  -3.045   8.720  1.00 98.86           C  \\nATOM    693  CD1 ILE A  91       0.421  -0.679  10.807  1.00 98.86           C  \\nATOM    694  N   VAL A  92      -0.489  -0.152   6.233  1.00 98.92           N  \\nATOM    695  CA  VAL A  92       0.432   0.533   5.332  1.00 98.92           C  \\nATOM    696  C   VAL A  92       1.622   1.073   6.122  1.00 98.92           C  \\nATOM    697  CB  VAL A  92      -0.268   1.682   4.571  1.00 98.92           C  \\nATOM    698  O   VAL A  92       1.445   1.779   7.118  1.00 98.92           O  \\nATOM    699  CG1 VAL A  92       0.710   2.379   3.628  1.00 98.92           C  \\nATOM    700  CG2 VAL A  92      -1.475   1.152   3.799  1.00 98.92           C  \\nATOM    701  N   LEU A  93       2.886   0.790   5.642  1.00 98.90           N  \\nATOM    702  CA  LEU A  93       4.085   1.244   6.339  1.00 98.90           C  \\nATOM    703  C   LEU A  93       5.108   1.799   5.353  1.00 98.90           C  \\nATOM    704  CB  LEU A  93       4.704   0.098   7.143  1.00 98.90           C  \\nATOM    705  O   LEU A  93       5.205   1.325   4.219  1.00 98.90           O  \\nATOM    706  CG  LEU A  93       3.857  -0.462   8.288  1.00 98.90           C  \\nATOM    707  CD1 LEU A  93       4.536  -1.681   8.902  1.00 98.90           C  \\nATOM    708  CD2 LEU A  93       3.613   0.610   9.345  1.00 98.90           C  \\nATOM    709  N   GLY A  94       5.744   2.780   5.786  1.00 98.42           N  \\nATOM    710  CA  GLY A  94       6.809   3.364   4.986  1.00 98.42           C  \\nATOM    711  C   GLY A  94       6.298   4.279   3.889  1.00 98.42           C  \\nATOM    712  O   GLY A  94       6.926   4.405   2.836  1.00 98.42           O  \\nATOM    713  N   HIS A  95       5.120   4.780   4.161  1.00 98.44           N  \\nATOM    714  CA  HIS A  95       4.586   5.705   3.167  1.00 98.44           C  \\nATOM    715  C   HIS A  95       5.518   6.894   2.963  1.00 98.44           C  \\nATOM    716  CB  HIS A  95       3.196   6.192   3.581  1.00 98.44           C  \\nATOM    717  O   HIS A  95       6.174   7.343   3.906  1.00 98.44           O  \\nATOM    718  CG  HIS A  95       2.476   6.936   2.502  1.00 98.44           C  \\nATOM    719  CD2 HIS A  95       1.634   6.504   1.533  1.00 98.44           C  \\nATOM    720  ND1 HIS A  95       2.589   8.300   2.335  1.00 98.44           N  \\nATOM    721  CE1 HIS A  95       1.845   8.675   1.308  1.00 98.44           C  \\nATOM    722  NE2 HIS A  95       1.256   7.604   0.804  1.00 98.44           N  \\nATOM    723  N   SER A  96       5.590   7.436   1.722  1.00 97.47           N  \\nATOM    724  CA  SER A  96       6.523   8.499   1.365  1.00 97.47           C  \\nATOM    725  C   SER A  96       6.346   9.716   2.265  1.00 97.47           C  \\nATOM    726  CB  SER A  96       6.340   8.905  -0.098  1.00 97.47           C  \\nATOM    727  O   SER A  96       7.319  10.395   2.600  1.00 97.47           O  \\nATOM    728  OG  SER A  96       5.012   9.340  -0.336  1.00 97.47           O  \\nATOM    729  N   GLU A  97       5.118   9.979   2.682  1.00 97.06           N  \\nATOM    730  CA  GLU A  97       4.868  11.127   3.549  1.00 97.06           C  \\nATOM    731  C   GLU A  97       5.488  10.922   4.928  1.00 97.06           C  \\nATOM    732  CB  GLU A  97       3.364  11.383   3.681  1.00 97.06           C  \\nATOM    733  O   GLU A  97       6.035  11.859   5.513  1.00 97.06           O  \\nATOM    734  CG  GLU A  97       2.715  11.908   2.409  1.00 97.06           C  \\nATOM    735  CD  GLU A  97       1.203  11.755   2.400  1.00 97.06           C  \\nATOM    736  OE1 GLU A  97       0.544  12.285   1.476  1.00 97.06           O  \\nATOM    737  OE2 GLU A  97       0.671  11.100   3.324  1.00 97.06           O  \\nATOM    738  N   ARG A  98       5.488   9.643   5.408  1.00 98.03           N  \\nATOM    739  CA  ARG A  98       6.098   9.342   6.699  1.00 98.03           C  \\nATOM    740  C   ARG A  98       7.618   9.433   6.620  1.00 98.03           C  \\nATOM    741  CB  ARG A  98       5.681   7.951   7.180  1.00 98.03           C  \\nATOM    742  O   ARG A  98       8.266   9.909   7.555  1.00 98.03           O  \\nATOM    743  CG  ARG A  98       4.187   7.808   7.428  1.00 98.03           C  \\nATOM    744  CD  ARG A  98       3.895   7.296   8.832  1.00 98.03           C  \\nATOM    745  NE  ARG A  98       4.830   7.844   9.810  1.00 98.03           N  \\nATOM    746  NH1 ARG A  98       3.249   9.117  10.914  1.00 98.03           N  \\nATOM    747  NH2 ARG A  98       5.432   9.133  11.614  1.00 98.03           N  \\nATOM    748  CZ  ARG A  98       4.502   8.697  10.777  1.00 98.03           C  \\nATOM    749  N   ARG A  99       8.103   9.026   5.504  1.00 98.02           N  \\nATOM    750  CA  ARG A  99       9.544   9.147   5.310  1.00 98.02           C  \\nATOM    751  C   ARG A  99       9.964  10.611   5.224  1.00 98.02           C  \\nATOM    752  CB  ARG A  99       9.981   8.402   4.047  1.00 98.02           C  \\nATOM    753  O   ARG A  99      10.947  11.017   5.847  1.00 98.02           O  \\nATOM    754  CG  ARG A  99       9.829   6.892   4.138  1.00 98.02           C  \\nATOM    755  CD  ARG A  99      10.235   6.205   2.842  1.00 98.02           C  \\nATOM    756  NE  ARG A  99      10.031   4.761   2.911  1.00 98.02           N  \\nATOM    757  NH1 ARG A  99      11.994   4.329   4.049  1.00 98.02           N  \\nATOM    758  NH2 ARG A  99      10.587   2.609   3.489  1.00 98.02           N  \\nATOM    759  CZ  ARG A  99      10.871   3.903   3.483  1.00 98.02           C  \\nATOM    760  N   ALA A 100       9.139  11.404   4.562  1.00 96.68           N  \\nATOM    761  CA  ALA A 100       9.492  12.794   4.285  1.00 96.68           C  \\nATOM    762  C   ALA A 100       9.232  13.679   5.501  1.00 96.68           C  \\nATOM    763  CB  ALA A 100       8.713  13.311   3.078  1.00 96.68           C  \\nATOM    764  O   ALA A 100      10.075  14.500   5.871  1.00 96.68           O  \\nATOM    765  N   TYR A 101       8.119  13.454   6.128  1.00 97.79           N  \\nATOM    766  CA  TYR A 101       7.694  14.429   7.126  1.00 97.79           C  \\nATOM    767  C   TYR A 101       8.092  13.983   8.528  1.00 97.79           C  \\nATOM    768  CB  TYR A 101       6.179  14.643   7.057  1.00 97.79           C  \\nATOM    769  O   TYR A 101       8.255  14.812   9.427  1.00 97.79           O  \\nATOM    770  CG  TYR A 101       5.689  15.083   5.699  1.00 97.79           C  \\nATOM    771  CD1 TYR A 101       6.494  15.855   4.864  1.00 97.79           C  \\nATOM    772  CD2 TYR A 101       4.422  14.730   5.248  1.00 97.79           C  \\nATOM    773  CE1 TYR A 101       6.046  16.266   3.612  1.00 97.79           C  \\nATOM    774  CE2 TYR A 101       3.964  15.134   3.998  1.00 97.79           C  \\nATOM    775  OH  TYR A 101       4.335  16.303   1.951  1.00 97.79           O  \\nATOM    776  CZ  TYR A 101       4.783  15.900   3.189  1.00 97.79           C  \\nATOM    777  N   TYR A 102       8.277  12.664   8.620  1.00 97.24           N  \\nATOM    778  CA  TYR A 102       8.433  12.191   9.991  1.00 97.24           C  \\nATOM    779  C   TYR A 102       9.730  11.406  10.152  1.00 97.24           C  \\nATOM    780  CB  TYR A 102       7.241  11.320  10.399  1.00 97.24           C  \\nATOM    781  O   TYR A 102       9.950  10.764  11.182  1.00 97.24           O  \\nATOM    782  CG  TYR A 102       5.922  12.054  10.391  1.00 97.24           C  \\nATOM    783  CD1 TYR A 102       5.517  12.810  11.489  1.00 97.24           C  \\nATOM    784  CD2 TYR A 102       5.079  11.992   9.288  1.00 97.24           C  \\nATOM    785  CE1 TYR A 102       4.302  13.486  11.487  1.00 97.24           C  \\nATOM    786  CE2 TYR A 102       3.861  12.665   9.275  1.00 97.24           C  \\nATOM    787  OH  TYR A 102       2.278  14.076  10.370  1.00 97.24           O  \\nATOM    788  CZ  TYR A 102       3.482  13.408  10.377  1.00 97.24           C  \\nATOM    789  N   GLY A 103      10.474  11.333   9.049  1.00 97.70           N  \\nATOM    790  CA  GLY A 103      11.839  10.836   9.112  1.00 97.70           C  \\nATOM    791  C   GLY A 103      11.920   9.329   9.265  1.00 97.70           C  \\nATOM    792  O   GLY A 103      12.832   8.814   9.916  1.00 97.70           O  \\nATOM    793  N   GLU A 104      11.023   8.623   8.764  1.00 98.44           N  \\nATOM    794  CA  GLU A 104      11.135   7.167   8.794  1.00 98.44           C  \\nATOM    795  C   GLU A 104      12.215   6.677   7.834  1.00 98.44           C  \\nATOM    796  CB  GLU A 104       9.792   6.517   8.452  1.00 98.44           C  \\nATOM    797  O   GLU A 104      12.097   6.849   6.619  1.00 98.44           O  \\nATOM    798  CG  GLU A 104       8.724   6.714   9.518  1.00 98.44           C  \\nATOM    799  CD  GLU A 104       7.500   5.836   9.311  1.00 98.44           C  \\nATOM    800  OE1 GLU A 104       6.637   5.775  10.215  1.00 98.44           O  \\nATOM    801  OE2 GLU A 104       7.405   5.203   8.236  1.00 98.44           O  \\nATOM    802  N   THR A 105      13.207   6.178   8.423  1.00 98.67           N  \\nATOM    803  CA  THR A 105      14.339   5.661   7.662  1.00 98.67           C  \\nATOM    804  C   THR A 105      14.064   4.240   7.181  1.00 98.67           C  \\nATOM    805  CB  THR A 105      15.631   5.681   8.500  1.00 98.67           C  \\nATOM    806  O   THR A 105      13.078   3.621   7.588  1.00 98.67           O  \\nATOM    807  CG2 THR A 105      15.908   7.077   9.051  1.00 98.67           C  \\nATOM    808  OG1 THR A 105      15.498   4.766   9.594  1.00 98.67           O  \\nATOM    809  N   ASN A 106      14.997   3.691   6.317  1.00 98.78           N  \\nATOM    810  CA  ASN A 106      14.880   2.305   5.875  1.00 98.78           C  \\nATOM    811  C   ASN A 106      14.860   1.339   7.056  1.00 98.78           C  \\nATOM    812  CB  ASN A 106      16.019   1.949   4.917  1.00 98.78           C  \\nATOM    813  O   ASN A 106      14.080   0.385   7.070  1.00 98.78           O  \\nATOM    814  CG  ASN A 106      15.936   2.703   3.605  1.00 98.78           C  \\nATOM    815  ND2 ASN A 106      17.053   2.777   2.892  1.00 98.78           N  \\nATOM    816  OD1 ASN A 106      14.876   3.215   3.235  1.00 98.78           O  \\nATOM    817  N   GLU A 107      15.642   1.673   8.017  1.00 98.71           N  \\nATOM    818  CA  GLU A 107      15.758   0.792   9.176  1.00 98.71           C  \\nATOM    819  C   GLU A 107      14.492   0.829  10.026  1.00 98.71           C  \\nATOM    820  CB  GLU A 107      16.973   1.178  10.024  1.00 98.71           C  \\nATOM    821  O   GLU A 107      14.022  -0.210  10.494  1.00 98.71           O  \\nATOM    822  CG  GLU A 107      18.308   0.859   9.367  1.00 98.71           C  \\nATOM    823  CD  GLU A 107      18.658   1.806   8.230  1.00 98.71           C  \\nATOM    824  OE1 GLU A 107      19.453   1.421   7.343  1.00 98.71           O  \\nATOM    825  OE2 GLU A 107      18.133   2.942   8.227  1.00 98.71           O  \\nATOM    826  N   ILE A 108      13.959   1.989  10.162  1.00 98.72           N  \\nATOM    827  CA  ILE A 108      12.735   2.121  10.944  1.00 98.72           C  \\nATOM    828  C   ILE A 108      11.598   1.371  10.254  1.00 98.72           C  \\nATOM    829  CB  ILE A 108      12.352   3.604  11.148  1.00 98.72           C  \\nATOM    830  O   ILE A 108      10.874   0.604  10.893  1.00 98.72           O  \\nATOM    831  CG1 ILE A 108      13.328   4.279  12.119  1.00 98.72           C  \\nATOM    832  CG2 ILE A 108      10.910   3.725  11.649  1.00 98.72           C  \\nATOM    833  CD1 ILE A 108      13.171   5.791  12.202  1.00 98.72           C  \\nATOM    834  N   VAL A 109      11.477   1.565   8.996  1.00 98.87           N  \\nATOM    835  CA  VAL A 109      10.417   0.911   8.235  1.00 98.87           C  \\nATOM    836  C   VAL A 109      10.613  -0.603   8.272  1.00 98.87           C  \\nATOM    837  CB  VAL A 109      10.380   1.409   6.772  1.00 98.87           C  \\nATOM    838  O   VAL A 109       9.656  -1.353   8.478  1.00 98.87           O  \\nATOM    839  CG1 VAL A 109       9.405   0.575   5.943  1.00 98.87           C  \\nATOM    840  CG2 VAL A 109      10.000   2.887   6.722  1.00 98.87           C  \\nATOM    841  N   ALA A 110      11.848  -1.046   8.116  1.00 98.88           N  \\nATOM    842  CA  ALA A 110      12.153  -2.474   8.163  1.00 98.88           C  \\nATOM    843  C   ALA A 110      11.754  -3.076   9.507  1.00 98.88           C  \\nATOM    844  CB  ALA A 110      13.638  -2.710   7.897  1.00 98.88           C  \\nATOM    845  O   ALA A 110      11.163  -4.157   9.560  1.00 98.88           O  \\nATOM    846  N   ASP A 111      12.027  -2.353  10.577  1.00 98.85           N  \\nATOM    847  CA  ASP A 111      11.668  -2.827  11.910  1.00 98.85           C  \\nATOM    848  C   ASP A 111      10.152  -2.911  12.074  1.00 98.85           C  \\nATOM    849  CB  ASP A 111      12.264  -1.913  12.983  1.00 98.85           C  \\nATOM    850  O   ASP A 111       9.636  -3.879  12.636  1.00 98.85           O  \\nATOM    851  CG  ASP A 111      13.767  -2.073  13.131  1.00 98.85           C  \\nATOM    852  OD1 ASP A 111      14.318  -3.102  12.684  1.00 98.85           O  \\nATOM    853  OD2 ASP A 111      14.405  -1.162  13.701  1.00 98.85           O  \\nATOM    854  N   LYS A 112       9.523  -1.969  11.559  1.00 98.86           N  \\nATOM    855  CA  LYS A 112       8.066  -1.957  11.659  1.00 98.86           C  \\nATOM    856  C   LYS A 112       7.450  -3.094  10.849  1.00 98.86           C  \\nATOM    857  CB  LYS A 112       7.507  -0.614  11.187  1.00 98.86           C  \\nATOM    858  O   LYS A 112       6.535  -3.773  11.320  1.00 98.86           O  \\nATOM    859  CG  LYS A 112       7.785   0.541  12.137  1.00 98.86           C  \\nATOM    860  CD  LYS A 112       7.111   1.825  11.669  1.00 98.86           C  \\nATOM    861  CE  LYS A 112       7.243   2.936  12.702  1.00 98.86           C  \\nATOM    862  NZ  LYS A 112       6.548   4.183  12.266  1.00 98.86           N  \\nATOM    863  N   VAL A 113       7.949  -3.249   9.663  1.00 98.92           N  \\nATOM    864  CA  VAL A 113       7.446  -4.316   8.804  1.00 98.92           C  \\nATOM    865  C   VAL A 113       7.668  -5.669   9.477  1.00 98.92           C  \\nATOM    866  CB  VAL A 113       8.124  -4.294   7.416  1.00 98.92           C  \\nATOM    867  O   VAL A 113       6.753  -6.494   9.543  1.00 98.92           O  \\nATOM    868  CG1 VAL A 113       7.802  -5.568   6.637  1.00 98.92           C  \\nATOM    869  CG2 VAL A 113       7.687  -3.059   6.629  1.00 98.92           C  \\nATOM    870  N   ALA A 114       8.806  -5.871   9.975  1.00 98.89           N  \\nATOM    871  CA  ALA A 114       9.133  -7.140  10.621  1.00 98.89           C  \\nATOM    872  C   ALA A 114       8.228  -7.393  11.824  1.00 98.89           C  \\nATOM    873  CB  ALA A 114      10.599  -7.155  11.050  1.00 98.89           C  \\nATOM    874  O   ALA A 114       7.696  -8.493  11.987  1.00 98.89           O  \\nATOM    875  N   ALA A 115       8.062  -6.382  12.587  1.00 98.83           N  \\nATOM    876  CA  ALA A 115       7.215  -6.514  13.770  1.00 98.83           C  \\nATOM    877  C   ALA A 115       5.768  -6.797  13.379  1.00 98.83           C  \\nATOM    878  CB  ALA A 115       7.295  -5.252  14.625  1.00 98.83           C  \\nATOM    879  O   ALA A 115       5.111  -7.649  13.983  1.00 98.83           O  \\nATOM    880  N   ALA A 116       5.280  -6.153  12.410  1.00 98.89           N  \\nATOM    881  CA  ALA A 116       3.902  -6.324  11.957  1.00 98.89           C  \\nATOM    882  C   ALA A 116       3.677  -7.727  11.401  1.00 98.89           C  \\nATOM    883  CB  ALA A 116       3.555  -5.276  10.902  1.00 98.89           C  \\nATOM    884  O   ALA A 116       2.699  -8.391  11.753  1.00 98.89           O  \\nATOM    885  N   VAL A 117       4.581  -8.140  10.571  1.00 98.83           N  \\nATOM    886  CA  VAL A 117       4.472  -9.469   9.980  1.00 98.83           C  \\nATOM    887  C   VAL A 117       4.523 -10.530  11.077  1.00 98.83           C  \\nATOM    888  CB  VAL A 117       5.589  -9.723   8.942  1.00 98.83           C  \\nATOM    889  O   VAL A 117       3.725 -11.470  11.078  1.00 98.83           O  \\nATOM    890  CG1 VAL A 117       5.665 -11.205   8.582  1.00 98.83           C  \\nATOM    891  CG2 VAL A 117       5.356  -8.877   7.692  1.00 98.83           C  \\nATOM    892  N   ALA A 118       5.411 -10.333  11.990  1.00 98.61           N  \\nATOM    893  CA  ALA A 118       5.552 -11.281  13.092  1.00 98.61           C  \\nATOM    894  C   ALA A 118       4.277 -11.347  13.927  1.00 98.61           C  \\nATOM    895  CB  ALA A 118       6.741 -10.900  13.972  1.00 98.61           C  \\nATOM    896  O   ALA A 118       3.979 -12.376  14.538  1.00 98.61           O  \\nATOM    897  N   SER A 119       3.544 -10.290  13.908  1.00 98.45           N  \\nATOM    898  CA  SER A 119       2.324 -10.216  14.706  1.00 98.45           C  \\nATOM    899  C   SER A 119       1.104 -10.625  13.888  1.00 98.45           C  \\nATOM    900  CB  SER A 119       2.128  -8.803  15.256  1.00 98.45           C  \\nATOM    901  O   SER A 119      -0.034 -10.421  14.316  1.00 98.45           O  \\nATOM    902  OG  SER A 119       3.146  -8.480  16.188  1.00 98.45           O  \\nATOM    903  N   GLY A 120       1.344 -11.063  12.614  1.00 98.42           N  \\nATOM    904  CA  GLY A 120       0.275 -11.658  11.827  1.00 98.42           C  \\nATOM    905  C   GLY A 120      -0.411 -10.666  10.906  1.00 98.42           C  \\nATOM    906  O   GLY A 120      -1.465 -10.962  10.340  1.00 98.42           O  \\nATOM    907  N   PHE A 121       0.085  -9.442  10.736  1.00 98.87           N  \\nATOM    908  CA  PHE A 121      -0.511  -8.439   9.862  1.00 98.87           C  \\nATOM    909  C   PHE A 121      -0.113  -8.681   8.411  1.00 98.87           C  \\nATOM    910  CB  PHE A 121      -0.093  -7.030  10.294  1.00 98.87           C  \\nATOM    911  O   PHE A 121       0.999  -9.137   8.134  1.00 98.87           O  \\nATOM    912  CG  PHE A 121      -0.756  -6.562  11.561  1.00 98.87           C  \\nATOM    913  CD1 PHE A 121      -1.926  -5.815  11.515  1.00 98.87           C  \\nATOM    914  CD2 PHE A 121      -0.207  -6.869  12.799  1.00 98.87           C  \\nATOM    915  CE1 PHE A 121      -2.542  -5.380  12.686  1.00 98.87           C  \\nATOM    916  CE2 PHE A 121      -0.817  -6.438  13.974  1.00 98.87           C  \\nATOM    917  CZ  PHE A 121      -1.983  -5.693  13.916  1.00 98.87           C  \\nATOM    918  N   MET A 122      -1.037  -8.430   7.474  1.00 98.89           N  \\nATOM    919  CA  MET A 122      -0.668  -8.145   6.091  1.00 98.89           C  \\nATOM    920  C   MET A 122      -0.119  -6.730   5.954  1.00 98.89           C  \\nATOM    921  CB  MET A 122      -1.871  -8.331   5.164  1.00 98.89           C  \\nATOM    922  O   MET A 122      -0.722  -5.775   6.446  1.00 98.89           O  \\nATOM    923  CG  MET A 122      -2.452  -9.736   5.188  1.00 98.89           C  \\nATOM    924  SD  MET A 122      -1.272 -10.995   4.564  1.00 98.89           S  \\nATOM    925  CE  MET A 122      -1.222 -10.545   2.807  1.00 98.89           C  \\nATOM    926  N   VAL A 123       1.076  -6.589   5.294  1.00 98.95           N  \\nATOM    927  CA  VAL A 123       1.722  -5.281   5.271  1.00 98.95           C  \\nATOM    928  C   VAL A 123       1.848  -4.792   3.830  1.00 98.95           C  \\nATOM    929  CB  VAL A 123       3.112  -5.323   5.943  1.00 98.95           C  \\nATOM    930  O   VAL A 123       2.315  -5.526   2.957  1.00 98.95           O  \\nATOM    931  CG1 VAL A 123       3.800  -3.963   5.846  1.00 98.95           C  \\nATOM    932  CG2 VAL A 123       2.986  -5.758   7.402  1.00 98.95           C  \\nATOM    933  N   ILE A 124       1.315  -3.605   3.580  1.00 98.95           N  \\nATOM    934  CA  ILE A 124       1.689  -2.860   2.383  1.00 98.95           C  \\nATOM    935  C   ILE A 124       2.908  -1.990   2.676  1.00 98.95           C  \\nATOM    936  CB  ILE A 124       0.519  -1.989   1.871  1.00 98.95           C  \\nATOM    937  O   ILE A 124       2.795  -0.951   3.330  1.00 98.95           O  \\nATOM    938  CG1 ILE A 124      -0.709  -2.860   1.584  1.00 98.95           C  \\nATOM    939  CG2 ILE A 124       0.937  -1.203   0.625  1.00 98.95           C  \\nATOM    940  CD1 ILE A 124      -1.975  -2.067   1.289  1.00 98.95           C  \\nATOM    941  N   ALA A 125       4.100  -2.475   2.260  1.00 98.91           N  \\nATOM    942  CA  ALA A 125       5.359  -1.763   2.467  1.00 98.91           C  \\nATOM    943  C   ALA A 125       5.667  -0.840   1.292  1.00 98.91           C  \\nATOM    944  CB  ALA A 125       6.502  -2.752   2.677  1.00 98.91           C  \\nATOM    945  O   ALA A 125       5.845  -1.302   0.162  1.00 98.91           O  \\nATOM    946  N   CYS A 126       5.748   0.443   1.618  1.00 98.85           N  \\nATOM    947  CA  CYS A 126       5.912   1.438   0.564  1.00 98.85           C  \\nATOM    948  C   CYS A 126       7.385   1.754   0.337  1.00 98.85           C  \\nATOM    949  CB  CYS A 126       5.155   2.718   0.915  1.00 98.85           C  \\nATOM    950  O   CYS A 126       8.136   1.960   1.292  1.00 98.85           O  \\nATOM    951  SG  CYS A 126       3.382   2.472   1.157  1.00 98.85           S  \\nATOM    952  N   ILE A 127       7.784   1.818  -0.930  1.00 98.74           N  \\nATOM    953  CA  ILE A 127       9.131   2.177  -1.360  1.00 98.74           C  \\nATOM    954  C   ILE A 127       9.056   3.103  -2.572  1.00 98.74           C  \\nATOM    955  CB  ILE A 127       9.971   0.924  -1.694  1.00 98.74           C  \\nATOM    956  O   ILE A 127       8.040   3.143  -3.269  1.00 98.74           O  \\nATOM    957  CG1 ILE A 127       9.351   0.164  -2.872  1.00 98.74           C  \\nATOM    958  CG2 ILE A 127      10.102   0.018  -0.466  1.00 98.74           C  \\nATOM    959  CD1 ILE A 127      10.244  -0.929  -3.443  1.00 98.74           C  \\nATOM    960  N   GLY A 128      10.152   3.814  -2.787  1.00 97.67           N  \\nATOM    961  CA  GLY A 128      10.162   4.704  -3.937  1.00 97.67           C  \\nATOM    962  C   GLY A 128      11.187   5.817  -3.821  1.00 97.67           C  \\nATOM    963  O   GLY A 128      11.827   5.972  -2.779  1.00 97.67           O  \\nATOM    964  N   GLU A 129      11.353   6.473  -4.904  1.00 96.86           N  \\nATOM    965  CA  GLU A 129      12.391   7.496  -4.987  1.00 96.86           C  \\nATOM    966  C   GLU A 129      11.786   8.880  -5.202  1.00 96.86           C  \\nATOM    967  CB  GLU A 129      13.377   7.172  -6.112  1.00 96.86           C  \\nATOM    968  O   GLU A 129      10.661   9.002  -5.693  1.00 96.86           O  \\nATOM    969  CG  GLU A 129      12.848   7.490  -7.503  1.00 96.86           C  \\nATOM    970  CD  GLU A 129      11.856   6.459  -8.018  1.00 96.86           C  \\nATOM    971  OE1 GLU A 129      11.470   6.529  -9.207  1.00 96.86           O  \\nATOM    972  OE2 GLU A 129      11.461   5.575  -7.226  1.00 96.86           O  \\nATOM    973  N   THR A 130      12.581   9.907  -4.893  1.00 95.13           N  \\nATOM    974  CA  THR A 130      12.195  11.290  -5.151  1.00 95.13           C  \\nATOM    975  C   THR A 130      12.484  11.671  -6.600  1.00 95.13           C  \\nATOM    976  CB  THR A 130      12.928  12.260  -4.206  1.00 95.13           C  \\nATOM    977  O   THR A 130      13.136  10.919  -7.327  1.00 95.13           O  \\nATOM    978  CG2 THR A 130      12.715  11.874  -2.747  1.00 95.13           C  \\nATOM    979  OG1 THR A 130      14.331  12.231  -4.496  1.00 95.13           O  \\nATOM    980  N   LEU A 131      11.970  12.903  -6.969  1.00 91.72           N  \\nATOM    981  CA  LEU A 131      12.219  13.411  -8.313  1.00 91.72           C  \\nATOM    982  C   LEU A 131      13.712  13.614  -8.550  1.00 91.72           C  \\nATOM    983  CB  LEU A 131      11.472  14.729  -8.535  1.00 91.72           C  \\nATOM    984  O   LEU A 131      14.235  13.236  -9.601  1.00 91.72           O  \\nATOM    985  CG  LEU A 131      11.625  15.371  -9.914  1.00 91.72           C  \\nATOM    986  CD1 LEU A 131      11.145  14.415 -11.001  1.00 91.72           C  \\nATOM    987  CD2 LEU A 131      10.860  16.689  -9.979  1.00 91.72           C  \\nATOM    988  N   GLN A 132      14.325  14.145  -7.573  1.00 94.29           N  \\nATOM    989  CA  GLN A 132      15.759  14.393  -7.674  1.00 94.29           C  \\nATOM    990  C   GLN A 132      16.528  13.094  -7.899  1.00 94.29           C  \\nATOM    991  CB  GLN A 132      16.273  15.097  -6.417  1.00 94.29           C  \\nATOM    992  O   GLN A 132      17.427  13.037  -8.740  1.00 94.29           O  \\nATOM    993  CG  GLN A 132      17.753  15.449  -6.471  1.00 94.29           C  \\nATOM    994  CD  GLN A 132      18.254  16.080  -5.185  1.00 94.29           C  \\nATOM    995  NE2 GLN A 132      19.494  16.556  -5.201  1.00 94.29           N  \\nATOM    996  OE1 GLN A 132      17.531  16.139  -4.185  1.00 94.29           O  \\nATOM    997  N   GLU A 133      16.219  12.080  -7.206  1.00 96.49           N  \\nATOM    998  CA  GLU A 133      16.859  10.773  -7.324  1.00 96.49           C  \\nATOM    999  C   GLU A 133      16.599  10.152  -8.693  1.00 96.49           C  \\nATOM   1000  CB  GLU A 133      16.370   9.833  -6.219  1.00 96.49           C  \\nATOM   1001  O   GLU A 133      17.494   9.546  -9.286  1.00 96.49           O  \\nATOM   1002  CG  GLU A 133      16.887  10.192  -4.833  1.00 96.49           C  \\nATOM   1003  CD  GLU A 133      16.109   9.522  -3.711  1.00 96.49           C  \\nATOM   1004  OE1 GLU A 133      16.623   9.458  -2.571  1.00 96.49           O  \\nATOM   1005  OE2 GLU A 133      14.978   9.058  -3.974  1.00 96.49           O  \\nATOM   1006  N   ARG A 134      15.419  10.291  -9.143  1.00 92.71           N  \\nATOM   1007  CA  ARG A 134      15.097   9.787 -10.474  1.00 92.71           C  \\nATOM   1008  C   ARG A 134      15.912  10.506 -11.544  1.00 92.71           C  \\nATOM   1009  CB  ARG A 134      13.602   9.943 -10.761  1.00 92.71           C  \\nATOM   1010  O   ARG A 134      16.509   9.866 -12.412  1.00 92.71           O  \\nATOM   1011  CG  ARG A 134      13.188   9.473 -12.147  1.00 92.71           C  \\nATOM   1012  CD  ARG A 134      11.674   9.407 -12.291  1.00 92.71           C  \\nATOM   1013  NE  ARG A 134      11.277   9.066 -13.654  1.00 92.71           N  \\nATOM   1014  NH1 ARG A 134      10.817   6.851 -13.187  1.00 92.71           N  \\nATOM   1015  NH2 ARG A 134      10.540   7.661 -15.314  1.00 92.71           N  \\nATOM   1016  CZ  ARG A 134      10.879   7.860 -14.049  1.00 92.71           C  \\nATOM   1017  N   GLU A 135      15.899  11.784 -11.496  1.00 92.88           N  \\nATOM   1018  CA  GLU A 135      16.570  12.597 -12.506  1.00 92.88           C  \\nATOM   1019  C   GLU A 135      18.082  12.397 -12.459  1.00 92.88           C  \\nATOM   1020  CB  GLU A 135      16.230  14.077 -12.318  1.00 92.88           C  \\nATOM   1021  O   GLU A 135      18.772  12.606 -13.460  1.00 92.88           O  \\nATOM   1022  CG  GLU A 135      14.800  14.433 -12.701  1.00 92.88           C  \\nATOM   1023  CD  GLU A 135      14.469  15.901 -12.486  1.00 92.88           C  \\nATOM   1024  OE1 GLU A 135      13.509  16.405 -13.112  1.00 92.88           O  \\nATOM   1025  OE2 GLU A 135      15.176  16.554 -11.686  1.00 92.88           O  \\nATOM   1026  N   SER A 136      18.529  11.833 -11.349  1.00 96.59           N  \\nATOM   1027  CA  SER A 136      19.961  11.586 -11.221  1.00 96.59           C  \\nATOM   1028  C   SER A 136      20.301  10.132 -11.531  1.00 96.59           C  \\nATOM   1029  CB  SER A 136      20.443  11.941  -9.813  1.00 96.59           C  \\nATOM   1030  O   SER A 136      21.429   9.691 -11.304  1.00 96.59           O  \\nATOM   1031  OG  SER A 136      19.847  11.091  -8.848  1.00 96.59           O  \\nATOM   1032  N   GLY A 137      19.296   9.354 -12.002  1.00 95.23           N  \\nATOM   1033  CA  GLY A 137      19.521   7.974 -12.401  1.00 95.23           C  \\nATOM   1034  C   GLY A 137      19.708   7.035 -11.224  1.00 95.23           C  \\nATOM   1035  O   GLY A 137      20.354   5.993 -11.351  1.00 95.23           O  \\nATOM   1036  N   ARG A 138      19.134   7.392 -10.093  1.00 97.17           N  \\nATOM   1037  CA  ARG A 138      19.375   6.629  -8.873  1.00 97.17           C  \\nATOM   1038  C   ARG A 138      18.145   5.817  -8.483  1.00 97.17           C  \\nATOM   1039  CB  ARG A 138      19.775   7.560  -7.726  1.00 97.17           C  \\nATOM   1040  O   ARG A 138      18.032   5.361  -7.343  1.00 97.17           O  \\nATOM   1041  CG  ARG A 138      21.149   8.188  -7.892  1.00 97.17           C  \\nATOM   1042  CD  ARG A 138      21.696   8.708  -6.570  1.00 97.17           C  \\nATOM   1043  NE  ARG A 138      20.836   9.741  -6.000  1.00 97.17           N  \\nATOM   1044  NH1 ARG A 138      21.971   9.869  -3.992  1.00 97.17           N  \\nATOM   1045  NH2 ARG A 138      20.146  11.205  -4.370  1.00 97.17           N  \\nATOM   1046  CZ  ARG A 138      20.986  10.269  -4.789  1.00 97.17           C  \\nATOM   1047  N   THR A 139      17.177   5.677  -9.356  1.00 95.80           N  \\nATOM   1048  CA  THR A 139      15.947   4.955  -9.048  1.00 95.80           C  \\nATOM   1049  C   THR A 139      16.257   3.546  -8.550  1.00 95.80           C  \\nATOM   1050  CB  THR A 139      15.023   4.876 -10.277  1.00 95.80           C  \\nATOM   1051  O   THR A 139      15.782   3.139  -7.488  1.00 95.80           O  \\nATOM   1052  CG2 THR A 139      13.763   4.074  -9.968  1.00 95.80           C  \\nATOM   1053  OG1 THR A 139      14.648   6.201 -10.672  1.00 95.80           O  \\nATOM   1054  N   ALA A 140      17.074   2.811  -9.265  1.00 97.71           N  \\nATOM   1055  CA  ALA A 140      17.371   1.421  -8.927  1.00 97.71           C  \\nATOM   1056  C   ALA A 140      18.036   1.321  -7.557  1.00 97.71           C  \\nATOM   1057  CB  ALA A 140      18.262   0.792  -9.995  1.00 97.71           C  \\nATOM   1058  O   ALA A 140      17.622   0.520  -6.716  1.00 97.71           O  \\nATOM   1059  N   VAL A 141      18.981   2.176  -7.328  1.00 98.23           N  \\nATOM   1060  CA  VAL A 141      19.741   2.094  -6.085  1.00 98.23           C  \\nATOM   1061  C   VAL A 141      18.834   2.423  -4.901  1.00 98.23           C  \\nATOM   1062  CB  VAL A 141      20.960   3.043  -6.101  1.00 98.23           C  \\nATOM   1063  O   VAL A 141      18.861   1.734  -3.879  1.00 98.23           O  \\nATOM   1064  CG1 VAL A 141      20.509   4.503  -6.095  1.00 98.23           C  \\nATOM   1065  CG2 VAL A 141      21.874   2.759  -4.911  1.00 98.23           C  \\nATOM   1066  N   VAL A 142      17.979   3.368  -5.029  1.00 98.36           N  \\nATOM   1067  CA  VAL A 142      17.113   3.794  -3.934  1.00 98.36           C  \\nATOM   1068  C   VAL A 142      16.076   2.712  -3.645  1.00 98.36           C  \\nATOM   1069  CB  VAL A 142      16.412   5.133  -4.252  1.00 98.36           C  \\nATOM   1070  O   VAL A 142      15.918   2.284  -2.499  1.00 98.36           O  \\nATOM   1071  CG1 VAL A 142      15.313   5.423  -3.232  1.00 98.36           C  \\nATOM   1072  CG2 VAL A 142      17.429   6.273  -4.285  1.00 98.36           C  \\nATOM   1073  N   VAL A 143      15.402   2.304  -4.664  1.00 98.23           N  \\nATOM   1074  CA  VAL A 143      14.308   1.351  -4.509  1.00 98.23           C  \\nATOM   1075  C   VAL A 143      14.845   0.031  -3.961  1.00 98.23           C  \\nATOM   1076  CB  VAL A 143      13.570   1.112  -5.846  1.00 98.23           C  \\nATOM   1077  O   VAL A 143      14.277  -0.537  -3.025  1.00 98.23           O  \\nATOM   1078  CG1 VAL A 143      12.680  -0.127  -5.757  1.00 98.23           C  \\nATOM   1079  CG2 VAL A 143      12.746   2.340  -6.227  1.00 98.23           C  \\nATOM   1080  N   LEU A 144      15.953  -0.430  -4.417  1.00 98.39           N  \\nATOM   1081  CA  LEU A 144      16.480  -1.727  -4.005  1.00 98.39           C  \\nATOM   1082  C   LEU A 144      17.067  -1.653  -2.599  1.00 98.39           C  \\nATOM   1083  CB  LEU A 144      17.546  -2.211  -4.991  1.00 98.39           C  \\nATOM   1084  O   LEU A 144      17.006  -2.626  -1.844  1.00 98.39           O  \\nATOM   1085  CG  LEU A 144      17.066  -2.519  -6.410  1.00 98.39           C  \\nATOM   1086  CD1 LEU A 144      18.220  -3.045  -7.257  1.00 98.39           C  \\nATOM   1087  CD2 LEU A 144      15.918  -3.522  -6.381  1.00 98.39           C  \\nATOM   1088  N   THR A 145      17.648  -0.475  -2.272  1.00 98.68           N  \\nATOM   1089  CA  THR A 145      18.141  -0.296  -0.911  1.00 98.68           C  \\nATOM   1090  C   THR A 145      16.995  -0.366   0.093  1.00 98.68           C  \\nATOM   1091  CB  THR A 145      18.882   1.045  -0.757  1.00 98.68           C  \\nATOM   1092  O   THR A 145      17.141  -0.945   1.171  1.00 98.68           O  \\nATOM   1093  CG2 THR A 145      19.328   1.264   0.685  1.00 98.68           C  \\nATOM   1094  OG1 THR A 145      20.034   1.048  -1.608  1.00 98.68           O  \\nATOM   1095  N   GLN A 146      15.899   0.207  -0.234  1.00 98.77           N  \\nATOM   1096  CA  GLN A 146      14.737   0.207   0.649  1.00 98.77           C  \\nATOM   1097  C   GLN A 146      14.170  -1.200   0.812  1.00 98.77           C  \\nATOM   1098  CB  GLN A 146      13.657   1.150   0.116  1.00 98.77           C  \\nATOM   1099  O   GLN A 146      13.878  -1.632   1.929  1.00 98.77           O  \\nATOM   1100  CG  GLN A 146      14.049   2.621   0.158  1.00 98.77           C  \\nATOM   1101  CD  GLN A 146      12.996   3.527  -0.451  1.00 98.77           C  \\nATOM   1102  NE2 GLN A 146      13.213   4.835  -0.359  1.00 98.77           N  \\nATOM   1103  OE1 GLN A 146      11.996   3.056  -1.002  1.00 98.77           O  \\nATOM   1104  N   ILE A 147      14.015  -1.924  -0.253  1.00 98.52           N  \\nATOM   1105  CA  ILE A 147      13.476  -3.277  -0.169  1.00 98.52           C  \\nATOM   1106  C   ILE A 147      14.498  -4.198   0.494  1.00 98.52           C  \\nATOM   1107  CB  ILE A 147      13.090  -3.819  -1.563  1.00 98.52           C  \\nATOM   1108  O   ILE A 147      14.128  -5.130   1.212  1.00 98.52           O  \\nATOM   1109  CG1 ILE A 147      12.299  -5.125  -1.427  1.00 98.52           C  \\nATOM   1110  CG2 ILE A 147      14.337  -4.022  -2.428  1.00 98.52           C  \\nATOM   1111  CD1 ILE A 147      11.633  -5.583  -2.718  1.00 98.52           C  \\nATOM   1112  N   ALA A 148      15.772  -3.991   0.267  1.00 98.76           N  \\nATOM   1113  CA  ALA A 148      16.816  -4.795   0.897  1.00 98.76           C  \\nATOM   1114  C   ALA A 148      16.776  -4.653   2.416  1.00 98.76           C  \\nATOM   1115  CB  ALA A 148      18.190  -4.394   0.364  1.00 98.76           C  \\nATOM   1116  O   ALA A 148      16.985  -5.627   3.142  1.00 98.76           O  \\nATOM   1117  N   ALA A 149      16.553  -3.483   2.887  1.00 98.85           N  \\nATOM   1118  CA  ALA A 149      16.455  -3.262   4.327  1.00 98.85           C  \\nATOM   1119  C   ALA A 149      15.337  -4.102   4.937  1.00 98.85           C  \\nATOM   1120  CB  ALA A 149      16.227  -1.782   4.624  1.00 98.85           C  \\nATOM   1121  O   ALA A 149      15.508  -4.695   6.005  1.00 98.85           O  \\nATOM   1122  N   ILE A 150      14.191  -4.191   4.238  1.00 98.83           N  \\nATOM   1123  CA  ILE A 150      13.066  -5.002   4.690  1.00 98.83           C  \\nATOM   1124  C   ILE A 150      13.445  -6.481   4.643  1.00 98.83           C  \\nATOM   1125  CB  ILE A 150      11.804  -4.744   3.837  1.00 98.83           C  \\nATOM   1126  O   ILE A 150      13.214  -7.218   5.604  1.00 98.83           O  \\nATOM   1127  CG1 ILE A 150      11.289  -3.318   4.063  1.00 98.83           C  \\nATOM   1128  CG2 ILE A 150      10.718  -5.776   4.155  1.00 98.83           C  \\nATOM   1129  CD1 ILE A 150      10.239  -2.873   3.055  1.00 98.83           C  \\nATOM   1130  N   ALA A 151      14.096  -6.864   3.603  1.00 98.69           N  \\nATOM   1131  CA  ALA A 151      14.451  -8.263   3.378  1.00 98.69           C  \\nATOM   1132  C   ALA A 151      15.404  -8.767   4.458  1.00 98.69           C  \\nATOM   1133  CB  ALA A 151      15.076  -8.438   1.996  1.00 98.69           C  \\nATOM   1134  O   ALA A 151      15.338  -9.931   4.859  1.00 98.69           O  \\nATOM   1135  N   LYS A 152      16.251  -7.905   4.948  1.00 98.54           N  \\nATOM   1136  CA  LYS A 152      17.236  -8.278   5.959  1.00 98.54           C  \\nATOM   1137  C   LYS A 152      16.558  -8.694   7.261  1.00 98.54           C  \\nATOM   1138  CB  LYS A 152      18.204  -7.122   6.218  1.00 98.54           C  \\nATOM   1139  O   LYS A 152      17.142  -9.422   8.067  1.00 98.54           O  \\nATOM   1140  CG  LYS A 152      19.253  -6.937   5.131  1.00 98.54           C  \\nATOM   1141  CD  LYS A 152      20.191  -5.781   5.451  1.00 98.54           C  \\nATOM   1142  CE  LYS A 152      21.192  -5.545   4.328  1.00 98.54           C  \\nATOM   1143  NZ  LYS A 152      22.044  -4.346   4.588  1.00 98.54           N  \\nATOM   1144  N   LYS A 153      15.320  -8.335   7.399  1.00 98.67           N  \\nATOM   1145  CA  LYS A 153      14.655  -8.565   8.678  1.00 98.67           C  \\nATOM   1146  C   LYS A 153      13.605  -9.666   8.562  1.00 98.67           C  \\nATOM   1147  CB  LYS A 153      14.008  -7.275   9.186  1.00 98.67           C  \\nATOM   1148  O   LYS A 153      12.977 -10.039   9.555  1.00 98.67           O  \\nATOM   1149  CG  LYS A 153      14.995  -6.142   9.430  1.00 98.67           C  \\nATOM   1150  CD  LYS A 153      15.829  -6.387  10.680  1.00 98.67           C  \\nATOM   1151  CE  LYS A 153      16.674  -5.171  11.037  1.00 98.67           C  \\nATOM   1152  NZ  LYS A 153      17.556  -5.435  12.213  1.00 98.67           N  \\nATOM   1153  N   LEU A 154      13.394 -10.111   7.350  1.00 98.72           N  \\nATOM   1154  CA  LEU A 154      12.322 -11.078   7.140  1.00 98.72           C  \\nATOM   1155  C   LEU A 154      12.885 -12.427   6.705  1.00 98.72           C  \\nATOM   1156  CB  LEU A 154      11.332 -10.563   6.092  1.00 98.72           C  \\nATOM   1157  O   LEU A 154      13.912 -12.486   6.025  1.00 98.72           O  \\nATOM   1158  CG  LEU A 154      10.603  -9.262   6.430  1.00 98.72           C  \\nATOM   1159  CD1 LEU A 154       9.597  -8.918   5.336  1.00 98.72           C  \\nATOM   1160  CD2 LEU A 154       9.911  -9.373   7.784  1.00 98.72           C  \\nATOM   1161  N   LYS A 155      12.218 -13.415   7.181  1.00 98.33           N  \\nATOM   1162  CA  LYS A 155      12.425 -14.738   6.599  1.00 98.33           C  \\nATOM   1163  C   LYS A 155      11.621 -14.905   5.313  1.00 98.33           C  \\nATOM   1164  CB  LYS A 155      12.045 -15.830   7.601  1.00 98.33           C  \\nATOM   1165  O   LYS A 155      10.652 -14.179   5.082  1.00 98.33           O  \\nATOM   1166  CG  LYS A 155      12.820 -15.768   8.908  1.00 98.33           C  \\nATOM   1167  CD  LYS A 155      12.314 -16.801   9.908  1.00 98.33           C  \\nATOM   1168  CE  LYS A 155      13.022 -16.674  11.250  1.00 98.33           C  \\nATOM   1169  NZ  LYS A 155      12.485 -17.642  12.252  1.00 98.33           N  \\nATOM   1170  N   LYS A 156      12.093 -15.880   4.510  1.00 98.39           N  \\nATOM   1171  CA  LYS A 156      11.423 -16.146   3.240  1.00 98.39           C  \\nATOM   1172  C   LYS A 156       9.929 -16.375   3.445  1.00 98.39           C  \\nATOM   1173  CB  LYS A 156      12.049 -17.356   2.546  1.00 98.39           C  \\nATOM   1174  O   LYS A 156       9.106 -15.848   2.693  1.00 98.39           O  \\nATOM   1175  CG  LYS A 156      11.466 -17.651   1.172  1.00 98.39           C  \\nATOM   1176  CD  LYS A 156      12.220 -18.777   0.475  1.00 98.39           C  \\nATOM   1177  CE  LYS A 156      11.617 -19.095  -0.887  1.00 98.39           C  \\nATOM   1178  NZ  LYS A 156      12.386 -20.160  -1.598  1.00 98.39           N  \\nATOM   1179  N   ALA A 157       9.491 -17.097   4.462  1.00 98.16           N  \\nATOM   1180  CA  ALA A 157       8.095 -17.446   4.716  1.00 98.16           C  \\nATOM   1181  C   ALA A 157       7.271 -16.206   5.050  1.00 98.16           C  \\nATOM   1182  CB  ALA A 157       7.999 -18.466   5.848  1.00 98.16           C  \\nATOM   1183  O   ALA A 157       6.051 -16.196   4.868  1.00 98.16           O  \\nATOM   1184  N   ASP A 158       7.927 -15.166   5.533  1.00 98.63           N  \\nATOM   1185  CA  ASP A 158       7.243 -13.942   5.939  1.00 98.63           C  \\nATOM   1186  C   ASP A 158       6.694 -13.191   4.727  1.00 98.63           C  \\nATOM   1187  CB  ASP A 158       8.189 -13.038   6.733  1.00 98.63           C  \\nATOM   1188  O   ASP A 158       5.752 -12.406   4.852  1.00 98.63           O  \\nATOM   1189  CG  ASP A 158       8.569 -13.618   8.084  1.00 98.63           C  \\nATOM   1190  OD1 ASP A 158       7.731 -14.302   8.712  1.00 98.63           O  \\nATOM   1191  OD2 ASP A 158       9.715 -13.388   8.526  1.00 98.63           O  \\nATOM   1192  N   TRP A 159       7.250 -13.418   3.555  1.00 98.61           N  \\nATOM   1193  CA  TRP A 159       6.932 -12.631   2.368  1.00 98.61           C  \\nATOM   1194  C   TRP A 159       5.512 -12.914   1.891  1.00 98.61           C  \\nATOM   1195  CB  TRP A 159       7.930 -12.925   1.244  1.00 98.61           C  \\nATOM   1196  O   TRP A 159       4.945 -12.142   1.114  1.00 98.61           O  \\nATOM   1197  CG  TRP A 159       9.243 -12.218   1.396  1.00 98.61           C  \\nATOM   1198  CD1 TRP A 159      10.354 -12.674   2.049  1.00 98.61           C  \\nATOM   1199  CD2 TRP A 159       9.580 -10.924   0.886  1.00 98.61           C  \\nATOM   1200  CE2 TRP A 159      10.914 -10.659   1.268  1.00 98.61           C  \\nATOM   1201  CE3 TRP A 159       8.884  -9.962   0.143  1.00 98.61           C  \\nATOM   1202  NE1 TRP A 159      11.363 -11.742   1.976  1.00 98.61           N  \\nATOM   1203  CH2 TRP A 159      10.861  -8.546   0.203  1.00 98.61           C  \\nATOM   1204  CZ2 TRP A 159      11.566  -9.470   0.931  1.00 98.61           C  \\nATOM   1205  CZ3 TRP A 159       9.534  -8.780  -0.192  1.00 98.61           C  \\nATOM   1206  N   ALA A 160       4.888 -13.966   2.445  1.00 98.31           N  \\nATOM   1207  CA  ALA A 160       3.489 -14.247   2.131  1.00 98.31           C  \\nATOM   1208  C   ALA A 160       2.572 -13.167   2.698  1.00 98.31           C  \\nATOM   1209  CB  ALA A 160       3.088 -15.618   2.670  1.00 98.31           C  \\nATOM   1210  O   ALA A 160       1.419 -13.040   2.277  1.00 98.31           O  \\nATOM   1211  N   LYS A 161       3.081 -12.371   3.587  1.00 98.79           N  \\nATOM   1212  CA  LYS A 161       2.283 -11.352   4.262  1.00 98.79           C  \\nATOM   1213  C   LYS A 161       2.695  -9.950   3.821  1.00 98.79           C  \\nATOM   1214  CB  LYS A 161       2.416 -11.484   5.780  1.00 98.79           C  \\nATOM   1215  O   LYS A 161       2.286  -8.958   4.427  1.00 98.79           O  \\nATOM   1216  CG  LYS A 161       1.783 -12.744   6.350  1.00 98.79           C  \\nATOM   1217  CD  LYS A 161       1.959 -12.824   7.861  1.00 98.79           C  \\nATOM   1218  CE  LYS A 161       1.416 -14.133   8.419  1.00 98.79           C  \\nATOM   1219  NZ  LYS A 161       2.244 -14.635   9.556  1.00 98.79           N  \\nATOM   1220  N   VAL A 162       3.586  -9.873   2.818  1.00 98.87           N  \\nATOM   1221  CA  VAL A 162       4.119  -8.579   2.407  1.00 98.87           C  \\nATOM   1222  C   VAL A 162       3.624  -8.237   1.003  1.00 98.87           C  \\nATOM   1223  CB  VAL A 162       5.664  -8.564   2.446  1.00 98.87           C  \\nATOM   1224  O   VAL A 162       3.638  -9.087   0.110  1.00 98.87           O  \\nATOM   1225  CG1 VAL A 162       6.205  -7.246   1.895  1.00 98.87           C  \\nATOM   1226  CG2 VAL A 162       6.164  -8.797   3.870  1.00 98.87           C  \\nATOM   1227  N   VAL A 163       3.172  -7.047   0.903  1.00 98.93           N  \\nATOM   1228  CA  VAL A 163       2.894  -6.372  -0.360  1.00 98.93           C  \\nATOM   1229  C   VAL A 163       3.829  -5.175  -0.523  1.00 98.93           C  \\nATOM   1230  CB  VAL A 163       1.421  -5.912  -0.446  1.00 98.93           C  \\nATOM   1231  O   VAL A 163       4.089  -4.447   0.437  1.00 98.93           O  \\nATOM   1232  CG1 VAL A 163       1.159  -5.180  -1.761  1.00 98.93           C  \\nATOM   1233  CG2 VAL A 163       0.481  -7.107  -0.300  1.00 98.93           C  \\nATOM   1234  N   ILE A 164       4.336  -5.022  -1.756  1.00 98.92           N  \\nATOM   1235  CA  ILE A 164       5.182  -3.861  -2.010  1.00 98.92           C  \\nATOM   1236  C   ILE A 164       4.398  -2.815  -2.800  1.00 98.92           C  \\nATOM   1237  CB  ILE A 164       6.468  -4.254  -2.772  1.00 98.92           C  \\nATOM   1238  O   ILE A 164       3.802  -3.127  -3.834  1.00 98.92           O  \\nATOM   1239  CG1 ILE A 164       7.288  -5.256  -1.952  1.00 98.92           C  \\nATOM   1240  CG2 ILE A 164       7.298  -3.012  -3.107  1.00 98.92           C  \\nATOM   1241  CD1 ILE A 164       7.784  -4.708  -0.620  1.00 98.92           C  \\nATOM   1242  N   ALA A 165       4.376  -1.644  -2.269  1.00 98.84           N  \\nATOM   1243  CA  ALA A 165       3.840  -0.519  -3.032  1.00 98.84           C  \\nATOM   1244  C   ALA A 165       4.958   0.409  -3.497  1.00 98.84           C  \\nATOM   1245  CB  ALA A 165       2.823   0.254  -2.197  1.00 98.84           C  \\nATOM   1246  O   ALA A 165       5.590   1.087  -2.683  1.00 98.84           O  \\nATOM   1247  N   TYR A 166       5.223   0.364  -4.787  1.00 98.70           N  \\nATOM   1248  CA  TYR A 166       6.193   1.284  -5.371  1.00 98.70           C  \\nATOM   1249  C   TYR A 166       5.576   2.660  -5.590  1.00 98.70           C  \\nATOM   1250  CB  TYR A 166       6.726   0.733  -6.697  1.00 98.70           C  \\nATOM   1251  O   TYR A 166       4.601   2.799  -6.333  1.00 98.70           O  \\nATOM   1252  CG  TYR A 166       7.547   1.728  -7.481  1.00 98.70           C  \\nATOM   1253  CD1 TYR A 166       7.124   2.180  -8.729  1.00 98.70           C  \\nATOM   1254  CD2 TYR A 166       8.747   2.216  -6.977  1.00 98.70           C  \\nATOM   1255  CE1 TYR A 166       7.878   3.095  -9.456  1.00 98.70           C  \\nATOM   1256  CE2 TYR A 166       9.510   3.131  -7.695  1.00 98.70           C  \\nATOM   1257  OH  TYR A 166       9.818   4.470  -9.647  1.00 98.70           O  \\nATOM   1258  CZ  TYR A 166       9.068   3.564  -8.932  1.00 98.70           C  \\nATOM   1259  N   GLU A 167       6.229   3.678  -4.954  1.00 95.43           N  \\nATOM   1260  CA  GLU A 167       5.740   5.052  -5.025  1.00 95.43           C  \\nATOM   1261  C   GLU A 167       6.757   5.966  -5.703  1.00 95.43           C  \\nATOM   1262  CB  GLU A 167       5.410   5.579  -3.626  1.00 95.43           C  \\nATOM   1263  O   GLU A 167       7.682   6.461  -5.057  1.00 95.43           O  \\nATOM   1264  CG  GLU A 167       4.273   4.834  -2.941  1.00 95.43           C  \\nATOM   1265  CD  GLU A 167       3.901   5.420  -1.589  1.00 95.43           C  \\nATOM   1266  OE1 GLU A 167       2.803   6.010  -1.465  1.00 95.43           O  \\nATOM   1267  OE2 GLU A 167       4.713   5.291  -0.646  1.00 95.43           O  \\nATOM   1268  N   PRO A 168       6.545   6.226  -6.974  1.00 92.45           N  \\nATOM   1269  CA  PRO A 168       7.339   7.353  -7.469  1.00 92.45           C  \\nATOM   1270  C   PRO A 168       6.928   8.684  -6.844  1.00 92.45           C  \\nATOM   1271  CB  PRO A 168       7.060   7.347  -8.974  1.00 92.45           C  \\nATOM   1272  O   PRO A 168       5.956   9.303  -7.285  1.00 92.45           O  \\nATOM   1273  CG  PRO A 168       5.694   6.755  -9.107  1.00 92.45           C  \\nATOM   1274  CD  PRO A 168       5.492   5.766  -7.995  1.00 92.45           C  \\nATOM   1275  N   VAL A 169       7.673   9.128  -5.946  1.00 89.05           N  \\nATOM   1276  CA  VAL A 169       7.275  10.284  -5.150  1.00 89.05           C  \\nATOM   1277  C   VAL A 169       7.028  11.481  -6.066  1.00 89.05           C  \\nATOM   1278  CB  VAL A 169       8.342  10.637  -4.089  1.00 89.05           C  \\nATOM   1279  O   VAL A 169       6.164  12.316  -5.787  1.00 89.05           O  \\nATOM   1280  CG1 VAL A 169       7.943  11.895  -3.320  1.00 89.05           C  \\nATOM   1281  CG2 VAL A 169       8.549   9.465  -3.132  1.00 89.05           C  \\nATOM   1282  N   TRP A 170       7.614  11.514  -7.169  1.00 86.90           N  \\nATOM   1283  CA  TRP A 170       7.496  12.637  -8.093  1.00 86.90           C  \\nATOM   1284  C   TRP A 170       6.192  12.562  -8.880  1.00 86.90           C  \\nATOM   1285  CB  TRP A 170       8.687  12.669  -9.055  1.00 86.90           C  \\nATOM   1286  O   TRP A 170       5.805  13.525  -9.545  1.00 86.90           O  \\nATOM   1287  CG  TRP A 170       8.955  11.361  -9.736  1.00 86.90           C  \\nATOM   1288  CD1 TRP A 170       9.773  10.356  -9.297  1.00 86.90           C  \\nATOM   1289  CD2 TRP A 170       8.407  10.917 -10.980  1.00 86.90           C  \\nATOM   1290  CE2 TRP A 170       8.935   9.632 -11.236  1.00 86.90           C  \\nATOM   1291  CE3 TRP A 170       7.518  11.481 -11.905  1.00 86.90           C  \\nATOM   1292  NE1 TRP A 170       9.765   9.314 -10.195  1.00 86.90           N  \\nATOM   1293  CH2 TRP A 170       7.731   9.478 -13.268  1.00 86.90           C  \\nATOM   1294  CZ2 TRP A 170       8.603   8.902 -12.380  1.00 86.90           C  \\nATOM   1295  CZ3 TRP A 170       7.188  10.753 -13.043  1.00 86.90           C  \\nATOM   1296  N   ALA A 171       5.563  11.498  -8.813  1.00 85.90           N  \\nATOM   1297  CA  ALA A 171       4.306  11.338  -9.539  1.00 85.90           C  \\nATOM   1298  C   ALA A 171       3.116  11.348  -8.584  1.00 85.90           C  \\nATOM   1299  CB  ALA A 171       4.321  10.045 -10.351  1.00 85.90           C  \\nATOM   1300  O   ALA A 171       1.979  11.105  -8.995  1.00 85.90           O  \\nATOM   1301  N   ILE A 172       3.301  11.624  -7.307  1.00 78.57           N  \\nATOM   1302  CA  ILE A 172       2.212  11.656  -6.338  1.00 78.57           C  \\nATOM   1303  C   ILE A 172       1.718  13.090  -6.163  1.00 78.57           C  \\nATOM   1304  CB  ILE A 172       2.649  11.069  -4.977  1.00 78.57           C  \\nATOM   1305  O   ILE A 172       2.452  13.950  -5.669  1.00 78.57           O  \\nATOM   1306  CG1 ILE A 172       3.116   9.619  -5.145  1.00 78.57           C  \\nATOM   1307  CG2 ILE A 172       1.511  11.164  -3.957  1.00 78.57           C  \\nATOM   1308  CD1 ILE A 172       3.730   9.016  -3.889  1.00 78.57           C  \\nATOM   1309  N   GLY A 173       0.544  13.374  -6.617  1.00 73.47           N  \\nATOM   1310  CA  GLY A 173      -0.124  14.629  -6.312  1.00 73.47           C  \\nATOM   1311  C   GLY A 173       0.471  15.815  -7.047  1.00 73.47           C  \\nATOM   1312  O   GLY A 173       0.269  16.964  -6.648  1.00 73.47           O  \\nATOM   1313  N   THR A 174       1.347  15.554  -8.049  1.00 78.21           N  \\nATOM   1314  CA  THR A 174       2.052  16.655  -8.694  1.00 78.21           C  \\nATOM   1315  C   THR A 174       1.426  16.980 -10.047  1.00 78.21           C  \\nATOM   1316  CB  THR A 174       3.545  16.329  -8.882  1.00 78.21           C  \\nATOM   1317  O   THR A 174       1.687  18.040 -10.620  1.00 78.21           O  \\nATOM   1318  CG2 THR A 174       4.197  15.949  -7.556  1.00 78.21           C  \\nATOM   1319  OG1 THR A 174       3.678  15.234  -9.797  1.00 78.21           O  \\nATOM   1320  N   GLY A 175       0.557  16.094 -10.559  1.00 73.49           N  \\nATOM   1321  CA  GLY A 175       0.050  16.223 -11.916  1.00 73.49           C  \\nATOM   1322  C   GLY A 175       0.925  15.538 -12.948  1.00 73.49           C  \\nATOM   1323  O   GLY A 175       0.535  15.403 -14.110  1.00 73.49           O  \\nATOM   1324  N   LYS A 176       2.228  15.285 -12.469  1.00 76.95           N  \\nATOM   1325  CA  LYS A 176       3.107  14.473 -13.305  1.00 76.95           C  \\nATOM   1326  C   LYS A 176       2.750  12.993 -13.202  1.00 76.95           C  \\nATOM   1327  CB  LYS A 176       4.570  14.687 -12.913  1.00 76.95           C  \\nATOM   1328  O   LYS A 176       2.570  12.467 -12.102  1.00 76.95           O  \\nATOM   1329  CG  LYS A 176       5.103  16.073 -13.246  1.00 76.95           C  \\nATOM   1330  CD  LYS A 176       6.612  16.153 -13.052  1.00 76.95           C  \\nATOM   1331  CE  LYS A 176       7.146  17.540 -13.381  1.00 76.95           C  \\nATOM   1332  NZ  LYS A 176       8.628  17.619 -13.209  1.00 76.95           N  \\nATOM   1333  N   VAL A 177       2.608  12.392 -14.427  1.00 80.98           N  \\nATOM   1334  CA  VAL A 177       2.167  11.001 -14.416  1.00 80.98           C  \\nATOM   1335  C   VAL A 177       3.261  10.107 -14.995  1.00 80.98           C  \\nATOM   1336  CB  VAL A 177       0.853  10.816 -15.207  1.00 80.98           C  \\nATOM   1337  O   VAL A 177       3.775  10.370 -16.084  1.00 80.98           O  \\nATOM   1338  CG1 VAL A 177       0.388   9.362 -15.150  1.00 80.98           C  \\nATOM   1339  CG2 VAL A 177      -0.231  11.748 -14.667  1.00 80.98           C  \\nATOM   1340  N   ALA A 178       3.688   9.157 -14.143  1.00 89.11           N  \\nATOM   1341  CA  ALA A 178       4.569   8.134 -14.699  1.00 89.11           C  \\nATOM   1342  C   ALA A 178       3.884   7.378 -15.834  1.00 89.11           C  \\nATOM   1343  CB  ALA A 178       5.013   7.163 -13.608  1.00 89.11           C  \\nATOM   1344  O   ALA A 178       2.689   7.083 -15.759  1.00 89.11           O  \\nATOM   1345  N   THR A 179       4.656   7.160 -16.894  1.00 94.08           N  \\nATOM   1346  CA  THR A 179       4.105   6.325 -17.956  1.00 94.08           C  \\nATOM   1347  C   THR A 179       3.985   4.875 -17.497  1.00 94.08           C  \\nATOM   1348  CB  THR A 179       4.972   6.394 -19.227  1.00 94.08           C  \\nATOM   1349  O   THR A 179       4.680   4.452 -16.571  1.00 94.08           O  \\nATOM   1350  CG2 THR A 179       5.211   7.839 -19.653  1.00 94.08           C  \\nATOM   1351  OG1 THR A 179       6.236   5.768 -18.971  1.00 94.08           O  \\nATOM   1352  N   PRO A 180       3.134   4.106 -18.099  1.00 96.43           N  \\nATOM   1353  CA  PRO A 180       3.045   2.679 -17.781  1.00 96.43           C  \\nATOM   1354  C   PRO A 180       4.385   1.960 -17.915  1.00 96.43           C  \\nATOM   1355  CB  PRO A 180       2.037   2.152 -18.806  1.00 96.43           C  \\nATOM   1356  O   PRO A 180       4.700   1.079 -17.110  1.00 96.43           O  \\nATOM   1357  CG  PRO A 180       1.113   3.300 -19.059  1.00 96.43           C  \\nATOM   1358  CD  PRO A 180       1.919   4.567 -19.073  1.00 96.43           C  \\nATOM   1359  N   GLN A 181       5.161   2.316 -18.845  1.00 97.17           N  \\nATOM   1360  CA  GLN A 181       6.466   1.697 -19.047  1.00 97.17           C  \\nATOM   1361  C   GLN A 181       7.408   2.009 -17.888  1.00 97.17           C  \\nATOM   1362  CB  GLN A 181       7.084   2.164 -20.366  1.00 97.17           C  \\nATOM   1363  O   GLN A 181       8.168   1.144 -17.448  1.00 97.17           O  \\nATOM   1364  CG  GLN A 181       6.451   1.534 -21.599  1.00 97.17           C  \\nATOM   1365  CD  GLN A 181       5.054   2.057 -21.874  1.00 97.17           C  \\nATOM   1366  NE2 GLN A 181       4.224   1.229 -22.500  1.00 97.17           N  \\nATOM   1367  OE1 GLN A 181       4.723   3.194 -21.525  1.00 97.17           O  \\nATOM   1368  N   GLN A 182       7.371   3.244 -17.455  1.00 95.72           N  \\nATOM   1369  CA  GLN A 182       8.184   3.604 -16.298  1.00 95.72           C  \\nATOM   1370  C   GLN A 182       7.766   2.811 -15.063  1.00 95.72           C  \\nATOM   1371  CB  GLN A 182       8.085   5.104 -16.017  1.00 95.72           C  \\nATOM   1372  O   GLN A 182       8.616   2.344 -14.301  1.00 95.72           O  \\nATOM   1373  CG  GLN A 182       8.829   5.969 -17.025  1.00 95.72           C  \\nATOM   1374  CD  GLN A 182       8.592   7.453 -16.814  1.00 95.72           C  \\nATOM   1375  NE2 GLN A 182       9.632   8.254 -17.018  1.00 95.72           N  \\nATOM   1376  OE1 GLN A 182       7.483   7.875 -16.470  1.00 95.72           O  \\nATOM   1377  N   ALA A 183       6.479   2.667 -14.885  1.00 97.37           N  \\nATOM   1378  CA  ALA A 183       5.967   1.846 -13.791  1.00 97.37           C  \\nATOM   1379  C   ALA A 183       6.428   0.398 -13.930  1.00 97.37           C  \\nATOM   1380  CB  ALA A 183       4.443   1.913 -13.744  1.00 97.37           C  \\nATOM   1381  O   ALA A 183       6.876  -0.214 -12.957  1.00 97.37           O  \\nATOM   1382  N   GLN A 184       6.353  -0.122 -15.094  1.00 98.26           N  \\nATOM   1383  CA  GLN A 184       6.760  -1.500 -15.350  1.00 98.26           C  \\nATOM   1384  C   GLN A 184       8.251  -1.691 -15.091  1.00 98.26           C  \\nATOM   1385  CB  GLN A 184       6.420  -1.902 -16.786  1.00 98.26           C  \\nATOM   1386  O   GLN A 184       8.664  -2.706 -14.526  1.00 98.26           O  \\nATOM   1387  CG  GLN A 184       6.941  -3.278 -17.178  1.00 98.26           C  \\nATOM   1388  CD  GLN A 184       6.453  -4.377 -16.253  1.00 98.26           C  \\nATOM   1389  NE2 GLN A 184       7.253  -5.427 -16.106  1.00 98.26           N  \\nATOM   1390  OE1 GLN A 184       5.366  -4.281 -15.674  1.00 98.26           O  \\nATOM   1391  N   GLU A 185       9.040  -0.738 -15.495  1.00 97.83           N  \\nATOM   1392  CA  GLU A 185      10.482  -0.823 -15.287  1.00 97.83           C  \\nATOM   1393  C   GLU A 185      10.819  -0.978 -13.807  1.00 97.83           C  \\nATOM   1394  CB  GLU A 185      11.182   0.413 -15.859  1.00 97.83           C  \\nATOM   1395  O   GLU A 185      11.612  -1.844 -13.433  1.00 97.83           O  \\nATOM   1396  CG  GLU A 185      11.232   0.443 -17.380  1.00 97.83           C  \\nATOM   1397  CD  GLU A 185      11.761   1.755 -17.937  1.00 97.83           C  \\nATOM   1398  OE1 GLU A 185      11.750   1.937 -19.175  1.00 97.83           O  \\nATOM   1399  OE2 GLU A 185      12.190   2.608 -17.128  1.00 97.83           O  \\nATOM   1400  N   ALA A 186      10.220  -0.189 -12.991  1.00 98.20           N  \\nATOM   1401  CA  ALA A 186      10.471  -0.262 -11.554  1.00 98.20           C  \\nATOM   1402  C   ALA A 186       9.946  -1.571 -10.971  1.00 98.20           C  \\nATOM   1403  CB  ALA A 186       9.832   0.928 -10.841  1.00 98.20           C  \\nATOM   1404  O   ALA A 186      10.625  -2.218 -10.170  1.00 98.20           O  \\nATOM   1405  N   HIS A 187       8.818  -1.972 -11.408  1.00 98.68           N  \\nATOM   1406  CA  HIS A 187       8.212  -3.205 -10.919  1.00 98.68           C  \\nATOM   1407  C   HIS A 187       9.034  -4.423 -11.327  1.00 98.68           C  \\nATOM   1408  CB  HIS A 187       6.779  -3.341 -11.439  1.00 98.68           C  \\nATOM   1409  O   HIS A 187       9.229  -5.342 -10.529  1.00 98.68           O  \\nATOM   1410  CG  HIS A 187       5.803  -2.444 -10.747  1.00 98.68           C  \\nATOM   1411  CD2 HIS A 187       5.884  -1.136 -10.408  1.00 98.68           C  \\nATOM   1412  ND1 HIS A 187       4.567  -2.878 -10.319  1.00 98.68           N  \\nATOM   1413  CE1 HIS A 187       3.928  -1.872  -9.746  1.00 98.68           C  \\nATOM   1414  NE2 HIS A 187       4.705  -0.804  -9.787  1.00 98.68           N  \\nATOM   1415  N   ALA A 188       9.469  -4.381 -12.540  1.00 98.58           N  \\nATOM   1416  CA  ALA A 188      10.311  -5.475 -13.018  1.00 98.58           C  \\nATOM   1417  C   ALA A 188      11.614  -5.550 -12.227  1.00 98.58           C  \\nATOM   1418  CB  ALA A 188      10.605  -5.309 -14.507  1.00 98.58           C  \\nATOM   1419  O   ALA A 188      12.098  -6.642 -11.917  1.00 98.58           O  \\nATOM   1420  N   LEU A 189      12.129  -4.407 -11.937  1.00 98.58           N  \\nATOM   1421  CA  LEU A 189      13.344  -4.331 -11.133  1.00 98.58           C  \\nATOM   1422  C   LEU A 189      13.121  -4.937  -9.752  1.00 98.58           C  \\nATOM   1423  CB  LEU A 189      13.806  -2.878 -10.997  1.00 98.58           C  \\nATOM   1424  O   LEU A 189      13.938  -5.728  -9.277  1.00 98.58           O  \\nATOM   1425  CG  LEU A 189      15.044  -2.638 -10.131  1.00 98.58           C  \\nATOM   1426  CD1 LEU A 189      16.273  -3.270 -10.776  1.00 98.58           C  \\nATOM   1427  CD2 LEU A 189      15.259  -1.146  -9.906  1.00 98.58           C  \\nATOM   1428  N   ILE A 190      12.052  -4.624  -9.123  1.00 98.76           N  \\nATOM   1429  CA  ILE A 190      11.694  -5.143  -7.808  1.00 98.76           C  \\nATOM   1430  C   ILE A 190      11.513  -6.658  -7.882  1.00 98.76           C  \\nATOM   1431  CB  ILE A 190      10.410  -4.476  -7.266  1.00 98.76           C  \\nATOM   1432  O   ILE A 190      12.080  -7.398  -7.075  1.00 98.76           O  \\nATOM   1433  CG1 ILE A 190      10.664  -2.994  -6.967  1.00 98.76           C  \\nATOM   1434  CG2 ILE A 190       9.906  -5.208  -6.019  1.00 98.76           C  \\nATOM   1435  CD1 ILE A 190       9.395  -2.163  -6.833  1.00 98.76           C  \\nATOM   1436  N   ARG A 191      10.756  -7.122  -8.814  1.00 98.66           N  \\nATOM   1437  CA  ARG A 191      10.478  -8.547  -8.959  1.00 98.66           C  \\nATOM   1438  C   ARG A 191      11.761  -9.334  -9.202  1.00 98.66           C  \\nATOM   1439  CB  ARG A 191       9.491  -8.789 -10.103  1.00 98.66           C  \\nATOM   1440  O   ARG A 191      11.965 -10.397  -8.613  1.00 98.66           O  \\nATOM   1441  CG  ARG A 191       9.004 -10.226 -10.203  1.00 98.66           C  \\nATOM   1442  CD  ARG A 191       7.925 -10.383 -11.265  1.00 98.66           C  \\nATOM   1443  NE  ARG A 191       6.749  -9.571 -10.964  1.00 98.66           N  \\nATOM   1444  NH1 ARG A 191       5.906 -11.015  -9.369  1.00 98.66           N  \\nATOM   1445  NH2 ARG A 191       4.788  -9.079  -9.875  1.00 98.66           N  \\nATOM   1446  CZ  ARG A 191       5.817  -9.890 -10.070  1.00 98.66           C  \\nATOM   1447  N   SER A 192      12.606  -8.794 -10.079  1.00 98.66           N  \\nATOM   1448  CA  SER A 192      13.872  -9.455 -10.376  1.00 98.66           C  \\nATOM   1449  C   SER A 192      14.753  -9.546  -9.135  1.00 98.66           C  \\nATOM   1450  CB  SER A 192      14.616  -8.712 -11.487  1.00 98.66           C  \\nATOM   1451  O   SER A 192      15.357 -10.588  -8.871  1.00 98.66           O  \\nATOM   1452  OG  SER A 192      15.835  -9.364 -11.798  1.00 98.66           O  \\nATOM   1453  N   TRP A 193      14.824  -8.530  -8.464  1.00 98.76           N  \\nATOM   1454  CA  TRP A 193      15.634  -8.513  -7.250  1.00 98.76           C  \\nATOM   1455  C   TRP A 193      15.110  -9.521  -6.232  1.00 98.76           C  \\nATOM   1456  CB  TRP A 193      15.654  -7.111  -6.636  1.00 98.76           C  \\nATOM   1457  O   TRP A 193      15.887 -10.269  -5.634  1.00 98.76           O  \\nATOM   1458  CG  TRP A 193      16.604  -6.964  -5.485  1.00 98.76           C  \\nATOM   1459  CD1 TRP A 193      17.899  -6.531  -5.536  1.00 98.76           C  \\nATOM   1460  CD2 TRP A 193      16.332  -7.257  -4.111  1.00 98.76           C  \\nATOM   1461  CE2 TRP A 193      17.510  -6.976  -3.383  1.00 98.76           C  \\nATOM   1462  CE3 TRP A 193      15.206  -7.728  -3.424  1.00 98.76           C  \\nATOM   1463  NE1 TRP A 193      18.450  -6.535  -4.275  1.00 98.76           N  \\nATOM   1464  CH2 TRP A 193      16.476  -7.615  -1.352  1.00 98.76           C  \\nATOM   1465  CZ2 TRP A 193      17.592  -7.152  -2.000  1.00 98.76           C  \\nATOM   1466  CZ3 TRP A 193      15.290  -7.903  -2.047  1.00 98.76           C  \\nATOM   1467  N   VAL A 194      13.800  -9.549  -6.001  1.00 98.74           N  \\nATOM   1468  CA  VAL A 194      13.194 -10.481  -5.054  1.00 98.74           C  \\nATOM   1469  C   VAL A 194      13.440 -11.916  -5.513  1.00 98.74           C  \\nATOM   1470  CB  VAL A 194      11.679 -10.223  -4.895  1.00 98.74           C  \\nATOM   1471  O   VAL A 194      13.733 -12.793  -4.697  1.00 98.74           O  \\nATOM   1472  CG1 VAL A 194      11.023 -11.345  -4.092  1.00 98.74           C  \\nATOM   1473  CG2 VAL A 194      11.435  -8.871  -4.228  1.00 98.74           C  \\nATOM   1474  N   SER A 195      13.315 -12.135  -6.791  1.00 98.58           N  \\nATOM   1475  CA  SER A 195      13.586 -13.462  -7.335  1.00 98.58           C  \\nATOM   1476  C   SER A 195      15.010 -13.909  -7.019  1.00 98.58           C  \\nATOM   1477  CB  SER A 195      13.363 -13.477  -8.848  1.00 98.58           C  \\nATOM   1478  O   SER A 195      15.227 -15.037  -6.573  1.00 98.58           O  \\nATOM   1479  OG  SER A 195      13.598 -14.769  -9.379  1.00 98.58           O  \\nATOM   1480  N   SER A 196      15.947 -13.030  -7.134  1.00 98.53           N  \\nATOM   1481  CA  SER A 196      17.365 -13.331  -6.966  1.00 98.53           C  \\nATOM   1482  C   SER A 196      17.731 -13.462  -5.491  1.00 98.53           C  \\nATOM   1483  CB  SER A 196      18.224 -12.248  -7.618  1.00 98.53           C  \\nATOM   1484  O   SER A 196      18.468 -14.373  -5.108  1.00 98.53           O  \\nATOM   1485  OG  SER A 196      19.602 -12.501  -7.403  1.00 98.53           O  \\nATOM   1486  N   LYS A 197      17.193 -12.605  -4.650  1.00 98.45           N  \\nATOM   1487  CA  LYS A 197      17.677 -12.499  -3.277  1.00 98.45           C  \\nATOM   1488  C   LYS A 197      16.829 -13.342  -2.328  1.00 98.45           C  \\nATOM   1489  CB  LYS A 197      17.680 -11.039  -2.820  1.00 98.45           C  \\nATOM   1490  O   LYS A 197      17.305 -13.768  -1.275  1.00 98.45           O  \\nATOM   1491  CG  LYS A 197      18.658 -10.155  -3.581  1.00 98.45           C  \\nATOM   1492  CD  LYS A 197      20.095 -10.626  -3.399  1.00 98.45           C  \\nATOM   1493  CE  LYS A 197      21.074  -9.743  -4.161  1.00 98.45           C  \\nATOM   1494  NZ  LYS A 197      22.477 -10.240  -4.042  1.00 98.45           N  \\nATOM   1495  N   ILE A 198      15.618 -13.497  -2.687  1.00 98.42           N  \\nATOM   1496  CA  ILE A 198      14.733 -14.190  -1.756  1.00 98.42           C  \\nATOM   1497  C   ILE A 198      14.341 -15.548  -2.332  1.00 98.42           C  \\nATOM   1498  CB  ILE A 198      13.471 -13.353  -1.448  1.00 98.42           C  \\nATOM   1499  O   ILE A 198      14.502 -16.578  -1.673  1.00 98.42           O  \\nATOM   1500  CG1 ILE A 198      13.861 -11.925  -1.050  1.00 98.42           C  \\nATOM   1501  CG2 ILE A 198      12.637 -14.019  -0.350  1.00 98.42           C  \\nATOM   1502  CD1 ILE A 198      14.765 -11.848   0.173  1.00 98.42           C  \\nATOM   1503  N   GLY A 199      13.874 -15.573  -3.590  1.00 98.53           N  \\nATOM   1504  CA  GLY A 199      13.481 -16.802  -4.260  1.00 98.53           C  \\nATOM   1505  C   GLY A 199      12.470 -16.580  -5.369  1.00 98.53           C  \\nATOM   1506  O   GLY A 199      11.575 -15.741  -5.242  1.00 98.53           O  \\nATOM   1507  N   ALA A 200      12.581 -17.381  -6.420  1.00 98.02           N  \\nATOM   1508  CA  ALA A 200      11.715 -17.273  -7.592  1.00 98.02           C  \\nATOM   1509  C   ALA A 200      10.254 -17.503  -7.217  1.00 98.02           C  \\nATOM   1510  CB  ALA A 200      12.148 -18.267  -8.666  1.00 98.02           C  \\nATOM   1511  O   ALA A 200       9.357 -16.855  -7.762  1.00 98.02           O  \\nATOM   1512  N   ASP A 201      10.033 -18.413  -6.316  1.00 97.75           N  \\nATOM   1513  CA  ASP A 201       8.666 -18.691  -5.885  1.00 97.75           C  \\nATOM   1514  C   ASP A 201       8.056 -17.483  -5.178  1.00 97.75           C  \\nATOM   1515  CB  ASP A 201       8.632 -19.912  -4.963  1.00 97.75           C  \\nATOM   1516  O   ASP A 201       6.905 -17.123  -5.433  1.00 97.75           O  \\nATOM   1517  CG  ASP A 201       9.565 -19.782  -3.772  1.00 97.75           C  \\nATOM   1518  OD1 ASP A 201      10.744 -19.412  -3.958  1.00 97.75           O  \\nATOM   1519  OD2 ASP A 201       9.118 -20.054  -2.637  1.00 97.75           O  \\nATOM   1520  N   VAL A 202       8.809 -16.806  -4.314  1.00 98.38           N  \\nATOM   1521  CA  VAL A 202       8.352 -15.616  -3.603  1.00 98.38           C  \\nATOM   1522  C   VAL A 202       8.076 -14.493  -4.600  1.00 98.38           C  \\nATOM   1523  CB  VAL A 202       9.383 -15.153  -2.550  1.00 98.38           C  \\nATOM   1524  O   VAL A 202       7.041 -13.827  -4.523  1.00 98.38           O  \\nATOM   1525  CG1 VAL A 202       8.969 -13.814  -1.941  1.00 98.38           C  \\nATOM   1526  CG2 VAL A 202       9.545 -16.211  -1.460  1.00 98.38           C  \\nATOM   1527  N   ALA A 203       8.979 -14.326  -5.532  1.00 98.36           N  \\nATOM   1528  CA  ALA A 203       8.834 -13.280  -6.540  1.00 98.36           C  \\nATOM   1529  C   ALA A 203       7.568 -13.487  -7.367  1.00 98.36           C  \\nATOM   1530  CB  ALA A 203      10.060 -13.243  -7.450  1.00 98.36           C  \\nATOM   1531  O   ALA A 203       6.865 -12.526  -7.689  1.00 98.36           O  \\nATOM   1532  N   GLY A 204       7.281 -14.704  -7.731  1.00 97.86           N  \\nATOM   1533  CA  GLY A 204       6.124 -15.028  -8.550  1.00 97.86           C  \\nATOM   1534  C   GLY A 204       4.804 -14.741  -7.859  1.00 97.86           C  \\nATOM   1535  O   GLY A 204       3.796 -14.480  -8.518  1.00 97.86           O  \\nATOM   1536  N   GLU A 205       4.787 -14.715  -6.511  1.00 97.94           N  \\nATOM   1537  CA  GLU A 205       3.551 -14.556  -5.751  1.00 97.94           C  \\nATOM   1538  C   GLU A 205       3.446 -13.154  -5.156  1.00 97.94           C  \\nATOM   1539  CB  GLU A 205       3.463 -15.606  -4.641  1.00 97.94           C  \\nATOM   1540  O   GLU A 205       2.391 -12.766  -4.652  1.00 97.94           O  \\nATOM   1541  CG  GLU A 205       3.323 -17.032  -5.154  1.00 97.94           C  \\nATOM   1542  CD  GLU A 205       3.173 -18.058  -4.041  1.00 97.94           C  \\nATOM   1543  OE1 GLU A 205       2.955 -19.253  -4.343  1.00 97.94           O  \\nATOM   1544  OE2 GLU A 205       3.273 -17.662  -2.858  1.00 97.94           O  \\nATOM   1545  N   LEU A 206       4.574 -12.431  -5.164  1.00 98.62           N  \\nATOM   1546  CA  LEU A 206       4.611 -11.107  -4.552  1.00 98.62           C  \\nATOM   1547  C   LEU A 206       3.701 -10.138  -5.298  1.00 98.62           C  \\nATOM   1548  CB  LEU A 206       6.043 -10.567  -4.529  1.00 98.62           C  \\nATOM   1549  O   LEU A 206       3.788 -10.015  -6.522  1.00 98.62           O  \\nATOM   1550  CG  LEU A 206       6.238  -9.190  -3.891  1.00 98.62           C  \\nATOM   1551  CD1 LEU A 206       5.946  -9.253  -2.396  1.00 98.62           C  \\nATOM   1552  CD2 LEU A 206       7.652  -8.678  -4.144  1.00 98.62           C  \\nATOM   1553  N   ARG A 207       2.798  -9.537  -4.561  1.00 98.74           N  \\nATOM   1554  CA  ARG A 207       1.975  -8.479  -5.139  1.00 98.74           C  \\nATOM   1555  C   ARG A 207       2.682  -7.130  -5.059  1.00 98.74           C  \\nATOM   1556  CB  ARG A 207       0.620  -8.404  -4.432  1.00 98.74           C  \\nATOM   1557  O   ARG A 207       3.069  -6.690  -3.974  1.00 98.74           O  \\nATOM   1558  CG  ARG A 207      -0.247  -9.637  -4.629  1.00 98.74           C  \\nATOM   1559  CD  ARG A 207      -1.423  -9.661  -3.663  1.00 98.74           C  \\nATOM   1560  NE  ARG A 207      -1.002 -10.020  -2.311  1.00 98.74           N  \\nATOM   1561  NH1 ARG A 207      -3.064  -9.632  -1.344  1.00 98.74           N  \\nATOM   1562  NH2 ARG A 207      -1.305 -10.346  -0.058  1.00 98.74           N  \\nATOM   1563  CZ  ARG A 207      -1.791  -9.999  -1.241  1.00 98.74           C  \\nATOM   1564  N   ILE A 208       2.927  -6.497  -6.222  1.00 98.86           N  \\nATOM   1565  CA  ILE A 208       3.575  -5.193  -6.313  1.00 98.86           C  \\nATOM   1566  C   ILE A 208       2.575  -4.154  -6.814  1.00 98.86           C  \\nATOM   1567  CB  ILE A 208       4.810  -5.240  -7.241  1.00 98.86           C  \\nATOM   1568  O   ILE A 208       2.047  -4.275  -7.922  1.00 98.86           O  \\nATOM   1569  CG1 ILE A 208       5.717  -6.416  -6.863  1.00 98.86           C  \\nATOM   1570  CG2 ILE A 208       5.578  -3.916  -7.185  1.00 98.86           C  \\nATOM   1571  CD1 ILE A 208       6.858  -6.658  -7.842  1.00 98.86           C  \\nATOM   1572  N   LEU A 209       2.342  -3.158  -5.959  1.00 98.88           N  \\nATOM   1573  CA  LEU A 209       1.363  -2.127  -6.285  1.00 98.88           C  \\nATOM   1574  C   LEU A 209       2.049  -0.880  -6.832  1.00 98.88           C  \\nATOM   1575  CB  LEU A 209       0.533  -1.767  -5.050  1.00 98.88           C  \\nATOM   1576  O   LEU A 209       3.156  -0.539  -6.409  1.00 98.88           O  \\nATOM   1577  CG  LEU A 209      -0.078  -2.938  -4.279  1.00 98.88           C  \\nATOM   1578  CD1 LEU A 209      -0.879  -2.427  -3.086  1.00 98.88           C  \\nATOM   1579  CD2 LEU A 209      -0.955  -3.784  -5.196  1.00 98.88           C  \\nATOM   1580  N   TYR A 210       1.382  -0.321  -7.750  1.00 98.62           N  \\nATOM   1581  CA  TYR A 210       1.794   1.011  -8.179  1.00 98.62           C  \\nATOM   1582  C   TYR A 210       1.138   2.087  -7.322  1.00 98.62           C  \\nATOM   1583  CB  TYR A 210       1.445   1.233  -9.653  1.00 98.62           C  \\nATOM   1584  O   TYR A 210      -0.089   2.133  -7.204  1.00 98.62           O  \\nATOM   1585  CG  TYR A 210       1.822   2.601 -10.167  1.00 98.62           C  \\nATOM   1586  CD1 TYR A 210       0.846   3.553 -10.451  1.00 98.62           C  \\nATOM   1587  CD2 TYR A 210       3.154   2.944 -10.370  1.00 98.62           C  \\nATOM   1588  CE1 TYR A 210       1.188   4.815 -10.927  1.00 98.62           C  \\nATOM   1589  CE2 TYR A 210       3.509   4.203 -10.845  1.00 98.62           C  \\nATOM   1590  OH  TYR A 210       2.865   6.377 -11.591  1.00 98.62           O  \\nATOM   1591  CZ  TYR A 210       2.520   5.130 -11.120  1.00 98.62           C  \\nATOM   1592  N   GLY A 211       1.920   2.957  -6.745  1.00 96.58           N  \\nATOM   1593  CA  GLY A 211       1.410   3.938  -5.802  1.00 96.58           C  \\nATOM   1594  C   GLY A 211       1.532   5.366  -6.301  1.00 96.58           C  \\nATOM   1595  O   GLY A 211       1.455   6.312  -5.515  1.00 96.58           O  \\nATOM   1596  N   GLY A 212       1.834   5.573  -7.620  1.00 92.22           N  \\nATOM   1597  CA  GLY A 212       1.828   6.903  -8.207  1.00 92.22           C  \\nATOM   1598  C   GLY A 212       0.435   7.403  -8.538  1.00 92.22           C  \\nATOM   1599  O   GLY A 212      -0.557   6.875  -8.030  1.00 92.22           O  \\nATOM   1600  N   SER A 213       0.308   8.603  -9.348  1.00 91.37           N  \\nATOM   1601  CA  SER A 213      -0.989   9.177  -9.694  1.00 91.37           C  \\nATOM   1602  C   SER A 213      -1.851   8.176 -10.456  1.00 91.37           C  \\nATOM   1603  CB  SER A 213      -0.808  10.445 -10.528  1.00 91.37           C  \\nATOM   1604  O   SER A 213      -1.669   7.981 -11.659  1.00 91.37           O  \\nATOM   1605  OG  SER A 213      -2.035  11.143 -10.656  1.00 91.37           O  \\nATOM   1606  N   VAL A 214      -2.727   7.450  -9.759  1.00 94.59           N  \\nATOM   1607  CA  VAL A 214      -3.683   6.560 -10.410  1.00 94.59           C  \\nATOM   1608  C   VAL A 214      -5.077   7.182 -10.372  1.00 94.59           C  \\nATOM   1609  CB  VAL A 214      -3.703   5.165  -9.747  1.00 94.59           C  \\nATOM   1610  O   VAL A 214      -5.506   7.695  -9.336  1.00 94.59           O  \\nATOM   1611  CG1 VAL A 214      -4.718   4.254 -10.436  1.00 94.59           C  \\nATOM   1612  CG2 VAL A 214      -2.310   4.539  -9.780  1.00 94.59           C  \\nATOM   1613  N   ASN A 215      -5.710   7.114 -11.521  1.00 95.23           N  \\nATOM   1614  CA  ASN A 215      -7.112   7.508 -11.617  1.00 95.23           C  \\nATOM   1615  C   ASN A 215      -7.878   6.621 -12.594  1.00 95.23           C  \\nATOM   1616  CB  ASN A 215      -7.230   8.977 -12.029  1.00 95.23           C  \\nATOM   1617  O   ASN A 215      -7.334   5.640 -13.106  1.00 95.23           O  \\nATOM   1618  CG  ASN A 215      -6.565   9.266 -13.360  1.00 95.23           C  \\nATOM   1619  ND2 ASN A 215      -5.793  10.344 -13.415  1.00 95.23           N  \\nATOM   1620  OD1 ASN A 215      -6.745   8.526 -14.331  1.00 95.23           O  \\nATOM   1621  N   GLY A 216      -9.156   6.870 -12.691  1.00 94.93           N  \\nATOM   1622  CA  GLY A 216     -10.017   6.033 -13.512  1.00 94.93           C  \\nATOM   1623  C   GLY A 216      -9.577   5.967 -14.962  1.00 94.93           C  \\nATOM   1624  O   GLY A 216      -9.847   4.983 -15.654  1.00 94.93           O  \\nATOM   1625  N   LYS A 217      -8.835   6.922 -15.406  1.00 95.36           N  \\nATOM   1626  CA  LYS A 217      -8.473   7.006 -16.818  1.00 95.36           C  \\nATOM   1627  C   LYS A 217      -7.221   6.185 -17.114  1.00 95.36           C  \\nATOM   1628  CB  LYS A 217      -8.255   8.462 -17.231  1.00 95.36           C  \\nATOM   1629  O   LYS A 217      -7.052   5.681 -18.226  1.00 95.36           O  \\nATOM   1630  CG  LYS A 217      -9.518   9.310 -17.204  1.00 95.36           C  \\nATOM   1631  CD  LYS A 217      -9.241  10.740 -17.648  1.00 95.36           C  \\nATOM   1632  CE  LYS A 217     -10.494  11.603 -17.572  1.00 95.36           C  \\nATOM   1633  NZ  LYS A 217     -10.218  13.016 -17.966  1.00 95.36           N  \\nATOM   1634  N   ASN A 218      -6.349   6.087 -16.142  1.00 96.07           N  \\nATOM   1635  CA  ASN A 218      -5.070   5.466 -16.473  1.00 96.07           C  \\nATOM   1636  C   ASN A 218      -4.914   4.108 -15.795  1.00 96.07           C  \\nATOM   1637  CB  ASN A 218      -3.911   6.388 -16.089  1.00 96.07           C  \\nATOM   1638  O   ASN A 218      -3.944   3.391 -16.047  1.00 96.07           O  \\nATOM   1639  CG  ASN A 218      -3.850   6.661 -14.599  1.00 96.07           C  \\nATOM   1640  ND2 ASN A 218      -3.018   7.618 -14.205  1.00 96.07           N  \\nATOM   1641  OD1 ASN A 218      -4.544   6.017 -13.809  1.00 96.07           O  \\nATOM   1642  N   ALA A 219      -5.845   3.730 -14.977  1.00 97.96           N  \\nATOM   1643  CA  ALA A 219      -5.740   2.523 -14.160  1.00 97.96           C  \\nATOM   1644  C   ALA A 219      -5.640   1.276 -15.034  1.00 97.96           C  \\nATOM   1645  CB  ALA A 219      -6.935   2.414 -13.217  1.00 97.96           C  \\nATOM   1646  O   ALA A 219      -4.815   0.396 -14.778  1.00 97.96           O  \\nATOM   1647  N   ARG A 220      -6.406   1.249 -16.119  1.00 97.83           N  \\nATOM   1648  CA  ARG A 220      -6.427   0.069 -16.978  1.00 97.83           C  \\nATOM   1649  C   ARG A 220      -5.090  -0.114 -17.689  1.00 97.83           C  \\nATOM   1650  CB  ARG A 220      -7.557   0.170 -18.004  1.00 97.83           C  \\nATOM   1651  O   ARG A 220      -4.538  -1.216 -17.710  1.00 97.83           O  \\nATOM   1652  CG  ARG A 220      -7.685  -1.050 -18.902  1.00 97.83           C  \\nATOM   1653  CD  ARG A 220      -8.985  -1.035 -19.694  1.00 97.83           C  \\nATOM   1654  NE  ARG A 220     -10.135  -1.338 -18.848  1.00 97.83           N  \\nATOM   1655  NH1 ARG A 220     -10.588  -3.375 -19.839  1.00 97.83           N  \\nATOM   1656  NH2 ARG A 220     -11.896  -2.618 -18.115  1.00 97.83           N  \\nATOM   1657  CZ  ARG A 220     -10.870  -2.443 -18.936  1.00 97.83           C  \\nATOM   1658  N   THR A 221      -4.563   0.957 -18.208  1.00 97.95           N  \\nATOM   1659  CA  THR A 221      -3.304   0.860 -18.938  1.00 97.95           C  \\nATOM   1660  C   THR A 221      -2.160   0.494 -17.996  1.00 97.95           C  \\nATOM   1661  CB  THR A 221      -2.975   2.178 -19.662  1.00 97.95           C  \\nATOM   1662  O   THR A 221      -1.269  -0.274 -18.363  1.00 97.95           O  \\nATOM   1663  CG2 THR A 221      -3.992   2.471 -20.760  1.00 97.95           C  \\nATOM   1664  OG1 THR A 221      -2.989   3.253 -18.715  1.00 97.95           O  \\nATOM   1665  N   LEU A 222      -2.192   1.011 -16.806  1.00 98.18           N  \\nATOM   1666  CA  LEU A 222      -1.171   0.667 -15.822  1.00 98.18           C  \\nATOM   1667  C   LEU A 222      -1.266  -0.804 -15.431  1.00 98.18           C  \\nATOM   1668  CB  LEU A 222      -1.309   1.548 -14.577  1.00 98.18           C  \\nATOM   1669  O   LEU A 222      -0.247  -1.493 -15.339  1.00 98.18           O  \\nATOM   1670  CG  LEU A 222      -0.838   2.996 -14.716  1.00 98.18           C  \\nATOM   1671  CD1 LEU A 222      -1.401   3.848 -13.582  1.00 98.18           C  \\nATOM   1672  CD2 LEU A 222       0.685   3.064 -14.736  1.00 98.18           C  \\nATOM   1673  N   TYR A 223      -2.494  -1.254 -15.260  1.00 98.01           N  \\nATOM   1674  CA  TYR A 223      -2.690  -2.623 -14.796  1.00 98.01           C  \\nATOM   1675  C   TYR A 223      -2.276  -3.626 -15.867  1.00 98.01           C  \\nATOM   1676  CB  TYR A 223      -4.152  -2.854 -14.402  1.00 98.01           C  \\nATOM   1677  O   TYR A 223      -1.983  -4.784 -15.561  1.00 98.01           O  \\nATOM   1678  CG  TYR A 223      -4.423  -4.235 -13.859  1.00 98.01           C  \\nATOM   1679  CD1 TYR A 223      -5.285  -5.108 -14.520  1.00 98.01           C  \\nATOM   1680  CD2 TYR A 223      -3.820  -4.671 -12.684  1.00 98.01           C  \\nATOM   1681  CE1 TYR A 223      -5.540  -6.381 -14.022  1.00 98.01           C  \\nATOM   1682  CE2 TYR A 223      -4.068  -5.943 -12.177  1.00 98.01           C  \\nATOM   1683  OH  TYR A 223      -5.177  -8.049 -12.355  1.00 98.01           O  \\nATOM   1684  CZ  TYR A 223      -4.928  -6.789 -12.853  1.00 98.01           C  \\nATOM   1685  N   GLN A 224      -2.260  -3.230 -17.073  1.00 97.33           N  \\nATOM   1686  CA  GLN A 224      -1.907  -4.121 -18.173  1.00 97.33           C  \\nATOM   1687  C   GLN A 224      -0.418  -4.455 -18.154  1.00 97.33           C  \\nATOM   1688  CB  GLN A 224      -2.287  -3.494 -19.515  1.00 97.33           C  \\nATOM   1689  O   GLN A 224       0.013  -5.428 -18.777  1.00 97.33           O  \\nATOM   1690  CG  GLN A 224      -3.786  -3.475 -19.782  1.00 97.33           C  \\nATOM   1691  CD  GLN A 224      -4.145  -2.736 -21.057  1.00 97.33           C  \\nATOM   1692  NE2 GLN A 224      -5.278  -3.095 -21.652  1.00 97.33           N  \\nATOM   1693  OE1 GLN A 224      -3.412  -1.848 -21.503  1.00 97.33           O  \\nATOM   1694  N   GLN A 225       0.328  -3.675 -17.412  1.00 98.24           N  \\nATOM   1695  CA  GLN A 225       1.752  -3.982 -17.320  1.00 98.24           C  \\nATOM   1696  C   GLN A 225       1.985  -5.299 -16.587  1.00 98.24           C  \\nATOM   1697  CB  GLN A 225       2.501  -2.849 -16.615  1.00 98.24           C  \\nATOM   1698  O   GLN A 225       1.275  -5.618 -15.630  1.00 98.24           O  \\nATOM   1699  CG  GLN A 225       2.384  -1.504 -17.318  1.00 98.24           C  \\nATOM   1700  CD  GLN A 225       2.817  -1.561 -18.772  1.00 98.24           C  \\nATOM   1701  NE2 GLN A 225       1.993  -1.011 -19.657  1.00 98.24           N  \\nATOM   1702  OE1 GLN A 225       3.882  -2.096 -19.095  1.00 98.24           O  \\nATOM   1703  N   ARG A 226       2.940  -6.019 -17.031  1.00 97.46           N  \\nATOM   1704  CA  ARG A 226       3.201  -7.403 -16.647  1.00 97.46           C  \\nATOM   1705  C   ARG A 226       3.336  -7.536 -15.134  1.00 97.46           C  \\nATOM   1706  CB  ARG A 226       4.466  -7.921 -17.334  1.00 97.46           C  \\nATOM   1707  O   ARG A 226       2.786  -8.462 -14.536  1.00 97.46           O  \\nATOM   1708  CG  ARG A 226       4.830  -9.349 -16.959  1.00 97.46           C  \\nATOM   1709  CD  ARG A 226       6.096  -9.813 -17.665  1.00 97.46           C  \\nATOM   1710  NE  ARG A 226       6.461 -11.173 -17.279  1.00 97.46           N  \\nATOM   1711  NH1 ARG A 226       8.385 -11.240 -18.555  1.00 97.46           N  \\nATOM   1712  NH2 ARG A 226       7.777 -13.055 -17.294  1.00 97.46           N  \\nATOM   1713  CZ  ARG A 226       7.540 -11.820 -17.710  1.00 97.46           C  \\nATOM   1714  N   ASP A 227       4.017  -6.599 -14.480  1.00 98.40           N  \\nATOM   1715  CA  ASP A 227       4.393  -6.805 -13.084  1.00 98.40           C  \\nATOM   1716  C   ASP A 227       3.597  -5.887 -12.160  1.00 98.40           C  \\nATOM   1717  CB  ASP A 227       5.893  -6.572 -12.893  1.00 98.40           C  \\nATOM   1718  O   ASP A 227       3.859  -5.830 -10.956  1.00 98.40           O  \\nATOM   1719  CG  ASP A 227       6.747  -7.650 -13.537  1.00 98.40           C  \\nATOM   1720  OD1 ASP A 227       6.596  -8.840 -13.184  1.00 98.40           O  \\nATOM   1721  OD2 ASP A 227       7.581  -7.307 -14.403  1.00 98.40           O  \\nATOM   1722  N   VAL A 228       2.637  -5.165 -12.730  1.00 98.54           N  \\nATOM   1723  CA  VAL A 228       1.758  -4.351 -11.897  1.00 98.54           C  \\nATOM   1724  C   VAL A 228       0.571  -5.189 -11.426  1.00 98.54           C  \\nATOM   1725  CB  VAL A 228       1.259  -3.099 -12.653  1.00 98.54           C  \\nATOM   1726  O   VAL A 228      -0.251  -5.623 -12.236  1.00 98.54           O  \\nATOM   1727  CG1 VAL A 228       0.290  -2.296 -11.787  1.00 98.54           C  \\nATOM   1728  CG2 VAL A 228       2.440  -2.231 -13.084  1.00 98.54           C  \\nATOM   1729  N   ASN A 229       0.472  -5.330 -10.067  1.00 98.66           N  \\nATOM   1730  CA  ASN A 229      -0.550  -6.192  -9.483  1.00 98.66           C  \\nATOM   1731  C   ASN A 229      -1.592  -5.385  -8.715  1.00 98.66           C  \\nATOM   1732  CB  ASN A 229       0.090  -7.240  -8.569  1.00 98.66           C  \\nATOM   1733  O   ASN A 229      -2.248  -5.909  -7.812  1.00 98.66           O  \\nATOM   1734  CG  ASN A 229       1.148  -8.063  -9.276  1.00 98.66           C  \\nATOM   1735  ND2 ASN A 229       0.773  -8.680 -10.390  1.00 98.66           N  \\nATOM   1736  OD1 ASN A 229       2.293  -8.145  -8.824  1.00 98.66           O  \\nATOM   1737  N   GLY A 230      -1.803  -4.192  -8.996  1.00 98.60           N  \\nATOM   1738  CA  GLY A 230      -2.804  -3.340  -8.375  1.00 98.60           C  \\nATOM   1739  C   GLY A 230      -2.280  -1.959  -8.029  1.00 98.60           C  \\nATOM   1740  O   GLY A 230      -1.307  -1.491  -8.624  1.00 98.60           O  \\nATOM   1741  N   PHE A 231      -3.023  -1.317  -7.054  1.00 98.81           N  \\nATOM   1742  CA  PHE A 231      -2.752   0.101  -6.853  1.00 98.81           C  \\nATOM   1743  C   PHE A 231      -2.855   0.468  -5.377  1.00 98.81           C  \\nATOM   1744  CB  PHE A 231      -3.721   0.958  -7.675  1.00 98.81           C  \\nATOM   1745  O   PHE A 231      -3.640  -0.129  -4.637  1.00 98.81           O  \\nATOM   1746  CG  PHE A 231      -3.797   0.565  -9.125  1.00 98.81           C  \\nATOM   1747  CD1 PHE A 231      -2.704   0.739  -9.966  1.00 98.81           C  \\nATOM   1748  CD2 PHE A 231      -4.962   0.020  -9.649  1.00 98.81           C  \\nATOM   1749  CE1 PHE A 231      -2.772   0.377 -11.309  1.00 98.81           C  \\nATOM   1750  CE2 PHE A 231      -5.038  -0.345 -10.990  1.00 98.81           C  \\nATOM   1751  CZ  PHE A 231      -3.942  -0.165 -11.818  1.00 98.81           C  \\nATOM   1752  N   LEU A 232      -1.994   1.349  -4.942  1.00 98.75           N  \\nATOM   1753  CA  LEU A 232      -2.191   2.155  -3.742  1.00 98.75           C  \\nATOM   1754  C   LEU A 232      -2.614   3.575  -4.104  1.00 98.75           C  \\nATOM   1755  CB  LEU A 232      -0.910   2.190  -2.904  1.00 98.75           C  \\nATOM   1756  O   LEU A 232      -1.803   4.362  -4.599  1.00 98.75           O  \\nATOM   1757  CG  LEU A 232      -0.986   2.954  -1.581  1.00 98.75           C  \\nATOM   1758  CD1 LEU A 232      -1.952   2.263  -0.624  1.00 98.75           C  \\nATOM   1759  CD2 LEU A 232       0.399   3.078  -0.954  1.00 98.75           C  \\nATOM   1760  N   VAL A 233      -3.886   3.912  -3.816  1.00 98.37           N  \\nATOM   1761  CA  VAL A 233      -4.514   5.097  -4.391  1.00 98.37           C  \\nATOM   1762  C   VAL A 233      -4.814   6.109  -3.288  1.00 98.37           C  \\nATOM   1763  CB  VAL A 233      -5.810   4.739  -5.153  1.00 98.37           C  \\nATOM   1764  O   VAL A 233      -5.371   5.755  -2.246  1.00 98.37           O  \\nATOM   1765  CG1 VAL A 233      -6.374   5.967  -5.865  1.00 98.37           C  \\nATOM   1766  CG2 VAL A 233      -5.548   3.612  -6.150  1.00 98.37           C  \\nATOM   1767  N   GLY A 234      -4.458   7.332  -3.534  1.00 96.22           N  \\nATOM   1768  CA  GLY A 234      -4.714   8.403  -2.583  1.00 96.22           C  \\nATOM   1769  C   GLY A 234      -5.954   9.211  -2.914  1.00 96.22           C  \\nATOM   1770  O   GLY A 234      -7.074   8.786  -2.623  1.00 96.22           O  \\nATOM   1771  N   GLY A 235      -5.813  10.315  -3.608  1.00 95.11           N  \\nATOM   1772  CA  GLY A 235      -6.862  11.288  -3.868  1.00 95.11           C  \\nATOM   1773  C   GLY A 235      -8.057  10.698  -4.591  1.00 95.11           C  \\nATOM   1774  O   GLY A 235      -9.203  10.937  -4.205  1.00 95.11           O  \\nATOM   1775  N   ALA A 236      -7.821   9.888  -5.593  1.00 96.93           N  \\nATOM   1776  CA  ALA A 236      -8.905   9.330  -6.398  1.00 96.93           C  \\nATOM   1777  C   ALA A 236      -9.739   8.343  -5.586  1.00 96.93           C  \\nATOM   1778  CB  ALA A 236      -8.345   8.649  -7.645  1.00 96.93           C  \\nATOM   1779  O   ALA A 236     -10.898   8.082  -5.915  1.00 96.93           O  \\nATOM   1780  N   SER A 237      -9.064   7.846  -4.501  1.00 98.18           N  \\nATOM   1781  CA  SER A 237      -9.773   6.855  -3.697  1.00 98.18           C  \\nATOM   1782  C   SER A 237     -10.824   7.513  -2.810  1.00 98.18           C  \\nATOM   1783  CB  SER A 237      -8.789   6.062  -2.835  1.00 98.18           C  \\nATOM   1784  O   SER A 237     -11.636   6.825  -2.186  1.00 98.18           O  \\nATOM   1785  OG  SER A 237      -8.288   6.863  -1.779  1.00 98.18           O  \\nATOM   1786  N   LEU A 238     -10.864   8.805  -2.734  1.00 98.15           N  \\nATOM   1787  CA  LEU A 238     -11.832   9.557  -1.943  1.00 98.15           C  \\nATOM   1788  C   LEU A 238     -13.057   9.914  -2.778  1.00 98.15           C  \\nATOM   1789  CB  LEU A 238     -11.193  10.830  -1.383  1.00 98.15           C  \\nATOM   1790  O   LEU A 238     -13.941  10.637  -2.313  1.00 98.15           O  \\nATOM   1791  CG  LEU A 238     -10.199  10.642  -0.236  1.00 98.15           C  \\nATOM   1792  CD1 LEU A 238      -9.310  11.873  -0.097  1.00 98.15           C  \\nATOM   1793  CD2 LEU A 238     -10.935  10.358   1.069  1.00 98.15           C  \\nATOM   1794  N   LYS A 239     -13.069   9.454  -3.965  1.00 98.07           N  \\nATOM   1795  CA  LYS A 239     -14.152   9.722  -4.907  1.00 98.07           C  \\nATOM   1796  C   LYS A 239     -14.736   8.423  -5.456  1.00 98.07           C  \\nATOM   1797  CB  LYS A 239     -13.658  10.602  -6.056  1.00 98.07           C  \\nATOM   1798  O   LYS A 239     -14.113   7.365  -5.355  1.00 98.07           O  \\nATOM   1799  CG  LYS A 239     -13.027  11.911  -5.607  1.00 98.07           C  \\nATOM   1800  CD  LYS A 239     -12.400  12.660  -6.776  1.00 98.07           C  \\nATOM   1801  CE  LYS A 239     -11.709  13.937  -6.317  1.00 98.07           C  \\nATOM   1802  NZ  LYS A 239     -11.040  14.642  -7.450  1.00 98.07           N  \\nATOM   1803  N   PRO A 240     -15.970   8.579  -6.095  1.00 98.12           N  \\nATOM   1804  CA  PRO A 240     -16.575   7.392  -6.703  1.00 98.12           C  \\nATOM   1805  C   PRO A 240     -15.677   6.743  -7.753  1.00 98.12           C  \\nATOM   1806  CB  PRO A 240     -17.856   7.936  -7.341  1.00 98.12           C  \\nATOM   1807  O   PRO A 240     -15.836   5.559  -8.061  1.00 98.12           O  \\nATOM   1808  CG  PRO A 240     -18.252   9.090  -6.477  1.00 98.12           C  \\nATOM   1809  CD  PRO A 240     -17.009   9.822  -6.059  1.00 98.12           C  \\nATOM   1810  N   GLU A 241     -14.785   7.546  -8.203  1.00 97.85           N  \\nATOM   1811  CA  GLU A 241     -13.861   7.090  -9.237  1.00 97.85           C  \\nATOM   1812  C   GLU A 241     -13.087   5.856  -8.780  1.00 97.85           C  \\nATOM   1813  CB  GLU A 241     -12.888   8.209  -9.619  1.00 97.85           C  \\nATOM   1814  O   GLU A 241     -12.564   5.105  -9.605  1.00 97.85           O  \\nATOM   1815  CG  GLU A 241     -11.920   7.829 -10.731  1.00 97.85           C  \\nATOM   1816  CD  GLU A 241     -11.067   8.993 -11.207  1.00 97.85           C  \\nATOM   1817  OE1 GLU A 241     -10.485   8.906 -12.312  1.00 97.85           O  \\nATOM   1818  OE2 GLU A 241     -10.979  10.000 -10.470  1.00 97.85           O  \\nATOM   1819  N   PHE A 242     -12.888   5.621  -7.527  1.00 98.66           N  \\nATOM   1820  CA  PHE A 242     -12.166   4.467  -7.003  1.00 98.66           C  \\nATOM   1821  C   PHE A 242     -12.806   3.167  -7.476  1.00 98.66           C  \\nATOM   1822  CB  PHE A 242     -12.126   4.506  -5.472  1.00 98.66           C  \\nATOM   1823  O   PHE A 242     -12.113   2.170  -7.688  1.00 98.66           O  \\nATOM   1824  CG  PHE A 242     -11.207   3.482  -4.863  1.00 98.66           C  \\nATOM   1825  CD1 PHE A 242     -11.696   2.529  -3.977  1.00 98.66           C  \\nATOM   1826  CD2 PHE A 242      -9.854   3.471  -5.176  1.00 98.66           C  \\nATOM   1827  CE1 PHE A 242     -10.848   1.579  -3.412  1.00 98.66           C  \\nATOM   1828  CE2 PHE A 242      -9.001   2.525  -4.615  1.00 98.66           C  \\nATOM   1829  CZ  PHE A 242      -9.500   1.581  -3.732  1.00 98.66           C  \\nATOM   1830  N   VAL A 243     -14.084   3.116  -7.691  1.00 98.51           N  \\nATOM   1831  CA  VAL A 243     -14.787   1.951  -8.216  1.00 98.51           C  \\nATOM   1832  C   VAL A 243     -14.284   1.634  -9.623  1.00 98.51           C  \\nATOM   1833  CB  VAL A 243     -16.316   2.170  -8.234  1.00 98.51           C  \\nATOM   1834  O   VAL A 243     -14.101   0.466  -9.975  1.00 98.51           O  \\nATOM   1835  CG1 VAL A 243     -17.017   1.032  -8.973  1.00 98.51           C  \\nATOM   1836  CG2 VAL A 243     -16.853   2.297  -6.810  1.00 98.51           C  \\nATOM   1837  N   ASP A 244     -14.103   2.725 -10.397  1.00 98.40           N  \\nATOM   1838  CA  ASP A 244     -13.540   2.535 -11.730  1.00 98.40           C  \\nATOM   1839  C   ASP A 244     -12.141   1.928 -11.654  1.00 98.40           C  \\nATOM   1840  CB  ASP A 244     -13.497   3.863 -12.489  1.00 98.40           C  \\nATOM   1841  O   ASP A 244     -11.778   1.086 -12.478  1.00 98.40           O  \\nATOM   1842  CG  ASP A 244     -14.874   4.462 -12.715  1.00 98.40           C  \\nATOM   1843  OD1 ASP A 244     -15.853   3.700 -12.863  1.00 98.40           O  \\nATOM   1844  OD2 ASP A 244     -14.979   5.707 -12.748  1.00 98.40           O  \\nATOM   1845  N   ILE A 245     -11.398   2.330 -10.709  1.00 98.72           N  \\nATOM   1846  CA  ILE A 245     -10.041   1.831 -10.510  1.00 98.72           C  \\nATOM   1847  C   ILE A 245     -10.087   0.362 -10.098  1.00 98.72           C  \\nATOM   1848  CB  ILE A 245      -9.283   2.662  -9.450  1.00 98.72           C  \\nATOM   1849  O   ILE A 245      -9.294  -0.450 -10.582  1.00 98.72           O  \\nATOM   1850  CG1 ILE A 245      -9.034   4.084  -9.964  1.00 98.72           C  \\nATOM   1851  CG2 ILE A 245      -7.967   1.978  -9.069  1.00 98.72           C  \\nATOM   1852  CD1 ILE A 245      -8.548   5.052  -8.895  1.00 98.72           C  \\nATOM   1853  N   ILE A 246     -11.031  -0.006  -9.277  1.00 98.72           N  \\nATOM   1854  CA  ILE A 246     -11.222  -1.402  -8.898  1.00 98.72           C  \\nATOM   1855  C   ILE A 246     -11.541  -2.234 -10.138  1.00 98.72           C  \\nATOM   1856  CB  ILE A 246     -12.344  -1.554  -7.848  1.00 98.72           C  \\nATOM   1857  O   ILE A 246     -10.921  -3.275 -10.372  1.00 98.72           O  \\nATOM   1858  CG1 ILE A 246     -11.919  -0.924  -6.516  1.00 98.72           C  \\nATOM   1859  CG2 ILE A 246     -12.714  -3.029  -7.662  1.00 98.72           C  \\nATOM   1860  CD1 ILE A 246     -13.061  -0.740  -5.526  1.00 98.72           C  \\nATOM   1861  N   LYS A 247     -12.397  -1.721 -10.951  1.00 98.12           N  \\nATOM   1862  CA  LYS A 247     -12.852  -2.442 -12.135  1.00 98.12           C  \\nATOM   1863  C   LYS A 247     -11.728  -2.585 -13.158  1.00 98.12           C  \\nATOM   1864  CB  LYS A 247     -14.050  -1.734 -12.769  1.00 98.12           C  \\nATOM   1865  O   LYS A 247     -11.708  -3.541 -13.936  1.00 98.12           O  \\nATOM   1866  CG  LYS A 247     -15.328  -1.825 -11.949  1.00 98.12           C  \\nATOM   1867  CD  LYS A 247     -16.475  -1.076 -12.616  1.00 98.12           C  \\nATOM   1868  CE  LYS A 247     -17.760  -1.183 -11.805  1.00 98.12           C  \\nATOM   1869  NZ  LYS A 247     -18.855  -0.352 -12.390  1.00 98.12           N  \\nATOM   1870  N   ALA A 248     -10.838  -1.709 -13.131  1.00 97.96           N  \\nATOM   1871  CA  ALA A 248      -9.729  -1.715 -14.082  1.00 97.96           C  \\nATOM   1872  C   ALA A 248      -8.813  -2.913 -13.848  1.00 97.96           C  \\nATOM   1873  CB  ALA A 248      -8.936  -0.415 -13.982  1.00 97.96           C  \\nATOM   1874  O   ALA A 248      -8.034  -3.286 -14.728  1.00 97.96           O  \\nATOM   1875  N   THR A 249      -8.959  -3.554 -12.649  1.00 97.12           N  \\nATOM   1876  CA  THR A 249      -8.078  -4.673 -12.339  1.00 97.12           C  \\nATOM   1877  C   THR A 249      -8.704  -5.993 -12.781  1.00 97.12           C  \\nATOM   1878  CB  THR A 249      -7.757  -4.732 -10.834  1.00 97.12           C  \\nATOM   1879  O   THR A 249      -8.272  -7.065 -12.352  1.00 97.12           O  \\nATOM   1880  CG2 THR A 249      -7.149  -3.420 -10.350  1.00 97.12           C  \\nATOM   1881  OG1 THR A 249      -8.964  -4.985 -10.104  1.00 97.12           O  \\nATOM   1882  N   GLN A 250      -9.662  -5.976 -13.550  1.00 92.50           N  \\nATOM   1883  CA  GLN A 250     -10.285  -7.169 -14.114  1.00 92.50           C  \\nATOM   1884  C   GLN A 250      -9.457  -7.730 -15.266  1.00 92.50           C  \\nATOM   1885  CB  GLN A 250     -11.705  -6.858 -14.591  1.00 92.50           C  \\nATOM   1886  O   GLN A 250      -9.291  -8.946 -15.383  1.00 92.50           O  \\nATOM   1887  CG  GLN A 250     -12.463  -8.077 -15.099  1.00 92.50           C  \\nATOM   1888  CD  GLN A 250     -13.909  -7.770 -15.439  1.00 92.50           C  \\nATOM   1889  NE2 GLN A 250     -14.700  -8.813 -15.667  1.00 92.50           N  \\nATOM   1890  OE1 GLN A 250     -14.313  -6.604 -15.496  1.00 92.50           O  \\nTER    1891      GLN A 250                                                      \\nENDMDL                                                                          \\nEND                                                                             \\n\",\"pdb\");\n\tviewer_1666918640662496.setStyle({\"cartoon\": {\"colorscheme\": {\"prop\": \"b\", \"gradient\": \"roygb\", \"min\": 50, \"max\": 90}}});\n\tviewer_1666918640662496.zoomTo();\nviewer_1666918640662496.render();\n});\n</script>",
            "text/html": [
              "<div id=\"3dmolviewer_1666918640662496\"  style=\"position: relative; width: 640px; height: 480px\">\n",
              "        <p id=\"3dmolwarning_1666918640662496\" style=\"background-color:#ffcccc;color:black\">You appear to be running in JupyterLab (or JavaScript failed to load for some other reason).  You need to install the 3dmol extension: <br>\n",
              "        <tt>jupyter labextension install jupyterlab_3dmol</tt></p>\n",
              "        </div>\n",
              "<script>\n",
              "\n",
              "var loadScriptAsync = function(uri){\n",
              "  return new Promise((resolve, reject) => {\n",
              "    var tag = document.createElement('script');\n",
              "    tag.src = uri;\n",
              "    tag.async = true;\n",
              "    tag.onload = () => {\n",
              "      resolve();\n",
              "    };\n",
              "  var firstScriptTag = document.getElementsByTagName('script')[0];\n",
              "  firstScriptTag.parentNode.insertBefore(tag, firstScriptTag);\n",
              "});\n",
              "};\n",
              "\n",
              "if(typeof $3Dmolpromise === 'undefined') {\n",
              "$3Dmolpromise = null;\n",
              "  $3Dmolpromise = loadScriptAsync('https://3dmol.org/build/3Dmol.js');\n",
              "}\n",
              "\n",
              "var viewer_1666918640662496 = null;\n",
              "var warn = document.getElementById(\"3dmolwarning_1666918640662496\");\n",
              "if(warn) {\n",
              "    warn.parentNode.removeChild(warn);\n",
              "}\n",
              "$3Dmolpromise.then(function() {\n",
              "viewer_1666918640662496 = $3Dmol.createViewer($(\"#3dmolviewer_1666918640662496\"),{backgroundColor:\"white\"});\n",
              "viewer_1666918640662496.zoomTo();\n",
              "\tviewer_1666918640662496.addModel(\"MODEL     1                                                                     \\nATOM      1  N   MET A   1       1.638 -17.573 -17.141  1.00 50.86           N  \\nATOM      2  CA  MET A   1       1.383 -17.641 -15.705  1.00 50.86           C  \\nATOM      3  C   MET A   1       0.432 -16.531 -15.268  1.00 50.86           C  \\nATOM      4  CB  MET A   1       2.692 -17.546 -14.920  1.00 50.86           C  \\nATOM      5  O   MET A   1       0.479 -15.422 -15.803  1.00 50.86           O  \\nATOM      6  CG  MET A   1       3.419 -18.874 -14.777  1.00 50.86           C  \\nATOM      7  SD  MET A   1       4.725 -18.826 -13.490  1.00 50.86           S  \\nATOM      8  CE  MET A   1       5.714 -20.266 -13.983  1.00 50.86           C  \\nATOM      9  N   SER A   2      -0.695 -16.829 -14.639  1.00 75.17           N  \\nATOM     10  CA  SER A   2      -1.673 -15.870 -14.138  1.00 75.17           C  \\nATOM     11  C   SER A   2      -1.047 -14.919 -13.124  1.00 75.17           C  \\nATOM     12  CB  SER A   2      -2.860 -16.596 -13.503  1.00 75.17           C  \\nATOM     13  O   SER A   2      -0.139 -15.304 -12.383  1.00 75.17           O  \\nATOM     14  OG  SER A   2      -2.482 -17.202 -12.279  1.00 75.17           O  \\nATOM     15  N   LYS A   3      -1.148 -13.567 -13.282  1.00 89.48           N  \\nATOM     16  CA  LYS A   3      -0.738 -12.506 -12.367  1.00 89.48           C  \\nATOM     17  C   LYS A   3      -1.279 -12.752 -10.962  1.00 89.48           C  \\nATOM     18  CB  LYS A   3      -1.208 -11.143 -12.879  1.00 89.48           C  \\nATOM     19  O   LYS A   3      -2.335 -13.367 -10.796  1.00 89.48           O  \\nATOM     20  CG  LYS A   3      -0.533 -10.700 -14.168  1.00 89.48           C  \\nATOM     21  CD  LYS A   3      -0.968  -9.298 -14.573  1.00 89.48           C  \\nATOM     22  CE  LYS A   3      -0.241  -8.825 -15.825  1.00 89.48           C  \\nATOM     23  NZ  LYS A   3      -0.606  -7.422 -16.181  1.00 89.48           N  \\nATOM     24  N   PRO A   4      -0.463 -12.444  -9.891  1.00 96.52           N  \\nATOM     25  CA  PRO A   4      -1.033 -12.492  -8.543  1.00 96.52           C  \\nATOM     26  C   PRO A   4      -2.358 -11.741  -8.434  1.00 96.52           C  \\nATOM     27  CB  PRO A   4       0.044 -11.828  -7.681  1.00 96.52           C  \\nATOM     28  O   PRO A   4      -2.639 -10.859  -9.250  1.00 96.52           O  \\nATOM     29  CG  PRO A   4       1.308 -11.981  -8.464  1.00 96.52           C  \\nATOM     30  CD  PRO A   4       0.977 -11.897  -9.926  1.00 96.52           C  \\nATOM     31  N   GLN A   5      -3.214 -12.212  -7.492  1.00 97.61           N  \\nATOM     32  CA  GLN A   5      -4.458 -11.489  -7.247  1.00 97.61           C  \\nATOM     33  C   GLN A   5      -4.204  -9.992  -7.097  1.00 97.61           C  \\nATOM     34  CB  GLN A   5      -5.157 -12.031  -5.999  1.00 97.61           C  \\nATOM     35  O   GLN A   5      -3.372  -9.576  -6.288  1.00 97.61           O  \\nATOM     36  CG  GLN A   5      -6.514 -11.395  -5.730  1.00 97.61           C  \\nATOM     37  CD  GLN A   5      -7.091 -11.791  -4.383  1.00 97.61           C  \\nATOM     38  NE2 GLN A   5      -8.416 -11.797  -4.285  1.00 97.61           N  \\nATOM     39  OE1 GLN A   5      -6.352 -12.089  -3.440  1.00 97.61           O  \\nATOM     40  N   PRO A   6      -4.843  -9.128  -7.826  1.00 98.44           N  \\nATOM     41  CA  PRO A   6      -4.637  -7.684  -7.690  1.00 98.44           C  \\nATOM     42  C   PRO A   6      -5.166  -7.135  -6.367  1.00 98.44           C  \\nATOM     43  CB  PRO A   6      -5.416  -7.103  -8.873  1.00 98.44           C  \\nATOM     44  O   PRO A   6      -6.063  -7.727  -5.763  1.00 98.44           O  \\nATOM     45  CG  PRO A   6      -6.502  -8.095  -9.139  1.00 98.44           C  \\nATOM     46  CD  PRO A   6      -5.980  -9.468  -8.825  1.00 98.44           C  \\nATOM     47  N   ILE A   7      -4.564  -5.945  -5.998  1.00 98.87           N  \\nATOM     48  CA  ILE A   7      -5.028  -5.176  -4.848  1.00 98.87           C  \\nATOM     49  C   ILE A   7      -5.362  -3.750  -5.282  1.00 98.87           C  \\nATOM     50  CB  ILE A   7      -3.977  -5.160  -3.716  1.00 98.87           C  \\nATOM     51  O   ILE A   7      -4.581  -3.112  -5.993  1.00 98.87           O  \\nATOM     52  CG1 ILE A   7      -3.728  -6.581  -3.198  1.00 98.87           C  \\nATOM     53  CG2 ILE A   7      -4.420  -4.232  -2.581  1.00 98.87           C  \\nATOM     54  CD1 ILE A   7      -2.640  -6.671  -2.137  1.00 98.87           C  \\nATOM     55  N   ALA A   8      -6.554  -3.327  -4.936  1.00 98.79           N  \\nATOM     56  CA  ALA A   8      -6.911  -1.912  -4.984  1.00 98.79           C  \\nATOM     57  C   ALA A   8      -7.031  -1.328  -3.579  1.00 98.79           C  \\nATOM     58  CB  ALA A   8      -8.216  -1.718  -5.751  1.00 98.79           C  \\nATOM     59  O   ALA A   8      -7.990  -1.617  -2.860  1.00 98.79           O  \\nATOM     60  N   ALA A   9      -5.977  -0.589  -3.231  1.00 98.89           N  \\nATOM     61  CA  ALA A   9      -5.905  -0.067  -1.868  1.00 98.89           C  \\nATOM     62  C   ALA A   9      -6.203   1.429  -1.838  1.00 98.89           C  \\nATOM     63  CB  ALA A   9      -4.531  -0.345  -1.264  1.00 98.89           C  \\nATOM     64  O   ALA A   9      -5.591   2.205  -2.576  1.00 98.89           O  \\nATOM     65  N   ALA A  10      -7.182   1.747  -1.053  1.00 98.75           N  \\nATOM     66  CA  ALA A  10      -7.558   3.141  -0.829  1.00 98.75           C  \\nATOM     67  C   ALA A  10      -6.907   3.689   0.437  1.00 98.75           C  \\nATOM     68  CB  ALA A  10      -9.077   3.275  -0.744  1.00 98.75           C  \\nATOM     69  O   ALA A  10      -7.309   3.341   1.550  1.00 98.75           O  \\nATOM     70  N   ASN A  11      -5.889   4.435   0.197  1.00 98.71           N  \\nATOM     71  CA  ASN A  11      -5.285   5.163   1.308  1.00 98.71           C  \\nATOM     72  C   ASN A  11      -5.846   6.577   1.423  1.00 98.71           C  \\nATOM     73  CB  ASN A  11      -3.763   5.206   1.157  1.00 98.71           C  \\nATOM     74  O   ASN A  11      -5.433   7.475   0.688  1.00 98.71           O  \\nATOM     75  CG  ASN A  11      -3.076   5.855   2.343  1.00 98.71           C  \\nATOM     76  ND2 ASN A  11      -1.848   6.315   2.139  1.00 98.71           N  \\nATOM     77  OD1 ASN A  11      -3.645   5.940   3.435  1.00 98.71           O  \\nATOM     78  N   TRP A  12      -6.717   6.743   2.399  1.00 98.41           N  \\nATOM     79  CA  TRP A  12      -7.459   7.996   2.491  1.00 98.41           C  \\nATOM     80  C   TRP A  12      -6.591   9.101   3.085  1.00 98.41           C  \\nATOM     81  CB  TRP A  12      -8.722   7.813   3.337  1.00 98.41           C  \\nATOM     82  O   TRP A  12      -6.958  10.278   3.041  1.00 98.41           O  \\nATOM     83  CG  TRP A  12      -9.804   7.031   2.654  1.00 98.41           C  \\nATOM     84  CD1 TRP A  12      -9.886   6.727   1.323  1.00 98.41           C  \\nATOM     85  CD2 TRP A  12     -10.962   6.459   3.268  1.00 98.41           C  \\nATOM     86  CE2 TRP A  12     -11.704   5.820   2.250  1.00 98.41           C  \\nATOM     87  CE3 TRP A  12     -11.446   6.423   4.583  1.00 98.41           C  \\nATOM     88  NE1 TRP A  12     -11.026   5.998   1.074  1.00 98.41           N  \\nATOM     89  CH2 TRP A  12     -13.354   5.133   3.801  1.00 98.41           C  \\nATOM     90  CZ2 TRP A  12     -12.904   5.153   2.506  1.00 98.41           C  \\nATOM     91  CZ3 TRP A  12     -12.640   5.758   4.836  1.00 98.41           C  \\nATOM     92  N   LYS A  13      -5.431   8.706   3.550  1.00 97.15           N  \\nATOM     93  CA  LYS A  13      -4.495   9.653   4.151  1.00 97.15           C  \\nATOM     94  C   LYS A  13      -5.165  10.461   5.258  1.00 97.15           C  \\nATOM     95  CB  LYS A  13      -3.926  10.593   3.087  1.00 97.15           C  \\nATOM     96  O   LYS A  13      -5.834   9.898   6.127  1.00 97.15           O  \\nATOM     97  CG  LYS A  13      -3.190   9.880   1.961  1.00 97.15           C  \\nATOM     98  CD  LYS A  13      -2.607  10.870   0.961  1.00 97.15           C  \\nATOM     99  CE  LYS A  13      -1.942  10.157  -0.209  1.00 97.15           C  \\nATOM    100  NZ  LYS A  13      -1.344  11.123  -1.178  1.00 97.15           N  \\nATOM    101  N   CYS A  14      -4.871  11.710   5.259  1.00 97.04           N  \\nATOM    102  CA  CYS A  14      -5.476  12.535   6.298  1.00 97.04           C  \\nATOM    103  C   CYS A  14      -6.673  13.306   5.755  1.00 97.04           C  \\nATOM    104  CB  CYS A  14      -4.449  13.510   6.874  1.00 97.04           C  \\nATOM    105  O   CYS A  14      -6.729  14.532   5.864  1.00 97.04           O  \\nATOM    106  SG  CYS A  14      -5.022  14.385   8.347  1.00 97.04           S  \\nATOM    107  N   ASN A  15      -7.707  12.633   5.129  1.00 98.26           N  \\nATOM    108  CA  ASN A  15      -8.859  13.274   4.504  1.00 98.26           C  \\nATOM    109  C   ASN A  15     -10.165  12.590   4.899  1.00 98.26           C  \\nATOM    110  CB  ASN A  15      -8.706  13.287   2.982  1.00 98.26           C  \\nATOM    111  O   ASN A  15     -10.157  11.446   5.357  1.00 98.26           O  \\nATOM    112  CG  ASN A  15      -7.506  14.091   2.523  1.00 98.26           C  \\nATOM    113  ND2 ASN A  15      -6.534  13.416   1.922  1.00 98.26           N  \\nATOM    114  OD1 ASN A  15      -7.453  15.310   2.706  1.00 98.26           O  \\nATOM    115  N   GLY A  16     -11.216  13.430   4.691  1.00 96.55           N  \\nATOM    116  CA  GLY A  16     -12.566  12.905   4.826  1.00 96.55           C  \\nATOM    117  C   GLY A  16     -13.291  13.430   6.051  1.00 96.55           C  \\nATOM    118  O   GLY A  16     -12.666  13.974   6.963  1.00 96.55           O  \\nATOM    119  N   SER A  17     -14.616  13.434   6.037  1.00 97.45           N  \\nATOM    120  CA  SER A  17     -15.535  13.654   7.149  1.00 97.45           C  \\nATOM    121  C   SER A  17     -16.426  12.437   7.378  1.00 97.45           C  \\nATOM    122  CB  SER A  17     -16.400  14.888   6.894  1.00 97.45           C  \\nATOM    123  O   SER A  17     -16.509  11.552   6.524  1.00 97.45           O  \\nATOM    124  OG  SER A  17     -17.335  14.642   5.857  1.00 97.45           O  \\nATOM    125  N   GLN A  18     -16.983  12.321   8.582  1.00 97.62           N  \\nATOM    126  CA  GLN A  18     -17.916  11.226   8.825  1.00 97.62           C  \\nATOM    127  C   GLN A  18     -18.939  11.114   7.698  1.00 97.62           C  \\nATOM    128  CB  GLN A  18     -18.630  11.415  10.165  1.00 97.62           C  \\nATOM    129  O   GLN A  18     -19.234  10.013   7.228  1.00 97.62           O  \\nATOM    130  CG  GLN A  18     -17.738  11.176  11.376  1.00 97.62           C  \\nATOM    131  CD  GLN A  18     -18.493  11.268  12.688  1.00 97.62           C  \\nATOM    132  NE2 GLN A  18     -17.789  11.054  13.794  1.00 97.62           N  \\nATOM    133  OE1 GLN A  18     -19.700  11.529  12.708  1.00 97.62           O  \\nATOM    134  N   GLN A  19     -19.448  12.316   7.264  1.00 98.23           N  \\nATOM    135  CA  GLN A  19     -20.479  12.316   6.231  1.00 98.23           C  \\nATOM    136  C   GLN A  19     -19.918  11.840   4.894  1.00 98.23           C  \\nATOM    137  CB  GLN A  19     -21.086  13.712   6.078  1.00 98.23           C  \\nATOM    138  O   GLN A  19     -20.488  10.953   4.256  1.00 98.23           O  \\nATOM    139  CG  GLN A  19     -22.195  13.789   5.038  1.00 98.23           C  \\nATOM    140  CD  GLN A  19     -22.790  15.180   4.916  1.00 98.23           C  \\nATOM    141  NE2 GLN A  19     -23.793  15.323   4.057  1.00 98.23           N  \\nATOM    142  OE1 GLN A  19     -22.351  16.118   5.590  1.00 98.23           O  \\nATOM    143  N   SER A  20     -18.804  12.464   4.461  1.00 98.29           N  \\nATOM    144  CA  SER A  20     -18.276  12.130   3.142  1.00 98.29           C  \\nATOM    145  C   SER A  20     -17.834  10.672   3.077  1.00 98.29           C  \\nATOM    146  CB  SER A  20     -17.101  13.044   2.788  1.00 98.29           C  \\nATOM    147  O   SER A  20     -18.060   9.994   2.073  1.00 98.29           O  \\nATOM    148  OG  SER A  20     -15.982  12.765   3.611  1.00 98.29           O  \\nATOM    149  N   LEU A  21     -17.264  10.124   4.110  1.00 98.56           N  \\nATOM    150  CA  LEU A  21     -16.767   8.753   4.136  1.00 98.56           C  \\nATOM    151  C   LEU A  21     -17.919   7.760   4.245  1.00 98.56           C  \\nATOM    152  CB  LEU A  21     -15.796   8.556   5.302  1.00 98.56           C  \\nATOM    153  O   LEU A  21     -17.866   6.674   3.663  1.00 98.56           O  \\nATOM    154  CG  LEU A  21     -14.488   9.346   5.236  1.00 98.56           C  \\nATOM    155  CD1 LEU A  21     -13.629   9.054   6.462  1.00 98.56           C  \\nATOM    156  CD2 LEU A  21     -13.729   9.017   3.955  1.00 98.56           C  \\nATOM    157  N   SER A  22     -18.937   8.147   4.985  1.00 98.31           N  \\nATOM    158  CA  SER A  22     -20.123   7.298   5.041  1.00 98.31           C  \\nATOM    159  C   SER A  22     -20.756   7.142   3.662  1.00 98.31           C  \\nATOM    160  CB  SER A  22     -21.148   7.872   6.019  1.00 98.31           C  \\nATOM    161  O   SER A  22     -21.172   6.045   3.285  1.00 98.31           O  \\nATOM    162  OG  SER A  22     -20.673   7.789   7.352  1.00 98.31           O  \\nATOM    163  N   GLU A  23     -20.849   8.246   2.948  1.00 98.55           N  \\nATOM    164  CA  GLU A  23     -21.387   8.197   1.592  1.00 98.55           C  \\nATOM    165  C   GLU A  23     -20.530   7.314   0.689  1.00 98.55           C  \\nATOM    166  CB  GLU A  23     -21.491   9.606   1.003  1.00 98.55           C  \\nATOM    167  O   GLU A  23     -21.057   6.515  -0.088  1.00 98.55           O  \\nATOM    168  CG  GLU A  23     -22.590  10.454   1.627  1.00 98.55           C  \\nATOM    169  CD  GLU A  23     -22.551  11.908   1.185  1.00 98.55           C  \\nATOM    170  OE1 GLU A  23     -23.431  12.694   1.604  1.00 98.55           O  \\nATOM    171  OE2 GLU A  23     -21.633  12.264   0.413  1.00 98.55           O  \\nATOM    172  N   LEU A  24     -19.269   7.466   0.837  1.00 98.66           N  \\nATOM    173  CA  LEU A  24     -18.345   6.672   0.035  1.00 98.66           C  \\nATOM    174  C   LEU A  24     -18.453   5.192   0.386  1.00 98.66           C  \\nATOM    175  CB  LEU A  24     -16.906   7.154   0.242  1.00 98.66           C  \\nATOM    176  O   LEU A  24     -18.488   4.340  -0.504  1.00 98.66           O  \\nATOM    177  CG  LEU A  24     -15.859   6.595  -0.722  1.00 98.66           C  \\nATOM    178  CD1 LEU A  24     -16.254   6.893  -2.165  1.00 98.66           C  \\nATOM    179  CD2 LEU A  24     -14.482   7.171  -0.410  1.00 98.66           C  \\nATOM    180  N   ILE A  25     -18.533   4.878   1.624  1.00 98.74           N  \\nATOM    181  CA  ILE A  25     -18.666   3.503   2.091  1.00 98.74           C  \\nATOM    182  C   ILE A  25     -19.968   2.903   1.566  1.00 98.74           C  \\nATOM    183  CB  ILE A  25     -18.623   3.422   3.634  1.00 98.74           C  \\nATOM    184  O   ILE A  25     -19.999   1.745   1.142  1.00 98.74           O  \\nATOM    185  CG1 ILE A  25     -17.204   3.701   4.144  1.00 98.74           C  \\nATOM    186  CG2 ILE A  25     -19.121   2.058   4.118  1.00 98.74           C  \\nATOM    187  CD1 ILE A  25     -17.124   3.952   5.643  1.00 98.74           C  \\nATOM    188  N   ASP A  26     -21.054   3.705   1.580  1.00 98.69           N  \\nATOM    189  CA  ASP A  26     -22.312   3.224   1.017  1.00 98.69           C  \\nATOM    190  C   ASP A  26     -22.147   2.848  -0.454  1.00 98.69           C  \\nATOM    191  CB  ASP A  26     -23.407   4.282   1.170  1.00 98.69           C  \\nATOM    192  O   ASP A  26     -22.673   1.827  -0.901  1.00 98.69           O  \\nATOM    193  CG  ASP A  26     -23.863   4.460   2.607  1.00 98.69           C  \\nATOM    194  OD1 ASP A  26     -23.585   3.578   3.449  1.00 98.69           O  \\nATOM    195  OD2 ASP A  26     -24.509   5.489   2.900  1.00 98.69           O  \\nATOM    196  N   LEU A  27     -21.439   3.682  -1.090  1.00 98.70           N  \\nATOM    197  CA  LEU A  27     -21.172   3.395  -2.495  1.00 98.70           C  \\nATOM    198  C   LEU A  27     -20.386   2.097  -2.645  1.00 98.70           C  \\nATOM    199  CB  LEU A  27     -20.403   4.549  -3.142  1.00 98.70           C  \\nATOM    200  O   LEU A  27     -20.737   1.244  -3.463  1.00 98.70           O  \\nATOM    201  CG  LEU A  27     -19.886   4.309  -4.561  1.00 98.70           C  \\nATOM    202  CD1 LEU A  27     -21.053   4.168  -5.533  1.00 98.70           C  \\nATOM    203  CD2 LEU A  27     -18.959   5.440  -4.992  1.00 98.70           C  \\nATOM    204  N   PHE A  28     -19.279   1.955  -1.849  1.00 98.64           N  \\nATOM    205  CA  PHE A  28     -18.477   0.739  -1.917  1.00 98.64           C  \\nATOM    206  C   PHE A  28     -19.333  -0.491  -1.637  1.00 98.64           C  \\nATOM    207  CB  PHE A  28     -17.313   0.806  -0.923  1.00 98.64           C  \\nATOM    208  O   PHE A  28     -19.220  -1.503  -2.332  1.00 98.64           O  \\nATOM    209  CG  PHE A  28     -16.293   1.862  -1.252  1.00 98.64           C  \\nATOM    210  CD1 PHE A  28     -16.273   2.461  -2.506  1.00 98.64           C  \\nATOM    211  CD2 PHE A  28     -15.355   2.256  -0.308  1.00 98.64           C  \\nATOM    212  CE1 PHE A  28     -15.329   3.439  -2.814  1.00 98.64           C  \\nATOM    213  CE2 PHE A  28     -14.409   3.232  -0.608  1.00 98.64           C  \\nATOM    214  CZ  PHE A  28     -14.398   3.822  -1.862  1.00 98.64           C  \\nATOM    215  N   ASN A  29     -20.200  -0.414  -0.706  1.00 98.67           N  \\nATOM    216  CA  ASN A  29     -21.039  -1.539  -0.307  1.00 98.67           C  \\nATOM    217  C   ASN A  29     -21.995  -1.949  -1.424  1.00 98.67           C  \\nATOM    218  CB  ASN A  29     -21.820  -1.202   0.964  1.00 98.67           C  \\nATOM    219  O   ASN A  29     -22.343  -3.125  -1.548  1.00 98.67           O  \\nATOM    220  CG  ASN A  29     -20.958  -1.255   2.210  1.00 98.67           C  \\nATOM    221  ND2 ASN A  29     -21.368  -0.532   3.246  1.00 98.67           N  \\nATOM    222  OD1 ASN A  29     -19.932  -1.939   2.242  1.00 98.67           O  \\nATOM    223  N   SER A  30     -22.372  -0.981  -2.210  1.00 98.17           N  \\nATOM    224  CA  SER A  30     -23.400  -1.234  -3.214  1.00 98.17           C  \\nATOM    225  C   SER A  30     -22.782  -1.613  -4.556  1.00 98.17           C  \\nATOM    226  CB  SER A  30     -24.297  -0.007  -3.384  1.00 98.17           C  \\nATOM    227  O   SER A  30     -23.494  -1.997  -5.486  1.00 98.17           O  \\nATOM    228  OG  SER A  30     -23.582   1.058  -3.988  1.00 98.17           O  \\nATOM    229  N   THR A  31     -21.492  -1.494  -4.657  1.00 97.80           N  \\nATOM    230  CA  THR A  31     -20.803  -1.742  -5.918  1.00 97.80           C  \\nATOM    231  C   THR A  31     -20.670  -3.241  -6.175  1.00 97.80           C  \\nATOM    232  CB  THR A  31     -19.407  -1.092  -5.929  1.00 97.80           C  \\nATOM    233  O   THR A  31     -20.339  -4.005  -5.267  1.00 97.80           O  \\nATOM    234  CG2 THR A  31     -18.684  -1.365  -7.244  1.00 97.80           C  \\nATOM    235  OG1 THR A  31     -19.545   0.324  -5.758  1.00 97.80           O  \\nATOM    236  N   SER A  32     -20.993  -3.620  -7.407  1.00 96.99           N  \\nATOM    237  CA  SER A  32     -20.787  -5.002  -7.829  1.00 96.99           C  \\nATOM    238  C   SER A  32     -19.360  -5.223  -8.319  1.00 96.99           C  \\nATOM    239  CB  SER A  32     -21.778  -5.380  -8.931  1.00 96.99           C  \\nATOM    240  O   SER A  32     -18.913  -4.568  -9.262  1.00 96.99           O  \\nATOM    241  OG  SER A  32     -23.106  -5.377  -8.436  1.00 96.99           O  \\nATOM    242  N   ILE A  33     -18.620  -6.029  -7.616  1.00 97.53           N  \\nATOM    243  CA  ILE A  33     -17.274  -6.442  -7.995  1.00 97.53           C  \\nATOM    244  C   ILE A  33     -17.265  -7.933  -8.324  1.00 97.53           C  \\nATOM    245  CB  ILE A  33     -16.252  -6.134  -6.878  1.00 97.53           C  \\nATOM    246  O   ILE A  33     -17.381  -8.774  -7.429  1.00 97.53           O  \\nATOM    247  CG1 ILE A  33     -16.275  -4.641  -6.531  1.00 97.53           C  \\nATOM    248  CG2 ILE A  33     -14.846  -6.578  -7.295  1.00 97.53           C  \\nATOM    249  CD1 ILE A  33     -15.418  -4.272  -5.327  1.00 97.53           C  \\nATOM    250  N   ASN A  34     -17.125  -8.284  -9.699  1.00 94.75           N  \\nATOM    251  CA  ASN A  34     -17.341  -9.655 -10.148  1.00 94.75           C  \\nATOM    252  C   ASN A  34     -16.035 -10.316 -10.579  1.00 94.75           C  \\nATOM    253  CB  ASN A  34     -18.357  -9.691 -11.292  1.00 94.75           C  \\nATOM    254  O   ASN A  34     -16.048 -11.383 -11.196  1.00 94.75           O  \\nATOM    255  CG  ASN A  34     -19.720  -9.174 -10.878  1.00 94.75           C  \\nATOM    256  ND2 ASN A  34     -20.365  -8.425 -11.765  1.00 94.75           N  \\nATOM    257  OD1 ASN A  34     -20.190  -9.444  -9.770  1.00 94.75           O  \\nATOM    258  N   HIS A  35     -14.914  -9.697 -10.254  1.00 96.16           N  \\nATOM    259  CA  HIS A  35     -13.640 -10.334 -10.566  1.00 96.16           C  \\nATOM    260  C   HIS A  35     -12.777 -10.482  -9.317  1.00 96.16           C  \\nATOM    261  CB  HIS A  35     -12.888  -9.534 -11.631  1.00 96.16           C  \\nATOM    262  O   HIS A  35     -13.113  -9.947  -8.259  1.00 96.16           O  \\nATOM    263  CG  HIS A  35     -12.455  -8.179 -11.169  1.00 96.16           C  \\nATOM    264  CD2 HIS A  35     -11.226  -7.687 -10.887  1.00 96.16           C  \\nATOM    265  ND1 HIS A  35     -13.344  -7.150 -10.945  1.00 96.16           N  \\nATOM    266  CE1 HIS A  35     -12.677  -6.080 -10.544  1.00 96.16           C  \\nATOM    267  NE2 HIS A  35     -11.390  -6.379 -10.501  1.00 96.16           N  \\nATOM    268  N   ASP A  36     -11.753 -11.338  -9.330  1.00 96.75           N  \\nATOM    269  CA  ASP A  36     -10.871 -11.655  -8.211  1.00 96.75           C  \\nATOM    270  C   ASP A  36      -9.934 -10.490  -7.902  1.00 96.75           C  \\nATOM    271  CB  ASP A  36     -10.060 -12.918  -8.508  1.00 96.75           C  \\nATOM    272  O   ASP A  36      -8.917 -10.309  -8.574  1.00 96.75           O  \\nATOM    273  CG  ASP A  36      -9.219 -13.374  -7.329  1.00 96.75           C  \\nATOM    274  OD1 ASP A  36      -9.510 -12.972  -6.181  1.00 96.75           O  \\nATOM    275  OD2 ASP A  36      -8.256 -14.140  -7.549  1.00 96.75           O  \\nATOM    276  N   VAL A  37     -10.404  -9.643  -6.866  1.00 98.39           N  \\nATOM    277  CA  VAL A  37      -9.596  -8.513  -6.420  1.00 98.39           C  \\nATOM    278  C   VAL A  37      -9.734  -8.343  -4.909  1.00 98.39           C  \\nATOM    279  CB  VAL A  37      -9.998  -7.207  -7.142  1.00 98.39           C  \\nATOM    280  O   VAL A  37     -10.811  -8.564  -4.349  1.00 98.39           O  \\nATOM    281  CG1 VAL A  37     -11.461  -6.866  -6.865  1.00 98.39           C  \\nATOM    282  CG2 VAL A  37      -9.088  -6.058  -6.713  1.00 98.39           C  \\nATOM    283  N   GLN A  38      -8.585  -8.017  -4.260  1.00 98.59           N  \\nATOM    284  CA  GLN A  38      -8.591  -7.626  -2.854  1.00 98.59           C  \\nATOM    285  C   GLN A  38      -8.670  -6.110  -2.705  1.00 98.59           C  \\nATOM    286  CB  GLN A  38      -7.347  -8.160  -2.142  1.00 98.59           C  \\nATOM    287  O   GLN A  38      -7.779  -5.389  -3.159  1.00 98.59           O  \\nATOM    288  CG  GLN A  38      -7.252  -7.750  -0.679  1.00 98.59           C  \\nATOM    289  CD  GLN A  38      -8.290  -8.432   0.191  1.00 98.59           C  \\nATOM    290  NE2 GLN A  38      -9.132  -7.638   0.844  1.00 98.59           N  \\nATOM    291  OE1 GLN A  38      -8.337  -9.664   0.274  1.00 98.59           O  \\nATOM    292  N   CYS A  39      -9.689  -5.648  -2.074  1.00 98.81           N  \\nATOM    293  CA  CYS A  39      -9.820  -4.219  -1.808  1.00 98.81           C  \\nATOM    294  C   CYS A  39      -9.466  -3.899  -0.361  1.00 98.81           C  \\nATOM    295  CB  CYS A  39     -11.240  -3.745  -2.113  1.00 98.81           C  \\nATOM    296  O   CYS A  39      -9.907  -4.591   0.558  1.00 98.81           O  \\nATOM    297  SG  CYS A  39     -11.754  -4.033  -3.820  1.00 98.81           S  \\nATOM    298  N   VAL A  40      -8.637  -2.807  -0.195  1.00 98.88           N  \\nATOM    299  CA  VAL A  40      -8.168  -2.387   1.121  1.00 98.88           C  \\nATOM    300  C   VAL A  40      -8.473  -0.905   1.330  1.00 98.88           C  \\nATOM    301  CB  VAL A  40      -6.655  -2.649   1.295  1.00 98.88           C  \\nATOM    302  O   VAL A  40      -8.211  -0.081   0.451  1.00 98.88           O  \\nATOM    303  CG1 VAL A  40      -6.199  -2.267   2.702  1.00 98.88           C  \\nATOM    304  CG2 VAL A  40      -6.331  -4.113   1.004  1.00 98.88           C  \\nATOM    305  N   VAL A  41      -9.043  -0.598   2.499  1.00 98.82           N  \\nATOM    306  CA  VAL A  41      -9.274   0.800   2.844  1.00 98.82           C  \\nATOM    307  C   VAL A  41      -8.466   1.166   4.087  1.00 98.82           C  \\nATOM    308  CB  VAL A  41     -10.774   1.086   3.080  1.00 98.82           C  \\nATOM    309  O   VAL A  41      -8.680   0.602   5.162  1.00 98.82           O  \\nATOM    310  CG1 VAL A  41     -10.982   2.520   3.562  1.00 98.82           C  \\nATOM    311  CG2 VAL A  41     -11.574   0.826   1.805  1.00 98.82           C  \\nATOM    312  N   ALA A  42      -7.505   2.050   3.845  1.00 98.73           N  \\nATOM    313  CA  ALA A  42      -6.742   2.586   4.969  1.00 98.73           C  \\nATOM    314  C   ALA A  42      -7.259   3.963   5.376  1.00 98.73           C  \\nATOM    315  CB  ALA A  42      -5.258   2.660   4.617  1.00 98.73           C  \\nATOM    316  O   ALA A  42      -7.041   4.949   4.668  1.00 98.73           O  \\nATOM    317  N   SER A  43      -7.959   4.033   6.515  1.00 97.17           N  \\nATOM    318  CA  SER A  43      -8.561   5.266   7.012  1.00 97.17           C  \\nATOM    319  C   SER A  43      -7.734   5.868   8.144  1.00 97.17           C  \\nATOM    320  CB  SER A  43      -9.990   5.010   7.493  1.00 97.17           C  \\nATOM    321  O   SER A  43      -6.836   5.214   8.678  1.00 97.17           O  \\nATOM    322  OG  SER A  43      -9.992   4.184   8.644  1.00 97.17           O  \\nATOM    323  N   THR A  44      -7.976   7.151   8.428  1.00 97.62           N  \\nATOM    324  CA  THR A  44      -7.411   7.730   9.642  1.00 97.62           C  \\nATOM    325  C   THR A  44      -7.836   6.930  10.871  1.00 97.62           C  \\nATOM    326  CB  THR A  44      -7.837   9.200   9.811  1.00 97.62           C  \\nATOM    327  O   THR A  44      -8.846   6.224  10.839  1.00 97.62           O  \\nATOM    328  CG2 THR A  44      -7.494  10.018   8.571  1.00 97.62           C  \\nATOM    329  OG1 THR A  44      -9.252   9.259  10.033  1.00 97.62           O  \\nATOM    330  N   PHE A  45      -7.104   7.072  11.942  1.00 97.86           N  \\nATOM    331  CA  PHE A  45      -7.389   6.284  13.136  1.00 97.86           C  \\nATOM    332  C   PHE A  45      -8.750   6.653  13.715  1.00 97.86           C  \\nATOM    333  CB  PHE A  45      -6.297   6.489  14.191  1.00 97.86           C  \\nATOM    334  O   PHE A  45      -9.461   5.793  14.239  1.00 97.86           O  \\nATOM    335  CG  PHE A  45      -4.987   5.836  13.842  1.00 97.86           C  \\nATOM    336  CD1 PHE A  45      -4.953   4.549  13.320  1.00 97.86           C  \\nATOM    337  CD2 PHE A  45      -3.788   6.510  14.037  1.00 97.86           C  \\nATOM    338  CE1 PHE A  45      -3.742   3.942  12.997  1.00 97.86           C  \\nATOM    339  CE2 PHE A  45      -2.574   5.910  13.717  1.00 97.86           C  \\nATOM    340  CZ  PHE A  45      -2.553   4.625  13.198  1.00 97.86           C  \\nATOM    341  N   VAL A  46      -9.119   7.971  13.560  1.00 97.39           N  \\nATOM    342  CA  VAL A  46     -10.355   8.441  14.175  1.00 97.39           C  \\nATOM    343  C   VAL A  46     -11.556   7.906  13.398  1.00 97.39           C  \\nATOM    344  CB  VAL A  46     -10.407   9.984  14.239  1.00 97.39           C  \\nATOM    345  O   VAL A  46     -12.684   7.926  13.896  1.00 97.39           O  \\nATOM    346  CG1 VAL A  46      -9.349  10.521  15.202  1.00 97.39           C  \\nATOM    347  CG2 VAL A  46     -10.218  10.582  12.846  1.00 97.39           C  \\nATOM    348  N   HIS A  47     -11.323   7.439  12.135  1.00 98.19           N  \\nATOM    349  CA  HIS A  47     -12.425   6.942  11.319  1.00 98.19           C  \\nATOM    350  C   HIS A  47     -12.435   5.418  11.275  1.00 98.19           C  \\nATOM    351  CB  HIS A  47     -12.339   7.508   9.900  1.00 98.19           C  \\nATOM    352  O   HIS A  47     -13.317   4.816  10.659  1.00 98.19           O  \\nATOM    353  CG  HIS A  47     -12.421   9.000   9.843  1.00 98.19           C  \\nATOM    354  CD2 HIS A  47     -13.319   9.862  10.374  1.00 98.19           C  \\nATOM    355  ND1 HIS A  47     -11.497   9.770   9.170  1.00 98.19           N  \\nATOM    356  CE1 HIS A  47     -11.826  11.046   9.291  1.00 98.19           C  \\nATOM    357  NE2 HIS A  47     -12.927  11.129  10.017  1.00 98.19           N  \\nATOM    358  N   LEU A  48     -11.528   4.696  11.904  1.00 97.37           N  \\nATOM    359  CA  LEU A  48     -11.368   3.249  11.811  1.00 97.37           C  \\nATOM    360  C   LEU A  48     -12.609   2.531  12.331  1.00 97.37           C  \\nATOM    361  CB  LEU A  48     -10.135   2.794  12.596  1.00 97.37           C  \\nATOM    362  O   LEU A  48     -13.084   1.576  11.711  1.00 97.37           O  \\nATOM    363  CG  LEU A  48      -8.802   2.829  11.845  1.00 97.37           C  \\nATOM    364  CD1 LEU A  48      -7.651   2.515  12.795  1.00 97.37           C  \\nATOM    365  CD2 LEU A  48      -8.821   1.849  10.677  1.00 97.37           C  \\nATOM    366  N   ALA A  49     -13.116   3.011  13.443  1.00 97.70           N  \\nATOM    367  CA  ALA A  49     -14.266   2.344  14.047  1.00 97.70           C  \\nATOM    368  C   ALA A  49     -15.476   2.389  13.118  1.00 97.70           C  \\nATOM    369  CB  ALA A  49     -14.607   2.983  15.391  1.00 97.70           C  \\nATOM    370  O   ALA A  49     -16.115   1.363  12.870  1.00 97.70           O  \\nATOM    371  N   MET A  50     -15.699   3.558  12.610  1.00 97.92           N  \\nATOM    372  CA  MET A  50     -16.835   3.725  11.708  1.00 97.92           C  \\nATOM    373  C   MET A  50     -16.640   2.914  10.432  1.00 97.92           C  \\nATOM    374  CB  MET A  50     -17.037   5.201  11.364  1.00 97.92           C  \\nATOM    375  O   MET A  50     -17.569   2.254   9.962  1.00 97.92           O  \\nATOM    376  CG  MET A  50     -18.182   5.454  10.397  1.00 97.92           C  \\nATOM    377  SD  MET A  50     -17.598   5.936   8.726  1.00 97.92           S  \\nATOM    378  CE  MET A  50     -17.008   7.618   9.065  1.00 97.92           C  \\nATOM    379  N   THR A  51     -15.464   2.978   9.863  1.00 97.76           N  \\nATOM    380  CA  THR A  51     -15.181   2.253   8.630  1.00 97.76           C  \\nATOM    381  C   THR A  51     -15.356   0.751   8.833  1.00 97.76           C  \\nATOM    382  CB  THR A  51     -13.755   2.542   8.126  1.00 97.76           C  \\nATOM    383  O   THR A  51     -15.966   0.073   8.003  1.00 97.76           O  \\nATOM    384  CG2 THR A  51     -13.490   1.848   6.794  1.00 97.76           C  \\nATOM    385  OG1 THR A  51     -13.592   3.956   7.956  1.00 97.76           O  \\nATOM    386  N   LYS A  52     -14.843   0.235   9.976  1.00 97.33           N  \\nATOM    387  CA  LYS A  52     -14.964  -1.184  10.298  1.00 97.33           C  \\nATOM    388  C   LYS A  52     -16.427  -1.591  10.448  1.00 97.33           C  \\nATOM    389  CB  LYS A  52     -14.195  -1.511  11.580  1.00 97.33           C  \\nATOM    390  O   LYS A  52     -16.838  -2.641   9.950  1.00 97.33           O  \\nATOM    391  CG  LYS A  52     -14.231  -2.983  11.964  1.00 97.33           C  \\nATOM    392  CD  LYS A  52     -13.405  -3.254  13.215  1.00 97.33           C  \\nATOM    393  CE  LYS A  52     -13.564  -4.692  13.690  1.00 97.33           C  \\nATOM    394  NZ  LYS A  52     -12.912  -4.913  15.016  1.00 97.33           N  \\nATOM    395  N   GLU A  53     -17.156  -0.779  11.040  1.00 97.47           N  \\nATOM    396  CA  GLU A  53     -18.557  -1.080  11.318  1.00 97.47           C  \\nATOM    397  C   GLU A  53     -19.398  -1.012  10.047  1.00 97.47           C  \\nATOM    398  CB  GLU A  53     -19.115  -0.120  12.371  1.00 97.47           C  \\nATOM    399  O   GLU A  53     -20.262  -1.862   9.821  1.00 97.47           O  \\nATOM    400  CG  GLU A  53     -20.566  -0.389  12.741  1.00 97.47           C  \\nATOM    401  CD  GLU A  53     -21.132   0.623  13.725  1.00 97.47           C  \\nATOM    402  OE1 GLU A  53     -22.339   0.545  14.049  1.00 97.47           O  \\nATOM    403  OE2 GLU A  53     -20.363   1.502  14.173  1.00 97.47           O  \\nATOM    404  N   ARG A  54     -19.146  -0.146   9.176  1.00 98.09           N  \\nATOM    405  CA  ARG A  54     -20.064   0.173   8.088  1.00 98.09           C  \\nATOM    406  C   ARG A  54     -19.648  -0.526   6.798  1.00 98.09           C  \\nATOM    407  CB  ARG A  54     -20.130   1.686   7.866  1.00 98.09           C  \\nATOM    408  O   ARG A  54     -20.484  -0.787   5.930  1.00 98.09           O  \\nATOM    409  CG  ARG A  54     -20.813   2.444   8.993  1.00 98.09           C  \\nATOM    410  CD  ARG A  54     -21.018   3.911   8.642  1.00 98.09           C  \\nATOM    411  NE  ARG A  54     -22.001   4.077   7.575  1.00 98.09           N  \\nATOM    412  NH1 ARG A  54     -21.575   6.325   7.251  1.00 98.09           N  \\nATOM    413  NH2 ARG A  54     -23.160   5.259   5.982  1.00 98.09           N  \\nATOM    414  CZ  ARG A  54     -22.243   5.220   6.938  1.00 98.09           C  \\nATOM    415  N   LEU A  55     -18.336  -0.654   6.620  1.00 98.23           N  \\nATOM    416  CA  LEU A  55     -17.867  -1.290   5.394  1.00 98.23           C  \\nATOM    417  C   LEU A  55     -18.151  -2.788   5.416  1.00 98.23           C  \\nATOM    418  CB  LEU A  55     -16.368  -1.046   5.203  1.00 98.23           C  \\nATOM    419  O   LEU A  55     -17.423  -3.553   6.052  1.00 98.23           O  \\nATOM    420  CG  LEU A  55     -15.776  -1.477   3.860  1.00 98.23           C  \\nATOM    421  CD1 LEU A  55     -16.485  -0.762   2.715  1.00 98.23           C  \\nATOM    422  CD2 LEU A  55     -14.277  -1.203   3.824  1.00 98.23           C  \\nATOM    423  N   SER A  56     -19.187  -3.250   4.635  1.00 97.86           N  \\nATOM    424  CA  SER A  56     -19.708  -4.609   4.744  1.00 97.86           C  \\nATOM    425  C   SER A  56     -19.470  -5.396   3.460  1.00 97.86           C  \\nATOM    426  CB  SER A  56     -21.202  -4.587   5.069  1.00 97.86           C  \\nATOM    427  O   SER A  56     -19.745  -6.596   3.401  1.00 97.86           O  \\nATOM    428  OG  SER A  56     -21.920  -3.864   4.085  1.00 97.86           O  \\nATOM    429  N   HIS A  57     -18.967  -4.699   2.465  1.00 98.41           N  \\nATOM    430  CA  HIS A  57     -18.675  -5.402   1.221  1.00 98.41           C  \\nATOM    431  C   HIS A  57     -17.632  -6.493   1.437  1.00 98.41           C  \\nATOM    432  CB  HIS A  57     -18.196  -4.421   0.151  1.00 98.41           C  \\nATOM    433  O   HIS A  57     -16.572  -6.239   2.013  1.00 98.41           O  \\nATOM    434  CG  HIS A  57     -18.244  -4.977  -1.237  1.00 98.41           C  \\nATOM    435  CD2 HIS A  57     -18.979  -4.615  -2.315  1.00 98.41           C  \\nATOM    436  ND1 HIS A  57     -17.467  -6.042  -1.639  1.00 98.41           N  \\nATOM    437  CE1 HIS A  57     -17.723  -6.311  -2.909  1.00 98.41           C  \\nATOM    438  NE2 HIS A  57     -18.637  -5.459  -3.342  1.00 98.41           N  \\nATOM    439  N   PRO A  58     -17.813  -7.746   0.936  1.00 97.09           N  \\nATOM    440  CA  PRO A  58     -16.949  -8.885   1.257  1.00 97.09           C  \\nATOM    441  C   PRO A  58     -15.559  -8.764   0.637  1.00 97.09           C  \\nATOM    442  CB  PRO A  58     -17.707 -10.079   0.669  1.00 97.09           C  \\nATOM    443  O   PRO A  58     -14.631  -9.462   1.054  1.00 97.09           O  \\nATOM    444  CG  PRO A  58     -18.604  -9.488  -0.370  1.00 97.09           C  \\nATOM    445  CD  PRO A  58     -19.037  -8.126   0.092  1.00 97.09           C  \\nATOM    446  N   LYS A  59     -15.393  -7.950  -0.342  1.00 97.98           N  \\nATOM    447  CA  LYS A  59     -14.101  -7.827  -1.012  1.00 97.98           C  \\nATOM    448  C   LYS A  59     -13.202  -6.826  -0.293  1.00 97.98           C  \\nATOM    449  CB  LYS A  59     -14.291  -7.407  -2.471  1.00 97.98           C  \\nATOM    450  O   LYS A  59     -12.012  -6.722  -0.597  1.00 97.98           O  \\nATOM    451  CG  LYS A  59     -14.963  -8.463  -3.336  1.00 97.98           C  \\nATOM    452  CD  LYS A  59     -14.013  -9.610  -3.658  1.00 97.98           C  \\nATOM    453  CE  LYS A  59     -14.620 -10.574  -4.668  1.00 97.98           C  \\nATOM    454  NZ  LYS A  59     -13.734 -11.752  -4.911  1.00 97.98           N  \\nATOM    455  N   PHE A  60     -13.821  -6.071   0.640  1.00 98.54           N  \\nATOM    456  CA  PHE A  60     -13.073  -5.004   1.294  1.00 98.54           C  \\nATOM    457  C   PHE A  60     -12.576  -5.452   2.664  1.00 98.54           C  \\nATOM    458  CB  PHE A  60     -13.939  -3.748   1.435  1.00 98.54           C  \\nATOM    459  O   PHE A  60     -13.271  -6.181   3.374  1.00 98.54           O  \\nATOM    460  CG  PHE A  60     -14.090  -2.968   0.157  1.00 98.54           C  \\nATOM    461  CD1 PHE A  60     -13.328  -1.829  -0.073  1.00 98.54           C  \\nATOM    462  CD2 PHE A  60     -14.995  -3.374  -0.815  1.00 98.54           C  \\nATOM    463  CE1 PHE A  60     -13.466  -1.105  -1.255  1.00 98.54           C  \\nATOM    464  CE2 PHE A  60     -15.138  -2.656  -1.999  1.00 98.54           C  \\nATOM    465  CZ  PHE A  60     -14.373  -1.522  -2.216  1.00 98.54           C  \\nATOM    466  N   VAL A  61     -11.362  -5.058   2.953  1.00 98.49           N  \\nATOM    467  CA  VAL A  61     -10.809  -5.135   4.301  1.00 98.49           C  \\nATOM    468  C   VAL A  61     -10.334  -3.753   4.744  1.00 98.49           C  \\nATOM    469  CB  VAL A  61      -9.645  -6.148   4.379  1.00 98.49           C  \\nATOM    470  O   VAL A  61     -10.164  -2.853   3.918  1.00 98.49           O  \\nATOM    471  CG1 VAL A  61     -10.126  -7.552   4.016  1.00 98.49           C  \\nATOM    472  CG2 VAL A  61      -8.501  -5.718   3.462  1.00 98.49           C  \\nATOM    473  N   ILE A  62     -10.160  -3.588   6.069  1.00 98.41           N  \\nATOM    474  CA  ILE A  62      -9.708  -2.297   6.577  1.00 98.41           C  \\nATOM    475  C   ILE A  62      -8.239  -2.389   6.985  1.00 98.41           C  \\nATOM    476  CB  ILE A  62     -10.567  -1.828   7.773  1.00 98.41           C  \\nATOM    477  O   ILE A  62      -7.764  -3.455   7.383  1.00 98.41           O  \\nATOM    478  CG1 ILE A  62     -10.450  -2.819   8.936  1.00 98.41           C  \\nATOM    479  CG2 ILE A  62     -12.028  -1.649   7.350  1.00 98.41           C  \\nATOM    480  CD1 ILE A  62     -11.034  -2.307  10.246  1.00 98.41           C  \\nATOM    481  N   ALA A  63      -7.505  -1.257   6.805  1.00 98.81           N  \\nATOM    482  CA  ALA A  63      -6.089  -1.179   7.153  1.00 98.81           C  \\nATOM    483  C   ALA A  63      -5.791   0.079   7.964  1.00 98.81           C  \\nATOM    484  CB  ALA A  63      -5.229  -1.210   5.892  1.00 98.81           C  \\nATOM    485  O   ALA A  63      -6.493   1.085   7.841  1.00 98.81           O  \\nATOM    486  N   ALA A  64      -4.827  -0.023   8.821  1.00 98.70           N  \\nATOM    487  CA  ALA A  64      -4.258   1.160   9.462  1.00 98.70           C  \\nATOM    488  C   ALA A  64      -3.224   1.828   8.562  1.00 98.70           C  \\nATOM    489  CB  ALA A  64      -3.631   0.788  10.803  1.00 98.70           C  \\nATOM    490  O   ALA A  64      -2.663   1.189   7.669  1.00 98.70           O  \\nATOM    491  N   GLN A  65      -2.976   3.135   8.887  1.00 98.58           N  \\nATOM    492  CA  GLN A  65      -2.062   3.882   8.030  1.00 98.58           C  \\nATOM    493  C   GLN A  65      -0.679   3.992   8.665  1.00 98.58           C  \\nATOM    494  CB  GLN A  65      -2.617   5.276   7.737  1.00 98.58           C  \\nATOM    495  O   GLN A  65       0.209   4.652   8.121  1.00 98.58           O  \\nATOM    496  CG  GLN A  65      -3.938   5.265   6.979  1.00 98.58           C  \\nATOM    497  CD  GLN A  65      -4.550   6.647   6.847  1.00 98.58           C  \\nATOM    498  NE2 GLN A  65      -5.342   6.847   5.799  1.00 98.58           N  \\nATOM    499  OE1 GLN A  65      -4.315   7.527   7.681  1.00 98.58           O  \\nATOM    500  N   ASN A  66      -0.513   3.415   9.813  1.00 98.65           N  \\nATOM    501  CA  ASN A  66       0.721   3.410  10.593  1.00 98.65           C  \\nATOM    502  C   ASN A  66       0.550   2.652  11.906  1.00 98.65           C  \\nATOM    503  CB  ASN A  66       1.192   4.841  10.862  1.00 98.65           C  \\nATOM    504  O   ASN A  66      -0.574   2.431  12.359  1.00 98.65           O  \\nATOM    505  CG  ASN A  66       2.589   4.895  11.448  1.00 98.65           C  \\nATOM    506  ND2 ASN A  66       2.837   5.884  12.299  1.00 98.65           N  \\nATOM    507  OD1 ASN A  66       3.438   4.056  11.138  1.00 98.65           O  \\nATOM    508  N   ALA A  67       1.693   2.276  12.443  1.00 98.48           N  \\nATOM    509  CA  ALA A  67       1.668   1.656  13.766  1.00 98.48           C  \\nATOM    510  C   ALA A  67       3.079   1.507  14.328  1.00 98.48           C  \\nATOM    511  CB  ALA A  67       0.977   0.297  13.703  1.00 98.48           C  \\nATOM    512  O   ALA A  67       4.053   1.454  13.572  1.00 98.48           O  \\nATOM    513  N   ILE A  68       3.134   1.474  15.638  1.00 98.19           N  \\nATOM    514  CA  ILE A  68       4.379   1.108  16.305  1.00 98.19           C  \\nATOM    515  C   ILE A  68       4.290  -0.330  16.811  1.00 98.19           C  \\nATOM    516  CB  ILE A  68       4.697   2.069  17.473  1.00 98.19           C  \\nATOM    517  O   ILE A  68       3.199  -0.898  16.896  1.00 98.19           O  \\nATOM    518  CG1 ILE A  68       3.584   2.016  18.526  1.00 98.19           C  \\nATOM    519  CG2 ILE A  68       4.897   3.497  16.959  1.00 98.19           C  \\nATOM    520  CD1 ILE A  68       3.909   2.769  19.809  1.00 98.19           C  \\nATOM    521  N   ALA A  69       5.471  -0.902  17.122  1.00 97.83           N  \\nATOM    522  CA  ALA A  69       5.595  -2.338  17.361  1.00 97.83           C  \\nATOM    523  C   ALA A  69       4.967  -2.728  18.696  1.00 97.83           C  \\nATOM    524  CB  ALA A  69       7.062  -2.758  17.324  1.00 97.83           C  \\nATOM    525  O   ALA A  69       4.271  -3.742  18.789  1.00 97.83           O  \\nATOM    526  N   LYS A  70       5.213  -1.940  19.750  1.00 97.01           N  \\nATOM    527  CA  LYS A  70       4.770  -2.347  21.080  1.00 97.01           C  \\nATOM    528  C   LYS A  70       4.003  -1.224  21.772  1.00 97.01           C  \\nATOM    529  CB  LYS A  70       5.964  -2.772  21.937  1.00 97.01           C  \\nATOM    530  O   LYS A  70       4.209  -0.047  21.469  1.00 97.01           O  \\nATOM    531  CG  LYS A  70       6.975  -1.661  22.184  1.00 97.01           C  \\nATOM    532  CD  LYS A  70       8.156  -2.155  23.009  1.00 97.01           C  \\nATOM    533  CE  LYS A  70       9.139  -1.030  23.308  1.00 97.01           C  \\nATOM    534  NZ  LYS A  70      10.293  -1.506  24.127  1.00 97.01           N  \\nATOM    535  N   SER A  71       3.164  -1.640  22.682  1.00 97.73           N  \\nATOM    536  CA  SER A  71       2.480  -0.690  23.553  1.00 97.73           C  \\nATOM    537  C   SER A  71       3.415  -0.157  24.633  1.00 97.73           C  \\nATOM    538  CB  SER A  71       1.258  -1.342  24.202  1.00 97.73           C  \\nATOM    539  O   SER A  71       4.375  -0.829  25.017  1.00 97.73           O  \\nATOM    540  OG  SER A  71       0.311  -1.725  23.220  1.00 97.73           O  \\nATOM    541  N   GLY A  72       3.225   1.109  25.011  1.00 97.09           N  \\nATOM    542  CA  GLY A  72       4.053   1.764  26.010  1.00 97.09           C  \\nATOM    543  C   GLY A  72       3.867   3.270  26.046  1.00 97.09           C  \\nATOM    544  O   GLY A  72       2.817   3.780  25.650  1.00 97.09           O  \\nATOM    545  N   ALA A  73       4.931   3.986  26.587  1.00 97.79           N  \\nATOM    546  CA  ALA A  73       4.845   5.433  26.763  1.00 97.79           C  \\nATOM    547  C   ALA A  73       5.111   6.162  25.448  1.00 97.79           C  \\nATOM    548  CB  ALA A  73       5.829   5.899  27.833  1.00 97.79           C  \\nATOM    549  O   ALA A  73       6.152   6.803  25.286  1.00 97.79           O  \\nATOM    550  N   PHE A  74       4.135   6.019  24.458  1.00 96.88           N  \\nATOM    551  CA  PHE A  74       4.210   6.623  23.132  1.00 96.88           C  \\nATOM    552  C   PHE A  74       2.947   7.421  22.829  1.00 96.88           C  \\nATOM    553  CB  PHE A  74       4.422   5.549  22.062  1.00 96.88           C  \\nATOM    554  O   PHE A  74       2.222   7.109  21.882  1.00 96.88           O  \\nATOM    555  CG  PHE A  74       5.643   4.699  22.288  1.00 96.88           C  \\nATOM    556  CD1 PHE A  74       6.911   5.191  22.004  1.00 96.88           C  \\nATOM    557  CD2 PHE A  74       5.523   3.407  22.784  1.00 96.88           C  \\nATOM    558  CE1 PHE A  74       8.044   4.407  22.212  1.00 96.88           C  \\nATOM    559  CE2 PHE A  74       6.650   2.618  22.994  1.00 96.88           C  \\nATOM    560  CZ  PHE A  74       7.909   3.119  22.707  1.00 96.88           C  \\nATOM    561  N   THR A  75       2.689   8.492  23.653  1.00 96.98           N  \\nATOM    562  CA  THR A  75       1.494   9.324  23.563  1.00 96.98           C  \\nATOM    563  C   THR A  75       1.248   9.763  22.122  1.00 96.98           C  \\nATOM    564  CB  THR A  75       1.607  10.564  24.469  1.00 96.98           C  \\nATOM    565  O   THR A  75       2.158  10.259  21.455  1.00 96.98           O  \\nATOM    566  CG2 THR A  75       0.384  11.464  24.323  1.00 96.98           C  \\nATOM    567  OG1 THR A  75       1.716  10.142  25.834  1.00 96.98           O  \\nATOM    568  N   GLY A  76       0.061   9.398  21.584  1.00 95.30           N  \\nATOM    569  CA  GLY A  76      -0.364   9.831  20.262  1.00 95.30           C  \\nATOM    570  C   GLY A  76      -0.224   8.750  19.207  1.00 95.30           C  \\nATOM    571  O   GLY A  76      -0.772   8.873  18.109  1.00 95.30           O  \\nATOM    572  N   GLU A  77       0.499   7.654  19.605  1.00 97.50           N  \\nATOM    573  CA  GLU A  77       0.725   6.572  18.651  1.00 97.50           C  \\nATOM    574  C   GLU A  77      -0.281   5.442  18.851  1.00 97.50           C  \\nATOM    575  CB  GLU A  77       2.153   6.034  18.777  1.00 97.50           C  \\nATOM    576  O   GLU A  77      -0.933   5.361  19.893  1.00 97.50           O  \\nATOM    577  CG  GLU A  77       3.222   7.010  18.308  1.00 97.50           C  \\nATOM    578  CD  GLU A  77       3.154   7.303  16.817  1.00 97.50           C  \\nATOM    579  OE1 GLU A  77       3.435   8.453  16.411  1.00 97.50           O  \\nATOM    580  OE2 GLU A  77       2.817   6.374  16.049  1.00 97.50           O  \\nATOM    581  N   VAL A  78      -0.420   4.632  17.798  1.00 98.27           N  \\nATOM    582  CA  VAL A  78      -1.213   3.407  17.848  1.00 98.27           C  \\nATOM    583  C   VAL A  78      -0.313   2.198  17.602  1.00 98.27           C  \\nATOM    584  CB  VAL A  78      -2.363   3.434  16.816  1.00 98.27           C  \\nATOM    585  O   VAL A  78       0.412   2.148  16.605  1.00 98.27           O  \\nATOM    586  CG1 VAL A  78      -3.173   2.140  16.878  1.00 98.27           C  \\nATOM    587  CG2 VAL A  78      -3.264   4.644  17.054  1.00 98.27           C  \\nATOM    588  N   SER A  79      -0.384   1.254  18.547  1.00 98.57           N  \\nATOM    589  CA  SER A  79       0.515   0.106  18.473  1.00 98.57           C  \\nATOM    590  C   SER A  79      -0.152  -1.074  17.775  1.00 98.57           C  \\nATOM    591  CB  SER A  79       0.970  -0.309  19.873  1.00 98.57           C  \\nATOM    592  O   SER A  79      -1.374  -1.102  17.621  1.00 98.57           O  \\nATOM    593  OG  SER A  79      -0.121  -0.804  20.631  1.00 98.57           O  \\nATOM    594  N   LEU A  80       0.646  -2.069  17.409  1.00 98.77           N  \\nATOM    595  CA  LEU A  80       0.167  -3.270  16.733  1.00 98.77           C  \\nATOM    596  C   LEU A  80      -0.806  -4.041  17.618  1.00 98.77           C  \\nATOM    597  CB  LEU A  80       1.342  -4.170  16.342  1.00 98.77           C  \\nATOM    598  O   LEU A  80      -1.848  -4.504  17.147  1.00 98.77           O  \\nATOM    599  CG  LEU A  80       2.285  -3.625  15.268  1.00 98.77           C  \\nATOM    600  CD1 LEU A  80       3.422  -4.609  15.012  1.00 98.77           C  \\nATOM    601  CD2 LEU A  80       1.520  -3.338  13.980  1.00 98.77           C  \\nATOM    602  N   PRO A  81      -0.472  -4.239  18.927  1.00 98.64           N  \\nATOM    603  CA  PRO A  81      -1.430  -4.956  19.773  1.00 98.64           C  \\nATOM    604  C   PRO A  81      -2.788  -4.262  19.845  1.00 98.64           C  \\nATOM    605  CB  PRO A  81      -0.749  -4.967  21.145  1.00 98.64           C  \\nATOM    606  O   PRO A  81      -3.825  -4.929  19.873  1.00 98.64           O  \\nATOM    607  CG  PRO A  81       0.715  -4.959  20.845  1.00 98.64           C  \\nATOM    608  CD  PRO A  81       0.956  -4.055  19.670  1.00 98.64           C  \\nATOM    609  N   ILE A  82      -2.790  -2.907  19.859  1.00 98.48           N  \\nATOM    610  CA  ILE A  82      -4.045  -2.164  19.890  1.00 98.48           C  \\nATOM    611  C   ILE A  82      -4.833  -2.429  18.609  1.00 98.48           C  \\nATOM    612  CB  ILE A  82      -3.801  -0.649  20.065  1.00 98.48           C  \\nATOM    613  O   ILE A  82      -6.038  -2.685  18.656  1.00 98.48           O  \\nATOM    614  CG1 ILE A  82      -3.284  -0.351  21.477  1.00 98.48           C  \\nATOM    615  CG2 ILE A  82      -5.080   0.142  19.772  1.00 98.48           C  \\nATOM    616  CD1 ILE A  82      -2.802   1.081  21.671  1.00 98.48           C  \\nATOM    617  N   LEU A  83      -4.162  -2.401  17.451  1.00 98.63           N  \\nATOM    618  CA  LEU A  83      -4.819  -2.658  16.174  1.00 98.63           C  \\nATOM    619  C   LEU A  83      -5.361  -4.083  16.118  1.00 98.63           C  \\nATOM    620  CB  LEU A  83      -3.848  -2.423  15.014  1.00 98.63           C  \\nATOM    621  O   LEU A  83      -6.471  -4.311  15.632  1.00 98.63           O  \\nATOM    622  CG  LEU A  83      -3.428  -0.974  14.764  1.00 98.63           C  \\nATOM    623  CD1 LEU A  83      -2.355  -0.912  13.683  1.00 98.63           C  \\nATOM    624  CD2 LEU A  83      -4.635  -0.127  14.376  1.00 98.63           C  \\nATOM    625  N   LYS A  84      -4.564  -5.046  16.586  1.00 98.19           N  \\nATOM    626  CA  LYS A  84      -5.018  -6.433  16.624  1.00 98.19           C  \\nATOM    627  C   LYS A  84      -6.274  -6.577  17.480  1.00 98.19           C  \\nATOM    628  CB  LYS A  84      -3.913  -7.346  17.158  1.00 98.19           C  \\nATOM    629  O   LYS A  84      -7.225  -7.255  17.087  1.00 98.19           O  \\nATOM    630  CG  LYS A  84      -4.220  -8.830  17.030  1.00 98.19           C  \\nATOM    631  CD  LYS A  84      -4.042  -9.317  15.598  1.00 98.19           C  \\nATOM    632  CE  LYS A  84      -4.161 -10.832  15.502  1.00 98.19           C  \\nATOM    633  NZ  LYS A  84      -3.921 -11.320  14.111  1.00 98.19           N  \\nATOM    634  N   ASP A  85      -6.234  -5.959  18.599  1.00 97.97           N  \\nATOM    635  CA  ASP A  85      -7.385  -5.992  19.496  1.00 97.97           C  \\nATOM    636  C   ASP A  85      -8.619  -5.389  18.829  1.00 97.97           C  \\nATOM    637  CB  ASP A  85      -7.073  -5.247  20.796  1.00 97.97           C  \\nATOM    638  O   ASP A  85      -9.737  -5.863  19.036  1.00 97.97           O  \\nATOM    639  CG  ASP A  85      -8.247  -5.219  21.759  1.00 97.97           C  \\nATOM    640  OD1 ASP A  85      -8.709  -6.298  22.190  1.00 97.97           O  \\nATOM    641  OD2 ASP A  85      -8.717  -4.108  22.088  1.00 97.97           O  \\nATOM    642  N   PHE A  86      -8.388  -4.418  17.965  1.00 97.76           N  \\nATOM    643  CA  PHE A  86      -9.474  -3.701  17.309  1.00 97.76           C  \\nATOM    644  C   PHE A  86     -10.005  -4.492  16.119  1.00 97.76           C  \\nATOM    645  CB  PHE A  86      -9.006  -2.316  16.852  1.00 97.76           C  \\nATOM    646  O   PHE A  86     -11.037  -4.141  15.545  1.00 97.76           O  \\nATOM    647  CG  PHE A  86     -10.131  -1.376  16.514  1.00 97.76           C  \\nATOM    648  CD1 PHE A  86     -10.453  -1.102  15.190  1.00 97.76           C  \\nATOM    649  CD2 PHE A  86     -10.868  -0.765  17.521  1.00 97.76           C  \\nATOM    650  CE1 PHE A  86     -11.495  -0.233  14.874  1.00 97.76           C  \\nATOM    651  CE2 PHE A  86     -11.909   0.106  17.213  1.00 97.76           C  \\nATOM    652  CZ  PHE A  86     -12.221   0.371  15.889  1.00 97.76           C  \\nATOM    653  N   GLY A  87      -9.248  -5.559  15.687  1.00 96.80           N  \\nATOM    654  CA  GLY A  87      -9.667  -6.416  14.590  1.00 96.80           C  \\nATOM    655  C   GLY A  87      -9.161  -5.945  13.239  1.00 96.80           C  \\nATOM    656  O   GLY A  87      -9.766  -6.240  12.206  1.00 96.80           O  \\nATOM    657  N   VAL A  88      -8.137  -5.082  13.210  1.00 98.36           N  \\nATOM    658  CA  VAL A  88      -7.467  -4.657  11.985  1.00 98.36           C  \\nATOM    659  C   VAL A  88      -6.291  -5.586  11.691  1.00 98.36           C  \\nATOM    660  CB  VAL A  88      -6.980  -3.194  12.083  1.00 98.36           C  \\nATOM    661  O   VAL A  88      -5.428  -5.796  12.548  1.00 98.36           O  \\nATOM    662  CG1 VAL A  88      -6.236  -2.787  10.812  1.00 98.36           C  \\nATOM    663  CG2 VAL A  88      -8.158  -2.256  12.340  1.00 98.36           C  \\nATOM    664  N   ASN A  89      -6.181  -6.049  10.419  1.00 97.49           N  \\nATOM    665  CA  ASN A  89      -5.161  -7.045  10.107  1.00 97.49           C  \\nATOM    666  C   ASN A  89      -4.271  -6.593   8.953  1.00 97.49           C  \\nATOM    667  CB  ASN A  89      -5.808  -8.393   9.783  1.00 97.49           C  \\nATOM    668  O   ASN A  89      -3.347  -7.307   8.560  1.00 97.49           O  \\nATOM    669  CG  ASN A  89      -6.553  -8.982  10.965  1.00 97.49           C  \\nATOM    670  ND2 ASN A  89      -7.821  -9.319  10.757  1.00 97.49           N  \\nATOM    671  OD1 ASN A  89      -5.995  -9.132  12.055  1.00 97.49           O  \\nATOM    672  N   TRP A  90      -4.551  -5.472   8.311  1.00 98.86           N  \\nATOM    673  CA  TRP A  90      -3.747  -4.870   7.252  1.00 98.86           C  \\nATOM    674  C   TRP A  90      -3.165  -3.535   7.703  1.00 98.86           C  \\nATOM    675  CB  TRP A  90      -4.584  -4.676   5.985  1.00 98.86           C  \\nATOM    676  O   TRP A  90      -3.814  -2.783   8.435  1.00 98.86           O  \\nATOM    677  CG  TRP A  90      -4.913  -5.952   5.270  1.00 98.86           C  \\nATOM    678  CD1 TRP A  90      -5.795  -6.917   5.671  1.00 98.86           C  \\nATOM    679  CD2 TRP A  90      -4.359  -6.404   4.031  1.00 98.86           C  \\nATOM    680  CE2 TRP A  90      -4.952  -7.653   3.739  1.00 98.86           C  \\nATOM    681  CE3 TRP A  90      -3.419  -5.874   3.137  1.00 98.86           C  \\nATOM    682  NE1 TRP A  90      -5.823  -7.942   4.754  1.00 98.86           N  \\nATOM    683  CH2 TRP A  90      -3.711  -7.838   1.732  1.00 98.86           C  \\nATOM    684  CZ2 TRP A  90      -4.634  -8.379   2.589  1.00 98.86           C  \\nATOM    685  CZ3 TRP A  90      -3.104  -6.598   1.994  1.00 98.86           C  \\nATOM    686  N   ILE A  91      -1.926  -3.224   7.177  1.00 98.86           N  \\nATOM    687  CA  ILE A  91      -1.329  -1.952   7.568  1.00 98.86           C  \\nATOM    688  C   ILE A  91      -0.418  -1.444   6.453  1.00 98.86           C  \\nATOM    689  CB  ILE A  91      -0.537  -2.082   8.889  1.00 98.86           C  \\nATOM    690  O   ILE A  91       0.234  -2.235   5.767  1.00 98.86           O  \\nATOM    691  CG1 ILE A  91      -0.057  -0.705   9.362  1.00 98.86           C  \\nATOM    692  CG2 ILE A  91       0.642  -3.045   8.720  1.00 98.86           C  \\nATOM    693  CD1 ILE A  91       0.421  -0.679  10.807  1.00 98.86           C  \\nATOM    694  N   VAL A  92      -0.489  -0.152   6.233  1.00 98.92           N  \\nATOM    695  CA  VAL A  92       0.432   0.533   5.332  1.00 98.92           C  \\nATOM    696  C   VAL A  92       1.622   1.073   6.122  1.00 98.92           C  \\nATOM    697  CB  VAL A  92      -0.268   1.682   4.571  1.00 98.92           C  \\nATOM    698  O   VAL A  92       1.445   1.779   7.118  1.00 98.92           O  \\nATOM    699  CG1 VAL A  92       0.710   2.379   3.628  1.00 98.92           C  \\nATOM    700  CG2 VAL A  92      -1.475   1.152   3.799  1.00 98.92           C  \\nATOM    701  N   LEU A  93       2.886   0.790   5.642  1.00 98.90           N  \\nATOM    702  CA  LEU A  93       4.085   1.244   6.339  1.00 98.90           C  \\nATOM    703  C   LEU A  93       5.108   1.799   5.353  1.00 98.90           C  \\nATOM    704  CB  LEU A  93       4.704   0.098   7.143  1.00 98.90           C  \\nATOM    705  O   LEU A  93       5.205   1.325   4.219  1.00 98.90           O  \\nATOM    706  CG  LEU A  93       3.857  -0.462   8.288  1.00 98.90           C  \\nATOM    707  CD1 LEU A  93       4.536  -1.681   8.902  1.00 98.90           C  \\nATOM    708  CD2 LEU A  93       3.613   0.610   9.345  1.00 98.90           C  \\nATOM    709  N   GLY A  94       5.744   2.780   5.786  1.00 98.42           N  \\nATOM    710  CA  GLY A  94       6.809   3.364   4.986  1.00 98.42           C  \\nATOM    711  C   GLY A  94       6.298   4.279   3.889  1.00 98.42           C  \\nATOM    712  O   GLY A  94       6.926   4.405   2.836  1.00 98.42           O  \\nATOM    713  N   HIS A  95       5.120   4.780   4.161  1.00 98.44           N  \\nATOM    714  CA  HIS A  95       4.586   5.705   3.167  1.00 98.44           C  \\nATOM    715  C   HIS A  95       5.518   6.894   2.963  1.00 98.44           C  \\nATOM    716  CB  HIS A  95       3.196   6.192   3.581  1.00 98.44           C  \\nATOM    717  O   HIS A  95       6.174   7.343   3.906  1.00 98.44           O  \\nATOM    718  CG  HIS A  95       2.476   6.936   2.502  1.00 98.44           C  \\nATOM    719  CD2 HIS A  95       1.634   6.504   1.533  1.00 98.44           C  \\nATOM    720  ND1 HIS A  95       2.589   8.300   2.335  1.00 98.44           N  \\nATOM    721  CE1 HIS A  95       1.845   8.675   1.308  1.00 98.44           C  \\nATOM    722  NE2 HIS A  95       1.256   7.604   0.804  1.00 98.44           N  \\nATOM    723  N   SER A  96       5.590   7.436   1.722  1.00 97.47           N  \\nATOM    724  CA  SER A  96       6.523   8.499   1.365  1.00 97.47           C  \\nATOM    725  C   SER A  96       6.346   9.716   2.265  1.00 97.47           C  \\nATOM    726  CB  SER A  96       6.340   8.905  -0.098  1.00 97.47           C  \\nATOM    727  O   SER A  96       7.319  10.395   2.600  1.00 97.47           O  \\nATOM    728  OG  SER A  96       5.012   9.340  -0.336  1.00 97.47           O  \\nATOM    729  N   GLU A  97       5.118   9.979   2.682  1.00 97.06           N  \\nATOM    730  CA  GLU A  97       4.868  11.127   3.549  1.00 97.06           C  \\nATOM    731  C   GLU A  97       5.488  10.922   4.928  1.00 97.06           C  \\nATOM    732  CB  GLU A  97       3.364  11.383   3.681  1.00 97.06           C  \\nATOM    733  O   GLU A  97       6.035  11.859   5.513  1.00 97.06           O  \\nATOM    734  CG  GLU A  97       2.715  11.908   2.409  1.00 97.06           C  \\nATOM    735  CD  GLU A  97       1.203  11.755   2.400  1.00 97.06           C  \\nATOM    736  OE1 GLU A  97       0.544  12.285   1.476  1.00 97.06           O  \\nATOM    737  OE2 GLU A  97       0.671  11.100   3.324  1.00 97.06           O  \\nATOM    738  N   ARG A  98       5.488   9.643   5.408  1.00 98.03           N  \\nATOM    739  CA  ARG A  98       6.098   9.342   6.699  1.00 98.03           C  \\nATOM    740  C   ARG A  98       7.618   9.433   6.620  1.00 98.03           C  \\nATOM    741  CB  ARG A  98       5.681   7.951   7.180  1.00 98.03           C  \\nATOM    742  O   ARG A  98       8.266   9.909   7.555  1.00 98.03           O  \\nATOM    743  CG  ARG A  98       4.187   7.808   7.428  1.00 98.03           C  \\nATOM    744  CD  ARG A  98       3.895   7.296   8.832  1.00 98.03           C  \\nATOM    745  NE  ARG A  98       4.830   7.844   9.810  1.00 98.03           N  \\nATOM    746  NH1 ARG A  98       3.249   9.117  10.914  1.00 98.03           N  \\nATOM    747  NH2 ARG A  98       5.432   9.133  11.614  1.00 98.03           N  \\nATOM    748  CZ  ARG A  98       4.502   8.697  10.777  1.00 98.03           C  \\nATOM    749  N   ARG A  99       8.103   9.026   5.504  1.00 98.02           N  \\nATOM    750  CA  ARG A  99       9.544   9.147   5.310  1.00 98.02           C  \\nATOM    751  C   ARG A  99       9.964  10.611   5.224  1.00 98.02           C  \\nATOM    752  CB  ARG A  99       9.981   8.402   4.047  1.00 98.02           C  \\nATOM    753  O   ARG A  99      10.947  11.017   5.847  1.00 98.02           O  \\nATOM    754  CG  ARG A  99       9.829   6.892   4.138  1.00 98.02           C  \\nATOM    755  CD  ARG A  99      10.235   6.205   2.842  1.00 98.02           C  \\nATOM    756  NE  ARG A  99      10.031   4.761   2.911  1.00 98.02           N  \\nATOM    757  NH1 ARG A  99      11.994   4.329   4.049  1.00 98.02           N  \\nATOM    758  NH2 ARG A  99      10.587   2.609   3.489  1.00 98.02           N  \\nATOM    759  CZ  ARG A  99      10.871   3.903   3.483  1.00 98.02           C  \\nATOM    760  N   ALA A 100       9.139  11.404   4.562  1.00 96.68           N  \\nATOM    761  CA  ALA A 100       9.492  12.794   4.285  1.00 96.68           C  \\nATOM    762  C   ALA A 100       9.232  13.679   5.501  1.00 96.68           C  \\nATOM    763  CB  ALA A 100       8.713  13.311   3.078  1.00 96.68           C  \\nATOM    764  O   ALA A 100      10.075  14.500   5.871  1.00 96.68           O  \\nATOM    765  N   TYR A 101       8.119  13.454   6.128  1.00 97.79           N  \\nATOM    766  CA  TYR A 101       7.694  14.429   7.126  1.00 97.79           C  \\nATOM    767  C   TYR A 101       8.092  13.983   8.528  1.00 97.79           C  \\nATOM    768  CB  TYR A 101       6.179  14.643   7.057  1.00 97.79           C  \\nATOM    769  O   TYR A 101       8.255  14.812   9.427  1.00 97.79           O  \\nATOM    770  CG  TYR A 101       5.689  15.083   5.699  1.00 97.79           C  \\nATOM    771  CD1 TYR A 101       6.494  15.855   4.864  1.00 97.79           C  \\nATOM    772  CD2 TYR A 101       4.422  14.730   5.248  1.00 97.79           C  \\nATOM    773  CE1 TYR A 101       6.046  16.266   3.612  1.00 97.79           C  \\nATOM    774  CE2 TYR A 101       3.964  15.134   3.998  1.00 97.79           C  \\nATOM    775  OH  TYR A 101       4.335  16.303   1.951  1.00 97.79           O  \\nATOM    776  CZ  TYR A 101       4.783  15.900   3.189  1.00 97.79           C  \\nATOM    777  N   TYR A 102       8.277  12.664   8.620  1.00 97.24           N  \\nATOM    778  CA  TYR A 102       8.433  12.191   9.991  1.00 97.24           C  \\nATOM    779  C   TYR A 102       9.730  11.406  10.152  1.00 97.24           C  \\nATOM    780  CB  TYR A 102       7.241  11.320  10.399  1.00 97.24           C  \\nATOM    781  O   TYR A 102       9.950  10.764  11.182  1.00 97.24           O  \\nATOM    782  CG  TYR A 102       5.922  12.054  10.391  1.00 97.24           C  \\nATOM    783  CD1 TYR A 102       5.517  12.810  11.489  1.00 97.24           C  \\nATOM    784  CD2 TYR A 102       5.079  11.992   9.288  1.00 97.24           C  \\nATOM    785  CE1 TYR A 102       4.302  13.486  11.487  1.00 97.24           C  \\nATOM    786  CE2 TYR A 102       3.861  12.665   9.275  1.00 97.24           C  \\nATOM    787  OH  TYR A 102       2.278  14.076  10.370  1.00 97.24           O  \\nATOM    788  CZ  TYR A 102       3.482  13.408  10.377  1.00 97.24           C  \\nATOM    789  N   GLY A 103      10.474  11.333   9.049  1.00 97.70           N  \\nATOM    790  CA  GLY A 103      11.839  10.836   9.112  1.00 97.70           C  \\nATOM    791  C   GLY A 103      11.920   9.329   9.265  1.00 97.70           C  \\nATOM    792  O   GLY A 103      12.832   8.814   9.916  1.00 97.70           O  \\nATOM    793  N   GLU A 104      11.023   8.623   8.764  1.00 98.44           N  \\nATOM    794  CA  GLU A 104      11.135   7.167   8.794  1.00 98.44           C  \\nATOM    795  C   GLU A 104      12.215   6.677   7.834  1.00 98.44           C  \\nATOM    796  CB  GLU A 104       9.792   6.517   8.452  1.00 98.44           C  \\nATOM    797  O   GLU A 104      12.097   6.849   6.619  1.00 98.44           O  \\nATOM    798  CG  GLU A 104       8.724   6.714   9.518  1.00 98.44           C  \\nATOM    799  CD  GLU A 104       7.500   5.836   9.311  1.00 98.44           C  \\nATOM    800  OE1 GLU A 104       6.637   5.775  10.215  1.00 98.44           O  \\nATOM    801  OE2 GLU A 104       7.405   5.203   8.236  1.00 98.44           O  \\nATOM    802  N   THR A 105      13.207   6.178   8.423  1.00 98.67           N  \\nATOM    803  CA  THR A 105      14.339   5.661   7.662  1.00 98.67           C  \\nATOM    804  C   THR A 105      14.064   4.240   7.181  1.00 98.67           C  \\nATOM    805  CB  THR A 105      15.631   5.681   8.500  1.00 98.67           C  \\nATOM    806  O   THR A 105      13.078   3.621   7.588  1.00 98.67           O  \\nATOM    807  CG2 THR A 105      15.908   7.077   9.051  1.00 98.67           C  \\nATOM    808  OG1 THR A 105      15.498   4.766   9.594  1.00 98.67           O  \\nATOM    809  N   ASN A 106      14.997   3.691   6.317  1.00 98.78           N  \\nATOM    810  CA  ASN A 106      14.880   2.305   5.875  1.00 98.78           C  \\nATOM    811  C   ASN A 106      14.860   1.339   7.056  1.00 98.78           C  \\nATOM    812  CB  ASN A 106      16.019   1.949   4.917  1.00 98.78           C  \\nATOM    813  O   ASN A 106      14.080   0.385   7.070  1.00 98.78           O  \\nATOM    814  CG  ASN A 106      15.936   2.703   3.605  1.00 98.78           C  \\nATOM    815  ND2 ASN A 106      17.053   2.777   2.892  1.00 98.78           N  \\nATOM    816  OD1 ASN A 106      14.876   3.215   3.235  1.00 98.78           O  \\nATOM    817  N   GLU A 107      15.642   1.673   8.017  1.00 98.71           N  \\nATOM    818  CA  GLU A 107      15.758   0.792   9.176  1.00 98.71           C  \\nATOM    819  C   GLU A 107      14.492   0.829  10.026  1.00 98.71           C  \\nATOM    820  CB  GLU A 107      16.973   1.178  10.024  1.00 98.71           C  \\nATOM    821  O   GLU A 107      14.022  -0.210  10.494  1.00 98.71           O  \\nATOM    822  CG  GLU A 107      18.308   0.859   9.367  1.00 98.71           C  \\nATOM    823  CD  GLU A 107      18.658   1.806   8.230  1.00 98.71           C  \\nATOM    824  OE1 GLU A 107      19.453   1.421   7.343  1.00 98.71           O  \\nATOM    825  OE2 GLU A 107      18.133   2.942   8.227  1.00 98.71           O  \\nATOM    826  N   ILE A 108      13.959   1.989  10.162  1.00 98.72           N  \\nATOM    827  CA  ILE A 108      12.735   2.121  10.944  1.00 98.72           C  \\nATOM    828  C   ILE A 108      11.598   1.371  10.254  1.00 98.72           C  \\nATOM    829  CB  ILE A 108      12.352   3.604  11.148  1.00 98.72           C  \\nATOM    830  O   ILE A 108      10.874   0.604  10.893  1.00 98.72           O  \\nATOM    831  CG1 ILE A 108      13.328   4.279  12.119  1.00 98.72           C  \\nATOM    832  CG2 ILE A 108      10.910   3.725  11.649  1.00 98.72           C  \\nATOM    833  CD1 ILE A 108      13.171   5.791  12.202  1.00 98.72           C  \\nATOM    834  N   VAL A 109      11.477   1.565   8.996  1.00 98.87           N  \\nATOM    835  CA  VAL A 109      10.417   0.911   8.235  1.00 98.87           C  \\nATOM    836  C   VAL A 109      10.613  -0.603   8.272  1.00 98.87           C  \\nATOM    837  CB  VAL A 109      10.380   1.409   6.772  1.00 98.87           C  \\nATOM    838  O   VAL A 109       9.656  -1.353   8.478  1.00 98.87           O  \\nATOM    839  CG1 VAL A 109       9.405   0.575   5.943  1.00 98.87           C  \\nATOM    840  CG2 VAL A 109      10.000   2.887   6.722  1.00 98.87           C  \\nATOM    841  N   ALA A 110      11.848  -1.046   8.116  1.00 98.88           N  \\nATOM    842  CA  ALA A 110      12.153  -2.474   8.163  1.00 98.88           C  \\nATOM    843  C   ALA A 110      11.754  -3.076   9.507  1.00 98.88           C  \\nATOM    844  CB  ALA A 110      13.638  -2.710   7.897  1.00 98.88           C  \\nATOM    845  O   ALA A 110      11.163  -4.157   9.560  1.00 98.88           O  \\nATOM    846  N   ASP A 111      12.027  -2.353  10.577  1.00 98.85           N  \\nATOM    847  CA  ASP A 111      11.668  -2.827  11.910  1.00 98.85           C  \\nATOM    848  C   ASP A 111      10.152  -2.911  12.074  1.00 98.85           C  \\nATOM    849  CB  ASP A 111      12.264  -1.913  12.983  1.00 98.85           C  \\nATOM    850  O   ASP A 111       9.636  -3.879  12.636  1.00 98.85           O  \\nATOM    851  CG  ASP A 111      13.767  -2.073  13.131  1.00 98.85           C  \\nATOM    852  OD1 ASP A 111      14.318  -3.102  12.684  1.00 98.85           O  \\nATOM    853  OD2 ASP A 111      14.405  -1.162  13.701  1.00 98.85           O  \\nATOM    854  N   LYS A 112       9.523  -1.969  11.559  1.00 98.86           N  \\nATOM    855  CA  LYS A 112       8.066  -1.957  11.659  1.00 98.86           C  \\nATOM    856  C   LYS A 112       7.450  -3.094  10.849  1.00 98.86           C  \\nATOM    857  CB  LYS A 112       7.507  -0.614  11.187  1.00 98.86           C  \\nATOM    858  O   LYS A 112       6.535  -3.773  11.320  1.00 98.86           O  \\nATOM    859  CG  LYS A 112       7.785   0.541  12.137  1.00 98.86           C  \\nATOM    860  CD  LYS A 112       7.111   1.825  11.669  1.00 98.86           C  \\nATOM    861  CE  LYS A 112       7.243   2.936  12.702  1.00 98.86           C  \\nATOM    862  NZ  LYS A 112       6.548   4.183  12.266  1.00 98.86           N  \\nATOM    863  N   VAL A 113       7.949  -3.249   9.663  1.00 98.92           N  \\nATOM    864  CA  VAL A 113       7.446  -4.316   8.804  1.00 98.92           C  \\nATOM    865  C   VAL A 113       7.668  -5.669   9.477  1.00 98.92           C  \\nATOM    866  CB  VAL A 113       8.124  -4.294   7.416  1.00 98.92           C  \\nATOM    867  O   VAL A 113       6.753  -6.494   9.543  1.00 98.92           O  \\nATOM    868  CG1 VAL A 113       7.802  -5.568   6.637  1.00 98.92           C  \\nATOM    869  CG2 VAL A 113       7.687  -3.059   6.629  1.00 98.92           C  \\nATOM    870  N   ALA A 114       8.806  -5.871   9.975  1.00 98.89           N  \\nATOM    871  CA  ALA A 114       9.133  -7.140  10.621  1.00 98.89           C  \\nATOM    872  C   ALA A 114       8.228  -7.393  11.824  1.00 98.89           C  \\nATOM    873  CB  ALA A 114      10.599  -7.155  11.050  1.00 98.89           C  \\nATOM    874  O   ALA A 114       7.696  -8.493  11.987  1.00 98.89           O  \\nATOM    875  N   ALA A 115       8.062  -6.382  12.587  1.00 98.83           N  \\nATOM    876  CA  ALA A 115       7.215  -6.514  13.770  1.00 98.83           C  \\nATOM    877  C   ALA A 115       5.768  -6.797  13.379  1.00 98.83           C  \\nATOM    878  CB  ALA A 115       7.295  -5.252  14.625  1.00 98.83           C  \\nATOM    879  O   ALA A 115       5.111  -7.649  13.983  1.00 98.83           O  \\nATOM    880  N   ALA A 116       5.280  -6.153  12.410  1.00 98.89           N  \\nATOM    881  CA  ALA A 116       3.902  -6.324  11.957  1.00 98.89           C  \\nATOM    882  C   ALA A 116       3.677  -7.727  11.401  1.00 98.89           C  \\nATOM    883  CB  ALA A 116       3.555  -5.276  10.902  1.00 98.89           C  \\nATOM    884  O   ALA A 116       2.699  -8.391  11.753  1.00 98.89           O  \\nATOM    885  N   VAL A 117       4.581  -8.140  10.571  1.00 98.83           N  \\nATOM    886  CA  VAL A 117       4.472  -9.469   9.980  1.00 98.83           C  \\nATOM    887  C   VAL A 117       4.523 -10.530  11.077  1.00 98.83           C  \\nATOM    888  CB  VAL A 117       5.589  -9.723   8.942  1.00 98.83           C  \\nATOM    889  O   VAL A 117       3.725 -11.470  11.078  1.00 98.83           O  \\nATOM    890  CG1 VAL A 117       5.665 -11.205   8.582  1.00 98.83           C  \\nATOM    891  CG2 VAL A 117       5.356  -8.877   7.692  1.00 98.83           C  \\nATOM    892  N   ALA A 118       5.411 -10.333  11.990  1.00 98.61           N  \\nATOM    893  CA  ALA A 118       5.552 -11.281  13.092  1.00 98.61           C  \\nATOM    894  C   ALA A 118       4.277 -11.347  13.927  1.00 98.61           C  \\nATOM    895  CB  ALA A 118       6.741 -10.900  13.972  1.00 98.61           C  \\nATOM    896  O   ALA A 118       3.979 -12.376  14.538  1.00 98.61           O  \\nATOM    897  N   SER A 119       3.544 -10.290  13.908  1.00 98.45           N  \\nATOM    898  CA  SER A 119       2.324 -10.216  14.706  1.00 98.45           C  \\nATOM    899  C   SER A 119       1.104 -10.625  13.888  1.00 98.45           C  \\nATOM    900  CB  SER A 119       2.128  -8.803  15.256  1.00 98.45           C  \\nATOM    901  O   SER A 119      -0.034 -10.421  14.316  1.00 98.45           O  \\nATOM    902  OG  SER A 119       3.146  -8.480  16.188  1.00 98.45           O  \\nATOM    903  N   GLY A 120       1.344 -11.063  12.614  1.00 98.42           N  \\nATOM    904  CA  GLY A 120       0.275 -11.658  11.827  1.00 98.42           C  \\nATOM    905  C   GLY A 120      -0.411 -10.666  10.906  1.00 98.42           C  \\nATOM    906  O   GLY A 120      -1.465 -10.962  10.340  1.00 98.42           O  \\nATOM    907  N   PHE A 121       0.085  -9.442  10.736  1.00 98.87           N  \\nATOM    908  CA  PHE A 121      -0.511  -8.439   9.862  1.00 98.87           C  \\nATOM    909  C   PHE A 121      -0.113  -8.681   8.411  1.00 98.87           C  \\nATOM    910  CB  PHE A 121      -0.093  -7.030  10.294  1.00 98.87           C  \\nATOM    911  O   PHE A 121       0.999  -9.137   8.134  1.00 98.87           O  \\nATOM    912  CG  PHE A 121      -0.756  -6.562  11.561  1.00 98.87           C  \\nATOM    913  CD1 PHE A 121      -1.926  -5.815  11.515  1.00 98.87           C  \\nATOM    914  CD2 PHE A 121      -0.207  -6.869  12.799  1.00 98.87           C  \\nATOM    915  CE1 PHE A 121      -2.542  -5.380  12.686  1.00 98.87           C  \\nATOM    916  CE2 PHE A 121      -0.817  -6.438  13.974  1.00 98.87           C  \\nATOM    917  CZ  PHE A 121      -1.983  -5.693  13.916  1.00 98.87           C  \\nATOM    918  N   MET A 122      -1.037  -8.430   7.474  1.00 98.89           N  \\nATOM    919  CA  MET A 122      -0.668  -8.145   6.091  1.00 98.89           C  \\nATOM    920  C   MET A 122      -0.119  -6.730   5.954  1.00 98.89           C  \\nATOM    921  CB  MET A 122      -1.871  -8.331   5.164  1.00 98.89           C  \\nATOM    922  O   MET A 122      -0.722  -5.775   6.446  1.00 98.89           O  \\nATOM    923  CG  MET A 122      -2.452  -9.736   5.188  1.00 98.89           C  \\nATOM    924  SD  MET A 122      -1.272 -10.995   4.564  1.00 98.89           S  \\nATOM    925  CE  MET A 122      -1.222 -10.545   2.807  1.00 98.89           C  \\nATOM    926  N   VAL A 123       1.076  -6.589   5.294  1.00 98.95           N  \\nATOM    927  CA  VAL A 123       1.722  -5.281   5.271  1.00 98.95           C  \\nATOM    928  C   VAL A 123       1.848  -4.792   3.830  1.00 98.95           C  \\nATOM    929  CB  VAL A 123       3.112  -5.323   5.943  1.00 98.95           C  \\nATOM    930  O   VAL A 123       2.315  -5.526   2.957  1.00 98.95           O  \\nATOM    931  CG1 VAL A 123       3.800  -3.963   5.846  1.00 98.95           C  \\nATOM    932  CG2 VAL A 123       2.986  -5.758   7.402  1.00 98.95           C  \\nATOM    933  N   ILE A 124       1.315  -3.605   3.580  1.00 98.95           N  \\nATOM    934  CA  ILE A 124       1.689  -2.860   2.383  1.00 98.95           C  \\nATOM    935  C   ILE A 124       2.908  -1.990   2.676  1.00 98.95           C  \\nATOM    936  CB  ILE A 124       0.519  -1.989   1.871  1.00 98.95           C  \\nATOM    937  O   ILE A 124       2.795  -0.951   3.330  1.00 98.95           O  \\nATOM    938  CG1 ILE A 124      -0.709  -2.860   1.584  1.00 98.95           C  \\nATOM    939  CG2 ILE A 124       0.937  -1.203   0.625  1.00 98.95           C  \\nATOM    940  CD1 ILE A 124      -1.975  -2.067   1.289  1.00 98.95           C  \\nATOM    941  N   ALA A 125       4.100  -2.475   2.260  1.00 98.91           N  \\nATOM    942  CA  ALA A 125       5.359  -1.763   2.467  1.00 98.91           C  \\nATOM    943  C   ALA A 125       5.667  -0.840   1.292  1.00 98.91           C  \\nATOM    944  CB  ALA A 125       6.502  -2.752   2.677  1.00 98.91           C  \\nATOM    945  O   ALA A 125       5.845  -1.302   0.162  1.00 98.91           O  \\nATOM    946  N   CYS A 126       5.748   0.443   1.618  1.00 98.85           N  \\nATOM    947  CA  CYS A 126       5.912   1.438   0.564  1.00 98.85           C  \\nATOM    948  C   CYS A 126       7.385   1.754   0.337  1.00 98.85           C  \\nATOM    949  CB  CYS A 126       5.155   2.718   0.915  1.00 98.85           C  \\nATOM    950  O   CYS A 126       8.136   1.960   1.292  1.00 98.85           O  \\nATOM    951  SG  CYS A 126       3.382   2.472   1.157  1.00 98.85           S  \\nATOM    952  N   ILE A 127       7.784   1.818  -0.930  1.00 98.74           N  \\nATOM    953  CA  ILE A 127       9.131   2.177  -1.360  1.00 98.74           C  \\nATOM    954  C   ILE A 127       9.056   3.103  -2.572  1.00 98.74           C  \\nATOM    955  CB  ILE A 127       9.971   0.924  -1.694  1.00 98.74           C  \\nATOM    956  O   ILE A 127       8.040   3.143  -3.269  1.00 98.74           O  \\nATOM    957  CG1 ILE A 127       9.351   0.164  -2.872  1.00 98.74           C  \\nATOM    958  CG2 ILE A 127      10.102   0.018  -0.466  1.00 98.74           C  \\nATOM    959  CD1 ILE A 127      10.244  -0.929  -3.443  1.00 98.74           C  \\nATOM    960  N   GLY A 128      10.152   3.814  -2.787  1.00 97.67           N  \\nATOM    961  CA  GLY A 128      10.162   4.704  -3.937  1.00 97.67           C  \\nATOM    962  C   GLY A 128      11.187   5.817  -3.821  1.00 97.67           C  \\nATOM    963  O   GLY A 128      11.827   5.972  -2.779  1.00 97.67           O  \\nATOM    964  N   GLU A 129      11.353   6.473  -4.904  1.00 96.86           N  \\nATOM    965  CA  GLU A 129      12.391   7.496  -4.987  1.00 96.86           C  \\nATOM    966  C   GLU A 129      11.786   8.880  -5.202  1.00 96.86           C  \\nATOM    967  CB  GLU A 129      13.377   7.172  -6.112  1.00 96.86           C  \\nATOM    968  O   GLU A 129      10.661   9.002  -5.693  1.00 96.86           O  \\nATOM    969  CG  GLU A 129      12.848   7.490  -7.503  1.00 96.86           C  \\nATOM    970  CD  GLU A 129      11.856   6.459  -8.018  1.00 96.86           C  \\nATOM    971  OE1 GLU A 129      11.470   6.529  -9.207  1.00 96.86           O  \\nATOM    972  OE2 GLU A 129      11.461   5.575  -7.226  1.00 96.86           O  \\nATOM    973  N   THR A 130      12.581   9.907  -4.893  1.00 95.13           N  \\nATOM    974  CA  THR A 130      12.195  11.290  -5.151  1.00 95.13           C  \\nATOM    975  C   THR A 130      12.484  11.671  -6.600  1.00 95.13           C  \\nATOM    976  CB  THR A 130      12.928  12.260  -4.206  1.00 95.13           C  \\nATOM    977  O   THR A 130      13.136  10.919  -7.327  1.00 95.13           O  \\nATOM    978  CG2 THR A 130      12.715  11.874  -2.747  1.00 95.13           C  \\nATOM    979  OG1 THR A 130      14.331  12.231  -4.496  1.00 95.13           O  \\nATOM    980  N   LEU A 131      11.970  12.903  -6.969  1.00 91.72           N  \\nATOM    981  CA  LEU A 131      12.219  13.411  -8.313  1.00 91.72           C  \\nATOM    982  C   LEU A 131      13.712  13.614  -8.550  1.00 91.72           C  \\nATOM    983  CB  LEU A 131      11.472  14.729  -8.535  1.00 91.72           C  \\nATOM    984  O   LEU A 131      14.235  13.236  -9.601  1.00 91.72           O  \\nATOM    985  CG  LEU A 131      11.625  15.371  -9.914  1.00 91.72           C  \\nATOM    986  CD1 LEU A 131      11.145  14.415 -11.001  1.00 91.72           C  \\nATOM    987  CD2 LEU A 131      10.860  16.689  -9.979  1.00 91.72           C  \\nATOM    988  N   GLN A 132      14.325  14.145  -7.573  1.00 94.29           N  \\nATOM    989  CA  GLN A 132      15.759  14.393  -7.674  1.00 94.29           C  \\nATOM    990  C   GLN A 132      16.528  13.094  -7.899  1.00 94.29           C  \\nATOM    991  CB  GLN A 132      16.273  15.097  -6.417  1.00 94.29           C  \\nATOM    992  O   GLN A 132      17.427  13.037  -8.740  1.00 94.29           O  \\nATOM    993  CG  GLN A 132      17.753  15.449  -6.471  1.00 94.29           C  \\nATOM    994  CD  GLN A 132      18.254  16.080  -5.185  1.00 94.29           C  \\nATOM    995  NE2 GLN A 132      19.494  16.556  -5.201  1.00 94.29           N  \\nATOM    996  OE1 GLN A 132      17.531  16.139  -4.185  1.00 94.29           O  \\nATOM    997  N   GLU A 133      16.219  12.080  -7.206  1.00 96.49           N  \\nATOM    998  CA  GLU A 133      16.859  10.773  -7.324  1.00 96.49           C  \\nATOM    999  C   GLU A 133      16.599  10.152  -8.693  1.00 96.49           C  \\nATOM   1000  CB  GLU A 133      16.370   9.833  -6.219  1.00 96.49           C  \\nATOM   1001  O   GLU A 133      17.494   9.546  -9.286  1.00 96.49           O  \\nATOM   1002  CG  GLU A 133      16.887  10.192  -4.833  1.00 96.49           C  \\nATOM   1003  CD  GLU A 133      16.109   9.522  -3.711  1.00 96.49           C  \\nATOM   1004  OE1 GLU A 133      16.623   9.458  -2.571  1.00 96.49           O  \\nATOM   1005  OE2 GLU A 133      14.978   9.058  -3.974  1.00 96.49           O  \\nATOM   1006  N   ARG A 134      15.419  10.291  -9.143  1.00 92.71           N  \\nATOM   1007  CA  ARG A 134      15.097   9.787 -10.474  1.00 92.71           C  \\nATOM   1008  C   ARG A 134      15.912  10.506 -11.544  1.00 92.71           C  \\nATOM   1009  CB  ARG A 134      13.602   9.943 -10.761  1.00 92.71           C  \\nATOM   1010  O   ARG A 134      16.509   9.866 -12.412  1.00 92.71           O  \\nATOM   1011  CG  ARG A 134      13.188   9.473 -12.147  1.00 92.71           C  \\nATOM   1012  CD  ARG A 134      11.674   9.407 -12.291  1.00 92.71           C  \\nATOM   1013  NE  ARG A 134      11.277   9.066 -13.654  1.00 92.71           N  \\nATOM   1014  NH1 ARG A 134      10.817   6.851 -13.187  1.00 92.71           N  \\nATOM   1015  NH2 ARG A 134      10.540   7.661 -15.314  1.00 92.71           N  \\nATOM   1016  CZ  ARG A 134      10.879   7.860 -14.049  1.00 92.71           C  \\nATOM   1017  N   GLU A 135      15.899  11.784 -11.496  1.00 92.88           N  \\nATOM   1018  CA  GLU A 135      16.570  12.597 -12.506  1.00 92.88           C  \\nATOM   1019  C   GLU A 135      18.082  12.397 -12.459  1.00 92.88           C  \\nATOM   1020  CB  GLU A 135      16.230  14.077 -12.318  1.00 92.88           C  \\nATOM   1021  O   GLU A 135      18.772  12.606 -13.460  1.00 92.88           O  \\nATOM   1022  CG  GLU A 135      14.800  14.433 -12.701  1.00 92.88           C  \\nATOM   1023  CD  GLU A 135      14.469  15.901 -12.486  1.00 92.88           C  \\nATOM   1024  OE1 GLU A 135      13.509  16.405 -13.112  1.00 92.88           O  \\nATOM   1025  OE2 GLU A 135      15.176  16.554 -11.686  1.00 92.88           O  \\nATOM   1026  N   SER A 136      18.529  11.833 -11.349  1.00 96.59           N  \\nATOM   1027  CA  SER A 136      19.961  11.586 -11.221  1.00 96.59           C  \\nATOM   1028  C   SER A 136      20.301  10.132 -11.531  1.00 96.59           C  \\nATOM   1029  CB  SER A 136      20.443  11.941  -9.813  1.00 96.59           C  \\nATOM   1030  O   SER A 136      21.429   9.691 -11.304  1.00 96.59           O  \\nATOM   1031  OG  SER A 136      19.847  11.091  -8.848  1.00 96.59           O  \\nATOM   1032  N   GLY A 137      19.296   9.354 -12.002  1.00 95.23           N  \\nATOM   1033  CA  GLY A 137      19.521   7.974 -12.401  1.00 95.23           C  \\nATOM   1034  C   GLY A 137      19.708   7.035 -11.224  1.00 95.23           C  \\nATOM   1035  O   GLY A 137      20.354   5.993 -11.351  1.00 95.23           O  \\nATOM   1036  N   ARG A 138      19.134   7.392 -10.093  1.00 97.17           N  \\nATOM   1037  CA  ARG A 138      19.375   6.629  -8.873  1.00 97.17           C  \\nATOM   1038  C   ARG A 138      18.145   5.817  -8.483  1.00 97.17           C  \\nATOM   1039  CB  ARG A 138      19.775   7.560  -7.726  1.00 97.17           C  \\nATOM   1040  O   ARG A 138      18.032   5.361  -7.343  1.00 97.17           O  \\nATOM   1041  CG  ARG A 138      21.149   8.188  -7.892  1.00 97.17           C  \\nATOM   1042  CD  ARG A 138      21.696   8.708  -6.570  1.00 97.17           C  \\nATOM   1043  NE  ARG A 138      20.836   9.741  -6.000  1.00 97.17           N  \\nATOM   1044  NH1 ARG A 138      21.971   9.869  -3.992  1.00 97.17           N  \\nATOM   1045  NH2 ARG A 138      20.146  11.205  -4.370  1.00 97.17           N  \\nATOM   1046  CZ  ARG A 138      20.986  10.269  -4.789  1.00 97.17           C  \\nATOM   1047  N   THR A 139      17.177   5.677  -9.356  1.00 95.80           N  \\nATOM   1048  CA  THR A 139      15.947   4.955  -9.048  1.00 95.80           C  \\nATOM   1049  C   THR A 139      16.257   3.546  -8.550  1.00 95.80           C  \\nATOM   1050  CB  THR A 139      15.023   4.876 -10.277  1.00 95.80           C  \\nATOM   1051  O   THR A 139      15.782   3.139  -7.488  1.00 95.80           O  \\nATOM   1052  CG2 THR A 139      13.763   4.074  -9.968  1.00 95.80           C  \\nATOM   1053  OG1 THR A 139      14.648   6.201 -10.672  1.00 95.80           O  \\nATOM   1054  N   ALA A 140      17.074   2.811  -9.265  1.00 97.71           N  \\nATOM   1055  CA  ALA A 140      17.371   1.421  -8.927  1.00 97.71           C  \\nATOM   1056  C   ALA A 140      18.036   1.321  -7.557  1.00 97.71           C  \\nATOM   1057  CB  ALA A 140      18.262   0.792  -9.995  1.00 97.71           C  \\nATOM   1058  O   ALA A 140      17.622   0.520  -6.716  1.00 97.71           O  \\nATOM   1059  N   VAL A 141      18.981   2.176  -7.328  1.00 98.23           N  \\nATOM   1060  CA  VAL A 141      19.741   2.094  -6.085  1.00 98.23           C  \\nATOM   1061  C   VAL A 141      18.834   2.423  -4.901  1.00 98.23           C  \\nATOM   1062  CB  VAL A 141      20.960   3.043  -6.101  1.00 98.23           C  \\nATOM   1063  O   VAL A 141      18.861   1.734  -3.879  1.00 98.23           O  \\nATOM   1064  CG1 VAL A 141      20.509   4.503  -6.095  1.00 98.23           C  \\nATOM   1065  CG2 VAL A 141      21.874   2.759  -4.911  1.00 98.23           C  \\nATOM   1066  N   VAL A 142      17.979   3.368  -5.029  1.00 98.36           N  \\nATOM   1067  CA  VAL A 142      17.113   3.794  -3.934  1.00 98.36           C  \\nATOM   1068  C   VAL A 142      16.076   2.712  -3.645  1.00 98.36           C  \\nATOM   1069  CB  VAL A 142      16.412   5.133  -4.252  1.00 98.36           C  \\nATOM   1070  O   VAL A 142      15.918   2.284  -2.499  1.00 98.36           O  \\nATOM   1071  CG1 VAL A 142      15.313   5.423  -3.232  1.00 98.36           C  \\nATOM   1072  CG2 VAL A 142      17.429   6.273  -4.285  1.00 98.36           C  \\nATOM   1073  N   VAL A 143      15.402   2.304  -4.664  1.00 98.23           N  \\nATOM   1074  CA  VAL A 143      14.308   1.351  -4.509  1.00 98.23           C  \\nATOM   1075  C   VAL A 143      14.845   0.031  -3.961  1.00 98.23           C  \\nATOM   1076  CB  VAL A 143      13.570   1.112  -5.846  1.00 98.23           C  \\nATOM   1077  O   VAL A 143      14.277  -0.537  -3.025  1.00 98.23           O  \\nATOM   1078  CG1 VAL A 143      12.680  -0.127  -5.757  1.00 98.23           C  \\nATOM   1079  CG2 VAL A 143      12.746   2.340  -6.227  1.00 98.23           C  \\nATOM   1080  N   LEU A 144      15.953  -0.430  -4.417  1.00 98.39           N  \\nATOM   1081  CA  LEU A 144      16.480  -1.727  -4.005  1.00 98.39           C  \\nATOM   1082  C   LEU A 144      17.067  -1.653  -2.599  1.00 98.39           C  \\nATOM   1083  CB  LEU A 144      17.546  -2.211  -4.991  1.00 98.39           C  \\nATOM   1084  O   LEU A 144      17.006  -2.626  -1.844  1.00 98.39           O  \\nATOM   1085  CG  LEU A 144      17.066  -2.519  -6.410  1.00 98.39           C  \\nATOM   1086  CD1 LEU A 144      18.220  -3.045  -7.257  1.00 98.39           C  \\nATOM   1087  CD2 LEU A 144      15.918  -3.522  -6.381  1.00 98.39           C  \\nATOM   1088  N   THR A 145      17.648  -0.475  -2.272  1.00 98.68           N  \\nATOM   1089  CA  THR A 145      18.141  -0.296  -0.911  1.00 98.68           C  \\nATOM   1090  C   THR A 145      16.995  -0.366   0.093  1.00 98.68           C  \\nATOM   1091  CB  THR A 145      18.882   1.045  -0.757  1.00 98.68           C  \\nATOM   1092  O   THR A 145      17.141  -0.945   1.171  1.00 98.68           O  \\nATOM   1093  CG2 THR A 145      19.328   1.264   0.685  1.00 98.68           C  \\nATOM   1094  OG1 THR A 145      20.034   1.048  -1.608  1.00 98.68           O  \\nATOM   1095  N   GLN A 146      15.899   0.207  -0.234  1.00 98.77           N  \\nATOM   1096  CA  GLN A 146      14.737   0.207   0.649  1.00 98.77           C  \\nATOM   1097  C   GLN A 146      14.170  -1.200   0.812  1.00 98.77           C  \\nATOM   1098  CB  GLN A 146      13.657   1.150   0.116  1.00 98.77           C  \\nATOM   1099  O   GLN A 146      13.878  -1.632   1.929  1.00 98.77           O  \\nATOM   1100  CG  GLN A 146      14.049   2.621   0.158  1.00 98.77           C  \\nATOM   1101  CD  GLN A 146      12.996   3.527  -0.451  1.00 98.77           C  \\nATOM   1102  NE2 GLN A 146      13.213   4.835  -0.359  1.00 98.77           N  \\nATOM   1103  OE1 GLN A 146      11.996   3.056  -1.002  1.00 98.77           O  \\nATOM   1104  N   ILE A 147      14.015  -1.924  -0.253  1.00 98.52           N  \\nATOM   1105  CA  ILE A 147      13.476  -3.277  -0.169  1.00 98.52           C  \\nATOM   1106  C   ILE A 147      14.498  -4.198   0.494  1.00 98.52           C  \\nATOM   1107  CB  ILE A 147      13.090  -3.819  -1.563  1.00 98.52           C  \\nATOM   1108  O   ILE A 147      14.128  -5.130   1.212  1.00 98.52           O  \\nATOM   1109  CG1 ILE A 147      12.299  -5.125  -1.427  1.00 98.52           C  \\nATOM   1110  CG2 ILE A 147      14.337  -4.022  -2.428  1.00 98.52           C  \\nATOM   1111  CD1 ILE A 147      11.633  -5.583  -2.718  1.00 98.52           C  \\nATOM   1112  N   ALA A 148      15.772  -3.991   0.267  1.00 98.76           N  \\nATOM   1113  CA  ALA A 148      16.816  -4.795   0.897  1.00 98.76           C  \\nATOM   1114  C   ALA A 148      16.776  -4.653   2.416  1.00 98.76           C  \\nATOM   1115  CB  ALA A 148      18.190  -4.394   0.364  1.00 98.76           C  \\nATOM   1116  O   ALA A 148      16.985  -5.627   3.142  1.00 98.76           O  \\nATOM   1117  N   ALA A 149      16.553  -3.483   2.887  1.00 98.85           N  \\nATOM   1118  CA  ALA A 149      16.455  -3.262   4.327  1.00 98.85           C  \\nATOM   1119  C   ALA A 149      15.337  -4.102   4.937  1.00 98.85           C  \\nATOM   1120  CB  ALA A 149      16.227  -1.782   4.624  1.00 98.85           C  \\nATOM   1121  O   ALA A 149      15.508  -4.695   6.005  1.00 98.85           O  \\nATOM   1122  N   ILE A 150      14.191  -4.191   4.238  1.00 98.83           N  \\nATOM   1123  CA  ILE A 150      13.066  -5.002   4.690  1.00 98.83           C  \\nATOM   1124  C   ILE A 150      13.445  -6.481   4.643  1.00 98.83           C  \\nATOM   1125  CB  ILE A 150      11.804  -4.744   3.837  1.00 98.83           C  \\nATOM   1126  O   ILE A 150      13.214  -7.218   5.604  1.00 98.83           O  \\nATOM   1127  CG1 ILE A 150      11.289  -3.318   4.063  1.00 98.83           C  \\nATOM   1128  CG2 ILE A 150      10.718  -5.776   4.155  1.00 98.83           C  \\nATOM   1129  CD1 ILE A 150      10.239  -2.873   3.055  1.00 98.83           C  \\nATOM   1130  N   ALA A 151      14.096  -6.864   3.603  1.00 98.69           N  \\nATOM   1131  CA  ALA A 151      14.451  -8.263   3.378  1.00 98.69           C  \\nATOM   1132  C   ALA A 151      15.404  -8.767   4.458  1.00 98.69           C  \\nATOM   1133  CB  ALA A 151      15.076  -8.438   1.996  1.00 98.69           C  \\nATOM   1134  O   ALA A 151      15.338  -9.931   4.859  1.00 98.69           O  \\nATOM   1135  N   LYS A 152      16.251  -7.905   4.948  1.00 98.54           N  \\nATOM   1136  CA  LYS A 152      17.236  -8.278   5.959  1.00 98.54           C  \\nATOM   1137  C   LYS A 152      16.558  -8.694   7.261  1.00 98.54           C  \\nATOM   1138  CB  LYS A 152      18.204  -7.122   6.218  1.00 98.54           C  \\nATOM   1139  O   LYS A 152      17.142  -9.422   8.067  1.00 98.54           O  \\nATOM   1140  CG  LYS A 152      19.253  -6.937   5.131  1.00 98.54           C  \\nATOM   1141  CD  LYS A 152      20.191  -5.781   5.451  1.00 98.54           C  \\nATOM   1142  CE  LYS A 152      21.192  -5.545   4.328  1.00 98.54           C  \\nATOM   1143  NZ  LYS A 152      22.044  -4.346   4.588  1.00 98.54           N  \\nATOM   1144  N   LYS A 153      15.320  -8.335   7.399  1.00 98.67           N  \\nATOM   1145  CA  LYS A 153      14.655  -8.565   8.678  1.00 98.67           C  \\nATOM   1146  C   LYS A 153      13.605  -9.666   8.562  1.00 98.67           C  \\nATOM   1147  CB  LYS A 153      14.008  -7.275   9.186  1.00 98.67           C  \\nATOM   1148  O   LYS A 153      12.977 -10.039   9.555  1.00 98.67           O  \\nATOM   1149  CG  LYS A 153      14.995  -6.142   9.430  1.00 98.67           C  \\nATOM   1150  CD  LYS A 153      15.829  -6.387  10.680  1.00 98.67           C  \\nATOM   1151  CE  LYS A 153      16.674  -5.171  11.037  1.00 98.67           C  \\nATOM   1152  NZ  LYS A 153      17.556  -5.435  12.213  1.00 98.67           N  \\nATOM   1153  N   LEU A 154      13.394 -10.111   7.350  1.00 98.72           N  \\nATOM   1154  CA  LEU A 154      12.322 -11.078   7.140  1.00 98.72           C  \\nATOM   1155  C   LEU A 154      12.885 -12.427   6.705  1.00 98.72           C  \\nATOM   1156  CB  LEU A 154      11.332 -10.563   6.092  1.00 98.72           C  \\nATOM   1157  O   LEU A 154      13.912 -12.486   6.025  1.00 98.72           O  \\nATOM   1158  CG  LEU A 154      10.603  -9.262   6.430  1.00 98.72           C  \\nATOM   1159  CD1 LEU A 154       9.597  -8.918   5.336  1.00 98.72           C  \\nATOM   1160  CD2 LEU A 154       9.911  -9.373   7.784  1.00 98.72           C  \\nATOM   1161  N   LYS A 155      12.218 -13.415   7.181  1.00 98.33           N  \\nATOM   1162  CA  LYS A 155      12.425 -14.738   6.599  1.00 98.33           C  \\nATOM   1163  C   LYS A 155      11.621 -14.905   5.313  1.00 98.33           C  \\nATOM   1164  CB  LYS A 155      12.045 -15.830   7.601  1.00 98.33           C  \\nATOM   1165  O   LYS A 155      10.652 -14.179   5.082  1.00 98.33           O  \\nATOM   1166  CG  LYS A 155      12.820 -15.768   8.908  1.00 98.33           C  \\nATOM   1167  CD  LYS A 155      12.314 -16.801   9.908  1.00 98.33           C  \\nATOM   1168  CE  LYS A 155      13.022 -16.674  11.250  1.00 98.33           C  \\nATOM   1169  NZ  LYS A 155      12.485 -17.642  12.252  1.00 98.33           N  \\nATOM   1170  N   LYS A 156      12.093 -15.880   4.510  1.00 98.39           N  \\nATOM   1171  CA  LYS A 156      11.423 -16.146   3.240  1.00 98.39           C  \\nATOM   1172  C   LYS A 156       9.929 -16.375   3.445  1.00 98.39           C  \\nATOM   1173  CB  LYS A 156      12.049 -17.356   2.546  1.00 98.39           C  \\nATOM   1174  O   LYS A 156       9.106 -15.848   2.693  1.00 98.39           O  \\nATOM   1175  CG  LYS A 156      11.466 -17.651   1.172  1.00 98.39           C  \\nATOM   1176  CD  LYS A 156      12.220 -18.777   0.475  1.00 98.39           C  \\nATOM   1177  CE  LYS A 156      11.617 -19.095  -0.887  1.00 98.39           C  \\nATOM   1178  NZ  LYS A 156      12.386 -20.160  -1.598  1.00 98.39           N  \\nATOM   1179  N   ALA A 157       9.491 -17.097   4.462  1.00 98.16           N  \\nATOM   1180  CA  ALA A 157       8.095 -17.446   4.716  1.00 98.16           C  \\nATOM   1181  C   ALA A 157       7.271 -16.206   5.050  1.00 98.16           C  \\nATOM   1182  CB  ALA A 157       7.999 -18.466   5.848  1.00 98.16           C  \\nATOM   1183  O   ALA A 157       6.051 -16.196   4.868  1.00 98.16           O  \\nATOM   1184  N   ASP A 158       7.927 -15.166   5.533  1.00 98.63           N  \\nATOM   1185  CA  ASP A 158       7.243 -13.942   5.939  1.00 98.63           C  \\nATOM   1186  C   ASP A 158       6.694 -13.191   4.727  1.00 98.63           C  \\nATOM   1187  CB  ASP A 158       8.189 -13.038   6.733  1.00 98.63           C  \\nATOM   1188  O   ASP A 158       5.752 -12.406   4.852  1.00 98.63           O  \\nATOM   1189  CG  ASP A 158       8.569 -13.618   8.084  1.00 98.63           C  \\nATOM   1190  OD1 ASP A 158       7.731 -14.302   8.712  1.00 98.63           O  \\nATOM   1191  OD2 ASP A 158       9.715 -13.388   8.526  1.00 98.63           O  \\nATOM   1192  N   TRP A 159       7.250 -13.418   3.555  1.00 98.61           N  \\nATOM   1193  CA  TRP A 159       6.932 -12.631   2.368  1.00 98.61           C  \\nATOM   1194  C   TRP A 159       5.512 -12.914   1.891  1.00 98.61           C  \\nATOM   1195  CB  TRP A 159       7.930 -12.925   1.244  1.00 98.61           C  \\nATOM   1196  O   TRP A 159       4.945 -12.142   1.114  1.00 98.61           O  \\nATOM   1197  CG  TRP A 159       9.243 -12.218   1.396  1.00 98.61           C  \\nATOM   1198  CD1 TRP A 159      10.354 -12.674   2.049  1.00 98.61           C  \\nATOM   1199  CD2 TRP A 159       9.580 -10.924   0.886  1.00 98.61           C  \\nATOM   1200  CE2 TRP A 159      10.914 -10.659   1.268  1.00 98.61           C  \\nATOM   1201  CE3 TRP A 159       8.884  -9.962   0.143  1.00 98.61           C  \\nATOM   1202  NE1 TRP A 159      11.363 -11.742   1.976  1.00 98.61           N  \\nATOM   1203  CH2 TRP A 159      10.861  -8.546   0.203  1.00 98.61           C  \\nATOM   1204  CZ2 TRP A 159      11.566  -9.470   0.931  1.00 98.61           C  \\nATOM   1205  CZ3 TRP A 159       9.534  -8.780  -0.192  1.00 98.61           C  \\nATOM   1206  N   ALA A 160       4.888 -13.966   2.445  1.00 98.31           N  \\nATOM   1207  CA  ALA A 160       3.489 -14.247   2.131  1.00 98.31           C  \\nATOM   1208  C   ALA A 160       2.572 -13.167   2.698  1.00 98.31           C  \\nATOM   1209  CB  ALA A 160       3.088 -15.618   2.670  1.00 98.31           C  \\nATOM   1210  O   ALA A 160       1.419 -13.040   2.277  1.00 98.31           O  \\nATOM   1211  N   LYS A 161       3.081 -12.371   3.587  1.00 98.79           N  \\nATOM   1212  CA  LYS A 161       2.283 -11.352   4.262  1.00 98.79           C  \\nATOM   1213  C   LYS A 161       2.695  -9.950   3.821  1.00 98.79           C  \\nATOM   1214  CB  LYS A 161       2.416 -11.484   5.780  1.00 98.79           C  \\nATOM   1215  O   LYS A 161       2.286  -8.958   4.427  1.00 98.79           O  \\nATOM   1216  CG  LYS A 161       1.783 -12.744   6.350  1.00 98.79           C  \\nATOM   1217  CD  LYS A 161       1.959 -12.824   7.861  1.00 98.79           C  \\nATOM   1218  CE  LYS A 161       1.416 -14.133   8.419  1.00 98.79           C  \\nATOM   1219  NZ  LYS A 161       2.244 -14.635   9.556  1.00 98.79           N  \\nATOM   1220  N   VAL A 162       3.586  -9.873   2.818  1.00 98.87           N  \\nATOM   1221  CA  VAL A 162       4.119  -8.579   2.407  1.00 98.87           C  \\nATOM   1222  C   VAL A 162       3.624  -8.237   1.003  1.00 98.87           C  \\nATOM   1223  CB  VAL A 162       5.664  -8.564   2.446  1.00 98.87           C  \\nATOM   1224  O   VAL A 162       3.638  -9.087   0.110  1.00 98.87           O  \\nATOM   1225  CG1 VAL A 162       6.205  -7.246   1.895  1.00 98.87           C  \\nATOM   1226  CG2 VAL A 162       6.164  -8.797   3.870  1.00 98.87           C  \\nATOM   1227  N   VAL A 163       3.172  -7.047   0.903  1.00 98.93           N  \\nATOM   1228  CA  VAL A 163       2.894  -6.372  -0.360  1.00 98.93           C  \\nATOM   1229  C   VAL A 163       3.829  -5.175  -0.523  1.00 98.93           C  \\nATOM   1230  CB  VAL A 163       1.421  -5.912  -0.446  1.00 98.93           C  \\nATOM   1231  O   VAL A 163       4.089  -4.447   0.437  1.00 98.93           O  \\nATOM   1232  CG1 VAL A 163       1.159  -5.180  -1.761  1.00 98.93           C  \\nATOM   1233  CG2 VAL A 163       0.481  -7.107  -0.300  1.00 98.93           C  \\nATOM   1234  N   ILE A 164       4.336  -5.022  -1.756  1.00 98.92           N  \\nATOM   1235  CA  ILE A 164       5.182  -3.861  -2.010  1.00 98.92           C  \\nATOM   1236  C   ILE A 164       4.398  -2.815  -2.800  1.00 98.92           C  \\nATOM   1237  CB  ILE A 164       6.468  -4.254  -2.772  1.00 98.92           C  \\nATOM   1238  O   ILE A 164       3.802  -3.127  -3.834  1.00 98.92           O  \\nATOM   1239  CG1 ILE A 164       7.288  -5.256  -1.952  1.00 98.92           C  \\nATOM   1240  CG2 ILE A 164       7.298  -3.012  -3.107  1.00 98.92           C  \\nATOM   1241  CD1 ILE A 164       7.784  -4.708  -0.620  1.00 98.92           C  \\nATOM   1242  N   ALA A 165       4.376  -1.644  -2.269  1.00 98.84           N  \\nATOM   1243  CA  ALA A 165       3.840  -0.519  -3.032  1.00 98.84           C  \\nATOM   1244  C   ALA A 165       4.958   0.409  -3.497  1.00 98.84           C  \\nATOM   1245  CB  ALA A 165       2.823   0.254  -2.197  1.00 98.84           C  \\nATOM   1246  O   ALA A 165       5.590   1.087  -2.683  1.00 98.84           O  \\nATOM   1247  N   TYR A 166       5.223   0.364  -4.787  1.00 98.70           N  \\nATOM   1248  CA  TYR A 166       6.193   1.284  -5.371  1.00 98.70           C  \\nATOM   1249  C   TYR A 166       5.576   2.660  -5.590  1.00 98.70           C  \\nATOM   1250  CB  TYR A 166       6.726   0.733  -6.697  1.00 98.70           C  \\nATOM   1251  O   TYR A 166       4.601   2.799  -6.333  1.00 98.70           O  \\nATOM   1252  CG  TYR A 166       7.547   1.728  -7.481  1.00 98.70           C  \\nATOM   1253  CD1 TYR A 166       7.124   2.180  -8.729  1.00 98.70           C  \\nATOM   1254  CD2 TYR A 166       8.747   2.216  -6.977  1.00 98.70           C  \\nATOM   1255  CE1 TYR A 166       7.878   3.095  -9.456  1.00 98.70           C  \\nATOM   1256  CE2 TYR A 166       9.510   3.131  -7.695  1.00 98.70           C  \\nATOM   1257  OH  TYR A 166       9.818   4.470  -9.647  1.00 98.70           O  \\nATOM   1258  CZ  TYR A 166       9.068   3.564  -8.932  1.00 98.70           C  \\nATOM   1259  N   GLU A 167       6.229   3.678  -4.954  1.00 95.43           N  \\nATOM   1260  CA  GLU A 167       5.740   5.052  -5.025  1.00 95.43           C  \\nATOM   1261  C   GLU A 167       6.757   5.966  -5.703  1.00 95.43           C  \\nATOM   1262  CB  GLU A 167       5.410   5.579  -3.626  1.00 95.43           C  \\nATOM   1263  O   GLU A 167       7.682   6.461  -5.057  1.00 95.43           O  \\nATOM   1264  CG  GLU A 167       4.273   4.834  -2.941  1.00 95.43           C  \\nATOM   1265  CD  GLU A 167       3.901   5.420  -1.589  1.00 95.43           C  \\nATOM   1266  OE1 GLU A 167       2.803   6.010  -1.465  1.00 95.43           O  \\nATOM   1267  OE2 GLU A 167       4.713   5.291  -0.646  1.00 95.43           O  \\nATOM   1268  N   PRO A 168       6.545   6.226  -6.974  1.00 92.45           N  \\nATOM   1269  CA  PRO A 168       7.339   7.353  -7.469  1.00 92.45           C  \\nATOM   1270  C   PRO A 168       6.928   8.684  -6.844  1.00 92.45           C  \\nATOM   1271  CB  PRO A 168       7.060   7.347  -8.974  1.00 92.45           C  \\nATOM   1272  O   PRO A 168       5.956   9.303  -7.285  1.00 92.45           O  \\nATOM   1273  CG  PRO A 168       5.694   6.755  -9.107  1.00 92.45           C  \\nATOM   1274  CD  PRO A 168       5.492   5.766  -7.995  1.00 92.45           C  \\nATOM   1275  N   VAL A 169       7.673   9.128  -5.946  1.00 89.05           N  \\nATOM   1276  CA  VAL A 169       7.275  10.284  -5.150  1.00 89.05           C  \\nATOM   1277  C   VAL A 169       7.028  11.481  -6.066  1.00 89.05           C  \\nATOM   1278  CB  VAL A 169       8.342  10.637  -4.089  1.00 89.05           C  \\nATOM   1279  O   VAL A 169       6.164  12.316  -5.787  1.00 89.05           O  \\nATOM   1280  CG1 VAL A 169       7.943  11.895  -3.320  1.00 89.05           C  \\nATOM   1281  CG2 VAL A 169       8.549   9.465  -3.132  1.00 89.05           C  \\nATOM   1282  N   TRP A 170       7.614  11.514  -7.169  1.00 86.90           N  \\nATOM   1283  CA  TRP A 170       7.496  12.637  -8.093  1.00 86.90           C  \\nATOM   1284  C   TRP A 170       6.192  12.562  -8.880  1.00 86.90           C  \\nATOM   1285  CB  TRP A 170       8.687  12.669  -9.055  1.00 86.90           C  \\nATOM   1286  O   TRP A 170       5.805  13.525  -9.545  1.00 86.90           O  \\nATOM   1287  CG  TRP A 170       8.955  11.361  -9.736  1.00 86.90           C  \\nATOM   1288  CD1 TRP A 170       9.773  10.356  -9.297  1.00 86.90           C  \\nATOM   1289  CD2 TRP A 170       8.407  10.917 -10.980  1.00 86.90           C  \\nATOM   1290  CE2 TRP A 170       8.935   9.632 -11.236  1.00 86.90           C  \\nATOM   1291  CE3 TRP A 170       7.518  11.481 -11.905  1.00 86.90           C  \\nATOM   1292  NE1 TRP A 170       9.765   9.314 -10.195  1.00 86.90           N  \\nATOM   1293  CH2 TRP A 170       7.731   9.478 -13.268  1.00 86.90           C  \\nATOM   1294  CZ2 TRP A 170       8.603   8.902 -12.380  1.00 86.90           C  \\nATOM   1295  CZ3 TRP A 170       7.188  10.753 -13.043  1.00 86.90           C  \\nATOM   1296  N   ALA A 171       5.563  11.498  -8.813  1.00 85.90           N  \\nATOM   1297  CA  ALA A 171       4.306  11.338  -9.539  1.00 85.90           C  \\nATOM   1298  C   ALA A 171       3.116  11.348  -8.584  1.00 85.90           C  \\nATOM   1299  CB  ALA A 171       4.321  10.045 -10.351  1.00 85.90           C  \\nATOM   1300  O   ALA A 171       1.979  11.105  -8.995  1.00 85.90           O  \\nATOM   1301  N   ILE A 172       3.301  11.624  -7.307  1.00 78.57           N  \\nATOM   1302  CA  ILE A 172       2.212  11.656  -6.338  1.00 78.57           C  \\nATOM   1303  C   ILE A 172       1.718  13.090  -6.163  1.00 78.57           C  \\nATOM   1304  CB  ILE A 172       2.649  11.069  -4.977  1.00 78.57           C  \\nATOM   1305  O   ILE A 172       2.452  13.950  -5.669  1.00 78.57           O  \\nATOM   1306  CG1 ILE A 172       3.116   9.619  -5.145  1.00 78.57           C  \\nATOM   1307  CG2 ILE A 172       1.511  11.164  -3.957  1.00 78.57           C  \\nATOM   1308  CD1 ILE A 172       3.730   9.016  -3.889  1.00 78.57           C  \\nATOM   1309  N   GLY A 173       0.544  13.374  -6.617  1.00 73.47           N  \\nATOM   1310  CA  GLY A 173      -0.124  14.629  -6.312  1.00 73.47           C  \\nATOM   1311  C   GLY A 173       0.471  15.815  -7.047  1.00 73.47           C  \\nATOM   1312  O   GLY A 173       0.269  16.964  -6.648  1.00 73.47           O  \\nATOM   1313  N   THR A 174       1.347  15.554  -8.049  1.00 78.21           N  \\nATOM   1314  CA  THR A 174       2.052  16.655  -8.694  1.00 78.21           C  \\nATOM   1315  C   THR A 174       1.426  16.980 -10.047  1.00 78.21           C  \\nATOM   1316  CB  THR A 174       3.545  16.329  -8.882  1.00 78.21           C  \\nATOM   1317  O   THR A 174       1.687  18.040 -10.620  1.00 78.21           O  \\nATOM   1318  CG2 THR A 174       4.197  15.949  -7.556  1.00 78.21           C  \\nATOM   1319  OG1 THR A 174       3.678  15.234  -9.797  1.00 78.21           O  \\nATOM   1320  N   GLY A 175       0.557  16.094 -10.559  1.00 73.49           N  \\nATOM   1321  CA  GLY A 175       0.050  16.223 -11.916  1.00 73.49           C  \\nATOM   1322  C   GLY A 175       0.925  15.538 -12.948  1.00 73.49           C  \\nATOM   1323  O   GLY A 175       0.535  15.403 -14.110  1.00 73.49           O  \\nATOM   1324  N   LYS A 176       2.228  15.285 -12.469  1.00 76.95           N  \\nATOM   1325  CA  LYS A 176       3.107  14.473 -13.305  1.00 76.95           C  \\nATOM   1326  C   LYS A 176       2.750  12.993 -13.202  1.00 76.95           C  \\nATOM   1327  CB  LYS A 176       4.570  14.687 -12.913  1.00 76.95           C  \\nATOM   1328  O   LYS A 176       2.570  12.467 -12.102  1.00 76.95           O  \\nATOM   1329  CG  LYS A 176       5.103  16.073 -13.246  1.00 76.95           C  \\nATOM   1330  CD  LYS A 176       6.612  16.153 -13.052  1.00 76.95           C  \\nATOM   1331  CE  LYS A 176       7.146  17.540 -13.381  1.00 76.95           C  \\nATOM   1332  NZ  LYS A 176       8.628  17.619 -13.209  1.00 76.95           N  \\nATOM   1333  N   VAL A 177       2.608  12.392 -14.427  1.00 80.98           N  \\nATOM   1334  CA  VAL A 177       2.167  11.001 -14.416  1.00 80.98           C  \\nATOM   1335  C   VAL A 177       3.261  10.107 -14.995  1.00 80.98           C  \\nATOM   1336  CB  VAL A 177       0.853  10.816 -15.207  1.00 80.98           C  \\nATOM   1337  O   VAL A 177       3.775  10.370 -16.084  1.00 80.98           O  \\nATOM   1338  CG1 VAL A 177       0.388   9.362 -15.150  1.00 80.98           C  \\nATOM   1339  CG2 VAL A 177      -0.231  11.748 -14.667  1.00 80.98           C  \\nATOM   1340  N   ALA A 178       3.688   9.157 -14.143  1.00 89.11           N  \\nATOM   1341  CA  ALA A 178       4.569   8.134 -14.699  1.00 89.11           C  \\nATOM   1342  C   ALA A 178       3.884   7.378 -15.834  1.00 89.11           C  \\nATOM   1343  CB  ALA A 178       5.013   7.163 -13.608  1.00 89.11           C  \\nATOM   1344  O   ALA A 178       2.689   7.083 -15.759  1.00 89.11           O  \\nATOM   1345  N   THR A 179       4.656   7.160 -16.894  1.00 94.08           N  \\nATOM   1346  CA  THR A 179       4.105   6.325 -17.956  1.00 94.08           C  \\nATOM   1347  C   THR A 179       3.985   4.875 -17.497  1.00 94.08           C  \\nATOM   1348  CB  THR A 179       4.972   6.394 -19.227  1.00 94.08           C  \\nATOM   1349  O   THR A 179       4.680   4.452 -16.571  1.00 94.08           O  \\nATOM   1350  CG2 THR A 179       5.211   7.839 -19.653  1.00 94.08           C  \\nATOM   1351  OG1 THR A 179       6.236   5.768 -18.971  1.00 94.08           O  \\nATOM   1352  N   PRO A 180       3.134   4.106 -18.099  1.00 96.43           N  \\nATOM   1353  CA  PRO A 180       3.045   2.679 -17.781  1.00 96.43           C  \\nATOM   1354  C   PRO A 180       4.385   1.960 -17.915  1.00 96.43           C  \\nATOM   1355  CB  PRO A 180       2.037   2.152 -18.806  1.00 96.43           C  \\nATOM   1356  O   PRO A 180       4.700   1.079 -17.110  1.00 96.43           O  \\nATOM   1357  CG  PRO A 180       1.113   3.300 -19.059  1.00 96.43           C  \\nATOM   1358  CD  PRO A 180       1.919   4.567 -19.073  1.00 96.43           C  \\nATOM   1359  N   GLN A 181       5.161   2.316 -18.845  1.00 97.17           N  \\nATOM   1360  CA  GLN A 181       6.466   1.697 -19.047  1.00 97.17           C  \\nATOM   1361  C   GLN A 181       7.408   2.009 -17.888  1.00 97.17           C  \\nATOM   1362  CB  GLN A 181       7.084   2.164 -20.366  1.00 97.17           C  \\nATOM   1363  O   GLN A 181       8.168   1.144 -17.448  1.00 97.17           O  \\nATOM   1364  CG  GLN A 181       6.451   1.534 -21.599  1.00 97.17           C  \\nATOM   1365  CD  GLN A 181       5.054   2.057 -21.874  1.00 97.17           C  \\nATOM   1366  NE2 GLN A 181       4.224   1.229 -22.500  1.00 97.17           N  \\nATOM   1367  OE1 GLN A 181       4.723   3.194 -21.525  1.00 97.17           O  \\nATOM   1368  N   GLN A 182       7.371   3.244 -17.455  1.00 95.72           N  \\nATOM   1369  CA  GLN A 182       8.184   3.604 -16.298  1.00 95.72           C  \\nATOM   1370  C   GLN A 182       7.766   2.811 -15.063  1.00 95.72           C  \\nATOM   1371  CB  GLN A 182       8.085   5.104 -16.017  1.00 95.72           C  \\nATOM   1372  O   GLN A 182       8.616   2.344 -14.301  1.00 95.72           O  \\nATOM   1373  CG  GLN A 182       8.829   5.969 -17.025  1.00 95.72           C  \\nATOM   1374  CD  GLN A 182       8.592   7.453 -16.814  1.00 95.72           C  \\nATOM   1375  NE2 GLN A 182       9.632   8.254 -17.018  1.00 95.72           N  \\nATOM   1376  OE1 GLN A 182       7.483   7.875 -16.470  1.00 95.72           O  \\nATOM   1377  N   ALA A 183       6.479   2.667 -14.885  1.00 97.37           N  \\nATOM   1378  CA  ALA A 183       5.967   1.846 -13.791  1.00 97.37           C  \\nATOM   1379  C   ALA A 183       6.428   0.398 -13.930  1.00 97.37           C  \\nATOM   1380  CB  ALA A 183       4.443   1.913 -13.744  1.00 97.37           C  \\nATOM   1381  O   ALA A 183       6.876  -0.214 -12.957  1.00 97.37           O  \\nATOM   1382  N   GLN A 184       6.353  -0.122 -15.094  1.00 98.26           N  \\nATOM   1383  CA  GLN A 184       6.760  -1.500 -15.350  1.00 98.26           C  \\nATOM   1384  C   GLN A 184       8.251  -1.691 -15.091  1.00 98.26           C  \\nATOM   1385  CB  GLN A 184       6.420  -1.902 -16.786  1.00 98.26           C  \\nATOM   1386  O   GLN A 184       8.664  -2.706 -14.526  1.00 98.26           O  \\nATOM   1387  CG  GLN A 184       6.941  -3.278 -17.178  1.00 98.26           C  \\nATOM   1388  CD  GLN A 184       6.453  -4.377 -16.253  1.00 98.26           C  \\nATOM   1389  NE2 GLN A 184       7.253  -5.427 -16.106  1.00 98.26           N  \\nATOM   1390  OE1 GLN A 184       5.366  -4.281 -15.674  1.00 98.26           O  \\nATOM   1391  N   GLU A 185       9.040  -0.738 -15.495  1.00 97.83           N  \\nATOM   1392  CA  GLU A 185      10.482  -0.823 -15.287  1.00 97.83           C  \\nATOM   1393  C   GLU A 185      10.819  -0.978 -13.807  1.00 97.83           C  \\nATOM   1394  CB  GLU A 185      11.182   0.413 -15.859  1.00 97.83           C  \\nATOM   1395  O   GLU A 185      11.612  -1.844 -13.433  1.00 97.83           O  \\nATOM   1396  CG  GLU A 185      11.232   0.443 -17.380  1.00 97.83           C  \\nATOM   1397  CD  GLU A 185      11.761   1.755 -17.937  1.00 97.83           C  \\nATOM   1398  OE1 GLU A 185      11.750   1.937 -19.175  1.00 97.83           O  \\nATOM   1399  OE2 GLU A 185      12.190   2.608 -17.128  1.00 97.83           O  \\nATOM   1400  N   ALA A 186      10.220  -0.189 -12.991  1.00 98.20           N  \\nATOM   1401  CA  ALA A 186      10.471  -0.262 -11.554  1.00 98.20           C  \\nATOM   1402  C   ALA A 186       9.946  -1.571 -10.971  1.00 98.20           C  \\nATOM   1403  CB  ALA A 186       9.832   0.928 -10.841  1.00 98.20           C  \\nATOM   1404  O   ALA A 186      10.625  -2.218 -10.170  1.00 98.20           O  \\nATOM   1405  N   HIS A 187       8.818  -1.972 -11.408  1.00 98.68           N  \\nATOM   1406  CA  HIS A 187       8.212  -3.205 -10.919  1.00 98.68           C  \\nATOM   1407  C   HIS A 187       9.034  -4.423 -11.327  1.00 98.68           C  \\nATOM   1408  CB  HIS A 187       6.779  -3.341 -11.439  1.00 98.68           C  \\nATOM   1409  O   HIS A 187       9.229  -5.342 -10.529  1.00 98.68           O  \\nATOM   1410  CG  HIS A 187       5.803  -2.444 -10.747  1.00 98.68           C  \\nATOM   1411  CD2 HIS A 187       5.884  -1.136 -10.408  1.00 98.68           C  \\nATOM   1412  ND1 HIS A 187       4.567  -2.878 -10.319  1.00 98.68           N  \\nATOM   1413  CE1 HIS A 187       3.928  -1.872  -9.746  1.00 98.68           C  \\nATOM   1414  NE2 HIS A 187       4.705  -0.804  -9.787  1.00 98.68           N  \\nATOM   1415  N   ALA A 188       9.469  -4.381 -12.540  1.00 98.58           N  \\nATOM   1416  CA  ALA A 188      10.311  -5.475 -13.018  1.00 98.58           C  \\nATOM   1417  C   ALA A 188      11.614  -5.550 -12.227  1.00 98.58           C  \\nATOM   1418  CB  ALA A 188      10.605  -5.309 -14.507  1.00 98.58           C  \\nATOM   1419  O   ALA A 188      12.098  -6.642 -11.917  1.00 98.58           O  \\nATOM   1420  N   LEU A 189      12.129  -4.407 -11.937  1.00 98.58           N  \\nATOM   1421  CA  LEU A 189      13.344  -4.331 -11.133  1.00 98.58           C  \\nATOM   1422  C   LEU A 189      13.121  -4.937  -9.752  1.00 98.58           C  \\nATOM   1423  CB  LEU A 189      13.806  -2.878 -10.997  1.00 98.58           C  \\nATOM   1424  O   LEU A 189      13.938  -5.728  -9.277  1.00 98.58           O  \\nATOM   1425  CG  LEU A 189      15.044  -2.638 -10.131  1.00 98.58           C  \\nATOM   1426  CD1 LEU A 189      16.273  -3.270 -10.776  1.00 98.58           C  \\nATOM   1427  CD2 LEU A 189      15.259  -1.146  -9.906  1.00 98.58           C  \\nATOM   1428  N   ILE A 190      12.052  -4.624  -9.123  1.00 98.76           N  \\nATOM   1429  CA  ILE A 190      11.694  -5.143  -7.808  1.00 98.76           C  \\nATOM   1430  C   ILE A 190      11.513  -6.658  -7.882  1.00 98.76           C  \\nATOM   1431  CB  ILE A 190      10.410  -4.476  -7.266  1.00 98.76           C  \\nATOM   1432  O   ILE A 190      12.080  -7.398  -7.075  1.00 98.76           O  \\nATOM   1433  CG1 ILE A 190      10.664  -2.994  -6.967  1.00 98.76           C  \\nATOM   1434  CG2 ILE A 190       9.906  -5.208  -6.019  1.00 98.76           C  \\nATOM   1435  CD1 ILE A 190       9.395  -2.163  -6.833  1.00 98.76           C  \\nATOM   1436  N   ARG A 191      10.756  -7.122  -8.814  1.00 98.66           N  \\nATOM   1437  CA  ARG A 191      10.478  -8.547  -8.959  1.00 98.66           C  \\nATOM   1438  C   ARG A 191      11.761  -9.334  -9.202  1.00 98.66           C  \\nATOM   1439  CB  ARG A 191       9.491  -8.789 -10.103  1.00 98.66           C  \\nATOM   1440  O   ARG A 191      11.965 -10.397  -8.613  1.00 98.66           O  \\nATOM   1441  CG  ARG A 191       9.004 -10.226 -10.203  1.00 98.66           C  \\nATOM   1442  CD  ARG A 191       7.925 -10.383 -11.265  1.00 98.66           C  \\nATOM   1443  NE  ARG A 191       6.749  -9.571 -10.964  1.00 98.66           N  \\nATOM   1444  NH1 ARG A 191       5.906 -11.015  -9.369  1.00 98.66           N  \\nATOM   1445  NH2 ARG A 191       4.788  -9.079  -9.875  1.00 98.66           N  \\nATOM   1446  CZ  ARG A 191       5.817  -9.890 -10.070  1.00 98.66           C  \\nATOM   1447  N   SER A 192      12.606  -8.794 -10.079  1.00 98.66           N  \\nATOM   1448  CA  SER A 192      13.872  -9.455 -10.376  1.00 98.66           C  \\nATOM   1449  C   SER A 192      14.753  -9.546  -9.135  1.00 98.66           C  \\nATOM   1450  CB  SER A 192      14.616  -8.712 -11.487  1.00 98.66           C  \\nATOM   1451  O   SER A 192      15.357 -10.588  -8.871  1.00 98.66           O  \\nATOM   1452  OG  SER A 192      15.835  -9.364 -11.798  1.00 98.66           O  \\nATOM   1453  N   TRP A 193      14.824  -8.530  -8.464  1.00 98.76           N  \\nATOM   1454  CA  TRP A 193      15.634  -8.513  -7.250  1.00 98.76           C  \\nATOM   1455  C   TRP A 193      15.110  -9.521  -6.232  1.00 98.76           C  \\nATOM   1456  CB  TRP A 193      15.654  -7.111  -6.636  1.00 98.76           C  \\nATOM   1457  O   TRP A 193      15.887 -10.269  -5.634  1.00 98.76           O  \\nATOM   1458  CG  TRP A 193      16.604  -6.964  -5.485  1.00 98.76           C  \\nATOM   1459  CD1 TRP A 193      17.899  -6.531  -5.536  1.00 98.76           C  \\nATOM   1460  CD2 TRP A 193      16.332  -7.257  -4.111  1.00 98.76           C  \\nATOM   1461  CE2 TRP A 193      17.510  -6.976  -3.383  1.00 98.76           C  \\nATOM   1462  CE3 TRP A 193      15.206  -7.728  -3.424  1.00 98.76           C  \\nATOM   1463  NE1 TRP A 193      18.450  -6.535  -4.275  1.00 98.76           N  \\nATOM   1464  CH2 TRP A 193      16.476  -7.615  -1.352  1.00 98.76           C  \\nATOM   1465  CZ2 TRP A 193      17.592  -7.152  -2.000  1.00 98.76           C  \\nATOM   1466  CZ3 TRP A 193      15.290  -7.903  -2.047  1.00 98.76           C  \\nATOM   1467  N   VAL A 194      13.800  -9.549  -6.001  1.00 98.74           N  \\nATOM   1468  CA  VAL A 194      13.194 -10.481  -5.054  1.00 98.74           C  \\nATOM   1469  C   VAL A 194      13.440 -11.916  -5.513  1.00 98.74           C  \\nATOM   1470  CB  VAL A 194      11.679 -10.223  -4.895  1.00 98.74           C  \\nATOM   1471  O   VAL A 194      13.733 -12.793  -4.697  1.00 98.74           O  \\nATOM   1472  CG1 VAL A 194      11.023 -11.345  -4.092  1.00 98.74           C  \\nATOM   1473  CG2 VAL A 194      11.435  -8.871  -4.228  1.00 98.74           C  \\nATOM   1474  N   SER A 195      13.315 -12.135  -6.791  1.00 98.58           N  \\nATOM   1475  CA  SER A 195      13.586 -13.462  -7.335  1.00 98.58           C  \\nATOM   1476  C   SER A 195      15.010 -13.909  -7.019  1.00 98.58           C  \\nATOM   1477  CB  SER A 195      13.363 -13.477  -8.848  1.00 98.58           C  \\nATOM   1478  O   SER A 195      15.227 -15.037  -6.573  1.00 98.58           O  \\nATOM   1479  OG  SER A 195      13.598 -14.769  -9.379  1.00 98.58           O  \\nATOM   1480  N   SER A 196      15.947 -13.030  -7.134  1.00 98.53           N  \\nATOM   1481  CA  SER A 196      17.365 -13.331  -6.966  1.00 98.53           C  \\nATOM   1482  C   SER A 196      17.731 -13.462  -5.491  1.00 98.53           C  \\nATOM   1483  CB  SER A 196      18.224 -12.248  -7.618  1.00 98.53           C  \\nATOM   1484  O   SER A 196      18.468 -14.373  -5.108  1.00 98.53           O  \\nATOM   1485  OG  SER A 196      19.602 -12.501  -7.403  1.00 98.53           O  \\nATOM   1486  N   LYS A 197      17.193 -12.605  -4.650  1.00 98.45           N  \\nATOM   1487  CA  LYS A 197      17.677 -12.499  -3.277  1.00 98.45           C  \\nATOM   1488  C   LYS A 197      16.829 -13.342  -2.328  1.00 98.45           C  \\nATOM   1489  CB  LYS A 197      17.680 -11.039  -2.820  1.00 98.45           C  \\nATOM   1490  O   LYS A 197      17.305 -13.768  -1.275  1.00 98.45           O  \\nATOM   1491  CG  LYS A 197      18.658 -10.155  -3.581  1.00 98.45           C  \\nATOM   1492  CD  LYS A 197      20.095 -10.626  -3.399  1.00 98.45           C  \\nATOM   1493  CE  LYS A 197      21.074  -9.743  -4.161  1.00 98.45           C  \\nATOM   1494  NZ  LYS A 197      22.477 -10.240  -4.042  1.00 98.45           N  \\nATOM   1495  N   ILE A 198      15.618 -13.497  -2.687  1.00 98.42           N  \\nATOM   1496  CA  ILE A 198      14.733 -14.190  -1.756  1.00 98.42           C  \\nATOM   1497  C   ILE A 198      14.341 -15.548  -2.332  1.00 98.42           C  \\nATOM   1498  CB  ILE A 198      13.471 -13.353  -1.448  1.00 98.42           C  \\nATOM   1499  O   ILE A 198      14.502 -16.578  -1.673  1.00 98.42           O  \\nATOM   1500  CG1 ILE A 198      13.861 -11.925  -1.050  1.00 98.42           C  \\nATOM   1501  CG2 ILE A 198      12.637 -14.019  -0.350  1.00 98.42           C  \\nATOM   1502  CD1 ILE A 198      14.765 -11.848   0.173  1.00 98.42           C  \\nATOM   1503  N   GLY A 199      13.874 -15.573  -3.590  1.00 98.53           N  \\nATOM   1504  CA  GLY A 199      13.481 -16.802  -4.260  1.00 98.53           C  \\nATOM   1505  C   GLY A 199      12.470 -16.580  -5.369  1.00 98.53           C  \\nATOM   1506  O   GLY A 199      11.575 -15.741  -5.242  1.00 98.53           O  \\nATOM   1507  N   ALA A 200      12.581 -17.381  -6.420  1.00 98.02           N  \\nATOM   1508  CA  ALA A 200      11.715 -17.273  -7.592  1.00 98.02           C  \\nATOM   1509  C   ALA A 200      10.254 -17.503  -7.217  1.00 98.02           C  \\nATOM   1510  CB  ALA A 200      12.148 -18.267  -8.666  1.00 98.02           C  \\nATOM   1511  O   ALA A 200       9.357 -16.855  -7.762  1.00 98.02           O  \\nATOM   1512  N   ASP A 201      10.033 -18.413  -6.316  1.00 97.75           N  \\nATOM   1513  CA  ASP A 201       8.666 -18.691  -5.885  1.00 97.75           C  \\nATOM   1514  C   ASP A 201       8.056 -17.483  -5.178  1.00 97.75           C  \\nATOM   1515  CB  ASP A 201       8.632 -19.912  -4.963  1.00 97.75           C  \\nATOM   1516  O   ASP A 201       6.905 -17.123  -5.433  1.00 97.75           O  \\nATOM   1517  CG  ASP A 201       9.565 -19.782  -3.772  1.00 97.75           C  \\nATOM   1518  OD1 ASP A 201      10.744 -19.412  -3.958  1.00 97.75           O  \\nATOM   1519  OD2 ASP A 201       9.118 -20.054  -2.637  1.00 97.75           O  \\nATOM   1520  N   VAL A 202       8.809 -16.806  -4.314  1.00 98.38           N  \\nATOM   1521  CA  VAL A 202       8.352 -15.616  -3.603  1.00 98.38           C  \\nATOM   1522  C   VAL A 202       8.076 -14.493  -4.600  1.00 98.38           C  \\nATOM   1523  CB  VAL A 202       9.383 -15.153  -2.550  1.00 98.38           C  \\nATOM   1524  O   VAL A 202       7.041 -13.827  -4.523  1.00 98.38           O  \\nATOM   1525  CG1 VAL A 202       8.969 -13.814  -1.941  1.00 98.38           C  \\nATOM   1526  CG2 VAL A 202       9.545 -16.211  -1.460  1.00 98.38           C  \\nATOM   1527  N   ALA A 203       8.979 -14.326  -5.532  1.00 98.36           N  \\nATOM   1528  CA  ALA A 203       8.834 -13.280  -6.540  1.00 98.36           C  \\nATOM   1529  C   ALA A 203       7.568 -13.487  -7.367  1.00 98.36           C  \\nATOM   1530  CB  ALA A 203      10.060 -13.243  -7.450  1.00 98.36           C  \\nATOM   1531  O   ALA A 203       6.865 -12.526  -7.689  1.00 98.36           O  \\nATOM   1532  N   GLY A 204       7.281 -14.704  -7.731  1.00 97.86           N  \\nATOM   1533  CA  GLY A 204       6.124 -15.028  -8.550  1.00 97.86           C  \\nATOM   1534  C   GLY A 204       4.804 -14.741  -7.859  1.00 97.86           C  \\nATOM   1535  O   GLY A 204       3.796 -14.480  -8.518  1.00 97.86           O  \\nATOM   1536  N   GLU A 205       4.787 -14.715  -6.511  1.00 97.94           N  \\nATOM   1537  CA  GLU A 205       3.551 -14.556  -5.751  1.00 97.94           C  \\nATOM   1538  C   GLU A 205       3.446 -13.154  -5.156  1.00 97.94           C  \\nATOM   1539  CB  GLU A 205       3.463 -15.606  -4.641  1.00 97.94           C  \\nATOM   1540  O   GLU A 205       2.391 -12.766  -4.652  1.00 97.94           O  \\nATOM   1541  CG  GLU A 205       3.323 -17.032  -5.154  1.00 97.94           C  \\nATOM   1542  CD  GLU A 205       3.173 -18.058  -4.041  1.00 97.94           C  \\nATOM   1543  OE1 GLU A 205       2.955 -19.253  -4.343  1.00 97.94           O  \\nATOM   1544  OE2 GLU A 205       3.273 -17.662  -2.858  1.00 97.94           O  \\nATOM   1545  N   LEU A 206       4.574 -12.431  -5.164  1.00 98.62           N  \\nATOM   1546  CA  LEU A 206       4.611 -11.107  -4.552  1.00 98.62           C  \\nATOM   1547  C   LEU A 206       3.701 -10.138  -5.298  1.00 98.62           C  \\nATOM   1548  CB  LEU A 206       6.043 -10.567  -4.529  1.00 98.62           C  \\nATOM   1549  O   LEU A 206       3.788 -10.015  -6.522  1.00 98.62           O  \\nATOM   1550  CG  LEU A 206       6.238  -9.190  -3.891  1.00 98.62           C  \\nATOM   1551  CD1 LEU A 206       5.946  -9.253  -2.396  1.00 98.62           C  \\nATOM   1552  CD2 LEU A 206       7.652  -8.678  -4.144  1.00 98.62           C  \\nATOM   1553  N   ARG A 207       2.798  -9.537  -4.561  1.00 98.74           N  \\nATOM   1554  CA  ARG A 207       1.975  -8.479  -5.139  1.00 98.74           C  \\nATOM   1555  C   ARG A 207       2.682  -7.130  -5.059  1.00 98.74           C  \\nATOM   1556  CB  ARG A 207       0.620  -8.404  -4.432  1.00 98.74           C  \\nATOM   1557  O   ARG A 207       3.069  -6.690  -3.974  1.00 98.74           O  \\nATOM   1558  CG  ARG A 207      -0.247  -9.637  -4.629  1.00 98.74           C  \\nATOM   1559  CD  ARG A 207      -1.423  -9.661  -3.663  1.00 98.74           C  \\nATOM   1560  NE  ARG A 207      -1.002 -10.020  -2.311  1.00 98.74           N  \\nATOM   1561  NH1 ARG A 207      -3.064  -9.632  -1.344  1.00 98.74           N  \\nATOM   1562  NH2 ARG A 207      -1.305 -10.346  -0.058  1.00 98.74           N  \\nATOM   1563  CZ  ARG A 207      -1.791  -9.999  -1.241  1.00 98.74           C  \\nATOM   1564  N   ILE A 208       2.927  -6.497  -6.222  1.00 98.86           N  \\nATOM   1565  CA  ILE A 208       3.575  -5.193  -6.313  1.00 98.86           C  \\nATOM   1566  C   ILE A 208       2.575  -4.154  -6.814  1.00 98.86           C  \\nATOM   1567  CB  ILE A 208       4.810  -5.240  -7.241  1.00 98.86           C  \\nATOM   1568  O   ILE A 208       2.047  -4.275  -7.922  1.00 98.86           O  \\nATOM   1569  CG1 ILE A 208       5.717  -6.416  -6.863  1.00 98.86           C  \\nATOM   1570  CG2 ILE A 208       5.578  -3.916  -7.185  1.00 98.86           C  \\nATOM   1571  CD1 ILE A 208       6.858  -6.658  -7.842  1.00 98.86           C  \\nATOM   1572  N   LEU A 209       2.342  -3.158  -5.959  1.00 98.88           N  \\nATOM   1573  CA  LEU A 209       1.363  -2.127  -6.285  1.00 98.88           C  \\nATOM   1574  C   LEU A 209       2.049  -0.880  -6.832  1.00 98.88           C  \\nATOM   1575  CB  LEU A 209       0.533  -1.767  -5.050  1.00 98.88           C  \\nATOM   1576  O   LEU A 209       3.156  -0.539  -6.409  1.00 98.88           O  \\nATOM   1577  CG  LEU A 209      -0.078  -2.938  -4.279  1.00 98.88           C  \\nATOM   1578  CD1 LEU A 209      -0.879  -2.427  -3.086  1.00 98.88           C  \\nATOM   1579  CD2 LEU A 209      -0.955  -3.784  -5.196  1.00 98.88           C  \\nATOM   1580  N   TYR A 210       1.382  -0.321  -7.750  1.00 98.62           N  \\nATOM   1581  CA  TYR A 210       1.794   1.011  -8.179  1.00 98.62           C  \\nATOM   1582  C   TYR A 210       1.138   2.087  -7.322  1.00 98.62           C  \\nATOM   1583  CB  TYR A 210       1.445   1.233  -9.653  1.00 98.62           C  \\nATOM   1584  O   TYR A 210      -0.089   2.133  -7.204  1.00 98.62           O  \\nATOM   1585  CG  TYR A 210       1.822   2.601 -10.167  1.00 98.62           C  \\nATOM   1586  CD1 TYR A 210       0.846   3.553 -10.451  1.00 98.62           C  \\nATOM   1587  CD2 TYR A 210       3.154   2.944 -10.370  1.00 98.62           C  \\nATOM   1588  CE1 TYR A 210       1.188   4.815 -10.927  1.00 98.62           C  \\nATOM   1589  CE2 TYR A 210       3.509   4.203 -10.845  1.00 98.62           C  \\nATOM   1590  OH  TYR A 210       2.865   6.377 -11.591  1.00 98.62           O  \\nATOM   1591  CZ  TYR A 210       2.520   5.130 -11.120  1.00 98.62           C  \\nATOM   1592  N   GLY A 211       1.920   2.957  -6.745  1.00 96.58           N  \\nATOM   1593  CA  GLY A 211       1.410   3.938  -5.802  1.00 96.58           C  \\nATOM   1594  C   GLY A 211       1.532   5.366  -6.301  1.00 96.58           C  \\nATOM   1595  O   GLY A 211       1.455   6.312  -5.515  1.00 96.58           O  \\nATOM   1596  N   GLY A 212       1.834   5.573  -7.620  1.00 92.22           N  \\nATOM   1597  CA  GLY A 212       1.828   6.903  -8.207  1.00 92.22           C  \\nATOM   1598  C   GLY A 212       0.435   7.403  -8.538  1.00 92.22           C  \\nATOM   1599  O   GLY A 212      -0.557   6.875  -8.030  1.00 92.22           O  \\nATOM   1600  N   SER A 213       0.308   8.603  -9.348  1.00 91.37           N  \\nATOM   1601  CA  SER A 213      -0.989   9.177  -9.694  1.00 91.37           C  \\nATOM   1602  C   SER A 213      -1.851   8.176 -10.456  1.00 91.37           C  \\nATOM   1603  CB  SER A 213      -0.808  10.445 -10.528  1.00 91.37           C  \\nATOM   1604  O   SER A 213      -1.669   7.981 -11.659  1.00 91.37           O  \\nATOM   1605  OG  SER A 213      -2.035  11.143 -10.656  1.00 91.37           O  \\nATOM   1606  N   VAL A 214      -2.727   7.450  -9.759  1.00 94.59           N  \\nATOM   1607  CA  VAL A 214      -3.683   6.560 -10.410  1.00 94.59           C  \\nATOM   1608  C   VAL A 214      -5.077   7.182 -10.372  1.00 94.59           C  \\nATOM   1609  CB  VAL A 214      -3.703   5.165  -9.747  1.00 94.59           C  \\nATOM   1610  O   VAL A 214      -5.506   7.695  -9.336  1.00 94.59           O  \\nATOM   1611  CG1 VAL A 214      -4.718   4.254 -10.436  1.00 94.59           C  \\nATOM   1612  CG2 VAL A 214      -2.310   4.539  -9.780  1.00 94.59           C  \\nATOM   1613  N   ASN A 215      -5.710   7.114 -11.521  1.00 95.23           N  \\nATOM   1614  CA  ASN A 215      -7.112   7.508 -11.617  1.00 95.23           C  \\nATOM   1615  C   ASN A 215      -7.878   6.621 -12.594  1.00 95.23           C  \\nATOM   1616  CB  ASN A 215      -7.230   8.977 -12.029  1.00 95.23           C  \\nATOM   1617  O   ASN A 215      -7.334   5.640 -13.106  1.00 95.23           O  \\nATOM   1618  CG  ASN A 215      -6.565   9.266 -13.360  1.00 95.23           C  \\nATOM   1619  ND2 ASN A 215      -5.793  10.344 -13.415  1.00 95.23           N  \\nATOM   1620  OD1 ASN A 215      -6.745   8.526 -14.331  1.00 95.23           O  \\nATOM   1621  N   GLY A 216      -9.156   6.870 -12.691  1.00 94.93           N  \\nATOM   1622  CA  GLY A 216     -10.017   6.033 -13.512  1.00 94.93           C  \\nATOM   1623  C   GLY A 216      -9.577   5.967 -14.962  1.00 94.93           C  \\nATOM   1624  O   GLY A 216      -9.847   4.983 -15.654  1.00 94.93           O  \\nATOM   1625  N   LYS A 217      -8.835   6.922 -15.406  1.00 95.36           N  \\nATOM   1626  CA  LYS A 217      -8.473   7.006 -16.818  1.00 95.36           C  \\nATOM   1627  C   LYS A 217      -7.221   6.185 -17.114  1.00 95.36           C  \\nATOM   1628  CB  LYS A 217      -8.255   8.462 -17.231  1.00 95.36           C  \\nATOM   1629  O   LYS A 217      -7.052   5.681 -18.226  1.00 95.36           O  \\nATOM   1630  CG  LYS A 217      -9.518   9.310 -17.204  1.00 95.36           C  \\nATOM   1631  CD  LYS A 217      -9.241  10.740 -17.648  1.00 95.36           C  \\nATOM   1632  CE  LYS A 217     -10.494  11.603 -17.572  1.00 95.36           C  \\nATOM   1633  NZ  LYS A 217     -10.218  13.016 -17.966  1.00 95.36           N  \\nATOM   1634  N   ASN A 218      -6.349   6.087 -16.142  1.00 96.07           N  \\nATOM   1635  CA  ASN A 218      -5.070   5.466 -16.473  1.00 96.07           C  \\nATOM   1636  C   ASN A 218      -4.914   4.108 -15.795  1.00 96.07           C  \\nATOM   1637  CB  ASN A 218      -3.911   6.388 -16.089  1.00 96.07           C  \\nATOM   1638  O   ASN A 218      -3.944   3.391 -16.047  1.00 96.07           O  \\nATOM   1639  CG  ASN A 218      -3.850   6.661 -14.599  1.00 96.07           C  \\nATOM   1640  ND2 ASN A 218      -3.018   7.618 -14.205  1.00 96.07           N  \\nATOM   1641  OD1 ASN A 218      -4.544   6.017 -13.809  1.00 96.07           O  \\nATOM   1642  N   ALA A 219      -5.845   3.730 -14.977  1.00 97.96           N  \\nATOM   1643  CA  ALA A 219      -5.740   2.523 -14.160  1.00 97.96           C  \\nATOM   1644  C   ALA A 219      -5.640   1.276 -15.034  1.00 97.96           C  \\nATOM   1645  CB  ALA A 219      -6.935   2.414 -13.217  1.00 97.96           C  \\nATOM   1646  O   ALA A 219      -4.815   0.396 -14.778  1.00 97.96           O  \\nATOM   1647  N   ARG A 220      -6.406   1.249 -16.119  1.00 97.83           N  \\nATOM   1648  CA  ARG A 220      -6.427   0.069 -16.978  1.00 97.83           C  \\nATOM   1649  C   ARG A 220      -5.090  -0.114 -17.689  1.00 97.83           C  \\nATOM   1650  CB  ARG A 220      -7.557   0.170 -18.004  1.00 97.83           C  \\nATOM   1651  O   ARG A 220      -4.538  -1.216 -17.710  1.00 97.83           O  \\nATOM   1652  CG  ARG A 220      -7.685  -1.050 -18.902  1.00 97.83           C  \\nATOM   1653  CD  ARG A 220      -8.985  -1.035 -19.694  1.00 97.83           C  \\nATOM   1654  NE  ARG A 220     -10.135  -1.338 -18.848  1.00 97.83           N  \\nATOM   1655  NH1 ARG A 220     -10.588  -3.375 -19.839  1.00 97.83           N  \\nATOM   1656  NH2 ARG A 220     -11.896  -2.618 -18.115  1.00 97.83           N  \\nATOM   1657  CZ  ARG A 220     -10.870  -2.443 -18.936  1.00 97.83           C  \\nATOM   1658  N   THR A 221      -4.563   0.957 -18.208  1.00 97.95           N  \\nATOM   1659  CA  THR A 221      -3.304   0.860 -18.938  1.00 97.95           C  \\nATOM   1660  C   THR A 221      -2.160   0.494 -17.996  1.00 97.95           C  \\nATOM   1661  CB  THR A 221      -2.975   2.178 -19.662  1.00 97.95           C  \\nATOM   1662  O   THR A 221      -1.269  -0.274 -18.363  1.00 97.95           O  \\nATOM   1663  CG2 THR A 221      -3.992   2.471 -20.760  1.00 97.95           C  \\nATOM   1664  OG1 THR A 221      -2.989   3.253 -18.715  1.00 97.95           O  \\nATOM   1665  N   LEU A 222      -2.192   1.011 -16.806  1.00 98.18           N  \\nATOM   1666  CA  LEU A 222      -1.171   0.667 -15.822  1.00 98.18           C  \\nATOM   1667  C   LEU A 222      -1.266  -0.804 -15.431  1.00 98.18           C  \\nATOM   1668  CB  LEU A 222      -1.309   1.548 -14.577  1.00 98.18           C  \\nATOM   1669  O   LEU A 222      -0.247  -1.493 -15.339  1.00 98.18           O  \\nATOM   1670  CG  LEU A 222      -0.838   2.996 -14.716  1.00 98.18           C  \\nATOM   1671  CD1 LEU A 222      -1.401   3.848 -13.582  1.00 98.18           C  \\nATOM   1672  CD2 LEU A 222       0.685   3.064 -14.736  1.00 98.18           C  \\nATOM   1673  N   TYR A 223      -2.494  -1.254 -15.260  1.00 98.01           N  \\nATOM   1674  CA  TYR A 223      -2.690  -2.623 -14.796  1.00 98.01           C  \\nATOM   1675  C   TYR A 223      -2.276  -3.626 -15.867  1.00 98.01           C  \\nATOM   1676  CB  TYR A 223      -4.152  -2.854 -14.402  1.00 98.01           C  \\nATOM   1677  O   TYR A 223      -1.983  -4.784 -15.561  1.00 98.01           O  \\nATOM   1678  CG  TYR A 223      -4.423  -4.235 -13.859  1.00 98.01           C  \\nATOM   1679  CD1 TYR A 223      -5.285  -5.108 -14.520  1.00 98.01           C  \\nATOM   1680  CD2 TYR A 223      -3.820  -4.671 -12.684  1.00 98.01           C  \\nATOM   1681  CE1 TYR A 223      -5.540  -6.381 -14.022  1.00 98.01           C  \\nATOM   1682  CE2 TYR A 223      -4.068  -5.943 -12.177  1.00 98.01           C  \\nATOM   1683  OH  TYR A 223      -5.177  -8.049 -12.355  1.00 98.01           O  \\nATOM   1684  CZ  TYR A 223      -4.928  -6.789 -12.853  1.00 98.01           C  \\nATOM   1685  N   GLN A 224      -2.260  -3.230 -17.073  1.00 97.33           N  \\nATOM   1686  CA  GLN A 224      -1.907  -4.121 -18.173  1.00 97.33           C  \\nATOM   1687  C   GLN A 224      -0.418  -4.455 -18.154  1.00 97.33           C  \\nATOM   1688  CB  GLN A 224      -2.287  -3.494 -19.515  1.00 97.33           C  \\nATOM   1689  O   GLN A 224       0.013  -5.428 -18.777  1.00 97.33           O  \\nATOM   1690  CG  GLN A 224      -3.786  -3.475 -19.782  1.00 97.33           C  \\nATOM   1691  CD  GLN A 224      -4.145  -2.736 -21.057  1.00 97.33           C  \\nATOM   1692  NE2 GLN A 224      -5.278  -3.095 -21.652  1.00 97.33           N  \\nATOM   1693  OE1 GLN A 224      -3.412  -1.848 -21.503  1.00 97.33           O  \\nATOM   1694  N   GLN A 225       0.328  -3.675 -17.412  1.00 98.24           N  \\nATOM   1695  CA  GLN A 225       1.752  -3.982 -17.320  1.00 98.24           C  \\nATOM   1696  C   GLN A 225       1.985  -5.299 -16.587  1.00 98.24           C  \\nATOM   1697  CB  GLN A 225       2.501  -2.849 -16.615  1.00 98.24           C  \\nATOM   1698  O   GLN A 225       1.275  -5.618 -15.630  1.00 98.24           O  \\nATOM   1699  CG  GLN A 225       2.384  -1.504 -17.318  1.00 98.24           C  \\nATOM   1700  CD  GLN A 225       2.817  -1.561 -18.772  1.00 98.24           C  \\nATOM   1701  NE2 GLN A 225       1.993  -1.011 -19.657  1.00 98.24           N  \\nATOM   1702  OE1 GLN A 225       3.882  -2.096 -19.095  1.00 98.24           O  \\nATOM   1703  N   ARG A 226       2.940  -6.019 -17.031  1.00 97.46           N  \\nATOM   1704  CA  ARG A 226       3.201  -7.403 -16.647  1.00 97.46           C  \\nATOM   1705  C   ARG A 226       3.336  -7.536 -15.134  1.00 97.46           C  \\nATOM   1706  CB  ARG A 226       4.466  -7.921 -17.334  1.00 97.46           C  \\nATOM   1707  O   ARG A 226       2.786  -8.462 -14.536  1.00 97.46           O  \\nATOM   1708  CG  ARG A 226       4.830  -9.349 -16.959  1.00 97.46           C  \\nATOM   1709  CD  ARG A 226       6.096  -9.813 -17.665  1.00 97.46           C  \\nATOM   1710  NE  ARG A 226       6.461 -11.173 -17.279  1.00 97.46           N  \\nATOM   1711  NH1 ARG A 226       8.385 -11.240 -18.555  1.00 97.46           N  \\nATOM   1712  NH2 ARG A 226       7.777 -13.055 -17.294  1.00 97.46           N  \\nATOM   1713  CZ  ARG A 226       7.540 -11.820 -17.710  1.00 97.46           C  \\nATOM   1714  N   ASP A 227       4.017  -6.599 -14.480  1.00 98.40           N  \\nATOM   1715  CA  ASP A 227       4.393  -6.805 -13.084  1.00 98.40           C  \\nATOM   1716  C   ASP A 227       3.597  -5.887 -12.160  1.00 98.40           C  \\nATOM   1717  CB  ASP A 227       5.893  -6.572 -12.893  1.00 98.40           C  \\nATOM   1718  O   ASP A 227       3.859  -5.830 -10.956  1.00 98.40           O  \\nATOM   1719  CG  ASP A 227       6.747  -7.650 -13.537  1.00 98.40           C  \\nATOM   1720  OD1 ASP A 227       6.596  -8.840 -13.184  1.00 98.40           O  \\nATOM   1721  OD2 ASP A 227       7.581  -7.307 -14.403  1.00 98.40           O  \\nATOM   1722  N   VAL A 228       2.637  -5.165 -12.730  1.00 98.54           N  \\nATOM   1723  CA  VAL A 228       1.758  -4.351 -11.897  1.00 98.54           C  \\nATOM   1724  C   VAL A 228       0.571  -5.189 -11.426  1.00 98.54           C  \\nATOM   1725  CB  VAL A 228       1.259  -3.099 -12.653  1.00 98.54           C  \\nATOM   1726  O   VAL A 228      -0.251  -5.623 -12.236  1.00 98.54           O  \\nATOM   1727  CG1 VAL A 228       0.290  -2.296 -11.787  1.00 98.54           C  \\nATOM   1728  CG2 VAL A 228       2.440  -2.231 -13.084  1.00 98.54           C  \\nATOM   1729  N   ASN A 229       0.472  -5.330 -10.067  1.00 98.66           N  \\nATOM   1730  CA  ASN A 229      -0.550  -6.192  -9.483  1.00 98.66           C  \\nATOM   1731  C   ASN A 229      -1.592  -5.385  -8.715  1.00 98.66           C  \\nATOM   1732  CB  ASN A 229       0.090  -7.240  -8.569  1.00 98.66           C  \\nATOM   1733  O   ASN A 229      -2.248  -5.909  -7.812  1.00 98.66           O  \\nATOM   1734  CG  ASN A 229       1.148  -8.063  -9.276  1.00 98.66           C  \\nATOM   1735  ND2 ASN A 229       0.773  -8.680 -10.390  1.00 98.66           N  \\nATOM   1736  OD1 ASN A 229       2.293  -8.145  -8.824  1.00 98.66           O  \\nATOM   1737  N   GLY A 230      -1.803  -4.192  -8.996  1.00 98.60           N  \\nATOM   1738  CA  GLY A 230      -2.804  -3.340  -8.375  1.00 98.60           C  \\nATOM   1739  C   GLY A 230      -2.280  -1.959  -8.029  1.00 98.60           C  \\nATOM   1740  O   GLY A 230      -1.307  -1.491  -8.624  1.00 98.60           O  \\nATOM   1741  N   PHE A 231      -3.023  -1.317  -7.054  1.00 98.81           N  \\nATOM   1742  CA  PHE A 231      -2.752   0.101  -6.853  1.00 98.81           C  \\nATOM   1743  C   PHE A 231      -2.855   0.468  -5.377  1.00 98.81           C  \\nATOM   1744  CB  PHE A 231      -3.721   0.958  -7.675  1.00 98.81           C  \\nATOM   1745  O   PHE A 231      -3.640  -0.129  -4.637  1.00 98.81           O  \\nATOM   1746  CG  PHE A 231      -3.797   0.565  -9.125  1.00 98.81           C  \\nATOM   1747  CD1 PHE A 231      -2.704   0.739  -9.966  1.00 98.81           C  \\nATOM   1748  CD2 PHE A 231      -4.962   0.020  -9.649  1.00 98.81           C  \\nATOM   1749  CE1 PHE A 231      -2.772   0.377 -11.309  1.00 98.81           C  \\nATOM   1750  CE2 PHE A 231      -5.038  -0.345 -10.990  1.00 98.81           C  \\nATOM   1751  CZ  PHE A 231      -3.942  -0.165 -11.818  1.00 98.81           C  \\nATOM   1752  N   LEU A 232      -1.994   1.349  -4.942  1.00 98.75           N  \\nATOM   1753  CA  LEU A 232      -2.191   2.155  -3.742  1.00 98.75           C  \\nATOM   1754  C   LEU A 232      -2.614   3.575  -4.104  1.00 98.75           C  \\nATOM   1755  CB  LEU A 232      -0.910   2.190  -2.904  1.00 98.75           C  \\nATOM   1756  O   LEU A 232      -1.803   4.362  -4.599  1.00 98.75           O  \\nATOM   1757  CG  LEU A 232      -0.986   2.954  -1.581  1.00 98.75           C  \\nATOM   1758  CD1 LEU A 232      -1.952   2.263  -0.624  1.00 98.75           C  \\nATOM   1759  CD2 LEU A 232       0.399   3.078  -0.954  1.00 98.75           C  \\nATOM   1760  N   VAL A 233      -3.886   3.912  -3.816  1.00 98.37           N  \\nATOM   1761  CA  VAL A 233      -4.514   5.097  -4.391  1.00 98.37           C  \\nATOM   1762  C   VAL A 233      -4.814   6.109  -3.288  1.00 98.37           C  \\nATOM   1763  CB  VAL A 233      -5.810   4.739  -5.153  1.00 98.37           C  \\nATOM   1764  O   VAL A 233      -5.371   5.755  -2.246  1.00 98.37           O  \\nATOM   1765  CG1 VAL A 233      -6.374   5.967  -5.865  1.00 98.37           C  \\nATOM   1766  CG2 VAL A 233      -5.548   3.612  -6.150  1.00 98.37           C  \\nATOM   1767  N   GLY A 234      -4.458   7.332  -3.534  1.00 96.22           N  \\nATOM   1768  CA  GLY A 234      -4.714   8.403  -2.583  1.00 96.22           C  \\nATOM   1769  C   GLY A 234      -5.954   9.211  -2.914  1.00 96.22           C  \\nATOM   1770  O   GLY A 234      -7.074   8.786  -2.623  1.00 96.22           O  \\nATOM   1771  N   GLY A 235      -5.813  10.315  -3.608  1.00 95.11           N  \\nATOM   1772  CA  GLY A 235      -6.862  11.288  -3.868  1.00 95.11           C  \\nATOM   1773  C   GLY A 235      -8.057  10.698  -4.591  1.00 95.11           C  \\nATOM   1774  O   GLY A 235      -9.203  10.937  -4.205  1.00 95.11           O  \\nATOM   1775  N   ALA A 236      -7.821   9.888  -5.593  1.00 96.93           N  \\nATOM   1776  CA  ALA A 236      -8.905   9.330  -6.398  1.00 96.93           C  \\nATOM   1777  C   ALA A 236      -9.739   8.343  -5.586  1.00 96.93           C  \\nATOM   1778  CB  ALA A 236      -8.345   8.649  -7.645  1.00 96.93           C  \\nATOM   1779  O   ALA A 236     -10.898   8.082  -5.915  1.00 96.93           O  \\nATOM   1780  N   SER A 237      -9.064   7.846  -4.501  1.00 98.18           N  \\nATOM   1781  CA  SER A 237      -9.773   6.855  -3.697  1.00 98.18           C  \\nATOM   1782  C   SER A 237     -10.824   7.513  -2.810  1.00 98.18           C  \\nATOM   1783  CB  SER A 237      -8.789   6.062  -2.835  1.00 98.18           C  \\nATOM   1784  O   SER A 237     -11.636   6.825  -2.186  1.00 98.18           O  \\nATOM   1785  OG  SER A 237      -8.288   6.863  -1.779  1.00 98.18           O  \\nATOM   1786  N   LEU A 238     -10.864   8.805  -2.734  1.00 98.15           N  \\nATOM   1787  CA  LEU A 238     -11.832   9.557  -1.943  1.00 98.15           C  \\nATOM   1788  C   LEU A 238     -13.057   9.914  -2.778  1.00 98.15           C  \\nATOM   1789  CB  LEU A 238     -11.193  10.830  -1.383  1.00 98.15           C  \\nATOM   1790  O   LEU A 238     -13.941  10.637  -2.313  1.00 98.15           O  \\nATOM   1791  CG  LEU A 238     -10.199  10.642  -0.236  1.00 98.15           C  \\nATOM   1792  CD1 LEU A 238      -9.310  11.873  -0.097  1.00 98.15           C  \\nATOM   1793  CD2 LEU A 238     -10.935  10.358   1.069  1.00 98.15           C  \\nATOM   1794  N   LYS A 239     -13.069   9.454  -3.965  1.00 98.07           N  \\nATOM   1795  CA  LYS A 239     -14.152   9.722  -4.907  1.00 98.07           C  \\nATOM   1796  C   LYS A 239     -14.736   8.423  -5.456  1.00 98.07           C  \\nATOM   1797  CB  LYS A 239     -13.658  10.602  -6.056  1.00 98.07           C  \\nATOM   1798  O   LYS A 239     -14.113   7.365  -5.355  1.00 98.07           O  \\nATOM   1799  CG  LYS A 239     -13.027  11.911  -5.607  1.00 98.07           C  \\nATOM   1800  CD  LYS A 239     -12.400  12.660  -6.776  1.00 98.07           C  \\nATOM   1801  CE  LYS A 239     -11.709  13.937  -6.317  1.00 98.07           C  \\nATOM   1802  NZ  LYS A 239     -11.040  14.642  -7.450  1.00 98.07           N  \\nATOM   1803  N   PRO A 240     -15.970   8.579  -6.095  1.00 98.12           N  \\nATOM   1804  CA  PRO A 240     -16.575   7.392  -6.703  1.00 98.12           C  \\nATOM   1805  C   PRO A 240     -15.677   6.743  -7.753  1.00 98.12           C  \\nATOM   1806  CB  PRO A 240     -17.856   7.936  -7.341  1.00 98.12           C  \\nATOM   1807  O   PRO A 240     -15.836   5.559  -8.061  1.00 98.12           O  \\nATOM   1808  CG  PRO A 240     -18.252   9.090  -6.477  1.00 98.12           C  \\nATOM   1809  CD  PRO A 240     -17.009   9.822  -6.059  1.00 98.12           C  \\nATOM   1810  N   GLU A 241     -14.785   7.546  -8.203  1.00 97.85           N  \\nATOM   1811  CA  GLU A 241     -13.861   7.090  -9.237  1.00 97.85           C  \\nATOM   1812  C   GLU A 241     -13.087   5.856  -8.780  1.00 97.85           C  \\nATOM   1813  CB  GLU A 241     -12.888   8.209  -9.619  1.00 97.85           C  \\nATOM   1814  O   GLU A 241     -12.564   5.105  -9.605  1.00 97.85           O  \\nATOM   1815  CG  GLU A 241     -11.920   7.829 -10.731  1.00 97.85           C  \\nATOM   1816  CD  GLU A 241     -11.067   8.993 -11.207  1.00 97.85           C  \\nATOM   1817  OE1 GLU A 241     -10.485   8.906 -12.312  1.00 97.85           O  \\nATOM   1818  OE2 GLU A 241     -10.979  10.000 -10.470  1.00 97.85           O  \\nATOM   1819  N   PHE A 242     -12.888   5.621  -7.527  1.00 98.66           N  \\nATOM   1820  CA  PHE A 242     -12.166   4.467  -7.003  1.00 98.66           C  \\nATOM   1821  C   PHE A 242     -12.806   3.167  -7.476  1.00 98.66           C  \\nATOM   1822  CB  PHE A 242     -12.126   4.506  -5.472  1.00 98.66           C  \\nATOM   1823  O   PHE A 242     -12.113   2.170  -7.688  1.00 98.66           O  \\nATOM   1824  CG  PHE A 242     -11.207   3.482  -4.863  1.00 98.66           C  \\nATOM   1825  CD1 PHE A 242     -11.696   2.529  -3.977  1.00 98.66           C  \\nATOM   1826  CD2 PHE A 242      -9.854   3.471  -5.176  1.00 98.66           C  \\nATOM   1827  CE1 PHE A 242     -10.848   1.579  -3.412  1.00 98.66           C  \\nATOM   1828  CE2 PHE A 242      -9.001   2.525  -4.615  1.00 98.66           C  \\nATOM   1829  CZ  PHE A 242      -9.500   1.581  -3.732  1.00 98.66           C  \\nATOM   1830  N   VAL A 243     -14.084   3.116  -7.691  1.00 98.51           N  \\nATOM   1831  CA  VAL A 243     -14.787   1.951  -8.216  1.00 98.51           C  \\nATOM   1832  C   VAL A 243     -14.284   1.634  -9.623  1.00 98.51           C  \\nATOM   1833  CB  VAL A 243     -16.316   2.170  -8.234  1.00 98.51           C  \\nATOM   1834  O   VAL A 243     -14.101   0.466  -9.975  1.00 98.51           O  \\nATOM   1835  CG1 VAL A 243     -17.017   1.032  -8.973  1.00 98.51           C  \\nATOM   1836  CG2 VAL A 243     -16.853   2.297  -6.810  1.00 98.51           C  \\nATOM   1837  N   ASP A 244     -14.103   2.725 -10.397  1.00 98.40           N  \\nATOM   1838  CA  ASP A 244     -13.540   2.535 -11.730  1.00 98.40           C  \\nATOM   1839  C   ASP A 244     -12.141   1.928 -11.654  1.00 98.40           C  \\nATOM   1840  CB  ASP A 244     -13.497   3.863 -12.489  1.00 98.40           C  \\nATOM   1841  O   ASP A 244     -11.778   1.086 -12.478  1.00 98.40           O  \\nATOM   1842  CG  ASP A 244     -14.874   4.462 -12.715  1.00 98.40           C  \\nATOM   1843  OD1 ASP A 244     -15.853   3.700 -12.863  1.00 98.40           O  \\nATOM   1844  OD2 ASP A 244     -14.979   5.707 -12.748  1.00 98.40           O  \\nATOM   1845  N   ILE A 245     -11.398   2.330 -10.709  1.00 98.72           N  \\nATOM   1846  CA  ILE A 245     -10.041   1.831 -10.510  1.00 98.72           C  \\nATOM   1847  C   ILE A 245     -10.087   0.362 -10.098  1.00 98.72           C  \\nATOM   1848  CB  ILE A 245      -9.283   2.662  -9.450  1.00 98.72           C  \\nATOM   1849  O   ILE A 245      -9.294  -0.450 -10.582  1.00 98.72           O  \\nATOM   1850  CG1 ILE A 245      -9.034   4.084  -9.964  1.00 98.72           C  \\nATOM   1851  CG2 ILE A 245      -7.967   1.978  -9.069  1.00 98.72           C  \\nATOM   1852  CD1 ILE A 245      -8.548   5.052  -8.895  1.00 98.72           C  \\nATOM   1853  N   ILE A 246     -11.031  -0.006  -9.277  1.00 98.72           N  \\nATOM   1854  CA  ILE A 246     -11.222  -1.402  -8.898  1.00 98.72           C  \\nATOM   1855  C   ILE A 246     -11.541  -2.234 -10.138  1.00 98.72           C  \\nATOM   1856  CB  ILE A 246     -12.344  -1.554  -7.848  1.00 98.72           C  \\nATOM   1857  O   ILE A 246     -10.921  -3.275 -10.372  1.00 98.72           O  \\nATOM   1858  CG1 ILE A 246     -11.919  -0.924  -6.516  1.00 98.72           C  \\nATOM   1859  CG2 ILE A 246     -12.714  -3.029  -7.662  1.00 98.72           C  \\nATOM   1860  CD1 ILE A 246     -13.061  -0.740  -5.526  1.00 98.72           C  \\nATOM   1861  N   LYS A 247     -12.397  -1.721 -10.951  1.00 98.12           N  \\nATOM   1862  CA  LYS A 247     -12.852  -2.442 -12.135  1.00 98.12           C  \\nATOM   1863  C   LYS A 247     -11.728  -2.585 -13.158  1.00 98.12           C  \\nATOM   1864  CB  LYS A 247     -14.050  -1.734 -12.769  1.00 98.12           C  \\nATOM   1865  O   LYS A 247     -11.708  -3.541 -13.936  1.00 98.12           O  \\nATOM   1866  CG  LYS A 247     -15.328  -1.825 -11.949  1.00 98.12           C  \\nATOM   1867  CD  LYS A 247     -16.475  -1.076 -12.616  1.00 98.12           C  \\nATOM   1868  CE  LYS A 247     -17.760  -1.183 -11.805  1.00 98.12           C  \\nATOM   1869  NZ  LYS A 247     -18.855  -0.352 -12.390  1.00 98.12           N  \\nATOM   1870  N   ALA A 248     -10.838  -1.709 -13.131  1.00 97.96           N  \\nATOM   1871  CA  ALA A 248      -9.729  -1.715 -14.082  1.00 97.96           C  \\nATOM   1872  C   ALA A 248      -8.813  -2.913 -13.848  1.00 97.96           C  \\nATOM   1873  CB  ALA A 248      -8.936  -0.415 -13.982  1.00 97.96           C  \\nATOM   1874  O   ALA A 248      -8.034  -3.286 -14.728  1.00 97.96           O  \\nATOM   1875  N   THR A 249      -8.959  -3.554 -12.649  1.00 97.12           N  \\nATOM   1876  CA  THR A 249      -8.078  -4.673 -12.339  1.00 97.12           C  \\nATOM   1877  C   THR A 249      -8.704  -5.993 -12.781  1.00 97.12           C  \\nATOM   1878  CB  THR A 249      -7.757  -4.732 -10.834  1.00 97.12           C  \\nATOM   1879  O   THR A 249      -8.272  -7.065 -12.352  1.00 97.12           O  \\nATOM   1880  CG2 THR A 249      -7.149  -3.420 -10.350  1.00 97.12           C  \\nATOM   1881  OG1 THR A 249      -8.964  -4.985 -10.104  1.00 97.12           O  \\nATOM   1882  N   GLN A 250      -9.662  -5.976 -13.550  1.00 92.50           N  \\nATOM   1883  CA  GLN A 250     -10.285  -7.169 -14.114  1.00 92.50           C  \\nATOM   1884  C   GLN A 250      -9.457  -7.730 -15.266  1.00 92.50           C  \\nATOM   1885  CB  GLN A 250     -11.705  -6.858 -14.591  1.00 92.50           C  \\nATOM   1886  O   GLN A 250      -9.291  -8.946 -15.383  1.00 92.50           O  \\nATOM   1887  CG  GLN A 250     -12.463  -8.077 -15.099  1.00 92.50           C  \\nATOM   1888  CD  GLN A 250     -13.909  -7.770 -15.439  1.00 92.50           C  \\nATOM   1889  NE2 GLN A 250     -14.700  -8.813 -15.667  1.00 92.50           N  \\nATOM   1890  OE1 GLN A 250     -14.313  -6.604 -15.496  1.00 92.50           O  \\nTER    1891      GLN A 250                                                      \\nENDMDL                                                                          \\nEND                                                                             \\n\",\"pdb\");\n",
              "\tviewer_1666918640662496.setStyle({\"cartoon\": {\"colorscheme\": {\"prop\": \"b\", \"gradient\": \"roygb\", \"min\": 50, \"max\": 90}}});\n",
              "\tviewer_1666918640662496.zoomTo();\n",
              "viewer_1666918640662496.render();\n",
              "});\n",
              "</script>"
            ]
          },
          "metadata": {}
        }
      ]
    },
    {
      "cell_type": "code",
      "source": [
        "pdb_file = '/content/gdrive/MyDrive/Kaggle/AlphaFold/Results/3TIM_WT_unrelaxed_rank_2_model_3.pdb'\n",
        "\n",
        "def show_pdb(rank_num=1, show_sidechains=False, show_mainchains=False, color=\"lDDT\"):\n",
        "  model_name = f\"rank_{rank_num}\"\n",
        "  view = py3Dmol.view(js='https://3dmol.org/build/3Dmol.js',)\n",
        "  view.addModel(open(pdb_file,'r').read(),'pdb')\n",
        "\n",
        "  if color == \"lDDT\":\n",
        "    view.setStyle({'cartoon': {'colorscheme': {'prop':'b','gradient': 'roygb','min':50,'max':90}}})\n",
        "  elif color == \"rainbow\":\n",
        "    view.setStyle({'cartoon': {'color':'spectrum'}})\n",
        "  elif color == \"chain\":\n",
        "    chains = len(queries[0][1]) + 1 if is_complex else 1\n",
        "    for n,chain,color in zip(range(chains),list(\"ABCDEFGH\"),\n",
        "                     [\"lime\",\"cyan\",\"magenta\",\"yellow\",\"salmon\",\"white\",\"blue\",\"orange\"]):\n",
        "      view.setStyle({'chain':chain},{'cartoon': {'color':color}})\n",
        "  if show_sidechains:\n",
        "    BB = ['C','O','N']\n",
        "    view.addStyle({'and':[{'resn':[\"GLY\",\"PRO\"],'invert':True},{'atom':BB,'invert':True}]},\n",
        "                        {'stick':{'colorscheme':f\"WhiteCarbon\",'radius':0.3}})\n",
        "    view.addStyle({'and':[{'resn':\"GLY\"},{'atom':'CA'}]},\n",
        "                        {'sphere':{'colorscheme':f\"WhiteCarbon\",'radius':0.3}})\n",
        "    view.addStyle({'and':[{'resn':\"PRO\"},{'atom':['C','O'],'invert':True}]},\n",
        "                        {'stick':{'colorscheme':f\"WhiteCarbon\",'radius':0.3}})  \n",
        "  if show_mainchains:\n",
        "    BB = ['C','O','N','CA']\n",
        "    view.addStyle({'atom':BB},{'stick':{'colorscheme':f\"WhiteCarbon\",'radius':0.3}})\n",
        "\n",
        "  view.zoomTo()\n",
        "  return view\n",
        "\n",
        "show_pdb().show()"
      ],
      "metadata": {
        "colab": {
          "base_uri": "https://localhost:8080/",
          "height": 497
        },
        "id": "UIyFh0aZGZhh",
        "outputId": "51795dcd-45ef-4d00-db4b-adf53757f7c4"
      },
      "execution_count": 16,
      "outputs": [
        {
          "output_type": "display_data",
          "data": {
            "application/3dmoljs_load.v0": "<div id=\"3dmolviewer_1666918811149827\"  style=\"position: relative; width: 640px; height: 480px\">\n        <p id=\"3dmolwarning_1666918811149827\" style=\"background-color:#ffcccc;color:black\">You appear to be running in JupyterLab (or JavaScript failed to load for some other reason).  You need to install the 3dmol extension: <br>\n        <tt>jupyter labextension install jupyterlab_3dmol</tt></p>\n        </div>\n<script>\n\nvar loadScriptAsync = function(uri){\n  return new Promise((resolve, reject) => {\n    var tag = document.createElement('script');\n    tag.src = uri;\n    tag.async = true;\n    tag.onload = () => {\n      resolve();\n    };\n  var firstScriptTag = document.getElementsByTagName('script')[0];\n  firstScriptTag.parentNode.insertBefore(tag, firstScriptTag);\n});\n};\n\nif(typeof $3Dmolpromise === 'undefined') {\n$3Dmolpromise = null;\n  $3Dmolpromise = loadScriptAsync('https://3dmol.org/build/3Dmol.js');\n}\n\nvar viewer_1666918811149827 = null;\nvar warn = document.getElementById(\"3dmolwarning_1666918811149827\");\nif(warn) {\n    warn.parentNode.removeChild(warn);\n}\n$3Dmolpromise.then(function() {\nviewer_1666918811149827 = $3Dmol.createViewer($(\"#3dmolviewer_1666918811149827\"),{backgroundColor:\"white\"});\nviewer_1666918811149827.zoomTo();\n\tviewer_1666918811149827.addModel(\"MODEL     1                                                                     \\nATOM      1  N   MET A   1      17.139 -13.907  12.117  1.00 55.90           N  \\nATOM      2  CA  MET A   1      15.915 -13.147  12.353  1.00 55.90           C  \\nATOM      3  C   MET A   1      14.979 -13.236  11.152  1.00 55.90           C  \\nATOM      4  CB  MET A   1      16.240 -11.683  12.655  1.00 55.90           C  \\nATOM      5  O   MET A   1      15.422 -13.142  10.006  1.00 55.90           O  \\nATOM      6  CG  MET A   1      16.615 -11.425  14.105  1.00 55.90           C  \\nATOM      7  SD  MET A   1      16.586  -9.641  14.532  1.00 55.90           S  \\nATOM      8  CE  MET A   1      18.343  -9.371  14.897  1.00 55.90           C  \\nATOM      9  N   SER A   2      13.888 -13.898  11.261  1.00 78.43           N  \\nATOM     10  CA  SER A   2      12.886 -14.152  10.231  1.00 78.43           C  \\nATOM     11  C   SER A   2      12.313 -12.849   9.683  1.00 78.43           C  \\nATOM     12  CB  SER A   2      11.757 -15.022  10.784  1.00 78.43           C  \\nATOM     13  O   SER A   2      12.268 -11.839  10.389  1.00 78.43           O  \\nATOM     14  OG  SER A   2      11.005 -14.313  11.755  1.00 78.43           O  \\nATOM     15  N   LYS A   3      12.364 -12.635   8.353  1.00 89.06           N  \\nATOM     16  CA  LYS A   3      11.748 -11.547   7.599  1.00 89.06           C  \\nATOM     17  C   LYS A   3      10.339 -11.256   8.107  1.00 89.06           C  \\nATOM     18  CB  LYS A   3      11.709 -11.882   6.107  1.00 89.06           C  \\nATOM     19  O   LYS A   3       9.608 -12.174   8.486  1.00 89.06           O  \\nATOM     20  CG  LYS A   3      11.412 -10.687   5.213  1.00 89.06           C  \\nATOM     21  CD  LYS A   3      11.467 -11.066   3.738  1.00 89.06           C  \\nATOM     22  CE  LYS A   3      11.168  -9.872   2.842  1.00 89.06           C  \\nATOM     23  NZ  LYS A   3      11.158 -10.252   1.398  1.00 89.06           N  \\nATOM     24  N   PRO A   4       9.930  -9.886   8.335  1.00 96.34           N  \\nATOM     25  CA  PRO A   4       8.537  -9.580   8.670  1.00 96.34           C  \\nATOM     26  C   PRO A   4       7.542 -10.257   7.730  1.00 96.34           C  \\nATOM     27  CB  PRO A   4       8.468  -8.057   8.532  1.00 96.34           C  \\nATOM     28  O   PRO A   4       7.894 -10.609   6.601  1.00 96.34           O  \\nATOM     29  CG  PRO A   4       9.876  -7.592   8.718  1.00 96.34           C  \\nATOM     30  CD  PRO A   4      10.799  -8.619   8.127  1.00 96.34           C  \\nATOM     31  N   GLN A   5       6.338 -10.570   8.306  1.00 97.43           N  \\nATOM     32  CA  GLN A   5       5.293 -11.172   7.485  1.00 97.43           C  \\nATOM     33  C   GLN A   5       5.127 -10.420   6.168  1.00 97.43           C  \\nATOM     34  CB  GLN A   5       3.965 -11.203   8.243  1.00 97.43           C  \\nATOM     35  O   GLN A   5       4.991  -9.195   6.159  1.00 97.43           O  \\nATOM     36  CG  GLN A   5       2.851 -11.930   7.503  1.00 97.43           C  \\nATOM     37  CD  GLN A   5       1.509 -11.816   8.202  1.00 97.43           C  \\nATOM     38  NE2 GLN A   5       0.703 -12.869   8.115  1.00 97.43           N  \\nATOM     39  OE1 GLN A   5       1.199 -10.790   8.815  1.00 97.43           O  \\nATOM     40  N   PRO A   6       5.195 -11.037   5.027  1.00 98.30           N  \\nATOM     41  CA  PRO A   6       5.005 -10.356   3.744  1.00 98.30           C  \\nATOM     42  C   PRO A   6       3.559  -9.919   3.517  1.00 98.30           C  \\nATOM     43  CB  PRO A   6       5.422 -11.413   2.718  1.00 98.30           C  \\nATOM     44  O   PRO A   6       2.638 -10.488   4.107  1.00 98.30           O  \\nATOM     45  CG  PRO A   6       5.120 -12.722   3.373  1.00 98.30           C  \\nATOM     46  CD  PRO A   6       5.385 -12.591   4.846  1.00 98.30           C  \\nATOM     47  N   ILE A   7       3.444  -8.894   2.629  1.00 98.78           N  \\nATOM     48  CA  ILE A   7       2.146  -8.402   2.180  1.00 98.78           C  \\nATOM     49  C   ILE A   7       2.077  -8.443   0.655  1.00 98.78           C  \\nATOM     50  CB  ILE A   7       1.877  -6.968   2.690  1.00 98.78           C  \\nATOM     51  O   ILE A   7       3.015  -8.022  -0.027  1.00 98.78           O  \\nATOM     52  CG1 ILE A   7       1.826  -6.947   4.222  1.00 98.78           C  \\nATOM     53  CG2 ILE A   7       0.581  -6.416   2.090  1.00 98.78           C  \\nATOM     54  CD1 ILE A   7       1.687  -5.553   4.817  1.00 98.78           C  \\nATOM     55  N   ALA A   8       1.014  -9.036   0.186  1.00 98.66           N  \\nATOM     56  CA  ALA A   8       0.639  -8.886  -1.218  1.00 98.66           C  \\nATOM     57  C   ALA A   8      -0.603  -8.012  -1.364  1.00 98.66           C  \\nATOM     58  CB  ALA A   8       0.400 -10.254  -1.853  1.00 98.66           C  \\nATOM     59  O   ALA A   8      -1.715  -8.444  -1.049  1.00 98.66           O  \\nATOM     60  N   ALA A   9      -0.328  -6.761  -1.790  1.00 98.77           N  \\nATOM     61  CA  ALA A   9      -1.406  -5.778  -1.865  1.00 98.77           C  \\nATOM     62  C   ALA A   9      -1.815  -5.522  -3.312  1.00 98.77           C  \\nATOM     63  CB  ALA A   9      -0.983  -4.473  -1.195  1.00 98.77           C  \\nATOM     64  O   ALA A   9      -0.972  -5.211  -4.157  1.00 98.77           O  \\nATOM     65  N   ALA A  10      -3.088  -5.749  -3.572  1.00 98.54           N  \\nATOM     66  CA  ALA A  10      -3.688  -5.449  -4.869  1.00 98.54           C  \\nATOM     67  C   ALA A  10      -4.314  -4.057  -4.875  1.00 98.54           C  \\nATOM     68  CB  ALA A  10      -4.735  -6.501  -5.227  1.00 98.54           C  \\nATOM     69  O   ALA A  10      -5.401  -3.856  -4.329  1.00 98.54           O  \\nATOM     70  N   ASN A  11      -3.582  -3.089  -5.448  1.00 98.47           N  \\nATOM     71  CA  ASN A  11      -4.122  -1.747  -5.641  1.00 98.47           C  \\nATOM     72  C   ASN A  11      -4.752  -1.589  -7.022  1.00 98.47           C  \\nATOM     73  CB  ASN A  11      -3.032  -0.694  -5.432  1.00 98.47           C  \\nATOM     74  O   ASN A  11      -4.050  -1.342  -8.005  1.00 98.47           O  \\nATOM     75  CG  ASN A  11      -3.568   0.722  -5.490  1.00 98.47           C  \\nATOM     76  ND2 ASN A  11      -2.674   1.689  -5.658  1.00 98.47           N  \\nATOM     77  OD1 ASN A  11      -4.777   0.946  -5.385  1.00 98.47           O  \\nATOM     78  N   TRP A  12      -6.076  -1.749  -7.097  1.00 98.17           N  \\nATOM     79  CA  TRP A  12      -6.775  -1.811  -8.377  1.00 98.17           C  \\nATOM     80  C   TRP A  12      -6.840  -0.435  -9.029  1.00 98.17           C  \\nATOM     81  CB  TRP A  12      -8.189  -2.369  -8.191  1.00 98.17           C  \\nATOM     82  O   TRP A  12      -7.155  -0.317 -10.215  1.00 98.17           O  \\nATOM     83  CG  TRP A  12      -8.227  -3.828  -7.848  1.00 98.17           C  \\nATOM     84  CD1 TRP A  12      -7.217  -4.737  -7.996  1.00 98.17           C  \\nATOM     85  CD2 TRP A  12      -9.337  -4.548  -7.301  1.00 98.17           C  \\nATOM     86  CE2 TRP A  12      -8.928  -5.890  -7.144  1.00 98.17           C  \\nATOM     87  CE3 TRP A  12     -10.639  -4.187  -6.929  1.00 98.17           C  \\nATOM     88  NE1 TRP A  12      -7.631  -5.979  -7.574  1.00 98.17           N  \\nATOM     89  CH2 TRP A  12     -11.044  -6.494  -6.272  1.00 98.17           C  \\nATOM     90  CZ2 TRP A  12      -9.775  -6.874  -6.628  1.00 98.17           C  \\nATOM     91  CZ3 TRP A  12     -11.481  -5.167  -6.417  1.00 98.17           C  \\nATOM     92  N   LYS A  13      -6.458   0.602  -8.262  1.00 97.04           N  \\nATOM     93  CA  LYS A  13      -6.465   1.973  -8.763  1.00 97.04           C  \\nATOM     94  C   LYS A  13      -7.823   2.336  -9.356  1.00 97.04           C  \\nATOM     95  CB  LYS A  13      -5.367   2.167  -9.810  1.00 97.04           C  \\nATOM     96  O   LYS A  13      -8.862   2.080  -8.743  1.00 97.04           O  \\nATOM     97  CG  LYS A  13      -3.970   1.825  -9.314  1.00 97.04           C  \\nATOM     98  CD  LYS A  13      -2.913   2.122 -10.370  1.00 97.04           C  \\nATOM     99  CE  LYS A  13      -1.521   1.729  -9.895  1.00 97.04           C  \\nATOM    100  NZ  LYS A  13      -0.472   2.093 -10.894  1.00 97.04           N  \\nATOM    101  N   CYS A  14      -7.821   2.976 -10.509  1.00 96.76           N  \\nATOM    102  CA  CYS A  14      -9.088   3.383 -11.106  1.00 96.76           C  \\nATOM    103  C   CYS A  14      -9.496   2.430 -12.223  1.00 96.76           C  \\nATOM    104  CB  CYS A  14      -8.992   4.808 -11.649  1.00 96.76           C  \\nATOM    105  O   CYS A  14      -9.716   2.855 -13.358  1.00 96.76           O  \\nATOM    106  SG  CYS A  14     -10.576   5.491 -12.185  1.00 96.76           S  \\nATOM    107  N   ASN A  15      -9.588   1.030 -11.949  1.00 97.92           N  \\nATOM    108  CA  ASN A  15      -9.888   0.010 -12.948  1.00 97.92           C  \\nATOM    109  C   ASN A  15     -10.933  -0.980 -12.442  1.00 97.92           C  \\nATOM    110  CB  ASN A  15      -8.614  -0.728 -13.363  1.00 97.92           C  \\nATOM    111  O   ASN A  15     -11.140  -1.107 -11.234  1.00 97.92           O  \\nATOM    112  CG  ASN A  15      -7.589   0.189 -14.001  1.00 97.92           C  \\nATOM    113  ND2 ASN A  15      -6.437   0.332 -13.356  1.00 97.92           N  \\nATOM    114  OD1 ASN A  15      -7.831   0.765 -15.065  1.00 97.92           O  \\nATOM    115  N   GLY A  16     -11.613  -1.584 -13.472  1.00 96.53           N  \\nATOM    116  CA  GLY A  16     -12.484  -2.712 -13.181  1.00 96.53           C  \\nATOM    117  C   GLY A  16     -13.955  -2.393 -13.368  1.00 96.53           C  \\nATOM    118  O   GLY A  16     -14.353  -1.227 -13.330  1.00 96.53           O  \\nATOM    119  N   SER A  17     -14.745  -3.373 -13.669  1.00 97.50           N  \\nATOM    120  CA  SER A  17     -16.204  -3.373 -13.654  1.00 97.50           C  \\nATOM    121  C   SER A  17     -16.745  -4.317 -12.586  1.00 97.50           C  \\nATOM    122  CB  SER A  17     -16.754  -3.772 -15.025  1.00 97.50           C  \\nATOM    123  O   SER A  17     -16.006  -5.143 -12.047  1.00 97.50           O  \\nATOM    124  OG  SER A  17     -16.524  -5.147 -15.278  1.00 97.50           O  \\nATOM    125  N   GLN A  18     -18.029  -4.139 -12.224  1.00 97.62           N  \\nATOM    126  CA  GLN A  18     -18.621  -5.070 -11.269  1.00 97.62           C  \\nATOM    127  C   GLN A  18     -18.386  -6.517 -11.694  1.00 97.62           C  \\nATOM    128  CB  GLN A  18     -20.120  -4.804 -11.118  1.00 97.62           C  \\nATOM    129  O   GLN A  18     -18.035  -7.362 -10.868  1.00 97.62           O  \\nATOM    130  CG  GLN A  18     -20.444  -3.529 -10.352  1.00 97.62           C  \\nATOM    131  CD  GLN A  18     -21.925  -3.381 -10.057  1.00 97.62           C  \\nATOM    132  NE2 GLN A  18     -22.388  -2.140  -9.951  1.00 97.62           N  \\nATOM    133  OE1 GLN A  18     -22.647  -4.375  -9.927  1.00 97.62           O  \\nATOM    134  N   GLN A  19     -18.557  -6.758 -13.008  1.00 98.04           N  \\nATOM    135  CA  GLN A  19     -18.428  -8.118 -13.521  1.00 98.04           C  \\nATOM    136  C   GLN A  19     -16.987  -8.610 -13.419  1.00 98.04           C  \\nATOM    137  CB  GLN A  19     -18.907  -8.193 -14.971  1.00 98.04           C  \\nATOM    138  O   GLN A  19     -16.732  -9.693 -12.887  1.00 98.04           O  \\nATOM    139  CG  GLN A  19     -18.861  -9.596 -15.562  1.00 98.04           C  \\nATOM    140  CD  GLN A  19     -19.376  -9.649 -16.989  1.00 98.04           C  \\nATOM    141  NE2 GLN A  19     -19.482 -10.854 -17.536  1.00 98.04           N  \\nATOM    142  OE1 GLN A  19     -19.677  -8.614 -17.593  1.00 98.04           O  \\nATOM    143  N   SER A  20     -16.059  -7.835 -13.985  1.00 98.06           N  \\nATOM    144  CA  SER A  20     -14.672  -8.288 -14.016  1.00 98.06           C  \\nATOM    145  C   SER A  20     -14.111  -8.448 -12.607  1.00 98.06           C  \\nATOM    146  CB  SER A  20     -13.806  -7.310 -14.811  1.00 98.06           C  \\nATOM    147  O   SER A  20     -13.386  -9.405 -12.327  1.00 98.06           O  \\nATOM    148  OG  SER A  20     -13.643  -6.093 -14.103  1.00 98.06           O  \\nATOM    149  N   LEU A  21     -14.414  -7.603 -11.672  1.00 98.38           N  \\nATOM    150  CA  LEU A  21     -13.901  -7.662 -10.307  1.00 98.38           C  \\nATOM    151  C   LEU A  21     -14.566  -8.790  -9.525  1.00 98.38           C  \\nATOM    152  CB  LEU A  21     -14.126  -6.328  -9.592  1.00 98.38           C  \\nATOM    153  O   LEU A  21     -13.927  -9.431  -8.688  1.00 98.38           O  \\nATOM    154  CG  LEU A  21     -13.355  -5.126 -10.140  1.00 98.38           C  \\nATOM    155  CD1 LEU A  21     -13.663  -3.879  -9.318  1.00 98.38           C  \\nATOM    156  CD2 LEU A  21     -11.857  -5.410 -10.150  1.00 98.38           C  \\nATOM    157  N   SER A  22     -15.852  -9.061  -9.794  1.00 98.16           N  \\nATOM    158  CA  SER A  22     -16.513 -10.208  -9.181  1.00 98.16           C  \\nATOM    159  C   SER A  22     -15.833 -11.514  -9.578  1.00 98.16           C  \\nATOM    160  CB  SER A  22     -17.989 -10.251  -9.576  1.00 98.16           C  \\nATOM    161  O   SER A  22     -15.640 -12.399  -8.742  1.00 98.16           O  \\nATOM    162  OG  SER A  22     -18.700  -9.178  -8.984  1.00 98.16           O  \\nATOM    163  N   GLU A  23     -15.483 -11.613 -10.857  1.00 98.34           N  \\nATOM    164  CA  GLU A  23     -14.775 -12.796 -11.335  1.00 98.34           C  \\nATOM    165  C   GLU A  23     -13.417 -12.941 -10.653  1.00 98.34           C  \\nATOM    166  CB  GLU A  23     -14.597 -12.739 -12.854  1.00 98.34           C  \\nATOM    167  O   GLU A  23     -13.034 -14.040 -10.247  1.00 98.34           O  \\nATOM    168  CG  GLU A  23     -15.889 -12.940 -13.633  1.00 98.34           C  \\nATOM    169  CD  GLU A  23     -15.740 -12.671 -15.122  1.00 98.34           C  \\nATOM    170  OE1 GLU A  23     -16.738 -12.805 -15.866  1.00 98.34           O  \\nATOM    171  OE2 GLU A  23     -14.616 -12.323 -15.548  1.00 98.34           O  \\nATOM    172  N   LEU A  24     -12.758 -11.841 -10.517  1.00 98.45           N  \\nATOM    173  CA  LEU A  24     -11.452 -11.844  -9.867  1.00 98.45           C  \\nATOM    174  C   LEU A  24     -11.578 -12.223  -8.395  1.00 98.45           C  \\nATOM    175  CB  LEU A  24     -10.785 -10.473  -9.998  1.00 98.45           C  \\nATOM    176  O   LEU A  24     -10.798 -13.032  -7.889  1.00 98.45           O  \\nATOM    177  CG  LEU A  24      -9.306 -10.399  -9.616  1.00 98.45           C  \\nATOM    178  CD1 LEU A  24      -8.496 -11.399 -10.434  1.00 98.45           C  \\nATOM    179  CD2 LEU A  24      -8.772  -8.984  -9.811  1.00 98.45           C  \\nATOM    180  N   ILE A  25     -12.524 -11.665  -7.704  1.00 98.59           N  \\nATOM    181  CA  ILE A  25     -12.764 -11.958  -6.295  1.00 98.59           C  \\nATOM    182  C   ILE A  25     -13.094 -13.439  -6.125  1.00 98.59           C  \\nATOM    183  CB  ILE A  25     -13.904 -11.086  -5.723  1.00 98.59           C  \\nATOM    184  O   ILE A  25     -12.618 -14.084  -5.187  1.00 98.59           O  \\nATOM    185  CG1 ILE A  25     -13.444  -9.630  -5.584  1.00 98.59           C  \\nATOM    186  CG2 ILE A  25     -14.383 -11.639  -4.378  1.00 98.59           C  \\nATOM    187  CD1 ILE A  25     -14.576  -8.644  -5.333  1.00 98.59           C  \\nATOM    188  N   ASP A  26     -13.920 -14.046  -7.077  1.00 98.54           N  \\nATOM    189  CA  ASP A  26     -14.202 -15.477  -7.036  1.00 98.54           C  \\nATOM    190  C   ASP A  26     -12.914 -16.293  -7.120  1.00 98.54           C  \\nATOM    191  CB  ASP A  26     -15.149 -15.871  -8.172  1.00 98.54           C  \\nATOM    192  O   ASP A  26     -12.754 -17.287  -6.408  1.00 98.54           O  \\nATOM    193  CG  ASP A  26     -16.568 -15.374  -7.959  1.00 98.54           C  \\nATOM    194  OD1 ASP A  26     -16.926 -15.023  -6.815  1.00 98.54           O  \\nATOM    195  OD2 ASP A  26     -17.335 -15.337  -8.945  1.00 98.54           O  \\nATOM    196  N   LEU A  27     -12.075 -15.837  -7.963  1.00 98.52           N  \\nATOM    197  CA  LEU A  27     -10.786 -16.507  -8.094  1.00 98.52           C  \\nATOM    198  C   LEU A  27      -9.996 -16.425  -6.792  1.00 98.52           C  \\nATOM    199  CB  LEU A  27      -9.975 -15.890  -9.237  1.00 98.52           C  \\nATOM    200  O   LEU A  27      -9.461 -17.432  -6.322  1.00 98.52           O  \\nATOM    201  CG  LEU A  27      -8.527 -16.363  -9.372  1.00 98.52           C  \\nATOM    202  CD1 LEU A  27      -8.484 -17.838  -9.756  1.00 98.52           C  \\nATOM    203  CD2 LEU A  27      -7.781 -15.516 -10.397  1.00 98.52           C  \\nATOM    204  N   PHE A  28      -9.921 -15.179  -6.201  1.00 98.47           N  \\nATOM    205  CA  PHE A  28      -9.204 -15.017  -4.942  1.00 98.47           C  \\nATOM    206  C   PHE A  28      -9.780 -15.934  -3.869  1.00 98.47           C  \\nATOM    207  CB  PHE A  28      -9.261 -13.560  -4.472  1.00 98.47           C  \\nATOM    208  O   PHE A  28      -9.034 -16.577  -3.128  1.00 98.47           O  \\nATOM    209  CG  PHE A  28      -8.515 -12.605  -5.365  1.00 98.47           C  \\nATOM    210  CD1 PHE A  28      -7.607 -13.076  -6.305  1.00 98.47           C  \\nATOM    211  CD2 PHE A  28      -8.723 -11.236  -5.263  1.00 98.47           C  \\nATOM    212  CE1 PHE A  28      -6.915 -12.194  -7.132  1.00 98.47           C  \\nATOM    213  CE2 PHE A  28      -8.036 -10.348  -6.087  1.00 98.47           C  \\nATOM    214  CZ  PHE A  28      -7.131 -10.830  -7.020  1.00 98.47           C  \\nATOM    215  N   ASN A  29     -11.060 -16.052  -3.780  1.00 98.54           N  \\nATOM    216  CA  ASN A  29     -11.737 -16.851  -2.764  1.00 98.54           C  \\nATOM    217  C   ASN A  29     -11.425 -18.337  -2.920  1.00 98.54           C  \\nATOM    218  CB  ASN A  29     -13.248 -16.618  -2.816  1.00 98.54           C  \\nATOM    219  O   ASN A  29     -11.361 -19.069  -1.931  1.00 98.54           O  \\nATOM    220  CG  ASN A  29     -13.651 -15.269  -2.252  1.00 98.54           C  \\nATOM    221  ND2 ASN A  29     -14.797 -14.762  -2.689  1.00 98.54           N  \\nATOM    222  OD1 ASN A  29     -12.936 -14.688  -1.431  1.00 98.54           O  \\nATOM    223  N   SER A  30     -11.184 -18.771  -4.139  1.00 98.17           N  \\nATOM    224  CA  SER A  30     -11.005 -20.194  -4.404  1.00 98.17           C  \\nATOM    225  C   SER A  30      -9.531 -20.583  -4.365  1.00 98.17           C  \\nATOM    226  CB  SER A  30     -11.604 -20.567  -5.761  1.00 98.17           C  \\nATOM    227  O   SER A  30      -9.194 -21.767  -4.432  1.00 98.17           O  \\nATOM    228  OG  SER A  30     -10.887 -19.946  -6.814  1.00 98.17           O  \\nATOM    229  N   THR A  31      -8.667 -19.565  -4.295  1.00 97.74           N  \\nATOM    230  CA  THR A  31      -7.228 -19.805  -4.312  1.00 97.74           C  \\nATOM    231  C   THR A  31      -6.752 -20.337  -2.963  1.00 97.74           C  \\nATOM    232  CB  THR A  31      -6.452 -18.523  -4.665  1.00 97.74           C  \\nATOM    233  O   THR A  31      -7.149 -19.826  -1.914  1.00 97.74           O  \\nATOM    234  CG2 THR A  31      -4.949 -18.779  -4.690  1.00 97.74           C  \\nATOM    235  OG1 THR A  31      -6.868 -18.059  -5.955  1.00 97.74           O  \\nATOM    236  N   SER A  32      -5.940 -21.400  -3.027  1.00 97.06           N  \\nATOM    237  CA  SER A  32      -5.320 -21.933  -1.818  1.00 97.06           C  \\nATOM    238  C   SER A  32      -4.030 -21.190  -1.485  1.00 97.06           C  \\nATOM    239  CB  SER A  32      -5.032 -23.426  -1.977  1.00 97.06           C  \\nATOM    240  O   SER A  32      -3.107 -21.142  -2.301  1.00 97.06           O  \\nATOM    241  OG  SER A  32      -6.236 -24.159  -2.121  1.00 97.06           O  \\nATOM    242  N   ILE A  33      -4.022 -20.513  -0.364  1.00 97.39           N  \\nATOM    243  CA  ILE A  33      -2.844 -19.837   0.168  1.00 97.39           C  \\nATOM    244  C   ILE A  33      -2.406 -20.508   1.468  1.00 97.39           C  \\nATOM    245  CB  ILE A  33      -3.113 -18.334   0.404  1.00 97.39           C  \\nATOM    246  O   ILE A  33      -3.075 -20.380   2.495  1.00 97.39           O  \\nATOM    247  CG1 ILE A  33      -3.613 -17.671  -0.884  1.00 97.39           C  \\nATOM    248  CG2 ILE A  33      -1.854 -17.635   0.926  1.00 97.39           C  \\nATOM    249  CD1 ILE A  33      -4.102 -16.242  -0.696  1.00 97.39           C  \\nATOM    250  N   ASN A  34      -1.174 -21.298   1.393  1.00 95.21           N  \\nATOM    251  CA  ASN A  34      -0.783 -22.152   2.510  1.00 95.21           C  \\nATOM    252  C   ASN A  34       0.481 -21.639   3.193  1.00 95.21           C  \\nATOM    253  CB  ASN A  34      -0.583 -23.594   2.038  1.00 95.21           C  \\nATOM    254  O   ASN A  34       1.139 -22.378   3.927  1.00 95.21           O  \\nATOM    255  CG  ASN A  34      -1.846 -24.200   1.458  1.00 95.21           C  \\nATOM    256  ND2 ASN A  34      -1.701 -24.946   0.369  1.00 95.21           N  \\nATOM    257  OD1 ASN A  34      -2.944 -23.997   1.983  1.00 95.21           O  \\nATOM    258  N   HIS A  35       0.809 -20.385   2.997  1.00 96.45           N  \\nATOM    259  CA  HIS A  35       1.960 -19.800   3.676  1.00 96.45           C  \\nATOM    260  C   HIS A  35       1.590 -18.482   4.348  1.00 96.45           C  \\nATOM    261  CB  HIS A  35       3.110 -19.583   2.692  1.00 96.45           C  \\nATOM    262  O   HIS A  35       0.483 -17.972   4.159  1.00 96.45           O  \\nATOM    263  CG  HIS A  35       2.828 -18.539   1.659  1.00 96.45           C  \\nATOM    264  CD2 HIS A  35       3.296 -17.276   1.521  1.00 96.45           C  \\nATOM    265  ND1 HIS A  35       1.962 -18.747   0.607  1.00 96.45           N  \\nATOM    266  CE1 HIS A  35       1.911 -17.654  -0.136  1.00 96.45           C  \\nATOM    267  NE2 HIS A  35       2.711 -16.747   0.397  1.00 96.45           N  \\nATOM    268  N   ASP A  36       2.373 -18.003   5.310  1.00 96.56           N  \\nATOM    269  CA  ASP A  36       2.143 -16.810   6.120  1.00 96.56           C  \\nATOM    270  C   ASP A  36       2.324 -15.541   5.290  1.00 96.56           C  \\nATOM    271  CB  ASP A  36       3.085 -16.790   7.325  1.00 96.56           C  \\nATOM    272  O   ASP A  36       3.448 -15.073   5.099  1.00 96.56           O  \\nATOM    273  CG  ASP A  36       2.788 -15.656   8.290  1.00 96.56           C  \\nATOM    274  OD1 ASP A  36       1.675 -15.089   8.242  1.00 96.56           O  \\nATOM    275  OD2 ASP A  36       3.676 -15.324   9.105  1.00 96.56           O  \\nATOM    276  N   VAL A  37       1.125 -15.027   4.691  1.00 98.16           N  \\nATOM    277  CA  VAL A  37       1.107 -13.787   3.922  1.00 98.16           C  \\nATOM    278  C   VAL A  37      -0.185 -13.023   4.203  1.00 98.16           C  \\nATOM    279  CB  VAL A  37       1.249 -14.056   2.407  1.00 98.16           C  \\nATOM    280  O   VAL A  37      -1.250 -13.626   4.351  1.00 98.16           O  \\nATOM    281  CG1 VAL A  37       0.100 -14.929   1.904  1.00 98.16           C  \\nATOM    282  CG2 VAL A  37       1.302 -12.740   1.634  1.00 98.16           C  \\nATOM    283  N   GLN A  38      -0.028 -11.711   4.343  1.00 98.43           N  \\nATOM    284  CA  GLN A  38      -1.188 -10.830   4.425  1.00 98.43           C  \\nATOM    285  C   GLN A  38      -1.574 -10.299   3.047  1.00 98.43           C  \\nATOM    286  CB  GLN A  38      -0.914  -9.667   5.379  1.00 98.43           C  \\nATOM    287  O   GLN A  38      -0.780  -9.619   2.394  1.00 98.43           O  \\nATOM    288  CG  GLN A  38      -2.046  -8.651   5.451  1.00 98.43           C  \\nATOM    289  CD  GLN A  38      -3.291  -9.206   6.119  1.00 98.43           C  \\nATOM    290  NE2 GLN A  38      -4.376  -9.307   5.359  1.00 98.43           N  \\nATOM    291  OE1 GLN A  38      -3.277  -9.542   7.307  1.00 98.43           O  \\nATOM    292  N   CYS A  39      -2.783 -10.571   2.658  1.00 98.69           N  \\nATOM    293  CA  CYS A  39      -3.285 -10.068   1.384  1.00 98.69           C  \\nATOM    294  C   CYS A  39      -4.232  -8.893   1.597  1.00 98.69           C  \\nATOM    295  CB  CYS A  39      -3.999 -11.177   0.613  1.00 98.69           C  \\nATOM    296  O   CYS A  39      -5.065  -8.918   2.505  1.00 98.69           O  \\nATOM    297  SG  CYS A  39      -2.953 -12.605   0.255  1.00 98.69           S  \\nATOM    298  N   VAL A  40      -4.028  -7.851   0.736  1.00 98.77           N  \\nATOM    299  CA  VAL A  40      -4.809  -6.622   0.820  1.00 98.77           C  \\nATOM    300  C   VAL A  40      -5.362  -6.266  -0.559  1.00 98.77           C  \\nATOM    301  CB  VAL A  40      -3.968  -5.451   1.375  1.00 98.77           C  \\nATOM    302  O   VAL A  40      -4.638  -6.317  -1.557  1.00 98.77           O  \\nATOM    303  CG1 VAL A  40      -4.816  -4.187   1.499  1.00 98.77           C  \\nATOM    304  CG2 VAL A  40      -3.360  -5.826   2.726  1.00 98.77           C  \\nATOM    305  N   VAL A  41      -6.658  -5.900  -0.594  1.00 98.72           N  \\nATOM    306  CA  VAL A  41      -7.244  -5.408  -1.836  1.00 98.72           C  \\nATOM    307  C   VAL A  41      -7.722  -3.970  -1.649  1.00 98.72           C  \\nATOM    308  CB  VAL A  41      -8.413  -6.302  -2.306  1.00 98.72           C  \\nATOM    309  O   VAL A  41      -8.600  -3.704  -0.825  1.00 98.72           O  \\nATOM    310  CG1 VAL A  41      -9.089  -5.704  -3.539  1.00 98.72           C  \\nATOM    311  CG2 VAL A  41      -7.918  -7.717  -2.598  1.00 98.72           C  \\nATOM    312  N   ALA A  42      -7.034  -3.080  -2.377  1.00 98.51           N  \\nATOM    313  CA  ALA A  42      -7.481  -1.690  -2.415  1.00 98.51           C  \\nATOM    314  C   ALA A  42      -8.283  -1.406  -3.681  1.00 98.51           C  \\nATOM    315  CB  ALA A  42      -6.286  -0.743  -2.323  1.00 98.51           C  \\nATOM    316  O   ALA A  42      -7.717  -1.301  -4.772  1.00 98.51           O  \\nATOM    317  N   SER A  43      -9.623  -1.320  -3.561  1.00 97.09           N  \\nATOM    318  CA  SER A  43     -10.543  -1.079  -4.667  1.00 97.09           C  \\nATOM    319  C   SER A  43     -10.973   0.383  -4.720  1.00 97.09           C  \\nATOM    320  CB  SER A  43     -11.775  -1.977  -4.546  1.00 97.09           C  \\nATOM    321  O   SER A  43     -10.679   1.156  -3.805  1.00 97.09           O  \\nATOM    322  OG  SER A  43     -12.521  -1.654  -3.385  1.00 97.09           O  \\nATOM    323  N   THR A  44     -11.536   0.833  -5.850  1.00 97.43           N  \\nATOM    324  CA  THR A  44     -12.178   2.142  -5.911  1.00 97.43           C  \\nATOM    325  C   THR A  44     -13.279   2.254  -4.861  1.00 97.43           C  \\nATOM    326  CB  THR A  44     -12.768   2.410  -7.308  1.00 97.43           C  \\nATOM    327  O   THR A  44     -13.809   1.241  -4.399  1.00 97.43           O  \\nATOM    328  CG2 THR A  44     -11.693   2.317  -8.386  1.00 97.43           C  \\nATOM    329  OG1 THR A  44     -13.789   1.443  -7.583  1.00 97.43           O  \\nATOM    330  N   PHE A  45     -13.639   3.470  -4.467  1.00 97.54           N  \\nATOM    331  CA  PHE A  45     -14.652   3.667  -3.437  1.00 97.54           C  \\nATOM    332  C   PHE A  45     -15.980   3.049  -3.858  1.00 97.54           C  \\nATOM    333  CB  PHE A  45     -14.837   5.159  -3.143  1.00 97.54           C  \\nATOM    334  O   PHE A  45     -16.700   2.488  -3.029  1.00 97.54           O  \\nATOM    335  CG  PHE A  45     -13.715   5.764  -2.343  1.00 97.54           C  \\nATOM    336  CD1 PHE A  45     -13.203   5.107  -1.231  1.00 97.54           C  \\nATOM    337  CD2 PHE A  45     -13.173   6.991  -2.703  1.00 97.54           C  \\nATOM    338  CE1 PHE A  45     -12.164   5.664  -0.489  1.00 97.54           C  \\nATOM    339  CE2 PHE A  45     -12.135   7.554  -1.966  1.00 97.54           C  \\nATOM    340  CZ  PHE A  45     -11.633   6.890  -0.859  1.00 97.54           C  \\nATOM    341  N   VAL A  46     -16.316   3.109  -5.232  1.00 97.03           N  \\nATOM    342  CA  VAL A  46     -17.612   2.650  -5.720  1.00 97.03           C  \\nATOM    343  C   VAL A  46     -17.666   1.124  -5.686  1.00 97.03           C  \\nATOM    344  CB  VAL A  46     -17.893   3.161  -7.151  1.00 97.03           C  \\nATOM    345  O   VAL A  46     -18.747   0.533  -5.746  1.00 97.03           O  \\nATOM    346  CG1 VAL A  46     -18.097   4.675  -7.153  1.00 97.03           C  \\nATOM    347  CG2 VAL A  46     -16.753   2.771  -8.090  1.00 97.03           C  \\nATOM    348  N   HIS A  47     -16.479   0.450  -5.628  1.00 98.04           N  \\nATOM    349  CA  HIS A  47     -16.444  -1.008  -5.616  1.00 98.04           C  \\nATOM    350  C   HIS A  47     -16.171  -1.541  -4.213  1.00 98.04           C  \\nATOM    351  CB  HIS A  47     -15.385  -1.527  -6.590  1.00 98.04           C  \\nATOM    352  O   HIS A  47     -16.129  -2.756  -4.004  1.00 98.04           O  \\nATOM    353  CG  HIS A  47     -15.605  -1.091  -8.004  1.00 98.04           C  \\nATOM    354  CD2 HIS A  47     -16.644  -1.302  -8.847  1.00 98.04           C  \\nATOM    355  ND1 HIS A  47     -14.683  -0.345  -8.705  1.00 98.04           N  \\nATOM    356  CE1 HIS A  47     -15.147  -0.114  -9.922  1.00 98.04           C  \\nATOM    357  NE2 HIS A  47     -16.335  -0.684 -10.034  1.00 98.04           N  \\nATOM    358  N   LEU A  48     -15.954  -0.714  -3.167  1.00 97.25           N  \\nATOM    359  CA  LEU A  48     -15.586  -1.112  -1.813  1.00 97.25           C  \\nATOM    360  C   LEU A  48     -16.670  -1.987  -1.190  1.00 97.25           C  \\nATOM    361  CB  LEU A  48     -15.344   0.120  -0.938  1.00 97.25           C  \\nATOM    362  O   LEU A  48     -16.369  -3.018  -0.585  1.00 97.25           O  \\nATOM    363  CG  LEU A  48     -14.554  -0.108   0.352  1.00 97.25           C  \\nATOM    364  CD1 LEU A  48     -13.178  -0.684   0.036  1.00 97.25           C  \\nATOM    365  CD2 LEU A  48     -14.428   1.192   1.139  1.00 97.25           C  \\nATOM    366  N   ALA A  49     -17.943  -1.622  -1.333  1.00 97.85           N  \\nATOM    367  CA  ALA A  49     -19.045  -2.366  -0.728  1.00 97.85           C  \\nATOM    368  C   ALA A  49     -19.134  -3.777  -1.301  1.00 97.85           C  \\nATOM    369  CB  ALA A  49     -20.364  -1.626  -0.936  1.00 97.85           C  \\nATOM    370  O   ALA A  49     -19.251  -4.751  -0.553  1.00 97.85           O  \\nATOM    371  N   MET A  50     -19.062  -3.844  -2.626  1.00 97.95           N  \\nATOM    372  CA  MET A  50     -19.123  -5.152  -3.273  1.00 97.95           C  \\nATOM    373  C   MET A  50     -17.922  -6.008  -2.884  1.00 97.95           C  \\nATOM    374  CB  MET A  50     -19.184  -4.997  -4.794  1.00 97.95           C  \\nATOM    375  O   MET A  50     -18.068  -7.198  -2.602  1.00 97.95           O  \\nATOM    376  CG  MET A  50     -19.252  -6.319  -5.542  1.00 97.95           C  \\nATOM    377  SD  MET A  50     -17.604  -6.888  -6.115  1.00 97.95           S  \\nATOM    378  CE  MET A  50     -17.215  -5.583  -7.314  1.00 97.95           C  \\nATOM    379  N   THR A  51     -16.732  -5.386  -2.891  1.00 98.03           N  \\nATOM    380  CA  THR A  51     -15.521  -6.116  -2.531  1.00 98.03           C  \\nATOM    381  C   THR A  51     -15.617  -6.653  -1.106  1.00 98.03           C  \\nATOM    382  CB  THR A  51     -14.271  -5.227  -2.666  1.00 98.03           C  \\nATOM    383  O   THR A  51     -15.296  -7.815  -0.851  1.00 98.03           O  \\nATOM    384  CG2 THR A  51     -13.002  -6.012  -2.352  1.00 98.03           C  \\nATOM    385  OG1 THR A  51     -14.190  -4.726  -4.006  1.00 98.03           O  \\nATOM    386  N   LYS A  52     -16.062  -5.802  -0.129  1.00 97.75           N  \\nATOM    387  CA  LYS A  52     -16.223  -6.202   1.266  1.00 97.75           C  \\nATOM    388  C   LYS A  52     -17.215  -7.354   1.397  1.00 97.75           C  \\nATOM    389  CB  LYS A  52     -16.682  -5.015   2.115  1.00 97.75           C  \\nATOM    390  O   LYS A  52     -16.975  -8.305   2.144  1.00 97.75           O  \\nATOM    391  CG  LYS A  52     -16.841  -5.337   3.594  1.00 97.75           C  \\nATOM    392  CD  LYS A  52     -17.209  -4.097   4.400  1.00 97.75           C  \\nATOM    393  CE  LYS A  52     -17.391  -4.423   5.876  1.00 97.75           C  \\nATOM    394  NZ  LYS A  52     -17.747  -3.209   6.671  1.00 97.75           N  \\nATOM    395  N   GLU A  53     -18.278  -7.312   0.660  1.00 97.83           N  \\nATOM    396  CA  GLU A  53     -19.343  -8.307   0.734  1.00 97.83           C  \\nATOM    397  C   GLU A  53     -18.903  -9.633   0.121  1.00 97.83           C  \\nATOM    398  CB  GLU A  53     -20.605  -7.796   0.033  1.00 97.83           C  \\nATOM    399  O   GLU A  53     -19.188 -10.700   0.668  1.00 97.83           O  \\nATOM    400  CG  GLU A  53     -21.783  -8.757   0.111  1.00 97.83           C  \\nATOM    401  CD  GLU A  53     -23.002  -8.275  -0.660  1.00 97.83           C  \\nATOM    402  OE1 GLU A  53     -23.984  -9.042  -0.783  1.00 97.83           O  \\nATOM    403  OE2 GLU A  53     -22.974  -7.122  -1.146  1.00 97.83           O  \\nATOM    404  N   ARG A  54     -18.157  -9.644  -0.883  1.00 98.04           N  \\nATOM    405  CA  ARG A  54     -17.913 -10.842  -1.680  1.00 98.04           C  \\nATOM    406  C   ARG A  54     -16.585 -11.489  -1.302  1.00 98.04           C  \\nATOM    407  CB  ARG A  54     -17.927 -10.506  -3.173  1.00 98.04           C  \\nATOM    408  O   ARG A  54     -16.427 -12.706  -1.415  1.00 98.04           O  \\nATOM    409  CG  ARG A  54     -19.302 -10.142  -3.710  1.00 98.04           C  \\nATOM    410  CD  ARG A  54     -19.310 -10.059  -5.230  1.00 98.04           C  \\nATOM    411  NE  ARG A  54     -19.090 -11.366  -5.842  1.00 98.04           N  \\nATOM    412  NH1 ARG A  54     -18.408 -10.525  -7.883  1.00 98.04           N  \\nATOM    413  NH2 ARG A  54     -18.501 -12.790  -7.544  1.00 98.04           N  \\nATOM    414  CZ  ARG A  54     -18.667 -11.557  -7.088  1.00 98.04           C  \\nATOM    415  N   LEU A  55     -15.588 -10.631  -0.971  1.00 98.26           N  \\nATOM    416  CA  LEU A  55     -14.271 -11.166  -0.642  1.00 98.26           C  \\nATOM    417  C   LEU A  55     -14.296 -11.880   0.706  1.00 98.26           C  \\nATOM    418  CB  LEU A  55     -13.227 -10.047  -0.620  1.00 98.26           C  \\nATOM    419  O   LEU A  55     -14.396 -11.236   1.752  1.00 98.26           O  \\nATOM    420  CG  LEU A  55     -11.769 -10.482  -0.471  1.00 98.26           C  \\nATOM    421  CD1 LEU A  55     -11.365 -11.386  -1.631  1.00 98.26           C  \\nATOM    422  CD2 LEU A  55     -10.853  -9.266  -0.390  1.00 98.26           C  \\nATOM    423  N   SER A  56     -14.150 -13.232   0.671  1.00 98.16           N  \\nATOM    424  CA  SER A  56     -14.372 -14.025   1.876  1.00 98.16           C  \\nATOM    425  C   SER A  56     -13.125 -14.816   2.255  1.00 98.16           C  \\nATOM    426  CB  SER A  56     -15.551 -14.980   1.680  1.00 98.16           C  \\nATOM    427  O   SER A  56     -13.089 -15.464   3.303  1.00 98.16           O  \\nATOM    428  OG  SER A  56     -15.326 -15.836   0.573  1.00 98.16           O  \\nATOM    429  N   HIS A  57     -12.120 -14.727   1.402  1.00 98.28           N  \\nATOM    430  CA  HIS A  57     -10.885 -15.431   1.727  1.00 98.28           C  \\nATOM    431  C   HIS A  57     -10.259 -14.885   3.006  1.00 98.28           C  \\nATOM    432  CB  HIS A  57      -9.889 -15.327   0.570  1.00 98.28           C  \\nATOM    433  O   HIS A  57     -10.105 -13.671   3.158  1.00 98.28           O  \\nATOM    434  CG  HIS A  57      -8.777 -16.324   0.643  1.00 98.28           C  \\nATOM    435  CD2 HIS A  57      -8.514 -17.420  -0.107  1.00 98.28           C  \\nATOM    436  ND1 HIS A  57      -7.773 -16.251   1.585  1.00 98.28           N  \\nATOM    437  CE1 HIS A  57      -6.938 -17.261   1.408  1.00 98.28           C  \\nATOM    438  NE2 HIS A  57      -7.366 -17.986   0.388  1.00 98.28           N  \\nATOM    439  N   PRO A  58      -9.837 -15.766   3.990  1.00 97.27           N  \\nATOM    440  CA  PRO A  58      -9.392 -15.321   5.312  1.00 97.27           C  \\nATOM    441  C   PRO A  58      -8.066 -14.566   5.266  1.00 97.27           C  \\nATOM    442  CB  PRO A  58      -9.249 -16.629   6.094  1.00 97.27           C  \\nATOM    443  O   PRO A  58      -7.735 -13.832   6.201  1.00 97.27           O  \\nATOM    444  CG  PRO A  58      -9.110 -17.687   5.047  1.00 97.27           C  \\nATOM    445  CD  PRO A  58      -9.941 -17.294   3.860  1.00 97.27           C  \\nATOM    446  N   LYS A  59      -7.285 -14.704   4.240  1.00 97.79           N  \\nATOM    447  CA  LYS A  59      -5.990 -14.037   4.144  1.00 97.79           C  \\nATOM    448  C   LYS A  59      -6.145 -12.607   3.633  1.00 97.79           C  \\nATOM    449  CB  LYS A  59      -5.048 -14.821   3.228  1.00 97.79           C  \\nATOM    450  O   LYS A  59      -5.212 -11.806   3.721  1.00 97.79           O  \\nATOM    451  CG  LYS A  59      -4.605 -16.161   3.797  1.00 97.79           C  \\nATOM    452  CD  LYS A  59      -3.659 -15.982   4.977  1.00 97.79           C  \\nATOM    453  CE  LYS A  59      -3.072 -17.311   5.431  1.00 97.79           C  \\nATOM    454  NZ  LYS A  59      -2.166 -17.145   6.606  1.00 97.79           N  \\nATOM    455  N   PHE A  60      -7.368 -12.269   3.096  1.00 98.37           N  \\nATOM    456  CA  PHE A  60      -7.566 -10.980   2.443  1.00 98.37           C  \\nATOM    457  C   PHE A  60      -8.269 -10.003   3.378  1.00 98.37           C  \\nATOM    458  CB  PHE A  60      -8.375 -11.147   1.153  1.00 98.37           C  \\nATOM    459  O   PHE A  60      -9.164 -10.391   4.131  1.00 98.37           O  \\nATOM    460  CG  PHE A  60      -7.560 -11.629  -0.016  1.00 98.37           C  \\nATOM    461  CD1 PHE A  60      -7.037 -10.728  -0.936  1.00 98.37           C  \\nATOM    462  CD2 PHE A  60      -7.315 -12.984  -0.196  1.00 98.37           C  \\nATOM    463  CE1 PHE A  60      -6.283 -11.171  -2.019  1.00 98.37           C  \\nATOM    464  CE2 PHE A  60      -6.562 -13.435  -1.276  1.00 98.37           C  \\nATOM    465  CZ  PHE A  60      -6.047 -12.527  -2.187  1.00 98.37           C  \\nATOM    466  N   VAL A  61      -7.771  -8.809   3.356  1.00 98.32           N  \\nATOM    467  CA  VAL A  61      -8.454  -7.663   3.946  1.00 98.32           C  \\nATOM    468  C   VAL A  61      -8.689  -6.595   2.880  1.00 98.32           C  \\nATOM    469  CB  VAL A  61      -7.652  -7.070   5.126  1.00 98.32           C  \\nATOM    470  O   VAL A  61      -8.074  -6.630   1.811  1.00 98.32           O  \\nATOM    471  CG1 VAL A  61      -7.508  -8.095   6.250  1.00 98.32           C  \\nATOM    472  CG2 VAL A  61      -6.280  -6.595   4.653  1.00 98.32           C  \\nATOM    473  N   ILE A  62      -9.645  -5.655   3.177  1.00 98.34           N  \\nATOM    474  CA  ILE A  62      -9.938  -4.602   2.210  1.00 98.34           C  \\nATOM    475  C   ILE A  62      -9.311  -3.289   2.672  1.00 98.34           C  \\nATOM    476  CB  ILE A  62     -11.460  -4.428   2.008  1.00 98.34           C  \\nATOM    477  O   ILE A  62      -9.170  -3.050   3.874  1.00 98.34           O  \\nATOM    478  CG1 ILE A  62     -12.127  -3.995   3.319  1.00 98.34           C  \\nATOM    479  CG2 ILE A  62     -12.086  -5.721   1.476  1.00 98.34           C  \\nATOM    480  CD1 ILE A  62     -13.576  -3.556   3.160  1.00 98.34           C  \\nATOM    481  N   ALA A  63      -8.873  -2.470   1.675  1.00 98.67           N  \\nATOM    482  CA  ALA A  63      -8.279  -1.161   1.935  1.00 98.67           C  \\nATOM    483  C   ALA A  63      -8.901  -0.090   1.044  1.00 98.67           C  \\nATOM    484  CB  ALA A  63      -6.767  -1.212   1.724  1.00 98.67           C  \\nATOM    485  O   ALA A  63      -9.384  -0.388  -0.051  1.00 98.67           O  \\nATOM    486  N   ALA A  64      -8.945   1.081   1.546  1.00 98.55           N  \\nATOM    487  CA  ALA A  64      -9.261   2.241   0.716  1.00 98.55           C  \\nATOM    488  C   ALA A  64      -8.020   2.749  -0.011  1.00 98.55           C  \\nATOM    489  CB  ALA A  64      -9.868   3.354   1.567  1.00 98.55           C  \\nATOM    490  O   ALA A  64      -6.893   2.507   0.427  1.00 98.55           O  \\nATOM    491  N   GLN A  65      -8.272   3.493  -1.185  1.00 98.30           N  \\nATOM    492  CA  GLN A  65      -7.158   3.974  -1.995  1.00 98.30           C  \\nATOM    493  C   GLN A  65      -6.797   5.413  -1.635  1.00 98.30           C  \\nATOM    494  CB  GLN A  65      -7.493   3.874  -3.484  1.00 98.30           C  \\nATOM    495  O   GLN A  65      -5.927   6.016  -2.265  1.00 98.30           O  \\nATOM    496  CG  GLN A  65      -7.715   2.449  -3.970  1.00 98.30           C  \\nATOM    497  CD  GLN A  65      -8.095   2.381  -5.437  1.00 98.30           C  \\nATOM    498  NE2 GLN A  65      -7.705   1.299  -6.101  1.00 98.30           N  \\nATOM    499  OE1 GLN A  65      -8.735   3.294  -5.969  1.00 98.30           O  \\nATOM    500  N   ASN A  66      -7.506   5.980  -0.637  1.00 98.51           N  \\nATOM    501  CA  ASN A  66      -7.330   7.347  -0.160  1.00 98.51           C  \\nATOM    502  C   ASN A  66      -8.370   7.710   0.897  1.00 98.51           C  \\nATOM    503  CB  ASN A  66      -7.391   8.335  -1.326  1.00 98.51           C  \\nATOM    504  O   ASN A  66      -9.373   7.012   1.052  1.00 98.51           O  \\nATOM    505  CG  ASN A  66      -6.984   9.739  -0.924  1.00 98.51           C  \\nATOM    506  ND2 ASN A  66      -7.678  10.735  -1.463  1.00 98.51           N  \\nATOM    507  OD1 ASN A  66      -6.053   9.928  -0.137  1.00 98.51           O  \\nATOM    508  N   ALA A  67      -8.085   8.737   1.632  1.00 98.18           N  \\nATOM    509  CA  ALA A  67      -9.039   9.304   2.581  1.00 98.18           C  \\nATOM    510  C   ALA A  67      -8.543  10.640   3.126  1.00 98.18           C  \\nATOM    511  CB  ALA A  67      -9.294   8.327   3.727  1.00 98.18           C  \\nATOM    512  O   ALA A  67      -7.345  10.928   3.083  1.00 98.18           O  \\nATOM    513  N   ILE A  68      -9.494  11.458   3.586  1.00 97.76           N  \\nATOM    514  CA  ILE A  68      -9.133  12.671   4.312  1.00 97.76           C  \\nATOM    515  C   ILE A  68      -9.415  12.483   5.802  1.00 97.76           C  \\nATOM    516  CB  ILE A  68      -9.897  13.901   3.773  1.00 97.76           C  \\nATOM    517  O   ILE A  68     -10.090  11.530   6.197  1.00 97.76           O  \\nATOM    518  CG1 ILE A  68     -11.407  13.720   3.970  1.00 97.76           C  \\nATOM    519  CG2 ILE A  68      -9.562  14.141   2.298  1.00 97.76           C  \\nATOM    520  CD1 ILE A  68     -12.223  14.972   3.677  1.00 97.76           C  \\nATOM    521  N   ALA A  69      -8.918  13.408   6.673  1.00 97.56           N  \\nATOM    522  CA  ALA A  69      -8.871  13.228   8.122  1.00 97.56           C  \\nATOM    523  C   ALA A  69     -10.259  13.373   8.738  1.00 97.56           C  \\nATOM    524  CB  ALA A  69      -7.905  14.229   8.751  1.00 97.56           C  \\nATOM    525  O   ALA A  69     -10.651  12.577   9.595  1.00 97.56           O  \\nATOM    526  N   LYS A  70     -11.005  14.396   8.286  1.00 97.20           N  \\nATOM    527  CA  LYS A  70     -12.252  14.706   8.979  1.00 97.20           C  \\nATOM    528  C   LYS A  70     -13.419  14.790   7.999  1.00 97.20           C  \\nATOM    529  CB  LYS A  70     -12.123  16.018   9.755  1.00 97.20           C  \\nATOM    530  O   LYS A  70     -13.227  15.101   6.822  1.00 97.20           O  \\nATOM    531  CG  LYS A  70     -11.039  16.002  10.822  1.00 97.20           C  \\nATOM    532  CD  LYS A  70     -10.940  17.343  11.538  1.00 97.20           C  \\nATOM    533  CE  LYS A  70      -9.855  17.328  12.607  1.00 97.20           C  \\nATOM    534  NZ  LYS A  70      -9.698  18.664  13.255  1.00 97.20           N  \\nATOM    535  N   SER A  71     -14.578  14.546   8.574  1.00 97.97           N  \\nATOM    536  CA  SER A  71     -15.819  14.777   7.841  1.00 97.97           C  \\nATOM    537  C   SER A  71     -16.181  16.259   7.820  1.00 97.97           C  \\nATOM    538  CB  SER A  71     -16.964  13.973   8.458  1.00 97.97           C  \\nATOM    539  O   SER A  71     -15.791  17.011   8.716  1.00 97.97           O  \\nATOM    540  OG  SER A  71     -16.696  12.583   8.389  1.00 97.97           O  \\nATOM    541  N   GLY A  72     -16.756  16.709   6.681  1.00 97.35           N  \\nATOM    542  CA  GLY A  72     -17.170  18.091   6.500  1.00 97.35           C  \\nATOM    543  C   GLY A  72     -17.516  18.426   5.061  1.00 97.35           C  \\nATOM    544  O   GLY A  72     -17.827  17.535   4.268  1.00 97.35           O  \\nATOM    545  N   ALA A  73     -17.472  19.821   4.808  1.00 97.73           N  \\nATOM    546  CA  ALA A  73     -17.837  20.293   3.476  1.00 97.73           C  \\nATOM    547  C   ALA A  73     -16.717  20.029   2.473  1.00 97.73           C  \\nATOM    548  CB  ALA A  73     -18.174  21.782   3.513  1.00 97.73           C  \\nATOM    549  O   ALA A  73     -16.057  20.963   2.011  1.00 97.73           O  \\nATOM    550  N   PHE A  74     -16.403  18.704   2.159  1.00 96.60           N  \\nATOM    551  CA  PHE A  74     -15.426  18.235   1.183  1.00 96.60           C  \\nATOM    552  C   PHE A  74     -16.094  17.370   0.121  1.00 96.60           C  \\nATOM    553  CB  PHE A  74     -14.308  17.449   1.874  1.00 96.60           C  \\nATOM    554  O   PHE A  74     -15.942  16.146   0.124  1.00 96.60           O  \\nATOM    555  CG  PHE A  74     -13.639  18.201   2.993  1.00 96.60           C  \\nATOM    556  CD1 PHE A  74     -12.764  19.245   2.721  1.00 96.60           C  \\nATOM    557  CD2 PHE A  74     -13.886  17.863   4.317  1.00 96.60           C  \\nATOM    558  CE1 PHE A  74     -12.143  19.943   3.754  1.00 96.60           C  \\nATOM    559  CE2 PHE A  74     -13.269  18.556   5.355  1.00 96.60           C  \\nATOM    560  CZ  PHE A  74     -12.397  19.595   5.071  1.00 96.60           C  \\nATOM    561  N   THR A  75     -16.859  18.003  -0.840  1.00 96.89           N  \\nATOM    562  CA  THR A  75     -17.672  17.344  -1.856  1.00 96.89           C  \\nATOM    563  C   THR A  75     -16.830  16.366  -2.671  1.00 96.89           C  \\nATOM    564  CB  THR A  75     -18.329  18.369  -2.798  1.00 96.89           C  \\nATOM    565  O   THR A  75     -15.768  16.729  -3.182  1.00 96.89           O  \\nATOM    566  CG2 THR A  75     -19.159  17.675  -3.873  1.00 96.89           C  \\nATOM    567  OG1 THR A  75     -19.181  19.233  -2.036  1.00 96.89           O  \\nATOM    568  N   GLY A  76     -17.162  15.100  -2.653  1.00 95.55           N  \\nATOM    569  CA  GLY A  76     -16.519  14.095  -3.485  1.00 95.55           C  \\nATOM    570  C   GLY A  76     -15.488  13.272  -2.737  1.00 95.55           C  \\nATOM    571  O   GLY A  76     -15.017  12.250  -3.240  1.00 95.55           O  \\nATOM    572  N   GLU A  77     -15.192  13.766  -1.420  1.00 96.78           N  \\nATOM    573  CA  GLU A  77     -14.152  13.072  -0.665  1.00 96.78           C  \\nATOM    574  C   GLU A  77     -14.757  12.079   0.323  1.00 96.78           C  \\nATOM    575  CB  GLU A  77     -13.264  14.076   0.075  1.00 96.78           C  \\nATOM    576  O   GLU A  77     -15.941  12.168   0.654  1.00 96.78           O  \\nATOM    577  CG  GLU A  77     -12.418  14.944  -0.845  1.00 96.78           C  \\nATOM    578  CD  GLU A  77     -11.355  14.161  -1.599  1.00 96.78           C  \\nATOM    579  OE1 GLU A  77     -11.000  14.556  -2.733  1.00 96.78           O  \\nATOM    580  OE2 GLU A  77     -10.874  13.144  -1.052  1.00 96.78           O  \\nATOM    581  N   VAL A  78     -13.922  11.091   0.743  1.00 98.02           N  \\nATOM    582  CA  VAL A  78     -14.267  10.124   1.780  1.00 98.02           C  \\nATOM    583  C   VAL A  78     -13.334  10.295   2.977  1.00 98.02           C  \\nATOM    584  CB  VAL A  78     -14.195   8.674   1.252  1.00 98.02           C  \\nATOM    585  O   VAL A  78     -12.110  10.292   2.824  1.00 98.02           O  \\nATOM    586  CG1 VAL A  78     -14.494   7.676   2.369  1.00 98.02           C  \\nATOM    587  CG2 VAL A  78     -15.163   8.483   0.086  1.00 98.02           C  \\nATOM    588  N   SER A  79     -13.935  10.466   4.144  1.00 98.43           N  \\nATOM    589  CA  SER A  79     -13.150  10.724   5.347  1.00 98.43           C  \\nATOM    590  C   SER A  79     -12.832   9.430   6.088  1.00 98.43           C  \\nATOM    591  CB  SER A  79     -13.892  11.685   6.276  1.00 98.43           C  \\nATOM    592  O   SER A  79     -13.451   8.394   5.833  1.00 98.43           O  \\nATOM    593  OG  SER A  79     -15.070  11.084   6.785  1.00 98.43           O  \\nATOM    594  N   LEU A  80     -11.874   9.495   7.054  1.00 98.58           N  \\nATOM    595  CA  LEU A  80     -11.471   8.354   7.868  1.00 98.58           C  \\nATOM    596  C   LEU A  80     -12.643   7.835   8.694  1.00 98.58           C  \\nATOM    597  CB  LEU A  80     -10.311   8.736   8.791  1.00 98.58           C  \\nATOM    598  O   LEU A  80     -12.856   6.623   8.785  1.00 98.58           O  \\nATOM    599  CG  LEU A  80      -8.978   9.049   8.110  1.00 98.58           C  \\nATOM    600  CD1 LEU A  80      -7.948   9.498   9.142  1.00 98.58           C  \\nATOM    601  CD2 LEU A  80      -8.473   7.834   7.339  1.00 98.58           C  \\nATOM    602  N   PRO A  81     -13.454   8.720   9.360  1.00 98.38           N  \\nATOM    603  CA  PRO A  81     -14.603   8.221  10.119  1.00 98.38           C  \\nATOM    604  C   PRO A  81     -15.597   7.455   9.249  1.00 98.38           C  \\nATOM    605  CB  PRO A  81     -15.237   9.498  10.677  1.00 98.38           C  \\nATOM    606  O   PRO A  81     -16.167   6.455   9.692  1.00 98.38           O  \\nATOM    607  CG  PRO A  81     -14.100  10.456  10.826  1.00 98.38           C  \\nATOM    608  CD  PRO A  81     -13.169  10.276   9.661  1.00 98.38           C  \\nATOM    609  N   ILE A  82     -15.817   7.946   7.958  1.00 98.30           N  \\nATOM    610  CA  ILE A  82     -16.721   7.249   7.049  1.00 98.30           C  \\nATOM    611  C   ILE A  82     -16.188   5.846   6.767  1.00 98.30           C  \\nATOM    612  CB  ILE A  82     -16.904   8.029   5.727  1.00 98.30           C  \\nATOM    613  O   ILE A  82     -16.940   4.870   6.812  1.00 98.30           O  \\nATOM    614  CG1 ILE A  82     -17.709   9.310   5.970  1.00 98.30           C  \\nATOM    615  CG2 ILE A  82     -17.580   7.149   4.671  1.00 98.30           C  \\nATOM    616  CD1 ILE A  82     -17.747  10.254   4.776  1.00 98.30           C  \\nATOM    617  N   LEU A  83     -14.896   5.738   6.540  1.00 98.45           N  \\nATOM    618  CA  LEU A  83     -14.290   4.438   6.271  1.00 98.45           C  \\nATOM    619  C   LEU A  83     -14.375   3.535   7.497  1.00 98.45           C  \\nATOM    620  CB  LEU A  83     -12.829   4.606   5.847  1.00 98.45           C  \\nATOM    621  O   LEU A  83     -14.672   2.344   7.377  1.00 98.45           O  \\nATOM    622  CG  LEU A  83     -12.589   5.255   4.483  1.00 98.45           C  \\nATOM    623  CD1 LEU A  83     -11.097   5.473   4.255  1.00 98.45           C  \\nATOM    624  CD2 LEU A  83     -13.186   4.400   3.371  1.00 98.45           C  \\nATOM    625  N   LYS A  84     -14.046   4.069   8.668  1.00 97.98           N  \\nATOM    626  CA  LYS A  84     -14.148   3.295   9.902  1.00 97.98           C  \\nATOM    627  C   LYS A  84     -15.565   2.766  10.103  1.00 97.98           C  \\nATOM    628  CB  LYS A  84     -13.730   4.143  11.104  1.00 97.98           C  \\nATOM    629  O   LYS A  84     -15.754   1.602  10.462  1.00 97.98           O  \\nATOM    630  CG  LYS A  84     -13.505   3.342  12.378  1.00 97.98           C  \\nATOM    631  CD  LYS A  84     -12.303   2.415  12.252  1.00 97.98           C  \\nATOM    632  CE  LYS A  84     -12.024   1.679  13.555  1.00 97.98           C  \\nATOM    633  NZ  LYS A  84     -10.841   0.775  13.439  1.00 97.98           N  \\nATOM    634  N   ASP A  85     -16.551   3.635   9.871  1.00 97.99           N  \\nATOM    635  CA  ASP A  85     -17.956   3.259   9.994  1.00 97.99           C  \\nATOM    636  C   ASP A  85     -18.309   2.131   9.027  1.00 97.99           C  \\nATOM    637  CB  ASP A  85     -18.860   4.468   9.745  1.00 97.99           C  \\nATOM    638  O   ASP A  85     -19.107   1.251   9.356  1.00 97.99           O  \\nATOM    639  CG  ASP A  85     -20.337   4.140   9.869  1.00 97.99           C  \\nATOM    640  OD1 ASP A  85     -20.782   3.734  10.964  1.00 97.99           O  \\nATOM    641  OD2 ASP A  85     -21.063   4.285   8.861  1.00 97.99           O  \\nATOM    642  N   PHE A  86     -17.650   2.125   7.874  1.00 97.85           N  \\nATOM    643  CA  PHE A  86     -17.918   1.145   6.829  1.00 97.85           C  \\nATOM    644  C   PHE A  86     -17.221  -0.176   7.134  1.00 97.85           C  \\nATOM    645  CB  PHE A  86     -17.466   1.674   5.465  1.00 97.85           C  \\nATOM    646  O   PHE A  86     -17.505  -1.194   6.500  1.00 97.85           O  \\nATOM    647  CG  PHE A  86     -17.955   0.854   4.302  1.00 97.85           C  \\nATOM    648  CD1 PHE A  86     -17.111  -0.047   3.665  1.00 97.85           C  \\nATOM    649  CD2 PHE A  86     -19.261   0.983   3.847  1.00 97.85           C  \\nATOM    650  CE1 PHE A  86     -17.562  -0.808   2.589  1.00 97.85           C  \\nATOM    651  CE2 PHE A  86     -19.718   0.226   2.772  1.00 97.85           C  \\nATOM    652  CZ  PHE A  86     -18.867  -0.668   2.144  1.00 97.85           C  \\nATOM    653  N   GLY A  87     -16.250  -0.188   8.078  1.00 96.91           N  \\nATOM    654  CA  GLY A  87     -15.552  -1.398   8.482  1.00 96.91           C  \\nATOM    655  C   GLY A  87     -14.234  -1.597   7.758  1.00 96.91           C  \\nATOM    656  O   GLY A  87     -13.733  -2.720   7.667  1.00 96.91           O  \\nATOM    657  N   VAL A  88     -13.708  -0.573   7.112  1.00 98.10           N  \\nATOM    658  CA  VAL A  88     -12.395  -0.614   6.475  1.00 98.10           C  \\nATOM    659  C   VAL A  88     -11.314  -0.266   7.496  1.00 98.10           C  \\nATOM    660  CB  VAL A  88     -12.319   0.349   5.269  1.00 98.10           C  \\nATOM    661  O   VAL A  88     -11.445   0.709   8.240  1.00 98.10           O  \\nATOM    662  CG1 VAL A  88     -10.905   0.382   4.692  1.00 98.10           C  \\nATOM    663  CG2 VAL A  88     -13.328  -0.058   4.197  1.00 98.10           C  \\nATOM    664  N   ASN A  89     -10.181  -1.024   7.476  1.00 97.22           N  \\nATOM    665  CA  ASN A  89      -9.151  -0.819   8.489  1.00 97.22           C  \\nATOM    666  C   ASN A  89      -7.782  -0.587   7.858  1.00 97.22           C  \\nATOM    667  CB  ASN A  89      -9.099  -2.009   9.450  1.00 97.22           C  \\nATOM    668  O   ASN A  89      -6.803  -0.338   8.563  1.00 97.22           O  \\nATOM    669  CG  ASN A  89     -10.372  -2.164  10.258  1.00 97.22           C  \\nATOM    670  ND2 ASN A  89     -10.967  -3.349  10.206  1.00 97.22           N  \\nATOM    671  OD1 ASN A  89     -10.816  -1.225  10.924  1.00 97.22           O  \\nATOM    672  N   TRP A  90      -7.661  -0.746   6.574  1.00 98.79           N  \\nATOM    673  CA  TRP A  90      -6.432  -0.527   5.817  1.00 98.79           C  \\nATOM    674  C   TRP A  90      -6.611   0.597   4.802  1.00 98.79           C  \\nATOM    675  CB  TRP A  90      -6.004  -1.813   5.104  1.00 98.79           C  \\nATOM    676  O   TRP A  90      -7.691   0.757   4.227  1.00 98.79           O  \\nATOM    677  CG  TRP A  90      -5.430  -2.854   6.018  1.00 98.79           C  \\nATOM    678  CD1 TRP A  90      -6.105  -3.596   6.947  1.00 98.79           C  \\nATOM    679  CD2 TRP A  90      -4.062  -3.264   6.093  1.00 98.79           C  \\nATOM    680  CE2 TRP A  90      -3.978  -4.261   7.090  1.00 98.79           C  \\nATOM    681  CE3 TRP A  90      -2.897  -2.886   5.412  1.00 98.79           C  \\nATOM    682  NE1 TRP A  90      -5.237  -4.444   7.595  1.00 98.79           N  \\nATOM    683  CH2 TRP A  90      -1.649  -4.496   6.742  1.00 98.79           C  \\nATOM    684  CZ2 TRP A  90      -2.773  -4.885   7.423  1.00 98.79           C  \\nATOM    685  CZ3 TRP A  90      -1.699  -3.508   5.745  1.00 98.79           C  \\nATOM    686  N   ILE A  91      -5.507   1.345   4.558  1.00 98.78           N  \\nATOM    687  CA  ILE A  91      -5.603   2.434   3.592  1.00 98.78           C  \\nATOM    688  C   ILE A  91      -4.241   2.671   2.945  1.00 98.78           C  \\nATOM    689  CB  ILE A  91      -6.115   3.733   4.254  1.00 98.78           C  \\nATOM    690  O   ILE A  91      -3.203   2.507   3.590  1.00 98.78           O  \\nATOM    691  CG1 ILE A  91      -6.294   4.833   3.202  1.00 98.78           C  \\nATOM    692  CG2 ILE A  91      -5.162   4.186   5.364  1.00 98.78           C  \\nATOM    693  CD1 ILE A  91      -7.084   6.039   3.694  1.00 98.78           C  \\nATOM    694  N   VAL A  92      -4.261   2.919   1.640  1.00 98.85           N  \\nATOM    695  CA  VAL A  92      -3.079   3.337   0.894  1.00 98.85           C  \\nATOM    696  C   VAL A  92      -3.016   4.862   0.838  1.00 98.85           C  \\nATOM    697  CB  VAL A  92      -3.074   2.751  -0.536  1.00 98.85           C  \\nATOM    698  O   VAL A  92      -3.976   5.515   0.421  1.00 98.85           O  \\nATOM    699  CG1 VAL A  92      -1.829   3.200  -1.299  1.00 98.85           C  \\nATOM    700  CG2 VAL A  92      -3.154   1.227  -0.487  1.00 98.85           C  \\nATOM    701  N   LEU A  93      -1.880   5.454   1.228  1.00 98.82           N  \\nATOM    702  CA  LEU A  93      -1.732   6.905   1.224  1.00 98.82           C  \\nATOM    703  C   LEU A  93      -0.400   7.313   0.603  1.00 98.82           C  \\nATOM    704  CB  LEU A  93      -1.836   7.460   2.647  1.00 98.82           C  \\nATOM    705  O   LEU A  93       0.598   6.602   0.741  1.00 98.82           O  \\nATOM    706  CG  LEU A  93      -3.188   7.293   3.342  1.00 98.82           C  \\nATOM    707  CD1 LEU A  93      -3.108   7.787   4.782  1.00 98.82           C  \\nATOM    708  CD2 LEU A  93      -4.278   8.036   2.576  1.00 98.82           C  \\nATOM    709  N   GLY A  94      -0.425   8.361  -0.087  1.00 98.24           N  \\nATOM    710  CA  GLY A  94       0.791   8.920  -0.657  1.00 98.24           C  \\nATOM    711  C   GLY A  94       1.216   8.236  -1.943  1.00 98.24           C  \\nATOM    712  O   GLY A  94       2.406   8.179  -2.258  1.00 98.24           O  \\nATOM    713  N   HIS A  95       0.202   7.588  -2.556  1.00 98.09           N  \\nATOM    714  CA  HIS A  95       0.542   6.949  -3.822  1.00 98.09           C  \\nATOM    715  C   HIS A  95       1.055   7.969  -4.833  1.00 98.09           C  \\nATOM    716  CB  HIS A  95      -0.670   6.210  -4.392  1.00 98.09           C  \\nATOM    717  O   HIS A  95       0.601   9.116  -4.850  1.00 98.09           O  \\nATOM    718  CG  HIS A  95      -0.334   5.282  -5.516  1.00 98.09           C  \\nATOM    719  CD2 HIS A  95       0.112   4.004  -5.510  1.00 98.09           C  \\nATOM    720  ND1 HIS A  95      -0.443   5.648  -6.840  1.00 98.09           N  \\nATOM    721  CE1 HIS A  95      -0.078   4.631  -7.602  1.00 98.09           C  \\nATOM    722  NE2 HIS A  95       0.264   3.621  -6.820  1.00 98.09           N  \\nATOM    723  N   SER A  96       2.092   7.571  -5.680  1.00 96.87           N  \\nATOM    724  CA  SER A  96       2.773   8.477  -6.599  1.00 96.87           C  \\nATOM    725  C   SER A  96       1.783   9.168  -7.530  1.00 96.87           C  \\nATOM    726  CB  SER A  96       3.818   7.721  -7.422  1.00 96.87           C  \\nATOM    727  O   SER A  96       1.973  10.330  -7.895  1.00 96.87           O  \\nATOM    728  OG  SER A  96       3.203   6.723  -8.219  1.00 96.87           O  \\nATOM    729  N   GLU A  97       0.664   8.507  -7.907  1.00 96.35           N  \\nATOM    730  CA  GLU A  97      -0.331   9.101  -8.796  1.00 96.35           C  \\nATOM    731  C   GLU A  97      -1.040  10.274  -8.124  1.00 96.35           C  \\nATOM    732  CB  GLU A  97      -1.353   8.051  -9.238  1.00 96.35           C  \\nATOM    733  O   GLU A  97      -1.301  11.296  -8.762  1.00 96.35           O  \\nATOM    734  CG  GLU A  97      -0.785   6.997 -10.176  1.00 96.35           C  \\nATOM    735  CD  GLU A  97      -1.671   5.768 -10.305  1.00 96.35           C  \\nATOM    736  OE1 GLU A  97      -1.375   4.892 -11.148  1.00 96.35           O  \\nATOM    737  OE2 GLU A  97      -2.670   5.681  -9.556  1.00 96.35           O  \\nATOM    738  N   ARG A  98      -1.330  10.151  -6.786  1.00 97.46           N  \\nATOM    739  CA  ARG A  98      -1.973  11.249  -6.071  1.00 97.46           C  \\nATOM    740  C   ARG A  98      -1.022  12.431  -5.915  1.00 97.46           C  \\nATOM    741  CB  ARG A  98      -2.461  10.785  -4.697  1.00 97.46           C  \\nATOM    742  O   ARG A  98      -1.442  13.588  -5.993  1.00 97.46           O  \\nATOM    743  CG  ARG A  98      -3.600   9.779  -4.756  1.00 97.46           C  \\nATOM    744  CD  ARG A  98      -4.440   9.804  -3.487  1.00 97.46           C  \\nATOM    745  NE  ARG A  98      -4.985  11.134  -3.228  1.00 97.46           N  \\nATOM    746  NH1 ARG A  98      -6.869  10.843  -4.533  1.00 97.46           N  \\nATOM    747  NH2 ARG A  98      -6.529  12.822  -3.429  1.00 97.46           N  \\nATOM    748  CZ  ARG A  98      -6.127  11.596  -3.731  1.00 97.46           C  \\nATOM    749  N   ARG A  99       0.282  12.083  -5.703  1.00 97.61           N  \\nATOM    750  CA  ARG A  99       1.273  13.151  -5.622  1.00 97.61           C  \\nATOM    751  C   ARG A  99       1.390  13.891  -6.950  1.00 97.61           C  \\nATOM    752  CB  ARG A  99       2.636  12.590  -5.212  1.00 97.61           C  \\nATOM    753  O   ARG A  99       1.437  15.123  -6.978  1.00 97.61           O  \\nATOM    754  CG  ARG A  99       2.669  12.019  -3.803  1.00 97.61           C  \\nATOM    755  CD  ARG A  99       4.029  11.422  -3.469  1.00 97.61           C  \\nATOM    756  NE  ARG A  99       4.043  10.829  -2.134  1.00 97.61           N  \\nATOM    757  NH1 ARG A  99       4.344  12.833  -1.023  1.00 97.61           N  \\nATOM    758  NH2 ARG A  99       4.191  10.873   0.157  1.00 97.61           N  \\nATOM    759  CZ  ARG A  99       4.193  11.513  -1.003  1.00 97.61           C  \\nATOM    760  N   ALA A 100       1.316  13.170  -8.078  1.00 95.81           N  \\nATOM    761  CA  ALA A 100       1.541  13.726  -9.410  1.00 95.81           C  \\nATOM    762  C   ALA A 100       0.307  14.473  -9.908  1.00 95.81           C  \\nATOM    763  CB  ALA A 100       1.923  12.621 -10.391  1.00 95.81           C  \\nATOM    764  O   ALA A 100       0.417  15.577 -10.446  1.00 95.81           O  \\nATOM    765  N   TYR A 101      -0.906  13.888  -9.653  1.00 97.23           N  \\nATOM    766  CA  TYR A 101      -2.092  14.415 -10.319  1.00 97.23           C  \\nATOM    767  C   TYR A 101      -2.874  15.337  -9.391  1.00 97.23           C  \\nATOM    768  CB  TYR A 101      -2.991  13.272 -10.800  1.00 97.23           C  \\nATOM    769  O   TYR A 101      -3.606  16.216  -9.852  1.00 97.23           O  \\nATOM    770  CG  TYR A 101      -2.308  12.323 -11.754  1.00 97.23           C  \\nATOM    771  CD1 TYR A 101      -1.445  12.796 -12.740  1.00 97.23           C  \\nATOM    772  CD2 TYR A 101      -2.525  10.951 -11.672  1.00 97.23           C  \\nATOM    773  CE1 TYR A 101      -0.814  11.924 -13.622  1.00 97.23           C  \\nATOM    774  CE2 TYR A 101      -1.900  10.071 -12.550  1.00 97.23           C  \\nATOM    775  OH  TYR A 101      -0.427   9.699 -14.390  1.00 97.23           O  \\nATOM    776  CZ  TYR A 101      -1.048  10.566 -13.519  1.00 97.23           C  \\nATOM    777  N   TYR A 102      -2.623  15.144  -8.052  1.00 96.91           N  \\nATOM    778  CA  TYR A 102      -3.501  15.862  -7.135  1.00 96.91           C  \\nATOM    779  C   TYR A 102      -2.694  16.682  -6.137  1.00 96.91           C  \\nATOM    780  CB  TYR A 102      -4.415  14.884  -6.390  1.00 96.91           C  \\nATOM    781  O   TYR A 102      -3.242  17.194  -5.158  1.00 96.91           O  \\nATOM    782  CG  TYR A 102      -5.341  14.108  -7.295  1.00 96.91           C  \\nATOM    783  CD1 TYR A 102      -6.534  14.666  -7.747  1.00 96.91           C  \\nATOM    784  CD2 TYR A 102      -5.024  12.816  -7.699  1.00 96.91           C  \\nATOM    785  CE1 TYR A 102      -7.391  13.954  -8.580  1.00 96.91           C  \\nATOM    786  CE2 TYR A 102      -5.873  12.094  -8.532  1.00 96.91           C  \\nATOM    787  OH  TYR A 102      -7.897  11.961  -9.791  1.00 96.91           O  \\nATOM    788  CZ  TYR A 102      -7.053  12.671  -8.967  1.00 96.91           C  \\nATOM    789  N   GLY A 103      -1.344  16.664  -6.289  1.00 97.67           N  \\nATOM    790  CA  GLY A 103      -0.467  17.578  -5.573  1.00 97.67           C  \\nATOM    791  C   GLY A 103      -0.319  17.234  -4.103  1.00 97.67           C  \\nATOM    792  O   GLY A 103      -0.196  18.127  -3.261  1.00 97.67           O  \\nATOM    793  N   GLU A 104      -0.363  16.045  -3.741  1.00 98.10           N  \\nATOM    794  CA  GLU A 104      -0.131  15.666  -2.350  1.00 98.10           C  \\nATOM    795  C   GLU A 104       1.346  15.787  -1.985  1.00 98.10           C  \\nATOM    796  CB  GLU A 104      -0.622  14.239  -2.092  1.00 98.10           C  \\nATOM    797  O   GLU A 104       2.177  15.018  -2.473  1.00 98.10           O  \\nATOM    798  CG  GLU A 104      -2.135  14.090  -2.149  1.00 98.10           C  \\nATOM    799  CD  GLU A 104      -2.625  12.744  -1.638  1.00 98.10           C  \\nATOM    800  OE1 GLU A 104      -3.852  12.574  -1.457  1.00 98.10           O  \\nATOM    801  OE2 GLU A 104      -1.774  11.854  -1.416  1.00 98.10           O  \\nATOM    802  N   THR A 105       1.611  16.758  -1.212  1.00 98.42           N  \\nATOM    803  CA  THR A 105       2.969  17.048  -0.764  1.00 98.42           C  \\nATOM    804  C   THR A 105       3.374  16.115   0.374  1.00 98.42           C  \\nATOM    805  CB  THR A 105       3.105  18.511  -0.305  1.00 98.42           C  \\nATOM    806  O   THR A 105       2.536  15.395   0.921  1.00 98.42           O  \\nATOM    807  CG2 THR A 105       2.672  19.475  -1.405  1.00 98.42           C  \\nATOM    808  OG1 THR A 105       2.284  18.722   0.850  1.00 98.42           O  \\nATOM    809  N   ASN A 106       4.697  16.130   0.772  1.00 98.56           N  \\nATOM    810  CA  ASN A 106       5.171  15.362   1.919  1.00 98.56           C  \\nATOM    811  C   ASN A 106       4.378  15.691   3.180  1.00 98.56           C  \\nATOM    812  CB  ASN A 106       6.663  15.608   2.151  1.00 98.56           C  \\nATOM    813  O   ASN A 106       4.027  14.794   3.949  1.00 98.56           O  \\nATOM    814  CG  ASN A 106       7.527  15.048   1.038  1.00 98.56           C  \\nATOM    815  ND2 ASN A 106       8.734  15.585   0.897  1.00 98.56           N  \\nATOM    816  OD1 ASN A 106       7.114  14.141   0.311  1.00 98.56           O  \\nATOM    817  N   GLU A 107       4.057  16.932   3.344  1.00 98.46           N  \\nATOM    818  CA  GLU A 107       3.346  17.378   4.538  1.00 98.46           C  \\nATOM    819  C   GLU A 107       1.900  16.888   4.534  1.00 98.46           C  \\nATOM    820  CB  GLU A 107       3.384  18.904   4.649  1.00 98.46           C  \\nATOM    821  O   GLU A 107       1.384  16.455   5.566  1.00 98.46           O  \\nATOM    822  CG  GLU A 107       4.758  19.462   4.988  1.00 98.46           C  \\nATOM    823  CD  GLU A 107       5.728  19.419   3.818  1.00 98.46           C  \\nATOM    824  OE1 GLU A 107       6.957  19.499   4.045  1.00 98.46           O  \\nATOM    825  OE2 GLU A 107       5.256  19.306   2.665  1.00 98.46           O  \\nATOM    826  N   ILE A 108       1.270  16.904   3.374  1.00 98.41           N  \\nATOM    827  CA  ILE A 108      -0.109  16.440   3.274  1.00 98.41           C  \\nATOM    828  C   ILE A 108      -0.171  14.941   3.558  1.00 98.41           C  \\nATOM    829  CB  ILE A 108      -0.710  16.748   1.884  1.00 98.41           C  \\nATOM    830  O   ILE A 108      -1.009  14.485   4.339  1.00 98.41           O  \\nATOM    831  CG1 ILE A 108      -0.963  18.252   1.733  1.00 98.41           C  \\nATOM    832  CG2 ILE A 108      -1.999  15.951   1.665  1.00 98.41           C  \\nATOM    833  CD1 ILE A 108      -1.387  18.671   0.332  1.00 98.41           C  \\nATOM    834  N   VAL A 109       0.698  14.225   2.967  1.00 98.70           N  \\nATOM    835  CA  VAL A 109       0.733  12.779   3.162  1.00 98.70           C  \\nATOM    836  C   VAL A 109       1.033  12.462   4.626  1.00 98.70           C  \\nATOM    837  CB  VAL A 109       1.780  12.108   2.246  1.00 98.70           C  \\nATOM    838  O   VAL A 109       0.383  11.604   5.227  1.00 98.70           O  \\nATOM    839  CG1 VAL A 109       1.950  10.634   2.610  1.00 98.70           C  \\nATOM    840  CG2 VAL A 109       1.379  12.256   0.780  1.00 98.70           C  \\nATOM    841  N   ALA A 110       1.990  13.167   5.220  1.00 98.74           N  \\nATOM    842  CA  ALA A 110       2.342  12.962   6.623  1.00 98.74           C  \\nATOM    843  C   ALA A 110       1.143  13.216   7.532  1.00 98.74           C  \\nATOM    844  CB  ALA A 110       3.506  13.868   7.017  1.00 98.74           C  \\nATOM    845  O   ALA A 110       0.885  12.446   8.460  1.00 98.74           O  \\nATOM    846  N   ASP A 111       0.365  14.275   7.253  1.00 98.67           N  \\nATOM    847  CA  ASP A 111      -0.826  14.587   8.037  1.00 98.67           C  \\nATOM    848  C   ASP A 111      -1.880  13.491   7.895  1.00 98.67           C  \\nATOM    849  CB  ASP A 111      -1.410  15.936   7.613  1.00 98.67           C  \\nATOM    850  O   ASP A 111      -2.498  13.085   8.882  1.00 98.67           O  \\nATOM    851  CG  ASP A 111      -0.577  17.117   8.081  1.00 98.67           C  \\nATOM    852  OD1 ASP A 111       0.241  16.954   9.013  1.00 98.67           O  \\nATOM    853  OD2 ASP A 111      -0.742  18.219   7.516  1.00 98.67           O  \\nATOM    854  N   LYS A 112      -2.033  13.006   6.714  1.00 98.71           N  \\nATOM    855  CA  LYS A 112      -3.006  11.943   6.481  1.00 98.71           C  \\nATOM    856  C   LYS A 112      -2.600  10.659   7.198  1.00 98.71           C  \\nATOM    857  CB  LYS A 112      -3.165  11.679   4.983  1.00 98.71           C  \\nATOM    858  O   LYS A 112      -3.432  10.004   7.829  1.00 98.71           O  \\nATOM    859  CG  LYS A 112      -3.921  12.771   4.239  1.00 98.71           C  \\nATOM    860  CD  LYS A 112      -4.112  12.416   2.770  1.00 98.71           C  \\nATOM    861  CE  LYS A 112      -4.997  13.431   2.060  1.00 98.71           C  \\nATOM    862  NZ  LYS A 112      -5.185  13.089   0.618  1.00 98.71           N  \\nATOM    863  N   VAL A 113      -1.324  10.334   7.064  1.00 98.83           N  \\nATOM    864  CA  VAL A 113      -0.822   9.123   7.706  1.00 98.83           C  \\nATOM    865  C   VAL A 113      -1.011   9.223   9.217  1.00 98.83           C  \\nATOM    866  CB  VAL A 113       0.667   8.878   7.370  1.00 98.83           C  \\nATOM    867  O   VAL A 113      -1.510   8.289   9.850  1.00 98.83           O  \\nATOM    868  CG1 VAL A 113       1.250   7.787   8.266  1.00 98.83           C  \\nATOM    869  CG2 VAL A 113       0.827   8.507   5.897  1.00 98.83           C  \\nATOM    870  N   ALA A 114      -0.644  10.307   9.771  1.00 98.79           N  \\nATOM    871  CA  ALA A 114      -0.766  10.498  11.214  1.00 98.79           C  \\nATOM    872  C   ALA A 114      -2.222  10.398  11.659  1.00 98.79           C  \\nATOM    873  CB  ALA A 114      -0.179  11.847  11.623  1.00 98.79           C  \\nATOM    874  O   ALA A 114      -2.531   9.729  12.648  1.00 98.79           O  \\nATOM    875  N   ALA A 115      -3.075  11.010  10.926  1.00 98.70           N  \\nATOM    876  CA  ALA A 115      -4.497  10.980  11.257  1.00 98.70           C  \\nATOM    877  C   ALA A 115      -5.057   9.565  11.142  1.00 98.70           C  \\nATOM    878  CB  ALA A 115      -5.274  11.932  10.350  1.00 98.70           C  \\nATOM    879  O   ALA A 115      -5.818   9.120  12.005  1.00 98.70           O  \\nATOM    880  N   ALA A 116      -4.690   8.863  10.139  1.00 98.81           N  \\nATOM    881  CA  ALA A 116      -5.166   7.499   9.923  1.00 98.81           C  \\nATOM    882  C   ALA A 116      -4.682   6.567  11.030  1.00 98.81           C  \\nATOM    883  CB  ALA A 116      -4.706   6.985   8.561  1.00 98.81           C  \\nATOM    884  O   ALA A 116      -5.464   5.790  11.583  1.00 98.81           O  \\nATOM    885  N   VAL A 117      -3.405   6.681  11.345  1.00 98.77           N  \\nATOM    886  CA  VAL A 117      -2.834   5.852  12.401  1.00 98.77           C  \\nATOM    887  C   VAL A 117      -3.527   6.155  13.727  1.00 98.77           C  \\nATOM    888  CB  VAL A 117      -1.310   6.071  12.533  1.00 98.77           C  \\nATOM    889  O   VAL A 117      -3.895   5.239  14.467  1.00 98.77           O  \\nATOM    890  CG1 VAL A 117      -0.790   5.473  13.839  1.00 98.77           C  \\nATOM    891  CG2 VAL A 117      -0.579   5.468  11.336  1.00 98.77           C  \\nATOM    892  N   ALA A 118      -3.749   7.413  13.995  1.00 98.43           N  \\nATOM    893  CA  ALA A 118      -4.408   7.827  15.230  1.00 98.43           C  \\nATOM    894  C   ALA A 118      -5.835   7.290  15.297  1.00 98.43           C  \\nATOM    895  CB  ALA A 118      -4.410   9.349  15.348  1.00 98.43           C  \\nATOM    896  O   ALA A 118      -6.371   7.066  16.385  1.00 98.43           O  \\nATOM    897  N   SER A 119      -6.388   7.033  14.150  1.00 98.25           N  \\nATOM    898  CA  SER A 119      -7.763   6.550  14.077  1.00 98.25           C  \\nATOM    899  C   SER A 119      -7.812   5.026  14.030  1.00 98.25           C  \\nATOM    900  CB  SER A 119      -8.471   7.129  12.852  1.00 98.25           C  \\nATOM    901  O   SER A 119      -8.871   4.441  13.795  1.00 98.25           O  \\nATOM    902  OG  SER A 119      -8.611   8.535  12.969  1.00 98.25           O  \\nATOM    903  N   GLY A 120      -6.581   4.353  14.089  1.00 98.25           N  \\nATOM    904  CA  GLY A 120      -6.541   2.906  14.230  1.00 98.25           C  \\nATOM    905  C   GLY A 120      -6.385   2.182  12.907  1.00 98.25           C  \\nATOM    906  O   GLY A 120      -6.545   0.961  12.838  1.00 98.25           O  \\nATOM    907  N   PHE A 121      -6.097   2.844  11.810  1.00 98.80           N  \\nATOM    908  CA  PHE A 121      -5.932   2.222  10.502  1.00 98.80           C  \\nATOM    909  C   PHE A 121      -4.528   1.651  10.347  1.00 98.80           C  \\nATOM    910  CB  PHE A 121      -6.214   3.233   9.385  1.00 98.80           C  \\nATOM    911  O   PHE A 121      -3.565   2.204  10.881  1.00 98.80           O  \\nATOM    912  CG  PHE A 121      -7.671   3.576   9.230  1.00 98.80           C  \\nATOM    913  CD1 PHE A 121      -8.493   2.818   8.404  1.00 98.80           C  \\nATOM    914  CD2 PHE A 121      -8.219   4.656   9.909  1.00 98.80           C  \\nATOM    915  CE1 PHE A 121      -9.842   3.133   8.258  1.00 98.80           C  \\nATOM    916  CE2 PHE A 121      -9.566   4.976   9.768  1.00 98.80           C  \\nATOM    917  CZ  PHE A 121     -10.376   4.214   8.942  1.00 98.80           C  \\nATOM    918  N   MET A 122      -4.426   0.498   9.668  1.00 98.83           N  \\nATOM    919  CA  MET A 122      -3.168   0.099   9.043  1.00 98.83           C  \\nATOM    920  C   MET A 122      -2.911   0.904   7.773  1.00 98.83           C  \\nATOM    921  CB  MET A 122      -3.178  -1.396   8.720  1.00 98.83           C  \\nATOM    922  O   MET A 122      -3.782   0.999   6.906  1.00 98.83           O  \\nATOM    923  CG  MET A 122      -3.316  -2.286   9.945  1.00 98.83           C  \\nATOM    924  SD  MET A 122      -1.895  -2.126  11.095  1.00 98.83           S  \\nATOM    925  CE  MET A 122      -0.568  -2.804  10.060  1.00 98.83           C  \\nATOM    926  N   VAL A 123      -1.723   1.531   7.682  1.00 98.89           N  \\nATOM    927  CA  VAL A 123      -1.479   2.433   6.561  1.00 98.89           C  \\nATOM    928  C   VAL A 123      -0.347   1.886   5.694  1.00 98.89           C  \\nATOM    929  CB  VAL A 123      -1.138   3.860   7.045  1.00 98.89           C  \\nATOM    930  O   VAL A 123       0.726   1.552   6.202  1.00 98.89           O  \\nATOM    931  CG1 VAL A 123      -0.827   4.773   5.860  1.00 98.89           C  \\nATOM    932  CG2 VAL A 123      -2.286   4.430   7.876  1.00 98.89           C  \\nATOM    933  N   ILE A 124      -0.611   1.696   4.387  1.00 98.91           N  \\nATOM    934  CA  ILE A 124       0.445   1.549   3.391  1.00 98.91           C  \\nATOM    935  C   ILE A 124       0.859   2.924   2.871  1.00 98.91           C  \\nATOM    936  CB  ILE A 124      -0.003   0.646   2.220  1.00 98.91           C  \\nATOM    937  O   ILE A 124       0.142   3.535   2.074  1.00 98.91           O  \\nATOM    938  CG1 ILE A 124      -0.430  -0.731   2.742  1.00 98.91           C  \\nATOM    939  CG2 ILE A 124       1.114   0.515   1.181  1.00 98.91           C  \\nATOM    940  CD1 ILE A 124      -1.061  -1.625   1.684  1.00 98.91           C  \\nATOM    941  N   ALA A 125       1.966   3.458   3.423  1.00 98.85           N  \\nATOM    942  CA  ALA A 125       2.486   4.767   3.034  1.00 98.85           C  \\nATOM    943  C   ALA A 125       3.451   4.646   1.858  1.00 98.85           C  \\nATOM    944  CB  ALA A 125       3.176   5.439   4.218  1.00 98.85           C  \\nATOM    945  O   ALA A 125       4.496   4.001   1.969  1.00 98.85           O  \\nATOM    946  N   CYS A 126       3.101   5.276   0.759  1.00 98.73           N  \\nATOM    947  CA  CYS A 126       3.871   5.138  -0.472  1.00 98.73           C  \\nATOM    948  C   CYS A 126       4.898   6.257  -0.602  1.00 98.73           C  \\nATOM    949  CB  CYS A 126       2.943   5.142  -1.687  1.00 98.73           C  \\nATOM    950  O   CYS A 126       4.577   7.428  -0.393  1.00 98.73           O  \\nATOM    951  SG  CYS A 126       1.676   3.856  -1.640  1.00 98.73           S  \\nATOM    952  N   ILE A 127       6.113   5.859  -0.962  1.00 98.51           N  \\nATOM    953  CA  ILE A 127       7.217   6.781  -1.207  1.00 98.51           C  \\nATOM    954  C   ILE A 127       7.995   6.336  -2.444  1.00 98.51           C  \\nATOM    955  CB  ILE A 127       8.159   6.872   0.014  1.00 98.51           C  \\nATOM    956  O   ILE A 127       7.922   5.172  -2.845  1.00 98.51           O  \\nATOM    957  CG1 ILE A 127       8.826   5.518   0.277  1.00 98.51           C  \\nATOM    958  CG2 ILE A 127       7.394   7.356   1.250  1.00 98.51           C  \\nATOM    959  CD1 ILE A 127       9.923   5.562   1.332  1.00 98.51           C  \\nATOM    960  N   GLY A 128       8.727   7.302  -3.021  1.00 96.80           N  \\nATOM    961  CA  GLY A 128       9.522   6.953  -4.188  1.00 96.80           C  \\nATOM    962  C   GLY A 128       9.916   8.157  -5.023  1.00 96.80           C  \\nATOM    963  O   GLY A 128       9.427   9.265  -4.793  1.00 96.80           O  \\nATOM    964  N   GLU A 129      10.783   7.962  -5.861  1.00 95.37           N  \\nATOM    965  CA  GLU A 129      11.347   9.044  -6.663  1.00 95.37           C  \\nATOM    966  C   GLU A 129      10.925   8.925  -8.125  1.00 95.37           C  \\nATOM    967  CB  GLU A 129      12.874   9.054  -6.556  1.00 95.37           C  \\nATOM    968  O   GLU A 129      10.619   7.829  -8.600  1.00 95.37           O  \\nATOM    969  CG  GLU A 129      13.557   7.992  -7.405  1.00 95.37           C  \\nATOM    970  CD  GLU A 129      13.479   6.599  -6.800  1.00 95.37           C  \\nATOM    971  OE1 GLU A 129      14.091   5.660  -7.358  1.00 95.37           O  \\nATOM    972  OE2 GLU A 129      12.800   6.445  -5.760  1.00 95.37           O  \\nATOM    973  N   THR A 130      10.904  10.036  -8.831  1.00 93.36           N  \\nATOM    974  CA  THR A 130      10.634  10.061 -10.264  1.00 93.36           C  \\nATOM    975  C   THR A 130      11.870   9.644 -11.055  1.00 93.36           C  \\nATOM    976  CB  THR A 130      10.175  11.458 -10.722  1.00 93.36           C  \\nATOM    977  O   THR A 130      12.961   9.521 -10.493  1.00 93.36           O  \\nATOM    978  CG2 THR A 130       8.980  11.940  -9.905  1.00 93.36           C  \\nATOM    979  OG1 THR A 130      11.255  12.386 -10.561  1.00 93.36           O  \\nATOM    980  N   LEU A 131      11.695   9.462 -12.425  1.00 89.52           N  \\nATOM    981  CA  LEU A 131      12.804   9.116 -13.307  1.00 89.52           C  \\nATOM    982  C   LEU A 131      13.869  10.208 -13.295  1.00 89.52           C  \\nATOM    983  CB  LEU A 131      12.303   8.892 -14.736  1.00 89.52           C  \\nATOM    984  O   LEU A 131      15.063   9.916 -13.207  1.00 89.52           O  \\nATOM    985  CG  LEU A 131      13.355   8.483 -15.768  1.00 89.52           C  \\nATOM    986  CD1 LEU A 131      14.043   7.191 -15.340  1.00 89.52           C  \\nATOM    987  CD2 LEU A 131      12.721   8.327 -17.146  1.00 89.52           C  \\nATOM    988  N   GLN A 132      13.394  11.370 -13.315  1.00 92.35           N  \\nATOM    989  CA  GLN A 132      14.304  12.511 -13.320  1.00 92.35           C  \\nATOM    990  C   GLN A 132      15.146  12.548 -12.048  1.00 92.35           C  \\nATOM    991  CB  GLN A 132      13.525  13.818 -13.473  1.00 92.35           C  \\nATOM    992  O   GLN A 132      16.357  12.775 -12.105  1.00 92.35           O  \\nATOM    993  CG  GLN A 132      14.410  15.052 -13.588  1.00 92.35           C  \\nATOM    994  CD  GLN A 132      13.614  16.341 -13.663  1.00 92.35           C  \\nATOM    995  NE2 GLN A 132      14.301  17.448 -13.924  1.00 92.35           N  \\nATOM    996  OE1 GLN A 132      12.391  16.342 -13.488  1.00 92.35           O  \\nATOM    997  N   GLU A 133      14.571  12.327 -10.958  1.00 94.85           N  \\nATOM    998  CA  GLU A 133      15.258  12.337  -9.669  1.00 94.85           C  \\nATOM    999  C   GLU A 133      16.258  11.189  -9.567  1.00 94.85           C  \\nATOM   1000  CB  GLU A 133      14.248  12.259  -8.521  1.00 94.85           C  \\nATOM   1001  O   GLU A 133      17.361  11.364  -9.046  1.00 94.85           O  \\nATOM   1002  CG  GLU A 133      13.416  13.521  -8.346  1.00 94.85           C  \\nATOM   1003  CD  GLU A 133      12.150  13.298  -7.534  1.00 94.85           C  \\nATOM   1004  OE1 GLU A 133      11.527  14.291  -7.095  1.00 94.85           O  \\nATOM   1005  OE2 GLU A 133      11.779  12.119  -7.335  1.00 94.85           O  \\nATOM   1006  N   ARG A 134      15.859  10.103 -10.046  1.00 91.78           N  \\nATOM   1007  CA  ARG A 134      16.785   8.976 -10.063  1.00 91.78           C  \\nATOM   1008  C   ARG A 134      18.004   9.281 -10.928  1.00 91.78           C  \\nATOM   1009  CB  ARG A 134      16.086   7.713 -10.571  1.00 91.78           C  \\nATOM   1010  O   ARG A 134      19.142   9.078 -10.501  1.00 91.78           O  \\nATOM   1011  CG  ARG A 134      16.999   6.501 -10.671  1.00 91.78           C  \\nATOM   1012  CD  ARG A 134      17.058   5.730  -9.360  1.00 91.78           C  \\nATOM   1013  NE  ARG A 134      17.856   4.513  -9.486  1.00 91.78           N  \\nATOM   1014  NH1 ARG A 134      18.199   4.256  -7.216  1.00 91.78           N  \\nATOM   1015  NH2 ARG A 134      19.089   2.746  -8.693  1.00 91.78           N  \\nATOM   1016  CZ  ARG A 134      18.379   3.841  -8.464  1.00 91.78           C  \\nATOM   1017  N   GLU A 135      17.758   9.698 -12.130  1.00 91.24           N  \\nATOM   1018  CA  GLU A 135      18.829   9.965 -13.086  1.00 91.24           C  \\nATOM   1019  C   GLU A 135      19.746  11.079 -12.590  1.00 91.24           C  \\nATOM   1020  CB  GLU A 135      18.250  10.330 -14.455  1.00 91.24           C  \\nATOM   1021  O   GLU A 135      20.916  11.144 -12.973  1.00 91.24           O  \\nATOM   1022  CG  GLU A 135      17.628   9.154 -15.193  1.00 91.24           C  \\nATOM   1023  CD  GLU A 135      17.049   9.534 -16.547  1.00 91.24           C  \\nATOM   1024  OE1 GLU A 135      16.809   8.630 -17.379  1.00 91.24           O  \\nATOM   1025  OE2 GLU A 135      16.835  10.745 -16.777  1.00 91.24           O  \\nATOM   1026  N   SER A 136      19.229  11.822 -11.660  1.00 95.40           N  \\nATOM   1027  CA  SER A 136      20.043  12.902 -11.112  1.00 95.40           C  \\nATOM   1028  C   SER A 136      20.705  12.486  -9.803  1.00 95.40           C  \\nATOM   1029  CB  SER A 136      19.192  14.153 -10.888  1.00 95.40           C  \\nATOM   1030  O   SER A 136      21.276  13.320  -9.098  1.00 95.40           O  \\nATOM   1031  OG  SER A 136      18.217  13.925  -9.885  1.00 95.40           O  \\nATOM   1032  N   GLY A 137      20.629  11.187  -9.394  1.00 94.05           N  \\nATOM   1033  CA  GLY A 137      21.292  10.672  -8.207  1.00 94.05           C  \\nATOM   1034  C   GLY A 137      20.638  11.123  -6.915  1.00 94.05           C  \\nATOM   1035  O   GLY A 137      21.301  11.231  -5.881  1.00 94.05           O  \\nATOM   1036  N   ARG A 138      19.339  11.403  -6.927  1.00 96.62           N  \\nATOM   1037  CA  ARG A 138      18.658  11.997  -5.780  1.00 96.62           C  \\nATOM   1038  C   ARG A 138      17.722  10.991  -5.119  1.00 96.62           C  \\nATOM   1039  CB  ARG A 138      17.875  13.241  -6.205  1.00 96.62           C  \\nATOM   1040  O   ARG A 138      16.835  11.371  -4.352  1.00 96.62           O  \\nATOM   1041  CG  ARG A 138      18.753  14.412  -6.615  1.00 96.62           C  \\nATOM   1042  CD  ARG A 138      17.975  15.720  -6.637  1.00 96.62           C  \\nATOM   1043  NE  ARG A 138      16.915  15.700  -7.641  1.00 96.62           N  \\nATOM   1044  NH1 ARG A 138      15.999  17.726  -7.015  1.00 96.62           N  \\nATOM   1045  NH2 ARG A 138      15.081  16.533  -8.744  1.00 96.62           N  \\nATOM   1046  CZ  ARG A 138      16.001  16.653  -7.798  1.00 96.62           C  \\nATOM   1047  N   THR A 139      17.838   9.718  -5.457  1.00 94.58           N  \\nATOM   1048  CA  THR A 139      16.945   8.704  -4.906  1.00 94.58           C  \\nATOM   1049  C   THR A 139      16.944   8.756  -3.380  1.00 94.58           C  \\nATOM   1050  CB  THR A 139      17.345   7.293  -5.374  1.00 94.58           C  \\nATOM   1051  O   THR A 139      15.885   8.850  -2.758  1.00 94.58           O  \\nATOM   1052  CG2 THR A 139      16.438   6.232  -4.759  1.00 94.58           C  \\nATOM   1053  OG1 THR A 139      17.244   7.223  -6.801  1.00 94.58           O  \\nATOM   1054  N   ALA A 140      18.099   8.739  -2.753  1.00 97.07           N  \\nATOM   1055  CA  ALA A 140      18.209   8.702  -1.297  1.00 97.07           C  \\nATOM   1056  C   ALA A 140      17.585   9.944  -0.668  1.00 97.07           C  \\nATOM   1057  CB  ALA A 140      19.672   8.574  -0.877  1.00 97.07           C  \\nATOM   1058  O   ALA A 140      16.811   9.841   0.287  1.00 97.07           O  \\nATOM   1059  N   VAL A 141      17.848  11.071  -1.260  1.00 97.78           N  \\nATOM   1060  CA  VAL A 141      17.369  12.331  -0.701  1.00 97.78           C  \\nATOM   1061  C   VAL A 141      15.845  12.383  -0.776  1.00 97.78           C  \\nATOM   1062  CB  VAL A 141      17.980  13.546  -1.435  1.00 97.78           C  \\nATOM   1063  O   VAL A 141      15.181  12.739   0.201  1.00 97.78           O  \\nATOM   1064  CG1 VAL A 141      17.277  14.837  -1.018  1.00 97.78           C  \\nATOM   1065  CG2 VAL A 141      19.479  13.637  -1.158  1.00 97.78           C  \\nATOM   1066  N   VAL A 142      15.294  11.959  -1.849  1.00 97.81           N  \\nATOM   1067  CA  VAL A 142      13.850  12.034  -2.044  1.00 97.81           C  \\nATOM   1068  C   VAL A 142      13.149  11.058  -1.103  1.00 97.81           C  \\nATOM   1069  CB  VAL A 142      13.458  11.737  -3.509  1.00 97.81           C  \\nATOM   1070  O   VAL A 142      12.232  11.440  -0.371  1.00 97.81           O  \\nATOM   1071  CG1 VAL A 142      11.948  11.547  -3.636  1.00 97.81           C  \\nATOM   1072  CG2 VAL A 142      13.938  12.859  -4.428  1.00 97.81           C  \\nATOM   1073  N   VAL A 143      13.557   9.845  -1.147  1.00 97.72           N  \\nATOM   1074  CA  VAL A 143      12.913   8.787  -0.375  1.00 97.72           C  \\nATOM   1075  C   VAL A 143      13.020   9.097   1.116  1.00 97.72           C  \\nATOM   1076  CB  VAL A 143      13.535   7.406  -0.678  1.00 97.72           C  \\nATOM   1077  O   VAL A 143      12.034   8.993   1.850  1.00 97.72           O  \\nATOM   1078  CG1 VAL A 143      13.094   6.375   0.360  1.00 97.72           C  \\nATOM   1079  CG2 VAL A 143      13.154   6.947  -2.085  1.00 97.72           C  \\nATOM   1080  N   LEU A 144      14.145   9.543   1.579  1.00 98.08           N  \\nATOM   1081  CA  LEU A 144      14.343   9.783   3.005  1.00 98.08           C  \\nATOM   1082  C   LEU A 144      13.608  11.043   3.451  1.00 98.08           C  \\nATOM   1083  CB  LEU A 144      15.835   9.908   3.325  1.00 98.08           C  \\nATOM   1084  O   LEU A 144      13.123  11.116   4.582  1.00 98.08           O  \\nATOM   1085  CG  LEU A 144      16.684   8.657   3.098  1.00 98.08           C  \\nATOM   1086  CD1 LEU A 144      18.134   8.922   3.490  1.00 98.08           C  \\nATOM   1087  CD2 LEU A 144      16.120   7.477   3.882  1.00 98.08           C  \\nATOM   1088  N   THR A 145      13.497  12.050   2.540  1.00 98.48           N  \\nATOM   1089  CA  THR A 145      12.711  13.239   2.849  1.00 98.48           C  \\nATOM   1090  C   THR A 145      11.240  12.882   3.038  1.00 98.48           C  \\nATOM   1091  CB  THR A 145      12.846  14.301   1.743  1.00 98.48           C  \\nATOM   1092  O   THR A 145      10.582  13.395   3.945  1.00 98.48           O  \\nATOM   1093  CG2 THR A 145      11.960  15.509   2.028  1.00 98.48           C  \\nATOM   1094  OG1 THR A 145      14.211  14.732   1.665  1.00 98.48           O  \\nATOM   1095  N   GLN A 146      10.723  12.049   2.219  1.00 98.65           N  \\nATOM   1096  CA  GLN A 146       9.330  11.625   2.310  1.00 98.65           C  \\nATOM   1097  C   GLN A 146       9.077  10.837   3.593  1.00 98.65           C  \\nATOM   1098  CB  GLN A 146       8.944  10.784   1.093  1.00 98.65           C  \\nATOM   1099  O   GLN A 146       8.099  11.088   4.299  1.00 98.65           O  \\nATOM   1100  CG  GLN A 146       8.928  11.565  -0.214  1.00 98.65           C  \\nATOM   1101  CD  GLN A 146       8.621  10.691  -1.416  1.00 98.65           C  \\nATOM   1102  NE2 GLN A 146       8.749  11.260  -2.610  1.00 98.65           N  \\nATOM   1103  OE1 GLN A 146       8.274   9.515  -1.273  1.00 98.65           O  \\nATOM   1104  N   ILE A 147       9.948   9.875   3.938  1.00 98.30           N  \\nATOM   1105  CA  ILE A 147       9.774   9.073   5.144  1.00 98.30           C  \\nATOM   1106  C   ILE A 147      10.002   9.941   6.379  1.00 98.30           C  \\nATOM   1107  CB  ILE A 147      10.730   7.859   5.158  1.00 98.30           C  \\nATOM   1108  O   ILE A 147       9.345   9.756   7.406  1.00 98.30           O  \\nATOM   1109  CG1 ILE A 147      10.325   6.873   6.260  1.00 98.30           C  \\nATOM   1110  CG2 ILE A 147      12.180   8.316   5.339  1.00 98.30           C  \\nATOM   1111  CD1 ILE A 147      11.016   5.520   6.164  1.00 98.30           C  \\nATOM   1112  N   ALA A 148      10.923  10.897   6.319  1.00 98.61           N  \\nATOM   1113  CA  ALA A 148      11.186  11.803   7.434  1.00 98.61           C  \\nATOM   1114  C   ALA A 148       9.958  12.651   7.753  1.00 98.61           C  \\nATOM   1115  CB  ALA A 148      12.381  12.700   7.121  1.00 98.61           C  \\nATOM   1116  O   ALA A 148       9.655  12.901   8.922  1.00 98.61           O  \\nATOM   1117  N   ALA A 149       9.261  13.111   6.745  1.00 98.74           N  \\nATOM   1118  CA  ALA A 149       8.048  13.895   6.959  1.00 98.74           C  \\nATOM   1119  C   ALA A 149       7.008  13.095   7.739  1.00 98.74           C  \\nATOM   1120  CB  ALA A 149       7.468  14.356   5.624  1.00 98.74           C  \\nATOM   1121  O   ALA A 149       6.375  13.619   8.659  1.00 98.74           O  \\nATOM   1122  N   ILE A 150       6.858  11.788   7.423  1.00 98.73           N  \\nATOM   1123  CA  ILE A 150       5.931  10.907   8.126  1.00 98.73           C  \\nATOM   1124  C   ILE A 150       6.410  10.694   9.560  1.00 98.73           C  \\nATOM   1125  CB  ILE A 150       5.783   9.550   7.403  1.00 98.73           C  \\nATOM   1126  O   ILE A 150       5.629  10.816  10.507  1.00 98.73           O  \\nATOM   1127  CG1 ILE A 150       5.097   9.740   6.045  1.00 98.73           C  \\nATOM   1128  CG2 ILE A 150       5.008   8.556   8.274  1.00 98.73           C  \\nATOM   1129  CD1 ILE A 150       5.162   8.516   5.142  1.00 98.73           C  \\nATOM   1130  N   ALA A 151       7.675  10.472   9.720  1.00 98.56           N  \\nATOM   1131  CA  ALA A 151       8.264  10.177  11.023  1.00 98.56           C  \\nATOM   1132  C   ALA A 151       8.083  11.348  11.985  1.00 98.56           C  \\nATOM   1133  CB  ALA A 151       9.746   9.841  10.873  1.00 98.56           C  \\nATOM   1134  O   ALA A 151       7.908  11.149  13.189  1.00 98.56           O  \\nATOM   1135  N   LYS A 152       8.069  12.580  11.480  1.00 98.45           N  \\nATOM   1136  CA  LYS A 152       7.932  13.779  12.302  1.00 98.45           C  \\nATOM   1137  C   LYS A 152       6.566  13.826  12.981  1.00 98.45           C  \\nATOM   1138  CB  LYS A 152       8.141  15.036  11.457  1.00 98.45           C  \\nATOM   1139  O   LYS A 152       6.407  14.467  14.023  1.00 98.45           O  \\nATOM   1140  CG  LYS A 152       9.594  15.301  11.091  1.00 98.45           C  \\nATOM   1141  CD  LYS A 152       9.740  16.577  10.271  1.00 98.45           C  \\nATOM   1142  CE  LYS A 152      11.181  16.801   9.836  1.00 98.45           C  \\nATOM   1143  NZ  LYS A 152      11.312  17.990   8.942  1.00 98.45           N  \\nATOM   1144  N   LYS A 153       5.648  13.075  12.452  1.00 98.51           N  \\nATOM   1145  CA  LYS A 153       4.281  13.192  12.951  1.00 98.51           C  \\nATOM   1146  C   LYS A 153       3.884  11.962  13.762  1.00 98.51           C  \\nATOM   1147  CB  LYS A 153       3.302  13.395  11.793  1.00 98.51           C  \\nATOM   1148  O   LYS A 153       2.793  11.913  14.332  1.00 98.51           O  \\nATOM   1149  CG  LYS A 153       3.578  14.638  10.960  1.00 98.51           C  \\nATOM   1150  CD  LYS A 153       3.180  15.908  11.702  1.00 98.51           C  \\nATOM   1151  CE  LYS A 153       3.264  17.132  10.802  1.00 98.51           C  \\nATOM   1152  NZ  LYS A 153       2.951  18.389  11.545  1.00 98.51           N  \\nATOM   1153  N   LEU A 154       4.772  10.971  13.741  1.00 98.62           N  \\nATOM   1154  CA  LEU A 154       4.427   9.717  14.401  1.00 98.62           C  \\nATOM   1155  C   LEU A 154       5.317   9.480  15.617  1.00 98.62           C  \\nATOM   1156  CB  LEU A 154       4.555   8.544  13.425  1.00 98.62           C  \\nATOM   1157  O   LEU A 154       6.471   9.915  15.641  1.00 98.62           O  \\nATOM   1158  CG  LEU A 154       3.643   8.582  12.197  1.00 98.62           C  \\nATOM   1159  CD1 LEU A 154       3.821   7.316  11.366  1.00 98.62           C  \\nATOM   1160  CD2 LEU A 154       2.187   8.751  12.617  1.00 98.62           C  \\nATOM   1161  N   LYS A 155       4.705   8.881  16.589  1.00 98.18           N  \\nATOM   1162  CA  LYS A 155       5.483   8.309  17.684  1.00 98.18           C  \\nATOM   1163  C   LYS A 155       5.997   6.918  17.324  1.00 98.18           C  \\nATOM   1164  CB  LYS A 155       4.645   8.244  18.961  1.00 98.18           C  \\nATOM   1165  O   LYS A 155       5.479   6.277  16.407  1.00 98.18           O  \\nATOM   1166  CG  LYS A 155       4.111   9.592  19.421  1.00 98.18           C  \\nATOM   1167  CD  LYS A 155       3.176   9.446  20.615  1.00 98.18           C  \\nATOM   1168  CE  LYS A 155       2.572  10.784  21.020  1.00 98.18           C  \\nATOM   1169  NZ  LYS A 155       1.551  10.626  22.099  1.00 98.18           N  \\nATOM   1170  N   LYS A 156       7.039   6.530  18.089  1.00 98.19           N  \\nATOM   1171  CA  LYS A 156       7.657   5.231  17.842  1.00 98.19           C  \\nATOM   1172  C   LYS A 156       6.616   4.115  17.855  1.00 98.19           C  \\nATOM   1173  CB  LYS A 156       8.743   4.947  18.881  1.00 98.19           C  \\nATOM   1174  O   LYS A 156       6.617   3.247  16.980  1.00 98.19           O  \\nATOM   1175  CG  LYS A 156       9.499   3.647  18.646  1.00 98.19           C  \\nATOM   1176  CD  LYS A 156      10.656   3.489  19.624  1.00 98.19           C  \\nATOM   1177  CE  LYS A 156      11.387   2.170  19.418  1.00 98.19           C  \\nATOM   1178  NZ  LYS A 156      12.568   2.043  20.324  1.00 98.19           N  \\nATOM   1179  N   ALA A 157       5.651   4.097  18.757  1.00 98.00           N  \\nATOM   1180  CA  ALA A 157       4.655   3.041  18.917  1.00 98.00           C  \\nATOM   1181  C   ALA A 157       3.705   2.998  17.723  1.00 98.00           C  \\nATOM   1182  CB  ALA A 157       3.870   3.242  20.211  1.00 98.00           C  \\nATOM   1183  O   ALA A 157       3.100   1.961  17.441  1.00 98.00           O  \\nATOM   1184  N   ASP A 158       3.599   4.095  17.031  1.00 98.52           N  \\nATOM   1185  CA  ASP A 158       2.679   4.219  15.905  1.00 98.52           C  \\nATOM   1186  C   ASP A 158       3.158   3.397  14.711  1.00 98.52           C  \\nATOM   1187  CB  ASP A 158       2.517   5.686  15.502  1.00 98.52           C  \\nATOM   1188  O   ASP A 158       2.355   2.988  13.869  1.00 98.52           O  \\nATOM   1189  CG  ASP A 158       1.809   6.516  16.558  1.00 98.52           C  \\nATOM   1190  OD1 ASP A 158       0.917   5.985  17.254  1.00 98.52           O  \\nATOM   1191  OD2 ASP A 158       2.144   7.713  16.694  1.00 98.52           O  \\nATOM   1192  N   TRP A 159       4.418   3.051  14.614  1.00 98.40           N  \\nATOM   1193  CA  TRP A 159       5.024   2.422  13.445  1.00 98.40           C  \\nATOM   1194  C   TRP A 159       4.553   0.979  13.297  1.00 98.40           C  \\nATOM   1195  CB  TRP A 159       6.552   2.467  13.541  1.00 98.40           C  \\nATOM   1196  O   TRP A 159       4.705   0.376  12.232  1.00 98.40           O  \\nATOM   1197  CG  TRP A 159       7.147   3.792  13.170  1.00 98.40           C  \\nATOM   1198  CD1 TRP A 159       7.348   4.864  13.993  1.00 98.40           C  \\nATOM   1199  CD2 TRP A 159       7.614   4.186  11.876  1.00 98.40           C  \\nATOM   1200  CE2 TRP A 159       8.087   5.512  11.988  1.00 98.40           C  \\nATOM   1201  CE3 TRP A 159       7.679   3.545  10.631  1.00 98.40           C  \\nATOM   1202  NE1 TRP A 159       7.913   5.902  13.289  1.00 98.40           N  \\nATOM   1203  CH2 TRP A 159       8.671   5.560   9.695  1.00 98.40           C  \\nATOM   1204  CZ2 TRP A 159       8.618   6.210  10.901  1.00 98.40           C  \\nATOM   1205  CZ3 TRP A 159       8.209   4.242   9.551  1.00 98.40           C  \\nATOM   1206  N   ALA A 160       3.885   0.462  14.340  1.00 98.21           N  \\nATOM   1207  CA  ALA A 160       3.288  -0.869  14.260  1.00 98.21           C  \\nATOM   1208  C   ALA A 160       2.127  -0.891  13.270  1.00 98.21           C  \\nATOM   1209  CB  ALA A 160       2.816  -1.324  15.638  1.00 98.21           C  \\nATOM   1210  O   ALA A 160       1.727  -1.957  12.796  1.00 98.21           O  \\nATOM   1211  N   LYS A 161       1.623   0.252  12.898  1.00 98.63           N  \\nATOM   1212  CA  LYS A 161       0.464   0.367  12.017  1.00 98.63           C  \\nATOM   1213  C   LYS A 161       0.867   0.898  10.644  1.00 98.63           C  \\nATOM   1214  CB  LYS A 161      -0.596   1.278  12.640  1.00 98.63           C  \\nATOM   1215  O   LYS A 161       0.008   1.247   9.832  1.00 98.63           O  \\nATOM   1216  CG  LYS A 161      -1.243   0.707  13.894  1.00 98.63           C  \\nATOM   1217  CD  LYS A 161      -2.267   1.669  14.481  1.00 98.63           C  \\nATOM   1218  CE  LYS A 161      -2.827   1.154  15.800  1.00 98.63           C  \\nATOM   1219  NZ  LYS A 161      -3.545   2.226  16.554  1.00 98.63           N  \\nATOM   1220  N   VAL A 162       2.215   1.023  10.430  1.00 98.78           N  \\nATOM   1221  CA  VAL A 162       2.688   1.618   9.185  1.00 98.78           C  \\nATOM   1222  C   VAL A 162       3.411   0.563   8.350  1.00 98.78           C  \\nATOM   1223  CB  VAL A 162       3.622   2.821   9.449  1.00 98.78           C  \\nATOM   1224  O   VAL A 162       4.232  -0.195   8.872  1.00 98.78           O  \\nATOM   1225  CG1 VAL A 162       4.187   3.364   8.137  1.00 98.78           C  \\nATOM   1226  CG2 VAL A 162       2.877   3.917  10.208  1.00 98.78           C  \\nATOM   1227  N   VAL A 163       3.079   0.533   7.151  1.00 98.86           N  \\nATOM   1228  CA  VAL A 163       3.778  -0.180   6.087  1.00 98.86           C  \\nATOM   1229  C   VAL A 163       4.311   0.817   5.060  1.00 98.86           C  \\nATOM   1230  CB  VAL A 163       2.859  -1.215   5.398  1.00 98.86           C  \\nATOM   1231  O   VAL A 163       3.619   1.770   4.694  1.00 98.86           O  \\nATOM   1232  CG1 VAL A 163       3.600  -1.927   4.268  1.00 98.86           C  \\nATOM   1233  CG2 VAL A 163       2.336  -2.224   6.418  1.00 98.86           C  \\nATOM   1234  N   ILE A 164       5.548   0.592   4.621  1.00 98.89           N  \\nATOM   1235  CA  ILE A 164       6.106   1.465   3.594  1.00 98.89           C  \\nATOM   1236  C   ILE A 164       6.093   0.749   2.245  1.00 98.89           C  \\nATOM   1237  CB  ILE A 164       7.542   1.910   3.951  1.00 98.89           C  \\nATOM   1238  O   ILE A 164       6.570  -0.383   2.131  1.00 98.89           O  \\nATOM   1239  CG1 ILE A 164       7.547   2.695   5.267  1.00 98.89           C  \\nATOM   1240  CG2 ILE A 164       8.148   2.740   2.815  1.00 98.89           C  \\nATOM   1241  CD1 ILE A 164       6.751   3.993   5.216  1.00 98.89           C  \\nATOM   1242  N   ALA A 165       5.526   1.396   1.284  1.00 98.69           N  \\nATOM   1243  CA  ALA A 165       5.636   0.920  -0.093  1.00 98.69           C  \\nATOM   1244  C   ALA A 165       6.558   1.819  -0.912  1.00 98.69           C  \\nATOM   1245  CB  ALA A 165       4.256   0.846  -0.742  1.00 98.69           C  \\nATOM   1246  O   ALA A 165       6.225   2.975  -1.185  1.00 98.69           O  \\nATOM   1247  N   TYR A 166       7.752   1.295  -1.199  1.00 98.45           N  \\nATOM   1248  CA  TYR A 166       8.687   2.017  -2.056  1.00 98.45           C  \\nATOM   1249  C   TYR A 166       8.310   1.864  -3.525  1.00 98.45           C  \\nATOM   1250  CB  TYR A 166      10.118   1.520  -1.829  1.00 98.45           C  \\nATOM   1251  O   TYR A 166       8.252   0.746  -4.044  1.00 98.45           O  \\nATOM   1252  CG  TYR A 166      11.109   2.041  -2.841  1.00 98.45           C  \\nATOM   1253  CD1 TYR A 166      11.763   1.175  -3.715  1.00 98.45           C  \\nATOM   1254  CD2 TYR A 166      11.395   3.399  -2.925  1.00 98.45           C  \\nATOM   1255  CE1 TYR A 166      12.679   1.651  -4.648  1.00 98.45           C  \\nATOM   1256  CE2 TYR A 166      12.309   3.886  -3.854  1.00 98.45           C  \\nATOM   1257  OH  TYR A 166      13.850   3.482  -5.631  1.00 98.45           O  \\nATOM   1258  CZ  TYR A 166      12.944   3.006  -4.710  1.00 98.45           C  \\nATOM   1259  N   GLU A 167       8.105   3.054  -4.190  1.00 94.78           N  \\nATOM   1260  CA  GLU A 167       7.711   3.100  -5.595  1.00 94.78           C  \\nATOM   1261  C   GLU A 167       8.805   3.728  -6.454  1.00 94.78           C  \\nATOM   1262  CB  GLU A 167       6.401   3.874  -5.761  1.00 94.78           C  \\nATOM   1263  O   GLU A 167       8.941   4.952  -6.498  1.00 94.78           O  \\nATOM   1264  CG  GLU A 167       5.236   3.288  -4.977  1.00 94.78           C  \\nATOM   1265  CD  GLU A 167       3.970   4.124  -5.070  1.00 94.78           C  \\nATOM   1266  OE1 GLU A 167       3.041   3.739  -5.816  1.00 94.78           O  \\nATOM   1267  OE2 GLU A 167       3.906   5.173  -4.391  1.00 94.78           O  \\nATOM   1268  N   PRO A 168       9.575   2.899  -7.099  1.00 91.57           N  \\nATOM   1269  CA  PRO A 168      10.324   3.576  -8.160  1.00 91.57           C  \\nATOM   1270  C   PRO A 168       9.424   4.092  -9.281  1.00 91.57           C  \\nATOM   1271  CB  PRO A 168      11.269   2.488  -8.675  1.00 91.57           C  \\nATOM   1272  O   PRO A 168       9.118   3.353 -10.220  1.00 91.57           O  \\nATOM   1273  CG  PRO A 168      10.532   1.206  -8.455  1.00 91.57           C  \\nATOM   1274  CD  PRO A 168       9.701   1.342  -7.211  1.00 91.57           C  \\nATOM   1275  N   VAL A 169       8.947   5.307  -9.141  1.00 85.13           N  \\nATOM   1276  CA  VAL A 169       7.908   5.855 -10.006  1.00 85.13           C  \\nATOM   1277  C   VAL A 169       8.275   5.618 -11.469  1.00 85.13           C  \\nATOM   1278  CB  VAL A 169       7.691   7.363  -9.748  1.00 85.13           C  \\nATOM   1279  O   VAL A 169       7.398   5.410 -12.310  1.00 85.13           O  \\nATOM   1280  CG1 VAL A 169       6.643   7.929 -10.705  1.00 85.13           C  \\nATOM   1281  CG2 VAL A 169       7.279   7.602  -8.297  1.00 85.13           C  \\nATOM   1282  N   TRP A 170       9.475   5.535 -11.800  1.00 83.24           N  \\nATOM   1283  CA  TRP A 170       9.924   5.339 -13.174  1.00 83.24           C  \\nATOM   1284  C   TRP A 170       9.703   3.897 -13.618  1.00 83.24           C  \\nATOM   1285  CB  TRP A 170      11.404   5.708 -13.315  1.00 83.24           C  \\nATOM   1286  O   TRP A 170       9.736   3.597 -14.814  1.00 83.24           O  \\nATOM   1287  CG  TRP A 170      12.296   5.043 -12.309  1.00 83.24           C  \\nATOM   1288  CD1 TRP A 170      12.685   5.540 -11.097  1.00 83.24           C  \\nATOM   1289  CD2 TRP A 170      12.914   3.759 -12.434  1.00 83.24           C  \\nATOM   1290  CE2 TRP A 170      13.664   3.540 -11.257  1.00 83.24           C  \\nATOM   1291  CE3 TRP A 170      12.906   2.770 -13.426  1.00 83.24           C  \\nATOM   1292  NE1 TRP A 170      13.508   4.641 -10.459  1.00 83.24           N  \\nATOM   1293  CH2 TRP A 170      14.375   1.420 -12.034  1.00 83.24           C  \\nATOM   1294  CZ2 TRP A 170      14.400   2.372 -11.047  1.00 83.24           C  \\nATOM   1295  CZ3 TRP A 170      13.639   1.607 -13.215  1.00 83.24           C  \\nATOM   1296  N   ALA A 171       9.444   3.041 -12.764  1.00 84.31           N  \\nATOM   1297  CA  ALA A 171       9.239   1.637 -13.108  1.00 84.31           C  \\nATOM   1298  C   ALA A 171       7.765   1.254 -12.997  1.00 84.31           C  \\nATOM   1299  CB  ALA A 171      10.087   0.739 -12.210  1.00 84.31           C  \\nATOM   1300  O   ALA A 171       7.387   0.122 -13.305  1.00 84.31           O  \\nATOM   1301  N   ILE A 172       6.864   2.182 -12.643  1.00 81.71           N  \\nATOM   1302  CA  ILE A 172       5.449   1.868 -12.470  1.00 81.71           C  \\nATOM   1303  C   ILE A 172       4.712   2.063 -13.793  1.00 81.71           C  \\nATOM   1304  CB  ILE A 172       4.808   2.739 -11.366  1.00 81.71           C  \\nATOM   1305  O   ILE A 172       4.648   3.178 -14.317  1.00 81.71           O  \\nATOM   1306  CG1 ILE A 172       5.516   2.507 -10.026  1.00 81.71           C  \\nATOM   1307  CG2 ILE A 172       3.309   2.448 -11.251  1.00 81.71           C  \\nATOM   1308  CD1 ILE A 172       5.047   3.432  -8.911  1.00 81.71           C  \\nATOM   1309  N   GLY A 173       4.194   1.026 -14.433  1.00 78.45           N  \\nATOM   1310  CA  GLY A 173       3.343   1.092 -15.610  1.00 78.45           C  \\nATOM   1311  C   GLY A 173       4.104   1.426 -16.879  1.00 78.45           C  \\nATOM   1312  O   GLY A 173       3.508   1.839 -17.876  1.00 78.45           O  \\nATOM   1313  N   THR A 174       5.474   1.390 -16.795  1.00 80.81           N  \\nATOM   1314  CA  THR A 174       6.236   1.840 -17.955  1.00 80.81           C  \\nATOM   1315  C   THR A 174       6.795   0.650 -18.730  1.00 80.81           C  \\nATOM   1316  CB  THR A 174       7.389   2.772 -17.539  1.00 80.81           C  \\nATOM   1317  O   THR A 174       7.226   0.795 -19.875  1.00 80.81           O  \\nATOM   1318  CG2 THR A 174       6.874   3.952 -16.722  1.00 80.81           C  \\nATOM   1319  OG1 THR A 174       8.331   2.034 -16.751  1.00 80.81           O  \\nATOM   1320  N   GLY A 175       6.762  -0.570 -18.103  1.00 75.15           N  \\nATOM   1321  CA  GLY A 175       7.412  -1.727 -18.698  1.00 75.15           C  \\nATOM   1322  C   GLY A 175       8.871  -1.860 -18.304  1.00 75.15           C  \\nATOM   1323  O   GLY A 175       9.507  -2.876 -18.591  1.00 75.15           O  \\nATOM   1324  N   LYS A 176       9.424  -0.714 -17.722  1.00 77.90           N  \\nATOM   1325  CA  LYS A 176      10.774  -0.777 -17.172  1.00 77.90           C  \\nATOM   1326  C   LYS A 176      10.786  -1.492 -15.824  1.00 77.90           C  \\nATOM   1327  CB  LYS A 176      11.361   0.628 -17.025  1.00 77.90           C  \\nATOM   1328  O   LYS A 176       9.912  -1.263 -14.986  1.00 77.90           O  \\nATOM   1329  CG  LYS A 176      11.652   1.318 -18.349  1.00 77.90           C  \\nATOM   1330  CD  LYS A 176      12.396   2.631 -18.143  1.00 77.90           C  \\nATOM   1331  CE  LYS A 176      12.681   3.328 -19.467  1.00 77.90           C  \\nATOM   1332  NZ  LYS A 176      13.414   4.614 -19.270  1.00 77.90           N  \\nATOM   1333  N   VAL A 177      11.738  -2.416 -15.690  1.00 81.42           N  \\nATOM   1334  CA  VAL A 177      11.742  -3.242 -14.487  1.00 81.42           C  \\nATOM   1335  C   VAL A 177      13.017  -2.984 -13.687  1.00 81.42           C  \\nATOM   1336  CB  VAL A 177      11.623  -4.744 -14.830  1.00 81.42           C  \\nATOM   1337  O   VAL A 177      14.124  -3.084 -14.222  1.00 81.42           O  \\nATOM   1338  CG1 VAL A 177      11.595  -5.587 -13.556  1.00 81.42           C  \\nATOM   1339  CG2 VAL A 177      10.374  -5.001 -15.672  1.00 81.42           C  \\nATOM   1340  N   ALA A 178      12.816  -2.421 -12.477  1.00 87.70           N  \\nATOM   1341  CA  ALA A 178      13.968  -2.328 -11.583  1.00 87.70           C  \\nATOM   1342  C   ALA A 178      14.567  -3.706 -11.316  1.00 87.70           C  \\nATOM   1343  CB  ALA A 178      13.569  -1.661 -10.269  1.00 87.70           C  \\nATOM   1344  O   ALA A 178      13.837  -4.688 -11.165  1.00 87.70           O  \\nATOM   1345  N   THR A 179      15.901  -3.782 -11.349  1.00 92.99           N  \\nATOM   1346  CA  THR A 179      16.533  -5.045 -10.983  1.00 92.99           C  \\nATOM   1347  C   THR A 179      16.309  -5.354  -9.506  1.00 92.99           C  \\nATOM   1348  CB  THR A 179      18.043  -5.021 -11.282  1.00 92.99           C  \\nATOM   1349  O   THR A 179      16.075  -4.446  -8.705  1.00 92.99           O  \\nATOM   1350  CG2 THR A 179      18.313  -4.602 -12.723  1.00 92.99           C  \\nATOM   1351  OG1 THR A 179      18.685  -4.093 -10.398  1.00 92.99           O  \\nATOM   1352  N   PRO A 180      16.326  -6.593  -9.109  1.00 95.69           N  \\nATOM   1353  CA  PRO A 180      16.241  -6.955  -7.692  1.00 95.69           C  \\nATOM   1354  C   PRO A 180      17.271  -6.225  -6.834  1.00 95.69           C  \\nATOM   1355  CB  PRO A 180      16.504  -8.463  -7.697  1.00 95.69           C  \\nATOM   1356  O   PRO A 180      16.970  -5.828  -5.705  1.00 95.69           O  \\nATOM   1357  CG  PRO A 180      15.984  -8.937  -9.016  1.00 95.69           C  \\nATOM   1358  CD  PRO A 180      16.314  -7.906 -10.057  1.00 95.69           C  \\nATOM   1359  N   GLN A 181      18.423  -5.988  -7.347  1.00 96.47           N  \\nATOM   1360  CA  GLN A 181      19.473  -5.287  -6.615  1.00 96.47           C  \\nATOM   1361  C   GLN A 181      19.088  -3.832  -6.361  1.00 96.47           C  \\nATOM   1362  CB  GLN A 181      20.797  -5.354  -7.379  1.00 96.47           C  \\nATOM   1363  O   GLN A 181      19.316  -3.306  -5.270  1.00 96.47           O  \\nATOM   1364  CG  GLN A 181      21.474  -6.717  -7.316  1.00 96.47           C  \\nATOM   1365  CD  GLN A 181      20.801  -7.748  -8.203  1.00 96.47           C  \\nATOM   1366  NE2 GLN A 181      21.166  -9.013  -8.024  1.00 96.47           N  \\nATOM   1367  OE1 GLN A 181      19.960  -7.410  -9.042  1.00 96.47           O  \\nATOM   1368  N   GLN A 182      18.524  -3.192  -7.405  1.00 94.38           N  \\nATOM   1369  CA  GLN A 182      18.070  -1.816  -7.229  1.00 94.38           C  \\nATOM   1370  C   GLN A 182      16.963  -1.732  -6.182  1.00 94.38           C  \\nATOM   1371  CB  GLN A 182      17.583  -1.237  -8.558  1.00 94.38           C  \\nATOM   1372  O   GLN A 182      16.959  -0.825  -5.347  1.00 94.38           O  \\nATOM   1373  CG  GLN A 182      18.702  -0.931  -9.543  1.00 94.38           C  \\nATOM   1374  CD  GLN A 182      18.186  -0.478 -10.896  1.00 94.38           C  \\nATOM   1375  NE2 GLN A 182      18.771   0.591 -11.426  1.00 94.38           N  \\nATOM   1376  OE1 GLN A 182      17.269  -1.083 -11.460  1.00 94.38           O  \\nATOM   1377  N   ALA A 183      16.081  -2.673  -6.228  1.00 96.24           N  \\nATOM   1378  CA  ALA A 183      15.023  -2.745  -5.223  1.00 96.24           C  \\nATOM   1379  C   ALA A 183      15.606  -2.948  -3.827  1.00 96.24           C  \\nATOM   1380  CB  ALA A 183      14.047  -3.869  -5.558  1.00 96.24           C  \\nATOM   1381  O   ALA A 183      15.207  -2.271  -2.877  1.00 96.24           O  \\nATOM   1382  N   GLN A 184      16.526  -3.849  -3.692  1.00 97.80           N  \\nATOM   1383  CA  GLN A 184      17.155  -4.133  -2.407  1.00 97.80           C  \\nATOM   1384  C   GLN A 184      17.874  -2.902  -1.862  1.00 97.80           C  \\nATOM   1385  CB  GLN A 184      18.136  -5.300  -2.535  1.00 97.80           C  \\nATOM   1386  O   GLN A 184      17.785  -2.602  -0.670  1.00 97.80           O  \\nATOM   1387  CG  GLN A 184      18.913  -5.593  -1.259  1.00 97.80           C  \\nATOM   1388  CD  GLN A 184      18.011  -5.937  -0.088  1.00 97.80           C  \\nATOM   1389  NE2 GLN A 184      18.431  -5.560   1.115  1.00 97.80           N  \\nATOM   1390  OE1 GLN A 184      16.945  -6.535  -0.264  1.00 97.80           O  \\nATOM   1391  N   GLU A 185      18.596  -2.173  -2.729  1.00 97.20           N  \\nATOM   1392  CA  GLU A 185      19.331  -0.984  -2.309  1.00 97.20           C  \\nATOM   1393  C   GLU A 185      18.397   0.056  -1.698  1.00 97.20           C  \\nATOM   1394  CB  GLU A 185      20.094  -0.377  -3.490  1.00 97.20           C  \\nATOM   1395  O   GLU A 185      18.684   0.607  -0.633  1.00 97.20           O  \\nATOM   1396  CG  GLU A 185      21.301  -1.195  -3.927  1.00 97.20           C  \\nATOM   1397  CD  GLU A 185      21.932  -0.689  -5.215  1.00 97.20           C  \\nATOM   1398  OE1 GLU A 185      22.857  -1.352  -5.738  1.00 97.20           O  \\nATOM   1399  OE2 GLU A 185      21.500   0.378  -5.704  1.00 97.20           O  \\nATOM   1400  N   ALA A 186      17.297   0.313  -2.333  1.00 97.20           N  \\nATOM   1401  CA  ALA A 186      16.339   1.289  -1.822  1.00 97.20           C  \\nATOM   1402  C   ALA A 186      15.709   0.809  -0.518  1.00 97.20           C  \\nATOM   1403  CB  ALA A 186      15.256   1.566  -2.862  1.00 97.20           C  \\nATOM   1404  O   ALA A 186      15.584   1.578   0.439  1.00 97.20           O  \\nATOM   1405  N   HIS A 187      15.376  -0.444  -0.440  1.00 98.46           N  \\nATOM   1406  CA  HIS A 187      14.762  -1.018   0.751  1.00 98.46           C  \\nATOM   1407  C   HIS A 187      15.731  -1.011   1.929  1.00 98.46           C  \\nATOM   1408  CB  HIS A 187      14.283  -2.445   0.474  1.00 98.46           C  \\nATOM   1409  O   HIS A 187      15.345  -0.687   3.054  1.00 98.46           O  \\nATOM   1410  CG  HIS A 187      13.003  -2.509  -0.297  1.00 98.46           C  \\nATOM   1411  CD2 HIS A 187      12.636  -1.924  -1.461  1.00 98.46           C  \\nATOM   1412  ND1 HIS A 187      11.918  -3.246   0.124  1.00 98.46           N  \\nATOM   1413  CE1 HIS A 187      10.936  -3.112  -0.752  1.00 98.46           C  \\nATOM   1414  NE2 HIS A 187      11.346  -2.315  -1.723  1.00 98.46           N  \\nATOM   1415  N   ALA A 188      16.948  -1.350   1.630  1.00 98.26           N  \\nATOM   1416  CA  ALA A 188      17.967  -1.335   2.676  1.00 98.26           C  \\nATOM   1417  C   ALA A 188      18.197   0.080   3.198  1.00 98.26           C  \\nATOM   1418  CB  ALA A 188      19.275  -1.926   2.155  1.00 98.26           C  \\nATOM   1419  O   ALA A 188      18.407   0.280   4.397  1.00 98.26           O  \\nATOM   1420  N   LEU A 189      18.152   1.032   2.278  1.00 98.33           N  \\nATOM   1421  CA  LEU A 189      18.295   2.436   2.650  1.00 98.33           C  \\nATOM   1422  C   LEU A 189      17.176   2.865   3.593  1.00 98.33           C  \\nATOM   1423  CB  LEU A 189      18.296   3.323   1.403  1.00 98.33           C  \\nATOM   1424  O   LEU A 189      17.431   3.504   4.616  1.00 98.33           O  \\nATOM   1425  CG  LEU A 189      18.308   4.834   1.645  1.00 98.33           C  \\nATOM   1426  CD1 LEU A 189      19.629   5.258   2.278  1.00 98.33           C  \\nATOM   1427  CD2 LEU A 189      18.068   5.587   0.341  1.00 98.33           C  \\nATOM   1428  N   ILE A 190      15.982   2.492   3.298  1.00 98.53           N  \\nATOM   1429  CA  ILE A 190      14.821   2.811   4.121  1.00 98.53           C  \\nATOM   1430  C   ILE A 190      14.966   2.157   5.493  1.00 98.53           C  \\nATOM   1431  CB  ILE A 190      13.507   2.358   3.446  1.00 98.53           C  \\nATOM   1432  O   ILE A 190      14.804   2.816   6.523  1.00 98.53           O  \\nATOM   1433  CG1 ILE A 190      13.252   3.173   2.173  1.00 98.53           C  \\nATOM   1434  CG2 ILE A 190      12.331   2.479   4.419  1.00 98.53           C  \\nATOM   1435  CD1 ILE A 190      12.214   2.560   1.243  1.00 98.53           C  \\nATOM   1436  N   ARG A 191      15.238   0.906   5.508  1.00 98.54           N  \\nATOM   1437  CA  ARG A 191      15.356   0.167   6.761  1.00 98.54           C  \\nATOM   1438  C   ARG A 191      16.450   0.757   7.644  1.00 98.54           C  \\nATOM   1439  CB  ARG A 191      15.642  -1.312   6.489  1.00 98.54           C  \\nATOM   1440  O   ARG A 191      16.268   0.902   8.854  1.00 98.54           O  \\nATOM   1441  CG  ARG A 191      15.578  -2.190   7.728  1.00 98.54           C  \\nATOM   1442  CD  ARG A 191      15.678  -3.668   7.378  1.00 98.54           C  \\nATOM   1443  NE  ARG A 191      14.606  -4.082   6.476  1.00 98.54           N  \\nATOM   1444  NH1 ARG A 191      13.004  -4.267   8.131  1.00 98.54           N  \\nATOM   1445  NH2 ARG A 191      12.465  -4.725   5.950  1.00 98.54           N  \\nATOM   1446  CZ  ARG A 191      13.361  -4.357   6.855  1.00 98.54           C  \\nATOM   1447  N   SER A 192      17.617   1.088   7.016  1.00 98.46           N  \\nATOM   1448  CA  SER A 192      18.726   1.672   7.763  1.00 98.46           C  \\nATOM   1449  C   SER A 192      18.338   3.017   8.367  1.00 98.46           C  \\nATOM   1450  CB  SER A 192      19.950   1.842   6.862  1.00 98.46           C  \\nATOM   1451  O   SER A 192      18.662   3.302   9.522  1.00 98.46           O  \\nATOM   1452  OG  SER A 192      21.036   2.392   7.587  1.00 98.46           O  \\nATOM   1453  N   TRP A 193      17.697   3.776   7.634  1.00 98.62           N  \\nATOM   1454  CA  TRP A 193      17.268   5.082   8.126  1.00 98.62           C  \\nATOM   1455  C   TRP A 193      16.302   4.932   9.297  1.00 98.62           C  \\nATOM   1456  CB  TRP A 193      16.610   5.890   7.005  1.00 98.62           C  \\nATOM   1457  O   TRP A 193      16.439   5.616  10.314  1.00 98.62           O  \\nATOM   1458  CG  TRP A 193      16.305   7.310   7.376  1.00 98.62           C  \\nATOM   1459  CD1 TRP A 193      17.099   8.404   7.169  1.00 98.62           C  \\nATOM   1460  CD2 TRP A 193      15.122   7.789   8.023  1.00 98.62           C  \\nATOM   1461  CE2 TRP A 193      15.267   9.185   8.177  1.00 98.62           C  \\nATOM   1462  CE3 TRP A 193      13.953   7.172   8.487  1.00 98.62           C  \\nATOM   1463  NE1 TRP A 193      16.480   9.535   7.649  1.00 98.62           N  \\nATOM   1464  CH2 TRP A 193      13.149   9.347   9.223  1.00 98.62           C  \\nATOM   1465  CZ2 TRP A 193      14.283   9.976   8.778  1.00 98.62           C  \\nATOM   1466  CZ3 TRP A 193      12.976   7.960   9.084  1.00 98.62           C  \\nATOM   1467  N   VAL A 194      15.299   4.051   9.179  1.00 98.62           N  \\nATOM   1468  CA  VAL A 194      14.328   3.824  10.244  1.00 98.62           C  \\nATOM   1469  C   VAL A 194      15.039   3.301  11.490  1.00 98.62           C  \\nATOM   1470  CB  VAL A 194      13.224   2.835   9.806  1.00 98.62           C  \\nATOM   1471  O   VAL A 194      14.726   3.710  12.610  1.00 98.62           O  \\nATOM   1472  CG1 VAL A 194      12.352   2.437  10.995  1.00 98.62           C  \\nATOM   1473  CG2 VAL A 194      12.372   3.446   8.695  1.00 98.62           C  \\nATOM   1474  N   SER A 195      15.997   2.417  11.291  1.00 98.35           N  \\nATOM   1475  CA  SER A 195      16.780   1.906  12.411  1.00 98.35           C  \\nATOM   1476  C   SER A 195      17.490   3.034  13.150  1.00 98.35           C  \\nATOM   1477  CB  SER A 195      17.804   0.879  11.924  1.00 98.35           C  \\nATOM   1478  O   SER A 195      17.436   3.109  14.379  1.00 98.35           O  \\nATOM   1479  OG  SER A 195      18.533   0.342  13.014  1.00 98.35           O  \\nATOM   1480  N   SER A 196      18.053   3.963  12.439  1.00 98.37           N  \\nATOM   1481  CA  SER A 196      18.852   5.051  12.994  1.00 98.37           C  \\nATOM   1482  C   SER A 196      17.968   6.114  13.637  1.00 98.37           C  \\nATOM   1483  CB  SER A 196      19.721   5.686  11.908  1.00 98.37           C  \\nATOM   1484  O   SER A 196      18.291   6.634  14.707  1.00 98.37           O  \\nATOM   1485  OG  SER A 196      20.422   6.808  12.417  1.00 98.37           O  \\nATOM   1486  N   LYS A 197      16.847   6.413  13.025  1.00 98.29           N  \\nATOM   1487  CA  LYS A 197      16.067   7.579  13.428  1.00 98.29           C  \\nATOM   1488  C   LYS A 197      14.943   7.185  14.383  1.00 98.29           C  \\nATOM   1489  CB  LYS A 197      15.489   8.288  12.203  1.00 98.29           C  \\nATOM   1490  O   LYS A 197      14.494   8.000  15.191  1.00 98.29           O  \\nATOM   1491  CG  LYS A 197      16.542   8.870  11.271  1.00 98.29           C  \\nATOM   1492  CD  LYS A 197      17.384   9.929  11.970  1.00 98.29           C  \\nATOM   1493  CE  LYS A 197      18.436  10.514  11.038  1.00 98.29           C  \\nATOM   1494  NZ  LYS A 197      19.302  11.511  11.735  1.00 98.29           N  \\nATOM   1495  N   ILE A 198      14.494   5.991  14.257  1.00 98.20           N  \\nATOM   1496  CA  ILE A 198      13.322   5.624  15.045  1.00 98.20           C  \\nATOM   1497  C   ILE A 198      13.696   4.539  16.052  1.00 98.20           C  \\nATOM   1498  CB  ILE A 198      12.164   5.141  14.143  1.00 98.20           C  \\nATOM   1499  O   ILE A 198      13.389   4.655  17.241  1.00 98.20           O  \\nATOM   1500  CG1 ILE A 198      11.903   6.152  13.021  1.00 98.20           C  \\nATOM   1501  CG2 ILE A 198      10.898   4.903  14.971  1.00 98.20           C  \\nATOM   1502  CD1 ILE A 198      11.550   7.548  13.515  1.00 98.20           C  \\nATOM   1503  N   GLY A 199      14.443   3.526  15.631  1.00 98.32           N  \\nATOM   1504  CA  GLY A 199      14.866   2.433  16.491  1.00 98.32           C  \\nATOM   1505  C   GLY A 199      15.037   1.121  15.748  1.00 98.32           C  \\nATOM   1506  O   GLY A 199      14.249   0.799  14.857  1.00 98.32           O  \\nATOM   1507  N   ALA A 200      15.994   0.343  16.193  1.00 97.86           N  \\nATOM   1508  CA  ALA A 200      16.336  -0.932  15.567  1.00 97.86           C  \\nATOM   1509  C   ALA A 200      15.167  -1.910  15.640  1.00 97.86           C  \\nATOM   1510  CB  ALA A 200      17.572  -1.535  16.229  1.00 97.86           C  \\nATOM   1511  O   ALA A 200      14.937  -2.683  14.706  1.00 97.86           O  \\nATOM   1512  N   ASP A 201      14.463  -1.878  16.749  1.00 97.37           N  \\nATOM   1513  CA  ASP A 201      13.324  -2.776  16.912  1.00 97.37           C  \\nATOM   1514  C   ASP A 201      12.225  -2.457  15.900  1.00 97.37           C  \\nATOM   1515  CB  ASP A 201      12.770  -2.688  18.335  1.00 97.37           C  \\nATOM   1516  O   ASP A 201      11.650  -3.364  15.294  1.00 97.37           O  \\nATOM   1517  CG  ASP A 201      12.376  -1.277  18.732  1.00 97.37           C  \\nATOM   1518  OD1 ASP A 201      13.130  -0.326  18.433  1.00 97.37           O  \\nATOM   1519  OD2 ASP A 201      11.303  -1.114  19.353  1.00 97.37           O  \\nATOM   1520  N   VAL A 202      11.962  -1.151  15.668  1.00 98.15           N  \\nATOM   1521  CA  VAL A 202      10.962  -0.720  14.697  1.00 98.15           C  \\nATOM   1522  C   VAL A 202      11.392  -1.136  13.293  1.00 98.15           C  \\nATOM   1523  CB  VAL A 202      10.737   0.808  14.755  1.00 98.15           C  \\nATOM   1524  O   VAL A 202      10.591  -1.676  12.526  1.00 98.15           O  \\nATOM   1525  CG1 VAL A 202       9.829   1.263  13.615  1.00 98.15           C  \\nATOM   1526  CG2 VAL A 202      10.147   1.209  16.106  1.00 98.15           C  \\nATOM   1527  N   ALA A 203      12.634  -0.893  12.969  1.00 98.17           N  \\nATOM   1528  CA  ALA A 203      13.170  -1.240  11.655  1.00 98.17           C  \\nATOM   1529  C   ALA A 203      13.047  -2.738  11.391  1.00 98.17           C  \\nATOM   1530  CB  ALA A 203      14.628  -0.801  11.542  1.00 98.17           C  \\nATOM   1531  O   ALA A 203      12.706  -3.153  10.280  1.00 98.17           O  \\nATOM   1532  N   GLY A 204      13.319  -3.558  12.386  1.00 97.69           N  \\nATOM   1533  CA  GLY A 204      13.275  -5.006  12.253  1.00 97.69           C  \\nATOM   1534  C   GLY A 204      11.880  -5.539  11.987  1.00 97.69           C  \\nATOM   1535  O   GLY A 204      11.721  -6.610  11.398  1.00 97.69           O  \\nATOM   1536  N   GLU A 205      10.821  -4.767  12.369  1.00 97.76           N  \\nATOM   1537  CA  GLU A 205       9.440  -5.227  12.248  1.00 97.76           C  \\nATOM   1538  C   GLU A 205       8.728  -4.536  11.088  1.00 97.76           C  \\nATOM   1539  CB  GLU A 205       8.676  -4.985  13.553  1.00 97.76           C  \\nATOM   1540  O   GLU A 205       7.633  -4.942  10.694  1.00 97.76           O  \\nATOM   1541  CG  GLU A 205       9.149  -5.852  14.711  1.00 97.76           C  \\nATOM   1542  CD  GLU A 205       8.351  -5.634  15.987  1.00 97.76           C  \\nATOM   1543  OE1 GLU A 205       8.585  -6.360  16.980  1.00 97.76           O  \\nATOM   1544  OE2 GLU A 205       7.486  -4.731  15.994  1.00 97.76           O  \\nATOM   1545  N   LEU A 206       9.309  -3.474  10.594  1.00 98.44           N  \\nATOM   1546  CA  LEU A 206       8.679  -2.685   9.541  1.00 98.44           C  \\nATOM   1547  C   LEU A 206       8.580  -3.487   8.247  1.00 98.44           C  \\nATOM   1548  CB  LEU A 206       9.464  -1.394   9.296  1.00 98.44           C  \\nATOM   1549  O   LEU A 206       9.572  -4.055   7.787  1.00 98.44           O  \\nATOM   1550  CG  LEU A 206       8.907  -0.455   8.225  1.00 98.44           C  \\nATOM   1551  CD1 LEU A 206       7.552   0.097   8.656  1.00 98.44           C  \\nATOM   1552  CD2 LEU A 206       9.887   0.679   7.945  1.00 98.44           C  \\nATOM   1553  N   ARG A 207       7.407  -3.572   7.761  1.00 98.67           N  \\nATOM   1554  CA  ARG A 207       7.212  -4.176   6.447  1.00 98.67           C  \\nATOM   1555  C   ARG A 207       7.407  -3.149   5.337  1.00 98.67           C  \\nATOM   1556  CB  ARG A 207       5.819  -4.801   6.343  1.00 98.67           C  \\nATOM   1557  O   ARG A 207       6.780  -2.087   5.350  1.00 98.67           O  \\nATOM   1558  CG  ARG A 207       5.585  -5.949   7.313  1.00 98.67           C  \\nATOM   1559  CD  ARG A 207       4.117  -6.347   7.372  1.00 98.67           C  \\nATOM   1560  NE  ARG A 207       3.315  -5.346   8.071  1.00 98.67           N  \\nATOM   1561  NH1 ARG A 207       1.279  -6.264   7.479  1.00 98.67           N  \\nATOM   1562  NH2 ARG A 207       1.357  -4.373   8.772  1.00 98.67           N  \\nATOM   1563  CZ  ARG A 207       1.985  -5.330   8.106  1.00 98.67           C  \\nATOM   1564  N   ILE A 208       8.354  -3.429   4.391  1.00 98.78           N  \\nATOM   1565  CA  ILE A 208       8.643  -2.559   3.256  1.00 98.78           C  \\nATOM   1566  C   ILE A 208       8.289  -3.275   1.955  1.00 98.78           C  \\nATOM   1567  CB  ILE A 208      10.125  -2.123   3.241  1.00 98.78           C  \\nATOM   1568  O   ILE A 208       8.879  -4.306   1.625  1.00 98.78           O  \\nATOM   1569  CG1 ILE A 208      10.535  -1.578   4.614  1.00 98.78           C  \\nATOM   1570  CG2 ILE A 208      10.371  -1.084   2.144  1.00 98.78           C  \\nATOM   1571  CD1 ILE A 208      12.026  -1.299   4.750  1.00 98.78           C  \\nATOM   1572  N   LEU A 209       7.299  -2.705   1.282  1.00 98.82           N  \\nATOM   1573  CA  LEU A 209       6.808  -3.312   0.049  1.00 98.82           C  \\nATOM   1574  C   LEU A 209       7.488  -2.694  -1.169  1.00 98.82           C  \\nATOM   1575  CB  LEU A 209       5.290  -3.149  -0.061  1.00 98.82           C  \\nATOM   1576  O   LEU A 209       7.827  -1.508  -1.161  1.00 98.82           O  \\nATOM   1577  CG  LEU A 209       4.476  -3.522   1.179  1.00 98.82           C  \\nATOM   1578  CD1 LEU A 209       2.989  -3.307   0.921  1.00 98.82           C  \\nATOM   1579  CD2 LEU A 209       4.751  -4.966   1.584  1.00 98.82           C  \\nATOM   1580  N   TYR A 210       7.715  -3.538  -2.090  1.00 98.33           N  \\nATOM   1581  CA  TYR A 210       8.119  -3.034  -3.398  1.00 98.33           C  \\nATOM   1582  C   TYR A 210       6.902  -2.709  -4.256  1.00 98.33           C  \\nATOM   1583  CB  TYR A 210       9.007  -4.054  -4.117  1.00 98.33           C  \\nATOM   1584  O   TYR A 210       6.040  -3.564  -4.473  1.00 98.33           O  \\nATOM   1585  CG  TYR A 210       9.481  -3.596  -5.474  1.00 98.33           C  \\nATOM   1586  CD1 TYR A 210       8.964  -4.157  -6.640  1.00 98.33           C  \\nATOM   1587  CD2 TYR A 210      10.447  -2.603  -5.595  1.00 98.33           C  \\nATOM   1588  CE1 TYR A 210       9.399  -3.740  -7.894  1.00 98.33           C  \\nATOM   1589  CE2 TYR A 210      10.890  -2.178  -6.843  1.00 98.33           C  \\nATOM   1590  OH  TYR A 210      10.795  -2.334  -9.223  1.00 98.33           O  \\nATOM   1591  CZ  TYR A 210      10.360  -2.751  -7.985  1.00 98.33           C  \\nATOM   1592  N   GLY A 211       6.805  -1.475  -4.763  1.00 96.58           N  \\nATOM   1593  CA  GLY A 211       5.637  -1.019  -5.500  1.00 96.58           C  \\nATOM   1594  C   GLY A 211       5.920  -0.762  -6.968  1.00 96.58           C  \\nATOM   1595  O   GLY A 211       5.149  -0.078  -7.644  1.00 96.58           O  \\nATOM   1596  N   GLY A 212       7.088  -1.227  -7.551  1.00 93.08           N  \\nATOM   1597  CA  GLY A 212       7.380  -1.128  -8.972  1.00 93.08           C  \\nATOM   1598  C   GLY A 212       6.706  -2.208  -9.797  1.00 93.08           C  \\nATOM   1599  O   GLY A 212       5.737  -2.824  -9.349  1.00 93.08           O  \\nATOM   1600  N   SER A 213       7.163  -2.373 -11.114  1.00 92.59           N  \\nATOM   1601  CA  SER A 213       6.602  -3.350 -12.042  1.00 92.59           C  \\nATOM   1602  C   SER A 213       6.828  -4.775 -11.548  1.00 92.59           C  \\nATOM   1603  CB  SER A 213       7.215  -3.181 -13.433  1.00 92.59           C  \\nATOM   1604  O   SER A 213       7.953  -5.278 -11.579  1.00 92.59           O  \\nATOM   1605  OG  SER A 213       6.583  -4.037 -14.368  1.00 92.59           O  \\nATOM   1606  N   VAL A 214       5.772  -5.382 -10.907  1.00 94.62           N  \\nATOM   1607  CA  VAL A 214       5.813  -6.752 -10.404  1.00 94.62           C  \\nATOM   1608  C   VAL A 214       4.845  -7.624 -11.201  1.00 94.62           C  \\nATOM   1609  CB  VAL A 214       5.471  -6.814  -8.899  1.00 94.62           C  \\nATOM   1610  O   VAL A 214       3.709  -7.222 -11.463  1.00 94.62           O  \\nATOM   1611  CG1 VAL A 214       5.497  -8.257  -8.399  1.00 94.62           C  \\nATOM   1612  CG2 VAL A 214       6.440  -5.949  -8.096  1.00 94.62           C  \\nATOM   1613  N   ASN A 215       5.318  -8.770 -11.590  1.00 95.17           N  \\nATOM   1614  CA  ASN A 215       4.474  -9.782 -12.218  1.00 95.17           C  \\nATOM   1615  C   ASN A 215       4.896 -11.192 -11.815  1.00 95.17           C  \\nATOM   1616  CB  ASN A 215       4.502  -9.634 -13.740  1.00 95.17           C  \\nATOM   1617  O   ASN A 215       5.775 -11.364 -10.968  1.00 95.17           O  \\nATOM   1618  CG  ASN A 215       5.894  -9.795 -14.318  1.00 95.17           C  \\nATOM   1619  ND2 ASN A 215       6.231  -8.962 -15.295  1.00 95.17           N  \\nATOM   1620  OD1 ASN A 215       6.661 -10.662 -13.890  1.00 95.17           O  \\nATOM   1621  N   GLY A 216       4.163 -12.195 -12.279  1.00 94.37           N  \\nATOM   1622  CA  GLY A 216       4.406 -13.579 -11.907  1.00 94.37           C  \\nATOM   1623  C   GLY A 216       5.815 -14.044 -12.227  1.00 94.37           C  \\nATOM   1624  O   GLY A 216       6.342 -14.942 -11.568  1.00 94.37           O  \\nATOM   1625  N   LYS A 217       6.494 -13.375 -13.133  1.00 94.94           N  \\nATOM   1626  CA  LYS A 217       7.799 -13.833 -13.602  1.00 94.94           C  \\nATOM   1627  C   LYS A 217       8.921 -13.285 -12.725  1.00 94.94           C  \\nATOM   1628  CB  LYS A 217       8.022 -13.420 -15.057  1.00 94.94           C  \\nATOM   1629  O   LYS A 217       9.981 -13.903 -12.605  1.00 94.94           O  \\nATOM   1630  CG  LYS A 217       7.053 -14.063 -16.039  1.00 94.94           C  \\nATOM   1631  CD  LYS A 217       7.297 -13.580 -17.463  1.00 94.94           C  \\nATOM   1632  CE  LYS A 217       6.279 -14.163 -18.433  1.00 94.94           C  \\nATOM   1633  NZ  LYS A 217       6.487 -13.658 -19.824  1.00 94.94           N  \\nATOM   1634  N   ASN A 218       8.692 -12.114 -12.126  1.00 96.04           N  \\nATOM   1635  CA  ASN A 218       9.812 -11.506 -11.415  1.00 96.04           C  \\nATOM   1636  C   ASN A 218       9.551 -11.435  -9.913  1.00 96.04           C  \\nATOM   1637  CB  ASN A 218      10.107 -10.111 -11.970  1.00 96.04           C  \\nATOM   1638  O   ASN A 218      10.442 -11.077  -9.141  1.00 96.04           O  \\nATOM   1639  CG  ASN A 218       8.963  -9.141 -11.748  1.00 96.04           C  \\nATOM   1640  ND2 ASN A 218       9.041  -7.977 -12.382  1.00 96.04           N  \\nATOM   1641  OD1 ASN A 218       8.017  -9.435 -11.013  1.00 96.04           O  \\nATOM   1642  N   ALA A 219       8.370 -11.776  -9.461  1.00 97.55           N  \\nATOM   1643  CA  ALA A 219       7.965 -11.603  -8.069  1.00 97.55           C  \\nATOM   1644  C   ALA A 219       8.856 -12.415  -7.133  1.00 97.55           C  \\nATOM   1645  CB  ALA A 219       6.503 -12.005  -7.887  1.00 97.55           C  \\nATOM   1646  O   ALA A 219       9.275 -11.922  -6.083  1.00 97.55           O  \\nATOM   1647  N   ARG A 220       9.237 -13.634  -7.545  1.00 97.47           N  \\nATOM   1648  CA  ARG A 220      10.041 -14.504  -6.694  1.00 97.47           C  \\nATOM   1649  C   ARG A 220      11.443 -13.937  -6.499  1.00 97.47           C  \\nATOM   1650  CB  ARG A 220      10.123 -15.912  -7.288  1.00 97.47           C  \\nATOM   1651  O   ARG A 220      11.939 -13.867  -5.373  1.00 97.47           O  \\nATOM   1652  CG  ARG A 220      10.961 -16.879  -6.468  1.00 97.47           C  \\nATOM   1653  CD  ARG A 220      10.281 -17.241  -5.155  1.00 97.47           C  \\nATOM   1654  NE  ARG A 220      10.871 -18.434  -4.553  1.00 97.47           N  \\nATOM   1655  NH1 ARG A 220       9.316 -18.597  -2.852  1.00 97.47           N  \\nATOM   1656  NH2 ARG A 220      11.014 -20.129  -3.011  1.00 97.47           N  \\nATOM   1657  CZ  ARG A 220      10.399 -19.051  -3.473  1.00 97.47           C  \\nATOM   1658  N   THR A 221      12.056 -13.527  -7.548  1.00 97.64           N  \\nATOM   1659  CA  THR A 221      13.412 -12.996  -7.453  1.00 97.64           C  \\nATOM   1660  C   THR A 221      13.430 -11.701  -6.646  1.00 97.64           C  \\nATOM   1661  CB  THR A 221      14.011 -12.742  -8.849  1.00 97.64           C  \\nATOM   1662  O   THR A 221      14.350 -11.467  -5.860  1.00 97.64           O  \\nATOM   1663  CG2 THR A 221      14.209 -14.050  -9.608  1.00 97.64           C  \\nATOM   1664  OG1 THR A 221      13.126 -11.898  -9.596  1.00 97.64           O  \\nATOM   1665  N   LEU A 222      12.428 -10.893  -6.805  1.00 97.68           N  \\nATOM   1666  CA  LEU A 222      12.336  -9.668  -6.019  1.00 97.68           C  \\nATOM   1667  C   LEU A 222      12.162  -9.984  -4.537  1.00 97.68           C  \\nATOM   1668  CB  LEU A 222      11.171  -8.804  -6.508  1.00 97.68           C  \\nATOM   1669  O   LEU A 222      12.803  -9.362  -3.686  1.00 97.68           O  \\nATOM   1670  CG  LEU A 222      11.383  -8.064  -7.830  1.00 97.68           C  \\nATOM   1671  CD1 LEU A 222      10.048  -7.587  -8.391  1.00 97.68           C  \\nATOM   1672  CD2 LEU A 222      12.338  -6.890  -7.638  1.00 97.68           C  \\nATOM   1673  N   TYR A 223      11.337 -10.973  -4.268  1.00 97.58           N  \\nATOM   1674  CA  TYR A 223      11.036 -11.303  -2.879  1.00 97.58           C  \\nATOM   1675  C   TYR A 223      12.251 -11.906  -2.186  1.00 97.58           C  \\nATOM   1676  CB  TYR A 223       9.855 -12.275  -2.802  1.00 97.58           C  \\nATOM   1677  O   TYR A 223      12.366 -11.849  -0.960  1.00 97.58           O  \\nATOM   1678  CG  TYR A 223       9.434 -12.608  -1.391  1.00 97.58           C  \\nATOM   1679  CD1 TYR A 223       9.539 -13.908  -0.901  1.00 97.58           C  \\nATOM   1680  CD2 TYR A 223       8.931 -11.625  -0.546  1.00 97.58           C  \\nATOM   1681  CE1 TYR A 223       9.151 -14.220   0.398  1.00 97.58           C  \\nATOM   1682  CE2 TYR A 223       8.541 -11.926   0.755  1.00 97.58           C  \\nATOM   1683  OH  TYR A 223       8.269 -13.528   2.504  1.00 97.58           O  \\nATOM   1684  CZ  TYR A 223       8.655 -13.224   1.217  1.00 97.58           C  \\nATOM   1685  N   GLN A 224      13.169 -12.454  -2.902  1.00 97.08           N  \\nATOM   1686  CA  GLN A 224      14.353 -13.084  -2.328  1.00 97.08           C  \\nATOM   1687  C   GLN A 224      15.302 -12.042  -1.743  1.00 97.08           C  \\nATOM   1688  CB  GLN A 224      15.079 -13.923  -3.381  1.00 97.08           C  \\nATOM   1689  O   GLN A 224      16.196 -12.378  -0.964  1.00 97.08           O  \\nATOM   1690  CG  GLN A 224      14.351 -15.209  -3.752  1.00 97.08           C  \\nATOM   1691  CD  GLN A 224      15.019 -15.953  -4.893  1.00 97.08           C  \\nATOM   1692  NE2 GLN A 224      14.822 -17.266  -4.940  1.00 97.08           N  \\nATOM   1693  OE1 GLN A 224      15.705 -15.353  -5.726  1.00 97.08           O  \\nATOM   1694  N   GLN A 225      15.058 -10.804  -2.103  1.00 97.74           N  \\nATOM   1695  CA  GLN A 225      15.886  -9.756  -1.515  1.00 97.74           C  \\nATOM   1696  C   GLN A 225      15.578  -9.580  -0.031  1.00 97.74           C  \\nATOM   1697  CB  GLN A 225      15.684  -8.433  -2.254  1.00 97.74           C  \\nATOM   1698  O   GLN A 225      14.418  -9.657   0.381  1.00 97.74           O  \\nATOM   1699  CG  GLN A 225      15.990  -8.508  -3.744  1.00 97.74           C  \\nATOM   1700  CD  GLN A 225      17.385  -9.029  -4.031  1.00 97.74           C  \\nATOM   1701  NE2 GLN A 225      17.475 -10.053  -4.873  1.00 97.74           N  \\nATOM   1702  OE1 GLN A 225      18.375  -8.514  -3.501  1.00 97.74           O  \\nATOM   1703  N   ARG A 226      16.583  -9.374   0.746  1.00 97.00           N  \\nATOM   1704  CA  ARG A 226      16.579  -9.409   2.205  1.00 97.00           C  \\nATOM   1705  C   ARG A 226      15.526  -8.464   2.773  1.00 97.00           C  \\nATOM   1706  CB  ARG A 226      17.960  -9.048   2.756  1.00 97.00           C  \\nATOM   1707  O   ARG A 226      14.814  -8.813   3.717  1.00 97.00           O  \\nATOM   1708  CG  ARG A 226      18.045  -9.078   4.273  1.00 97.00           C  \\nATOM   1709  CD  ARG A 226      19.443  -8.732   4.767  1.00 97.00           C  \\nATOM   1710  NE  ARG A 226      19.500  -8.669   6.224  1.00 97.00           N  \\nATOM   1711  NH1 ARG A 226      21.765  -8.225   6.323  1.00 97.00           N  \\nATOM   1712  NH2 ARG A 226      20.540  -8.396   8.253  1.00 97.00           N  \\nATOM   1713  CZ  ARG A 226      20.601  -8.430   6.930  1.00 97.00           C  \\nATOM   1714  N   ASP A 227      15.372  -7.244   2.209  1.00 97.95           N  \\nATOM   1715  CA  ASP A 227      14.580  -6.206   2.861  1.00 97.95           C  \\nATOM   1716  C   ASP A 227      13.238  -6.016   2.158  1.00 97.95           C  \\nATOM   1717  CB  ASP A 227      15.349  -4.884   2.892  1.00 97.95           C  \\nATOM   1718  O   ASP A 227      12.456  -5.139   2.529  1.00 97.95           O  \\nATOM   1719  CG  ASP A 227      16.555  -4.920   3.815  1.00 97.95           C  \\nATOM   1720  OD1 ASP A 227      16.376  -4.959   5.051  1.00 97.95           O  \\nATOM   1721  OD2 ASP A 227      17.694  -4.907   3.301  1.00 97.95           O  \\nATOM   1722  N   VAL A 228      12.965  -6.877   1.172  1.00 98.25           N  \\nATOM   1723  CA  VAL A 228      11.667  -6.821   0.507  1.00 98.25           C  \\nATOM   1724  C   VAL A 228      10.672  -7.720   1.238  1.00 98.25           C  \\nATOM   1725  CB  VAL A 228      11.771  -7.238  -0.977  1.00 98.25           C  \\nATOM   1726  O   VAL A 228      10.859  -8.937   1.305  1.00 98.25           O  \\nATOM   1727  CG1 VAL A 228      10.392  -7.243  -1.635  1.00 98.25           C  \\nATOM   1728  CG2 VAL A 228      12.721  -6.306  -1.727  1.00 98.25           C  \\nATOM   1729  N   ASN A 229       9.574  -7.070   1.756  1.00 98.43           N  \\nATOM   1730  CA  ASN A 229       8.599  -7.796   2.563  1.00 98.43           C  \\nATOM   1731  C   ASN A 229       7.258  -7.920   1.845  1.00 98.43           C  \\nATOM   1732  CB  ASN A 229       8.413  -7.117   3.921  1.00 98.43           C  \\nATOM   1733  O   ASN A 229       6.212  -8.025   2.488  1.00 98.43           O  \\nATOM   1734  CG  ASN A 229       9.713  -6.984   4.690  1.00 98.43           C  \\nATOM   1735  ND2 ASN A 229      10.365  -8.110   4.952  1.00 98.43           N  \\nATOM   1736  OD1 ASN A 229      10.127  -5.878   5.046  1.00 98.43           O  \\nATOM   1737  N   GLY A 230       7.229  -7.884   0.534  1.00 98.39           N  \\nATOM   1738  CA  GLY A 230       6.023  -8.057  -0.259  1.00 98.39           C  \\nATOM   1739  C   GLY A 230       5.872  -7.014  -1.351  1.00 98.39           C  \\nATOM   1740  O   GLY A 230       6.854  -6.398  -1.769  1.00 98.39           O  \\nATOM   1741  N   PHE A 231       4.560  -6.858  -1.778  1.00 98.64           N  \\nATOM   1742  CA  PHE A 231       4.381  -6.075  -2.996  1.00 98.64           C  \\nATOM   1743  C   PHE A 231       3.111  -5.236  -2.918  1.00 98.64           C  \\nATOM   1744  CB  PHE A 231       4.331  -6.991  -4.222  1.00 98.64           C  \\nATOM   1745  O   PHE A 231       2.129  -5.643  -2.294  1.00 98.64           O  \\nATOM   1746  CG  PHE A 231       5.486  -7.952  -4.310  1.00 98.64           C  \\nATOM   1747  CD1 PHE A 231       6.764  -7.499  -4.611  1.00 98.64           C  \\nATOM   1748  CD2 PHE A 231       5.292  -9.310  -4.092  1.00 98.64           C  \\nATOM   1749  CE1 PHE A 231       7.835  -8.386  -4.692  1.00 98.64           C  \\nATOM   1750  CE2 PHE A 231       6.358 -10.203  -4.172  1.00 98.64           C  \\nATOM   1751  CZ  PHE A 231       7.628  -9.739  -4.473  1.00 98.64           C  \\nATOM   1752  N   LEU A 232       3.166  -4.013  -3.417  1.00 98.61           N  \\nATOM   1753  CA  LEU A 232       2.006  -3.236  -3.838  1.00 98.61           C  \\nATOM   1754  C   LEU A 232       1.848  -3.273  -5.354  1.00 98.61           C  \\nATOM   1755  CB  LEU A 232       2.130  -1.786  -3.362  1.00 98.61           C  \\nATOM   1756  O   LEU A 232       2.629  -2.654  -6.080  1.00 98.61           O  \\nATOM   1757  CG  LEU A 232       0.956  -0.862  -3.689  1.00 98.61           C  \\nATOM   1758  CD1 LEU A 232      -0.291  -1.301  -2.929  1.00 98.61           C  \\nATOM   1759  CD2 LEU A 232       1.307   0.585  -3.359  1.00 98.61           C  \\nATOM   1760  N   VAL A 233       0.812  -4.031  -5.865  1.00 98.00           N  \\nATOM   1761  CA  VAL A 233       0.728  -4.408  -7.272  1.00 98.00           C  \\nATOM   1762  C   VAL A 233      -0.479  -3.730  -7.918  1.00 98.00           C  \\nATOM   1763  CB  VAL A 233       0.635  -5.940  -7.445  1.00 98.00           C  \\nATOM   1764  O   VAL A 233      -1.590  -3.792  -7.387  1.00 98.00           O  \\nATOM   1765  CG1 VAL A 233       0.666  -6.320  -8.925  1.00 98.00           C  \\nATOM   1766  CG2 VAL A 233       1.768  -6.632  -6.689  1.00 98.00           C  \\nATOM   1767  N   GLY A 234      -0.314  -3.037  -9.026  1.00 96.12           N  \\nATOM   1768  CA  GLY A 234      -1.383  -2.394  -9.773  1.00 96.12           C  \\nATOM   1769  C   GLY A 234      -1.929  -3.256 -10.896  1.00 96.12           C  \\nATOM   1770  O   GLY A 234      -2.792  -4.106 -10.670  1.00 96.12           O  \\nATOM   1771  N   GLY A 235      -1.437  -3.193 -12.100  1.00 94.81           N  \\nATOM   1772  CA  GLY A 235      -1.934  -3.829 -13.310  1.00 94.81           C  \\nATOM   1773  C   GLY A 235      -2.050  -5.336 -13.187  1.00 94.81           C  \\nATOM   1774  O   GLY A 235      -3.087  -5.913 -13.522  1.00 94.81           O  \\nATOM   1775  N   ALA A 236      -0.981  -5.987 -12.678  1.00 96.52           N  \\nATOM   1776  CA  ALA A 236      -0.957  -7.445 -12.586  1.00 96.52           C  \\nATOM   1777  C   ALA A 236      -1.974  -7.947 -11.566  1.00 96.52           C  \\nATOM   1778  CB  ALA A 236       0.444  -7.931 -12.220  1.00 96.52           C  \\nATOM   1779  O   ALA A 236      -2.411  -9.099 -11.631  1.00 96.52           O  \\nATOM   1780  N   SER A 237      -2.368  -6.985 -10.682  1.00 97.81           N  \\nATOM   1781  CA  SER A 237      -3.300  -7.390  -9.634  1.00 97.81           C  \\nATOM   1782  C   SER A 237      -4.724  -7.492 -10.171  1.00 97.81           C  \\nATOM   1783  CB  SER A 237      -3.256  -6.404  -8.466  1.00 97.81           C  \\nATOM   1784  O   SER A 237      -5.623  -7.966  -9.473  1.00 97.81           O  \\nATOM   1785  OG  SER A 237      -3.867  -5.176  -8.821  1.00 97.81           O  \\nATOM   1786  N   LEU A 238      -4.978  -7.094 -11.413  1.00 97.76           N  \\nATOM   1787  CA  LEU A 238      -6.288  -7.168 -12.050  1.00 97.76           C  \\nATOM   1788  C   LEU A 238      -6.427  -8.452 -12.861  1.00 97.76           C  \\nATOM   1789  CB  LEU A 238      -6.514  -5.953 -12.954  1.00 97.76           C  \\nATOM   1790  O   LEU A 238      -7.411  -8.633 -13.581  1.00 97.76           O  \\nATOM   1791  CG  LEU A 238      -6.774  -4.621 -12.248  1.00 97.76           C  \\nATOM   1792  CD1 LEU A 238      -6.471  -3.457 -13.185  1.00 97.76           C  \\nATOM   1793  CD2 LEU A 238      -8.213  -4.552 -11.748  1.00 97.76           C  \\nATOM   1794  N   LYS A 239      -5.442  -9.260 -12.784  1.00 97.64           N  \\nATOM   1795  CA  LYS A 239      -5.391 -10.512 -13.532  1.00 97.64           C  \\nATOM   1796  C   LYS A 239      -5.172 -11.701 -12.600  1.00 97.64           C  \\nATOM   1797  CB  LYS A 239      -4.286 -10.463 -14.589  1.00 97.64           C  \\nATOM   1798  O   LYS A 239      -4.718 -11.531 -11.467  1.00 97.64           O  \\nATOM   1799  CG  LYS A 239      -4.411  -9.299 -15.561  1.00 97.64           C  \\nATOM   1800  CD  LYS A 239      -3.209  -9.220 -16.494  1.00 97.64           C  \\nATOM   1801  CE  LYS A 239      -3.301  -8.017 -17.423  1.00 97.64           C  \\nATOM   1802  NZ  LYS A 239      -2.098  -7.903 -18.302  1.00 97.64           N  \\nATOM   1803  N   PRO A 240      -5.506 -12.963 -13.151  1.00 97.93           N  \\nATOM   1804  CA  PRO A 240      -5.293 -14.169 -12.347  1.00 97.93           C  \\nATOM   1805  C   PRO A 240      -3.845 -14.321 -11.885  1.00 97.93           C  \\nATOM   1806  CB  PRO A 240      -5.685 -15.302 -13.299  1.00 97.93           C  \\nATOM   1807  O   PRO A 240      -3.583 -14.967 -10.867  1.00 97.93           O  \\nATOM   1808  CG  PRO A 240      -6.718 -14.704 -14.199  1.00 97.93           C  \\nATOM   1809  CD  PRO A 240      -6.325 -13.286 -14.500  1.00 97.93           C  \\nATOM   1810  N   GLU A 241      -2.984 -13.723 -12.615  1.00 97.41           N  \\nATOM   1811  CA  GLU A 241      -1.561 -13.851 -12.314  1.00 97.41           C  \\nATOM   1812  C   GLU A 241      -1.240 -13.311 -10.923  1.00 97.41           C  \\nATOM   1813  CB  GLU A 241      -0.721 -13.123 -13.367  1.00 97.41           C  \\nATOM   1814  O   GLU A 241      -0.183 -13.610 -10.364  1.00 97.41           O  \\nATOM   1815  CG  GLU A 241      -0.854 -11.608 -13.320  1.00 97.41           C  \\nATOM   1816  CD  GLU A 241       0.016 -10.897 -14.345  1.00 97.41           C  \\nATOM   1817  OE1 GLU A 241      -0.221  -9.698 -14.616  1.00 97.41           O  \\nATOM   1818  OE2 GLU A 241       0.943 -11.545 -14.881  1.00 97.41           O  \\nATOM   1819  N   PHE A 242      -2.010 -12.454 -10.284  1.00 98.35           N  \\nATOM   1820  CA  PHE A 242      -1.791 -11.955  -8.931  1.00 98.35           C  \\nATOM   1821  C   PHE A 242      -1.644 -13.108  -7.946  1.00 98.35           C  \\nATOM   1822  CB  PHE A 242      -2.943 -11.041  -8.501  1.00 98.35           C  \\nATOM   1823  O   PHE A 242      -0.903 -13.004  -6.966  1.00 98.35           O  \\nATOM   1824  CG  PHE A 242      -2.699 -10.330  -7.197  1.00 98.35           C  \\nATOM   1825  CD1 PHE A 242      -3.563 -10.503  -6.123  1.00 98.35           C  \\nATOM   1826  CD2 PHE A 242      -1.605  -9.487  -7.046  1.00 98.35           C  \\nATOM   1827  CE1 PHE A 242      -3.340  -9.846  -4.915  1.00 98.35           C  \\nATOM   1828  CE2 PHE A 242      -1.376  -8.827  -5.842  1.00 98.35           C  \\nATOM   1829  CZ  PHE A 242      -2.245  -9.008  -4.778  1.00 98.35           C  \\nATOM   1830  N   VAL A 243      -2.296 -14.238  -8.155  1.00 98.19           N  \\nATOM   1831  CA  VAL A 243      -2.170 -15.435  -7.331  1.00 98.19           C  \\nATOM   1832  C   VAL A 243      -0.725 -15.930  -7.355  1.00 98.19           C  \\nATOM   1833  CB  VAL A 243      -3.125 -16.554  -7.805  1.00 98.19           C  \\nATOM   1834  O   VAL A 243      -0.187 -16.346  -6.326  1.00 98.19           O  \\nATOM   1835  CG1 VAL A 243      -2.819 -17.866  -7.085  1.00 98.19           C  \\nATOM   1836  CG2 VAL A 243      -4.579 -16.144  -7.580  1.00 98.19           C  \\nATOM   1837  N   ASP A 244      -0.115 -15.893  -8.568  1.00 98.07           N  \\nATOM   1838  CA  ASP A 244       1.294 -16.257  -8.678  1.00 98.07           C  \\nATOM   1839  C   ASP A 244       2.169 -15.322  -7.846  1.00 98.07           C  \\nATOM   1840  CB  ASP A 244       1.741 -16.233 -10.141  1.00 98.07           C  \\nATOM   1841  O   ASP A 244       3.152 -15.758  -7.242  1.00 98.07           O  \\nATOM   1842  CG  ASP A 244       1.019 -17.256 -10.999  1.00 98.07           C  \\nATOM   1843  OD1 ASP A 244       0.709 -18.360 -10.501  1.00 98.07           O  \\nATOM   1844  OD2 ASP A 244       0.759 -16.957 -12.185  1.00 98.07           O  \\nATOM   1845  N   ILE A 245       1.854 -14.077  -7.790  1.00 98.41           N  \\nATOM   1846  CA  ILE A 245       2.599 -13.088  -7.018  1.00 98.41           C  \\nATOM   1847  C   ILE A 245       2.438 -13.369  -5.526  1.00 98.41           C  \\nATOM   1848  CB  ILE A 245       2.137 -11.650  -7.346  1.00 98.41           C  \\nATOM   1849  O   ILE A 245       3.405 -13.291  -4.765  1.00 98.41           O  \\nATOM   1850  CG1 ILE A 245       2.488 -11.295  -8.796  1.00 98.41           C  \\nATOM   1851  CG2 ILE A 245       2.760 -10.648  -6.371  1.00 98.41           C  \\nATOM   1852  CD1 ILE A 245       1.843 -10.007  -9.290  1.00 98.41           C  \\nATOM   1853  N   ILE A 246       1.238 -13.760  -5.095  1.00 98.52           N  \\nATOM   1854  CA  ILE A 246       1.003 -14.147  -3.708  1.00 98.52           C  \\nATOM   1855  C   ILE A 246       1.870 -15.353  -3.355  1.00 98.52           C  \\nATOM   1856  CB  ILE A 246      -0.488 -14.467  -3.456  1.00 98.52           C  \\nATOM   1857  O   ILE A 246       2.554 -15.355  -2.329  1.00 98.52           O  \\nATOM   1858  CG1 ILE A 246      -1.339 -13.201  -3.611  1.00 98.52           C  \\nATOM   1859  CG2 ILE A 246      -0.680 -15.089  -2.070  1.00 98.52           C  \\nATOM   1860  CD1 ILE A 246      -2.836 -13.467  -3.686  1.00 98.52           C  \\nATOM   1861  N   LYS A 247       1.933 -16.324  -4.216  1.00 97.96           N  \\nATOM   1862  CA  LYS A 247       2.676 -17.560  -3.992  1.00 97.96           C  \\nATOM   1863  C   LYS A 247       4.179 -17.299  -3.951  1.00 97.96           C  \\nATOM   1864  CB  LYS A 247       2.352 -18.586  -5.079  1.00 97.96           C  \\nATOM   1865  O   LYS A 247       4.916 -17.992  -3.246  1.00 97.96           O  \\nATOM   1866  CG  LYS A 247       0.947 -19.162  -4.988  1.00 97.96           C  \\nATOM   1867  CD  LYS A 247       0.676 -20.156  -6.110  1.00 97.96           C  \\nATOM   1868  CE  LYS A 247      -0.735 -20.723  -6.027  1.00 97.96           C  \\nATOM   1869  NZ  LYS A 247      -1.038 -21.623  -7.180  1.00 97.96           N  \\nATOM   1870  N   ALA A 248       4.610 -16.328  -4.634  1.00 97.71           N  \\nATOM   1871  CA  ALA A 248       6.028 -15.988  -4.715  1.00 97.71           C  \\nATOM   1872  C   ALA A 248       6.560 -15.525  -3.362  1.00 97.71           C  \\nATOM   1873  CB  ALA A 248       6.257 -14.910  -5.771  1.00 97.71           C  \\nATOM   1874  O   ALA A 248       7.771 -15.524  -3.131  1.00 97.71           O  \\nATOM   1875  N   THR A 249       5.625 -15.168  -2.380  1.00 97.07           N  \\nATOM   1876  CA  THR A 249       6.054 -14.671  -1.077  1.00 97.07           C  \\nATOM   1877  C   THR A 249       6.201 -15.819  -0.082  1.00 97.07           C  \\nATOM   1878  CB  THR A 249       5.064 -13.631  -0.523  1.00 97.07           C  \\nATOM   1879  O   THR A 249       6.298 -15.592   1.125  1.00 97.07           O  \\nATOM   1880  CG2 THR A 249       4.875 -12.475  -1.500  1.00 97.07           C  \\nATOM   1881  OG1 THR A 249       3.797 -14.260  -0.294  1.00 97.07           O  \\nATOM   1882  N   GLN A 250       6.184 -16.949  -0.521  1.00 93.32           N  \\nATOM   1883  CA  GLN A 250       6.416 -18.128   0.308  1.00 93.32           C  \\nATOM   1884  C   GLN A 250       7.885 -18.237   0.709  1.00 93.32           C  \\nATOM   1885  CB  GLN A 250       5.977 -19.396  -0.426  1.00 93.32           C  \\nATOM   1886  O   GLN A 250       8.198 -18.582   1.850  1.00 93.32           O  \\nATOM   1887  CG  GLN A 250       6.045 -20.655   0.427  1.00 93.32           C  \\nATOM   1888  CD  GLN A 250       5.495 -21.877  -0.284  1.00 93.32           C  \\nATOM   1889  NE2 GLN A 250       5.278 -22.952   0.465  1.00 93.32           N  \\nATOM   1890  OE1 GLN A 250       5.268 -21.855  -1.498  1.00 93.32           O  \\nTER    1891      GLN A 250                                                      \\nENDMDL                                                                          \\nEND                                                                             \\n\",\"pdb\");\n\tviewer_1666918811149827.setStyle({\"cartoon\": {\"colorscheme\": {\"prop\": \"b\", \"gradient\": \"roygb\", \"min\": 50, \"max\": 90}}});\n\tviewer_1666918811149827.zoomTo();\nviewer_1666918811149827.render();\n});\n</script>",
            "text/html": [
              "<div id=\"3dmolviewer_1666918811149827\"  style=\"position: relative; width: 640px; height: 480px\">\n",
              "        <p id=\"3dmolwarning_1666918811149827\" style=\"background-color:#ffcccc;color:black\">You appear to be running in JupyterLab (or JavaScript failed to load for some other reason).  You need to install the 3dmol extension: <br>\n",
              "        <tt>jupyter labextension install jupyterlab_3dmol</tt></p>\n",
              "        </div>\n",
              "<script>\n",
              "\n",
              "var loadScriptAsync = function(uri){\n",
              "  return new Promise((resolve, reject) => {\n",
              "    var tag = document.createElement('script');\n",
              "    tag.src = uri;\n",
              "    tag.async = true;\n",
              "    tag.onload = () => {\n",
              "      resolve();\n",
              "    };\n",
              "  var firstScriptTag = document.getElementsByTagName('script')[0];\n",
              "  firstScriptTag.parentNode.insertBefore(tag, firstScriptTag);\n",
              "});\n",
              "};\n",
              "\n",
              "if(typeof $3Dmolpromise === 'undefined') {\n",
              "$3Dmolpromise = null;\n",
              "  $3Dmolpromise = loadScriptAsync('https://3dmol.org/build/3Dmol.js');\n",
              "}\n",
              "\n",
              "var viewer_1666918811149827 = null;\n",
              "var warn = document.getElementById(\"3dmolwarning_1666918811149827\");\n",
              "if(warn) {\n",
              "    warn.parentNode.removeChild(warn);\n",
              "}\n",
              "$3Dmolpromise.then(function() {\n",
              "viewer_1666918811149827 = $3Dmol.createViewer($(\"#3dmolviewer_1666918811149827\"),{backgroundColor:\"white\"});\n",
              "viewer_1666918811149827.zoomTo();\n",
              "\tviewer_1666918811149827.addModel(\"MODEL     1                                                                     \\nATOM      1  N   MET A   1      17.139 -13.907  12.117  1.00 55.90           N  \\nATOM      2  CA  MET A   1      15.915 -13.147  12.353  1.00 55.90           C  \\nATOM      3  C   MET A   1      14.979 -13.236  11.152  1.00 55.90           C  \\nATOM      4  CB  MET A   1      16.240 -11.683  12.655  1.00 55.90           C  \\nATOM      5  O   MET A   1      15.422 -13.142  10.006  1.00 55.90           O  \\nATOM      6  CG  MET A   1      16.615 -11.425  14.105  1.00 55.90           C  \\nATOM      7  SD  MET A   1      16.586  -9.641  14.532  1.00 55.90           S  \\nATOM      8  CE  MET A   1      18.343  -9.371  14.897  1.00 55.90           C  \\nATOM      9  N   SER A   2      13.888 -13.898  11.261  1.00 78.43           N  \\nATOM     10  CA  SER A   2      12.886 -14.152  10.231  1.00 78.43           C  \\nATOM     11  C   SER A   2      12.313 -12.849   9.683  1.00 78.43           C  \\nATOM     12  CB  SER A   2      11.757 -15.022  10.784  1.00 78.43           C  \\nATOM     13  O   SER A   2      12.268 -11.839  10.389  1.00 78.43           O  \\nATOM     14  OG  SER A   2      11.005 -14.313  11.755  1.00 78.43           O  \\nATOM     15  N   LYS A   3      12.364 -12.635   8.353  1.00 89.06           N  \\nATOM     16  CA  LYS A   3      11.748 -11.547   7.599  1.00 89.06           C  \\nATOM     17  C   LYS A   3      10.339 -11.256   8.107  1.00 89.06           C  \\nATOM     18  CB  LYS A   3      11.709 -11.882   6.107  1.00 89.06           C  \\nATOM     19  O   LYS A   3       9.608 -12.174   8.486  1.00 89.06           O  \\nATOM     20  CG  LYS A   3      11.412 -10.687   5.213  1.00 89.06           C  \\nATOM     21  CD  LYS A   3      11.467 -11.066   3.738  1.00 89.06           C  \\nATOM     22  CE  LYS A   3      11.168  -9.872   2.842  1.00 89.06           C  \\nATOM     23  NZ  LYS A   3      11.158 -10.252   1.398  1.00 89.06           N  \\nATOM     24  N   PRO A   4       9.930  -9.886   8.335  1.00 96.34           N  \\nATOM     25  CA  PRO A   4       8.537  -9.580   8.670  1.00 96.34           C  \\nATOM     26  C   PRO A   4       7.542 -10.257   7.730  1.00 96.34           C  \\nATOM     27  CB  PRO A   4       8.468  -8.057   8.532  1.00 96.34           C  \\nATOM     28  O   PRO A   4       7.894 -10.609   6.601  1.00 96.34           O  \\nATOM     29  CG  PRO A   4       9.876  -7.592   8.718  1.00 96.34           C  \\nATOM     30  CD  PRO A   4      10.799  -8.619   8.127  1.00 96.34           C  \\nATOM     31  N   GLN A   5       6.338 -10.570   8.306  1.00 97.43           N  \\nATOM     32  CA  GLN A   5       5.293 -11.172   7.485  1.00 97.43           C  \\nATOM     33  C   GLN A   5       5.127 -10.420   6.168  1.00 97.43           C  \\nATOM     34  CB  GLN A   5       3.965 -11.203   8.243  1.00 97.43           C  \\nATOM     35  O   GLN A   5       4.991  -9.195   6.159  1.00 97.43           O  \\nATOM     36  CG  GLN A   5       2.851 -11.930   7.503  1.00 97.43           C  \\nATOM     37  CD  GLN A   5       1.509 -11.816   8.202  1.00 97.43           C  \\nATOM     38  NE2 GLN A   5       0.703 -12.869   8.115  1.00 97.43           N  \\nATOM     39  OE1 GLN A   5       1.199 -10.790   8.815  1.00 97.43           O  \\nATOM     40  N   PRO A   6       5.195 -11.037   5.027  1.00 98.30           N  \\nATOM     41  CA  PRO A   6       5.005 -10.356   3.744  1.00 98.30           C  \\nATOM     42  C   PRO A   6       3.559  -9.919   3.517  1.00 98.30           C  \\nATOM     43  CB  PRO A   6       5.422 -11.413   2.718  1.00 98.30           C  \\nATOM     44  O   PRO A   6       2.638 -10.488   4.107  1.00 98.30           O  \\nATOM     45  CG  PRO A   6       5.120 -12.722   3.373  1.00 98.30           C  \\nATOM     46  CD  PRO A   6       5.385 -12.591   4.846  1.00 98.30           C  \\nATOM     47  N   ILE A   7       3.444  -8.894   2.629  1.00 98.78           N  \\nATOM     48  CA  ILE A   7       2.146  -8.402   2.180  1.00 98.78           C  \\nATOM     49  C   ILE A   7       2.077  -8.443   0.655  1.00 98.78           C  \\nATOM     50  CB  ILE A   7       1.877  -6.968   2.690  1.00 98.78           C  \\nATOM     51  O   ILE A   7       3.015  -8.022  -0.027  1.00 98.78           O  \\nATOM     52  CG1 ILE A   7       1.826  -6.947   4.222  1.00 98.78           C  \\nATOM     53  CG2 ILE A   7       0.581  -6.416   2.090  1.00 98.78           C  \\nATOM     54  CD1 ILE A   7       1.687  -5.553   4.817  1.00 98.78           C  \\nATOM     55  N   ALA A   8       1.014  -9.036   0.186  1.00 98.66           N  \\nATOM     56  CA  ALA A   8       0.639  -8.886  -1.218  1.00 98.66           C  \\nATOM     57  C   ALA A   8      -0.603  -8.012  -1.364  1.00 98.66           C  \\nATOM     58  CB  ALA A   8       0.400 -10.254  -1.853  1.00 98.66           C  \\nATOM     59  O   ALA A   8      -1.715  -8.444  -1.049  1.00 98.66           O  \\nATOM     60  N   ALA A   9      -0.328  -6.761  -1.790  1.00 98.77           N  \\nATOM     61  CA  ALA A   9      -1.406  -5.778  -1.865  1.00 98.77           C  \\nATOM     62  C   ALA A   9      -1.815  -5.522  -3.312  1.00 98.77           C  \\nATOM     63  CB  ALA A   9      -0.983  -4.473  -1.195  1.00 98.77           C  \\nATOM     64  O   ALA A   9      -0.972  -5.211  -4.157  1.00 98.77           O  \\nATOM     65  N   ALA A  10      -3.088  -5.749  -3.572  1.00 98.54           N  \\nATOM     66  CA  ALA A  10      -3.688  -5.449  -4.869  1.00 98.54           C  \\nATOM     67  C   ALA A  10      -4.314  -4.057  -4.875  1.00 98.54           C  \\nATOM     68  CB  ALA A  10      -4.735  -6.501  -5.227  1.00 98.54           C  \\nATOM     69  O   ALA A  10      -5.401  -3.856  -4.329  1.00 98.54           O  \\nATOM     70  N   ASN A  11      -3.582  -3.089  -5.448  1.00 98.47           N  \\nATOM     71  CA  ASN A  11      -4.122  -1.747  -5.641  1.00 98.47           C  \\nATOM     72  C   ASN A  11      -4.752  -1.589  -7.022  1.00 98.47           C  \\nATOM     73  CB  ASN A  11      -3.032  -0.694  -5.432  1.00 98.47           C  \\nATOM     74  O   ASN A  11      -4.050  -1.342  -8.005  1.00 98.47           O  \\nATOM     75  CG  ASN A  11      -3.568   0.722  -5.490  1.00 98.47           C  \\nATOM     76  ND2 ASN A  11      -2.674   1.689  -5.658  1.00 98.47           N  \\nATOM     77  OD1 ASN A  11      -4.777   0.946  -5.385  1.00 98.47           O  \\nATOM     78  N   TRP A  12      -6.076  -1.749  -7.097  1.00 98.17           N  \\nATOM     79  CA  TRP A  12      -6.775  -1.811  -8.377  1.00 98.17           C  \\nATOM     80  C   TRP A  12      -6.840  -0.435  -9.029  1.00 98.17           C  \\nATOM     81  CB  TRP A  12      -8.189  -2.369  -8.191  1.00 98.17           C  \\nATOM     82  O   TRP A  12      -7.155  -0.317 -10.215  1.00 98.17           O  \\nATOM     83  CG  TRP A  12      -8.227  -3.828  -7.848  1.00 98.17           C  \\nATOM     84  CD1 TRP A  12      -7.217  -4.737  -7.996  1.00 98.17           C  \\nATOM     85  CD2 TRP A  12      -9.337  -4.548  -7.301  1.00 98.17           C  \\nATOM     86  CE2 TRP A  12      -8.928  -5.890  -7.144  1.00 98.17           C  \\nATOM     87  CE3 TRP A  12     -10.639  -4.187  -6.929  1.00 98.17           C  \\nATOM     88  NE1 TRP A  12      -7.631  -5.979  -7.574  1.00 98.17           N  \\nATOM     89  CH2 TRP A  12     -11.044  -6.494  -6.272  1.00 98.17           C  \\nATOM     90  CZ2 TRP A  12      -9.775  -6.874  -6.628  1.00 98.17           C  \\nATOM     91  CZ3 TRP A  12     -11.481  -5.167  -6.417  1.00 98.17           C  \\nATOM     92  N   LYS A  13      -6.458   0.602  -8.262  1.00 97.04           N  \\nATOM     93  CA  LYS A  13      -6.465   1.973  -8.763  1.00 97.04           C  \\nATOM     94  C   LYS A  13      -7.823   2.336  -9.356  1.00 97.04           C  \\nATOM     95  CB  LYS A  13      -5.367   2.167  -9.810  1.00 97.04           C  \\nATOM     96  O   LYS A  13      -8.862   2.080  -8.743  1.00 97.04           O  \\nATOM     97  CG  LYS A  13      -3.970   1.825  -9.314  1.00 97.04           C  \\nATOM     98  CD  LYS A  13      -2.913   2.122 -10.370  1.00 97.04           C  \\nATOM     99  CE  LYS A  13      -1.521   1.729  -9.895  1.00 97.04           C  \\nATOM    100  NZ  LYS A  13      -0.472   2.093 -10.894  1.00 97.04           N  \\nATOM    101  N   CYS A  14      -7.821   2.976 -10.509  1.00 96.76           N  \\nATOM    102  CA  CYS A  14      -9.088   3.383 -11.106  1.00 96.76           C  \\nATOM    103  C   CYS A  14      -9.496   2.430 -12.223  1.00 96.76           C  \\nATOM    104  CB  CYS A  14      -8.992   4.808 -11.649  1.00 96.76           C  \\nATOM    105  O   CYS A  14      -9.716   2.855 -13.358  1.00 96.76           O  \\nATOM    106  SG  CYS A  14     -10.576   5.491 -12.185  1.00 96.76           S  \\nATOM    107  N   ASN A  15      -9.588   1.030 -11.949  1.00 97.92           N  \\nATOM    108  CA  ASN A  15      -9.888   0.010 -12.948  1.00 97.92           C  \\nATOM    109  C   ASN A  15     -10.933  -0.980 -12.442  1.00 97.92           C  \\nATOM    110  CB  ASN A  15      -8.614  -0.728 -13.363  1.00 97.92           C  \\nATOM    111  O   ASN A  15     -11.140  -1.107 -11.234  1.00 97.92           O  \\nATOM    112  CG  ASN A  15      -7.589   0.189 -14.001  1.00 97.92           C  \\nATOM    113  ND2 ASN A  15      -6.437   0.332 -13.356  1.00 97.92           N  \\nATOM    114  OD1 ASN A  15      -7.831   0.765 -15.065  1.00 97.92           O  \\nATOM    115  N   GLY A  16     -11.613  -1.584 -13.472  1.00 96.53           N  \\nATOM    116  CA  GLY A  16     -12.484  -2.712 -13.181  1.00 96.53           C  \\nATOM    117  C   GLY A  16     -13.955  -2.393 -13.368  1.00 96.53           C  \\nATOM    118  O   GLY A  16     -14.353  -1.227 -13.330  1.00 96.53           O  \\nATOM    119  N   SER A  17     -14.745  -3.373 -13.669  1.00 97.50           N  \\nATOM    120  CA  SER A  17     -16.204  -3.373 -13.654  1.00 97.50           C  \\nATOM    121  C   SER A  17     -16.745  -4.317 -12.586  1.00 97.50           C  \\nATOM    122  CB  SER A  17     -16.754  -3.772 -15.025  1.00 97.50           C  \\nATOM    123  O   SER A  17     -16.006  -5.143 -12.047  1.00 97.50           O  \\nATOM    124  OG  SER A  17     -16.524  -5.147 -15.278  1.00 97.50           O  \\nATOM    125  N   GLN A  18     -18.029  -4.139 -12.224  1.00 97.62           N  \\nATOM    126  CA  GLN A  18     -18.621  -5.070 -11.269  1.00 97.62           C  \\nATOM    127  C   GLN A  18     -18.386  -6.517 -11.694  1.00 97.62           C  \\nATOM    128  CB  GLN A  18     -20.120  -4.804 -11.118  1.00 97.62           C  \\nATOM    129  O   GLN A  18     -18.035  -7.362 -10.868  1.00 97.62           O  \\nATOM    130  CG  GLN A  18     -20.444  -3.529 -10.352  1.00 97.62           C  \\nATOM    131  CD  GLN A  18     -21.925  -3.381 -10.057  1.00 97.62           C  \\nATOM    132  NE2 GLN A  18     -22.388  -2.140  -9.951  1.00 97.62           N  \\nATOM    133  OE1 GLN A  18     -22.647  -4.375  -9.927  1.00 97.62           O  \\nATOM    134  N   GLN A  19     -18.557  -6.758 -13.008  1.00 98.04           N  \\nATOM    135  CA  GLN A  19     -18.428  -8.118 -13.521  1.00 98.04           C  \\nATOM    136  C   GLN A  19     -16.987  -8.610 -13.419  1.00 98.04           C  \\nATOM    137  CB  GLN A  19     -18.907  -8.193 -14.971  1.00 98.04           C  \\nATOM    138  O   GLN A  19     -16.732  -9.693 -12.887  1.00 98.04           O  \\nATOM    139  CG  GLN A  19     -18.861  -9.596 -15.562  1.00 98.04           C  \\nATOM    140  CD  GLN A  19     -19.376  -9.649 -16.989  1.00 98.04           C  \\nATOM    141  NE2 GLN A  19     -19.482 -10.854 -17.536  1.00 98.04           N  \\nATOM    142  OE1 GLN A  19     -19.677  -8.614 -17.593  1.00 98.04           O  \\nATOM    143  N   SER A  20     -16.059  -7.835 -13.985  1.00 98.06           N  \\nATOM    144  CA  SER A  20     -14.672  -8.288 -14.016  1.00 98.06           C  \\nATOM    145  C   SER A  20     -14.111  -8.448 -12.607  1.00 98.06           C  \\nATOM    146  CB  SER A  20     -13.806  -7.310 -14.811  1.00 98.06           C  \\nATOM    147  O   SER A  20     -13.386  -9.405 -12.327  1.00 98.06           O  \\nATOM    148  OG  SER A  20     -13.643  -6.093 -14.103  1.00 98.06           O  \\nATOM    149  N   LEU A  21     -14.414  -7.603 -11.672  1.00 98.38           N  \\nATOM    150  CA  LEU A  21     -13.901  -7.662 -10.307  1.00 98.38           C  \\nATOM    151  C   LEU A  21     -14.566  -8.790  -9.525  1.00 98.38           C  \\nATOM    152  CB  LEU A  21     -14.126  -6.328  -9.592  1.00 98.38           C  \\nATOM    153  O   LEU A  21     -13.927  -9.431  -8.688  1.00 98.38           O  \\nATOM    154  CG  LEU A  21     -13.355  -5.126 -10.140  1.00 98.38           C  \\nATOM    155  CD1 LEU A  21     -13.663  -3.879  -9.318  1.00 98.38           C  \\nATOM    156  CD2 LEU A  21     -11.857  -5.410 -10.150  1.00 98.38           C  \\nATOM    157  N   SER A  22     -15.852  -9.061  -9.794  1.00 98.16           N  \\nATOM    158  CA  SER A  22     -16.513 -10.208  -9.181  1.00 98.16           C  \\nATOM    159  C   SER A  22     -15.833 -11.514  -9.578  1.00 98.16           C  \\nATOM    160  CB  SER A  22     -17.989 -10.251  -9.576  1.00 98.16           C  \\nATOM    161  O   SER A  22     -15.640 -12.399  -8.742  1.00 98.16           O  \\nATOM    162  OG  SER A  22     -18.700  -9.178  -8.984  1.00 98.16           O  \\nATOM    163  N   GLU A  23     -15.483 -11.613 -10.857  1.00 98.34           N  \\nATOM    164  CA  GLU A  23     -14.775 -12.796 -11.335  1.00 98.34           C  \\nATOM    165  C   GLU A  23     -13.417 -12.941 -10.653  1.00 98.34           C  \\nATOM    166  CB  GLU A  23     -14.597 -12.739 -12.854  1.00 98.34           C  \\nATOM    167  O   GLU A  23     -13.034 -14.040 -10.247  1.00 98.34           O  \\nATOM    168  CG  GLU A  23     -15.889 -12.940 -13.633  1.00 98.34           C  \\nATOM    169  CD  GLU A  23     -15.740 -12.671 -15.122  1.00 98.34           C  \\nATOM    170  OE1 GLU A  23     -16.738 -12.805 -15.866  1.00 98.34           O  \\nATOM    171  OE2 GLU A  23     -14.616 -12.323 -15.548  1.00 98.34           O  \\nATOM    172  N   LEU A  24     -12.758 -11.841 -10.517  1.00 98.45           N  \\nATOM    173  CA  LEU A  24     -11.452 -11.844  -9.867  1.00 98.45           C  \\nATOM    174  C   LEU A  24     -11.578 -12.223  -8.395  1.00 98.45           C  \\nATOM    175  CB  LEU A  24     -10.785 -10.473  -9.998  1.00 98.45           C  \\nATOM    176  O   LEU A  24     -10.798 -13.032  -7.889  1.00 98.45           O  \\nATOM    177  CG  LEU A  24      -9.306 -10.399  -9.616  1.00 98.45           C  \\nATOM    178  CD1 LEU A  24      -8.496 -11.399 -10.434  1.00 98.45           C  \\nATOM    179  CD2 LEU A  24      -8.772  -8.984  -9.811  1.00 98.45           C  \\nATOM    180  N   ILE A  25     -12.524 -11.665  -7.704  1.00 98.59           N  \\nATOM    181  CA  ILE A  25     -12.764 -11.958  -6.295  1.00 98.59           C  \\nATOM    182  C   ILE A  25     -13.094 -13.439  -6.125  1.00 98.59           C  \\nATOM    183  CB  ILE A  25     -13.904 -11.086  -5.723  1.00 98.59           C  \\nATOM    184  O   ILE A  25     -12.618 -14.084  -5.187  1.00 98.59           O  \\nATOM    185  CG1 ILE A  25     -13.444  -9.630  -5.584  1.00 98.59           C  \\nATOM    186  CG2 ILE A  25     -14.383 -11.639  -4.378  1.00 98.59           C  \\nATOM    187  CD1 ILE A  25     -14.576  -8.644  -5.333  1.00 98.59           C  \\nATOM    188  N   ASP A  26     -13.920 -14.046  -7.077  1.00 98.54           N  \\nATOM    189  CA  ASP A  26     -14.202 -15.477  -7.036  1.00 98.54           C  \\nATOM    190  C   ASP A  26     -12.914 -16.293  -7.120  1.00 98.54           C  \\nATOM    191  CB  ASP A  26     -15.149 -15.871  -8.172  1.00 98.54           C  \\nATOM    192  O   ASP A  26     -12.754 -17.287  -6.408  1.00 98.54           O  \\nATOM    193  CG  ASP A  26     -16.568 -15.374  -7.959  1.00 98.54           C  \\nATOM    194  OD1 ASP A  26     -16.926 -15.023  -6.815  1.00 98.54           O  \\nATOM    195  OD2 ASP A  26     -17.335 -15.337  -8.945  1.00 98.54           O  \\nATOM    196  N   LEU A  27     -12.075 -15.837  -7.963  1.00 98.52           N  \\nATOM    197  CA  LEU A  27     -10.786 -16.507  -8.094  1.00 98.52           C  \\nATOM    198  C   LEU A  27      -9.996 -16.425  -6.792  1.00 98.52           C  \\nATOM    199  CB  LEU A  27      -9.975 -15.890  -9.237  1.00 98.52           C  \\nATOM    200  O   LEU A  27      -9.461 -17.432  -6.322  1.00 98.52           O  \\nATOM    201  CG  LEU A  27      -8.527 -16.363  -9.372  1.00 98.52           C  \\nATOM    202  CD1 LEU A  27      -8.484 -17.838  -9.756  1.00 98.52           C  \\nATOM    203  CD2 LEU A  27      -7.781 -15.516 -10.397  1.00 98.52           C  \\nATOM    204  N   PHE A  28      -9.921 -15.179  -6.201  1.00 98.47           N  \\nATOM    205  CA  PHE A  28      -9.204 -15.017  -4.942  1.00 98.47           C  \\nATOM    206  C   PHE A  28      -9.780 -15.934  -3.869  1.00 98.47           C  \\nATOM    207  CB  PHE A  28      -9.261 -13.560  -4.472  1.00 98.47           C  \\nATOM    208  O   PHE A  28      -9.034 -16.577  -3.128  1.00 98.47           O  \\nATOM    209  CG  PHE A  28      -8.515 -12.605  -5.365  1.00 98.47           C  \\nATOM    210  CD1 PHE A  28      -7.607 -13.076  -6.305  1.00 98.47           C  \\nATOM    211  CD2 PHE A  28      -8.723 -11.236  -5.263  1.00 98.47           C  \\nATOM    212  CE1 PHE A  28      -6.915 -12.194  -7.132  1.00 98.47           C  \\nATOM    213  CE2 PHE A  28      -8.036 -10.348  -6.087  1.00 98.47           C  \\nATOM    214  CZ  PHE A  28      -7.131 -10.830  -7.020  1.00 98.47           C  \\nATOM    215  N   ASN A  29     -11.060 -16.052  -3.780  1.00 98.54           N  \\nATOM    216  CA  ASN A  29     -11.737 -16.851  -2.764  1.00 98.54           C  \\nATOM    217  C   ASN A  29     -11.425 -18.337  -2.920  1.00 98.54           C  \\nATOM    218  CB  ASN A  29     -13.248 -16.618  -2.816  1.00 98.54           C  \\nATOM    219  O   ASN A  29     -11.361 -19.069  -1.931  1.00 98.54           O  \\nATOM    220  CG  ASN A  29     -13.651 -15.269  -2.252  1.00 98.54           C  \\nATOM    221  ND2 ASN A  29     -14.797 -14.762  -2.689  1.00 98.54           N  \\nATOM    222  OD1 ASN A  29     -12.936 -14.688  -1.431  1.00 98.54           O  \\nATOM    223  N   SER A  30     -11.184 -18.771  -4.139  1.00 98.17           N  \\nATOM    224  CA  SER A  30     -11.005 -20.194  -4.404  1.00 98.17           C  \\nATOM    225  C   SER A  30      -9.531 -20.583  -4.365  1.00 98.17           C  \\nATOM    226  CB  SER A  30     -11.604 -20.567  -5.761  1.00 98.17           C  \\nATOM    227  O   SER A  30      -9.194 -21.767  -4.432  1.00 98.17           O  \\nATOM    228  OG  SER A  30     -10.887 -19.946  -6.814  1.00 98.17           O  \\nATOM    229  N   THR A  31      -8.667 -19.565  -4.295  1.00 97.74           N  \\nATOM    230  CA  THR A  31      -7.228 -19.805  -4.312  1.00 97.74           C  \\nATOM    231  C   THR A  31      -6.752 -20.337  -2.963  1.00 97.74           C  \\nATOM    232  CB  THR A  31      -6.452 -18.523  -4.665  1.00 97.74           C  \\nATOM    233  O   THR A  31      -7.149 -19.826  -1.914  1.00 97.74           O  \\nATOM    234  CG2 THR A  31      -4.949 -18.779  -4.690  1.00 97.74           C  \\nATOM    235  OG1 THR A  31      -6.868 -18.059  -5.955  1.00 97.74           O  \\nATOM    236  N   SER A  32      -5.940 -21.400  -3.027  1.00 97.06           N  \\nATOM    237  CA  SER A  32      -5.320 -21.933  -1.818  1.00 97.06           C  \\nATOM    238  C   SER A  32      -4.030 -21.190  -1.485  1.00 97.06           C  \\nATOM    239  CB  SER A  32      -5.032 -23.426  -1.977  1.00 97.06           C  \\nATOM    240  O   SER A  32      -3.107 -21.142  -2.301  1.00 97.06           O  \\nATOM    241  OG  SER A  32      -6.236 -24.159  -2.121  1.00 97.06           O  \\nATOM    242  N   ILE A  33      -4.022 -20.513  -0.364  1.00 97.39           N  \\nATOM    243  CA  ILE A  33      -2.844 -19.837   0.168  1.00 97.39           C  \\nATOM    244  C   ILE A  33      -2.406 -20.508   1.468  1.00 97.39           C  \\nATOM    245  CB  ILE A  33      -3.113 -18.334   0.404  1.00 97.39           C  \\nATOM    246  O   ILE A  33      -3.075 -20.380   2.495  1.00 97.39           O  \\nATOM    247  CG1 ILE A  33      -3.613 -17.671  -0.884  1.00 97.39           C  \\nATOM    248  CG2 ILE A  33      -1.854 -17.635   0.926  1.00 97.39           C  \\nATOM    249  CD1 ILE A  33      -4.102 -16.242  -0.696  1.00 97.39           C  \\nATOM    250  N   ASN A  34      -1.174 -21.298   1.393  1.00 95.21           N  \\nATOM    251  CA  ASN A  34      -0.783 -22.152   2.510  1.00 95.21           C  \\nATOM    252  C   ASN A  34       0.481 -21.639   3.193  1.00 95.21           C  \\nATOM    253  CB  ASN A  34      -0.583 -23.594   2.038  1.00 95.21           C  \\nATOM    254  O   ASN A  34       1.139 -22.378   3.927  1.00 95.21           O  \\nATOM    255  CG  ASN A  34      -1.846 -24.200   1.458  1.00 95.21           C  \\nATOM    256  ND2 ASN A  34      -1.701 -24.946   0.369  1.00 95.21           N  \\nATOM    257  OD1 ASN A  34      -2.944 -23.997   1.983  1.00 95.21           O  \\nATOM    258  N   HIS A  35       0.809 -20.385   2.997  1.00 96.45           N  \\nATOM    259  CA  HIS A  35       1.960 -19.800   3.676  1.00 96.45           C  \\nATOM    260  C   HIS A  35       1.590 -18.482   4.348  1.00 96.45           C  \\nATOM    261  CB  HIS A  35       3.110 -19.583   2.692  1.00 96.45           C  \\nATOM    262  O   HIS A  35       0.483 -17.972   4.159  1.00 96.45           O  \\nATOM    263  CG  HIS A  35       2.828 -18.539   1.659  1.00 96.45           C  \\nATOM    264  CD2 HIS A  35       3.296 -17.276   1.521  1.00 96.45           C  \\nATOM    265  ND1 HIS A  35       1.962 -18.747   0.607  1.00 96.45           N  \\nATOM    266  CE1 HIS A  35       1.911 -17.654  -0.136  1.00 96.45           C  \\nATOM    267  NE2 HIS A  35       2.711 -16.747   0.397  1.00 96.45           N  \\nATOM    268  N   ASP A  36       2.373 -18.003   5.310  1.00 96.56           N  \\nATOM    269  CA  ASP A  36       2.143 -16.810   6.120  1.00 96.56           C  \\nATOM    270  C   ASP A  36       2.324 -15.541   5.290  1.00 96.56           C  \\nATOM    271  CB  ASP A  36       3.085 -16.790   7.325  1.00 96.56           C  \\nATOM    272  O   ASP A  36       3.448 -15.073   5.099  1.00 96.56           O  \\nATOM    273  CG  ASP A  36       2.788 -15.656   8.290  1.00 96.56           C  \\nATOM    274  OD1 ASP A  36       1.675 -15.089   8.242  1.00 96.56           O  \\nATOM    275  OD2 ASP A  36       3.676 -15.324   9.105  1.00 96.56           O  \\nATOM    276  N   VAL A  37       1.125 -15.027   4.691  1.00 98.16           N  \\nATOM    277  CA  VAL A  37       1.107 -13.787   3.922  1.00 98.16           C  \\nATOM    278  C   VAL A  37      -0.185 -13.023   4.203  1.00 98.16           C  \\nATOM    279  CB  VAL A  37       1.249 -14.056   2.407  1.00 98.16           C  \\nATOM    280  O   VAL A  37      -1.250 -13.626   4.351  1.00 98.16           O  \\nATOM    281  CG1 VAL A  37       0.100 -14.929   1.904  1.00 98.16           C  \\nATOM    282  CG2 VAL A  37       1.302 -12.740   1.634  1.00 98.16           C  \\nATOM    283  N   GLN A  38      -0.028 -11.711   4.343  1.00 98.43           N  \\nATOM    284  CA  GLN A  38      -1.188 -10.830   4.425  1.00 98.43           C  \\nATOM    285  C   GLN A  38      -1.574 -10.299   3.047  1.00 98.43           C  \\nATOM    286  CB  GLN A  38      -0.914  -9.667   5.379  1.00 98.43           C  \\nATOM    287  O   GLN A  38      -0.780  -9.619   2.394  1.00 98.43           O  \\nATOM    288  CG  GLN A  38      -2.046  -8.651   5.451  1.00 98.43           C  \\nATOM    289  CD  GLN A  38      -3.291  -9.206   6.119  1.00 98.43           C  \\nATOM    290  NE2 GLN A  38      -4.376  -9.307   5.359  1.00 98.43           N  \\nATOM    291  OE1 GLN A  38      -3.277  -9.542   7.307  1.00 98.43           O  \\nATOM    292  N   CYS A  39      -2.783 -10.571   2.658  1.00 98.69           N  \\nATOM    293  CA  CYS A  39      -3.285 -10.068   1.384  1.00 98.69           C  \\nATOM    294  C   CYS A  39      -4.232  -8.893   1.597  1.00 98.69           C  \\nATOM    295  CB  CYS A  39      -3.999 -11.177   0.613  1.00 98.69           C  \\nATOM    296  O   CYS A  39      -5.065  -8.918   2.505  1.00 98.69           O  \\nATOM    297  SG  CYS A  39      -2.953 -12.605   0.255  1.00 98.69           S  \\nATOM    298  N   VAL A  40      -4.028  -7.851   0.736  1.00 98.77           N  \\nATOM    299  CA  VAL A  40      -4.809  -6.622   0.820  1.00 98.77           C  \\nATOM    300  C   VAL A  40      -5.362  -6.266  -0.559  1.00 98.77           C  \\nATOM    301  CB  VAL A  40      -3.968  -5.451   1.375  1.00 98.77           C  \\nATOM    302  O   VAL A  40      -4.638  -6.317  -1.557  1.00 98.77           O  \\nATOM    303  CG1 VAL A  40      -4.816  -4.187   1.499  1.00 98.77           C  \\nATOM    304  CG2 VAL A  40      -3.360  -5.826   2.726  1.00 98.77           C  \\nATOM    305  N   VAL A  41      -6.658  -5.900  -0.594  1.00 98.72           N  \\nATOM    306  CA  VAL A  41      -7.244  -5.408  -1.836  1.00 98.72           C  \\nATOM    307  C   VAL A  41      -7.722  -3.970  -1.649  1.00 98.72           C  \\nATOM    308  CB  VAL A  41      -8.413  -6.302  -2.306  1.00 98.72           C  \\nATOM    309  O   VAL A  41      -8.600  -3.704  -0.825  1.00 98.72           O  \\nATOM    310  CG1 VAL A  41      -9.089  -5.704  -3.539  1.00 98.72           C  \\nATOM    311  CG2 VAL A  41      -7.918  -7.717  -2.598  1.00 98.72           C  \\nATOM    312  N   ALA A  42      -7.034  -3.080  -2.377  1.00 98.51           N  \\nATOM    313  CA  ALA A  42      -7.481  -1.690  -2.415  1.00 98.51           C  \\nATOM    314  C   ALA A  42      -8.283  -1.406  -3.681  1.00 98.51           C  \\nATOM    315  CB  ALA A  42      -6.286  -0.743  -2.323  1.00 98.51           C  \\nATOM    316  O   ALA A  42      -7.717  -1.301  -4.772  1.00 98.51           O  \\nATOM    317  N   SER A  43      -9.623  -1.320  -3.561  1.00 97.09           N  \\nATOM    318  CA  SER A  43     -10.543  -1.079  -4.667  1.00 97.09           C  \\nATOM    319  C   SER A  43     -10.973   0.383  -4.720  1.00 97.09           C  \\nATOM    320  CB  SER A  43     -11.775  -1.977  -4.546  1.00 97.09           C  \\nATOM    321  O   SER A  43     -10.679   1.156  -3.805  1.00 97.09           O  \\nATOM    322  OG  SER A  43     -12.521  -1.654  -3.385  1.00 97.09           O  \\nATOM    323  N   THR A  44     -11.536   0.833  -5.850  1.00 97.43           N  \\nATOM    324  CA  THR A  44     -12.178   2.142  -5.911  1.00 97.43           C  \\nATOM    325  C   THR A  44     -13.279   2.254  -4.861  1.00 97.43           C  \\nATOM    326  CB  THR A  44     -12.768   2.410  -7.308  1.00 97.43           C  \\nATOM    327  O   THR A  44     -13.809   1.241  -4.399  1.00 97.43           O  \\nATOM    328  CG2 THR A  44     -11.693   2.317  -8.386  1.00 97.43           C  \\nATOM    329  OG1 THR A  44     -13.789   1.443  -7.583  1.00 97.43           O  \\nATOM    330  N   PHE A  45     -13.639   3.470  -4.467  1.00 97.54           N  \\nATOM    331  CA  PHE A  45     -14.652   3.667  -3.437  1.00 97.54           C  \\nATOM    332  C   PHE A  45     -15.980   3.049  -3.858  1.00 97.54           C  \\nATOM    333  CB  PHE A  45     -14.837   5.159  -3.143  1.00 97.54           C  \\nATOM    334  O   PHE A  45     -16.700   2.488  -3.029  1.00 97.54           O  \\nATOM    335  CG  PHE A  45     -13.715   5.764  -2.343  1.00 97.54           C  \\nATOM    336  CD1 PHE A  45     -13.203   5.107  -1.231  1.00 97.54           C  \\nATOM    337  CD2 PHE A  45     -13.173   6.991  -2.703  1.00 97.54           C  \\nATOM    338  CE1 PHE A  45     -12.164   5.664  -0.489  1.00 97.54           C  \\nATOM    339  CE2 PHE A  45     -12.135   7.554  -1.966  1.00 97.54           C  \\nATOM    340  CZ  PHE A  45     -11.633   6.890  -0.859  1.00 97.54           C  \\nATOM    341  N   VAL A  46     -16.316   3.109  -5.232  1.00 97.03           N  \\nATOM    342  CA  VAL A  46     -17.612   2.650  -5.720  1.00 97.03           C  \\nATOM    343  C   VAL A  46     -17.666   1.124  -5.686  1.00 97.03           C  \\nATOM    344  CB  VAL A  46     -17.893   3.161  -7.151  1.00 97.03           C  \\nATOM    345  O   VAL A  46     -18.747   0.533  -5.746  1.00 97.03           O  \\nATOM    346  CG1 VAL A  46     -18.097   4.675  -7.153  1.00 97.03           C  \\nATOM    347  CG2 VAL A  46     -16.753   2.771  -8.090  1.00 97.03           C  \\nATOM    348  N   HIS A  47     -16.479   0.450  -5.628  1.00 98.04           N  \\nATOM    349  CA  HIS A  47     -16.444  -1.008  -5.616  1.00 98.04           C  \\nATOM    350  C   HIS A  47     -16.171  -1.541  -4.213  1.00 98.04           C  \\nATOM    351  CB  HIS A  47     -15.385  -1.527  -6.590  1.00 98.04           C  \\nATOM    352  O   HIS A  47     -16.129  -2.756  -4.004  1.00 98.04           O  \\nATOM    353  CG  HIS A  47     -15.605  -1.091  -8.004  1.00 98.04           C  \\nATOM    354  CD2 HIS A  47     -16.644  -1.302  -8.847  1.00 98.04           C  \\nATOM    355  ND1 HIS A  47     -14.683  -0.345  -8.705  1.00 98.04           N  \\nATOM    356  CE1 HIS A  47     -15.147  -0.114  -9.922  1.00 98.04           C  \\nATOM    357  NE2 HIS A  47     -16.335  -0.684 -10.034  1.00 98.04           N  \\nATOM    358  N   LEU A  48     -15.954  -0.714  -3.167  1.00 97.25           N  \\nATOM    359  CA  LEU A  48     -15.586  -1.112  -1.813  1.00 97.25           C  \\nATOM    360  C   LEU A  48     -16.670  -1.987  -1.190  1.00 97.25           C  \\nATOM    361  CB  LEU A  48     -15.344   0.120  -0.938  1.00 97.25           C  \\nATOM    362  O   LEU A  48     -16.369  -3.018  -0.585  1.00 97.25           O  \\nATOM    363  CG  LEU A  48     -14.554  -0.108   0.352  1.00 97.25           C  \\nATOM    364  CD1 LEU A  48     -13.178  -0.684   0.036  1.00 97.25           C  \\nATOM    365  CD2 LEU A  48     -14.428   1.192   1.139  1.00 97.25           C  \\nATOM    366  N   ALA A  49     -17.943  -1.622  -1.333  1.00 97.85           N  \\nATOM    367  CA  ALA A  49     -19.045  -2.366  -0.728  1.00 97.85           C  \\nATOM    368  C   ALA A  49     -19.134  -3.777  -1.301  1.00 97.85           C  \\nATOM    369  CB  ALA A  49     -20.364  -1.626  -0.936  1.00 97.85           C  \\nATOM    370  O   ALA A  49     -19.251  -4.751  -0.553  1.00 97.85           O  \\nATOM    371  N   MET A  50     -19.062  -3.844  -2.626  1.00 97.95           N  \\nATOM    372  CA  MET A  50     -19.123  -5.152  -3.273  1.00 97.95           C  \\nATOM    373  C   MET A  50     -17.922  -6.008  -2.884  1.00 97.95           C  \\nATOM    374  CB  MET A  50     -19.184  -4.997  -4.794  1.00 97.95           C  \\nATOM    375  O   MET A  50     -18.068  -7.198  -2.602  1.00 97.95           O  \\nATOM    376  CG  MET A  50     -19.252  -6.319  -5.542  1.00 97.95           C  \\nATOM    377  SD  MET A  50     -17.604  -6.888  -6.115  1.00 97.95           S  \\nATOM    378  CE  MET A  50     -17.215  -5.583  -7.314  1.00 97.95           C  \\nATOM    379  N   THR A  51     -16.732  -5.386  -2.891  1.00 98.03           N  \\nATOM    380  CA  THR A  51     -15.521  -6.116  -2.531  1.00 98.03           C  \\nATOM    381  C   THR A  51     -15.617  -6.653  -1.106  1.00 98.03           C  \\nATOM    382  CB  THR A  51     -14.271  -5.227  -2.666  1.00 98.03           C  \\nATOM    383  O   THR A  51     -15.296  -7.815  -0.851  1.00 98.03           O  \\nATOM    384  CG2 THR A  51     -13.002  -6.012  -2.352  1.00 98.03           C  \\nATOM    385  OG1 THR A  51     -14.190  -4.726  -4.006  1.00 98.03           O  \\nATOM    386  N   LYS A  52     -16.062  -5.802  -0.129  1.00 97.75           N  \\nATOM    387  CA  LYS A  52     -16.223  -6.202   1.266  1.00 97.75           C  \\nATOM    388  C   LYS A  52     -17.215  -7.354   1.397  1.00 97.75           C  \\nATOM    389  CB  LYS A  52     -16.682  -5.015   2.115  1.00 97.75           C  \\nATOM    390  O   LYS A  52     -16.975  -8.305   2.144  1.00 97.75           O  \\nATOM    391  CG  LYS A  52     -16.841  -5.337   3.594  1.00 97.75           C  \\nATOM    392  CD  LYS A  52     -17.209  -4.097   4.400  1.00 97.75           C  \\nATOM    393  CE  LYS A  52     -17.391  -4.423   5.876  1.00 97.75           C  \\nATOM    394  NZ  LYS A  52     -17.747  -3.209   6.671  1.00 97.75           N  \\nATOM    395  N   GLU A  53     -18.278  -7.312   0.660  1.00 97.83           N  \\nATOM    396  CA  GLU A  53     -19.343  -8.307   0.734  1.00 97.83           C  \\nATOM    397  C   GLU A  53     -18.903  -9.633   0.121  1.00 97.83           C  \\nATOM    398  CB  GLU A  53     -20.605  -7.796   0.033  1.00 97.83           C  \\nATOM    399  O   GLU A  53     -19.188 -10.700   0.668  1.00 97.83           O  \\nATOM    400  CG  GLU A  53     -21.783  -8.757   0.111  1.00 97.83           C  \\nATOM    401  CD  GLU A  53     -23.002  -8.275  -0.660  1.00 97.83           C  \\nATOM    402  OE1 GLU A  53     -23.984  -9.042  -0.783  1.00 97.83           O  \\nATOM    403  OE2 GLU A  53     -22.974  -7.122  -1.146  1.00 97.83           O  \\nATOM    404  N   ARG A  54     -18.157  -9.644  -0.883  1.00 98.04           N  \\nATOM    405  CA  ARG A  54     -17.913 -10.842  -1.680  1.00 98.04           C  \\nATOM    406  C   ARG A  54     -16.585 -11.489  -1.302  1.00 98.04           C  \\nATOM    407  CB  ARG A  54     -17.927 -10.506  -3.173  1.00 98.04           C  \\nATOM    408  O   ARG A  54     -16.427 -12.706  -1.415  1.00 98.04           O  \\nATOM    409  CG  ARG A  54     -19.302 -10.142  -3.710  1.00 98.04           C  \\nATOM    410  CD  ARG A  54     -19.310 -10.059  -5.230  1.00 98.04           C  \\nATOM    411  NE  ARG A  54     -19.090 -11.366  -5.842  1.00 98.04           N  \\nATOM    412  NH1 ARG A  54     -18.408 -10.525  -7.883  1.00 98.04           N  \\nATOM    413  NH2 ARG A  54     -18.501 -12.790  -7.544  1.00 98.04           N  \\nATOM    414  CZ  ARG A  54     -18.667 -11.557  -7.088  1.00 98.04           C  \\nATOM    415  N   LEU A  55     -15.588 -10.631  -0.971  1.00 98.26           N  \\nATOM    416  CA  LEU A  55     -14.271 -11.166  -0.642  1.00 98.26           C  \\nATOM    417  C   LEU A  55     -14.296 -11.880   0.706  1.00 98.26           C  \\nATOM    418  CB  LEU A  55     -13.227 -10.047  -0.620  1.00 98.26           C  \\nATOM    419  O   LEU A  55     -14.396 -11.236   1.752  1.00 98.26           O  \\nATOM    420  CG  LEU A  55     -11.769 -10.482  -0.471  1.00 98.26           C  \\nATOM    421  CD1 LEU A  55     -11.365 -11.386  -1.631  1.00 98.26           C  \\nATOM    422  CD2 LEU A  55     -10.853  -9.266  -0.390  1.00 98.26           C  \\nATOM    423  N   SER A  56     -14.150 -13.232   0.671  1.00 98.16           N  \\nATOM    424  CA  SER A  56     -14.372 -14.025   1.876  1.00 98.16           C  \\nATOM    425  C   SER A  56     -13.125 -14.816   2.255  1.00 98.16           C  \\nATOM    426  CB  SER A  56     -15.551 -14.980   1.680  1.00 98.16           C  \\nATOM    427  O   SER A  56     -13.089 -15.464   3.303  1.00 98.16           O  \\nATOM    428  OG  SER A  56     -15.326 -15.836   0.573  1.00 98.16           O  \\nATOM    429  N   HIS A  57     -12.120 -14.727   1.402  1.00 98.28           N  \\nATOM    430  CA  HIS A  57     -10.885 -15.431   1.727  1.00 98.28           C  \\nATOM    431  C   HIS A  57     -10.259 -14.885   3.006  1.00 98.28           C  \\nATOM    432  CB  HIS A  57      -9.889 -15.327   0.570  1.00 98.28           C  \\nATOM    433  O   HIS A  57     -10.105 -13.671   3.158  1.00 98.28           O  \\nATOM    434  CG  HIS A  57      -8.777 -16.324   0.643  1.00 98.28           C  \\nATOM    435  CD2 HIS A  57      -8.514 -17.420  -0.107  1.00 98.28           C  \\nATOM    436  ND1 HIS A  57      -7.773 -16.251   1.585  1.00 98.28           N  \\nATOM    437  CE1 HIS A  57      -6.938 -17.261   1.408  1.00 98.28           C  \\nATOM    438  NE2 HIS A  57      -7.366 -17.986   0.388  1.00 98.28           N  \\nATOM    439  N   PRO A  58      -9.837 -15.766   3.990  1.00 97.27           N  \\nATOM    440  CA  PRO A  58      -9.392 -15.321   5.312  1.00 97.27           C  \\nATOM    441  C   PRO A  58      -8.066 -14.566   5.266  1.00 97.27           C  \\nATOM    442  CB  PRO A  58      -9.249 -16.629   6.094  1.00 97.27           C  \\nATOM    443  O   PRO A  58      -7.735 -13.832   6.201  1.00 97.27           O  \\nATOM    444  CG  PRO A  58      -9.110 -17.687   5.047  1.00 97.27           C  \\nATOM    445  CD  PRO A  58      -9.941 -17.294   3.860  1.00 97.27           C  \\nATOM    446  N   LYS A  59      -7.285 -14.704   4.240  1.00 97.79           N  \\nATOM    447  CA  LYS A  59      -5.990 -14.037   4.144  1.00 97.79           C  \\nATOM    448  C   LYS A  59      -6.145 -12.607   3.633  1.00 97.79           C  \\nATOM    449  CB  LYS A  59      -5.048 -14.821   3.228  1.00 97.79           C  \\nATOM    450  O   LYS A  59      -5.212 -11.806   3.721  1.00 97.79           O  \\nATOM    451  CG  LYS A  59      -4.605 -16.161   3.797  1.00 97.79           C  \\nATOM    452  CD  LYS A  59      -3.659 -15.982   4.977  1.00 97.79           C  \\nATOM    453  CE  LYS A  59      -3.072 -17.311   5.431  1.00 97.79           C  \\nATOM    454  NZ  LYS A  59      -2.166 -17.145   6.606  1.00 97.79           N  \\nATOM    455  N   PHE A  60      -7.368 -12.269   3.096  1.00 98.37           N  \\nATOM    456  CA  PHE A  60      -7.566 -10.980   2.443  1.00 98.37           C  \\nATOM    457  C   PHE A  60      -8.269 -10.003   3.378  1.00 98.37           C  \\nATOM    458  CB  PHE A  60      -8.375 -11.147   1.153  1.00 98.37           C  \\nATOM    459  O   PHE A  60      -9.164 -10.391   4.131  1.00 98.37           O  \\nATOM    460  CG  PHE A  60      -7.560 -11.629  -0.016  1.00 98.37           C  \\nATOM    461  CD1 PHE A  60      -7.037 -10.728  -0.936  1.00 98.37           C  \\nATOM    462  CD2 PHE A  60      -7.315 -12.984  -0.196  1.00 98.37           C  \\nATOM    463  CE1 PHE A  60      -6.283 -11.171  -2.019  1.00 98.37           C  \\nATOM    464  CE2 PHE A  60      -6.562 -13.435  -1.276  1.00 98.37           C  \\nATOM    465  CZ  PHE A  60      -6.047 -12.527  -2.187  1.00 98.37           C  \\nATOM    466  N   VAL A  61      -7.771  -8.809   3.356  1.00 98.32           N  \\nATOM    467  CA  VAL A  61      -8.454  -7.663   3.946  1.00 98.32           C  \\nATOM    468  C   VAL A  61      -8.689  -6.595   2.880  1.00 98.32           C  \\nATOM    469  CB  VAL A  61      -7.652  -7.070   5.126  1.00 98.32           C  \\nATOM    470  O   VAL A  61      -8.074  -6.630   1.811  1.00 98.32           O  \\nATOM    471  CG1 VAL A  61      -7.508  -8.095   6.250  1.00 98.32           C  \\nATOM    472  CG2 VAL A  61      -6.280  -6.595   4.653  1.00 98.32           C  \\nATOM    473  N   ILE A  62      -9.645  -5.655   3.177  1.00 98.34           N  \\nATOM    474  CA  ILE A  62      -9.938  -4.602   2.210  1.00 98.34           C  \\nATOM    475  C   ILE A  62      -9.311  -3.289   2.672  1.00 98.34           C  \\nATOM    476  CB  ILE A  62     -11.460  -4.428   2.008  1.00 98.34           C  \\nATOM    477  O   ILE A  62      -9.170  -3.050   3.874  1.00 98.34           O  \\nATOM    478  CG1 ILE A  62     -12.127  -3.995   3.319  1.00 98.34           C  \\nATOM    479  CG2 ILE A  62     -12.086  -5.721   1.476  1.00 98.34           C  \\nATOM    480  CD1 ILE A  62     -13.576  -3.556   3.160  1.00 98.34           C  \\nATOM    481  N   ALA A  63      -8.873  -2.470   1.675  1.00 98.67           N  \\nATOM    482  CA  ALA A  63      -8.279  -1.161   1.935  1.00 98.67           C  \\nATOM    483  C   ALA A  63      -8.901  -0.090   1.044  1.00 98.67           C  \\nATOM    484  CB  ALA A  63      -6.767  -1.212   1.724  1.00 98.67           C  \\nATOM    485  O   ALA A  63      -9.384  -0.388  -0.051  1.00 98.67           O  \\nATOM    486  N   ALA A  64      -8.945   1.081   1.546  1.00 98.55           N  \\nATOM    487  CA  ALA A  64      -9.261   2.241   0.716  1.00 98.55           C  \\nATOM    488  C   ALA A  64      -8.020   2.749  -0.011  1.00 98.55           C  \\nATOM    489  CB  ALA A  64      -9.868   3.354   1.567  1.00 98.55           C  \\nATOM    490  O   ALA A  64      -6.893   2.507   0.427  1.00 98.55           O  \\nATOM    491  N   GLN A  65      -8.272   3.493  -1.185  1.00 98.30           N  \\nATOM    492  CA  GLN A  65      -7.158   3.974  -1.995  1.00 98.30           C  \\nATOM    493  C   GLN A  65      -6.797   5.413  -1.635  1.00 98.30           C  \\nATOM    494  CB  GLN A  65      -7.493   3.874  -3.484  1.00 98.30           C  \\nATOM    495  O   GLN A  65      -5.927   6.016  -2.265  1.00 98.30           O  \\nATOM    496  CG  GLN A  65      -7.715   2.449  -3.970  1.00 98.30           C  \\nATOM    497  CD  GLN A  65      -8.095   2.381  -5.437  1.00 98.30           C  \\nATOM    498  NE2 GLN A  65      -7.705   1.299  -6.101  1.00 98.30           N  \\nATOM    499  OE1 GLN A  65      -8.735   3.294  -5.969  1.00 98.30           O  \\nATOM    500  N   ASN A  66      -7.506   5.980  -0.637  1.00 98.51           N  \\nATOM    501  CA  ASN A  66      -7.330   7.347  -0.160  1.00 98.51           C  \\nATOM    502  C   ASN A  66      -8.370   7.710   0.897  1.00 98.51           C  \\nATOM    503  CB  ASN A  66      -7.391   8.335  -1.326  1.00 98.51           C  \\nATOM    504  O   ASN A  66      -9.373   7.012   1.052  1.00 98.51           O  \\nATOM    505  CG  ASN A  66      -6.984   9.739  -0.924  1.00 98.51           C  \\nATOM    506  ND2 ASN A  66      -7.678  10.735  -1.463  1.00 98.51           N  \\nATOM    507  OD1 ASN A  66      -6.053   9.928  -0.137  1.00 98.51           O  \\nATOM    508  N   ALA A  67      -8.085   8.737   1.632  1.00 98.18           N  \\nATOM    509  CA  ALA A  67      -9.039   9.304   2.581  1.00 98.18           C  \\nATOM    510  C   ALA A  67      -8.543  10.640   3.126  1.00 98.18           C  \\nATOM    511  CB  ALA A  67      -9.294   8.327   3.727  1.00 98.18           C  \\nATOM    512  O   ALA A  67      -7.345  10.928   3.083  1.00 98.18           O  \\nATOM    513  N   ILE A  68      -9.494  11.458   3.586  1.00 97.76           N  \\nATOM    514  CA  ILE A  68      -9.133  12.671   4.312  1.00 97.76           C  \\nATOM    515  C   ILE A  68      -9.415  12.483   5.802  1.00 97.76           C  \\nATOM    516  CB  ILE A  68      -9.897  13.901   3.773  1.00 97.76           C  \\nATOM    517  O   ILE A  68     -10.090  11.530   6.197  1.00 97.76           O  \\nATOM    518  CG1 ILE A  68     -11.407  13.720   3.970  1.00 97.76           C  \\nATOM    519  CG2 ILE A  68      -9.562  14.141   2.298  1.00 97.76           C  \\nATOM    520  CD1 ILE A  68     -12.223  14.972   3.677  1.00 97.76           C  \\nATOM    521  N   ALA A  69      -8.918  13.408   6.673  1.00 97.56           N  \\nATOM    522  CA  ALA A  69      -8.871  13.228   8.122  1.00 97.56           C  \\nATOM    523  C   ALA A  69     -10.259  13.373   8.738  1.00 97.56           C  \\nATOM    524  CB  ALA A  69      -7.905  14.229   8.751  1.00 97.56           C  \\nATOM    525  O   ALA A  69     -10.651  12.577   9.595  1.00 97.56           O  \\nATOM    526  N   LYS A  70     -11.005  14.396   8.286  1.00 97.20           N  \\nATOM    527  CA  LYS A  70     -12.252  14.706   8.979  1.00 97.20           C  \\nATOM    528  C   LYS A  70     -13.419  14.790   7.999  1.00 97.20           C  \\nATOM    529  CB  LYS A  70     -12.123  16.018   9.755  1.00 97.20           C  \\nATOM    530  O   LYS A  70     -13.227  15.101   6.822  1.00 97.20           O  \\nATOM    531  CG  LYS A  70     -11.039  16.002  10.822  1.00 97.20           C  \\nATOM    532  CD  LYS A  70     -10.940  17.343  11.538  1.00 97.20           C  \\nATOM    533  CE  LYS A  70      -9.855  17.328  12.607  1.00 97.20           C  \\nATOM    534  NZ  LYS A  70      -9.698  18.664  13.255  1.00 97.20           N  \\nATOM    535  N   SER A  71     -14.578  14.546   8.574  1.00 97.97           N  \\nATOM    536  CA  SER A  71     -15.819  14.777   7.841  1.00 97.97           C  \\nATOM    537  C   SER A  71     -16.181  16.259   7.820  1.00 97.97           C  \\nATOM    538  CB  SER A  71     -16.964  13.973   8.458  1.00 97.97           C  \\nATOM    539  O   SER A  71     -15.791  17.011   8.716  1.00 97.97           O  \\nATOM    540  OG  SER A  71     -16.696  12.583   8.389  1.00 97.97           O  \\nATOM    541  N   GLY A  72     -16.756  16.709   6.681  1.00 97.35           N  \\nATOM    542  CA  GLY A  72     -17.170  18.091   6.500  1.00 97.35           C  \\nATOM    543  C   GLY A  72     -17.516  18.426   5.061  1.00 97.35           C  \\nATOM    544  O   GLY A  72     -17.827  17.535   4.268  1.00 97.35           O  \\nATOM    545  N   ALA A  73     -17.472  19.821   4.808  1.00 97.73           N  \\nATOM    546  CA  ALA A  73     -17.837  20.293   3.476  1.00 97.73           C  \\nATOM    547  C   ALA A  73     -16.717  20.029   2.473  1.00 97.73           C  \\nATOM    548  CB  ALA A  73     -18.174  21.782   3.513  1.00 97.73           C  \\nATOM    549  O   ALA A  73     -16.057  20.963   2.011  1.00 97.73           O  \\nATOM    550  N   PHE A  74     -16.403  18.704   2.159  1.00 96.60           N  \\nATOM    551  CA  PHE A  74     -15.426  18.235   1.183  1.00 96.60           C  \\nATOM    552  C   PHE A  74     -16.094  17.370   0.121  1.00 96.60           C  \\nATOM    553  CB  PHE A  74     -14.308  17.449   1.874  1.00 96.60           C  \\nATOM    554  O   PHE A  74     -15.942  16.146   0.124  1.00 96.60           O  \\nATOM    555  CG  PHE A  74     -13.639  18.201   2.993  1.00 96.60           C  \\nATOM    556  CD1 PHE A  74     -12.764  19.245   2.721  1.00 96.60           C  \\nATOM    557  CD2 PHE A  74     -13.886  17.863   4.317  1.00 96.60           C  \\nATOM    558  CE1 PHE A  74     -12.143  19.943   3.754  1.00 96.60           C  \\nATOM    559  CE2 PHE A  74     -13.269  18.556   5.355  1.00 96.60           C  \\nATOM    560  CZ  PHE A  74     -12.397  19.595   5.071  1.00 96.60           C  \\nATOM    561  N   THR A  75     -16.859  18.003  -0.840  1.00 96.89           N  \\nATOM    562  CA  THR A  75     -17.672  17.344  -1.856  1.00 96.89           C  \\nATOM    563  C   THR A  75     -16.830  16.366  -2.671  1.00 96.89           C  \\nATOM    564  CB  THR A  75     -18.329  18.369  -2.798  1.00 96.89           C  \\nATOM    565  O   THR A  75     -15.768  16.729  -3.182  1.00 96.89           O  \\nATOM    566  CG2 THR A  75     -19.159  17.675  -3.873  1.00 96.89           C  \\nATOM    567  OG1 THR A  75     -19.181  19.233  -2.036  1.00 96.89           O  \\nATOM    568  N   GLY A  76     -17.162  15.100  -2.653  1.00 95.55           N  \\nATOM    569  CA  GLY A  76     -16.519  14.095  -3.485  1.00 95.55           C  \\nATOM    570  C   GLY A  76     -15.488  13.272  -2.737  1.00 95.55           C  \\nATOM    571  O   GLY A  76     -15.017  12.250  -3.240  1.00 95.55           O  \\nATOM    572  N   GLU A  77     -15.192  13.766  -1.420  1.00 96.78           N  \\nATOM    573  CA  GLU A  77     -14.152  13.072  -0.665  1.00 96.78           C  \\nATOM    574  C   GLU A  77     -14.757  12.079   0.323  1.00 96.78           C  \\nATOM    575  CB  GLU A  77     -13.264  14.076   0.075  1.00 96.78           C  \\nATOM    576  O   GLU A  77     -15.941  12.168   0.654  1.00 96.78           O  \\nATOM    577  CG  GLU A  77     -12.418  14.944  -0.845  1.00 96.78           C  \\nATOM    578  CD  GLU A  77     -11.355  14.161  -1.599  1.00 96.78           C  \\nATOM    579  OE1 GLU A  77     -11.000  14.556  -2.733  1.00 96.78           O  \\nATOM    580  OE2 GLU A  77     -10.874  13.144  -1.052  1.00 96.78           O  \\nATOM    581  N   VAL A  78     -13.922  11.091   0.743  1.00 98.02           N  \\nATOM    582  CA  VAL A  78     -14.267  10.124   1.780  1.00 98.02           C  \\nATOM    583  C   VAL A  78     -13.334  10.295   2.977  1.00 98.02           C  \\nATOM    584  CB  VAL A  78     -14.195   8.674   1.252  1.00 98.02           C  \\nATOM    585  O   VAL A  78     -12.110  10.292   2.824  1.00 98.02           O  \\nATOM    586  CG1 VAL A  78     -14.494   7.676   2.369  1.00 98.02           C  \\nATOM    587  CG2 VAL A  78     -15.163   8.483   0.086  1.00 98.02           C  \\nATOM    588  N   SER A  79     -13.935  10.466   4.144  1.00 98.43           N  \\nATOM    589  CA  SER A  79     -13.150  10.724   5.347  1.00 98.43           C  \\nATOM    590  C   SER A  79     -12.832   9.430   6.088  1.00 98.43           C  \\nATOM    591  CB  SER A  79     -13.892  11.685   6.276  1.00 98.43           C  \\nATOM    592  O   SER A  79     -13.451   8.394   5.833  1.00 98.43           O  \\nATOM    593  OG  SER A  79     -15.070  11.084   6.785  1.00 98.43           O  \\nATOM    594  N   LEU A  80     -11.874   9.495   7.054  1.00 98.58           N  \\nATOM    595  CA  LEU A  80     -11.471   8.354   7.868  1.00 98.58           C  \\nATOM    596  C   LEU A  80     -12.643   7.835   8.694  1.00 98.58           C  \\nATOM    597  CB  LEU A  80     -10.311   8.736   8.791  1.00 98.58           C  \\nATOM    598  O   LEU A  80     -12.856   6.623   8.785  1.00 98.58           O  \\nATOM    599  CG  LEU A  80      -8.978   9.049   8.110  1.00 98.58           C  \\nATOM    600  CD1 LEU A  80      -7.948   9.498   9.142  1.00 98.58           C  \\nATOM    601  CD2 LEU A  80      -8.473   7.834   7.339  1.00 98.58           C  \\nATOM    602  N   PRO A  81     -13.454   8.720   9.360  1.00 98.38           N  \\nATOM    603  CA  PRO A  81     -14.603   8.221  10.119  1.00 98.38           C  \\nATOM    604  C   PRO A  81     -15.597   7.455   9.249  1.00 98.38           C  \\nATOM    605  CB  PRO A  81     -15.237   9.498  10.677  1.00 98.38           C  \\nATOM    606  O   PRO A  81     -16.167   6.455   9.692  1.00 98.38           O  \\nATOM    607  CG  PRO A  81     -14.100  10.456  10.826  1.00 98.38           C  \\nATOM    608  CD  PRO A  81     -13.169  10.276   9.661  1.00 98.38           C  \\nATOM    609  N   ILE A  82     -15.817   7.946   7.958  1.00 98.30           N  \\nATOM    610  CA  ILE A  82     -16.721   7.249   7.049  1.00 98.30           C  \\nATOM    611  C   ILE A  82     -16.188   5.846   6.767  1.00 98.30           C  \\nATOM    612  CB  ILE A  82     -16.904   8.029   5.727  1.00 98.30           C  \\nATOM    613  O   ILE A  82     -16.940   4.870   6.812  1.00 98.30           O  \\nATOM    614  CG1 ILE A  82     -17.709   9.310   5.970  1.00 98.30           C  \\nATOM    615  CG2 ILE A  82     -17.580   7.149   4.671  1.00 98.30           C  \\nATOM    616  CD1 ILE A  82     -17.747  10.254   4.776  1.00 98.30           C  \\nATOM    617  N   LEU A  83     -14.896   5.738   6.540  1.00 98.45           N  \\nATOM    618  CA  LEU A  83     -14.290   4.438   6.271  1.00 98.45           C  \\nATOM    619  C   LEU A  83     -14.375   3.535   7.497  1.00 98.45           C  \\nATOM    620  CB  LEU A  83     -12.829   4.606   5.847  1.00 98.45           C  \\nATOM    621  O   LEU A  83     -14.672   2.344   7.377  1.00 98.45           O  \\nATOM    622  CG  LEU A  83     -12.589   5.255   4.483  1.00 98.45           C  \\nATOM    623  CD1 LEU A  83     -11.097   5.473   4.255  1.00 98.45           C  \\nATOM    624  CD2 LEU A  83     -13.186   4.400   3.371  1.00 98.45           C  \\nATOM    625  N   LYS A  84     -14.046   4.069   8.668  1.00 97.98           N  \\nATOM    626  CA  LYS A  84     -14.148   3.295   9.902  1.00 97.98           C  \\nATOM    627  C   LYS A  84     -15.565   2.766  10.103  1.00 97.98           C  \\nATOM    628  CB  LYS A  84     -13.730   4.143  11.104  1.00 97.98           C  \\nATOM    629  O   LYS A  84     -15.754   1.602  10.462  1.00 97.98           O  \\nATOM    630  CG  LYS A  84     -13.505   3.342  12.378  1.00 97.98           C  \\nATOM    631  CD  LYS A  84     -12.303   2.415  12.252  1.00 97.98           C  \\nATOM    632  CE  LYS A  84     -12.024   1.679  13.555  1.00 97.98           C  \\nATOM    633  NZ  LYS A  84     -10.841   0.775  13.439  1.00 97.98           N  \\nATOM    634  N   ASP A  85     -16.551   3.635   9.871  1.00 97.99           N  \\nATOM    635  CA  ASP A  85     -17.956   3.259   9.994  1.00 97.99           C  \\nATOM    636  C   ASP A  85     -18.309   2.131   9.027  1.00 97.99           C  \\nATOM    637  CB  ASP A  85     -18.860   4.468   9.745  1.00 97.99           C  \\nATOM    638  O   ASP A  85     -19.107   1.251   9.356  1.00 97.99           O  \\nATOM    639  CG  ASP A  85     -20.337   4.140   9.869  1.00 97.99           C  \\nATOM    640  OD1 ASP A  85     -20.782   3.734  10.964  1.00 97.99           O  \\nATOM    641  OD2 ASP A  85     -21.063   4.285   8.861  1.00 97.99           O  \\nATOM    642  N   PHE A  86     -17.650   2.125   7.874  1.00 97.85           N  \\nATOM    643  CA  PHE A  86     -17.918   1.145   6.829  1.00 97.85           C  \\nATOM    644  C   PHE A  86     -17.221  -0.176   7.134  1.00 97.85           C  \\nATOM    645  CB  PHE A  86     -17.466   1.674   5.465  1.00 97.85           C  \\nATOM    646  O   PHE A  86     -17.505  -1.194   6.500  1.00 97.85           O  \\nATOM    647  CG  PHE A  86     -17.955   0.854   4.302  1.00 97.85           C  \\nATOM    648  CD1 PHE A  86     -17.111  -0.047   3.665  1.00 97.85           C  \\nATOM    649  CD2 PHE A  86     -19.261   0.983   3.847  1.00 97.85           C  \\nATOM    650  CE1 PHE A  86     -17.562  -0.808   2.589  1.00 97.85           C  \\nATOM    651  CE2 PHE A  86     -19.718   0.226   2.772  1.00 97.85           C  \\nATOM    652  CZ  PHE A  86     -18.867  -0.668   2.144  1.00 97.85           C  \\nATOM    653  N   GLY A  87     -16.250  -0.188   8.078  1.00 96.91           N  \\nATOM    654  CA  GLY A  87     -15.552  -1.398   8.482  1.00 96.91           C  \\nATOM    655  C   GLY A  87     -14.234  -1.597   7.758  1.00 96.91           C  \\nATOM    656  O   GLY A  87     -13.733  -2.720   7.667  1.00 96.91           O  \\nATOM    657  N   VAL A  88     -13.708  -0.573   7.112  1.00 98.10           N  \\nATOM    658  CA  VAL A  88     -12.395  -0.614   6.475  1.00 98.10           C  \\nATOM    659  C   VAL A  88     -11.314  -0.266   7.496  1.00 98.10           C  \\nATOM    660  CB  VAL A  88     -12.319   0.349   5.269  1.00 98.10           C  \\nATOM    661  O   VAL A  88     -11.445   0.709   8.240  1.00 98.10           O  \\nATOM    662  CG1 VAL A  88     -10.905   0.382   4.692  1.00 98.10           C  \\nATOM    663  CG2 VAL A  88     -13.328  -0.058   4.197  1.00 98.10           C  \\nATOM    664  N   ASN A  89     -10.181  -1.024   7.476  1.00 97.22           N  \\nATOM    665  CA  ASN A  89      -9.151  -0.819   8.489  1.00 97.22           C  \\nATOM    666  C   ASN A  89      -7.782  -0.587   7.858  1.00 97.22           C  \\nATOM    667  CB  ASN A  89      -9.099  -2.009   9.450  1.00 97.22           C  \\nATOM    668  O   ASN A  89      -6.803  -0.338   8.563  1.00 97.22           O  \\nATOM    669  CG  ASN A  89     -10.372  -2.164  10.258  1.00 97.22           C  \\nATOM    670  ND2 ASN A  89     -10.967  -3.349  10.206  1.00 97.22           N  \\nATOM    671  OD1 ASN A  89     -10.816  -1.225  10.924  1.00 97.22           O  \\nATOM    672  N   TRP A  90      -7.661  -0.746   6.574  1.00 98.79           N  \\nATOM    673  CA  TRP A  90      -6.432  -0.527   5.817  1.00 98.79           C  \\nATOM    674  C   TRP A  90      -6.611   0.597   4.802  1.00 98.79           C  \\nATOM    675  CB  TRP A  90      -6.004  -1.813   5.104  1.00 98.79           C  \\nATOM    676  O   TRP A  90      -7.691   0.757   4.227  1.00 98.79           O  \\nATOM    677  CG  TRP A  90      -5.430  -2.854   6.018  1.00 98.79           C  \\nATOM    678  CD1 TRP A  90      -6.105  -3.596   6.947  1.00 98.79           C  \\nATOM    679  CD2 TRP A  90      -4.062  -3.264   6.093  1.00 98.79           C  \\nATOM    680  CE2 TRP A  90      -3.978  -4.261   7.090  1.00 98.79           C  \\nATOM    681  CE3 TRP A  90      -2.897  -2.886   5.412  1.00 98.79           C  \\nATOM    682  NE1 TRP A  90      -5.237  -4.444   7.595  1.00 98.79           N  \\nATOM    683  CH2 TRP A  90      -1.649  -4.496   6.742  1.00 98.79           C  \\nATOM    684  CZ2 TRP A  90      -2.773  -4.885   7.423  1.00 98.79           C  \\nATOM    685  CZ3 TRP A  90      -1.699  -3.508   5.745  1.00 98.79           C  \\nATOM    686  N   ILE A  91      -5.507   1.345   4.558  1.00 98.78           N  \\nATOM    687  CA  ILE A  91      -5.603   2.434   3.592  1.00 98.78           C  \\nATOM    688  C   ILE A  91      -4.241   2.671   2.945  1.00 98.78           C  \\nATOM    689  CB  ILE A  91      -6.115   3.733   4.254  1.00 98.78           C  \\nATOM    690  O   ILE A  91      -3.203   2.507   3.590  1.00 98.78           O  \\nATOM    691  CG1 ILE A  91      -6.294   4.833   3.202  1.00 98.78           C  \\nATOM    692  CG2 ILE A  91      -5.162   4.186   5.364  1.00 98.78           C  \\nATOM    693  CD1 ILE A  91      -7.084   6.039   3.694  1.00 98.78           C  \\nATOM    694  N   VAL A  92      -4.261   2.919   1.640  1.00 98.85           N  \\nATOM    695  CA  VAL A  92      -3.079   3.337   0.894  1.00 98.85           C  \\nATOM    696  C   VAL A  92      -3.016   4.862   0.838  1.00 98.85           C  \\nATOM    697  CB  VAL A  92      -3.074   2.751  -0.536  1.00 98.85           C  \\nATOM    698  O   VAL A  92      -3.976   5.515   0.421  1.00 98.85           O  \\nATOM    699  CG1 VAL A  92      -1.829   3.200  -1.299  1.00 98.85           C  \\nATOM    700  CG2 VAL A  92      -3.154   1.227  -0.487  1.00 98.85           C  \\nATOM    701  N   LEU A  93      -1.880   5.454   1.228  1.00 98.82           N  \\nATOM    702  CA  LEU A  93      -1.732   6.905   1.224  1.00 98.82           C  \\nATOM    703  C   LEU A  93      -0.400   7.313   0.603  1.00 98.82           C  \\nATOM    704  CB  LEU A  93      -1.836   7.460   2.647  1.00 98.82           C  \\nATOM    705  O   LEU A  93       0.598   6.602   0.741  1.00 98.82           O  \\nATOM    706  CG  LEU A  93      -3.188   7.293   3.342  1.00 98.82           C  \\nATOM    707  CD1 LEU A  93      -3.108   7.787   4.782  1.00 98.82           C  \\nATOM    708  CD2 LEU A  93      -4.278   8.036   2.576  1.00 98.82           C  \\nATOM    709  N   GLY A  94      -0.425   8.361  -0.087  1.00 98.24           N  \\nATOM    710  CA  GLY A  94       0.791   8.920  -0.657  1.00 98.24           C  \\nATOM    711  C   GLY A  94       1.216   8.236  -1.943  1.00 98.24           C  \\nATOM    712  O   GLY A  94       2.406   8.179  -2.258  1.00 98.24           O  \\nATOM    713  N   HIS A  95       0.202   7.588  -2.556  1.00 98.09           N  \\nATOM    714  CA  HIS A  95       0.542   6.949  -3.822  1.00 98.09           C  \\nATOM    715  C   HIS A  95       1.055   7.969  -4.833  1.00 98.09           C  \\nATOM    716  CB  HIS A  95      -0.670   6.210  -4.392  1.00 98.09           C  \\nATOM    717  O   HIS A  95       0.601   9.116  -4.850  1.00 98.09           O  \\nATOM    718  CG  HIS A  95      -0.334   5.282  -5.516  1.00 98.09           C  \\nATOM    719  CD2 HIS A  95       0.112   4.004  -5.510  1.00 98.09           C  \\nATOM    720  ND1 HIS A  95      -0.443   5.648  -6.840  1.00 98.09           N  \\nATOM    721  CE1 HIS A  95      -0.078   4.631  -7.602  1.00 98.09           C  \\nATOM    722  NE2 HIS A  95       0.264   3.621  -6.820  1.00 98.09           N  \\nATOM    723  N   SER A  96       2.092   7.571  -5.680  1.00 96.87           N  \\nATOM    724  CA  SER A  96       2.773   8.477  -6.599  1.00 96.87           C  \\nATOM    725  C   SER A  96       1.783   9.168  -7.530  1.00 96.87           C  \\nATOM    726  CB  SER A  96       3.818   7.721  -7.422  1.00 96.87           C  \\nATOM    727  O   SER A  96       1.973  10.330  -7.895  1.00 96.87           O  \\nATOM    728  OG  SER A  96       3.203   6.723  -8.219  1.00 96.87           O  \\nATOM    729  N   GLU A  97       0.664   8.507  -7.907  1.00 96.35           N  \\nATOM    730  CA  GLU A  97      -0.331   9.101  -8.796  1.00 96.35           C  \\nATOM    731  C   GLU A  97      -1.040  10.274  -8.124  1.00 96.35           C  \\nATOM    732  CB  GLU A  97      -1.353   8.051  -9.238  1.00 96.35           C  \\nATOM    733  O   GLU A  97      -1.301  11.296  -8.762  1.00 96.35           O  \\nATOM    734  CG  GLU A  97      -0.785   6.997 -10.176  1.00 96.35           C  \\nATOM    735  CD  GLU A  97      -1.671   5.768 -10.305  1.00 96.35           C  \\nATOM    736  OE1 GLU A  97      -1.375   4.892 -11.148  1.00 96.35           O  \\nATOM    737  OE2 GLU A  97      -2.670   5.681  -9.556  1.00 96.35           O  \\nATOM    738  N   ARG A  98      -1.330  10.151  -6.786  1.00 97.46           N  \\nATOM    739  CA  ARG A  98      -1.973  11.249  -6.071  1.00 97.46           C  \\nATOM    740  C   ARG A  98      -1.022  12.431  -5.915  1.00 97.46           C  \\nATOM    741  CB  ARG A  98      -2.461  10.785  -4.697  1.00 97.46           C  \\nATOM    742  O   ARG A  98      -1.442  13.588  -5.993  1.00 97.46           O  \\nATOM    743  CG  ARG A  98      -3.600   9.779  -4.756  1.00 97.46           C  \\nATOM    744  CD  ARG A  98      -4.440   9.804  -3.487  1.00 97.46           C  \\nATOM    745  NE  ARG A  98      -4.985  11.134  -3.228  1.00 97.46           N  \\nATOM    746  NH1 ARG A  98      -6.869  10.843  -4.533  1.00 97.46           N  \\nATOM    747  NH2 ARG A  98      -6.529  12.822  -3.429  1.00 97.46           N  \\nATOM    748  CZ  ARG A  98      -6.127  11.596  -3.731  1.00 97.46           C  \\nATOM    749  N   ARG A  99       0.282  12.083  -5.703  1.00 97.61           N  \\nATOM    750  CA  ARG A  99       1.273  13.151  -5.622  1.00 97.61           C  \\nATOM    751  C   ARG A  99       1.390  13.891  -6.950  1.00 97.61           C  \\nATOM    752  CB  ARG A  99       2.636  12.590  -5.212  1.00 97.61           C  \\nATOM    753  O   ARG A  99       1.437  15.123  -6.978  1.00 97.61           O  \\nATOM    754  CG  ARG A  99       2.669  12.019  -3.803  1.00 97.61           C  \\nATOM    755  CD  ARG A  99       4.029  11.422  -3.469  1.00 97.61           C  \\nATOM    756  NE  ARG A  99       4.043  10.829  -2.134  1.00 97.61           N  \\nATOM    757  NH1 ARG A  99       4.344  12.833  -1.023  1.00 97.61           N  \\nATOM    758  NH2 ARG A  99       4.191  10.873   0.157  1.00 97.61           N  \\nATOM    759  CZ  ARG A  99       4.193  11.513  -1.003  1.00 97.61           C  \\nATOM    760  N   ALA A 100       1.316  13.170  -8.078  1.00 95.81           N  \\nATOM    761  CA  ALA A 100       1.541  13.726  -9.410  1.00 95.81           C  \\nATOM    762  C   ALA A 100       0.307  14.473  -9.908  1.00 95.81           C  \\nATOM    763  CB  ALA A 100       1.923  12.621 -10.391  1.00 95.81           C  \\nATOM    764  O   ALA A 100       0.417  15.577 -10.446  1.00 95.81           O  \\nATOM    765  N   TYR A 101      -0.906  13.888  -9.653  1.00 97.23           N  \\nATOM    766  CA  TYR A 101      -2.092  14.415 -10.319  1.00 97.23           C  \\nATOM    767  C   TYR A 101      -2.874  15.337  -9.391  1.00 97.23           C  \\nATOM    768  CB  TYR A 101      -2.991  13.272 -10.800  1.00 97.23           C  \\nATOM    769  O   TYR A 101      -3.606  16.216  -9.852  1.00 97.23           O  \\nATOM    770  CG  TYR A 101      -2.308  12.323 -11.754  1.00 97.23           C  \\nATOM    771  CD1 TYR A 101      -1.445  12.796 -12.740  1.00 97.23           C  \\nATOM    772  CD2 TYR A 101      -2.525  10.951 -11.672  1.00 97.23           C  \\nATOM    773  CE1 TYR A 101      -0.814  11.924 -13.622  1.00 97.23           C  \\nATOM    774  CE2 TYR A 101      -1.900  10.071 -12.550  1.00 97.23           C  \\nATOM    775  OH  TYR A 101      -0.427   9.699 -14.390  1.00 97.23           O  \\nATOM    776  CZ  TYR A 101      -1.048  10.566 -13.519  1.00 97.23           C  \\nATOM    777  N   TYR A 102      -2.623  15.144  -8.052  1.00 96.91           N  \\nATOM    778  CA  TYR A 102      -3.501  15.862  -7.135  1.00 96.91           C  \\nATOM    779  C   TYR A 102      -2.694  16.682  -6.137  1.00 96.91           C  \\nATOM    780  CB  TYR A 102      -4.415  14.884  -6.390  1.00 96.91           C  \\nATOM    781  O   TYR A 102      -3.242  17.194  -5.158  1.00 96.91           O  \\nATOM    782  CG  TYR A 102      -5.341  14.108  -7.295  1.00 96.91           C  \\nATOM    783  CD1 TYR A 102      -6.534  14.666  -7.747  1.00 96.91           C  \\nATOM    784  CD2 TYR A 102      -5.024  12.816  -7.699  1.00 96.91           C  \\nATOM    785  CE1 TYR A 102      -7.391  13.954  -8.580  1.00 96.91           C  \\nATOM    786  CE2 TYR A 102      -5.873  12.094  -8.532  1.00 96.91           C  \\nATOM    787  OH  TYR A 102      -7.897  11.961  -9.791  1.00 96.91           O  \\nATOM    788  CZ  TYR A 102      -7.053  12.671  -8.967  1.00 96.91           C  \\nATOM    789  N   GLY A 103      -1.344  16.664  -6.289  1.00 97.67           N  \\nATOM    790  CA  GLY A 103      -0.467  17.578  -5.573  1.00 97.67           C  \\nATOM    791  C   GLY A 103      -0.319  17.234  -4.103  1.00 97.67           C  \\nATOM    792  O   GLY A 103      -0.196  18.127  -3.261  1.00 97.67           O  \\nATOM    793  N   GLU A 104      -0.363  16.045  -3.741  1.00 98.10           N  \\nATOM    794  CA  GLU A 104      -0.131  15.666  -2.350  1.00 98.10           C  \\nATOM    795  C   GLU A 104       1.346  15.787  -1.985  1.00 98.10           C  \\nATOM    796  CB  GLU A 104      -0.622  14.239  -2.092  1.00 98.10           C  \\nATOM    797  O   GLU A 104       2.177  15.018  -2.473  1.00 98.10           O  \\nATOM    798  CG  GLU A 104      -2.135  14.090  -2.149  1.00 98.10           C  \\nATOM    799  CD  GLU A 104      -2.625  12.744  -1.638  1.00 98.10           C  \\nATOM    800  OE1 GLU A 104      -3.852  12.574  -1.457  1.00 98.10           O  \\nATOM    801  OE2 GLU A 104      -1.774  11.854  -1.416  1.00 98.10           O  \\nATOM    802  N   THR A 105       1.611  16.758  -1.212  1.00 98.42           N  \\nATOM    803  CA  THR A 105       2.969  17.048  -0.764  1.00 98.42           C  \\nATOM    804  C   THR A 105       3.374  16.115   0.374  1.00 98.42           C  \\nATOM    805  CB  THR A 105       3.105  18.511  -0.305  1.00 98.42           C  \\nATOM    806  O   THR A 105       2.536  15.395   0.921  1.00 98.42           O  \\nATOM    807  CG2 THR A 105       2.672  19.475  -1.405  1.00 98.42           C  \\nATOM    808  OG1 THR A 105       2.284  18.722   0.850  1.00 98.42           O  \\nATOM    809  N   ASN A 106       4.697  16.130   0.772  1.00 98.56           N  \\nATOM    810  CA  ASN A 106       5.171  15.362   1.919  1.00 98.56           C  \\nATOM    811  C   ASN A 106       4.378  15.691   3.180  1.00 98.56           C  \\nATOM    812  CB  ASN A 106       6.663  15.608   2.151  1.00 98.56           C  \\nATOM    813  O   ASN A 106       4.027  14.794   3.949  1.00 98.56           O  \\nATOM    814  CG  ASN A 106       7.527  15.048   1.038  1.00 98.56           C  \\nATOM    815  ND2 ASN A 106       8.734  15.585   0.897  1.00 98.56           N  \\nATOM    816  OD1 ASN A 106       7.114  14.141   0.311  1.00 98.56           O  \\nATOM    817  N   GLU A 107       4.057  16.932   3.344  1.00 98.46           N  \\nATOM    818  CA  GLU A 107       3.346  17.378   4.538  1.00 98.46           C  \\nATOM    819  C   GLU A 107       1.900  16.888   4.534  1.00 98.46           C  \\nATOM    820  CB  GLU A 107       3.384  18.904   4.649  1.00 98.46           C  \\nATOM    821  O   GLU A 107       1.384  16.455   5.566  1.00 98.46           O  \\nATOM    822  CG  GLU A 107       4.758  19.462   4.988  1.00 98.46           C  \\nATOM    823  CD  GLU A 107       5.728  19.419   3.818  1.00 98.46           C  \\nATOM    824  OE1 GLU A 107       6.957  19.499   4.045  1.00 98.46           O  \\nATOM    825  OE2 GLU A 107       5.256  19.306   2.665  1.00 98.46           O  \\nATOM    826  N   ILE A 108       1.270  16.904   3.374  1.00 98.41           N  \\nATOM    827  CA  ILE A 108      -0.109  16.440   3.274  1.00 98.41           C  \\nATOM    828  C   ILE A 108      -0.171  14.941   3.558  1.00 98.41           C  \\nATOM    829  CB  ILE A 108      -0.710  16.748   1.884  1.00 98.41           C  \\nATOM    830  O   ILE A 108      -1.009  14.485   4.339  1.00 98.41           O  \\nATOM    831  CG1 ILE A 108      -0.963  18.252   1.733  1.00 98.41           C  \\nATOM    832  CG2 ILE A 108      -1.999  15.951   1.665  1.00 98.41           C  \\nATOM    833  CD1 ILE A 108      -1.387  18.671   0.332  1.00 98.41           C  \\nATOM    834  N   VAL A 109       0.698  14.225   2.967  1.00 98.70           N  \\nATOM    835  CA  VAL A 109       0.733  12.779   3.162  1.00 98.70           C  \\nATOM    836  C   VAL A 109       1.033  12.462   4.626  1.00 98.70           C  \\nATOM    837  CB  VAL A 109       1.780  12.108   2.246  1.00 98.70           C  \\nATOM    838  O   VAL A 109       0.383  11.604   5.227  1.00 98.70           O  \\nATOM    839  CG1 VAL A 109       1.950  10.634   2.610  1.00 98.70           C  \\nATOM    840  CG2 VAL A 109       1.379  12.256   0.780  1.00 98.70           C  \\nATOM    841  N   ALA A 110       1.990  13.167   5.220  1.00 98.74           N  \\nATOM    842  CA  ALA A 110       2.342  12.962   6.623  1.00 98.74           C  \\nATOM    843  C   ALA A 110       1.143  13.216   7.532  1.00 98.74           C  \\nATOM    844  CB  ALA A 110       3.506  13.868   7.017  1.00 98.74           C  \\nATOM    845  O   ALA A 110       0.885  12.446   8.460  1.00 98.74           O  \\nATOM    846  N   ASP A 111       0.365  14.275   7.253  1.00 98.67           N  \\nATOM    847  CA  ASP A 111      -0.826  14.587   8.037  1.00 98.67           C  \\nATOM    848  C   ASP A 111      -1.880  13.491   7.895  1.00 98.67           C  \\nATOM    849  CB  ASP A 111      -1.410  15.936   7.613  1.00 98.67           C  \\nATOM    850  O   ASP A 111      -2.498  13.085   8.882  1.00 98.67           O  \\nATOM    851  CG  ASP A 111      -0.577  17.117   8.081  1.00 98.67           C  \\nATOM    852  OD1 ASP A 111       0.241  16.954   9.013  1.00 98.67           O  \\nATOM    853  OD2 ASP A 111      -0.742  18.219   7.516  1.00 98.67           O  \\nATOM    854  N   LYS A 112      -2.033  13.006   6.714  1.00 98.71           N  \\nATOM    855  CA  LYS A 112      -3.006  11.943   6.481  1.00 98.71           C  \\nATOM    856  C   LYS A 112      -2.600  10.659   7.198  1.00 98.71           C  \\nATOM    857  CB  LYS A 112      -3.165  11.679   4.983  1.00 98.71           C  \\nATOM    858  O   LYS A 112      -3.432  10.004   7.829  1.00 98.71           O  \\nATOM    859  CG  LYS A 112      -3.921  12.771   4.239  1.00 98.71           C  \\nATOM    860  CD  LYS A 112      -4.112  12.416   2.770  1.00 98.71           C  \\nATOM    861  CE  LYS A 112      -4.997  13.431   2.060  1.00 98.71           C  \\nATOM    862  NZ  LYS A 112      -5.185  13.089   0.618  1.00 98.71           N  \\nATOM    863  N   VAL A 113      -1.324  10.334   7.064  1.00 98.83           N  \\nATOM    864  CA  VAL A 113      -0.822   9.123   7.706  1.00 98.83           C  \\nATOM    865  C   VAL A 113      -1.011   9.223   9.217  1.00 98.83           C  \\nATOM    866  CB  VAL A 113       0.667   8.878   7.370  1.00 98.83           C  \\nATOM    867  O   VAL A 113      -1.510   8.289   9.850  1.00 98.83           O  \\nATOM    868  CG1 VAL A 113       1.250   7.787   8.266  1.00 98.83           C  \\nATOM    869  CG2 VAL A 113       0.827   8.507   5.897  1.00 98.83           C  \\nATOM    870  N   ALA A 114      -0.644  10.307   9.771  1.00 98.79           N  \\nATOM    871  CA  ALA A 114      -0.766  10.498  11.214  1.00 98.79           C  \\nATOM    872  C   ALA A 114      -2.222  10.398  11.659  1.00 98.79           C  \\nATOM    873  CB  ALA A 114      -0.179  11.847  11.623  1.00 98.79           C  \\nATOM    874  O   ALA A 114      -2.531   9.729  12.648  1.00 98.79           O  \\nATOM    875  N   ALA A 115      -3.075  11.010  10.926  1.00 98.70           N  \\nATOM    876  CA  ALA A 115      -4.497  10.980  11.257  1.00 98.70           C  \\nATOM    877  C   ALA A 115      -5.057   9.565  11.142  1.00 98.70           C  \\nATOM    878  CB  ALA A 115      -5.274  11.932  10.350  1.00 98.70           C  \\nATOM    879  O   ALA A 115      -5.818   9.120  12.005  1.00 98.70           O  \\nATOM    880  N   ALA A 116      -4.690   8.863  10.139  1.00 98.81           N  \\nATOM    881  CA  ALA A 116      -5.166   7.499   9.923  1.00 98.81           C  \\nATOM    882  C   ALA A 116      -4.682   6.567  11.030  1.00 98.81           C  \\nATOM    883  CB  ALA A 116      -4.706   6.985   8.561  1.00 98.81           C  \\nATOM    884  O   ALA A 116      -5.464   5.790  11.583  1.00 98.81           O  \\nATOM    885  N   VAL A 117      -3.405   6.681  11.345  1.00 98.77           N  \\nATOM    886  CA  VAL A 117      -2.834   5.852  12.401  1.00 98.77           C  \\nATOM    887  C   VAL A 117      -3.527   6.155  13.727  1.00 98.77           C  \\nATOM    888  CB  VAL A 117      -1.310   6.071  12.533  1.00 98.77           C  \\nATOM    889  O   VAL A 117      -3.895   5.239  14.467  1.00 98.77           O  \\nATOM    890  CG1 VAL A 117      -0.790   5.473  13.839  1.00 98.77           C  \\nATOM    891  CG2 VAL A 117      -0.579   5.468  11.336  1.00 98.77           C  \\nATOM    892  N   ALA A 118      -3.749   7.413  13.995  1.00 98.43           N  \\nATOM    893  CA  ALA A 118      -4.408   7.827  15.230  1.00 98.43           C  \\nATOM    894  C   ALA A 118      -5.835   7.290  15.297  1.00 98.43           C  \\nATOM    895  CB  ALA A 118      -4.410   9.349  15.348  1.00 98.43           C  \\nATOM    896  O   ALA A 118      -6.371   7.066  16.385  1.00 98.43           O  \\nATOM    897  N   SER A 119      -6.388   7.033  14.150  1.00 98.25           N  \\nATOM    898  CA  SER A 119      -7.763   6.550  14.077  1.00 98.25           C  \\nATOM    899  C   SER A 119      -7.812   5.026  14.030  1.00 98.25           C  \\nATOM    900  CB  SER A 119      -8.471   7.129  12.852  1.00 98.25           C  \\nATOM    901  O   SER A 119      -8.871   4.441  13.795  1.00 98.25           O  \\nATOM    902  OG  SER A 119      -8.611   8.535  12.969  1.00 98.25           O  \\nATOM    903  N   GLY A 120      -6.581   4.353  14.089  1.00 98.25           N  \\nATOM    904  CA  GLY A 120      -6.541   2.906  14.230  1.00 98.25           C  \\nATOM    905  C   GLY A 120      -6.385   2.182  12.907  1.00 98.25           C  \\nATOM    906  O   GLY A 120      -6.545   0.961  12.838  1.00 98.25           O  \\nATOM    907  N   PHE A 121      -6.097   2.844  11.810  1.00 98.80           N  \\nATOM    908  CA  PHE A 121      -5.932   2.222  10.502  1.00 98.80           C  \\nATOM    909  C   PHE A 121      -4.528   1.651  10.347  1.00 98.80           C  \\nATOM    910  CB  PHE A 121      -6.214   3.233   9.385  1.00 98.80           C  \\nATOM    911  O   PHE A 121      -3.565   2.204  10.881  1.00 98.80           O  \\nATOM    912  CG  PHE A 121      -7.671   3.576   9.230  1.00 98.80           C  \\nATOM    913  CD1 PHE A 121      -8.493   2.818   8.404  1.00 98.80           C  \\nATOM    914  CD2 PHE A 121      -8.219   4.656   9.909  1.00 98.80           C  \\nATOM    915  CE1 PHE A 121      -9.842   3.133   8.258  1.00 98.80           C  \\nATOM    916  CE2 PHE A 121      -9.566   4.976   9.768  1.00 98.80           C  \\nATOM    917  CZ  PHE A 121     -10.376   4.214   8.942  1.00 98.80           C  \\nATOM    918  N   MET A 122      -4.426   0.498   9.668  1.00 98.83           N  \\nATOM    919  CA  MET A 122      -3.168   0.099   9.043  1.00 98.83           C  \\nATOM    920  C   MET A 122      -2.911   0.904   7.773  1.00 98.83           C  \\nATOM    921  CB  MET A 122      -3.178  -1.396   8.720  1.00 98.83           C  \\nATOM    922  O   MET A 122      -3.782   0.999   6.906  1.00 98.83           O  \\nATOM    923  CG  MET A 122      -3.316  -2.286   9.945  1.00 98.83           C  \\nATOM    924  SD  MET A 122      -1.895  -2.126  11.095  1.00 98.83           S  \\nATOM    925  CE  MET A 122      -0.568  -2.804  10.060  1.00 98.83           C  \\nATOM    926  N   VAL A 123      -1.723   1.531   7.682  1.00 98.89           N  \\nATOM    927  CA  VAL A 123      -1.479   2.433   6.561  1.00 98.89           C  \\nATOM    928  C   VAL A 123      -0.347   1.886   5.694  1.00 98.89           C  \\nATOM    929  CB  VAL A 123      -1.138   3.860   7.045  1.00 98.89           C  \\nATOM    930  O   VAL A 123       0.726   1.552   6.202  1.00 98.89           O  \\nATOM    931  CG1 VAL A 123      -0.827   4.773   5.860  1.00 98.89           C  \\nATOM    932  CG2 VAL A 123      -2.286   4.430   7.876  1.00 98.89           C  \\nATOM    933  N   ILE A 124      -0.611   1.696   4.387  1.00 98.91           N  \\nATOM    934  CA  ILE A 124       0.445   1.549   3.391  1.00 98.91           C  \\nATOM    935  C   ILE A 124       0.859   2.924   2.871  1.00 98.91           C  \\nATOM    936  CB  ILE A 124      -0.003   0.646   2.220  1.00 98.91           C  \\nATOM    937  O   ILE A 124       0.142   3.535   2.074  1.00 98.91           O  \\nATOM    938  CG1 ILE A 124      -0.430  -0.731   2.742  1.00 98.91           C  \\nATOM    939  CG2 ILE A 124       1.114   0.515   1.181  1.00 98.91           C  \\nATOM    940  CD1 ILE A 124      -1.061  -1.625   1.684  1.00 98.91           C  \\nATOM    941  N   ALA A 125       1.966   3.458   3.423  1.00 98.85           N  \\nATOM    942  CA  ALA A 125       2.486   4.767   3.034  1.00 98.85           C  \\nATOM    943  C   ALA A 125       3.451   4.646   1.858  1.00 98.85           C  \\nATOM    944  CB  ALA A 125       3.176   5.439   4.218  1.00 98.85           C  \\nATOM    945  O   ALA A 125       4.496   4.001   1.969  1.00 98.85           O  \\nATOM    946  N   CYS A 126       3.101   5.276   0.759  1.00 98.73           N  \\nATOM    947  CA  CYS A 126       3.871   5.138  -0.472  1.00 98.73           C  \\nATOM    948  C   CYS A 126       4.898   6.257  -0.602  1.00 98.73           C  \\nATOM    949  CB  CYS A 126       2.943   5.142  -1.687  1.00 98.73           C  \\nATOM    950  O   CYS A 126       4.577   7.428  -0.393  1.00 98.73           O  \\nATOM    951  SG  CYS A 126       1.676   3.856  -1.640  1.00 98.73           S  \\nATOM    952  N   ILE A 127       6.113   5.859  -0.962  1.00 98.51           N  \\nATOM    953  CA  ILE A 127       7.217   6.781  -1.207  1.00 98.51           C  \\nATOM    954  C   ILE A 127       7.995   6.336  -2.444  1.00 98.51           C  \\nATOM    955  CB  ILE A 127       8.159   6.872   0.014  1.00 98.51           C  \\nATOM    956  O   ILE A 127       7.922   5.172  -2.845  1.00 98.51           O  \\nATOM    957  CG1 ILE A 127       8.826   5.518   0.277  1.00 98.51           C  \\nATOM    958  CG2 ILE A 127       7.394   7.356   1.250  1.00 98.51           C  \\nATOM    959  CD1 ILE A 127       9.923   5.562   1.332  1.00 98.51           C  \\nATOM    960  N   GLY A 128       8.727   7.302  -3.021  1.00 96.80           N  \\nATOM    961  CA  GLY A 128       9.522   6.953  -4.188  1.00 96.80           C  \\nATOM    962  C   GLY A 128       9.916   8.157  -5.023  1.00 96.80           C  \\nATOM    963  O   GLY A 128       9.427   9.265  -4.793  1.00 96.80           O  \\nATOM    964  N   GLU A 129      10.783   7.962  -5.861  1.00 95.37           N  \\nATOM    965  CA  GLU A 129      11.347   9.044  -6.663  1.00 95.37           C  \\nATOM    966  C   GLU A 129      10.925   8.925  -8.125  1.00 95.37           C  \\nATOM    967  CB  GLU A 129      12.874   9.054  -6.556  1.00 95.37           C  \\nATOM    968  O   GLU A 129      10.619   7.829  -8.600  1.00 95.37           O  \\nATOM    969  CG  GLU A 129      13.557   7.992  -7.405  1.00 95.37           C  \\nATOM    970  CD  GLU A 129      13.479   6.599  -6.800  1.00 95.37           C  \\nATOM    971  OE1 GLU A 129      14.091   5.660  -7.358  1.00 95.37           O  \\nATOM    972  OE2 GLU A 129      12.800   6.445  -5.760  1.00 95.37           O  \\nATOM    973  N   THR A 130      10.904  10.036  -8.831  1.00 93.36           N  \\nATOM    974  CA  THR A 130      10.634  10.061 -10.264  1.00 93.36           C  \\nATOM    975  C   THR A 130      11.870   9.644 -11.055  1.00 93.36           C  \\nATOM    976  CB  THR A 130      10.175  11.458 -10.722  1.00 93.36           C  \\nATOM    977  O   THR A 130      12.961   9.521 -10.493  1.00 93.36           O  \\nATOM    978  CG2 THR A 130       8.980  11.940  -9.905  1.00 93.36           C  \\nATOM    979  OG1 THR A 130      11.255  12.386 -10.561  1.00 93.36           O  \\nATOM    980  N   LEU A 131      11.695   9.462 -12.425  1.00 89.52           N  \\nATOM    981  CA  LEU A 131      12.804   9.116 -13.307  1.00 89.52           C  \\nATOM    982  C   LEU A 131      13.869  10.208 -13.295  1.00 89.52           C  \\nATOM    983  CB  LEU A 131      12.303   8.892 -14.736  1.00 89.52           C  \\nATOM    984  O   LEU A 131      15.063   9.916 -13.207  1.00 89.52           O  \\nATOM    985  CG  LEU A 131      13.355   8.483 -15.768  1.00 89.52           C  \\nATOM    986  CD1 LEU A 131      14.043   7.191 -15.340  1.00 89.52           C  \\nATOM    987  CD2 LEU A 131      12.721   8.327 -17.146  1.00 89.52           C  \\nATOM    988  N   GLN A 132      13.394  11.370 -13.315  1.00 92.35           N  \\nATOM    989  CA  GLN A 132      14.304  12.511 -13.320  1.00 92.35           C  \\nATOM    990  C   GLN A 132      15.146  12.548 -12.048  1.00 92.35           C  \\nATOM    991  CB  GLN A 132      13.525  13.818 -13.473  1.00 92.35           C  \\nATOM    992  O   GLN A 132      16.357  12.775 -12.105  1.00 92.35           O  \\nATOM    993  CG  GLN A 132      14.410  15.052 -13.588  1.00 92.35           C  \\nATOM    994  CD  GLN A 132      13.614  16.341 -13.663  1.00 92.35           C  \\nATOM    995  NE2 GLN A 132      14.301  17.448 -13.924  1.00 92.35           N  \\nATOM    996  OE1 GLN A 132      12.391  16.342 -13.488  1.00 92.35           O  \\nATOM    997  N   GLU A 133      14.571  12.327 -10.958  1.00 94.85           N  \\nATOM    998  CA  GLU A 133      15.258  12.337  -9.669  1.00 94.85           C  \\nATOM    999  C   GLU A 133      16.258  11.189  -9.567  1.00 94.85           C  \\nATOM   1000  CB  GLU A 133      14.248  12.259  -8.521  1.00 94.85           C  \\nATOM   1001  O   GLU A 133      17.361  11.364  -9.046  1.00 94.85           O  \\nATOM   1002  CG  GLU A 133      13.416  13.521  -8.346  1.00 94.85           C  \\nATOM   1003  CD  GLU A 133      12.150  13.298  -7.534  1.00 94.85           C  \\nATOM   1004  OE1 GLU A 133      11.527  14.291  -7.095  1.00 94.85           O  \\nATOM   1005  OE2 GLU A 133      11.779  12.119  -7.335  1.00 94.85           O  \\nATOM   1006  N   ARG A 134      15.859  10.103 -10.046  1.00 91.78           N  \\nATOM   1007  CA  ARG A 134      16.785   8.976 -10.063  1.00 91.78           C  \\nATOM   1008  C   ARG A 134      18.004   9.281 -10.928  1.00 91.78           C  \\nATOM   1009  CB  ARG A 134      16.086   7.713 -10.571  1.00 91.78           C  \\nATOM   1010  O   ARG A 134      19.142   9.078 -10.501  1.00 91.78           O  \\nATOM   1011  CG  ARG A 134      16.999   6.501 -10.671  1.00 91.78           C  \\nATOM   1012  CD  ARG A 134      17.058   5.730  -9.360  1.00 91.78           C  \\nATOM   1013  NE  ARG A 134      17.856   4.513  -9.486  1.00 91.78           N  \\nATOM   1014  NH1 ARG A 134      18.199   4.256  -7.216  1.00 91.78           N  \\nATOM   1015  NH2 ARG A 134      19.089   2.746  -8.693  1.00 91.78           N  \\nATOM   1016  CZ  ARG A 134      18.379   3.841  -8.464  1.00 91.78           C  \\nATOM   1017  N   GLU A 135      17.758   9.698 -12.130  1.00 91.24           N  \\nATOM   1018  CA  GLU A 135      18.829   9.965 -13.086  1.00 91.24           C  \\nATOM   1019  C   GLU A 135      19.746  11.079 -12.590  1.00 91.24           C  \\nATOM   1020  CB  GLU A 135      18.250  10.330 -14.455  1.00 91.24           C  \\nATOM   1021  O   GLU A 135      20.916  11.144 -12.973  1.00 91.24           O  \\nATOM   1022  CG  GLU A 135      17.628   9.154 -15.193  1.00 91.24           C  \\nATOM   1023  CD  GLU A 135      17.049   9.534 -16.547  1.00 91.24           C  \\nATOM   1024  OE1 GLU A 135      16.809   8.630 -17.379  1.00 91.24           O  \\nATOM   1025  OE2 GLU A 135      16.835  10.745 -16.777  1.00 91.24           O  \\nATOM   1026  N   SER A 136      19.229  11.822 -11.660  1.00 95.40           N  \\nATOM   1027  CA  SER A 136      20.043  12.902 -11.112  1.00 95.40           C  \\nATOM   1028  C   SER A 136      20.705  12.486  -9.803  1.00 95.40           C  \\nATOM   1029  CB  SER A 136      19.192  14.153 -10.888  1.00 95.40           C  \\nATOM   1030  O   SER A 136      21.276  13.320  -9.098  1.00 95.40           O  \\nATOM   1031  OG  SER A 136      18.217  13.925  -9.885  1.00 95.40           O  \\nATOM   1032  N   GLY A 137      20.629  11.187  -9.394  1.00 94.05           N  \\nATOM   1033  CA  GLY A 137      21.292  10.672  -8.207  1.00 94.05           C  \\nATOM   1034  C   GLY A 137      20.638  11.123  -6.915  1.00 94.05           C  \\nATOM   1035  O   GLY A 137      21.301  11.231  -5.881  1.00 94.05           O  \\nATOM   1036  N   ARG A 138      19.339  11.403  -6.927  1.00 96.62           N  \\nATOM   1037  CA  ARG A 138      18.658  11.997  -5.780  1.00 96.62           C  \\nATOM   1038  C   ARG A 138      17.722  10.991  -5.119  1.00 96.62           C  \\nATOM   1039  CB  ARG A 138      17.875  13.241  -6.205  1.00 96.62           C  \\nATOM   1040  O   ARG A 138      16.835  11.371  -4.352  1.00 96.62           O  \\nATOM   1041  CG  ARG A 138      18.753  14.412  -6.615  1.00 96.62           C  \\nATOM   1042  CD  ARG A 138      17.975  15.720  -6.637  1.00 96.62           C  \\nATOM   1043  NE  ARG A 138      16.915  15.700  -7.641  1.00 96.62           N  \\nATOM   1044  NH1 ARG A 138      15.999  17.726  -7.015  1.00 96.62           N  \\nATOM   1045  NH2 ARG A 138      15.081  16.533  -8.744  1.00 96.62           N  \\nATOM   1046  CZ  ARG A 138      16.001  16.653  -7.798  1.00 96.62           C  \\nATOM   1047  N   THR A 139      17.838   9.718  -5.457  1.00 94.58           N  \\nATOM   1048  CA  THR A 139      16.945   8.704  -4.906  1.00 94.58           C  \\nATOM   1049  C   THR A 139      16.944   8.756  -3.380  1.00 94.58           C  \\nATOM   1050  CB  THR A 139      17.345   7.293  -5.374  1.00 94.58           C  \\nATOM   1051  O   THR A 139      15.885   8.850  -2.758  1.00 94.58           O  \\nATOM   1052  CG2 THR A 139      16.438   6.232  -4.759  1.00 94.58           C  \\nATOM   1053  OG1 THR A 139      17.244   7.223  -6.801  1.00 94.58           O  \\nATOM   1054  N   ALA A 140      18.099   8.739  -2.753  1.00 97.07           N  \\nATOM   1055  CA  ALA A 140      18.209   8.702  -1.297  1.00 97.07           C  \\nATOM   1056  C   ALA A 140      17.585   9.944  -0.668  1.00 97.07           C  \\nATOM   1057  CB  ALA A 140      19.672   8.574  -0.877  1.00 97.07           C  \\nATOM   1058  O   ALA A 140      16.811   9.841   0.287  1.00 97.07           O  \\nATOM   1059  N   VAL A 141      17.848  11.071  -1.260  1.00 97.78           N  \\nATOM   1060  CA  VAL A 141      17.369  12.331  -0.701  1.00 97.78           C  \\nATOM   1061  C   VAL A 141      15.845  12.383  -0.776  1.00 97.78           C  \\nATOM   1062  CB  VAL A 141      17.980  13.546  -1.435  1.00 97.78           C  \\nATOM   1063  O   VAL A 141      15.181  12.739   0.201  1.00 97.78           O  \\nATOM   1064  CG1 VAL A 141      17.277  14.837  -1.018  1.00 97.78           C  \\nATOM   1065  CG2 VAL A 141      19.479  13.637  -1.158  1.00 97.78           C  \\nATOM   1066  N   VAL A 142      15.294  11.959  -1.849  1.00 97.81           N  \\nATOM   1067  CA  VAL A 142      13.850  12.034  -2.044  1.00 97.81           C  \\nATOM   1068  C   VAL A 142      13.149  11.058  -1.103  1.00 97.81           C  \\nATOM   1069  CB  VAL A 142      13.458  11.737  -3.509  1.00 97.81           C  \\nATOM   1070  O   VAL A 142      12.232  11.440  -0.371  1.00 97.81           O  \\nATOM   1071  CG1 VAL A 142      11.948  11.547  -3.636  1.00 97.81           C  \\nATOM   1072  CG2 VAL A 142      13.938  12.859  -4.428  1.00 97.81           C  \\nATOM   1073  N   VAL A 143      13.557   9.845  -1.147  1.00 97.72           N  \\nATOM   1074  CA  VAL A 143      12.913   8.787  -0.375  1.00 97.72           C  \\nATOM   1075  C   VAL A 143      13.020   9.097   1.116  1.00 97.72           C  \\nATOM   1076  CB  VAL A 143      13.535   7.406  -0.678  1.00 97.72           C  \\nATOM   1077  O   VAL A 143      12.034   8.993   1.850  1.00 97.72           O  \\nATOM   1078  CG1 VAL A 143      13.094   6.375   0.360  1.00 97.72           C  \\nATOM   1079  CG2 VAL A 143      13.154   6.947  -2.085  1.00 97.72           C  \\nATOM   1080  N   LEU A 144      14.145   9.543   1.579  1.00 98.08           N  \\nATOM   1081  CA  LEU A 144      14.343   9.783   3.005  1.00 98.08           C  \\nATOM   1082  C   LEU A 144      13.608  11.043   3.451  1.00 98.08           C  \\nATOM   1083  CB  LEU A 144      15.835   9.908   3.325  1.00 98.08           C  \\nATOM   1084  O   LEU A 144      13.123  11.116   4.582  1.00 98.08           O  \\nATOM   1085  CG  LEU A 144      16.684   8.657   3.098  1.00 98.08           C  \\nATOM   1086  CD1 LEU A 144      18.134   8.922   3.490  1.00 98.08           C  \\nATOM   1087  CD2 LEU A 144      16.120   7.477   3.882  1.00 98.08           C  \\nATOM   1088  N   THR A 145      13.497  12.050   2.540  1.00 98.48           N  \\nATOM   1089  CA  THR A 145      12.711  13.239   2.849  1.00 98.48           C  \\nATOM   1090  C   THR A 145      11.240  12.882   3.038  1.00 98.48           C  \\nATOM   1091  CB  THR A 145      12.846  14.301   1.743  1.00 98.48           C  \\nATOM   1092  O   THR A 145      10.582  13.395   3.945  1.00 98.48           O  \\nATOM   1093  CG2 THR A 145      11.960  15.509   2.028  1.00 98.48           C  \\nATOM   1094  OG1 THR A 145      14.211  14.732   1.665  1.00 98.48           O  \\nATOM   1095  N   GLN A 146      10.723  12.049   2.219  1.00 98.65           N  \\nATOM   1096  CA  GLN A 146       9.330  11.625   2.310  1.00 98.65           C  \\nATOM   1097  C   GLN A 146       9.077  10.837   3.593  1.00 98.65           C  \\nATOM   1098  CB  GLN A 146       8.944  10.784   1.093  1.00 98.65           C  \\nATOM   1099  O   GLN A 146       8.099  11.088   4.299  1.00 98.65           O  \\nATOM   1100  CG  GLN A 146       8.928  11.565  -0.214  1.00 98.65           C  \\nATOM   1101  CD  GLN A 146       8.621  10.691  -1.416  1.00 98.65           C  \\nATOM   1102  NE2 GLN A 146       8.749  11.260  -2.610  1.00 98.65           N  \\nATOM   1103  OE1 GLN A 146       8.274   9.515  -1.273  1.00 98.65           O  \\nATOM   1104  N   ILE A 147       9.948   9.875   3.938  1.00 98.30           N  \\nATOM   1105  CA  ILE A 147       9.774   9.073   5.144  1.00 98.30           C  \\nATOM   1106  C   ILE A 147      10.002   9.941   6.379  1.00 98.30           C  \\nATOM   1107  CB  ILE A 147      10.730   7.859   5.158  1.00 98.30           C  \\nATOM   1108  O   ILE A 147       9.345   9.756   7.406  1.00 98.30           O  \\nATOM   1109  CG1 ILE A 147      10.325   6.873   6.260  1.00 98.30           C  \\nATOM   1110  CG2 ILE A 147      12.180   8.316   5.339  1.00 98.30           C  \\nATOM   1111  CD1 ILE A 147      11.016   5.520   6.164  1.00 98.30           C  \\nATOM   1112  N   ALA A 148      10.923  10.897   6.319  1.00 98.61           N  \\nATOM   1113  CA  ALA A 148      11.186  11.803   7.434  1.00 98.61           C  \\nATOM   1114  C   ALA A 148       9.958  12.651   7.753  1.00 98.61           C  \\nATOM   1115  CB  ALA A 148      12.381  12.700   7.121  1.00 98.61           C  \\nATOM   1116  O   ALA A 148       9.655  12.901   8.922  1.00 98.61           O  \\nATOM   1117  N   ALA A 149       9.261  13.111   6.745  1.00 98.74           N  \\nATOM   1118  CA  ALA A 149       8.048  13.895   6.959  1.00 98.74           C  \\nATOM   1119  C   ALA A 149       7.008  13.095   7.739  1.00 98.74           C  \\nATOM   1120  CB  ALA A 149       7.468  14.356   5.624  1.00 98.74           C  \\nATOM   1121  O   ALA A 149       6.375  13.619   8.659  1.00 98.74           O  \\nATOM   1122  N   ILE A 150       6.858  11.788   7.423  1.00 98.73           N  \\nATOM   1123  CA  ILE A 150       5.931  10.907   8.126  1.00 98.73           C  \\nATOM   1124  C   ILE A 150       6.410  10.694   9.560  1.00 98.73           C  \\nATOM   1125  CB  ILE A 150       5.783   9.550   7.403  1.00 98.73           C  \\nATOM   1126  O   ILE A 150       5.629  10.816  10.507  1.00 98.73           O  \\nATOM   1127  CG1 ILE A 150       5.097   9.740   6.045  1.00 98.73           C  \\nATOM   1128  CG2 ILE A 150       5.008   8.556   8.274  1.00 98.73           C  \\nATOM   1129  CD1 ILE A 150       5.162   8.516   5.142  1.00 98.73           C  \\nATOM   1130  N   ALA A 151       7.675  10.472   9.720  1.00 98.56           N  \\nATOM   1131  CA  ALA A 151       8.264  10.177  11.023  1.00 98.56           C  \\nATOM   1132  C   ALA A 151       8.083  11.348  11.985  1.00 98.56           C  \\nATOM   1133  CB  ALA A 151       9.746   9.841  10.873  1.00 98.56           C  \\nATOM   1134  O   ALA A 151       7.908  11.149  13.189  1.00 98.56           O  \\nATOM   1135  N   LYS A 152       8.069  12.580  11.480  1.00 98.45           N  \\nATOM   1136  CA  LYS A 152       7.932  13.779  12.302  1.00 98.45           C  \\nATOM   1137  C   LYS A 152       6.566  13.826  12.981  1.00 98.45           C  \\nATOM   1138  CB  LYS A 152       8.141  15.036  11.457  1.00 98.45           C  \\nATOM   1139  O   LYS A 152       6.407  14.467  14.023  1.00 98.45           O  \\nATOM   1140  CG  LYS A 152       9.594  15.301  11.091  1.00 98.45           C  \\nATOM   1141  CD  LYS A 152       9.740  16.577  10.271  1.00 98.45           C  \\nATOM   1142  CE  LYS A 152      11.181  16.801   9.836  1.00 98.45           C  \\nATOM   1143  NZ  LYS A 152      11.312  17.990   8.942  1.00 98.45           N  \\nATOM   1144  N   LYS A 153       5.648  13.075  12.452  1.00 98.51           N  \\nATOM   1145  CA  LYS A 153       4.281  13.192  12.951  1.00 98.51           C  \\nATOM   1146  C   LYS A 153       3.884  11.962  13.762  1.00 98.51           C  \\nATOM   1147  CB  LYS A 153       3.302  13.395  11.793  1.00 98.51           C  \\nATOM   1148  O   LYS A 153       2.793  11.913  14.332  1.00 98.51           O  \\nATOM   1149  CG  LYS A 153       3.578  14.638  10.960  1.00 98.51           C  \\nATOM   1150  CD  LYS A 153       3.180  15.908  11.702  1.00 98.51           C  \\nATOM   1151  CE  LYS A 153       3.264  17.132  10.802  1.00 98.51           C  \\nATOM   1152  NZ  LYS A 153       2.951  18.389  11.545  1.00 98.51           N  \\nATOM   1153  N   LEU A 154       4.772  10.971  13.741  1.00 98.62           N  \\nATOM   1154  CA  LEU A 154       4.427   9.717  14.401  1.00 98.62           C  \\nATOM   1155  C   LEU A 154       5.317   9.480  15.617  1.00 98.62           C  \\nATOM   1156  CB  LEU A 154       4.555   8.544  13.425  1.00 98.62           C  \\nATOM   1157  O   LEU A 154       6.471   9.915  15.641  1.00 98.62           O  \\nATOM   1158  CG  LEU A 154       3.643   8.582  12.197  1.00 98.62           C  \\nATOM   1159  CD1 LEU A 154       3.821   7.316  11.366  1.00 98.62           C  \\nATOM   1160  CD2 LEU A 154       2.187   8.751  12.617  1.00 98.62           C  \\nATOM   1161  N   LYS A 155       4.705   8.881  16.589  1.00 98.18           N  \\nATOM   1162  CA  LYS A 155       5.483   8.309  17.684  1.00 98.18           C  \\nATOM   1163  C   LYS A 155       5.997   6.918  17.324  1.00 98.18           C  \\nATOM   1164  CB  LYS A 155       4.645   8.244  18.961  1.00 98.18           C  \\nATOM   1165  O   LYS A 155       5.479   6.277  16.407  1.00 98.18           O  \\nATOM   1166  CG  LYS A 155       4.111   9.592  19.421  1.00 98.18           C  \\nATOM   1167  CD  LYS A 155       3.176   9.446  20.615  1.00 98.18           C  \\nATOM   1168  CE  LYS A 155       2.572  10.784  21.020  1.00 98.18           C  \\nATOM   1169  NZ  LYS A 155       1.551  10.626  22.099  1.00 98.18           N  \\nATOM   1170  N   LYS A 156       7.039   6.530  18.089  1.00 98.19           N  \\nATOM   1171  CA  LYS A 156       7.657   5.231  17.842  1.00 98.19           C  \\nATOM   1172  C   LYS A 156       6.616   4.115  17.855  1.00 98.19           C  \\nATOM   1173  CB  LYS A 156       8.743   4.947  18.881  1.00 98.19           C  \\nATOM   1174  O   LYS A 156       6.617   3.247  16.980  1.00 98.19           O  \\nATOM   1175  CG  LYS A 156       9.499   3.647  18.646  1.00 98.19           C  \\nATOM   1176  CD  LYS A 156      10.656   3.489  19.624  1.00 98.19           C  \\nATOM   1177  CE  LYS A 156      11.387   2.170  19.418  1.00 98.19           C  \\nATOM   1178  NZ  LYS A 156      12.568   2.043  20.324  1.00 98.19           N  \\nATOM   1179  N   ALA A 157       5.651   4.097  18.757  1.00 98.00           N  \\nATOM   1180  CA  ALA A 157       4.655   3.041  18.917  1.00 98.00           C  \\nATOM   1181  C   ALA A 157       3.705   2.998  17.723  1.00 98.00           C  \\nATOM   1182  CB  ALA A 157       3.870   3.242  20.211  1.00 98.00           C  \\nATOM   1183  O   ALA A 157       3.100   1.961  17.441  1.00 98.00           O  \\nATOM   1184  N   ASP A 158       3.599   4.095  17.031  1.00 98.52           N  \\nATOM   1185  CA  ASP A 158       2.679   4.219  15.905  1.00 98.52           C  \\nATOM   1186  C   ASP A 158       3.158   3.397  14.711  1.00 98.52           C  \\nATOM   1187  CB  ASP A 158       2.517   5.686  15.502  1.00 98.52           C  \\nATOM   1188  O   ASP A 158       2.355   2.988  13.869  1.00 98.52           O  \\nATOM   1189  CG  ASP A 158       1.809   6.516  16.558  1.00 98.52           C  \\nATOM   1190  OD1 ASP A 158       0.917   5.985  17.254  1.00 98.52           O  \\nATOM   1191  OD2 ASP A 158       2.144   7.713  16.694  1.00 98.52           O  \\nATOM   1192  N   TRP A 159       4.418   3.051  14.614  1.00 98.40           N  \\nATOM   1193  CA  TRP A 159       5.024   2.422  13.445  1.00 98.40           C  \\nATOM   1194  C   TRP A 159       4.553   0.979  13.297  1.00 98.40           C  \\nATOM   1195  CB  TRP A 159       6.552   2.467  13.541  1.00 98.40           C  \\nATOM   1196  O   TRP A 159       4.705   0.376  12.232  1.00 98.40           O  \\nATOM   1197  CG  TRP A 159       7.147   3.792  13.170  1.00 98.40           C  \\nATOM   1198  CD1 TRP A 159       7.348   4.864  13.993  1.00 98.40           C  \\nATOM   1199  CD2 TRP A 159       7.614   4.186  11.876  1.00 98.40           C  \\nATOM   1200  CE2 TRP A 159       8.087   5.512  11.988  1.00 98.40           C  \\nATOM   1201  CE3 TRP A 159       7.679   3.545  10.631  1.00 98.40           C  \\nATOM   1202  NE1 TRP A 159       7.913   5.902  13.289  1.00 98.40           N  \\nATOM   1203  CH2 TRP A 159       8.671   5.560   9.695  1.00 98.40           C  \\nATOM   1204  CZ2 TRP A 159       8.618   6.210  10.901  1.00 98.40           C  \\nATOM   1205  CZ3 TRP A 159       8.209   4.242   9.551  1.00 98.40           C  \\nATOM   1206  N   ALA A 160       3.885   0.462  14.340  1.00 98.21           N  \\nATOM   1207  CA  ALA A 160       3.288  -0.869  14.260  1.00 98.21           C  \\nATOM   1208  C   ALA A 160       2.127  -0.891  13.270  1.00 98.21           C  \\nATOM   1209  CB  ALA A 160       2.816  -1.324  15.638  1.00 98.21           C  \\nATOM   1210  O   ALA A 160       1.727  -1.957  12.796  1.00 98.21           O  \\nATOM   1211  N   LYS A 161       1.623   0.252  12.898  1.00 98.63           N  \\nATOM   1212  CA  LYS A 161       0.464   0.367  12.017  1.00 98.63           C  \\nATOM   1213  C   LYS A 161       0.867   0.898  10.644  1.00 98.63           C  \\nATOM   1214  CB  LYS A 161      -0.596   1.278  12.640  1.00 98.63           C  \\nATOM   1215  O   LYS A 161       0.008   1.247   9.832  1.00 98.63           O  \\nATOM   1216  CG  LYS A 161      -1.243   0.707  13.894  1.00 98.63           C  \\nATOM   1217  CD  LYS A 161      -2.267   1.669  14.481  1.00 98.63           C  \\nATOM   1218  CE  LYS A 161      -2.827   1.154  15.800  1.00 98.63           C  \\nATOM   1219  NZ  LYS A 161      -3.545   2.226  16.554  1.00 98.63           N  \\nATOM   1220  N   VAL A 162       2.215   1.023  10.430  1.00 98.78           N  \\nATOM   1221  CA  VAL A 162       2.688   1.618   9.185  1.00 98.78           C  \\nATOM   1222  C   VAL A 162       3.411   0.563   8.350  1.00 98.78           C  \\nATOM   1223  CB  VAL A 162       3.622   2.821   9.449  1.00 98.78           C  \\nATOM   1224  O   VAL A 162       4.232  -0.195   8.872  1.00 98.78           O  \\nATOM   1225  CG1 VAL A 162       4.187   3.364   8.137  1.00 98.78           C  \\nATOM   1226  CG2 VAL A 162       2.877   3.917  10.208  1.00 98.78           C  \\nATOM   1227  N   VAL A 163       3.079   0.533   7.151  1.00 98.86           N  \\nATOM   1228  CA  VAL A 163       3.778  -0.180   6.087  1.00 98.86           C  \\nATOM   1229  C   VAL A 163       4.311   0.817   5.060  1.00 98.86           C  \\nATOM   1230  CB  VAL A 163       2.859  -1.215   5.398  1.00 98.86           C  \\nATOM   1231  O   VAL A 163       3.619   1.770   4.694  1.00 98.86           O  \\nATOM   1232  CG1 VAL A 163       3.600  -1.927   4.268  1.00 98.86           C  \\nATOM   1233  CG2 VAL A 163       2.336  -2.224   6.418  1.00 98.86           C  \\nATOM   1234  N   ILE A 164       5.548   0.592   4.621  1.00 98.89           N  \\nATOM   1235  CA  ILE A 164       6.106   1.465   3.594  1.00 98.89           C  \\nATOM   1236  C   ILE A 164       6.093   0.749   2.245  1.00 98.89           C  \\nATOM   1237  CB  ILE A 164       7.542   1.910   3.951  1.00 98.89           C  \\nATOM   1238  O   ILE A 164       6.570  -0.383   2.131  1.00 98.89           O  \\nATOM   1239  CG1 ILE A 164       7.547   2.695   5.267  1.00 98.89           C  \\nATOM   1240  CG2 ILE A 164       8.148   2.740   2.815  1.00 98.89           C  \\nATOM   1241  CD1 ILE A 164       6.751   3.993   5.216  1.00 98.89           C  \\nATOM   1242  N   ALA A 165       5.526   1.396   1.284  1.00 98.69           N  \\nATOM   1243  CA  ALA A 165       5.636   0.920  -0.093  1.00 98.69           C  \\nATOM   1244  C   ALA A 165       6.558   1.819  -0.912  1.00 98.69           C  \\nATOM   1245  CB  ALA A 165       4.256   0.846  -0.742  1.00 98.69           C  \\nATOM   1246  O   ALA A 165       6.225   2.975  -1.185  1.00 98.69           O  \\nATOM   1247  N   TYR A 166       7.752   1.295  -1.199  1.00 98.45           N  \\nATOM   1248  CA  TYR A 166       8.687   2.017  -2.056  1.00 98.45           C  \\nATOM   1249  C   TYR A 166       8.310   1.864  -3.525  1.00 98.45           C  \\nATOM   1250  CB  TYR A 166      10.118   1.520  -1.829  1.00 98.45           C  \\nATOM   1251  O   TYR A 166       8.252   0.746  -4.044  1.00 98.45           O  \\nATOM   1252  CG  TYR A 166      11.109   2.041  -2.841  1.00 98.45           C  \\nATOM   1253  CD1 TYR A 166      11.763   1.175  -3.715  1.00 98.45           C  \\nATOM   1254  CD2 TYR A 166      11.395   3.399  -2.925  1.00 98.45           C  \\nATOM   1255  CE1 TYR A 166      12.679   1.651  -4.648  1.00 98.45           C  \\nATOM   1256  CE2 TYR A 166      12.309   3.886  -3.854  1.00 98.45           C  \\nATOM   1257  OH  TYR A 166      13.850   3.482  -5.631  1.00 98.45           O  \\nATOM   1258  CZ  TYR A 166      12.944   3.006  -4.710  1.00 98.45           C  \\nATOM   1259  N   GLU A 167       8.105   3.054  -4.190  1.00 94.78           N  \\nATOM   1260  CA  GLU A 167       7.711   3.100  -5.595  1.00 94.78           C  \\nATOM   1261  C   GLU A 167       8.805   3.728  -6.454  1.00 94.78           C  \\nATOM   1262  CB  GLU A 167       6.401   3.874  -5.761  1.00 94.78           C  \\nATOM   1263  O   GLU A 167       8.941   4.952  -6.498  1.00 94.78           O  \\nATOM   1264  CG  GLU A 167       5.236   3.288  -4.977  1.00 94.78           C  \\nATOM   1265  CD  GLU A 167       3.970   4.124  -5.070  1.00 94.78           C  \\nATOM   1266  OE1 GLU A 167       3.041   3.739  -5.816  1.00 94.78           O  \\nATOM   1267  OE2 GLU A 167       3.906   5.173  -4.391  1.00 94.78           O  \\nATOM   1268  N   PRO A 168       9.575   2.899  -7.099  1.00 91.57           N  \\nATOM   1269  CA  PRO A 168      10.324   3.576  -8.160  1.00 91.57           C  \\nATOM   1270  C   PRO A 168       9.424   4.092  -9.281  1.00 91.57           C  \\nATOM   1271  CB  PRO A 168      11.269   2.488  -8.675  1.00 91.57           C  \\nATOM   1272  O   PRO A 168       9.118   3.353 -10.220  1.00 91.57           O  \\nATOM   1273  CG  PRO A 168      10.532   1.206  -8.455  1.00 91.57           C  \\nATOM   1274  CD  PRO A 168       9.701   1.342  -7.211  1.00 91.57           C  \\nATOM   1275  N   VAL A 169       8.947   5.307  -9.141  1.00 85.13           N  \\nATOM   1276  CA  VAL A 169       7.908   5.855 -10.006  1.00 85.13           C  \\nATOM   1277  C   VAL A 169       8.275   5.618 -11.469  1.00 85.13           C  \\nATOM   1278  CB  VAL A 169       7.691   7.363  -9.748  1.00 85.13           C  \\nATOM   1279  O   VAL A 169       7.398   5.410 -12.310  1.00 85.13           O  \\nATOM   1280  CG1 VAL A 169       6.643   7.929 -10.705  1.00 85.13           C  \\nATOM   1281  CG2 VAL A 169       7.279   7.602  -8.297  1.00 85.13           C  \\nATOM   1282  N   TRP A 170       9.475   5.535 -11.800  1.00 83.24           N  \\nATOM   1283  CA  TRP A 170       9.924   5.339 -13.174  1.00 83.24           C  \\nATOM   1284  C   TRP A 170       9.703   3.897 -13.618  1.00 83.24           C  \\nATOM   1285  CB  TRP A 170      11.404   5.708 -13.315  1.00 83.24           C  \\nATOM   1286  O   TRP A 170       9.736   3.597 -14.814  1.00 83.24           O  \\nATOM   1287  CG  TRP A 170      12.296   5.043 -12.309  1.00 83.24           C  \\nATOM   1288  CD1 TRP A 170      12.685   5.540 -11.097  1.00 83.24           C  \\nATOM   1289  CD2 TRP A 170      12.914   3.759 -12.434  1.00 83.24           C  \\nATOM   1290  CE2 TRP A 170      13.664   3.540 -11.257  1.00 83.24           C  \\nATOM   1291  CE3 TRP A 170      12.906   2.770 -13.426  1.00 83.24           C  \\nATOM   1292  NE1 TRP A 170      13.508   4.641 -10.459  1.00 83.24           N  \\nATOM   1293  CH2 TRP A 170      14.375   1.420 -12.034  1.00 83.24           C  \\nATOM   1294  CZ2 TRP A 170      14.400   2.372 -11.047  1.00 83.24           C  \\nATOM   1295  CZ3 TRP A 170      13.639   1.607 -13.215  1.00 83.24           C  \\nATOM   1296  N   ALA A 171       9.444   3.041 -12.764  1.00 84.31           N  \\nATOM   1297  CA  ALA A 171       9.239   1.637 -13.108  1.00 84.31           C  \\nATOM   1298  C   ALA A 171       7.765   1.254 -12.997  1.00 84.31           C  \\nATOM   1299  CB  ALA A 171      10.087   0.739 -12.210  1.00 84.31           C  \\nATOM   1300  O   ALA A 171       7.387   0.122 -13.305  1.00 84.31           O  \\nATOM   1301  N   ILE A 172       6.864   2.182 -12.643  1.00 81.71           N  \\nATOM   1302  CA  ILE A 172       5.449   1.868 -12.470  1.00 81.71           C  \\nATOM   1303  C   ILE A 172       4.712   2.063 -13.793  1.00 81.71           C  \\nATOM   1304  CB  ILE A 172       4.808   2.739 -11.366  1.00 81.71           C  \\nATOM   1305  O   ILE A 172       4.648   3.178 -14.317  1.00 81.71           O  \\nATOM   1306  CG1 ILE A 172       5.516   2.507 -10.026  1.00 81.71           C  \\nATOM   1307  CG2 ILE A 172       3.309   2.448 -11.251  1.00 81.71           C  \\nATOM   1308  CD1 ILE A 172       5.047   3.432  -8.911  1.00 81.71           C  \\nATOM   1309  N   GLY A 173       4.194   1.026 -14.433  1.00 78.45           N  \\nATOM   1310  CA  GLY A 173       3.343   1.092 -15.610  1.00 78.45           C  \\nATOM   1311  C   GLY A 173       4.104   1.426 -16.879  1.00 78.45           C  \\nATOM   1312  O   GLY A 173       3.508   1.839 -17.876  1.00 78.45           O  \\nATOM   1313  N   THR A 174       5.474   1.390 -16.795  1.00 80.81           N  \\nATOM   1314  CA  THR A 174       6.236   1.840 -17.955  1.00 80.81           C  \\nATOM   1315  C   THR A 174       6.795   0.650 -18.730  1.00 80.81           C  \\nATOM   1316  CB  THR A 174       7.389   2.772 -17.539  1.00 80.81           C  \\nATOM   1317  O   THR A 174       7.226   0.795 -19.875  1.00 80.81           O  \\nATOM   1318  CG2 THR A 174       6.874   3.952 -16.722  1.00 80.81           C  \\nATOM   1319  OG1 THR A 174       8.331   2.034 -16.751  1.00 80.81           O  \\nATOM   1320  N   GLY A 175       6.762  -0.570 -18.103  1.00 75.15           N  \\nATOM   1321  CA  GLY A 175       7.412  -1.727 -18.698  1.00 75.15           C  \\nATOM   1322  C   GLY A 175       8.871  -1.860 -18.304  1.00 75.15           C  \\nATOM   1323  O   GLY A 175       9.507  -2.876 -18.591  1.00 75.15           O  \\nATOM   1324  N   LYS A 176       9.424  -0.714 -17.722  1.00 77.90           N  \\nATOM   1325  CA  LYS A 176      10.774  -0.777 -17.172  1.00 77.90           C  \\nATOM   1326  C   LYS A 176      10.786  -1.492 -15.824  1.00 77.90           C  \\nATOM   1327  CB  LYS A 176      11.361   0.628 -17.025  1.00 77.90           C  \\nATOM   1328  O   LYS A 176       9.912  -1.263 -14.986  1.00 77.90           O  \\nATOM   1329  CG  LYS A 176      11.652   1.318 -18.349  1.00 77.90           C  \\nATOM   1330  CD  LYS A 176      12.396   2.631 -18.143  1.00 77.90           C  \\nATOM   1331  CE  LYS A 176      12.681   3.328 -19.467  1.00 77.90           C  \\nATOM   1332  NZ  LYS A 176      13.414   4.614 -19.270  1.00 77.90           N  \\nATOM   1333  N   VAL A 177      11.738  -2.416 -15.690  1.00 81.42           N  \\nATOM   1334  CA  VAL A 177      11.742  -3.242 -14.487  1.00 81.42           C  \\nATOM   1335  C   VAL A 177      13.017  -2.984 -13.687  1.00 81.42           C  \\nATOM   1336  CB  VAL A 177      11.623  -4.744 -14.830  1.00 81.42           C  \\nATOM   1337  O   VAL A 177      14.124  -3.084 -14.222  1.00 81.42           O  \\nATOM   1338  CG1 VAL A 177      11.595  -5.587 -13.556  1.00 81.42           C  \\nATOM   1339  CG2 VAL A 177      10.374  -5.001 -15.672  1.00 81.42           C  \\nATOM   1340  N   ALA A 178      12.816  -2.421 -12.477  1.00 87.70           N  \\nATOM   1341  CA  ALA A 178      13.968  -2.328 -11.583  1.00 87.70           C  \\nATOM   1342  C   ALA A 178      14.567  -3.706 -11.316  1.00 87.70           C  \\nATOM   1343  CB  ALA A 178      13.569  -1.661 -10.269  1.00 87.70           C  \\nATOM   1344  O   ALA A 178      13.837  -4.688 -11.165  1.00 87.70           O  \\nATOM   1345  N   THR A 179      15.901  -3.782 -11.349  1.00 92.99           N  \\nATOM   1346  CA  THR A 179      16.533  -5.045 -10.983  1.00 92.99           C  \\nATOM   1347  C   THR A 179      16.309  -5.354  -9.506  1.00 92.99           C  \\nATOM   1348  CB  THR A 179      18.043  -5.021 -11.282  1.00 92.99           C  \\nATOM   1349  O   THR A 179      16.075  -4.446  -8.705  1.00 92.99           O  \\nATOM   1350  CG2 THR A 179      18.313  -4.602 -12.723  1.00 92.99           C  \\nATOM   1351  OG1 THR A 179      18.685  -4.093 -10.398  1.00 92.99           O  \\nATOM   1352  N   PRO A 180      16.326  -6.593  -9.109  1.00 95.69           N  \\nATOM   1353  CA  PRO A 180      16.241  -6.955  -7.692  1.00 95.69           C  \\nATOM   1354  C   PRO A 180      17.271  -6.225  -6.834  1.00 95.69           C  \\nATOM   1355  CB  PRO A 180      16.504  -8.463  -7.697  1.00 95.69           C  \\nATOM   1356  O   PRO A 180      16.970  -5.828  -5.705  1.00 95.69           O  \\nATOM   1357  CG  PRO A 180      15.984  -8.937  -9.016  1.00 95.69           C  \\nATOM   1358  CD  PRO A 180      16.314  -7.906 -10.057  1.00 95.69           C  \\nATOM   1359  N   GLN A 181      18.423  -5.988  -7.347  1.00 96.47           N  \\nATOM   1360  CA  GLN A 181      19.473  -5.287  -6.615  1.00 96.47           C  \\nATOM   1361  C   GLN A 181      19.088  -3.832  -6.361  1.00 96.47           C  \\nATOM   1362  CB  GLN A 181      20.797  -5.354  -7.379  1.00 96.47           C  \\nATOM   1363  O   GLN A 181      19.316  -3.306  -5.270  1.00 96.47           O  \\nATOM   1364  CG  GLN A 181      21.474  -6.717  -7.316  1.00 96.47           C  \\nATOM   1365  CD  GLN A 181      20.801  -7.748  -8.203  1.00 96.47           C  \\nATOM   1366  NE2 GLN A 181      21.166  -9.013  -8.024  1.00 96.47           N  \\nATOM   1367  OE1 GLN A 181      19.960  -7.410  -9.042  1.00 96.47           O  \\nATOM   1368  N   GLN A 182      18.524  -3.192  -7.405  1.00 94.38           N  \\nATOM   1369  CA  GLN A 182      18.070  -1.816  -7.229  1.00 94.38           C  \\nATOM   1370  C   GLN A 182      16.963  -1.732  -6.182  1.00 94.38           C  \\nATOM   1371  CB  GLN A 182      17.583  -1.237  -8.558  1.00 94.38           C  \\nATOM   1372  O   GLN A 182      16.959  -0.825  -5.347  1.00 94.38           O  \\nATOM   1373  CG  GLN A 182      18.702  -0.931  -9.543  1.00 94.38           C  \\nATOM   1374  CD  GLN A 182      18.186  -0.478 -10.896  1.00 94.38           C  \\nATOM   1375  NE2 GLN A 182      18.771   0.591 -11.426  1.00 94.38           N  \\nATOM   1376  OE1 GLN A 182      17.269  -1.083 -11.460  1.00 94.38           O  \\nATOM   1377  N   ALA A 183      16.081  -2.673  -6.228  1.00 96.24           N  \\nATOM   1378  CA  ALA A 183      15.023  -2.745  -5.223  1.00 96.24           C  \\nATOM   1379  C   ALA A 183      15.606  -2.948  -3.827  1.00 96.24           C  \\nATOM   1380  CB  ALA A 183      14.047  -3.869  -5.558  1.00 96.24           C  \\nATOM   1381  O   ALA A 183      15.207  -2.271  -2.877  1.00 96.24           O  \\nATOM   1382  N   GLN A 184      16.526  -3.849  -3.692  1.00 97.80           N  \\nATOM   1383  CA  GLN A 184      17.155  -4.133  -2.407  1.00 97.80           C  \\nATOM   1384  C   GLN A 184      17.874  -2.902  -1.862  1.00 97.80           C  \\nATOM   1385  CB  GLN A 184      18.136  -5.300  -2.535  1.00 97.80           C  \\nATOM   1386  O   GLN A 184      17.785  -2.602  -0.670  1.00 97.80           O  \\nATOM   1387  CG  GLN A 184      18.913  -5.593  -1.259  1.00 97.80           C  \\nATOM   1388  CD  GLN A 184      18.011  -5.937  -0.088  1.00 97.80           C  \\nATOM   1389  NE2 GLN A 184      18.431  -5.560   1.115  1.00 97.80           N  \\nATOM   1390  OE1 GLN A 184      16.945  -6.535  -0.264  1.00 97.80           O  \\nATOM   1391  N   GLU A 185      18.596  -2.173  -2.729  1.00 97.20           N  \\nATOM   1392  CA  GLU A 185      19.331  -0.984  -2.309  1.00 97.20           C  \\nATOM   1393  C   GLU A 185      18.397   0.056  -1.698  1.00 97.20           C  \\nATOM   1394  CB  GLU A 185      20.094  -0.377  -3.490  1.00 97.20           C  \\nATOM   1395  O   GLU A 185      18.684   0.607  -0.633  1.00 97.20           O  \\nATOM   1396  CG  GLU A 185      21.301  -1.195  -3.927  1.00 97.20           C  \\nATOM   1397  CD  GLU A 185      21.932  -0.689  -5.215  1.00 97.20           C  \\nATOM   1398  OE1 GLU A 185      22.857  -1.352  -5.738  1.00 97.20           O  \\nATOM   1399  OE2 GLU A 185      21.500   0.378  -5.704  1.00 97.20           O  \\nATOM   1400  N   ALA A 186      17.297   0.313  -2.333  1.00 97.20           N  \\nATOM   1401  CA  ALA A 186      16.339   1.289  -1.822  1.00 97.20           C  \\nATOM   1402  C   ALA A 186      15.709   0.809  -0.518  1.00 97.20           C  \\nATOM   1403  CB  ALA A 186      15.256   1.566  -2.862  1.00 97.20           C  \\nATOM   1404  O   ALA A 186      15.584   1.578   0.439  1.00 97.20           O  \\nATOM   1405  N   HIS A 187      15.376  -0.444  -0.440  1.00 98.46           N  \\nATOM   1406  CA  HIS A 187      14.762  -1.018   0.751  1.00 98.46           C  \\nATOM   1407  C   HIS A 187      15.731  -1.011   1.929  1.00 98.46           C  \\nATOM   1408  CB  HIS A 187      14.283  -2.445   0.474  1.00 98.46           C  \\nATOM   1409  O   HIS A 187      15.345  -0.687   3.054  1.00 98.46           O  \\nATOM   1410  CG  HIS A 187      13.003  -2.509  -0.297  1.00 98.46           C  \\nATOM   1411  CD2 HIS A 187      12.636  -1.924  -1.461  1.00 98.46           C  \\nATOM   1412  ND1 HIS A 187      11.918  -3.246   0.124  1.00 98.46           N  \\nATOM   1413  CE1 HIS A 187      10.936  -3.112  -0.752  1.00 98.46           C  \\nATOM   1414  NE2 HIS A 187      11.346  -2.315  -1.723  1.00 98.46           N  \\nATOM   1415  N   ALA A 188      16.948  -1.350   1.630  1.00 98.26           N  \\nATOM   1416  CA  ALA A 188      17.967  -1.335   2.676  1.00 98.26           C  \\nATOM   1417  C   ALA A 188      18.197   0.080   3.198  1.00 98.26           C  \\nATOM   1418  CB  ALA A 188      19.275  -1.926   2.155  1.00 98.26           C  \\nATOM   1419  O   ALA A 188      18.407   0.280   4.397  1.00 98.26           O  \\nATOM   1420  N   LEU A 189      18.152   1.032   2.278  1.00 98.33           N  \\nATOM   1421  CA  LEU A 189      18.295   2.436   2.650  1.00 98.33           C  \\nATOM   1422  C   LEU A 189      17.176   2.865   3.593  1.00 98.33           C  \\nATOM   1423  CB  LEU A 189      18.296   3.323   1.403  1.00 98.33           C  \\nATOM   1424  O   LEU A 189      17.431   3.504   4.616  1.00 98.33           O  \\nATOM   1425  CG  LEU A 189      18.308   4.834   1.645  1.00 98.33           C  \\nATOM   1426  CD1 LEU A 189      19.629   5.258   2.278  1.00 98.33           C  \\nATOM   1427  CD2 LEU A 189      18.068   5.587   0.341  1.00 98.33           C  \\nATOM   1428  N   ILE A 190      15.982   2.492   3.298  1.00 98.53           N  \\nATOM   1429  CA  ILE A 190      14.821   2.811   4.121  1.00 98.53           C  \\nATOM   1430  C   ILE A 190      14.966   2.157   5.493  1.00 98.53           C  \\nATOM   1431  CB  ILE A 190      13.507   2.358   3.446  1.00 98.53           C  \\nATOM   1432  O   ILE A 190      14.804   2.816   6.523  1.00 98.53           O  \\nATOM   1433  CG1 ILE A 190      13.252   3.173   2.173  1.00 98.53           C  \\nATOM   1434  CG2 ILE A 190      12.331   2.479   4.419  1.00 98.53           C  \\nATOM   1435  CD1 ILE A 190      12.214   2.560   1.243  1.00 98.53           C  \\nATOM   1436  N   ARG A 191      15.238   0.906   5.508  1.00 98.54           N  \\nATOM   1437  CA  ARG A 191      15.356   0.167   6.761  1.00 98.54           C  \\nATOM   1438  C   ARG A 191      16.450   0.757   7.644  1.00 98.54           C  \\nATOM   1439  CB  ARG A 191      15.642  -1.312   6.489  1.00 98.54           C  \\nATOM   1440  O   ARG A 191      16.268   0.902   8.854  1.00 98.54           O  \\nATOM   1441  CG  ARG A 191      15.578  -2.190   7.728  1.00 98.54           C  \\nATOM   1442  CD  ARG A 191      15.678  -3.668   7.378  1.00 98.54           C  \\nATOM   1443  NE  ARG A 191      14.606  -4.082   6.476  1.00 98.54           N  \\nATOM   1444  NH1 ARG A 191      13.004  -4.267   8.131  1.00 98.54           N  \\nATOM   1445  NH2 ARG A 191      12.465  -4.725   5.950  1.00 98.54           N  \\nATOM   1446  CZ  ARG A 191      13.361  -4.357   6.855  1.00 98.54           C  \\nATOM   1447  N   SER A 192      17.617   1.088   7.016  1.00 98.46           N  \\nATOM   1448  CA  SER A 192      18.726   1.672   7.763  1.00 98.46           C  \\nATOM   1449  C   SER A 192      18.338   3.017   8.367  1.00 98.46           C  \\nATOM   1450  CB  SER A 192      19.950   1.842   6.862  1.00 98.46           C  \\nATOM   1451  O   SER A 192      18.662   3.302   9.522  1.00 98.46           O  \\nATOM   1452  OG  SER A 192      21.036   2.392   7.587  1.00 98.46           O  \\nATOM   1453  N   TRP A 193      17.697   3.776   7.634  1.00 98.62           N  \\nATOM   1454  CA  TRP A 193      17.268   5.082   8.126  1.00 98.62           C  \\nATOM   1455  C   TRP A 193      16.302   4.932   9.297  1.00 98.62           C  \\nATOM   1456  CB  TRP A 193      16.610   5.890   7.005  1.00 98.62           C  \\nATOM   1457  O   TRP A 193      16.439   5.616  10.314  1.00 98.62           O  \\nATOM   1458  CG  TRP A 193      16.305   7.310   7.376  1.00 98.62           C  \\nATOM   1459  CD1 TRP A 193      17.099   8.404   7.169  1.00 98.62           C  \\nATOM   1460  CD2 TRP A 193      15.122   7.789   8.023  1.00 98.62           C  \\nATOM   1461  CE2 TRP A 193      15.267   9.185   8.177  1.00 98.62           C  \\nATOM   1462  CE3 TRP A 193      13.953   7.172   8.487  1.00 98.62           C  \\nATOM   1463  NE1 TRP A 193      16.480   9.535   7.649  1.00 98.62           N  \\nATOM   1464  CH2 TRP A 193      13.149   9.347   9.223  1.00 98.62           C  \\nATOM   1465  CZ2 TRP A 193      14.283   9.976   8.778  1.00 98.62           C  \\nATOM   1466  CZ3 TRP A 193      12.976   7.960   9.084  1.00 98.62           C  \\nATOM   1467  N   VAL A 194      15.299   4.051   9.179  1.00 98.62           N  \\nATOM   1468  CA  VAL A 194      14.328   3.824  10.244  1.00 98.62           C  \\nATOM   1469  C   VAL A 194      15.039   3.301  11.490  1.00 98.62           C  \\nATOM   1470  CB  VAL A 194      13.224   2.835   9.806  1.00 98.62           C  \\nATOM   1471  O   VAL A 194      14.726   3.710  12.610  1.00 98.62           O  \\nATOM   1472  CG1 VAL A 194      12.352   2.437  10.995  1.00 98.62           C  \\nATOM   1473  CG2 VAL A 194      12.372   3.446   8.695  1.00 98.62           C  \\nATOM   1474  N   SER A 195      15.997   2.417  11.291  1.00 98.35           N  \\nATOM   1475  CA  SER A 195      16.780   1.906  12.411  1.00 98.35           C  \\nATOM   1476  C   SER A 195      17.490   3.034  13.150  1.00 98.35           C  \\nATOM   1477  CB  SER A 195      17.804   0.879  11.924  1.00 98.35           C  \\nATOM   1478  O   SER A 195      17.436   3.109  14.379  1.00 98.35           O  \\nATOM   1479  OG  SER A 195      18.533   0.342  13.014  1.00 98.35           O  \\nATOM   1480  N   SER A 196      18.053   3.963  12.439  1.00 98.37           N  \\nATOM   1481  CA  SER A 196      18.852   5.051  12.994  1.00 98.37           C  \\nATOM   1482  C   SER A 196      17.968   6.114  13.637  1.00 98.37           C  \\nATOM   1483  CB  SER A 196      19.721   5.686  11.908  1.00 98.37           C  \\nATOM   1484  O   SER A 196      18.291   6.634  14.707  1.00 98.37           O  \\nATOM   1485  OG  SER A 196      20.422   6.808  12.417  1.00 98.37           O  \\nATOM   1486  N   LYS A 197      16.847   6.413  13.025  1.00 98.29           N  \\nATOM   1487  CA  LYS A 197      16.067   7.579  13.428  1.00 98.29           C  \\nATOM   1488  C   LYS A 197      14.943   7.185  14.383  1.00 98.29           C  \\nATOM   1489  CB  LYS A 197      15.489   8.288  12.203  1.00 98.29           C  \\nATOM   1490  O   LYS A 197      14.494   8.000  15.191  1.00 98.29           O  \\nATOM   1491  CG  LYS A 197      16.542   8.870  11.271  1.00 98.29           C  \\nATOM   1492  CD  LYS A 197      17.384   9.929  11.970  1.00 98.29           C  \\nATOM   1493  CE  LYS A 197      18.436  10.514  11.038  1.00 98.29           C  \\nATOM   1494  NZ  LYS A 197      19.302  11.511  11.735  1.00 98.29           N  \\nATOM   1495  N   ILE A 198      14.494   5.991  14.257  1.00 98.20           N  \\nATOM   1496  CA  ILE A 198      13.322   5.624  15.045  1.00 98.20           C  \\nATOM   1497  C   ILE A 198      13.696   4.539  16.052  1.00 98.20           C  \\nATOM   1498  CB  ILE A 198      12.164   5.141  14.143  1.00 98.20           C  \\nATOM   1499  O   ILE A 198      13.389   4.655  17.241  1.00 98.20           O  \\nATOM   1500  CG1 ILE A 198      11.903   6.152  13.021  1.00 98.20           C  \\nATOM   1501  CG2 ILE A 198      10.898   4.903  14.971  1.00 98.20           C  \\nATOM   1502  CD1 ILE A 198      11.550   7.548  13.515  1.00 98.20           C  \\nATOM   1503  N   GLY A 199      14.443   3.526  15.631  1.00 98.32           N  \\nATOM   1504  CA  GLY A 199      14.866   2.433  16.491  1.00 98.32           C  \\nATOM   1505  C   GLY A 199      15.037   1.121  15.748  1.00 98.32           C  \\nATOM   1506  O   GLY A 199      14.249   0.799  14.857  1.00 98.32           O  \\nATOM   1507  N   ALA A 200      15.994   0.343  16.193  1.00 97.86           N  \\nATOM   1508  CA  ALA A 200      16.336  -0.932  15.567  1.00 97.86           C  \\nATOM   1509  C   ALA A 200      15.167  -1.910  15.640  1.00 97.86           C  \\nATOM   1510  CB  ALA A 200      17.572  -1.535  16.229  1.00 97.86           C  \\nATOM   1511  O   ALA A 200      14.937  -2.683  14.706  1.00 97.86           O  \\nATOM   1512  N   ASP A 201      14.463  -1.878  16.749  1.00 97.37           N  \\nATOM   1513  CA  ASP A 201      13.324  -2.776  16.912  1.00 97.37           C  \\nATOM   1514  C   ASP A 201      12.225  -2.457  15.900  1.00 97.37           C  \\nATOM   1515  CB  ASP A 201      12.770  -2.688  18.335  1.00 97.37           C  \\nATOM   1516  O   ASP A 201      11.650  -3.364  15.294  1.00 97.37           O  \\nATOM   1517  CG  ASP A 201      12.376  -1.277  18.732  1.00 97.37           C  \\nATOM   1518  OD1 ASP A 201      13.130  -0.326  18.433  1.00 97.37           O  \\nATOM   1519  OD2 ASP A 201      11.303  -1.114  19.353  1.00 97.37           O  \\nATOM   1520  N   VAL A 202      11.962  -1.151  15.668  1.00 98.15           N  \\nATOM   1521  CA  VAL A 202      10.962  -0.720  14.697  1.00 98.15           C  \\nATOM   1522  C   VAL A 202      11.392  -1.136  13.293  1.00 98.15           C  \\nATOM   1523  CB  VAL A 202      10.737   0.808  14.755  1.00 98.15           C  \\nATOM   1524  O   VAL A 202      10.591  -1.676  12.526  1.00 98.15           O  \\nATOM   1525  CG1 VAL A 202       9.829   1.263  13.615  1.00 98.15           C  \\nATOM   1526  CG2 VAL A 202      10.147   1.209  16.106  1.00 98.15           C  \\nATOM   1527  N   ALA A 203      12.634  -0.893  12.969  1.00 98.17           N  \\nATOM   1528  CA  ALA A 203      13.170  -1.240  11.655  1.00 98.17           C  \\nATOM   1529  C   ALA A 203      13.047  -2.738  11.391  1.00 98.17           C  \\nATOM   1530  CB  ALA A 203      14.628  -0.801  11.542  1.00 98.17           C  \\nATOM   1531  O   ALA A 203      12.706  -3.153  10.280  1.00 98.17           O  \\nATOM   1532  N   GLY A 204      13.319  -3.558  12.386  1.00 97.69           N  \\nATOM   1533  CA  GLY A 204      13.275  -5.006  12.253  1.00 97.69           C  \\nATOM   1534  C   GLY A 204      11.880  -5.539  11.987  1.00 97.69           C  \\nATOM   1535  O   GLY A 204      11.721  -6.610  11.398  1.00 97.69           O  \\nATOM   1536  N   GLU A 205      10.821  -4.767  12.369  1.00 97.76           N  \\nATOM   1537  CA  GLU A 205       9.440  -5.227  12.248  1.00 97.76           C  \\nATOM   1538  C   GLU A 205       8.728  -4.536  11.088  1.00 97.76           C  \\nATOM   1539  CB  GLU A 205       8.676  -4.985  13.553  1.00 97.76           C  \\nATOM   1540  O   GLU A 205       7.633  -4.942  10.694  1.00 97.76           O  \\nATOM   1541  CG  GLU A 205       9.149  -5.852  14.711  1.00 97.76           C  \\nATOM   1542  CD  GLU A 205       8.351  -5.634  15.987  1.00 97.76           C  \\nATOM   1543  OE1 GLU A 205       8.585  -6.360  16.980  1.00 97.76           O  \\nATOM   1544  OE2 GLU A 205       7.486  -4.731  15.994  1.00 97.76           O  \\nATOM   1545  N   LEU A 206       9.309  -3.474  10.594  1.00 98.44           N  \\nATOM   1546  CA  LEU A 206       8.679  -2.685   9.541  1.00 98.44           C  \\nATOM   1547  C   LEU A 206       8.580  -3.487   8.247  1.00 98.44           C  \\nATOM   1548  CB  LEU A 206       9.464  -1.394   9.296  1.00 98.44           C  \\nATOM   1549  O   LEU A 206       9.572  -4.055   7.787  1.00 98.44           O  \\nATOM   1550  CG  LEU A 206       8.907  -0.455   8.225  1.00 98.44           C  \\nATOM   1551  CD1 LEU A 206       7.552   0.097   8.656  1.00 98.44           C  \\nATOM   1552  CD2 LEU A 206       9.887   0.679   7.945  1.00 98.44           C  \\nATOM   1553  N   ARG A 207       7.407  -3.572   7.761  1.00 98.67           N  \\nATOM   1554  CA  ARG A 207       7.212  -4.176   6.447  1.00 98.67           C  \\nATOM   1555  C   ARG A 207       7.407  -3.149   5.337  1.00 98.67           C  \\nATOM   1556  CB  ARG A 207       5.819  -4.801   6.343  1.00 98.67           C  \\nATOM   1557  O   ARG A 207       6.780  -2.087   5.350  1.00 98.67           O  \\nATOM   1558  CG  ARG A 207       5.585  -5.949   7.313  1.00 98.67           C  \\nATOM   1559  CD  ARG A 207       4.117  -6.347   7.372  1.00 98.67           C  \\nATOM   1560  NE  ARG A 207       3.315  -5.346   8.071  1.00 98.67           N  \\nATOM   1561  NH1 ARG A 207       1.279  -6.264   7.479  1.00 98.67           N  \\nATOM   1562  NH2 ARG A 207       1.357  -4.373   8.772  1.00 98.67           N  \\nATOM   1563  CZ  ARG A 207       1.985  -5.330   8.106  1.00 98.67           C  \\nATOM   1564  N   ILE A 208       8.354  -3.429   4.391  1.00 98.78           N  \\nATOM   1565  CA  ILE A 208       8.643  -2.559   3.256  1.00 98.78           C  \\nATOM   1566  C   ILE A 208       8.289  -3.275   1.955  1.00 98.78           C  \\nATOM   1567  CB  ILE A 208      10.125  -2.123   3.241  1.00 98.78           C  \\nATOM   1568  O   ILE A 208       8.879  -4.306   1.625  1.00 98.78           O  \\nATOM   1569  CG1 ILE A 208      10.535  -1.578   4.614  1.00 98.78           C  \\nATOM   1570  CG2 ILE A 208      10.371  -1.084   2.144  1.00 98.78           C  \\nATOM   1571  CD1 ILE A 208      12.026  -1.299   4.750  1.00 98.78           C  \\nATOM   1572  N   LEU A 209       7.299  -2.705   1.282  1.00 98.82           N  \\nATOM   1573  CA  LEU A 209       6.808  -3.312   0.049  1.00 98.82           C  \\nATOM   1574  C   LEU A 209       7.488  -2.694  -1.169  1.00 98.82           C  \\nATOM   1575  CB  LEU A 209       5.290  -3.149  -0.061  1.00 98.82           C  \\nATOM   1576  O   LEU A 209       7.827  -1.508  -1.161  1.00 98.82           O  \\nATOM   1577  CG  LEU A 209       4.476  -3.522   1.179  1.00 98.82           C  \\nATOM   1578  CD1 LEU A 209       2.989  -3.307   0.921  1.00 98.82           C  \\nATOM   1579  CD2 LEU A 209       4.751  -4.966   1.584  1.00 98.82           C  \\nATOM   1580  N   TYR A 210       7.715  -3.538  -2.090  1.00 98.33           N  \\nATOM   1581  CA  TYR A 210       8.119  -3.034  -3.398  1.00 98.33           C  \\nATOM   1582  C   TYR A 210       6.902  -2.709  -4.256  1.00 98.33           C  \\nATOM   1583  CB  TYR A 210       9.007  -4.054  -4.117  1.00 98.33           C  \\nATOM   1584  O   TYR A 210       6.040  -3.564  -4.473  1.00 98.33           O  \\nATOM   1585  CG  TYR A 210       9.481  -3.596  -5.474  1.00 98.33           C  \\nATOM   1586  CD1 TYR A 210       8.964  -4.157  -6.640  1.00 98.33           C  \\nATOM   1587  CD2 TYR A 210      10.447  -2.603  -5.595  1.00 98.33           C  \\nATOM   1588  CE1 TYR A 210       9.399  -3.740  -7.894  1.00 98.33           C  \\nATOM   1589  CE2 TYR A 210      10.890  -2.178  -6.843  1.00 98.33           C  \\nATOM   1590  OH  TYR A 210      10.795  -2.334  -9.223  1.00 98.33           O  \\nATOM   1591  CZ  TYR A 210      10.360  -2.751  -7.985  1.00 98.33           C  \\nATOM   1592  N   GLY A 211       6.805  -1.475  -4.763  1.00 96.58           N  \\nATOM   1593  CA  GLY A 211       5.637  -1.019  -5.500  1.00 96.58           C  \\nATOM   1594  C   GLY A 211       5.920  -0.762  -6.968  1.00 96.58           C  \\nATOM   1595  O   GLY A 211       5.149  -0.078  -7.644  1.00 96.58           O  \\nATOM   1596  N   GLY A 212       7.088  -1.227  -7.551  1.00 93.08           N  \\nATOM   1597  CA  GLY A 212       7.380  -1.128  -8.972  1.00 93.08           C  \\nATOM   1598  C   GLY A 212       6.706  -2.208  -9.797  1.00 93.08           C  \\nATOM   1599  O   GLY A 212       5.737  -2.824  -9.349  1.00 93.08           O  \\nATOM   1600  N   SER A 213       7.163  -2.373 -11.114  1.00 92.59           N  \\nATOM   1601  CA  SER A 213       6.602  -3.350 -12.042  1.00 92.59           C  \\nATOM   1602  C   SER A 213       6.828  -4.775 -11.548  1.00 92.59           C  \\nATOM   1603  CB  SER A 213       7.215  -3.181 -13.433  1.00 92.59           C  \\nATOM   1604  O   SER A 213       7.953  -5.278 -11.579  1.00 92.59           O  \\nATOM   1605  OG  SER A 213       6.583  -4.037 -14.368  1.00 92.59           O  \\nATOM   1606  N   VAL A 214       5.772  -5.382 -10.907  1.00 94.62           N  \\nATOM   1607  CA  VAL A 214       5.813  -6.752 -10.404  1.00 94.62           C  \\nATOM   1608  C   VAL A 214       4.845  -7.624 -11.201  1.00 94.62           C  \\nATOM   1609  CB  VAL A 214       5.471  -6.814  -8.899  1.00 94.62           C  \\nATOM   1610  O   VAL A 214       3.709  -7.222 -11.463  1.00 94.62           O  \\nATOM   1611  CG1 VAL A 214       5.497  -8.257  -8.399  1.00 94.62           C  \\nATOM   1612  CG2 VAL A 214       6.440  -5.949  -8.096  1.00 94.62           C  \\nATOM   1613  N   ASN A 215       5.318  -8.770 -11.590  1.00 95.17           N  \\nATOM   1614  CA  ASN A 215       4.474  -9.782 -12.218  1.00 95.17           C  \\nATOM   1615  C   ASN A 215       4.896 -11.192 -11.815  1.00 95.17           C  \\nATOM   1616  CB  ASN A 215       4.502  -9.634 -13.740  1.00 95.17           C  \\nATOM   1617  O   ASN A 215       5.775 -11.364 -10.968  1.00 95.17           O  \\nATOM   1618  CG  ASN A 215       5.894  -9.795 -14.318  1.00 95.17           C  \\nATOM   1619  ND2 ASN A 215       6.231  -8.962 -15.295  1.00 95.17           N  \\nATOM   1620  OD1 ASN A 215       6.661 -10.662 -13.890  1.00 95.17           O  \\nATOM   1621  N   GLY A 216       4.163 -12.195 -12.279  1.00 94.37           N  \\nATOM   1622  CA  GLY A 216       4.406 -13.579 -11.907  1.00 94.37           C  \\nATOM   1623  C   GLY A 216       5.815 -14.044 -12.227  1.00 94.37           C  \\nATOM   1624  O   GLY A 216       6.342 -14.942 -11.568  1.00 94.37           O  \\nATOM   1625  N   LYS A 217       6.494 -13.375 -13.133  1.00 94.94           N  \\nATOM   1626  CA  LYS A 217       7.799 -13.833 -13.602  1.00 94.94           C  \\nATOM   1627  C   LYS A 217       8.921 -13.285 -12.725  1.00 94.94           C  \\nATOM   1628  CB  LYS A 217       8.022 -13.420 -15.057  1.00 94.94           C  \\nATOM   1629  O   LYS A 217       9.981 -13.903 -12.605  1.00 94.94           O  \\nATOM   1630  CG  LYS A 217       7.053 -14.063 -16.039  1.00 94.94           C  \\nATOM   1631  CD  LYS A 217       7.297 -13.580 -17.463  1.00 94.94           C  \\nATOM   1632  CE  LYS A 217       6.279 -14.163 -18.433  1.00 94.94           C  \\nATOM   1633  NZ  LYS A 217       6.487 -13.658 -19.824  1.00 94.94           N  \\nATOM   1634  N   ASN A 218       8.692 -12.114 -12.126  1.00 96.04           N  \\nATOM   1635  CA  ASN A 218       9.812 -11.506 -11.415  1.00 96.04           C  \\nATOM   1636  C   ASN A 218       9.551 -11.435  -9.913  1.00 96.04           C  \\nATOM   1637  CB  ASN A 218      10.107 -10.111 -11.970  1.00 96.04           C  \\nATOM   1638  O   ASN A 218      10.442 -11.077  -9.141  1.00 96.04           O  \\nATOM   1639  CG  ASN A 218       8.963  -9.141 -11.748  1.00 96.04           C  \\nATOM   1640  ND2 ASN A 218       9.041  -7.977 -12.382  1.00 96.04           N  \\nATOM   1641  OD1 ASN A 218       8.017  -9.435 -11.013  1.00 96.04           O  \\nATOM   1642  N   ALA A 219       8.370 -11.776  -9.461  1.00 97.55           N  \\nATOM   1643  CA  ALA A 219       7.965 -11.603  -8.069  1.00 97.55           C  \\nATOM   1644  C   ALA A 219       8.856 -12.415  -7.133  1.00 97.55           C  \\nATOM   1645  CB  ALA A 219       6.503 -12.005  -7.887  1.00 97.55           C  \\nATOM   1646  O   ALA A 219       9.275 -11.922  -6.083  1.00 97.55           O  \\nATOM   1647  N   ARG A 220       9.237 -13.634  -7.545  1.00 97.47           N  \\nATOM   1648  CA  ARG A 220      10.041 -14.504  -6.694  1.00 97.47           C  \\nATOM   1649  C   ARG A 220      11.443 -13.937  -6.499  1.00 97.47           C  \\nATOM   1650  CB  ARG A 220      10.123 -15.912  -7.288  1.00 97.47           C  \\nATOM   1651  O   ARG A 220      11.939 -13.867  -5.373  1.00 97.47           O  \\nATOM   1652  CG  ARG A 220      10.961 -16.879  -6.468  1.00 97.47           C  \\nATOM   1653  CD  ARG A 220      10.281 -17.241  -5.155  1.00 97.47           C  \\nATOM   1654  NE  ARG A 220      10.871 -18.434  -4.553  1.00 97.47           N  \\nATOM   1655  NH1 ARG A 220       9.316 -18.597  -2.852  1.00 97.47           N  \\nATOM   1656  NH2 ARG A 220      11.014 -20.129  -3.011  1.00 97.47           N  \\nATOM   1657  CZ  ARG A 220      10.399 -19.051  -3.473  1.00 97.47           C  \\nATOM   1658  N   THR A 221      12.056 -13.527  -7.548  1.00 97.64           N  \\nATOM   1659  CA  THR A 221      13.412 -12.996  -7.453  1.00 97.64           C  \\nATOM   1660  C   THR A 221      13.430 -11.701  -6.646  1.00 97.64           C  \\nATOM   1661  CB  THR A 221      14.011 -12.742  -8.849  1.00 97.64           C  \\nATOM   1662  O   THR A 221      14.350 -11.467  -5.860  1.00 97.64           O  \\nATOM   1663  CG2 THR A 221      14.209 -14.050  -9.608  1.00 97.64           C  \\nATOM   1664  OG1 THR A 221      13.126 -11.898  -9.596  1.00 97.64           O  \\nATOM   1665  N   LEU A 222      12.428 -10.893  -6.805  1.00 97.68           N  \\nATOM   1666  CA  LEU A 222      12.336  -9.668  -6.019  1.00 97.68           C  \\nATOM   1667  C   LEU A 222      12.162  -9.984  -4.537  1.00 97.68           C  \\nATOM   1668  CB  LEU A 222      11.171  -8.804  -6.508  1.00 97.68           C  \\nATOM   1669  O   LEU A 222      12.803  -9.362  -3.686  1.00 97.68           O  \\nATOM   1670  CG  LEU A 222      11.383  -8.064  -7.830  1.00 97.68           C  \\nATOM   1671  CD1 LEU A 222      10.048  -7.587  -8.391  1.00 97.68           C  \\nATOM   1672  CD2 LEU A 222      12.338  -6.890  -7.638  1.00 97.68           C  \\nATOM   1673  N   TYR A 223      11.337 -10.973  -4.268  1.00 97.58           N  \\nATOM   1674  CA  TYR A 223      11.036 -11.303  -2.879  1.00 97.58           C  \\nATOM   1675  C   TYR A 223      12.251 -11.906  -2.186  1.00 97.58           C  \\nATOM   1676  CB  TYR A 223       9.855 -12.275  -2.802  1.00 97.58           C  \\nATOM   1677  O   TYR A 223      12.366 -11.849  -0.960  1.00 97.58           O  \\nATOM   1678  CG  TYR A 223       9.434 -12.608  -1.391  1.00 97.58           C  \\nATOM   1679  CD1 TYR A 223       9.539 -13.908  -0.901  1.00 97.58           C  \\nATOM   1680  CD2 TYR A 223       8.931 -11.625  -0.546  1.00 97.58           C  \\nATOM   1681  CE1 TYR A 223       9.151 -14.220   0.398  1.00 97.58           C  \\nATOM   1682  CE2 TYR A 223       8.541 -11.926   0.755  1.00 97.58           C  \\nATOM   1683  OH  TYR A 223       8.269 -13.528   2.504  1.00 97.58           O  \\nATOM   1684  CZ  TYR A 223       8.655 -13.224   1.217  1.00 97.58           C  \\nATOM   1685  N   GLN A 224      13.169 -12.454  -2.902  1.00 97.08           N  \\nATOM   1686  CA  GLN A 224      14.353 -13.084  -2.328  1.00 97.08           C  \\nATOM   1687  C   GLN A 224      15.302 -12.042  -1.743  1.00 97.08           C  \\nATOM   1688  CB  GLN A 224      15.079 -13.923  -3.381  1.00 97.08           C  \\nATOM   1689  O   GLN A 224      16.196 -12.378  -0.964  1.00 97.08           O  \\nATOM   1690  CG  GLN A 224      14.351 -15.209  -3.752  1.00 97.08           C  \\nATOM   1691  CD  GLN A 224      15.019 -15.953  -4.893  1.00 97.08           C  \\nATOM   1692  NE2 GLN A 224      14.822 -17.266  -4.940  1.00 97.08           N  \\nATOM   1693  OE1 GLN A 224      15.705 -15.353  -5.726  1.00 97.08           O  \\nATOM   1694  N   GLN A 225      15.058 -10.804  -2.103  1.00 97.74           N  \\nATOM   1695  CA  GLN A 225      15.886  -9.756  -1.515  1.00 97.74           C  \\nATOM   1696  C   GLN A 225      15.578  -9.580  -0.031  1.00 97.74           C  \\nATOM   1697  CB  GLN A 225      15.684  -8.433  -2.254  1.00 97.74           C  \\nATOM   1698  O   GLN A 225      14.418  -9.657   0.381  1.00 97.74           O  \\nATOM   1699  CG  GLN A 225      15.990  -8.508  -3.744  1.00 97.74           C  \\nATOM   1700  CD  GLN A 225      17.385  -9.029  -4.031  1.00 97.74           C  \\nATOM   1701  NE2 GLN A 225      17.475 -10.053  -4.873  1.00 97.74           N  \\nATOM   1702  OE1 GLN A 225      18.375  -8.514  -3.501  1.00 97.74           O  \\nATOM   1703  N   ARG A 226      16.583  -9.374   0.746  1.00 97.00           N  \\nATOM   1704  CA  ARG A 226      16.579  -9.409   2.205  1.00 97.00           C  \\nATOM   1705  C   ARG A 226      15.526  -8.464   2.773  1.00 97.00           C  \\nATOM   1706  CB  ARG A 226      17.960  -9.048   2.756  1.00 97.00           C  \\nATOM   1707  O   ARG A 226      14.814  -8.813   3.717  1.00 97.00           O  \\nATOM   1708  CG  ARG A 226      18.045  -9.078   4.273  1.00 97.00           C  \\nATOM   1709  CD  ARG A 226      19.443  -8.732   4.767  1.00 97.00           C  \\nATOM   1710  NE  ARG A 226      19.500  -8.669   6.224  1.00 97.00           N  \\nATOM   1711  NH1 ARG A 226      21.765  -8.225   6.323  1.00 97.00           N  \\nATOM   1712  NH2 ARG A 226      20.540  -8.396   8.253  1.00 97.00           N  \\nATOM   1713  CZ  ARG A 226      20.601  -8.430   6.930  1.00 97.00           C  \\nATOM   1714  N   ASP A 227      15.372  -7.244   2.209  1.00 97.95           N  \\nATOM   1715  CA  ASP A 227      14.580  -6.206   2.861  1.00 97.95           C  \\nATOM   1716  C   ASP A 227      13.238  -6.016   2.158  1.00 97.95           C  \\nATOM   1717  CB  ASP A 227      15.349  -4.884   2.892  1.00 97.95           C  \\nATOM   1718  O   ASP A 227      12.456  -5.139   2.529  1.00 97.95           O  \\nATOM   1719  CG  ASP A 227      16.555  -4.920   3.815  1.00 97.95           C  \\nATOM   1720  OD1 ASP A 227      16.376  -4.959   5.051  1.00 97.95           O  \\nATOM   1721  OD2 ASP A 227      17.694  -4.907   3.301  1.00 97.95           O  \\nATOM   1722  N   VAL A 228      12.965  -6.877   1.172  1.00 98.25           N  \\nATOM   1723  CA  VAL A 228      11.667  -6.821   0.507  1.00 98.25           C  \\nATOM   1724  C   VAL A 228      10.672  -7.720   1.238  1.00 98.25           C  \\nATOM   1725  CB  VAL A 228      11.771  -7.238  -0.977  1.00 98.25           C  \\nATOM   1726  O   VAL A 228      10.859  -8.937   1.305  1.00 98.25           O  \\nATOM   1727  CG1 VAL A 228      10.392  -7.243  -1.635  1.00 98.25           C  \\nATOM   1728  CG2 VAL A 228      12.721  -6.306  -1.727  1.00 98.25           C  \\nATOM   1729  N   ASN A 229       9.574  -7.070   1.756  1.00 98.43           N  \\nATOM   1730  CA  ASN A 229       8.599  -7.796   2.563  1.00 98.43           C  \\nATOM   1731  C   ASN A 229       7.258  -7.920   1.845  1.00 98.43           C  \\nATOM   1732  CB  ASN A 229       8.413  -7.117   3.921  1.00 98.43           C  \\nATOM   1733  O   ASN A 229       6.212  -8.025   2.488  1.00 98.43           O  \\nATOM   1734  CG  ASN A 229       9.713  -6.984   4.690  1.00 98.43           C  \\nATOM   1735  ND2 ASN A 229      10.365  -8.110   4.952  1.00 98.43           N  \\nATOM   1736  OD1 ASN A 229      10.127  -5.878   5.046  1.00 98.43           O  \\nATOM   1737  N   GLY A 230       7.229  -7.884   0.534  1.00 98.39           N  \\nATOM   1738  CA  GLY A 230       6.023  -8.057  -0.259  1.00 98.39           C  \\nATOM   1739  C   GLY A 230       5.872  -7.014  -1.351  1.00 98.39           C  \\nATOM   1740  O   GLY A 230       6.854  -6.398  -1.769  1.00 98.39           O  \\nATOM   1741  N   PHE A 231       4.560  -6.858  -1.778  1.00 98.64           N  \\nATOM   1742  CA  PHE A 231       4.381  -6.075  -2.996  1.00 98.64           C  \\nATOM   1743  C   PHE A 231       3.111  -5.236  -2.918  1.00 98.64           C  \\nATOM   1744  CB  PHE A 231       4.331  -6.991  -4.222  1.00 98.64           C  \\nATOM   1745  O   PHE A 231       2.129  -5.643  -2.294  1.00 98.64           O  \\nATOM   1746  CG  PHE A 231       5.486  -7.952  -4.310  1.00 98.64           C  \\nATOM   1747  CD1 PHE A 231       6.764  -7.499  -4.611  1.00 98.64           C  \\nATOM   1748  CD2 PHE A 231       5.292  -9.310  -4.092  1.00 98.64           C  \\nATOM   1749  CE1 PHE A 231       7.835  -8.386  -4.692  1.00 98.64           C  \\nATOM   1750  CE2 PHE A 231       6.358 -10.203  -4.172  1.00 98.64           C  \\nATOM   1751  CZ  PHE A 231       7.628  -9.739  -4.473  1.00 98.64           C  \\nATOM   1752  N   LEU A 232       3.166  -4.013  -3.417  1.00 98.61           N  \\nATOM   1753  CA  LEU A 232       2.006  -3.236  -3.838  1.00 98.61           C  \\nATOM   1754  C   LEU A 232       1.848  -3.273  -5.354  1.00 98.61           C  \\nATOM   1755  CB  LEU A 232       2.130  -1.786  -3.362  1.00 98.61           C  \\nATOM   1756  O   LEU A 232       2.629  -2.654  -6.080  1.00 98.61           O  \\nATOM   1757  CG  LEU A 232       0.956  -0.862  -3.689  1.00 98.61           C  \\nATOM   1758  CD1 LEU A 232      -0.291  -1.301  -2.929  1.00 98.61           C  \\nATOM   1759  CD2 LEU A 232       1.307   0.585  -3.359  1.00 98.61           C  \\nATOM   1760  N   VAL A 233       0.812  -4.031  -5.865  1.00 98.00           N  \\nATOM   1761  CA  VAL A 233       0.728  -4.408  -7.272  1.00 98.00           C  \\nATOM   1762  C   VAL A 233      -0.479  -3.730  -7.918  1.00 98.00           C  \\nATOM   1763  CB  VAL A 233       0.635  -5.940  -7.445  1.00 98.00           C  \\nATOM   1764  O   VAL A 233      -1.590  -3.792  -7.387  1.00 98.00           O  \\nATOM   1765  CG1 VAL A 233       0.666  -6.320  -8.925  1.00 98.00           C  \\nATOM   1766  CG2 VAL A 233       1.768  -6.632  -6.689  1.00 98.00           C  \\nATOM   1767  N   GLY A 234      -0.314  -3.037  -9.026  1.00 96.12           N  \\nATOM   1768  CA  GLY A 234      -1.383  -2.394  -9.773  1.00 96.12           C  \\nATOM   1769  C   GLY A 234      -1.929  -3.256 -10.896  1.00 96.12           C  \\nATOM   1770  O   GLY A 234      -2.792  -4.106 -10.670  1.00 96.12           O  \\nATOM   1771  N   GLY A 235      -1.437  -3.193 -12.100  1.00 94.81           N  \\nATOM   1772  CA  GLY A 235      -1.934  -3.829 -13.310  1.00 94.81           C  \\nATOM   1773  C   GLY A 235      -2.050  -5.336 -13.187  1.00 94.81           C  \\nATOM   1774  O   GLY A 235      -3.087  -5.913 -13.522  1.00 94.81           O  \\nATOM   1775  N   ALA A 236      -0.981  -5.987 -12.678  1.00 96.52           N  \\nATOM   1776  CA  ALA A 236      -0.957  -7.445 -12.586  1.00 96.52           C  \\nATOM   1777  C   ALA A 236      -1.974  -7.947 -11.566  1.00 96.52           C  \\nATOM   1778  CB  ALA A 236       0.444  -7.931 -12.220  1.00 96.52           C  \\nATOM   1779  O   ALA A 236      -2.411  -9.099 -11.631  1.00 96.52           O  \\nATOM   1780  N   SER A 237      -2.368  -6.985 -10.682  1.00 97.81           N  \\nATOM   1781  CA  SER A 237      -3.300  -7.390  -9.634  1.00 97.81           C  \\nATOM   1782  C   SER A 237      -4.724  -7.492 -10.171  1.00 97.81           C  \\nATOM   1783  CB  SER A 237      -3.256  -6.404  -8.466  1.00 97.81           C  \\nATOM   1784  O   SER A 237      -5.623  -7.966  -9.473  1.00 97.81           O  \\nATOM   1785  OG  SER A 237      -3.867  -5.176  -8.821  1.00 97.81           O  \\nATOM   1786  N   LEU A 238      -4.978  -7.094 -11.413  1.00 97.76           N  \\nATOM   1787  CA  LEU A 238      -6.288  -7.168 -12.050  1.00 97.76           C  \\nATOM   1788  C   LEU A 238      -6.427  -8.452 -12.861  1.00 97.76           C  \\nATOM   1789  CB  LEU A 238      -6.514  -5.953 -12.954  1.00 97.76           C  \\nATOM   1790  O   LEU A 238      -7.411  -8.633 -13.581  1.00 97.76           O  \\nATOM   1791  CG  LEU A 238      -6.774  -4.621 -12.248  1.00 97.76           C  \\nATOM   1792  CD1 LEU A 238      -6.471  -3.457 -13.185  1.00 97.76           C  \\nATOM   1793  CD2 LEU A 238      -8.213  -4.552 -11.748  1.00 97.76           C  \\nATOM   1794  N   LYS A 239      -5.442  -9.260 -12.784  1.00 97.64           N  \\nATOM   1795  CA  LYS A 239      -5.391 -10.512 -13.532  1.00 97.64           C  \\nATOM   1796  C   LYS A 239      -5.172 -11.701 -12.600  1.00 97.64           C  \\nATOM   1797  CB  LYS A 239      -4.286 -10.463 -14.589  1.00 97.64           C  \\nATOM   1798  O   LYS A 239      -4.718 -11.531 -11.467  1.00 97.64           O  \\nATOM   1799  CG  LYS A 239      -4.411  -9.299 -15.561  1.00 97.64           C  \\nATOM   1800  CD  LYS A 239      -3.209  -9.220 -16.494  1.00 97.64           C  \\nATOM   1801  CE  LYS A 239      -3.301  -8.017 -17.423  1.00 97.64           C  \\nATOM   1802  NZ  LYS A 239      -2.098  -7.903 -18.302  1.00 97.64           N  \\nATOM   1803  N   PRO A 240      -5.506 -12.963 -13.151  1.00 97.93           N  \\nATOM   1804  CA  PRO A 240      -5.293 -14.169 -12.347  1.00 97.93           C  \\nATOM   1805  C   PRO A 240      -3.845 -14.321 -11.885  1.00 97.93           C  \\nATOM   1806  CB  PRO A 240      -5.685 -15.302 -13.299  1.00 97.93           C  \\nATOM   1807  O   PRO A 240      -3.583 -14.967 -10.867  1.00 97.93           O  \\nATOM   1808  CG  PRO A 240      -6.718 -14.704 -14.199  1.00 97.93           C  \\nATOM   1809  CD  PRO A 240      -6.325 -13.286 -14.500  1.00 97.93           C  \\nATOM   1810  N   GLU A 241      -2.984 -13.723 -12.615  1.00 97.41           N  \\nATOM   1811  CA  GLU A 241      -1.561 -13.851 -12.314  1.00 97.41           C  \\nATOM   1812  C   GLU A 241      -1.240 -13.311 -10.923  1.00 97.41           C  \\nATOM   1813  CB  GLU A 241      -0.721 -13.123 -13.367  1.00 97.41           C  \\nATOM   1814  O   GLU A 241      -0.183 -13.610 -10.364  1.00 97.41           O  \\nATOM   1815  CG  GLU A 241      -0.854 -11.608 -13.320  1.00 97.41           C  \\nATOM   1816  CD  GLU A 241       0.016 -10.897 -14.345  1.00 97.41           C  \\nATOM   1817  OE1 GLU A 241      -0.221  -9.698 -14.616  1.00 97.41           O  \\nATOM   1818  OE2 GLU A 241       0.943 -11.545 -14.881  1.00 97.41           O  \\nATOM   1819  N   PHE A 242      -2.010 -12.454 -10.284  1.00 98.35           N  \\nATOM   1820  CA  PHE A 242      -1.791 -11.955  -8.931  1.00 98.35           C  \\nATOM   1821  C   PHE A 242      -1.644 -13.108  -7.946  1.00 98.35           C  \\nATOM   1822  CB  PHE A 242      -2.943 -11.041  -8.501  1.00 98.35           C  \\nATOM   1823  O   PHE A 242      -0.903 -13.004  -6.966  1.00 98.35           O  \\nATOM   1824  CG  PHE A 242      -2.699 -10.330  -7.197  1.00 98.35           C  \\nATOM   1825  CD1 PHE A 242      -3.563 -10.503  -6.123  1.00 98.35           C  \\nATOM   1826  CD2 PHE A 242      -1.605  -9.487  -7.046  1.00 98.35           C  \\nATOM   1827  CE1 PHE A 242      -3.340  -9.846  -4.915  1.00 98.35           C  \\nATOM   1828  CE2 PHE A 242      -1.376  -8.827  -5.842  1.00 98.35           C  \\nATOM   1829  CZ  PHE A 242      -2.245  -9.008  -4.778  1.00 98.35           C  \\nATOM   1830  N   VAL A 243      -2.296 -14.238  -8.155  1.00 98.19           N  \\nATOM   1831  CA  VAL A 243      -2.170 -15.435  -7.331  1.00 98.19           C  \\nATOM   1832  C   VAL A 243      -0.725 -15.930  -7.355  1.00 98.19           C  \\nATOM   1833  CB  VAL A 243      -3.125 -16.554  -7.805  1.00 98.19           C  \\nATOM   1834  O   VAL A 243      -0.187 -16.346  -6.326  1.00 98.19           O  \\nATOM   1835  CG1 VAL A 243      -2.819 -17.866  -7.085  1.00 98.19           C  \\nATOM   1836  CG2 VAL A 243      -4.579 -16.144  -7.580  1.00 98.19           C  \\nATOM   1837  N   ASP A 244      -0.115 -15.893  -8.568  1.00 98.07           N  \\nATOM   1838  CA  ASP A 244       1.294 -16.257  -8.678  1.00 98.07           C  \\nATOM   1839  C   ASP A 244       2.169 -15.322  -7.846  1.00 98.07           C  \\nATOM   1840  CB  ASP A 244       1.741 -16.233 -10.141  1.00 98.07           C  \\nATOM   1841  O   ASP A 244       3.152 -15.758  -7.242  1.00 98.07           O  \\nATOM   1842  CG  ASP A 244       1.019 -17.256 -10.999  1.00 98.07           C  \\nATOM   1843  OD1 ASP A 244       0.709 -18.360 -10.501  1.00 98.07           O  \\nATOM   1844  OD2 ASP A 244       0.759 -16.957 -12.185  1.00 98.07           O  \\nATOM   1845  N   ILE A 245       1.854 -14.077  -7.790  1.00 98.41           N  \\nATOM   1846  CA  ILE A 245       2.599 -13.088  -7.018  1.00 98.41           C  \\nATOM   1847  C   ILE A 245       2.438 -13.369  -5.526  1.00 98.41           C  \\nATOM   1848  CB  ILE A 245       2.137 -11.650  -7.346  1.00 98.41           C  \\nATOM   1849  O   ILE A 245       3.405 -13.291  -4.765  1.00 98.41           O  \\nATOM   1850  CG1 ILE A 245       2.488 -11.295  -8.796  1.00 98.41           C  \\nATOM   1851  CG2 ILE A 245       2.760 -10.648  -6.371  1.00 98.41           C  \\nATOM   1852  CD1 ILE A 245       1.843 -10.007  -9.290  1.00 98.41           C  \\nATOM   1853  N   ILE A 246       1.238 -13.760  -5.095  1.00 98.52           N  \\nATOM   1854  CA  ILE A 246       1.003 -14.147  -3.708  1.00 98.52           C  \\nATOM   1855  C   ILE A 246       1.870 -15.353  -3.355  1.00 98.52           C  \\nATOM   1856  CB  ILE A 246      -0.488 -14.467  -3.456  1.00 98.52           C  \\nATOM   1857  O   ILE A 246       2.554 -15.355  -2.329  1.00 98.52           O  \\nATOM   1858  CG1 ILE A 246      -1.339 -13.201  -3.611  1.00 98.52           C  \\nATOM   1859  CG2 ILE A 246      -0.680 -15.089  -2.070  1.00 98.52           C  \\nATOM   1860  CD1 ILE A 246      -2.836 -13.467  -3.686  1.00 98.52           C  \\nATOM   1861  N   LYS A 247       1.933 -16.324  -4.216  1.00 97.96           N  \\nATOM   1862  CA  LYS A 247       2.676 -17.560  -3.992  1.00 97.96           C  \\nATOM   1863  C   LYS A 247       4.179 -17.299  -3.951  1.00 97.96           C  \\nATOM   1864  CB  LYS A 247       2.352 -18.586  -5.079  1.00 97.96           C  \\nATOM   1865  O   LYS A 247       4.916 -17.992  -3.246  1.00 97.96           O  \\nATOM   1866  CG  LYS A 247       0.947 -19.162  -4.988  1.00 97.96           C  \\nATOM   1867  CD  LYS A 247       0.676 -20.156  -6.110  1.00 97.96           C  \\nATOM   1868  CE  LYS A 247      -0.735 -20.723  -6.027  1.00 97.96           C  \\nATOM   1869  NZ  LYS A 247      -1.038 -21.623  -7.180  1.00 97.96           N  \\nATOM   1870  N   ALA A 248       4.610 -16.328  -4.634  1.00 97.71           N  \\nATOM   1871  CA  ALA A 248       6.028 -15.988  -4.715  1.00 97.71           C  \\nATOM   1872  C   ALA A 248       6.560 -15.525  -3.362  1.00 97.71           C  \\nATOM   1873  CB  ALA A 248       6.257 -14.910  -5.771  1.00 97.71           C  \\nATOM   1874  O   ALA A 248       7.771 -15.524  -3.131  1.00 97.71           O  \\nATOM   1875  N   THR A 249       5.625 -15.168  -2.380  1.00 97.07           N  \\nATOM   1876  CA  THR A 249       6.054 -14.671  -1.077  1.00 97.07           C  \\nATOM   1877  C   THR A 249       6.201 -15.819  -0.082  1.00 97.07           C  \\nATOM   1878  CB  THR A 249       5.064 -13.631  -0.523  1.00 97.07           C  \\nATOM   1879  O   THR A 249       6.298 -15.592   1.125  1.00 97.07           O  \\nATOM   1880  CG2 THR A 249       4.875 -12.475  -1.500  1.00 97.07           C  \\nATOM   1881  OG1 THR A 249       3.797 -14.260  -0.294  1.00 97.07           O  \\nATOM   1882  N   GLN A 250       6.184 -16.949  -0.521  1.00 93.32           N  \\nATOM   1883  CA  GLN A 250       6.416 -18.128   0.308  1.00 93.32           C  \\nATOM   1884  C   GLN A 250       7.885 -18.237   0.709  1.00 93.32           C  \\nATOM   1885  CB  GLN A 250       5.977 -19.396  -0.426  1.00 93.32           C  \\nATOM   1886  O   GLN A 250       8.198 -18.582   1.850  1.00 93.32           O  \\nATOM   1887  CG  GLN A 250       6.045 -20.655   0.427  1.00 93.32           C  \\nATOM   1888  CD  GLN A 250       5.495 -21.877  -0.284  1.00 93.32           C  \\nATOM   1889  NE2 GLN A 250       5.278 -22.952   0.465  1.00 93.32           N  \\nATOM   1890  OE1 GLN A 250       5.268 -21.855  -1.498  1.00 93.32           O  \\nTER    1891      GLN A 250                                                      \\nENDMDL                                                                          \\nEND                                                                             \\n\",\"pdb\");\n",
              "\tviewer_1666918811149827.setStyle({\"cartoon\": {\"colorscheme\": {\"prop\": \"b\", \"gradient\": \"roygb\", \"min\": 50, \"max\": 90}}});\n",
              "\tviewer_1666918811149827.zoomTo();\n",
              "viewer_1666918811149827.render();\n",
              "});\n",
              "</script>"
            ]
          },
          "metadata": {}
        }
      ]
    },
    {
      "cell_type": "code",
      "metadata": {
        "id": "33g5IIegij5R"
      },
      "source": [
        "if msa_mode == \"custom\":\n",
        "  print(\"Don't forget to cite your custom MSA generation method.\")\n",
        "\n",
        "!zip -FSr $jobname\".result.zip\" config.json $jobname*\".json\" $jobname*\".a3m\" $jobname*\"relaxed_rank_\"*\".pdb\" \"cite.bibtex\" $jobname*\".png\"\n",
        "files.download(f\"{jobname}.result.zip\")\n",
        "\n",
        "if save_to_google_drive == True and drive:\n",
        "  uploaded = drive.CreateFile({'title': f\"{jobname}.result.zip\"})\n",
        "  uploaded.SetContentFile(f\"{jobname}.result.zip\")\n",
        "  uploaded.Upload()\n",
        "  print(f\"Uploaded {jobname}.result.zip to Google Drive with ID {uploaded.get('id')}\")"
      ],
      "execution_count": null,
      "outputs": []
    }
  ]
}